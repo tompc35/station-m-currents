{
 "cells": [
  {
   "cell_type": "markdown",
   "metadata": {},
   "source": [
    "## UTide analysis of ADCP data"
   ]
  },
  {
   "cell_type": "code",
   "execution_count": 1,
   "metadata": {
    "collapsed": true
   },
   "outputs": [],
   "source": [
    "%matplotlib ipympl\n",
    "\n",
    "import numpy as np\n",
    "import xarray as xr\n",
    "import matplotlib.pyplot as plt\n",
    "import gsw\n",
    "import matplotlib.dates as mdates\n",
    "import utide\n",
    "\n",
    "import datapath"
   ]
  },
  {
   "cell_type": "code",
   "execution_count": 2,
   "metadata": {
    "collapsed": true
   },
   "outputs": [],
   "source": [
    "ds = xr.open_dataset(datapath.adcpnc())"
   ]
  },
  {
   "cell_type": "code",
   "execution_count": 3,
   "metadata": {},
   "outputs": [
    {
     "name": "stdout",
     "output_type": "stream",
     "text": [
      "solve: matrix prep ... solution ... diagnostics ... done.\n",
      "bin 1/23\n",
      "solve: matrix prep ... solution ... diagnostics ... done.\n",
      "bin 2/23\n",
      "solve: matrix prep ... solution ... diagnostics ... done.\n",
      "bin 3/23\n",
      "solve: matrix prep ... solution ... diagnostics ... done.\n",
      "bin 4/23\n",
      "solve: matrix prep ... solution ... diagnostics ... done.\n",
      "bin 5/23\n",
      "solve: matrix prep ... solution ... diagnostics ... done.\n",
      "bin 6/23\n",
      "solve: matrix prep ... solution ... diagnostics ... done.\n",
      "bin 7/23\n",
      "solve: matrix prep ... solution ... diagnostics ... done.\n",
      "bin 8/23\n",
      "solve: matrix prep ... solution ... diagnostics ... done.\n",
      "bin 9/23\n",
      "solve: matrix prep ... solution ... diagnostics ... done.\n",
      "bin 10/23\n",
      "solve: matrix prep ... solution ... diagnostics ... done.\n",
      "bin 11/23\n",
      "solve: matrix prep ... solution ... diagnostics ... done.\n",
      "bin 12/23\n",
      "solve: matrix prep ... solution ... diagnostics ... done.\n",
      "bin 13/23\n",
      "solve: matrix prep ... solution ... diagnostics ... done.\n",
      "bin 14/23\n",
      "solve: matrix prep ... solution ... diagnostics ... done.\n",
      "bin 15/23\n",
      "solve: matrix prep ... solution ... diagnostics ... done.\n",
      "bin 16/23\n",
      "solve: matrix prep ... solution ... diagnostics ... done.\n",
      "bin 17/23\n",
      "solve: matrix prep ... solution ... diagnostics ... done.\n",
      "bin 18/23\n",
      "solve: matrix prep ... solution ... diagnostics ... done.\n",
      "bin 19/23\n",
      "solve: matrix prep ... solution ... diagnostics ... done.\n",
      "bin 20/23\n",
      "solve: matrix prep ... solution ... diagnostics ... done.\n",
      "bin 21/23\n",
      "solve: matrix prep ... solution ... diagnostics ... done.\n",
      "bin 22/23\n",
      "solve: matrix prep ... solution ... diagnostics ... done.\n",
      "bin 23/23\n",
      "solve: matrix prep ... solution ... diagnostics ... done.\n"
     ]
    }
   ],
   "source": [
    "height = ds['binheight'] + 0.4572 # add instrument height (18 inches)\n",
    "\n",
    "time = mdates.date2num(ds['time'])\n",
    "\n",
    "coef = utide.solve(time, ds['Eas'][:,0], ds['Nor'][:,0],\n",
    "         lat=35+8.4585/60,\n",
    "         method='robust')\n",
    "\n",
    "constit_list = coef['name']\n",
    "\n",
    "Lsmaj = np.nan*np.ones([len(height),len(constit_list)])\n",
    "Lsmin = np.nan*np.ones([len(height),len(constit_list)])\n",
    "theta = np.nan*np.ones([len(height),len(constit_list)])\n",
    "g = np.nan*np.ones([len(height),len(constit_list)])\n",
    "SNR = np.nan*np.ones([len(height),len(constit_list)])\n",
    "PE = np.nan*np.ones([len(height),len(constit_list)])\n",
    "\n",
    "Lsmaj_ci = np.nan*np.ones([len(height),len(constit_list)])\n",
    "Lsmin_ci = np.nan*np.ones([len(height),len(constit_list)])\n",
    "theta_ci = np.nan*np.ones([len(height),len(constit_list)])\n",
    "g_ci = np.nan*np.ones([len(height),len(constit_list)])\n",
    "\n",
    "# tidal analysis\n",
    "time = mdates.date2num(ds['time'])\n",
    "for zi in np.arange(len(ds['binheight'])):\n",
    "    print('bin '+str(zi+1)+'/'+str(len(ds['binheight'])))\n",
    "    coef = utide.solve(time, ds['Eas'][:,zi], ds['Nor'][:,zi],\n",
    "             lat=35+8.4585/60,\n",
    "             method='robust')\n",
    "    \n",
    "    ni = np.argsort(coef['aux']['frq'])\n",
    "    \n",
    "    Lsmaj[zi,:] = coef['Lsmaj'][ni]\n",
    "    Lsmin[zi,:] = coef['Lsmin'][ni]\n",
    "    theta[zi,:] = coef['theta'][ni]\n",
    "    g[zi,:] = coef['g'][ni]\n",
    "    SNR[zi,:] = coef['diagn']['SNR'][ni]\n",
    "    PE[zi,:] = coef['diagn']['PE'][ni]\n",
    "    Lsmaj_ci[zi,:] = coef['Lsmaj_ci'][ni]\n",
    "    Lsmin_ci[zi,:] = coef['Lsmin_ci'][ni]\n",
    "    theta_ci[zi,:] = coef['theta_ci'][ni]\n",
    "    g_ci[zi,:] = coef['g_ci'][ni]"
   ]
  },
  {
   "cell_type": "code",
   "execution_count": 4,
   "metadata": {
    "collapsed": true
   },
   "outputs": [],
   "source": [
    "dstide = xr.Dataset({'Lsmaj': (('height', 'constituent'), Lsmaj),\n",
    "                     'Lsmin': (('height', 'constituent'), Lsmin),\n",
    "                     'theta': (('height', 'constituent'), theta),\n",
    "                     'g': (('height', 'constituent'), g),\n",
    "                     'SNR': (('height', 'constituent'), SNR),\n",
    "                     'PE': (('height', 'constituent'), PE),\n",
    "                     'Lsmaj_ci': (('height', 'constituent'), Lsmaj_ci),\n",
    "                     'Lsmin_ci': (('height', 'constituent'), Lsmin_ci),\n",
    "                     'theta_ci': (('height', 'constituent'), theta_ci),\n",
    "                     'g_ci': (('height', 'constituent'), g_ci),\n",
    "                     'freq':(('constituent'),coef['aux']['frq'][ni])},\n",
    "                {'height': np.array(height), 'constituent': coef['name'][ni]})"
   ]
  },
  {
   "cell_type": "code",
   "execution_count": 5,
   "metadata": {
    "collapsed": true
   },
   "outputs": [],
   "source": [
    "dstide.attrs['reftime']= coef['aux']['reftime']"
   ]
  },
  {
   "cell_type": "code",
   "execution_count": 6,
   "metadata": {
    "collapsed": true
   },
   "outputs": [],
   "source": [
    "dstide.to_netcdf('data/utide_results.nc')"
   ]
  }
 ],
 "metadata": {
  "kernelspec": {
   "display_name": "Python [conda env:py37]",
   "language": "python",
   "name": "conda-env-py37-py"
  },
  "language_info": {
   "codemirror_mode": {
    "name": "ipython",
    "version": 3
   },
   "file_extension": ".py",
   "mimetype": "text/x-python",
   "name": "python",
   "nbconvert_exporter": "python",
   "pygments_lexer": "ipython3",
   "version": "3.7.2"
  }
 },
 "nbformat": 4,
 "nbformat_minor": 2
}
