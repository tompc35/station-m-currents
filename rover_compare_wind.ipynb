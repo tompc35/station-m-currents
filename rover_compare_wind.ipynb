{
 "cells": [
  {
   "cell_type": "code",
   "execution_count": 1,
   "metadata": {},
   "outputs": [],
   "source": [
    "%matplotlib ipympl\n",
    "import pandas as pd\n",
    "import xarray as xr\n",
    "import numpy as np\n",
    "import matplotlib.pyplot as plt\n",
    "import matplotlib.dates as mdates\n",
    "import pycwt as wavelet\n",
    "\n",
    "from physoce import tseries as ts\n",
    "from scipy.stats import chi2\n",
    "\n",
    "from airsea.windstress import stress\n",
    "from oceans import cor_beta\n",
    "from glob import glob\n",
    "import gsw\n",
    "import os.path\n",
    "\n",
    "import datapath"
   ]
  },
  {
   "cell_type": "markdown",
   "metadata": {},
   "source": [
    "### Station M location"
   ]
  },
  {
   "cell_type": "code",
   "execution_count": 2,
   "metadata": {},
   "outputs": [],
   "source": [
    "mlat = 35+8.4585/60  \n",
    "mlon = -122-59.9036/60"
   ]
  },
  {
   "cell_type": "markdown",
   "metadata": {},
   "source": [
    "### Load data"
   ]
  },
  {
   "cell_type": "markdown",
   "metadata": {},
   "source": [
    "#### Benthic rover\n",
    "\n",
    "Load data file created in [rover_analysis.ipynb](rover_analysis.ipynb)"
   ]
  },
  {
   "cell_type": "code",
   "execution_count": 3,
   "metadata": {},
   "outputs": [],
   "source": [
    "df_sub = pd.read_csv('data/rover_processed_2015_2018.csv',parse_dates=[0])\n",
    "df_sub = df_sub.set_index('Date_time_R')\n",
    "\n",
    "# resample and interpolate\n",
    "df = df_sub.resample('3H').mean()"
   ]
  },
  {
   "cell_type": "markdown",
   "metadata": {},
   "source": [
    "#### NCEP-NARR"
   ]
  },
  {
   "cell_type": "code",
   "execution_count": 4,
   "metadata": {},
   "outputs": [
    {
     "name": "stderr",
     "output_type": "stream",
     "text": [
      "/Users/tomconnolly/programs/anaconda/envs/py37/lib/python3.7/site-packages/xarray/conventions.py:362: SerializationWarning: variable 'uwnd' has multiple fill values {9.96921e+36, -9.96921e+36}, decoding all values to NaN.\n",
      "  stack_char_dim=stack_char_dim)\n",
      "/Users/tomconnolly/programs/anaconda/envs/py37/lib/python3.7/site-packages/xarray/conventions.py:362: SerializationWarning: variable 'uwnd' has multiple fill values {9.96921e+36, -9.96921e+36}, decoding all values to NaN.\n",
      "  stack_char_dim=stack_char_dim)\n",
      "/Users/tomconnolly/programs/anaconda/envs/py37/lib/python3.7/site-packages/xarray/conventions.py:362: SerializationWarning: variable 'uwnd' has multiple fill values {9.96921e+36, -9.96921e+36}, decoding all values to NaN.\n",
      "  stack_char_dim=stack_char_dim)\n",
      "/Users/tomconnolly/programs/anaconda/envs/py37/lib/python3.7/site-packages/xarray/conventions.py:362: SerializationWarning: variable 'uwnd' has multiple fill values {9.96921e+36, -9.96921e+36}, decoding all values to NaN.\n",
      "  stack_char_dim=stack_char_dim)\n",
      "/Users/tomconnolly/programs/anaconda/envs/py37/lib/python3.7/site-packages/xarray/conventions.py:362: SerializationWarning: variable 'uwnd' has multiple fill values {9.96921e+36, -9.96921e+36}, decoding all values to NaN.\n",
      "  stack_char_dim=stack_char_dim)\n",
      "/Users/tomconnolly/programs/anaconda/envs/py37/lib/python3.7/site-packages/xarray/conventions.py:362: SerializationWarning: variable 'vwnd' has multiple fill values {9.96921e+36, -9.96921e+36}, decoding all values to NaN.\n",
      "  stack_char_dim=stack_char_dim)\n",
      "/Users/tomconnolly/programs/anaconda/envs/py37/lib/python3.7/site-packages/xarray/conventions.py:362: SerializationWarning: variable 'vwnd' has multiple fill values {9.96921e+36, -9.96921e+36}, decoding all values to NaN.\n",
      "  stack_char_dim=stack_char_dim)\n",
      "/Users/tomconnolly/programs/anaconda/envs/py37/lib/python3.7/site-packages/xarray/conventions.py:362: SerializationWarning: variable 'vwnd' has multiple fill values {9.96921e+36, -9.96921e+36}, decoding all values to NaN.\n",
      "  stack_char_dim=stack_char_dim)\n",
      "/Users/tomconnolly/programs/anaconda/envs/py37/lib/python3.7/site-packages/xarray/conventions.py:362: SerializationWarning: variable 'vwnd' has multiple fill values {9.96921e+36, -9.96921e+36}, decoding all values to NaN.\n",
      "  stack_char_dim=stack_char_dim)\n",
      "/Users/tomconnolly/programs/anaconda/envs/py37/lib/python3.7/site-packages/xarray/conventions.py:362: SerializationWarning: variable 'vwnd' has multiple fill values {9.96921e+36, -9.96921e+36}, decoding all values to NaN.\n",
      "  stack_char_dim=stack_char_dim)\n"
     ]
    }
   ],
   "source": [
    "narr_dir = datapath.narr()\n",
    "\n",
    "u_file_list = sorted(glob(os.path.join(narr_dir,'uwnd.10m.*.nc')))\n",
    "v_file_list = sorted(glob(os.path.join(narr_dir,'vwnd.10m.*.nc')))\n",
    "\n",
    "uds = xr.open_mfdataset(u_file_list)\n",
    "vds = xr.open_mfdataset(v_file_list)"
   ]
  },
  {
   "cell_type": "markdown",
   "metadata": {},
   "source": [
    "#### Find NCEP-NARR indices of nearest point to Station M"
   ]
  },
  {
   "cell_type": "code",
   "execution_count": 5,
   "metadata": {},
   "outputs": [],
   "source": [
    "dist = np.array(np.sqrt(((mlat-uds['lat'])*111)**2 + \n",
    "                        ((mlon-uds['lon'])*np.cos(mlat*np.pi/180)*111)**2))"
   ]
  },
  {
   "cell_type": "code",
   "execution_count": 6,
   "metadata": {},
   "outputs": [],
   "source": [
    "idx = np.argmin(dist,axis=None)\n",
    "ii,jj = np.unravel_index(idx,np.shape(dist))"
   ]
  },
  {
   "cell_type": "markdown",
   "metadata": {},
   "source": [
    "#### Compute local wind stress curl forcing"
   ]
  },
  {
   "cell_type": "code",
   "execution_count": 7,
   "metadata": {},
   "outputs": [],
   "source": [
    "dx = 0.5*np.array(vds['x'][jj+1] - vds['x'][jj-1])\n",
    "dy = 0.5*np.array(uds['y'][ii+1] - uds['y'][ii-1])\n",
    "\n",
    "f = np.array(gsw.f(uds['lat']))\n",
    "rho = 1045\n",
    "\n",
    "beta = np.array(cor_beta(uds['lat'][ii,jj]))\n",
    "beta_eff = 7.3e-11\n",
    "H = 4000"
   ]
  },
  {
   "cell_type": "code",
   "execution_count": 8,
   "metadata": {},
   "outputs": [],
   "source": [
    "ext = 2 # length of subset on either side of center\n",
    "ci = ext  # center index"
   ]
  },
  {
   "cell_type": "code",
   "execution_count": 9,
   "metadata": {},
   "outputs": [],
   "source": [
    "uwndsub = np.array(uds['uwnd'][:,np.arange(ii-ext,ii+ext+1),np.arange(jj-ext,jj+ext+1)])\n",
    "vwndsub = np.array(vds['vwnd'][:,np.arange(ii-ext,ii+ext+1),np.arange(jj-ext,jj+ext+1)])"
   ]
  },
  {
   "cell_type": "code",
   "execution_count": 10,
   "metadata": {},
   "outputs": [],
   "source": [
    "fsub = f[slice(ii-ext,ii+ext+1),slice(jj-ext,jj+ext+1)]"
   ]
  },
  {
   "cell_type": "markdown",
   "metadata": {},
   "source": [
    "Wind stress components"
   ]
  },
  {
   "cell_type": "code",
   "execution_count": 11,
   "metadata": {},
   "outputs": [],
   "source": [
    "taux = stress(uwndsub)\n",
    "tauy = stress(vwndsub)"
   ]
  },
  {
   "cell_type": "markdown",
   "metadata": {},
   "source": [
    "Forcing term in Koblinsky et al. (1989), second order difference"
   ]
  },
  {
   "cell_type": "code",
   "execution_count": 12,
   "metadata": {},
   "outputs": [],
   "source": [
    "curl_tau_F_2 = fsub[ci,ci]*((1/(2*dx))*(tauy[:,ci,ci+1]/(rho*fsub[ci,ci+1]) - \n",
    "                           tauy[:,ci,ci-1]/(rho*fsub[ci,ci-1])) - \n",
    "           (1/(2*dy))*(taux[:,ci+1,ci]/(rho*fsub[ci+1,ci]) - \n",
    "                   taux[:,ci-1,ci]/(rho*fsub[ci-1,ci])))"
   ]
  },
  {
   "cell_type": "markdown",
   "metadata": {},
   "source": [
    "Fourth order difference"
   ]
  },
  {
   "cell_type": "code",
   "execution_count": 13,
   "metadata": {},
   "outputs": [],
   "source": [
    "curl_tau_F = fsub[ci,ci]*((1/(12*dx))*(-tauy[:,ci,ci+2]/(rho*fsub[ci,ci+2]) + \n",
    "                                         8*tauy[:,ci,ci+1]/(rho*fsub[ci,ci+1]) - \n",
    "                                         8*tauy[:,ci,ci-1]/(rho*fsub[ci,ci-1]) +\n",
    "                                         tauy[:,ci,ci-2]/(rho*fsub[ci,ci-2])) -\n",
    "           (1/(12*dy))*(-taux[:,ci+2,ci]/(rho*fsub[ci+2,ci]) +\n",
    "                        8*taux[:,ci+1,ci]/(rho*fsub[ci+1,ci]) -\n",
    "                        8*taux[:,ci-1,ci]/(rho*fsub[ci-1,ci]) +\n",
    "                        taux[:,ci-2,ci]/(rho*fsub[ci-2,ci])))"
   ]
  },
  {
   "cell_type": "markdown",
   "metadata": {},
   "source": [
    "Check for consistency between derivative methods"
   ]
  },
  {
   "cell_type": "code",
   "execution_count": 14,
   "metadata": {},
   "outputs": [
    {
     "data": {
      "application/vnd.jupyter.widget-view+json": {
       "model_id": "30479fa8a6f34a0d97e18d97b59e0ded",
       "version_major": 2,
       "version_minor": 0
      },
      "text/plain": [
       "FigureCanvasNbAgg()"
      ]
     },
     "metadata": {},
     "output_type": "display_data"
    },
    {
     "data": {
      "text/plain": [
       "[<matplotlib.lines.Line2D at 0x1c227df630>]"
      ]
     },
     "execution_count": 14,
     "metadata": {},
     "output_type": "execute_result"
    }
   ],
   "source": [
    "plt.figure()\n",
    "plt.plot(curl_tau_F_2,curl_tau_F,'.')"
   ]
  },
  {
   "cell_type": "markdown",
   "metadata": {},
   "source": [
    "Find indices that overlap with Rover data"
   ]
  },
  {
   "cell_type": "code",
   "execution_count": 15,
   "metadata": {},
   "outputs": [],
   "source": [
    "t1 = np.datetime64('2015-11-11T12:00')\n",
    "t2 = np.datetime64('2018-10-14T06:00')\n",
    "\n",
    "curl_time = uds['time']\n",
    "fi, = np.where((curl_time >= t1) & (curl_time <= t2))"
   ]
  },
  {
   "cell_type": "markdown",
   "metadata": {},
   "source": [
    "### Initial plots"
   ]
  },
  {
   "cell_type": "markdown",
   "metadata": {},
   "source": [
    "Compare magnitudes of forcing and observed currents"
   ]
  },
  {
   "cell_type": "code",
   "execution_count": 16,
   "metadata": {},
   "outputs": [
    {
     "data": {
      "application/vnd.jupyter.widget-view+json": {
       "model_id": "7d77d116f9264b2c9b2600c0ab9a188f",
       "version_major": 2,
       "version_minor": 0
      },
      "text/plain": [
       "FigureCanvasNbAgg()"
      ]
     },
     "metadata": {},
     "output_type": "display_data"
    },
    {
     "data": {
      "text/plain": [
       "Text(0, 0.5, '[m/s]')"
      ]
     },
     "execution_count": 16,
     "metadata": {},
     "output_type": "execute_result"
    }
   ],
   "source": [
    "plt.figure(figsize=(7.5,4))\n",
    "plt.plot(curl_time[fi],curl_tau_F_2[fi]/(beta_eff*H))\n",
    "plt.plot(df.index,df['u_f'])\n",
    "plt.legend(['forcing - F','velocity - u'])\n",
    "plt.ylabel('[m/s]')"
   ]
  },
  {
   "cell_type": "markdown",
   "metadata": {},
   "source": [
    "### Wavelet analysis\n",
    "\n",
    "Analysis and plotting based on examples in PyCWT documentation\n",
    "https://pycwt.readthedocs.io/"
   ]
  },
  {
   "cell_type": "markdown",
   "metadata": {},
   "source": [
    "Rover data in Numpy arrays"
   ]
  },
  {
   "cell_type": "code",
   "execution_count": 17,
   "metadata": {},
   "outputs": [],
   "source": [
    "u = np.array(df['u'])\n",
    "v = np.array(df['v'])\n",
    "\n",
    "N = len(u)"
   ]
  },
  {
   "cell_type": "markdown",
   "metadata": {},
   "source": [
    "Normalized time series"
   ]
  },
  {
   "cell_type": "code",
   "execution_count": 18,
   "metadata": {},
   "outputs": [],
   "source": [
    "fstd = np.std(curl_tau_F_2[fi]/(beta_eff*H))  # Standard deviation\n",
    "fvar = fstd ** 2  # Variance\n",
    "f_norm = curl_tau_F_2[fi]/(beta_eff*H) / fstd  # Normalized dataset\n",
    "\n",
    "wstd = np.std(np.squeeze(tauy[fi,ci,ci]))  # Standard deviation\n",
    "wvar = wstd ** 2  # Variance\n",
    "w_norm = np.squeeze(tauy[fi,ci,ci]) / wstd  # Normalized dataset\n",
    "\n",
    "ustd = np.std(u)  # Standard deviation\n",
    "uvar = ustd ** 2  # Variance\n",
    "u_norm = u / ustd  # Normalized dataset\n",
    "\n",
    "vstd = np.std(v)  # Standard deviation\n",
    "vvar = vstd ** 2  # Variance\n",
    "v_norm = v / vstd  # Normalized dataset\n",
    "\n",
    "dt = 1/8 # days\n",
    "\n",
    "mother = wavelet.Morlet(6)\n",
    "s0 = 2 * dt  # Starting scale, in this case 2 * 0.25 years = 6 months\n",
    "dj = 1 / 12  # Twelve sub-octaves per octaves\n",
    "J = 11 / dj  # Seven powers of two with dj sub-octaves\n",
    "alphau, _, _ = wavelet.ar1(u_norm)  # Lag-1 autocorrelation for red noise\n",
    "alphav, _, _ = wavelet.ar1(v_norm)  # Lag-1 autocorrelation for red noise\n",
    "alphaf, _, _ = wavelet.ar1(f_norm)  # Lag-1 autocorrelation for red noise\n",
    "alphaw, _, _ = wavelet.ar1(w_norm)  # Lag-1 autocorrelation for red noise"
   ]
  },
  {
   "cell_type": "markdown",
   "metadata": {},
   "source": [
    "Continuous wavelet transform"
   ]
  },
  {
   "cell_type": "code",
   "execution_count": 19,
   "metadata": {},
   "outputs": [
    {
     "name": "stderr",
     "output_type": "stream",
     "text": [
      "/Users/tomconnolly/programs/anaconda/envs/py37/lib/python3.7/site-packages/scipy/fftpack/basic.py:160: FutureWarning: Using a non-tuple sequence for multidimensional indexing is deprecated; use `arr[tuple(seq)]` instead of `arr[seq]`. In the future this will be interpreted as an array index, `arr[np.array(seq)]`, which will result either in an error or a different result.\n",
      "  z[index] = x\n"
     ]
    }
   ],
   "source": [
    "uwave, uscales, ufreqs, ucoi, ufft, ufftfreqs = wavelet.cwt(u_norm, dt, dj, s0, J,\n",
    "                                                      mother)\n",
    "\n",
    "vwave, vscales, vfreqs, vcoi, vfft, vfftfreqs = wavelet.cwt(v_norm, dt, dj, s0, J,\n",
    "                                                      mother)\n",
    "\n",
    "fwave, fscales, ffreqs, fcoi, ffft, ffftfreqs = wavelet.cwt(f_norm, dt, dj, s0, J,\n",
    "                                                      mother)\n",
    "\n",
    "wwave, wscales, wfreqs, wcoi, wfft, wfftfreqs = wavelet.cwt(w_norm, dt, dj, s0, J,\n",
    "                                                      mother)"
   ]
  },
  {
   "cell_type": "markdown",
   "metadata": {},
   "source": [
    "Significance levels"
   ]
  },
  {
   "cell_type": "code",
   "execution_count": 20,
   "metadata": {},
   "outputs": [],
   "source": [
    "upower = (np.abs(uwave)) ** 2\n",
    "ufft_power = np.abs(ufft) ** 2\n",
    "uperiod = 1 / ufreqs\n",
    "\n",
    "usignif, ufft_theor = wavelet.significance(1.0, dt, uscales, 0, alphau,\n",
    "                                         significance_level=0.99,\n",
    "                                         wavelet=mother)\n",
    "usig99 = np.ones([1, N]) * usignif[:, None]\n",
    "usig99 = upower / usig99\n",
    "\n",
    "vpower = (np.abs(vwave)) ** 2\n",
    "vfft_power = np.abs(vfft) ** 2\n",
    "vperiod = 1 / vfreqs\n",
    "\n",
    "vsignif, vfft_theor = wavelet.significance(1.0, dt, vscales, 0, alphav,\n",
    "                                         significance_level=0.99,\n",
    "                                         wavelet=mother)\n",
    "vsig99 = np.ones([1, N]) * vsignif[:, None]\n",
    "vsig99 = vpower / vsig99\n",
    "\n",
    "fpower = (np.abs(fwave)) ** 2\n",
    "ffft_power = np.abs(ffft) ** 2\n",
    "fperiod = 1 / ffreqs\n",
    "\n",
    "fsignif, ffft_theor = wavelet.significance(1.0, dt, fscales, 0, alphaf,\n",
    "                                         significance_level=0.99,\n",
    "                                         wavelet=mother)\n",
    "fsig99 = np.ones([1, N]) * fsignif[:, None]\n",
    "fsig99 = fpower / fsig99\n",
    "\n",
    "wpower = (np.abs(wwave)) ** 2\n",
    "wfft_power = np.abs(wfft) ** 2\n",
    "wperiod = 1 / wfreqs\n",
    "\n",
    "wsignif, wfft_theor = wavelet.significance(1.0, dt, wscales, 0, alphaw,\n",
    "                                         significance_level=0.99,\n",
    "                                         wavelet=mother)\n",
    "wsig99 = np.ones([1, N]) * wsignif[:, None]\n",
    "wsig99 = wpower / wsig99"
   ]
  },
  {
   "cell_type": "markdown",
   "metadata": {},
   "source": [
    "Plots"
   ]
  },
  {
   "cell_type": "code",
   "execution_count": 21,
   "metadata": {},
   "outputs": [
    {
     "data": {
      "application/vnd.jupyter.widget-view+json": {
       "model_id": "9c1fbc79395746279985a7864e9221b9",
       "version_major": 2,
       "version_minor": 0
      },
      "text/plain": [
       "FigureCanvasNbAgg()"
      ]
     },
     "metadata": {},
     "output_type": "display_data"
    },
    {
     "ename": "NameError",
     "evalue": "name 'time' is not defined",
     "output_type": "error",
     "traceback": [
      "\u001b[0;31m---------------------------------------------------------------------------\u001b[0m",
      "\u001b[0;31mNameError\u001b[0m                                 Traceback (most recent call last)",
      "\u001b[0;32m<ipython-input-21-620fb5709676>\u001b[0m in \u001b[0;36m<module>\u001b[0;34m\u001b[0m\n\u001b[1;32m     11\u001b[0m             extend='both',cmap='RdPu')\n\u001b[1;32m     12\u001b[0m \u001b[0mplt\u001b[0m\u001b[0;34m.\u001b[0m\u001b[0mcolorbar\u001b[0m\u001b[0;34m(\u001b[0m\u001b[0;34m)\u001b[0m\u001b[0;34m\u001b[0m\u001b[0;34m\u001b[0m\u001b[0m\n\u001b[0;32m---> 13\u001b[0;31m \u001b[0mplt\u001b[0m\u001b[0;34m.\u001b[0m\u001b[0mcontour\u001b[0m\u001b[0;34m(\u001b[0m\u001b[0mtime\u001b[0m\u001b[0;34m,\u001b[0m \u001b[0mnp\u001b[0m\u001b[0;34m.\u001b[0m\u001b[0mlog2\u001b[0m\u001b[0;34m(\u001b[0m\u001b[0muperiod\u001b[0m\u001b[0;34m)\u001b[0m\u001b[0;34m,\u001b[0m \u001b[0musig99\u001b[0m\u001b[0;34m,\u001b[0m \u001b[0;34m[\u001b[0m\u001b[0;34m-\u001b[0m\u001b[0;36m99\u001b[0m\u001b[0;34m,\u001b[0m \u001b[0;36m1\u001b[0m\u001b[0;34m]\u001b[0m\u001b[0;34m,\u001b[0m \u001b[0mcolors\u001b[0m\u001b[0;34m=\u001b[0m\u001b[0;34m'k'\u001b[0m\u001b[0;34m,\u001b[0m \u001b[0mlinewidths\u001b[0m\u001b[0;34m=\u001b[0m\u001b[0;36m1\u001b[0m\u001b[0;34m)\u001b[0m\u001b[0;34m\u001b[0m\u001b[0;34m\u001b[0m\u001b[0m\n\u001b[0m\u001b[1;32m     14\u001b[0m yticks = 2 ** np.arange(np.ceil(np.log2(uperiod.min())),\n\u001b[1;32m     15\u001b[0m                            np.ceil(np.log2(uperiod.max())))\n",
      "\u001b[0;31mNameError\u001b[0m: name 'time' is not defined"
     ]
    }
   ],
   "source": [
    "t = mdates.date2num(curl_time[fi])\n",
    "\n",
    "years = mdates.YearLocator()   # every year\n",
    "months = mdates.MonthLocator()  # every month\n",
    "years_fmt = mdates.DateFormatter('%Y')\n",
    "\n",
    "plt.figure(figsize=(6,8))\n",
    "\n",
    "ax1 = plt.subplot(311)\n",
    "plt.contourf(t, np.log2(uperiod), upower,\n",
    "            extend='both',cmap='RdPu')\n",
    "plt.colorbar()\n",
    "plt.contour(time, np.log2(uperiod), usig99, [-99, 1], colors='k', linewidths=1)\n",
    "yticks = 2 ** np.arange(np.ceil(np.log2(uperiod.min())),\n",
    "                           np.ceil(np.log2(uperiod.max())))\n",
    "ax1.set_yticks(np.log2(yticks))\n",
    "ax1.set_yticklabels(yticks)\n",
    "ax1.xaxis.set_major_locator(years)\n",
    "ax1.xaxis.set_major_formatter(years_fmt)\n",
    "ax1.xaxis.set_minor_locator(months)\n",
    "ax1.set_xticklabels([])\n",
    "plt.ylim([np.log2(2),np.log2(uperiod.max())])\n",
    "plt.fill(np.concatenate([t, t[-1:] + dt, t[-1:] + dt,\n",
    "                           t[:1] - dt, t[:1] - dt]),\n",
    "        np.concatenate([np.log2(ucoi), [1e-9], np.log2(uperiod[-1:]),\n",
    "                           np.log2(uperiod[-1:]), [1e-9]]),\n",
    "        'k', alpha=0.5, hatch='x')\n",
    "plt.xticks(rotation=30)\n",
    "plt.ylabel('period [d]')\n",
    "plt.title('wavelet power\\nRover eastward velocity - $u$')\n",
    "\n",
    "ax2 = plt.subplot(312)\n",
    "plt.contourf(t, np.log2(vperiod), vpower,\n",
    "            extend='both',cmap='RdPu')\n",
    "plt.colorbar()\n",
    "plt.contour(time, np.log2(vperiod), vsig99, [-99, 1], colors='k', linewidths=1)\n",
    "yticks = 2 ** np.arange(np.ceil(np.log2(vperiod.min())),\n",
    "                           np.ceil(np.log2(vperiod.max())))\n",
    "ax2.set_yticks(np.log2(yticks))\n",
    "ax2.set_yticklabels(yticks)\n",
    "ax2.xaxis.set_major_locator(years)\n",
    "ax2.xaxis.set_major_formatter(years_fmt)\n",
    "ax2.xaxis.set_minor_locator(months)\n",
    "ax2.set_xticklabels([])\n",
    "plt.ylim([np.log2(2),np.log2(vperiod.max())])\n",
    "plt.fill(np.concatenate([t, t[-1:] + dt, t[-1:] + dt,\n",
    "                           t[:1] - dt, t[:1] - dt]),\n",
    "        np.concatenate([np.log2(vcoi), [1e-9], np.log2(vperiod[-1:]),\n",
    "                           np.log2(vperiod[-1:]), [1e-9]]),\n",
    "        'k', alpha=0.5, hatch='x')\n",
    "plt.xticks(rotation=30)\n",
    "plt.ylabel('period [d]')\n",
    "plt.title('Rover northward velocity - $v$')\n",
    "\n",
    "ax3 = plt.subplot(313)\n",
    "plt.contourf(t, np.log2(fperiod), fpower,\n",
    "            extend='both',cmap='RdPu')\n",
    "plt.colorbar()\n",
    "plt.contour(time, np.log2(fperiod), fsig99, [-99, 1], colors='k', linewidths=1)\n",
    "yticks = 2 ** np.arange(np.ceil(np.log2(fperiod.min())),\n",
    "                           np.ceil(np.log2(fperiod.max())))\n",
    "ax3.set_yticks(np.log2(yticks))\n",
    "ax3.set_yticklabels(yticks)\n",
    "plt.ylim([np.log2(2),np.log2(fperiod.max())])\n",
    "plt.fill(np.concatenate([t, t[-1:] + dt, t[-1:] + dt,\n",
    "                           t[:1] - dt, t[:1] - dt]),\n",
    "        np.concatenate([np.log2(fcoi), [1e-9], np.log2(fperiod[-1:]),\n",
    "                           np.log2(fperiod[-1:]), [1e-9]]),\n",
    "        'k', alpha=0.5, hatch='x')\n",
    "plt.ylabel('period [d]')\n",
    "plt.title('NCEP-NARR wind forcing - $F$')\n",
    "\n",
    "ax3.xaxis.set_major_locator(years)\n",
    "ax3.xaxis.set_major_formatter(years_fmt)\n",
    "ax3.xaxis.set_minor_locator(months)\n",
    "\n",
    "plt.savefig('figures_paper/wavelet_power.png',dpi=1000)\n",
    "plt.savefig('figures_paper/wavelet_power.pdf')"
   ]
  },
  {
   "cell_type": "code",
   "execution_count": null,
   "metadata": {},
   "outputs": [],
   "source": []
  }
 ],
 "metadata": {
  "kernelspec": {
   "display_name": "Python [conda env:py37]",
   "language": "python",
   "name": "conda-env-py37-py"
  },
  "language_info": {
   "codemirror_mode": {
    "name": "ipython",
    "version": 3
   },
   "file_extension": ".py",
   "mimetype": "text/x-python",
   "name": "python",
   "nbconvert_exporter": "python",
   "pygments_lexer": "ipython3",
   "version": "3.7.2"
  }
 },
 "nbformat": 4,
 "nbformat_minor": 2
}
