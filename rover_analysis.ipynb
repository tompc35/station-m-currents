{
 "cells": [
  {
   "cell_type": "code",
   "execution_count": 7,
   "metadata": {},
   "outputs": [],
   "source": [
    "%matplotlib widget\n",
    "import pandas as pd\n",
    "import numpy as np\n",
    "import matplotlib.pyplot as plt\n",
    "from scipy.signal import welch\n",
    "import os\n",
    "import matplotlib.dates as mdates\n",
    "import utide\n",
    "import physoce.tseries as ts\n",
    "\n",
    "from scipy.stats import chi2\n",
    "from statsmodels.stats.multicomp import (pairwise_tukeyhsd,\n",
    "                                         MultiComparison)\n",
    "\n",
    "import datapath"
   ]
  },
  {
   "cell_type": "markdown",
   "metadata": {},
   "source": [
    "### Load data"
   ]
  },
  {
   "cell_type": "markdown",
   "metadata": {},
   "source": [
    "Load Rover data and select time range"
   ]
  },
  {
   "cell_type": "code",
   "execution_count": 8,
   "metadata": {},
   "outputs": [
    {
     "name": "stderr",
     "output_type": "stream",
     "text": [
      "/Users/tomconnolly/programs/anaconda/envs/py37/lib/python3.7/site-packages/ipykernel/__main__.py:17: SettingWithCopyWarning: \n",
      "A value is trying to be set on a copy of a slice from a DataFrame\n",
      "\n",
      "See the caveats in the documentation: http://pandas.pydata.org/pandas-docs/stable/indexing.html#indexing-view-versus-copy\n",
      "/Users/tomconnolly/programs/anaconda/envs/py37/lib/python3.7/site-packages/ipykernel/__main__.py:18: SettingWithCopyWarning: \n",
      "A value is trying to be set on a copy of a slice from a DataFrame\n",
      "\n",
      "See the caveats in the documentation: http://pandas.pydata.org/pandas-docs/stable/indexing.html#indexing-view-versus-copy\n"
     ]
    }
   ],
   "source": [
    "# Load data\n",
    "rover_csv_file = datapath.rover()\n",
    "df_all = pd.read_csv(rover_csv_file,parse_dates=[5])\n",
    "\n",
    "# Datetime index\n",
    "df_all = df_all.set_index('Date_time_R')\n",
    "\n",
    "# Create u and v components with units m/s\n",
    "df_all['u'] = df_all['Easting (cm/sec)']/100\n",
    "df_all['v'] = df_all['Northing (cm/sec)']/100\n",
    "\n",
    "# mask erroneous points \n",
    "# abrupt shift near end of deployment (recovery)\n",
    "bi = ((df_all.index > np.datetime64('2015-06-18T12:00')) &\n",
    "    (df_all.index < np.datetime64('2015-06-20T00:00')))\n",
    "\n",
    "df_all['u'][bi] = np.nan\n",
    "df_all['v'][bi] = np.nan\n",
    "\n",
    "# select time range\n",
    "t1 = np.datetime64('2014-10-11T00:00:00')\n",
    "t2 = np.datetime64('2018-10-17T00:00:00')\n",
    "df_all = df_all.loc[(df_all.index >= t1) & (df_all.index <= t2)]"
   ]
  },
  {
   "cell_type": "markdown",
   "metadata": {},
   "source": [
    "### Tidal analysis\n",
    "\n",
    "Use UTide to extract tidal currents that are phase-locked with astronomical forcing cycles"
   ]
  },
  {
   "cell_type": "code",
   "execution_count": 9,
   "metadata": {},
   "outputs": [
    {
     "name": "stdout",
     "output_type": "stream",
     "text": [
      "solve: matrix prep ... solution ... diagnostics ... done.\n"
     ]
    }
   ],
   "source": [
    "# tidal analysis\n",
    "time = mdates.date2num(df_all.index)\n",
    "\n",
    "coef = utide.solve(time, np.array(df_all['u']), \n",
    "         np.array(df_all['v']),\n",
    "         lat=35+8.4585/60,\n",
    "         method='robust')"
   ]
  },
  {
   "cell_type": "markdown",
   "metadata": {},
   "source": [
    "Select tidal constituents based on signal to noise ratio and frequency"
   ]
  },
  {
   "cell_type": "code",
   "execution_count": 10,
   "metadata": {},
   "outputs": [],
   "source": [
    "crit = (coef['diagn']['SNR'] > 2) & (1/coef['aux']['frq'] < 33)"
   ]
  },
  {
   "cell_type": "markdown",
   "metadata": {},
   "source": [
    "### Resample to hourly values"
   ]
  },
  {
   "cell_type": "code",
   "execution_count": 11,
   "metadata": {},
   "outputs": [
    {
     "name": "stdout",
     "output_type": "stream",
     "text": [
      "prep/calcs ... done.\n"
     ]
    },
    {
     "name": "stderr",
     "output_type": "stream",
     "text": [
      "/Users/tomconnolly/programs/anaconda/envs/py37/lib/python3.7/site-packages/scipy/signal/signaltools.py:491: FutureWarning: Using a non-tuple sequence for multidimensional indexing is deprecated; use `arr[tuple(seq)]` instead of `arr[seq]`. In the future this will be interpreted as an array index, `arr[np.array(seq)]`, which will result either in an error or a different result.\n",
      "  return x[reverse].conj()\n",
      "/Users/tomconnolly/programs/anaconda/envs/py37/lib/python3.7/site-packages/scipy/signal/signaltools.py:251: FutureWarning: Using a non-tuple sequence for multidimensional indexing is deprecated; use `arr[tuple(seq)]` instead of `arr[seq]`. In the future this will be interpreted as an array index, `arr[np.array(seq)]`, which will result either in an error or a different result.\n",
      "  in1zpadded[sc] = in1.copy()\n"
     ]
    }
   ],
   "source": [
    "# resample and interpolate\n",
    "df_all_r = df_all.resample('1H').mean()\n",
    "\n",
    "# Calculate tidal currents at hourly points\n",
    "time_r = mdates.date2num(df_all_r.index)\n",
    "tide_r = utide.reconstruct(time_r,coef,constit=coef['name'][crit])\n",
    "df_all_r['u_tide'] = tide_r.u\n",
    "df_all_r['v_tide'] = tide_r.v\n",
    "df_all_r['u_detide'] = df_all_r['u'] - df_all_r['u_tide']\n",
    "df_all_r['v_detide'] = df_all_r['v'] - df_all_r['v_tide']\n",
    "\n",
    "# interpolate over gaps in detided data\n",
    "df_all_int = df_all_r.interpolate(limit=int(24*3.5))\n",
    "\n",
    "# add tides back in\n",
    "df_all_int['u'] = df_all_int['u_detide'] + df_all_int['u_tide']\n",
    "df_all_int['v'] = df_all_int['v_detide'] + df_all_int['v_tide']\n",
    "\n",
    "# low pass filter hourly data \n",
    "df_all_int['u_f'] = ts.pl64(df_all_int['u_detide'])\n",
    "df_all_int['v_f'] = ts.pl64(df_all_int['v_detide'])\n",
    "\n",
    "# high-pass filtered data with tides removed\n",
    "df_all_int['u_super'] = df_all_int['u'] - df_all_int['u_f'] - df_all_int['u_tide']\n",
    "df_all_int['v_super'] = df_all_int['v'] - df_all_int['v_f'] - df_all_int['v_tide']"
   ]
  },
  {
   "cell_type": "markdown",
   "metadata": {},
   "source": [
    "### Subset with no gaps\n",
    "November 2015-October 2018"
   ]
  },
  {
   "cell_type": "code",
   "execution_count": 12,
   "metadata": {},
   "outputs": [],
   "source": [
    "# select time range\n",
    "t1s = np.datetime64('2015-11-11T13:00:00')\n",
    "t2s = np.datetime64('2018-10-14T07:00:00')\n",
    "df_sub = df_all_int.loc[(df_all_int.index >= t1s) & (df_all_int.index <= t2s)]"
   ]
  },
  {
   "cell_type": "markdown",
   "metadata": {},
   "source": [
    "Write dataframe to csv file"
   ]
  },
  {
   "cell_type": "code",
   "execution_count": 14,
   "metadata": {},
   "outputs": [],
   "source": [
    "csv_file = 'data/rover_processed_2015_2018.csv'\n",
    "df_sub.to_csv(csv_file)"
   ]
  },
  {
   "cell_type": "markdown",
   "metadata": {},
   "source": [
    "### Time series plots"
   ]
  },
  {
   "cell_type": "code",
   "execution_count": 15,
   "metadata": {},
   "outputs": [
    {
     "data": {
      "application/vnd.jupyter.widget-view+json": {
       "model_id": "d8869af085a44adc8aec0bc94431e0cb",
       "version_major": 2,
       "version_minor": 0
      },
      "text/plain": [
       "FigureCanvasNbAgg()"
      ]
     },
     "metadata": {},
     "output_type": "display_data"
    }
   ],
   "source": [
    "t1p = np.datetime64('2016-12-01')\n",
    "t2p = np.datetime64('2017-12-01')\n",
    "\n",
    "t1b = np.datetime64('2017-04-21')\n",
    "t2b = np.datetime64('2017-05-11')\n",
    "\n",
    "plt.figure(figsize=(8,6))\n",
    "plt.subplot(211)\n",
    "h1 = plt.plot(df_sub.index,df_sub['v_f'],'-',color='gray')\n",
    "h2 = plt.plot(df_sub.index,df_sub['u_f'],'k-')\n",
    "plt.ylim([-0.06,0.06])\n",
    "plt.xlim([t1p,t2p])\n",
    "yl = plt.ylim()\n",
    "plt.plot([t1b,t1b],yl,'k--')\n",
    "plt.plot([t2b,t2b],yl,'k--')\n",
    "xl = plt.xlim()\n",
    "yl = plt.ylim()\n",
    "plt.text(xl[0]+0.01*np.diff(xl),yl[1]-0.1*np.diff(yl),'a)')\n",
    "plt.ylabel('[m/s]')\n",
    "plt.title('Benthic rover\\nlow-pass filtered velocity - $u_{l}$,$v_{l}$')\n",
    "plt.legend((h2[0],h1[0]),['u','v'],loc='lower left')\n",
    "\n",
    "plt.subplot(212)\n",
    "plt.plot(df_sub.index,df_sub['v_super'],color='gray')\n",
    "plt.plot(df_sub.index,df_sub['u_super'],color='k')\n",
    "plt.ylim([-0.06,0.06])\n",
    "plt.xlim([t1b,t2b])\n",
    "monthyearFmt = mdates.DateFormatter('%B %d')\n",
    "plt.gca().xaxis.set_major_formatter(monthyearFmt)\n",
    "xl = plt.xlim()\n",
    "yl = plt.ylim()\n",
    "plt.text(xl[0]+0.01*np.diff(xl),yl[1]-0.1*np.diff(yl),'b)')\n",
    "plt.ylabel('[m/s]')\n",
    "plt.title('high-pass filtered velocity, coherent tidal motions removed - $u_{hn}$,$v_{hn}$')\n",
    "plt.tight_layout()\n",
    "\n",
    "plt.savefig('figures_paper/rover_tseries_examples.png',dpi=600)\n",
    "plt.savefig('figures_paper/rover_tseries_examples.pdf')"
   ]
  },
  {
   "cell_type": "markdown",
   "metadata": {},
   "source": [
    "### Spectral analysis"
   ]
  },
  {
   "cell_type": "code",
   "execution_count": 16,
   "metadata": {},
   "outputs": [],
   "source": [
    "u = np.array(df_sub['u'])\n",
    "v = np.array(df_sub['v'])\n",
    "\n",
    "N = len(u)\n",
    "window_width = N/3\n",
    "fu,Su = welch(u,fs=24.,nperseg=window_width,window='hanning')\n",
    "fv,Sv = welch(v,fs=24.,nperseg=window_width,window='hanning')"
   ]
  },
  {
   "cell_type": "code",
   "execution_count": 17,
   "metadata": {},
   "outputs": [
    {
     "data": {
      "application/vnd.jupyter.widget-view+json": {
       "model_id": "12ea2ff3e77a4172a87aa91a4fbf85fb",
       "version_major": 2,
       "version_minor": 0
      },
      "text/plain": [
       "FigureCanvasNbAgg()"
      ]
     },
     "metadata": {},
     "output_type": "display_data"
    }
   ],
   "source": [
    "plt.figure()\n",
    "plt.loglog(fu,Su,'k-')\n",
    "plt.loglog(fv,Sv,'-',color='gray')\n",
    "xl = plt.xlim()\n",
    "plt.xlim(xl[0],np.max(fu))\n",
    "\n",
    "# confidence intervals (Emery and Thomson)\n",
    "dof = 2*window_width\n",
    "edof = (8/3)*dof\n",
    "lower = edof/chi2.ppf(0.975,edof)\n",
    "upper = edof/chi2.ppf(0.025,edof)\n",
    "fplot = 5\n",
    "fac = 0.0008\n",
    "plt.plot(np.array([fplot,fplot]),fac*np.array([lower,upper]),'k-')\n",
    "plt.text(fplot+0.5,fac*np.mean([lower,upper]),'95%',verticalalignment='center')\n",
    "\n",
    "plt.legend(['u','v'])\n",
    "plt.xlabel('frequency [cpd]')\n",
    "plt.ylabel('[m$^2$ s$^{-2}$ cpd$^{-1}$]')\n",
    "plt.title('Benthic Rover\\nNov 2015-Oct 2018')\n",
    "\n",
    "plt.savefig('figures_paper/rover_spectrum.png')\n",
    "plt.savefig('figures_paper/rover_spectrum.pdf')"
   ]
  },
  {
   "cell_type": "markdown",
   "metadata": {},
   "source": [
    "### Descriptive statistics, 60-day means and standard deviations"
   ]
  },
  {
   "cell_type": "code",
   "execution_count": 18,
   "metadata": {},
   "outputs": [],
   "source": [
    "df_all_2M = df_all_int.rolling(24*60,min_periods=24*60,center=True).mean()\n",
    "df_all_2M_mon = df_all_2M.resample('1M').last()\n",
    "df_all_2Mstd = df_all_int.rolling(24*60,min_periods=24*60,center=True).std()\n",
    "df_all_2Mstd_mon = df_all_2Mstd.resample('1M').last()"
   ]
  },
  {
   "cell_type": "code",
   "execution_count": 19,
   "metadata": {},
   "outputs": [
    {
     "data": {
      "application/vnd.jupyter.widget-view+json": {
       "model_id": "4c87d5e90ac14fa29fb0833d7e9eb92a",
       "version_major": 2,
       "version_minor": 0
      },
      "text/plain": [
       "FigureCanvasNbAgg()"
      ]
     },
     "metadata": {},
     "output_type": "display_data"
    }
   ],
   "source": [
    "plt.figure(figsize=(6.5,6.5))\n",
    "plt.subplot(311)\n",
    "plt.plot(df_all_2M_mon.index.month,df_all_2M_mon['u_f'],'ko')\n",
    "plt.plot(df_all_2M_mon.index.month,df_all_2M_mon['v_f'],'^',color='gray')\n",
    "plt.ylim([-0.011,0.011])\n",
    "plt.ylabel('[m/s]')\n",
    "xl = plt.xlim()\n",
    "yl = plt.ylim()\n",
    "plt.text(xl[0]+0.005*np.diff(xl),yl[1]-0.1*np.diff(yl),'a)')\n",
    "plt.gca().set_xticks(np.arange(1,13))\n",
    "plt.gca().set_xticklabels([])\n",
    "plt.legend(['$u$','$v$'],loc=(0.6,0.7))\n",
    "plt.title('60-day mean $u$, $v$ velocity components')\n",
    "\n",
    "plt.subplot(312)\n",
    "plt.plot(df_all_2Mstd_mon.index.month,df_all_2Mstd_mon['u_f'],'ko')\n",
    "plt.ylim([0,0.022])\n",
    "plt.ylabel('[m/s]')\n",
    "xl = plt.xlim()\n",
    "yl = plt.ylim()\n",
    "plt.text(xl[0]+0.005*np.diff(xl),yl[1]-0.1*np.diff(yl),'b)')\n",
    "plt.gca().set_xticks(np.arange(1,13))\n",
    "plt.gca().set_xticklabels([])\n",
    "plt.title('60-day standard deviation - $u_{l}$')\n",
    "\n",
    "plt.subplot(313)\n",
    "plt.plot(df_all_2Mstd_mon.index.month,df_all_2Mstd_mon['u_super'],'ko')\n",
    "plt.ylim([0,0.022])\n",
    "plt.ylabel('[m/s]')\n",
    "xl = plt.xlim()\n",
    "yl = plt.ylim()\n",
    "plt.text(xl[0]+0.005*np.diff(xl),yl[1]-0.1*np.diff(yl),'c)')\n",
    "plt.gca().set_xticks(np.arange(1,13))\n",
    "plt.gca().set_xticklabels(['Jan','Feb','Mar','Apr','May','Jun','Jul','Aug','Sep','Oct','Nov','Dec'])\n",
    "plt.title('60-day standard deviation - $u_{hn}$')\n",
    "plt.tight_layout()\n",
    "\n",
    "plt.savefig('figures_paper/monthly_stats.png',dpi=600)\n",
    "plt.savefig('figures_paper/monthly_stats.pdf')"
   ]
  },
  {
   "cell_type": "markdown",
   "metadata": {},
   "source": [
    "### Test for statistically significant differences between months\n",
    "\n",
    "ANOVA with Tukey HSD post-hoc test to account for multiple comparisons."
   ]
  },
  {
   "cell_type": "code",
   "execution_count": 20,
   "metadata": {},
   "outputs": [],
   "source": [
    "fi = np.isfinite(df_all_2Mstd_mon['u_f'])"
   ]
  },
  {
   "cell_type": "code",
   "execution_count": 21,
   "metadata": {},
   "outputs": [],
   "source": [
    "MultiComp = MultiComparison(df_all_2Mstd_mon['u_f'][fi],\n",
    "                            df_all_2Mstd_mon.index.month[fi])"
   ]
  },
  {
   "cell_type": "code",
   "execution_count": 22,
   "metadata": {},
   "outputs": [
    {
     "name": "stdout",
     "output_type": "stream",
     "text": [
      "Multiple Comparison of Means - Tukey HSD,FWER=0.05\n",
      "============================================\n",
      "group1 group2 meandiff  lower  upper  reject\n",
      "--------------------------------------------\n",
      "  1      2     0.0005  -0.0106 0.0115 False \n",
      "  1      3     0.0016  -0.0095 0.0127 False \n",
      "  1      4     0.0016  -0.0095 0.0127 False \n",
      "  1      5     0.0028  -0.0083 0.0139 False \n",
      "  1      6     0.0072  -0.0048 0.0192 False \n",
      "  1      7     0.0077  -0.0042 0.0197 False \n",
      "  1      8     0.007    -0.005 0.019  False \n",
      "  1      9     0.0065  -0.0055 0.0184 False \n",
      "  1      10    0.0056  -0.0079 0.0192 False \n",
      "  1      11    0.0031  -0.0089 0.0151 False \n",
      "  1      12    0.0025  -0.0086 0.0136 False \n",
      "  2      3     0.0012  -0.0099 0.0122 False \n",
      "  2      4     0.0011   -0.01  0.0122 False \n",
      "  2      5     0.0023  -0.0087 0.0134 False \n",
      "  2      6     0.0067  -0.0052 0.0187 False \n",
      "  2      7     0.0073  -0.0047 0.0192 False \n",
      "  2      8     0.0065  -0.0054 0.0185 False \n",
      "  2      9     0.006    -0.006 0.018  False \n",
      "  2      10    0.0052  -0.0084 0.0188 False \n",
      "  2      11    0.0026  -0.0093 0.0146 False \n",
      "  2      12    0.002   -0.0091 0.0131 False \n",
      "  3      4      -0.0   -0.0111 0.011  False \n",
      "  3      5     0.0012  -0.0099 0.0123 False \n",
      "  3      6     0.0056  -0.0064 0.0175 False \n",
      "  3      7     0.0061  -0.0058 0.0181 False \n",
      "  3      8     0.0054  -0.0066 0.0173 False \n",
      "  3      9     0.0048  -0.0071 0.0168 False \n",
      "  3      10    0.004   -0.0095 0.0176 False \n",
      "  3      11    0.0015  -0.0105 0.0134 False \n",
      "  3      12    0.0009  -0.0102 0.0119 False \n",
      "  4      5     0.0012  -0.0099 0.0123 False \n",
      "  4      6     0.0056  -0.0064 0.0176 False \n",
      "  4      7     0.0062  -0.0058 0.0181 False \n",
      "  4      8     0.0054  -0.0066 0.0174 False \n",
      "  4      9     0.0049  -0.0071 0.0168 False \n",
      "  4      10    0.0041  -0.0095 0.0176 False \n",
      "  4      11    0.0015  -0.0105 0.0135 False \n",
      "  4      12    0.0009  -0.0102 0.012  False \n",
      "  5      6     0.0044  -0.0076 0.0164 False \n",
      "  5      7     0.005    -0.007 0.0169 False \n",
      "  5      8     0.0042  -0.0078 0.0162 False \n",
      "  5      9     0.0037  -0.0083 0.0156 False \n",
      "  5      10    0.0029  -0.0107 0.0164 False \n",
      "  5      11    0.0003  -0.0117 0.0123 False \n",
      "  5      12   -0.0003  -0.0114 0.0108 False \n",
      "  6      7     0.0005  -0.0122 0.0133 False \n",
      "  6      8    -0.0002   -0.013 0.0126 False \n",
      "  6      9    -0.0007  -0.0135 0.0121 False \n",
      "  6      10   -0.0015  -0.0158 0.0128 False \n",
      "  6      11   -0.0041  -0.0169 0.0087 False \n",
      "  6      12   -0.0047  -0.0167 0.0073 False \n",
      "  7      8    -0.0008  -0.0135 0.012  False \n",
      "  7      9    -0.0013  -0.0141 0.0115 False \n",
      "  7      10   -0.0021  -0.0164 0.0122 False \n",
      "  7      11   -0.0047  -0.0174 0.0081 False \n",
      "  7      12   -0.0053  -0.0172 0.0067 False \n",
      "  8      9    -0.0005  -0.0133 0.0123 False \n",
      "  8      10   -0.0013  -0.0156 0.013  False \n",
      "  8      11   -0.0039  -0.0167 0.0089 False \n",
      "  8      12   -0.0045  -0.0165 0.0075 False \n",
      "  9      10   -0.0008  -0.0151 0.0135 False \n",
      "  9      11   -0.0034  -0.0162 0.0094 False \n",
      "  9      12    -0.004  -0.0159 0.008  False \n",
      "  10     11   -0.0026  -0.0169 0.0117 False \n",
      "  10     12   -0.0032  -0.0167 0.0104 False \n",
      "  11     12   -0.0006  -0.0126 0.0114 False \n",
      "--------------------------------------------\n"
     ]
    }
   ],
   "source": [
    "print(MultiComp.tukeyhsd(0.05).summary())"
   ]
  },
  {
   "cell_type": "code",
   "execution_count": 23,
   "metadata": {},
   "outputs": [],
   "source": [
    "MultiComp_std = MultiComparison(df_all_2Mstd_mon['u_f'][fi],\n",
    "                            df_all_2Mstd_mon.index.month[fi])"
   ]
  },
  {
   "cell_type": "markdown",
   "metadata": {},
   "source": [
    "### 60-day running means and standard deviations"
   ]
  },
  {
   "cell_type": "code",
   "execution_count": 24,
   "metadata": {},
   "outputs": [
    {
     "data": {
      "application/vnd.jupyter.widget-view+json": {
       "model_id": "ca6db3ac27d140749065b8a381bf921a",
       "version_major": 2,
       "version_minor": 0
      },
      "text/plain": [
       "FigureCanvasNbAgg()"
      ]
     },
     "metadata": {},
     "output_type": "display_data"
    }
   ],
   "source": [
    "plt.figure(figsize=(7,8))\n",
    "plt.subplot(311)\n",
    "plt.plot(df_all_2M.index,df_all_2M['u_f'],'k-')\n",
    "plt.plot(df_all_2M.index,df_all_2M['v_f'],'--',color='gray')\n",
    "plt.title('60-day running mean')\n",
    "plt.ylim([-0.011,0.011])\n",
    "plt.ylabel('[m/s]')\n",
    "plt.gca().set_xticklabels([])\n",
    "yl = plt.ylim()\n",
    "xl = plt.xlim()\n",
    "plt.text(xl[0]+0.01*np.diff(xl),yl[1]-0.1*np.diff(yl),'a)')\n",
    "plt.legend(['$u$','$v$'])\n",
    "\n",
    "plt.subplot(312)\n",
    "hl = plt.plot(df_all_2Mstd.index,df_all_2Mstd['u_f'],'k-')\n",
    "hh = plt.plot(df_all_2Mstd.index,df_all_2Mstd['u_super'],'-',color='darkgray',lw=2)\n",
    "ht = plt.plot(df_all_2Mstd.index,df_all_2Mstd['u_tide'],'-',color='lightgray')\n",
    "plt.gca().set_xticklabels([])\n",
    "yl = plt.ylim()\n",
    "plt.ylim([0,yl[1]])\n",
    "plt.ylabel('[m/s]')\n",
    "plt.title('60-day running standard deviation - $u$')\n",
    "yl = plt.ylim()\n",
    "xl = plt.xlim()\n",
    "plt.text(xl[0]+0.01*np.diff(xl),yl[1]-0.1*np.diff(yl),'b)')\n",
    "plt.legend([hl[0],ht[0],hh[0]],['$u_{l}$','$u_{hct}$','$u_{hn}$'])\n",
    "\n",
    "plt.subplot(313)\n",
    "plt.plot(df_all_2Mstd.index,df_all_2Mstd['v_f'],'k-')\n",
    "plt.plot(df_all_2Mstd.index,df_all_2Mstd['v_super'],'-',color='darkgray',lw=2)\n",
    "plt.plot(df_all_2Mstd.index,df_all_2Mstd['v_tide'],'-',color='lightgray')\n",
    "plt.xticks(rotation=30)\n",
    "plt.ylim([0,yl[1]])\n",
    "plt.title('60-day running standard deviation - $v$')\n",
    "plt.ylabel('[m/s]')\n",
    "plt.tight_layout()\n",
    "yl = plt.ylim()\n",
    "xl = plt.xlim()\n",
    "plt.text(xl[0]+0.01*np.diff(xl),yl[1]-0.1*np.diff(yl),'c)')\n",
    "\n",
    "plt.savefig('figures_paper/runnning_stats.png',dpi=600)\n",
    "plt.savefig('figures_paper/runnning_stats.pdf')"
   ]
  }
 ],
 "metadata": {
  "kernelspec": {
   "display_name": "Python [conda env:py37]",
   "language": "python",
   "name": "conda-env-py37-py"
  },
  "language_info": {
   "codemirror_mode": {
    "name": "ipython",
    "version": 3
   },
   "file_extension": ".py",
   "mimetype": "text/x-python",
   "name": "python",
   "nbconvert_exporter": "python",
   "pygments_lexer": "ipython3",
   "version": "3.7.2"
  }
 },
 "nbformat": 4,
 "nbformat_minor": 2
}
