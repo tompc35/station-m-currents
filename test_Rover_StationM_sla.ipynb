{
 "cells": [
  {
   "cell_type": "code",
   "execution_count": 1,
   "metadata": {},
   "outputs": [],
   "source": [
    "%matplotlib ipympl\n",
    "\n",
    "import os\n",
    "import numpy as np\n",
    "import pandas as pd\n",
    "import xarray as xr\n",
    "import matplotlib.pyplot as plt\n",
    "from scipy.integrate import cumtrapz\n",
    "from scipy.signal import welch"
   ]
  },
  {
   "cell_type": "code",
   "execution_count": 2,
   "metadata": {},
   "outputs": [],
   "source": [
    "# Load data\n",
    "xls_file = 'data/Rover_II_Current_Mag_Hourly_Avg_pad.xlsx'\n",
    "df = pd.read_excel(xls_file,parse_dates=[6])\n",
    "\n",
    "# Datetime index\n",
    "df = df.set_index('Date_time_R')\n",
    "\n",
    "# Create u and v components with units m/s\n",
    "df['u'] = df['Easting (cm/sec)']/100\n",
    "df['v'] = df['Northing (cm/sec)']/100\n",
    "\n",
    "ds_alt = xr.open_dataset('data/jpl_sla_uv_timeseries.nc')\n",
    "\n",
    "nc_file_tg = '../../Projects/CCS_sea_level/data/noaa_tide_gauge.nc'\n",
    "ds_tg = xr.open_dataset(nc_file_tg)"
   ]
  },
  {
   "cell_type": "code",
   "execution_count": 3,
   "metadata": {},
   "outputs": [
    {
     "data": {
      "text/plain": [
       "<xarray.Dataset>\n",
       "Dimensions:         (position: 8, time: 372528)\n",
       "Coordinates:\n",
       "  * time            (time) datetime64[ns] 1975-01-01 ... 2017-06-30T23:00:00\n",
       "    lat             (position) float64 ...\n",
       "    lon             (position) float64 ...\n",
       "Dimensions without coordinates: position\n",
       "Data variables:\n",
       "    station_name    (position) object ...\n",
       "    waterlevel      (time, position) float64 ...\n",
       "    station_id      (position) object ...\n",
       "    waterlevelfilt  (time, position) float64 ..."
      ]
     },
     "execution_count": 3,
     "metadata": {},
     "output_type": "execute_result"
    }
   ],
   "source": [
    "ds_tg"
   ]
  },
  {
   "cell_type": "code",
   "execution_count": 4,
   "metadata": {},
   "outputs": [
    {
     "data": {
      "text/html": [
       "<div>\n",
       "<style scoped>\n",
       "    .dataframe tbody tr th:only-of-type {\n",
       "        vertical-align: middle;\n",
       "    }\n",
       "\n",
       "    .dataframe tbody tr th {\n",
       "        vertical-align: top;\n",
       "    }\n",
       "\n",
       "    .dataframe thead th {\n",
       "        text-align: right;\n",
       "    }\n",
       "</style>\n",
       "<table border=\"1\" class=\"dataframe\">\n",
       "  <thead>\n",
       "    <tr style=\"text-align: right;\">\n",
       "      <th></th>\n",
       "      <th>Date_time_Merge_hour</th>\n",
       "      <th>Current_mag</th>\n",
       "      <th>Easting (cm/sec)</th>\n",
       "      <th>Northing (cm/sec)</th>\n",
       "      <th>Minutes</th>\n",
       "      <th>Seconds</th>\n",
       "      <th>ABSOLUTE Direction</th>\n",
       "      <th>Heading</th>\n",
       "      <th>u</th>\n",
       "      <th>v</th>\n",
       "    </tr>\n",
       "    <tr>\n",
       "      <th>Date_time_R</th>\n",
       "      <th></th>\n",
       "      <th></th>\n",
       "      <th></th>\n",
       "      <th></th>\n",
       "      <th></th>\n",
       "      <th></th>\n",
       "      <th></th>\n",
       "      <th></th>\n",
       "      <th></th>\n",
       "      <th></th>\n",
       "    </tr>\n",
       "  </thead>\n",
       "  <tbody>\n",
       "    <tr>\n",
       "      <th>2011-11-20 13:11:20</th>\n",
       "      <td>2011-11-20 13:00:00</td>\n",
       "      <td>7.712734</td>\n",
       "      <td>-3.678000</td>\n",
       "      <td>-1.354000</td>\n",
       "      <td>10.8</td>\n",
       "      <td>32.0</td>\n",
       "      <td>69.789580</td>\n",
       "      <td>69.789580</td>\n",
       "      <td>-0.036780</td>\n",
       "      <td>-0.013540</td>\n",
       "    </tr>\n",
       "    <tr>\n",
       "      <th>2011-11-20 13:56:13</th>\n",
       "      <td>2011-11-20 14:00:00</td>\n",
       "      <td>1.711170</td>\n",
       "      <td>1.253333</td>\n",
       "      <td>-0.853333</td>\n",
       "      <td>16.0</td>\n",
       "      <td>13.0</td>\n",
       "      <td>55.750967</td>\n",
       "      <td>304.249033</td>\n",
       "      <td>0.012533</td>\n",
       "      <td>-0.008533</td>\n",
       "    </tr>\n",
       "    <tr>\n",
       "      <th>2011-11-20 14:55:30</th>\n",
       "      <td>2011-11-20 15:00:00</td>\n",
       "      <td>2.024802</td>\n",
       "      <td>1.080000</td>\n",
       "      <td>-1.430000</td>\n",
       "      <td>25.0</td>\n",
       "      <td>30.0</td>\n",
       "      <td>37.061735</td>\n",
       "      <td>322.938265</td>\n",
       "      <td>0.010800</td>\n",
       "      <td>-0.014300</td>\n",
       "    </tr>\n",
       "    <tr>\n",
       "      <th>2011-11-20 15:59:28</th>\n",
       "      <td>2011-11-20 16:00:00</td>\n",
       "      <td>3.567306</td>\n",
       "      <td>-1.413333</td>\n",
       "      <td>-3.036667</td>\n",
       "      <td>19.0</td>\n",
       "      <td>28.0</td>\n",
       "      <td>24.958334</td>\n",
       "      <td>24.958334</td>\n",
       "      <td>-0.014133</td>\n",
       "      <td>-0.030367</td>\n",
       "    </tr>\n",
       "    <tr>\n",
       "      <th>NaT</th>\n",
       "      <td>2011-11-20 17:00:00</td>\n",
       "      <td>NaN</td>\n",
       "      <td>NaN</td>\n",
       "      <td>NaN</td>\n",
       "      <td>NaN</td>\n",
       "      <td>NaN</td>\n",
       "      <td>NaN</td>\n",
       "      <td>NaN</td>\n",
       "      <td>NaN</td>\n",
       "      <td>NaN</td>\n",
       "    </tr>\n",
       "  </tbody>\n",
       "</table>\n",
       "</div>"
      ],
      "text/plain": [
       "                    Date_time_Merge_hour  Current_mag  Easting (cm/sec)  \\\n",
       "Date_time_R                                                               \n",
       "2011-11-20 13:11:20  2011-11-20 13:00:00     7.712734         -3.678000   \n",
       "2011-11-20 13:56:13  2011-11-20 14:00:00     1.711170          1.253333   \n",
       "2011-11-20 14:55:30  2011-11-20 15:00:00     2.024802          1.080000   \n",
       "2011-11-20 15:59:28  2011-11-20 16:00:00     3.567306         -1.413333   \n",
       "NaT                  2011-11-20 17:00:00          NaN               NaN   \n",
       "\n",
       "                     Northing (cm/sec)  Minutes  Seconds  ABSOLUTE Direction  \\\n",
       "Date_time_R                                                                    \n",
       "2011-11-20 13:11:20          -1.354000     10.8     32.0           69.789580   \n",
       "2011-11-20 13:56:13          -0.853333     16.0     13.0           55.750967   \n",
       "2011-11-20 14:55:30          -1.430000     25.0     30.0           37.061735   \n",
       "2011-11-20 15:59:28          -3.036667     19.0     28.0           24.958334   \n",
       "NaT                                NaN      NaN      NaN                 NaN   \n",
       "\n",
       "                        Heading         u         v  \n",
       "Date_time_R                                          \n",
       "2011-11-20 13:11:20   69.789580 -0.036780 -0.013540  \n",
       "2011-11-20 13:56:13  304.249033  0.012533 -0.008533  \n",
       "2011-11-20 14:55:30  322.938265  0.010800 -0.014300  \n",
       "2011-11-20 15:59:28   24.958334 -0.014133 -0.030367  \n",
       "NaT                         NaN       NaN       NaN  "
      ]
     },
     "execution_count": 4,
     "metadata": {},
     "output_type": "execute_result"
    }
   ],
   "source": [
    "df.head()"
   ]
  },
  {
   "cell_type": "code",
   "execution_count": 5,
   "metadata": {},
   "outputs": [
    {
     "data": {
      "text/plain": [
       "<xarray.Dataset>\n",
       "Dimensions:    (time: 187)\n",
       "Coordinates:\n",
       "    Longitude  float32 ...\n",
       "    Latitude   float32 ...\n",
       "    lon        float32 ...\n",
       "    lat        float32 ...\n",
       "  * time       (time) datetime64[ns] 2015-11-26T12:00:00 ... 2018-06-13T12:00:00\n",
       "Data variables:\n",
       "    va         (time) float64 ...\n",
       "    sla_err    (time) float64 ...\n",
       "    ua         (time) float64 ...\n",
       "    sla        (time) float64 ..."
      ]
     },
     "execution_count": 5,
     "metadata": {},
     "output_type": "execute_result"
    }
   ],
   "source": [
    "ds_alt"
   ]
  },
  {
   "cell_type": "code",
   "execution_count": 33,
   "metadata": {},
   "outputs": [
    {
     "name": "stderr",
     "output_type": "stream",
     "text": [
      "/Users/tomconnolly/programs/anaconda/envs/py37/lib/python3.7/site-packages/matplotlib/pyplot.py:514: RuntimeWarning: More than 20 figures have been opened. Figures created through the pyplot interface (`matplotlib.pyplot.figure`) are retained until explicitly closed and may consume too much memory. (To control this warning, see the rcParam `figure.max_open_warning`).\n",
      "  max_open_warning, RuntimeWarning)\n"
     ]
    },
    {
     "data": {
      "application/vnd.jupyter.widget-view+json": {
       "model_id": "134630ff4f244b8eb5b8a9c9e05bf744",
       "version_major": 2,
       "version_minor": 0
      },
      "text/plain": [
       "FigureCanvasNbAgg()"
      ]
     },
     "metadata": {},
     "output_type": "display_data"
    },
    {
     "name": "stderr",
     "output_type": "stream",
     "text": [
      "/Users/tomconnolly/programs/anaconda/envs/py37/lib/python3.7/site-packages/matplotlib/pyplot.py:514: RuntimeWarning: More than 20 figures have been opened. Figures created through the pyplot interface (`matplotlib.pyplot.figure`) are retained until explicitly closed and may consume too much memory. (To control this warning, see the rcParam `figure.max_open_warning`).\n",
      "  max_open_warning, RuntimeWarning)\n"
     ]
    },
    {
     "data": {
      "application/vnd.jupyter.widget-view+json": {
       "model_id": "15d838cc8d9840f688d391d5f183aca6",
       "version_major": 2,
       "version_minor": 0
      },
      "text/plain": [
       "FigureCanvasNbAgg()"
      ]
     },
     "metadata": {},
     "output_type": "display_data"
    },
    {
     "data": {
      "text/plain": [
       "(735964.0, 736024.0)"
      ]
     },
     "execution_count": 33,
     "metadata": {},
     "output_type": "execute_result"
    }
   ],
   "source": [
    "plt.figure()\n",
    "plt.plot(df.index,df['u']);\n",
    "#plt.plot(ds_alt['time'],ds_alt['sla'])\n",
    "plt.ylabel('m/s')\n",
    "plt.title('eastward velocity')\n",
    "plt.plot(ds_tg['time'],ds_tg['waterlevelfilt'][:,5]/3)\n",
    "plt.xlim([np.datetime64('2015-01-01'),np.datetime64('2015-03-01')])\n",
    "\n",
    "plt.figure()\n",
    "plt.plot(df.index,df['v']);\n",
    "#plt.plot(ds_alt['time'],ds_alt['va']/10)\n",
    "plt.ylabel('m/s')\n",
    "plt.title('northward velocity')\n",
    "plt.plot(ds_tg['time'],ds_tg['waterlevelfilt'][:,5]/3)\n",
    "plt.xlim([np.datetime64('2016-01-01'),np.datetime64('2016-03-01')])\n"
   ]
  },
  {
   "cell_type": "code",
   "execution_count": 7,
   "metadata": {},
   "outputs": [],
   "source": [
    "# t1=np.datetime64('2018-02-01')\n",
    "# t2=np.datetime64('2018-02-15')\n",
    "\n",
    "# plt.figure()\n",
    "# plt.plot(ds['time'],ds['Eas'][:,15]);\n",
    "# plt.plot(ds['time'],ds['Nor'][:,15]);\n",
    "# plt.ylabel('m/s')\n",
    "# plt.xlim([t1,t2])\n",
    "# plt.ylim([-0.15,0.15])\n",
    "# plt.legend(['East','North'])\n",
    "# plt.title('full velocity, '+str(t1)+'-'+str(t2)+', bin 15')"
   ]
  },
  {
   "cell_type": "code",
   "execution_count": 8,
   "metadata": {},
   "outputs": [],
   "source": [
    "# t1=np.datetime64('2018-02-01')\n",
    "# t2=np.datetime64('2018-02-15')\n",
    "\n",
    "# plt.figure()\n",
    "# plt.plot(ds['time'],ds['Eas'][:,15]-ds['Eas_tide'][:,15]);\n",
    "# plt.plot(ds['time'],ds['Nor'][:,15]-ds['Nor_tide'][:,15]);\n",
    "# plt.legend(['Bin 15','Bin 1'])\n",
    "# plt.ylabel('m/s')\n",
    "# plt.ylim([-0.15,0.15])\n",
    "# plt.xlim([t1,t2])\n",
    "# plt.legend(['East','North'])\n",
    "# plt.title('detided velocity, '+str(t1)+'-'+str(t2)+', bin 15')"
   ]
  },
  {
   "cell_type": "code",
   "execution_count": 9,
   "metadata": {},
   "outputs": [],
   "source": [
    "# Eas = np.array(ds['Eas'])\n",
    "# Nor = np.array(ds['Nor'])\n",
    "# Eas_tide = np.array(ds['Eas_tide'])\n",
    "# Nor_tide = np.array(ds['Nor_tide'])\n",
    "\n",
    "# N = len(Eas)\n",
    "# fE,SE = welch(Eas[:,5],fs=288.,nperseg=N/6,window='hanning')\n",
    "# fN,SN = welch(Nor[:,5],fs=288.,nperseg=N/6,window='hanning')\n",
    "\n",
    "# #rotary spectrum\n",
    "# fr,Sr = welch(Eas[:,5]+1j*Nor[:,5],\n",
    "#               fs=288.,nperseg=N/6,\n",
    "#               window='hann',return_onesided=False)\n",
    "# icw, = np.where(fr<0)\n",
    "# iccw, = np.where(fr>0)\n",
    "# fcw = -fr[icw]\n",
    "# Scw = Sr[icw]\n",
    "# fccw = fr[iccw]\n",
    "# Sccw = Sr[iccw]"
   ]
  },
  {
   "cell_type": "code",
   "execution_count": 10,
   "metadata": {},
   "outputs": [],
   "source": [
    "# plt.figure()\n",
    "# plt.loglog(fcw,Scw)\n",
    "# plt.loglog(fccw,Sccw)\n",
    "# plt.legend(['CW','CCW'])"
   ]
  },
  {
   "cell_type": "markdown",
   "metadata": {},
   "source": [
    "### Future processing steps\n",
    "* Fill small gaps\n",
    "* QC based on correlation, percent good, etc.\n",
    "\n",
    "### Ideas for future analysis\n",
    "\n",
    "* Wavelet analysis: isolate time variability of inertial band\n",
    "* Relate inertial currents to local wind\n",
    "* Complex correlation of low-pass filtered currents\n",
    "* Is low frequency variability due to eddies? Relate to satellite altimeter data\n",
    "* Explore relationship to local and remote wind stress curl\n",
    "* Read Clarke paper on (\"too fast\") Rossby wave propagation in CalCOFI region\n",
    "* Compare tidal currents to OSU model\n",
    "* Progressive vector diagram\n",
    "* Rover data - Lomb-Scargle periodogram - analysis of eddy variability at O(100 day) periods - see Stabeno et al."
   ]
  },
  {
   "cell_type": "code",
   "execution_count": null,
   "metadata": {},
   "outputs": [],
   "source": []
  }
 ],
 "metadata": {
  "kernelspec": {
   "display_name": "Python [conda env:py37]",
   "language": "python",
   "name": "conda-env-py37-py"
  },
  "language_info": {
   "codemirror_mode": {
    "name": "ipython",
    "version": 3
   },
   "file_extension": ".py",
   "mimetype": "text/x-python",
   "name": "python",
   "nbconvert_exporter": "python",
   "pygments_lexer": "ipython3",
   "version": "3.7.2"
  }
 },
 "nbformat": 4,
 "nbformat_minor": 2
}
