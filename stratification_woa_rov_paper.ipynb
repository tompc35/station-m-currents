{
 "cells": [
  {
   "cell_type": "code",
   "execution_count": 1,
   "metadata": {},
   "outputs": [],
   "source": [
    "%matplotlib ipympl\n",
    "import pandas as pd\n",
    "import xarray as xr\n",
    "import numpy as np\n",
    "import matplotlib.pyplot as plt\n",
    "import gsw\n",
    "from glob import glob"
   ]
  },
  {
   "cell_type": "code",
   "execution_count": 2,
   "metadata": {},
   "outputs": [],
   "source": [
    "temp_nc = 'https://data.nodc.noaa.gov/thredds/dodsC/nodc/archive/data/0114815/public/temperature/netcdf/decav/1.00/woa13_decav_t00_01.nc'\n",
    "sal_nc = 'https://data.nodc.noaa.gov/thredds/dodsC/nodc/archive/data/0114815/public/salinity/netcdf/decav/1.00/woa13_decav_s00_01.nc'"
   ]
  },
  {
   "cell_type": "code",
   "execution_count": 3,
   "metadata": {},
   "outputs": [],
   "source": [
    "temp = xr.open_dataset(temp_nc,decode_times=False)\n",
    "sal = xr.open_dataset(sal_nc,decode_times=False)"
   ]
  },
  {
   "cell_type": "code",
   "execution_count": 4,
   "metadata": {},
   "outputs": [],
   "source": [
    "# position of ADCP sent by Crissy\n",
    "mlat = 35+8.4585/60  \n",
    "mlon = -122-59.9036/60"
   ]
  },
  {
   "cell_type": "code",
   "execution_count": 5,
   "metadata": {},
   "outputs": [],
   "source": [
    "f = gsw.f(mlat)"
   ]
  },
  {
   "cell_type": "code",
   "execution_count": 6,
   "metadata": {},
   "outputs": [],
   "source": [
    "ii = np.array(np.argmin(np.abs(mlat-temp['lat'])))\n",
    "jj = np.array(np.argmin(np.abs(mlon-temp['lon'])))"
   ]
  },
  {
   "cell_type": "code",
   "execution_count": 7,
   "metadata": {},
   "outputs": [],
   "source": [
    "mtemp_an = np.squeeze(temp['t_an'][0,:,ii,jj])\n",
    "msal_an = np.squeeze(sal['s_an'][0,:,ii,jj])\n",
    "mtemp_mn = np.squeeze(temp['t_mn'][0,:,ii,jj])\n",
    "msal_mn = np.squeeze(sal['s_mn'][0,:,ii,jj])\n",
    "mz = np.array(temp['depth'])"
   ]
  },
  {
   "cell_type": "code",
   "execution_count": 8,
   "metadata": {},
   "outputs": [],
   "source": [
    "mpr = gsw.p_from_z(-mz,temp['lat'][ii])\n",
    "mSA_mn = msal_mn\n",
    "#mSA_mn = gsw.SA_from_SP(msal_mn, mpr, temp['lon'][jj], temp['lat'][ii])\n",
    "mCT_mn = gsw.CT_from_t(mSA_mn,mtemp_mn,mpr)\n",
    "msigma0 = gsw.sigma0(mSA_mn,mCT_mn)\n",
    "msigma4 = gsw.sigma4(mSA_mn,mCT_mn)\n",
    "\n",
    "mNsq,mpr_mid = gsw.Nsquared(mSA_mn,mCT_mn,mpr,lat=temp['lat'][ii])\n",
    "mN = np.sqrt(mNsq)"
   ]
  },
  {
   "cell_type": "code",
   "execution_count": 9,
   "metadata": {},
   "outputs": [],
   "source": [
    "ctd_dir = 'data/CTD_data_Station_M/'\n",
    "\n",
    "file_list = glob(ctd_dir+'*CtdDer.txt')\n",
    "\n",
    "#filename = '2006347tibrCtdDer.txt'"
   ]
  },
  {
   "cell_type": "code",
   "execution_count": 10,
   "metadata": {},
   "outputs": [],
   "source": [
    "mlat = 35+8.4585/60  \n",
    "mlon = -122-59.9036/60"
   ]
  },
  {
   "cell_type": "code",
   "execution_count": 11,
   "metadata": {},
   "outputs": [],
   "source": [
    "dz = 1\n",
    "salspike_thresh = 0.05"
   ]
  },
  {
   "cell_type": "code",
   "execution_count": 12,
   "metadata": {},
   "outputs": [
    {
     "data": {
      "application/vnd.jupyter.widget-view+json": {
       "model_id": "2a892dfff1684f9ba88a33b4f6949117",
       "version_major": 2,
       "version_minor": 0
      },
      "text/plain": [
       "FigureCanvasNbAgg()"
      ]
     },
     "metadata": {},
     "output_type": "display_data"
    },
    {
     "name": "stderr",
     "output_type": "stream",
     "text": [
      "/Users/tomconnolly/programs/anaconda/envs/py37/lib/python3.7/site-packages/ipykernel/__main__.py:18: SettingWithCopyWarning: \n",
      "A value is trying to be set on a copy of a slice from a DataFrame\n",
      "\n",
      "See the caveats in the documentation: http://pandas.pydata.org/pandas-docs/stable/indexing.html#indexing-view-versus-copy\n",
      "/Users/tomconnolly/programs/anaconda/envs/py37/lib/python3.7/site-packages/ipykernel/__main__.py:19: SettingWithCopyWarning: \n",
      "A value is trying to be set on a copy of a slice from a DataFrame\n",
      "\n",
      "See the caveats in the documentation: http://pandas.pydata.org/pandas-docs/stable/indexing.html#indexing-view-versus-copy\n",
      "/Users/tomconnolly/programs/anaconda/envs/py37/lib/python3.7/site-packages/ipykernel/__main__.py:20: SettingWithCopyWarning: \n",
      "A value is trying to be set on a copy of a slice from a DataFrame\n",
      "\n",
      "See the caveats in the documentation: http://pandas.pydata.org/pandas-docs/stable/indexing.html#indexing-view-versus-copy\n"
     ]
    },
    {
     "name": "stdout",
     "output_type": "stream",
     "text": [
      "2007.0 262.0\n",
      "2007.0 157.0\n"
     ]
    },
    {
     "name": "stderr",
     "output_type": "stream",
     "text": [
      "/Users/tomconnolly/programs/anaconda/envs/py37/lib/python3.7/site-packages/ipykernel/__main__.py:18: SettingWithCopyWarning: \n",
      "A value is trying to be set on a copy of a slice from a DataFrame\n",
      "\n",
      "See the caveats in the documentation: http://pandas.pydata.org/pandas-docs/stable/indexing.html#indexing-view-versus-copy\n",
      "/Users/tomconnolly/programs/anaconda/envs/py37/lib/python3.7/site-packages/ipykernel/__main__.py:19: SettingWithCopyWarning: \n",
      "A value is trying to be set on a copy of a slice from a DataFrame\n",
      "\n",
      "See the caveats in the documentation: http://pandas.pydata.org/pandas-docs/stable/indexing.html#indexing-view-versus-copy\n",
      "/Users/tomconnolly/programs/anaconda/envs/py37/lib/python3.7/site-packages/ipykernel/__main__.py:20: SettingWithCopyWarning: \n",
      "A value is trying to be set on a copy of a slice from a DataFrame\n",
      "\n",
      "See the caveats in the documentation: http://pandas.pydata.org/pandas-docs/stable/indexing.html#indexing-view-versus-copy\n"
     ]
    },
    {
     "name": "stdout",
     "output_type": "stream",
     "text": [
      "2007.0 266.0\n",
      "2006.0 348.0\n",
      "2007.0 261.0\n",
      "2007.0 265.0\n",
      "2007.0 33.0\n",
      "2007.0 160.0\n",
      "2007.0 159.0\n"
     ]
    },
    {
     "name": "stderr",
     "output_type": "stream",
     "text": [
      "/Users/tomconnolly/programs/anaconda/envs/py37/lib/python3.7/site-packages/ipykernel/__main__.py:37: RuntimeWarning: invalid value encountered in sqrt\n"
     ]
    },
    {
     "name": "stdout",
     "output_type": "stream",
     "text": [
      "2007.0 34.0\n",
      "2007.0 35.0\n",
      "2007.0 158.0\n",
      "2007.0 31.0\n",
      "2007.0 161.0\n",
      "2007.0 32.0\n",
      "2007.0 162.0\n",
      "2006.0 347.0\n",
      "2006.0 349.0\n",
      "2007.0 264.0\n",
      "2007.0 267.0\n",
      "2007.0 156.0\n",
      "2007.0 263.0\n"
     ]
    }
   ],
   "source": [
    "dflist = []\n",
    "\n",
    "plt.figure()\n",
    "ax1 = plt.subplot(121)\n",
    "ax2 = plt.subplot(122)\n",
    "\n",
    "cnt = 0\n",
    "for i,filename in enumerate(file_list):\n",
    "    try:\n",
    "        df = pd.read_csv(filename)\n",
    "        \n",
    "        \n",
    "        #spi, = np.where((np.abs(np.diff(df['salin']))>0.2) | (np.abs(np.diff(df['pres']))>10))\n",
    "        spi, = np.where((np.abs(np.diff(df['salin'][:-1]))>salspike_thresh) & \n",
    "                        (np.abs(np.diff(df['salin'][1:]))>salspike_thresh))\n",
    "        spi = spi+1\n",
    "        \n",
    "        df['salin'][spi] = np.nan\n",
    "        df['sigmat'][spi] = np.nan\n",
    "        df['sigmatheta'][spi] = np.nan\n",
    "        \n",
    "        df['SA'] = gsw.SA_from_SP(df['salin'], df['pres'], mlon, mlat)\n",
    "        df['CT'] = gsw.CT_from_t(df['SA'],df['temp'],df['pres'])\n",
    "        df['sigma0'] = gsw.sigma0(df['SA'],df['CT'])\n",
    "        df['sigma4'] = gsw.sigma4(df['SA'],df['CT'])\n",
    "        \n",
    "        df['zp'] = np.floor(df['pres']/dz+0.5)*dz\n",
    "        dfm = df.groupby('zp').mean()\n",
    "        \n",
    "        #dfm['SA'] = dfm['SA'].rolling(25).median()\n",
    "        #dfm['CT'] = dfm['CT'].rolling(25).median()\n",
    "        dfm['SA'] = dfm['SA'].rolling(50,win_type='hanning').mean()\n",
    "        dfm['CT'] = dfm['CT'].rolling(50,win_type='hanning').mean()\n",
    "        #dfm['SA'] = dfm['sigmatheta'].rolling(25,win_type='hanning').mean()\n",
    "        \n",
    "        Nsq,pr_mid = gsw.Nsquared(dfm['SA'],dfm['CT'],dfm.index,lat=mlat)\n",
    "        N = np.sqrt(Nsq)\n",
    "        \n",
    "        if i==0:\n",
    "            dfall = dfm\n",
    "        else:\n",
    "            dfall = dfall.append(dfm)\n",
    "        \n",
    "        hrov, = ax1.plot(dfm['sigma4'],dfm.index,color='gray',lw=0.5)\n",
    "        ax2.semilogx(N,pr_mid,color='gray',lw=0.5)\n",
    "        \n",
    "        cnt = cnt+1\n",
    "        print(np.array(dfm['year'])[0],np.array(dfm['day'])[0])\n",
    "    except:\n",
    "        pass\n",
    "\n",
    "hwod, = ax1.plot(msigma4,mpr,'k-',lw=2)\n",
    "ax1.invert_yaxis()\n",
    "ax1.legend((hrov,hwod),('ROV','World Ocean Atlas'))\n",
    "ax1.set_ylabel('pressure [dbar]')\n",
    "ax1.set_xlabel('$\\sigma_4$ [kg/m$^3$]')\n",
    "ax1.set_title('potential density\\n4000 dbar reference')\n",
    "xl = ax1.get_xlim()\n",
    "yl = ax1.get_ylim()\n",
    "ax1.set_ylim([yl[0],0])\n",
    "ax1.text(xl[0]+0.04*np.diff(xl),yl[1]-0.1*np.diff(yl),'a)')\n",
    "\n",
    "ax2.semilogx(mN,mpr_mid,'k-',lw=2)\n",
    "ax2.invert_yaxis()\n",
    "ax2.get_yaxis().set_ticklabels([])\n",
    "ax2.set_title('buoyancy frequency')\n",
    "ax2.set_xlabel('$N$ [rad s$^{-1}$]')\n",
    "xl = ax2.get_xlim()\n",
    "yl = ax2.get_ylim()\n",
    "ax2.set_ylim([yl[0],0])\n",
    "ax2.text(xl[0]+0.001*np.diff(xl),yl[1]-0.1*np.diff(yl),'b)')\n",
    "plt.tight_layout()\n",
    "plt.savefig('figures_paper/water_column_strat.pdf')\n",
    "plt.savefig('figures_paper/water_column_strat.png')"
   ]
  },
  {
   "cell_type": "code",
   "execution_count": 13,
   "metadata": {},
   "outputs": [
    {
     "data": {
      "text/plain": [
       "(4262.349084084949, -200.33076578392317)"
      ]
     },
     "execution_count": 13,
     "metadata": {},
     "output_type": "execute_result"
    }
   ],
   "source": [
    "yl"
   ]
  },
  {
   "cell_type": "code",
   "execution_count": 14,
   "metadata": {},
   "outputs": [
    {
     "data": {
      "text/plain": [
       "60.48"
      ]
     },
     "execution_count": 14,
     "metadata": {},
     "output_type": "execute_result"
    }
   ],
   "source": [
    "0.0007*86400"
   ]
  },
  {
   "cell_type": "code",
   "execution_count": 15,
   "metadata": {},
   "outputs": [
    {
     "data": {
      "text/plain": [
       "2007.0"
      ]
     },
     "execution_count": 15,
     "metadata": {},
     "output_type": "execute_result"
    }
   ],
   "source": [
    "np.array(dfm['year'])[0]"
   ]
  },
  {
   "cell_type": "code",
   "execution_count": 41,
   "metadata": {},
   "outputs": [
    {
     "name": "stderr",
     "output_type": "stream",
     "text": [
      "/Users/tomconnolly/programs/anaconda/envs/py37/lib/python3.7/site-packages/matplotlib/pyplot.py:514: RuntimeWarning: More than 20 figures have been opened. Figures created through the pyplot interface (`matplotlib.pyplot.figure`) are retained until explicitly closed and may consume too much memory. (To control this warning, see the rcParam `figure.max_open_warning`).\n",
      "  max_open_warning, RuntimeWarning)\n"
     ]
    },
    {
     "data": {
      "application/vnd.jupyter.widget-view+json": {
       "model_id": "10171a369517494dbf77dc825472f074",
       "version_major": 2,
       "version_minor": 0
      },
      "text/plain": [
       "FigureCanvasNbAgg()"
      ]
     },
     "metadata": {},
     "output_type": "display_data"
    },
    {
     "name": "stderr",
     "output_type": "stream",
     "text": [
      "/Users/tomconnolly/programs/anaconda/envs/py37/lib/python3.7/site-packages/ipykernel/__main__.py:13: SettingWithCopyWarning: \n",
      "A value is trying to be set on a copy of a slice from a DataFrame\n",
      "\n",
      "See the caveats in the documentation: http://pandas.pydata.org/pandas-docs/stable/indexing.html#indexing-view-versus-copy\n",
      "/Users/tomconnolly/programs/anaconda/envs/py37/lib/python3.7/site-packages/ipykernel/__main__.py:14: SettingWithCopyWarning: \n",
      "A value is trying to be set on a copy of a slice from a DataFrame\n",
      "\n",
      "See the caveats in the documentation: http://pandas.pydata.org/pandas-docs/stable/indexing.html#indexing-view-versus-copy\n",
      "/Users/tomconnolly/programs/anaconda/envs/py37/lib/python3.7/site-packages/ipykernel/__main__.py:15: SettingWithCopyWarning: \n",
      "A value is trying to be set on a copy of a slice from a DataFrame\n",
      "\n",
      "See the caveats in the documentation: http://pandas.pydata.org/pandas-docs/stable/indexing.html#indexing-view-versus-copy\n",
      "/Users/tomconnolly/programs/anaconda/envs/py37/lib/python3.7/site-packages/ipykernel/__main__.py:32: RuntimeWarning: invalid value encountered in sqrt\n"
     ]
    },
    {
     "name": "stdout",
     "output_type": "stream",
     "text": [
      "2007.0 262.0\n",
      "2007.0 157.0\n",
      "2007.0 266.0\n",
      "2006.0 348.0\n",
      "2007.0 261.0\n",
      "2007.0 265.0\n",
      "2007.0 33.0\n",
      "2007.0 160.0\n",
      "2007.0 159.0\n",
      "2007.0 34.0\n",
      "2007.0 35.0\n",
      "2007.0 158.0\n",
      "2007.0 31.0\n",
      "2007.0 161.0\n",
      "2007.0 32.0\n",
      "2007.0 162.0\n",
      "2006.0 347.0\n",
      "2006.0 349.0\n",
      "2007.0 264.0\n",
      "2007.0 267.0\n",
      "2007.0 156.0\n",
      "2007.0 263.0\n"
     ]
    },
    {
     "data": {
      "text/plain": [
       "(1.1, 1.3)"
      ]
     },
     "execution_count": 41,
     "metadata": {},
     "output_type": "execute_result"
    }
   ],
   "source": [
    "plt.figure()\n",
    "\n",
    "for i,filename in enumerate(file_list):\n",
    "    try:\n",
    "        df = pd.read_csv(filename)\n",
    "        \n",
    "        \n",
    "        #spi, = np.where((np.abs(np.diff(df['salin']))>0.2) | (np.abs(np.diff(df['pres']))>10))\n",
    "        spi, = np.where((np.abs(np.diff(df['salin'][:-1]))>salspike_thresh) & \n",
    "                        (np.abs(np.diff(df['salin'][1:]))>salspike_thresh))\n",
    "        spi = spi+1\n",
    "        \n",
    "        df['salin'][spi] = np.nan\n",
    "        df['sigmat'][spi] = np.nan\n",
    "        df['sigmatheta'][spi] = np.nan\n",
    "        \n",
    "        df['SA'] = gsw.SA_from_SP(df['salin'], df['pres'], mlon, mlat)\n",
    "        df['CT'] = gsw.CT_from_t(df['SA'],df['temp'],df['pres'])\n",
    "        df['sigma0'] = gsw.sigma0(df['SA'],df['CT'])\n",
    "        df['sigma4'] = gsw.sigma4(df['SA'],df['CT'])\n",
    "        \n",
    "        df['zp'] = np.floor(df['pres']/dz+0.5)*dz\n",
    "        dfm = df.groupby('zp').mean()\n",
    "        \n",
    "        #dfm['SA'] = dfm['SA'].rolling(25).median()\n",
    "        #dfm['CT'] = dfm['CT'].rolling(25).median()\n",
    "#         dfm['SA'] = dfm['SA'].rolling(50,win_type='hanning').mean()\n",
    "#         dfm['CT'] = dfm['CT'].rolling(50,win_type='hanning').mean()\n",
    "        #dfm['SA'] = dfm['sigmatheta'].rolling(25,win_type='hanning').mean()\n",
    "        \n",
    "        Nsq,pr_mid = gsw.Nsquared(dfm['SA'],dfm['CT'],dfm.index,lat=mlat)\n",
    "        N = np.sqrt(Nsq)\n",
    "        \n",
    "        if i==0:\n",
    "            dfall = dfm\n",
    "        else:\n",
    "            dfall = dfall.append(dfm)\n",
    "        \n",
    "        hrov, = plt.plot(df['CT'],df['pres'],color='gray',lw=0.5)\n",
    "        plt.ylim([4025,3850])\n",
    "        \n",
    "        cnt = cnt+1\n",
    "        print(np.array(dfm['year'])[0],np.array(dfm['day'])[0])\n",
    "    except:\n",
    "        pass\n",
    "    \n",
    "plt.xlim([1.1,1.3])"
   ]
  },
  {
   "cell_type": "code",
   "execution_count": null,
   "metadata": {},
   "outputs": [],
   "source": []
  }
 ],
 "metadata": {
  "kernelspec": {
   "display_name": "Python [conda env:py37]",
   "language": "python",
   "name": "conda-env-py37-py"
  },
  "language_info": {
   "codemirror_mode": {
    "name": "ipython",
    "version": 3
   },
   "file_extension": ".py",
   "mimetype": "text/x-python",
   "name": "python",
   "nbconvert_exporter": "python",
   "pygments_lexer": "ipython3",
   "version": "3.7.2"
  }
 },
 "nbformat": 4,
 "nbformat_minor": 2
}
