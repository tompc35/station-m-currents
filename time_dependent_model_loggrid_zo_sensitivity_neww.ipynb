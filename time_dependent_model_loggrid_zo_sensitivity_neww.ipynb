{
 "cells": [
  {
   "cell_type": "code",
   "execution_count": 1,
   "metadata": {},
   "outputs": [],
   "source": [
    "%matplotlib widget\n",
    "import numpy as np\n",
    "import matplotlib.pyplot as plt\n",
    "import xarray as xr\n",
    "\n",
    "import gsw\n",
    "\n",
    "from scipy.integrate import solve_ivp\n",
    "\n",
    "from scipy.interpolate import interp1d"
   ]
  },
  {
   "cell_type": "code",
   "execution_count": 2,
   "metadata": {},
   "outputs": [],
   "source": [
    "ds = xr.open_dataset('data/MBARI_StationM_ADCP_201711_201811.nc')"
   ]
  },
  {
   "cell_type": "code",
   "execution_count": 3,
   "metadata": {},
   "outputs": [],
   "source": [
    "lat = 35+8.4585/60\n",
    "bini = 15"
   ]
  },
  {
   "cell_type": "markdown",
   "metadata": {},
   "source": [
    "Smooth ADCP time series\n",
    "* 30-min running median to remove spikes\n",
    "* 60-min running mean to smooth"
   ]
  },
  {
   "cell_type": "code",
   "execution_count": 4,
   "metadata": {},
   "outputs": [
    {
     "data": {
      "text/plain": [
       "<xarray.DataArray 'binheight' ()>\n",
       "array(17.14)"
      ]
     },
     "execution_count": 4,
     "metadata": {},
     "output_type": "execute_result"
    }
   ],
   "source": [
    "ds['binheight'][bini]"
   ]
  },
  {
   "cell_type": "code",
   "execution_count": 5,
   "metadata": {},
   "outputs": [],
   "source": [
    "ds['Eas_sm'] = ds['Eas'].rolling(time=6,center=True).median().rolling(time=12,center=True).mean()\n",
    "ds['Nor_sm'] = ds['Nor'].rolling(time=6,center=True).median().rolling(time=12,center=True).mean()"
   ]
  },
  {
   "cell_type": "code",
   "execution_count": 6,
   "metadata": {},
   "outputs": [
    {
     "data": {
      "application/vnd.jupyter.widget-view+json": {
       "model_id": "961e55955c9444c5994448854c3a2024",
       "version_major": 2,
       "version_minor": 0
      },
      "text/plain": [
       "FigureCanvasNbAgg()"
      ]
     },
     "metadata": {},
     "output_type": "display_data"
    },
    {
     "data": {
      "text/plain": [
       "Text(0.5, 1.0, 'eastward velocity')"
      ]
     },
     "execution_count": 6,
     "metadata": {},
     "output_type": "execute_result"
    }
   ],
   "source": [
    "plt.figure(figsize=(8,4))\n",
    "plt.plot(ds['time'],ds['Eas_sm'][:,bini]);\n",
    "plt.plot(ds['time'],ds['Eas'][:,bini],'--');\n",
    "plt.plot(ds['time'],ds['Eas_sm'][:,1],'-');\n",
    "#plt.plot(ds['time'],ds['Eas'][:,1]);\n",
    "plt.ylabel('m/s')\n",
    "plt.title('eastward velocity')"
   ]
  },
  {
   "cell_type": "code",
   "execution_count": 7,
   "metadata": {},
   "outputs": [
    {
     "data": {
      "application/vnd.jupyter.widget-view+json": {
       "model_id": "f133db71fa1446c19090b7f1fd85829a",
       "version_major": 2,
       "version_minor": 0
      },
      "text/plain": [
       "FigureCanvasNbAgg()"
      ]
     },
     "metadata": {},
     "output_type": "display_data"
    },
    {
     "data": {
      "text/plain": [
       "Text(0.5, 1.0, 'northward velocity')"
      ]
     },
     "execution_count": 7,
     "metadata": {},
     "output_type": "execute_result"
    }
   ],
   "source": [
    "plt.figure(figsize=(8,4))\n",
    "plt.plot(ds['time'],ds['Nor_sm'][:,bini]);\n",
    "plt.legend(['Bin 15','Bin 1'])\n",
    "plt.ylabel('m/s')\n",
    "plt.title('northward velocity')"
   ]
  },
  {
   "cell_type": "markdown",
   "metadata": {},
   "source": [
    "### Test with limited obs\n"
   ]
  },
  {
   "cell_type": "code",
   "execution_count": 8,
   "metadata": {},
   "outputs": [],
   "source": [
    "zf = ds['binheight'][bini] # upper boundary height\n",
    "zobs = np.array(ds['binheight'][0:(bini+1)])"
   ]
  },
  {
   "cell_type": "code",
   "execution_count": 9,
   "metadata": {},
   "outputs": [],
   "source": [
    "i = 1j\n",
    "kappa = 0.41 # Von Karman constant\n",
    "f = gsw.f(lat)"
   ]
  },
  {
   "cell_type": "code",
   "execution_count": 10,
   "metadata": {},
   "outputs": [],
   "source": [
    "gi = np.isfinite(ds['Eas_sm'][:,0])\n",
    "tobs = np.array((ds['time'][gi] - ds['time'][gi][0])/np.timedelta64(1,'s')) # array of times in seconds\n",
    "deltat = tobs[1]-tobs[0]"
   ]
  },
  {
   "cell_type": "code",
   "execution_count": 11,
   "metadata": {},
   "outputs": [],
   "source": [
    "wobs = np.array(ds['Eas_sm'][gi,0:(bini+1)]+i*ds['Nor_sm'][gi,0:(bini+1)])\n",
    "dwobsdt = np.gradient(wobs,deltat,axis=0)"
   ]
  },
  {
   "cell_type": "code",
   "execution_count": 12,
   "metadata": {},
   "outputs": [
    {
     "data": {
      "text/plain": [
       "(array([    9,    10,    11, ..., 98198, 98199, 98200]),)"
      ]
     },
     "execution_count": 12,
     "metadata": {},
     "output_type": "execute_result"
    }
   ],
   "source": [
    "np.where(gi)"
   ]
  },
  {
   "cell_type": "code",
   "execution_count": 13,
   "metadata": {},
   "outputs": [
    {
     "data": {
      "text/plain": [
       "<xarray.DataArray 'time' (time: 98192)>\n",
       "array(['2017-11-10T10:48:13.760000000', '2017-11-10T10:53:13.760000000',\n",
       "       '2017-11-10T10:58:13.760000000', ..., '2018-10-17T09:13:13.720000000',\n",
       "       '2018-10-17T09:18:13.720000000', '2018-10-17T09:23:13.720000000'],\n",
       "      dtype='datetime64[ns]')\n",
       "Coordinates:\n",
       "  * time     (time) datetime64[ns] 2017-11-10T10:48:13.760000 ... 2018-10-17T09:23:13.720000"
      ]
     },
     "execution_count": 13,
     "metadata": {},
     "output_type": "execute_result"
    }
   ],
   "source": [
    "ds['time'][gi]"
   ]
  },
  {
   "cell_type": "code",
   "execution_count": 14,
   "metadata": {},
   "outputs": [
    {
     "data": {
      "text/plain": [
       "<xarray.DataArray 'time' ()>\n",
       "array('2017-11-10T10:48:13.760000000', dtype='datetime64[ns]')\n",
       "Coordinates:\n",
       "    time     datetime64[ns] 2017-11-10T10:48:13.760000"
      ]
     },
     "execution_count": 14,
     "metadata": {},
     "output_type": "execute_result"
    }
   ],
   "source": [
    "ds['time'][9]"
   ]
  },
  {
   "cell_type": "code",
   "execution_count": 15,
   "metadata": {},
   "outputs": [],
   "source": [
    "def dwdt_bbl(t, w_in):\n",
    "    # Note that w_in is real and complex parts concatenates\n",
    "    # need to combine into complex numbers\n",
    "    # Scipy docs say that ode solvers RK45 and BDF can be used in complex plane\n",
    "    # https://docs.scipy.org/doc/scipy/reference/generated/scipy.integrate.BDF.html#scipy.integrate.BDF\n",
    "    # but perhaps this does not work for *arrays* of complex numbers?\n",
    "    \n",
    "    global zo\n",
    "    \n",
    "    N = int(len(w_in)/2)\n",
    "    w = w_in[:N]+i*w_in[N:]\n",
    "    \n",
    "    winf = np.interp(t,tobs,wobs[:,bini])\n",
    "    dwinfdt = np.interp(t,tobs,dwobsdt[:,bini])\n",
    "\n",
    "    F = dwinfdt + i*f*winf\n",
    "    ustar = kappa*zo*np.abs(w[0])/dz[0]\n",
    "    coef1 = 2*kappa*ustar/(dz[:-1]+dz[1:])\n",
    "\n",
    "    wall = np.concatenate([np.atleast_1d(0+i*0),w,np.atleast_1d(winf)])\n",
    "    \n",
    "    dwalldt = np.nan*np.ones(np.shape(wall))+i*np.nan*np.ones(np.shape(wall))\n",
    "    dwalldt[1:-1] = (F +\n",
    "                     coef1*(z[1:-1]/dz[1:])*wall[2:] +\n",
    "                     (-i*f - coef1*(z[1:-1]/dz[1:]+z[:-2]/dz[:-1]))*wall[1:-1] +\n",
    "                     coef1*(z[:-2]/dz[:-1])*wall[:-2])\n",
    "    \n",
    "    dwdt = dwalldt[1:-1]\n",
    "    \n",
    "    dwdt_out = np.concatenate([np.real(dwdt),np.imag(dwdt)])\n",
    "    \n",
    "    return dwdt_out"
   ]
  },
  {
   "cell_type": "code",
   "execution_count": 16,
   "metadata": {},
   "outputs": [
    {
     "name": "stdout",
     "output_type": "stream",
     "text": [
      "zo: 0.0001 ( 1 / 7 )\n",
      "662 seconds\n",
      "zo: 0.00031622776601683794 ( 2 / 7 )\n",
      "643 seconds\n",
      "zo: 0.001 ( 3 / 7 )\n",
      "444 seconds\n",
      "zo: 0.0031622776601683794 ( 4 / 7 )\n",
      "488 seconds\n",
      "zo: 0.01 ( 5 / 7 )\n",
      "499 seconds\n",
      "zo: 0.03162277660168379 ( 6 / 7 )\n",
      "530 seconds\n",
      "zo: 0.1 ( 7 / 7 )\n",
      "610 seconds\n"
     ]
    }
   ],
   "source": [
    "nzo = 7\n",
    "zo_array = np.logspace(-4,-1,nzo) # roughness length array\n",
    "\n",
    "tf = 31*86400\n",
    "ntimes = len(tobs[tobs<=tf])\n",
    "\n",
    "nz = 201\n",
    "\n",
    "w_sol_all = np.nan*np.ones([ntimes,nz-2,nzo]) + i*np.nan*np.ones([ntimes,nz-2,nzo])\n",
    "w_sol_obs_all = np.nan*np.ones([ntimes,len(zobs),nzo]) + i*np.nan*np.ones([ntimes,len(zobs),nzo])\n",
    "\n",
    "for zi,zo in enumerate(zo_array):\n",
    "    print('zo:',zo,'(',zi+1,'/',nzo,')')\n",
    "\n",
    "    z = np.logspace(np.log10(zo),np.log10(zf),nz)\n",
    "    dz = np.diff(z)\n",
    "    \n",
    "    w0_obs = np.interp(z,zobs[1:bini],wobs[0,1:bini])[1:-1]\n",
    "    w0 = np.concatenate([np.real(w0_obs),\n",
    "                           np.imag(w0_obs)])\n",
    "\n",
    "    tic = np.datetime64('now')\n",
    "    a = solve_ivp(dwdt_bbl, t_span=[tobs[0],tf], y0 = w0, t_eval = tobs[tobs<=tf], method='BDF')\n",
    "    toc = np.datetime64('now')\n",
    "    print(toc-tic)\n",
    "    \n",
    "    N = int(np.shape(a.y)[0]/2)\n",
    "    t_sol = a.t\n",
    "    w_sol = a.y[:N,:]+i*a.y[N:,:]\n",
    "    \n",
    "    fint= interp1d(z[1:-1],w_sol,axis=0,\n",
    "                   bounds_error=False,fill_value = np.nan+i*np.nan)\n",
    "    w_sol_obs = fint(zobs)\n",
    "    \n",
    "    w_sol_all[:,:,zi] = w_sol.T\n",
    "    w_sol_obs_all[:,:,zi] = w_sol_obs.T"
   ]
  },
  {
   "cell_type": "code",
   "execution_count": 17,
   "metadata": {},
   "outputs": [],
   "source": [
    "bbl_sols = xr.Dataset(\n",
    "        data_vars={'uobs_subset':    (('tobs', 'zobs'), np.real(wobs[tobs<=tf,:])),\n",
    "                   'vobs_subset':    (('tobs', 'zobs'), np.imag(wobs[tobs<=tf,:])),\n",
    "                   'usol_all': (('tobs','zsol','zo'), np.real(w_sol_all)),\n",
    "                   'vsol_all': (('tobs','zsol','zo'), np.imag(w_sol_all)),\n",
    "                   'usol_obs_all': (('tobs','zobs','zo'), np.real(w_sol_obs_all)),\n",
    "                   'vsol_obs_all': (('tobs','zobs','zo'), np.imag(w_sol_obs_all)),                  },\n",
    "        coords={'zobs': zobs,\n",
    "                'tobs': tobs[tobs<=tf],\n",
    "                'zo':zo_array})\n",
    "bbl_sols.to_netcdf('bbl_sols_neww.nc',mode='w')\n",
    "bbl_sols.close()"
   ]
  },
  {
   "cell_type": "code",
   "execution_count": 18,
   "metadata": {},
   "outputs": [],
   "source": [
    "w_sol = np.squeeze(w_sol_all[:,:,0])"
   ]
  },
  {
   "cell_type": "code",
   "execution_count": 19,
   "metadata": {},
   "outputs": [
    {
     "data": {
      "application/vnd.jupyter.widget-view+json": {
       "model_id": "8e1c23047ac34e73aaa31e4adcb9fbc4",
       "version_major": 2,
       "version_minor": 0
      },
      "text/plain": [
       "FigureCanvasNbAgg()"
      ]
     },
     "metadata": {},
     "output_type": "display_data"
    },
    {
     "data": {
      "text/plain": [
       "[<matplotlib.lines.Line2D at 0x1a32bca4a8>]"
      ]
     },
     "execution_count": 19,
     "metadata": {},
     "output_type": "execute_result"
    }
   ],
   "source": [
    "plt.figure()\n",
    "plt.subplot(211)\n",
    "plt.plot(t_sol,np.real(w_sol),color='gray')\n",
    "plt.plot(tobs[0:12],np.real(wobs[0:12,bini]))\n",
    "\n",
    "plt.subplot(212)\n",
    "plt.plot(t_sol,np.imag(w_sol),color='gray')\n",
    "plt.plot(tobs[0:12],np.imag(wobs[0:12,bini]))"
   ]
  },
  {
   "cell_type": "code",
   "execution_count": 20,
   "metadata": {},
   "outputs": [
    {
     "data": {
      "application/vnd.jupyter.widget-view+json": {
       "model_id": "a0f3f97ab01c414fb57f74e22302d32e",
       "version_major": 2,
       "version_minor": 0
      },
      "text/plain": [
       "FigureCanvasNbAgg()"
      ]
     },
     "metadata": {},
     "output_type": "display_data"
    },
    {
     "data": {
      "text/plain": [
       "[<matplotlib.lines.Line2D at 0x1a456c96d8>,\n",
       " <matplotlib.lines.Line2D at 0x1a456c9828>,\n",
       " <matplotlib.lines.Line2D at 0x1a456c9978>,\n",
       " <matplotlib.lines.Line2D at 0x1a456c9ac8>,\n",
       " <matplotlib.lines.Line2D at 0x1a456c9c18>,\n",
       " <matplotlib.lines.Line2D at 0x1a456c9d68>,\n",
       " <matplotlib.lines.Line2D at 0x1a456c9eb8>]"
      ]
     },
     "execution_count": 20,
     "metadata": {},
     "output_type": "execute_result"
    }
   ],
   "source": [
    "plt.figure()\n",
    "plt.plot(np.imag(np.squeeze(w_sol_obs_all[-1,:,:])),zobs)"
   ]
  },
  {
   "cell_type": "code",
   "execution_count": 21,
   "metadata": {},
   "outputs": [
    {
     "data": {
      "text/plain": [
       "array([300., 300., 300., 300., 300., 300., 300., 300., 300., 300., 300.,\n",
       "       300., 300., 300., 300., 300., 300., 300., 300., 300., 300., 300.,\n",
       "       300., 300., 300., 300., 300., 300., 300., 300., 300., 300., 300.,\n",
       "       300., 300., 300., 300., 300., 300., 300., 300., 300., 300., 300.,\n",
       "       300., 300., 300., 300., 300., 300., 300., 300., 300., 300., 300.,\n",
       "       300., 300., 300., 300., 300., 300., 300., 300., 300., 300., 300.,\n",
       "       300., 300., 300., 300., 300., 300., 300., 300., 300., 300., 300.,\n",
       "       300., 300., 300., 300., 300., 300., 300., 300., 300., 300., 300.,\n",
       "       300., 300., 300., 300., 300., 300., 300., 300., 300., 300., 300.])"
      ]
     },
     "execution_count": 21,
     "metadata": {},
     "output_type": "execute_result"
    }
   ],
   "source": [
    "np.diff(a.t[0:100])"
   ]
  },
  {
   "cell_type": "markdown",
   "metadata": {},
   "source": [
    "### Test with steady forcing"
   ]
  },
  {
   "cell_type": "code",
   "execution_count": 22,
   "metadata": {},
   "outputs": [],
   "source": [
    "winf_steady = 0.04+i*0\n",
    "w0_steady = np.concatenate([np.real(winf_steady)*np.ones(N),\n",
    "                           np.imag(winf_steady)*np.ones(N)])\n",
    "zo = 0.01\n",
    "\n",
    "def dwdt_bbl_steady(t, w_in):\n",
    "    N = int(len(w_in)/2)\n",
    "    w = w_in[:N]+i*w_in[N:]\n",
    "    \n",
    "    winf = winf_steady\n",
    "    dwinfdt = 0+i*0\n",
    "\n",
    "    F = dwinfdt + i*f*winf\n",
    "    ustar = kappa*zo*np.abs(w[1])/dz[0]\n",
    "    coef1 = 2*kappa*ustar/(dz[:-1]+dz[1:])\n",
    "\n",
    "    wall = np.concatenate([np.atleast_1d(0+i*0),w,np.atleast_1d(winf)])\n",
    "    \n",
    "    dwalldt = np.nan*np.ones(np.shape(wall))+i*np.nan*np.ones(np.shape(wall))\n",
    "    dwalldt[1:-1] = (F +\n",
    "                     coef1*(z[1:-1]/dz[1:])*wall[2:] +\n",
    "                     (-i*f - coef1*(z[1:-1]/dz[1:]+z[:-2]/dz[:-1]))*wall[1:-1] +\n",
    "                     coef1*(z[:-2]/dz[:-1])*wall[:-2])\n",
    "    \n",
    "    dwdt = dwalldt[1:-1]\n",
    "    #print(dwdt)\n",
    "    \n",
    "    dwdt_out = np.concatenate([np.real(dwdt),np.imag(dwdt)])\n",
    "    \n",
    "    return dwdt_out"
   ]
  },
  {
   "cell_type": "code",
   "execution_count": 24,
   "metadata": {},
   "outputs": [],
   "source": [
    "modsteady = solve_ivp(dwdt_bbl_steady, t_span=[0,2*86400], \n",
    "                      y0 = w0_steady, method='BDF')"
   ]
  },
  {
   "cell_type": "code",
   "execution_count": 25,
   "metadata": {},
   "outputs": [],
   "source": [
    "t_sol_steady = modsteady.t\n",
    "w_sol_steady = modsteady.y[:N,:]+i*modsteady.y[N:,:]"
   ]
  },
  {
   "cell_type": "code",
   "execution_count": 26,
   "metadata": {},
   "outputs": [
    {
     "data": {
      "application/vnd.jupyter.widget-view+json": {
       "model_id": "9ec8028836344012854ed182ac837cbf",
       "version_major": 2,
       "version_minor": 0
      },
      "text/plain": [
       "FigureCanvasNbAgg()"
      ]
     },
     "metadata": {},
     "output_type": "display_data"
    }
   ],
   "source": [
    "plt.figure()\n",
    "plt.subplot(121)\n",
    "plt.plot(np.real(w_sol_steady[:,-1]),z[1:-1]);\n",
    "plt.plot(np.imag(w_sol_steady[:,-1]),z[1:-1]);\n",
    "#plt.plot(tobs[0:12*24],wobs[0:12*24,bini])"
   ]
  },
  {
   "cell_type": "code",
   "execution_count": 27,
   "metadata": {},
   "outputs": [],
   "source": [
    "ustar_steady = kappa*zo*np.abs(w_sol_steady[1,-1])/dz[0]"
   ]
  },
  {
   "cell_type": "code",
   "execution_count": 28,
   "metadata": {},
   "outputs": [
    {
     "data": {
      "text/plain": [
       "0.0010053975739126623"
      ]
     },
     "execution_count": 28,
     "metadata": {},
     "output_type": "execute_result"
    }
   ],
   "source": [
    "ustar_steady"
   ]
  },
  {
   "cell_type": "code",
   "execution_count": 29,
   "metadata": {},
   "outputs": [
    {
     "data": {
      "text/plain": [
       "array([0.00260536, 0.00267324, 0.00274289, 0.00281435, 0.00288767,\n",
       "       0.00296291, 0.0030401 , 0.00311931, 0.00320058, 0.00328396,\n",
       "       0.00336952, 0.00345731, 0.00354739, 0.00363981, 0.00373464,\n",
       "       0.00383194, 0.00393178, 0.00403421, 0.00413932, 0.00424716,\n",
       "       0.00435782, 0.00447135, 0.00458785, 0.00470738, 0.00483002,\n",
       "       0.00495586, 0.00508498, 0.00521746, 0.0053534 , 0.00549287,\n",
       "       0.00563598, 0.00578282, 0.00593348, 0.00608807, 0.00624669,\n",
       "       0.00640944, 0.00657643, 0.00674777, 0.00692357, 0.00710395,\n",
       "       0.00728904, 0.00747894, 0.0076738 , 0.00787373, 0.00807886,\n",
       "       0.00828935, 0.00850532, 0.00872691, 0.00895428, 0.00918757,\n",
       "       0.00942694, 0.00967254, 0.00992455, 0.01018312, 0.01044843,\n",
       "       0.01072065, 0.01099996, 0.01128655, 0.0115806 , 0.01188232,\n",
       "       0.01219189, 0.01250954, 0.01283546, 0.01316987, 0.01351299,\n",
       "       0.01386505, 0.01422629, 0.01459693, 0.01497723, 0.01536745,\n",
       "       0.01576782, 0.01617863, 0.01660014, 0.01703264, 0.0174764 ,\n",
       "       0.01793172, 0.01839891, 0.01887827, 0.01937011, 0.01987478,\n",
       "       0.02039259, 0.02092389, 0.02146903, 0.02202837, 0.02260229,\n",
       "       0.02319116, 0.02379538, 0.02441533, 0.02505144, 0.02570412,\n",
       "       0.02637381, 0.02706094, 0.02776598, 0.02848938, 0.02923163,\n",
       "       0.02999322, 0.03077465, 0.03157644, 0.03239912, 0.03324324,\n",
       "       0.03410934, 0.03499802, 0.03590984, 0.03684542, 0.03780538,\n",
       "       0.03879034, 0.03980097, 0.04083793, 0.04190191, 0.0429936 ,\n",
       "       0.04411374, 0.04526307, 0.04644233, 0.04765232, 0.04889384,\n",
       "       0.0501677 , 0.05147475, 0.05281585, 0.0541919 , 0.05560379,\n",
       "       0.05705247, 0.05853889, 0.06006404, 0.06162893, 0.06323458,\n",
       "       0.06488207, 0.06657249, 0.06830694, 0.07008658, 0.07191259,\n",
       "       0.07378617, 0.07570857, 0.07768105, 0.07970492, 0.08178153,\n",
       "       0.08391223, 0.08609845, 0.08834162, 0.09064324, 0.09300483,\n",
       "       0.09542794, 0.09791418, 0.1004652 , 0.10308268, 0.10576836,\n",
       "       0.108524  , 0.11135145, 0.11425255, 0.11722924, 0.12028349,\n",
       "       0.12341731, 0.12663278, 0.12993202, 0.13331722, 0.13679061,\n",
       "       0.1403545 , 0.14401124, 0.14776326, 0.15161302, 0.15556309,\n",
       "       0.15961607, 0.16377465, 0.16804157, 0.17241966, 0.17691181,\n",
       "       0.181521  , 0.18625028, 0.19110278, 0.19608169, 0.20119033,\n",
       "       0.20643207, 0.21181037, 0.21732879, 0.22299099, 0.22880071,\n",
       "       0.2347618 , 0.24087819, 0.24715394, 0.25359319, 0.26020021,\n",
       "       0.26697937, 0.27393514, 0.28107214, 0.28839509, 0.29590882,\n",
       "       0.30361832, 0.31152867, 0.31964512, 0.32797303, 0.33651791,\n",
       "       0.34528542, 0.35428135, 0.36351166, 0.37298245, 0.38269999,\n",
       "       0.39267071, 0.4029012 , 0.41339823, 0.42416875, 0.43521988])"
      ]
     },
     "execution_count": 29,
     "metadata": {},
     "output_type": "execute_result"
    }
   ],
   "source": [
    "dz"
   ]
  },
  {
   "cell_type": "code",
   "execution_count": null,
   "metadata": {},
   "outputs": [],
   "source": []
  }
 ],
 "metadata": {
  "kernelspec": {
   "display_name": "Python [conda env:py37]",
   "language": "python",
   "name": "conda-env-py37-py"
  },
  "language_info": {
   "codemirror_mode": {
    "name": "ipython",
    "version": 3
   },
   "file_extension": ".py",
   "mimetype": "text/x-python",
   "name": "python",
   "nbconvert_exporter": "python",
   "pygments_lexer": "ipython3",
   "version": "3.7.2"
  }
 },
 "nbformat": 4,
 "nbformat_minor": 2
}
