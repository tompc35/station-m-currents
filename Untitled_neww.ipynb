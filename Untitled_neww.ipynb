{
 "cells": [
  {
   "cell_type": "code",
   "execution_count": 165,
   "metadata": {},
   "outputs": [],
   "source": [
    "%matplotlib widget\n",
    "import xarray as xr\n",
    "import numpy as np\n",
    "import matplotlib.pyplot as plt\n",
    "import pandas as pd\n",
    "\n",
    "from oceans import bottomstress"
   ]
  },
  {
   "cell_type": "code",
   "execution_count": 347,
   "metadata": {},
   "outputs": [
    {
     "name": "stderr",
     "output_type": "stream",
     "text": [
      "/Users/tomconnolly/programs/anaconda/envs/py37/lib/python3.7/site-packages/ipykernel/__main__.py:17: SettingWithCopyWarning: \n",
      "A value is trying to be set on a copy of a slice from a DataFrame\n",
      "\n",
      "See the caveats in the documentation: http://pandas.pydata.org/pandas-docs/stable/indexing.html#indexing-view-versus-copy\n",
      "/Users/tomconnolly/programs/anaconda/envs/py37/lib/python3.7/site-packages/ipykernel/__main__.py:18: SettingWithCopyWarning: \n",
      "A value is trying to be set on a copy of a slice from a DataFrame\n",
      "\n",
      "See the caveats in the documentation: http://pandas.pydata.org/pandas-docs/stable/indexing.html#indexing-view-versus-copy\n"
     ]
    }
   ],
   "source": [
    "# Load data\n",
    "rover_csv_file = 'data/Rover_II_Current_Mag_Hourly_Avg_pad_2018.csv'\n",
    "df_all = pd.read_csv(rover_csv_file,parse_dates=[7])\n",
    "\n",
    "# Datetime index\n",
    "df_all = df_all.set_index('Date_time_R')\n",
    "\n",
    "# Create u and v components with units m/s\n",
    "df_all['u'] = df_all['Easting (cm/sec)']/100\n",
    "df_all['v'] = df_all['Northing (cm/sec)']/100\n",
    "\n",
    "# mask erroneous points \n",
    "# abrupt shift near end of deployment \n",
    "bi = ((df_all.index > np.datetime64('2015-06-18T12:00')) &\n",
    "    (df_all.index < np.datetime64('2015-06-20T00:00')))\n",
    "\n",
    "df_all['u'][bi] = np.nan\n",
    "df_all['v'][bi] = np.nan\n",
    "\n",
    "# select time range\n",
    "t1 = np.datetime64('2014-10-11T00:00:00')\n",
    "t2 = np.datetime64('2018-10-17T00:00:00')\n",
    "df_all = df_all.loc[(df_all.index >= t1) & (df_all.index <= t2)]\n",
    "\n",
    "# resample and interpolate\n",
    "df_all_r = df_all.resample('1H').mean()\n",
    "tauxr,tauyr = bottomstress(np.array(df_all['u']),np.array(df_all['v']),1.5,zo=0.003)\n",
    "taumagr = np.sqrt(tauxr**2 + tauyr**2)\n",
    "ustarr = np.sqrt(taumagr/1025)"
   ]
  },
  {
   "cell_type": "code",
   "execution_count": 348,
   "metadata": {},
   "outputs": [],
   "source": [
    "ds = xr.open_dataset('bbl_sols_neww.nc')"
   ]
  },
  {
   "cell_type": "code",
   "execution_count": 349,
   "metadata": {},
   "outputs": [],
   "source": [
    "dsadcp = xr.open_dataset('data/MBARI_StationM_ADCP_201711_201811.nc')"
   ]
  },
  {
   "cell_type": "code",
   "execution_count": 350,
   "metadata": {},
   "outputs": [],
   "source": [
    "ti0 = 9\n",
    "ntimes = len(ds['tobs'])\n",
    "time = dsadcp['time'][ti0:ti0+ntimes]"
   ]
  },
  {
   "cell_type": "code",
   "execution_count": 351,
   "metadata": {},
   "outputs": [
    {
     "data": {
      "text/plain": [
       "<xarray.DataArray 'time' (time: 8929)>\n",
       "array(['2017-11-10T10:48:13.760000000', '2017-11-10T10:53:13.760000000',\n",
       "       '2017-11-10T10:58:13.760000000', ..., '2017-12-11T10:38:13.760000000',\n",
       "       '2017-12-11T10:43:13.760000000', '2017-12-11T10:48:13.760000000'],\n",
       "      dtype='datetime64[ns]')\n",
       "Coordinates:\n",
       "  * time     (time) datetime64[ns] 2017-11-10T10:48:13.760000 ... 2017-12-11T10:48:13.760000"
      ]
     },
     "execution_count": 351,
     "metadata": {},
     "output_type": "execute_result"
    }
   ],
   "source": [
    "time"
   ]
  },
  {
   "cell_type": "code",
   "execution_count": 352,
   "metadata": {},
   "outputs": [
    {
     "data": {
      "text/plain": [
       "8929"
      ]
     },
     "execution_count": 352,
     "metadata": {},
     "output_type": "execute_result"
    }
   ],
   "source": [
    "len(ds['tobs'])"
   ]
  },
  {
   "cell_type": "code",
   "execution_count": 353,
   "metadata": {},
   "outputs": [
    {
     "data": {
      "text/plain": [
       "<xarray.Dataset>\n",
       "Dimensions:       (tobs: 8929, zo: 7, zobs: 16, zsol: 199)\n",
       "Coordinates:\n",
       "  * zobs          (zobs) float64 2.14 3.14 4.14 5.14 ... 14.14 15.14 16.14 17.14\n",
       "  * tobs          (tobs) float64 0.0 300.0 600.0 ... 2.678e+06 2.678e+06\n",
       "  * zo            (zo) float64 0.0001 0.0003162 0.001 0.003162 0.01 0.03162 0.1\n",
       "Dimensions without coordinates: zsol\n",
       "Data variables:\n",
       "    uobs_subset   (tobs, zobs) float64 ...\n",
       "    vobs_subset   (tobs, zobs) float64 ...\n",
       "    usol_all      (tobs, zsol, zo) float64 ...\n",
       "    vsol_all      (tobs, zsol, zo) float64 ...\n",
       "    usol_obs_all  (tobs, zobs, zo) float64 ...\n",
       "    vsol_obs_all  (tobs, zobs, zo) float64 ..."
      ]
     },
     "execution_count": 353,
     "metadata": {},
     "output_type": "execute_result"
    }
   ],
   "source": [
    "ds"
   ]
  },
  {
   "cell_type": "code",
   "execution_count": 354,
   "metadata": {},
   "outputs": [],
   "source": [
    "t1 = 24*12\n",
    "zoi = 3"
   ]
  },
  {
   "cell_type": "code",
   "execution_count": 355,
   "metadata": {},
   "outputs": [],
   "source": [
    "zo = np.array(ds['zo'][zoi])\n",
    "zf = ds['zobs'][-1]\n",
    "\n",
    "nz = 201\n",
    "z = np.logspace(np.log10(zo),np.log10(zf),nz)\n",
    "dz = np.diff(z)\n",
    "\n",
    "zsol = z[1:-1]\n",
    "\n",
    "kappa = 0.41\n",
    "i = 1j"
   ]
  },
  {
   "cell_type": "code",
   "execution_count": 356,
   "metadata": {},
   "outputs": [
    {
     "data": {
      "text/plain": [
       "array([1.38908792e-04, 1.45010613e-04, 1.51380467e-04, 1.58030129e-04,\n",
       "       1.64971890e-04, 1.72218580e-04, 1.79783594e-04, 1.87680915e-04,\n",
       "       1.95925140e-04, 2.04531508e-04, 2.13515926e-04, 2.22895001e-04,\n",
       "       2.32686069e-04, 2.42907227e-04, 2.53577369e-04, 2.64716215e-04,\n",
       "       2.76344356e-04, 2.88483284e-04, 3.01155436e-04, 3.14384236e-04,\n",
       "       3.28194135e-04, 3.42610658e-04, 3.57660454e-04, 3.73371339e-04,\n",
       "       3.89772354e-04, 4.06893813e-04, 4.24767363e-04, 4.43426041e-04,\n",
       "       4.62904335e-04, 4.83238249e-04, 5.04465367e-04, 5.26624925e-04,\n",
       "       5.49757882e-04, 5.73906996e-04, 5.99116903e-04, 6.25434201e-04,\n",
       "       6.52907535e-04, 6.81587685e-04, 7.11527662e-04, 7.42782808e-04,\n",
       "       7.75410892e-04, 8.09472224e-04, 8.45029762e-04, 8.82149230e-04,\n",
       "       9.20899238e-04, 9.61351410e-04, 1.00358052e-03, 1.04766461e-03,\n",
       "       1.09368519e-03, 1.14172730e-03, 1.19187974e-03, 1.24423522e-03,\n",
       "       1.29889052e-03, 1.35594664e-03, 1.41550906e-03, 1.47768787e-03,\n",
       "       1.54259799e-03, 1.61035941e-03, 1.68109738e-03, 1.75494263e-03,\n",
       "       1.83203168e-03, 1.91250700e-03, 1.99651734e-03, 2.08421799e-03,\n",
       "       2.17577106e-03, 2.27134575e-03, 2.37111874e-03, 2.47527444e-03,\n",
       "       2.58400537e-03, 2.69751250e-03, 2.81600564e-03, 2.93970380e-03,\n",
       "       3.06883563e-03, 3.20363981e-03, 3.34436551e-03, 3.49127284e-03,\n",
       "       3.64463335e-03, 3.80473049e-03, 3.97186019e-03, 4.14633136e-03,\n",
       "       4.32846650e-03, 4.51860226e-03, 4.71709007e-03, 4.92429682e-03,\n",
       "       5.14060551e-03, 5.36641594e-03, 5.60214551e-03, 5.84822993e-03,\n",
       "       6.10512406e-03, 6.37330272e-03, 6.65326163e-03, 6.94551823e-03,\n",
       "       7.25061274e-03, 7.56910908e-03, 7.90159594e-03, 8.24868790e-03,\n",
       "       8.61102651e-03, 8.98928149e-03, 9.38415201e-03, 9.79636794e-03,\n",
       "       1.02266912e-02, 1.06759172e-02, 1.11448763e-02, 1.16344352e-02,\n",
       "       1.21454989e-02, 1.26790120e-02, 1.32359606e-02, 1.38173743e-02,\n",
       "       1.44243275e-02, 1.50579423e-02, 1.57193898e-02, 1.64098926e-02,\n",
       "       1.71307269e-02, 1.78832252e-02, 1.86687784e-02, 1.94888384e-02,\n",
       "       2.03449210e-02, 2.12386086e-02, 2.21715531e-02, 2.31454788e-02,\n",
       "       2.41621861e-02, 2.52235540e-02, 2.63315444e-02, 2.74882053e-02,\n",
       "       2.86956747e-02, 2.99561844e-02, 3.12720642e-02, 3.26457464e-02,\n",
       "       3.40797701e-02, 3.55767860e-02, 3.71395609e-02, 3.87709836e-02,\n",
       "       4.04740695e-02, 4.22519666e-02, 4.41079609e-02, 4.60454833e-02,\n",
       "       4.80681148e-02, 5.01795941e-02, 5.23838239e-02, 5.46848785e-02,\n",
       "       5.70870112e-02, 5.95946619e-02, 6.22124657e-02, 6.49452613e-02,\n",
       "       6.77980999e-02, 7.07762546e-02, 7.38852301e-02, 7.71307731e-02,\n",
       "       8.05188825e-02, 8.40558207e-02, 8.77481253e-02, 9.16026211e-02,\n",
       "       9.56264327e-02, 9.98269975e-02, 1.04212080e-01, 1.08789785e-01,\n",
       "       1.13568574e-01, 1.18557280e-01, 1.23765123e-01, 1.29201731e-01,\n",
       "       1.34877152e-01, 1.40801876e-01, 1.46986854e-01, 1.53443519e-01,\n",
       "       1.60183804e-01, 1.67220169e-01, 1.74565619e-01, 1.82233731e-01,\n",
       "       1.90238678e-01, 1.98595258e-01, 2.07318916e-01, 2.16425776e-01,\n",
       "       2.25932671e-01, 2.35857174e-01, 2.46217629e-01, 2.57033186e-01,\n",
       "       2.68323835e-01, 2.80110447e-01, 2.92414808e-01, 3.05259659e-01,\n",
       "       3.18668745e-01, 3.32666848e-01, 3.47279844e-01, 3.62534742e-01,\n",
       "       3.78459739e-01, 3.95084271e-01, 4.12439065e-01, 4.30556201e-01,\n",
       "       4.49469164e-01, 4.69212914e-01, 4.89823943e-01, 5.11340350e-01,\n",
       "       5.33801904e-01, 5.57250122e-01, 5.81728347e-01, 6.07281821e-01,\n",
       "       6.33957778e-01, 6.61805526e-01, 6.90876536e-01, 7.21224543e-01])"
      ]
     },
     "execution_count": 356,
     "metadata": {},
     "output_type": "execute_result"
    }
   ],
   "source": [
    "dz"
   ]
  },
  {
   "cell_type": "code",
   "execution_count": 357,
   "metadata": {},
   "outputs": [
    {
     "data": {
      "text/plain": [
       "(8929, 199, 7)"
      ]
     },
     "execution_count": 357,
     "metadata": {},
     "output_type": "execute_result"
    }
   ],
   "source": [
    "np.shape(ds['usol_all'])"
   ]
  },
  {
   "cell_type": "code",
   "execution_count": 358,
   "metadata": {},
   "outputs": [],
   "source": [
    "u = np.array(ds['usol_all'][t1:,:,zoi])\n",
    "v = np.array(ds['vsol_all'][t1:,:,zoi])\n",
    "w = u+i*v"
   ]
  },
  {
   "cell_type": "code",
   "execution_count": 359,
   "metadata": {},
   "outputs": [
    {
     "data": {
      "text/plain": [
       "(8641, 199)"
      ]
     },
     "execution_count": 359,
     "metadata": {},
     "output_type": "execute_result"
    }
   ],
   "source": [
    "np.shape(w)"
   ]
  },
  {
   "cell_type": "code",
   "execution_count": 360,
   "metadata": {},
   "outputs": [
    {
     "data": {
      "text/plain": [
       "array(0.00316228)"
      ]
     },
     "execution_count": 360,
     "metadata": {},
     "output_type": "execute_result"
    }
   ],
   "source": [
    "zo"
   ]
  },
  {
   "cell_type": "code",
   "execution_count": 361,
   "metadata": {},
   "outputs": [],
   "source": [
    "ustar = kappa*zo*np.abs(w[:,0])/dz[0]"
   ]
  },
  {
   "cell_type": "code",
   "execution_count": 362,
   "metadata": {},
   "outputs": [],
   "source": [
    "taux,tauy = bottomstress(np.array(ds['uobs_subset'][:,0]),\n",
    "                         np.array(ds['vobs_subset'][:,0]),\n",
    "                         np.array(ds['zobs'][0]),zo=0.003)\n",
    "\n",
    "taumag = np.sqrt(taux**2 + tauy**2)\n",
    "ustarobs = np.sqrt(taumag/1025)"
   ]
  },
  {
   "cell_type": "code",
   "execution_count": 363,
   "metadata": {},
   "outputs": [],
   "source": [
    "taux2,tauy2 = bottomstress(np.array(ds['usol_obs_all'][:,0,zoi]),\n",
    "                         np.array(ds['vsol_obs_all'][:,0,zoi]),\n",
    "                         np.array(ds['zobs'][0]),zo=0.003)\n",
    "\n",
    "taumag2 = np.sqrt(taux2**2 + tauy2**2)\n",
    "ustarobs2 = np.sqrt(taumag2/1025)"
   ]
  },
  {
   "cell_type": "code",
   "execution_count": 369,
   "metadata": {},
   "outputs": [
    {
     "name": "stderr",
     "output_type": "stream",
     "text": [
      "/Users/tomconnolly/programs/anaconda/envs/py37/lib/python3.7/site-packages/matplotlib/pyplot.py:514: RuntimeWarning: More than 20 figures have been opened. Figures created through the pyplot interface (`matplotlib.pyplot.figure`) are retained until explicitly closed and may consume too much memory. (To control this warning, see the rcParam `figure.max_open_warning`).\n",
      "  max_open_warning, RuntimeWarning)\n"
     ]
    },
    {
     "data": {
      "application/vnd.jupyter.widget-view+json": {
       "model_id": "2f8124ddf8d54605a59473fb7e20d2b3",
       "version_major": 2,
       "version_minor": 0
      },
      "text/plain": [
       "FigureCanvasNbAgg()"
      ]
     },
     "metadata": {},
     "output_type": "display_data"
    }
   ],
   "source": [
    "plt.figure(figsize=(8,6))\n",
    "\n",
    "plt.subplot(211)\n",
    "plt.plot(df_all.index,df_all['u'],'k-')\n",
    "plt.plot(df_all.index,df_all['v'],'-',color='gray')\n",
    "plt.plot(df_all.index,np.sqrt(df_all['u']**2+df_all['v']**2),'r-')\n",
    "plt.plot(time[t1:],np.zeros(len(time[t1:])),'--',color='k')\n",
    "xl = plt.xlim([np.datetime64('2017-11-13'),np.datetime64('2017-12-09')])\n",
    "plt.legend(['u','v'])\n",
    "plt.gca().axes.xaxis.set_ticklabels([])\n",
    "plt.ylabel('[m/s]')\n",
    "plt.title('ADCP velocity - 17 m')\n",
    "\n",
    "plt.subplot(212)\n",
    "#plt.plot(time[t1:],ustarobs2[t1:],'b-')\n",
    "#plt.plot(df_all.index,ustarr,'r')\n",
    "\n",
    "plt.plot(time[t1:],ustar,'-',color='gray')\n",
    "plt.plot(df_all.index,ustarr,'k-')\n",
    "plt.plot(df_all.index,ustarr*1.3,'r--')\n",
    "time[t1:]\n",
    "plt.xlim(xl)\n",
    "yl = plt.ylim()\n",
    "plt.ylim([0,yl[1]])\n",
    "plt.legend(['model - seabed','rover - 1.5 m, log'])\n",
    "plt.ylabel('$u_*$ [m/s]')\n",
    "plt.title('friction velocity estimates')\n",
    "\n",
    "plt.savefig('figures_paper/friction_velocity.pdf')\n",
    "plt.savefig('figures_paper/friction_velocity.png')"
   ]
  },
  {
   "cell_type": "code",
   "execution_count": 365,
   "metadata": {},
   "outputs": [
    {
     "data": {
      "text/plain": [
       "0.0026988284511940673"
      ]
     },
     "execution_count": 365,
     "metadata": {},
     "output_type": "execute_result"
    }
   ],
   "source": [
    "np.nanmean(ustar)"
   ]
  },
  {
   "cell_type": "code",
   "execution_count": 330,
   "metadata": {},
   "outputs": [
    {
     "data": {
      "text/plain": [
       "<xarray.DataArray 'time' ()>\n",
       "array('2017-12-11T10:48:13.760000000', dtype='datetime64[ns]')\n",
       "Coordinates:\n",
       "    time     datetime64[ns] 2017-12-11T10:48:13.760000"
      ]
     },
     "execution_count": 330,
     "metadata": {},
     "output_type": "execute_result"
    }
   ],
   "source": [
    "time[-1]"
   ]
  },
  {
   "cell_type": "code",
   "execution_count": 303,
   "metadata": {},
   "outputs": [
    {
     "data": {
      "text/plain": [
       "array(0.00316228)"
      ]
     },
     "execution_count": 303,
     "metadata": {},
     "output_type": "execute_result"
    }
   ],
   "source": [
    "zo"
   ]
  },
  {
   "cell_type": "code",
   "execution_count": 304,
   "metadata": {},
   "outputs": [
    {
     "name": "stderr",
     "output_type": "stream",
     "text": [
      "/Users/tomconnolly/programs/anaconda/envs/py37/lib/python3.7/site-packages/matplotlib/pyplot.py:514: RuntimeWarning: More than 20 figures have been opened. Figures created through the pyplot interface (`matplotlib.pyplot.figure`) are retained until explicitly closed and may consume too much memory. (To control this warning, see the rcParam `figure.max_open_warning`).\n",
      "  max_open_warning, RuntimeWarning)\n"
     ]
    },
    {
     "data": {
      "application/vnd.jupyter.widget-view+json": {
       "model_id": "63d49705cdac447b921e147534ad6c29",
       "version_major": 2,
       "version_minor": 0
      },
      "text/plain": [
       "FigureCanvasNbAgg()"
      ]
     },
     "metadata": {},
     "output_type": "display_data"
    },
    {
     "data": {
      "text/plain": [
       "[<matplotlib.lines.Line2D at 0x38e084c18>]"
      ]
     },
     "execution_count": 304,
     "metadata": {},
     "output_type": "execute_result"
    }
   ],
   "source": [
    "plt.figure()\n",
    "plt.subplot(211)\n",
    "plt.plot(time[t1:],np.real(w[:,-1]))\n",
    "plt.plot(time[t1:],np.real(w[:,100]))\n",
    "plt.subplot(212)\n",
    "plt.plot(time[t1:],ustar)"
   ]
  },
  {
   "cell_type": "code",
   "execution_count": 134,
   "metadata": {},
   "outputs": [
    {
     "data": {
      "text/plain": [
       "0.6666666666666666"
      ]
     },
     "execution_count": 134,
     "metadata": {},
     "output_type": "execute_result"
    }
   ],
   "source": [
    "1/1.5"
   ]
  },
  {
   "cell_type": "code",
   "execution_count": 343,
   "metadata": {},
   "outputs": [],
   "source": [
    "!open ."
   ]
  },
  {
   "cell_type": "code",
   "execution_count": 310,
   "metadata": {},
   "outputs": [
    {
     "data": {
      "text/plain": [
       "array([3.16227766e-03, 3.76881051e-03, 4.49167790e-03, 5.35319307e-03,\n",
       "       6.37994904e-03, 7.60363939e-03, 9.06203665e-03, 1.08001582e-02,\n",
       "       1.28716558e-02, 1.53404720e-02, 1.82828133e-02, 2.17895031e-02,\n",
       "       2.59687849e-02, 3.09496635e-02, 3.68858872e-02, 4.39606936e-02,\n",
       "       5.23924658e-02, 6.24414732e-02, 7.44179056e-02, 8.86914480e-02,\n",
       "       1.05702692e-01, 1.25976736e-01, 1.50139392e-01, 1.78936507e-01,\n",
       "       2.13256981e-01, 2.54160210e-01, 3.02908780e-01, 3.61007450e-01,\n",
       "       4.30249592e-01, 5.12772552e-01, 6.11123623e-01, 7.28338679e-01,\n",
       "       8.68035880e-01, 1.03452736e+00, 1.23295232e+00, 1.46943569e+00,\n",
       "       1.75127717e+00, 2.08717656e+00, 2.48750230e+00, 2.96461153e+00,\n",
       "       3.53323152e+00, 4.21091426e+00, 5.01857826e+00, 5.98115426e+00,\n",
       "       7.12835476e+00, 8.49559123e+00, 1.01250671e+01, 1.20670806e+01,\n",
       "       1.43815771e+01, 1.71400000e+01])"
      ]
     },
     "execution_count": 310,
     "metadata": {},
     "output_type": "execute_result"
    }
   ],
   "source": [
    "z"
   ]
  },
  {
   "cell_type": "code",
   "execution_count": 345,
   "metadata": {},
   "outputs": [
    {
     "data": {
      "text/plain": [
       "0.7212245428783817"
      ]
     },
     "execution_count": 345,
     "metadata": {},
     "output_type": "execute_result"
    }
   ],
   "source": [
    "dz[-1]"
   ]
  },
  {
   "cell_type": "code",
   "execution_count": 367,
   "metadata": {},
   "outputs": [],
   "source": [
    "!open ."
   ]
  },
  {
   "cell_type": "code",
   "execution_count": null,
   "metadata": {},
   "outputs": [],
   "source": []
  }
 ],
 "metadata": {
  "kernelspec": {
   "display_name": "Python [conda env:py37]",
   "language": "python",
   "name": "conda-env-py37-py"
  },
  "language_info": {
   "codemirror_mode": {
    "name": "ipython",
    "version": 3
   },
   "file_extension": ".py",
   "mimetype": "text/x-python",
   "name": "python",
   "nbconvert_exporter": "python",
   "pygments_lexer": "ipython3",
   "version": "3.7.2"
  }
 },
 "nbformat": 4,
 "nbformat_minor": 2
}
