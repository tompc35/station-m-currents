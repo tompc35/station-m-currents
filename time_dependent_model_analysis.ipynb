{
 "cells": [
  {
   "cell_type": "code",
   "execution_count": 1,
   "metadata": {},
   "outputs": [],
   "source": [
    "%matplotlib widget\n",
    "import xarray as xr\n",
    "import numpy as np\n",
    "import matplotlib.pyplot as plt\n",
    "import pandas as pd\n",
    "from oceans import bottomstress\n",
    "import datapath"
   ]
  },
  {
   "cell_type": "markdown",
   "metadata": {},
   "source": [
    "### Load model results and data\n",
    "\n",
    "##### Load results from numerical BBL model "
   ]
  },
  {
   "cell_type": "code",
   "execution_count": 2,
   "metadata": {},
   "outputs": [],
   "source": [
    "ds = xr.open_dataset('data/bbl_model_solutions.nc')"
   ]
  },
  {
   "cell_type": "markdown",
   "metadata": {},
   "source": [
    "##### Load ADCP data"
   ]
  },
  {
   "cell_type": "code",
   "execution_count": 3,
   "metadata": {},
   "outputs": [],
   "source": [
    "dsadcp = xr.open_dataset(datapath.adcpnc())"
   ]
  },
  {
   "cell_type": "markdown",
   "metadata": {},
   "source": [
    "##### Load Rover data"
   ]
  },
  {
   "cell_type": "code",
   "execution_count": 4,
   "metadata": {},
   "outputs": [
    {
     "name": "stderr",
     "output_type": "stream",
     "text": [
      "/Users/tomconnolly/programs/anaconda/envs/py37/lib/python3.7/site-packages/ipykernel/__main__.py:17: SettingWithCopyWarning: \n",
      "A value is trying to be set on a copy of a slice from a DataFrame\n",
      "\n",
      "See the caveats in the documentation: http://pandas.pydata.org/pandas-docs/stable/indexing.html#indexing-view-versus-copy\n",
      "/Users/tomconnolly/programs/anaconda/envs/py37/lib/python3.7/site-packages/ipykernel/__main__.py:18: SettingWithCopyWarning: \n",
      "A value is trying to be set on a copy of a slice from a DataFrame\n",
      "\n",
      "See the caveats in the documentation: http://pandas.pydata.org/pandas-docs/stable/indexing.html#indexing-view-versus-copy\n"
     ]
    }
   ],
   "source": [
    "# Load data\n",
    "rover_csv_file = datapath.rover()\n",
    "df_all = pd.read_csv(rover_csv_file,parse_dates=[5])\n",
    "\n",
    "# Datetime index\n",
    "df_all = df_all.set_index('Date_time_R')\n",
    "\n",
    "# Create u and v components with units m/s\n",
    "df_all['u'] = df_all['Easting (cm/sec)']/100\n",
    "df_all['v'] = df_all['Northing (cm/sec)']/100\n",
    "\n",
    "# mask erroneous points \n",
    "# abrupt shift near end of deployment \n",
    "bi = ((df_all.index > np.datetime64('2015-06-18T12:00')) &\n",
    "    (df_all.index < np.datetime64('2015-06-20T00:00')))\n",
    "\n",
    "df_all['u'][bi] = np.nan\n",
    "df_all['v'][bi] = np.nan\n",
    "\n",
    "# select time range\n",
    "t1 = np.datetime64('2014-10-11T00:00:00')\n",
    "t2 = np.datetime64('2018-10-17T00:00:00')\n",
    "df_all = df_all.loc[(df_all.index >= t1) & (df_all.index <= t2)]\n",
    "\n",
    "# resample and interpolate\n",
    "df_all_r = df_all.resample('1H').mean()"
   ]
  },
  {
   "cell_type": "markdown",
   "metadata": {},
   "source": [
    "### Calculate RMSE and sensitivity to roughness length\n",
    "\n",
    "Calculate root mean squared error at the bottom ADCP bin for different model runs. Find $z_o$ that leads to the minimum RMSE"
   ]
  },
  {
   "cell_type": "code",
   "execution_count": 5,
   "metadata": {},
   "outputs": [],
   "source": [
    "t1 = 24*12\n",
    "urmse = np.sqrt(np.mean((ds['usol_obs_all'][t1:-1,0,:]-ds['uobs_subset'][t1:-1,0])**2,axis=0))\n",
    "vrmse = np.sqrt(np.mean((ds['vsol_obs_all'][t1:-1,0,:]-ds['vobs_subset'][t1:-1,0])**2,axis=0))\n",
    "\n",
    "ds['speedsol_obs_all'] = np.sqrt(ds['usol_obs_all']**2 + ds['vsol_obs_all']**2)\n",
    "ds['speedobs_subset'] = np.sqrt(ds['uobs_subset']**2 + ds['vobs_subset']**2)\n",
    "\n",
    "\n",
    "speedrmse = np.sqrt(np.mean((ds['speedsol_obs_all'][t1:-1,0,:]-\n",
    "                        ds['speedobs_subset'][t1:-1,0])**2,axis=0))"
   ]
  },
  {
   "cell_type": "code",
   "execution_count": 6,
   "metadata": {},
   "outputs": [
    {
     "data": {
      "application/vnd.jupyter.widget-view+json": {
       "model_id": "fdb75587978f42bebba22aec82fb834d",
       "version_major": 2,
       "version_minor": 0
      },
      "text/plain": [
       "FigureCanvasNbAgg()"
      ]
     },
     "metadata": {},
     "output_type": "display_data"
    },
    {
     "data": {
      "text/plain": [
       "Text(0.5, 1.0, 'u + v RMSE')"
      ]
     },
     "execution_count": 6,
     "metadata": {},
     "output_type": "execute_result"
    }
   ],
   "source": [
    "plt.figure()\n",
    "plt.plot(ds['zo'],urmse+vrmse,'-o')\n",
    "plt.xlim([0,0.01])\n",
    "plt.xlabel('zo')\n",
    "plt.ylabel('RMSE')\n",
    "plt.title('u + v RMSE')"
   ]
  },
  {
   "cell_type": "code",
   "execution_count": 7,
   "metadata": {},
   "outputs": [
    {
     "data": {
      "application/vnd.jupyter.widget-view+json": {
       "model_id": "b71eb67240cf412e995cc419ff30d2d5",
       "version_major": 2,
       "version_minor": 0
      },
      "text/plain": [
       "FigureCanvasNbAgg()"
      ]
     },
     "metadata": {},
     "output_type": "display_data"
    },
    {
     "data": {
      "text/plain": [
       "Text(0.5, 1.0, 'speed RMSE')"
      ]
     },
     "execution_count": 7,
     "metadata": {},
     "output_type": "execute_result"
    }
   ],
   "source": [
    "plt.figure()\n",
    "plt.plot(ds['zo'],speedrmse,'-o')\n",
    "plt.xlim([0,0.01])\n",
    "plt.xlabel('zo')\n",
    "plt.ylabel('RMSE')\n",
    "plt.title('speed RMSE')"
   ]
  },
  {
   "cell_type": "code",
   "execution_count": 8,
   "metadata": {},
   "outputs": [],
   "source": [
    "zoi = int(np.argmin(urmse+vrmse))\n",
    "zo = np.array(ds['zo'][zoi])"
   ]
  },
  {
   "cell_type": "markdown",
   "metadata": {},
   "source": [
    "### Calculate modeled friction velocity"
   ]
  },
  {
   "cell_type": "code",
   "execution_count": 9,
   "metadata": {},
   "outputs": [],
   "source": [
    "# Set up vertical grid for selected zo\n",
    "zf = ds['zobs'][-1]\n",
    "nz = 201\n",
    "z = np.logspace(np.log10(zo),np.log10(zf),nz)\n",
    "dz = np.diff(z)\n",
    "\n",
    "# constants\n",
    "kappa = 0.41\n",
    "i = 1j\n",
    "\n",
    "# line up ADCP datetimes with model results\n",
    "ti0 = 9\n",
    "ntimes = len(ds['tobs'])\n",
    "time = dsadcp['time'][ti0:ti0+ntimes]\n",
    "\n",
    "# Use velocities for selected zo value\n",
    "u = np.array(ds['usol_all'][t1:,:,zoi])\n",
    "v = np.array(ds['vsol_all'][t1:,:,zoi])\n",
    "w = u+i*v\n",
    "\n",
    "# Calculate friction velocity from bottom grid point of model\n",
    "ustar = kappa*zo*np.abs(w[:,0])/dz[0]"
   ]
  },
  {
   "cell_type": "markdown",
   "metadata": {},
   "source": [
    "### Friction velocity estimate from benthic rover observations"
   ]
  },
  {
   "cell_type": "code",
   "execution_count": 10,
   "metadata": {},
   "outputs": [],
   "source": [
    "# calculate bottom stress and friction velocity for benthic rover\n",
    "tauxr,tauyr = bottomstress(np.array(df_all['u']),np.array(df_all['v']),1.5,zo=0.003)\n",
    "taumagr = np.sqrt(tauxr**2 + tauyr**2)\n",
    "ustarr = np.sqrt(taumagr/1025)"
   ]
  },
  {
   "cell_type": "markdown",
   "metadata": {},
   "source": [
    "### Plot comparison"
   ]
  },
  {
   "cell_type": "code",
   "execution_count": 11,
   "metadata": {},
   "outputs": [
    {
     "data": {
      "application/vnd.jupyter.widget-view+json": {
       "model_id": "35137e1897eb4676817e97dd7ebbfae2",
       "version_major": 2,
       "version_minor": 0
      },
      "text/plain": [
       "FigureCanvasNbAgg()"
      ]
     },
     "metadata": {},
     "output_type": "display_data"
    }
   ],
   "source": [
    "plt.figure(figsize=(8,6))\n",
    "\n",
    "plt.subplot(211)\n",
    "plt.plot(df_all.index,df_all['u'],'k-')\n",
    "plt.plot(df_all.index,df_all['v'],'-',color='gray')\n",
    "plt.plot(time[t1:],np.zeros(len(time[t1:])),'--',color='k')\n",
    "xl = plt.xlim([np.datetime64('2017-11-13'),np.datetime64('2017-12-09')])\n",
    "plt.legend(['u','v'])\n",
    "plt.gca().axes.xaxis.set_ticklabels([])\n",
    "plt.ylabel('[m/s]')\n",
    "plt.title('ADCP velocity - 17 m')\n",
    "\n",
    "plt.subplot(212)\n",
    "plt.plot(time[t1:],ustar,'-',color='gray')\n",
    "plt.plot(df_all.index,ustarr,'k-')\n",
    "time[t1:]\n",
    "plt.xlim(xl)\n",
    "yl = plt.ylim()\n",
    "plt.ylim([0,yl[1]])\n",
    "plt.legend(['model - seabed','rover - 1.5 m, log'])\n",
    "plt.ylabel('$u_*$ [m/s]')\n",
    "plt.title('friction velocity estimates')\n",
    "\n",
    "plt.savefig('figures_paper/friction_velocity.pdf')\n",
    "plt.savefig('figures_paper/friction_velocity.png')"
   ]
  },
  {
   "cell_type": "code",
   "execution_count": null,
   "metadata": {},
   "outputs": [],
   "source": []
  }
 ],
 "metadata": {
  "kernelspec": {
   "display_name": "Python [conda env:py37]",
   "language": "python",
   "name": "conda-env-py37-py"
  },
  "language_info": {
   "codemirror_mode": {
    "name": "ipython",
    "version": 3
   },
   "file_extension": ".py",
   "mimetype": "text/x-python",
   "name": "python",
   "nbconvert_exporter": "python",
   "pygments_lexer": "ipython3",
   "version": "3.7.2"
  }
 },
 "nbformat": 4,
 "nbformat_minor": 2
}
