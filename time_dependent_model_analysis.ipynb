{
 "cells": [
  {
   "cell_type": "code",
   "execution_count": 1,
   "metadata": {},
   "outputs": [],
   "source": [
    "%matplotlib widget\n",
    "import xarray as xr\n",
    "import numpy as np\n",
    "import matplotlib.pyplot as plt"
   ]
  },
  {
   "cell_type": "code",
   "execution_count": 107,
   "metadata": {},
   "outputs": [],
   "source": [
    "ds = xr.open_dataset('bbl_sols_neww.nc')"
   ]
  },
  {
   "cell_type": "code",
   "execution_count": 108,
   "metadata": {},
   "outputs": [
    {
     "data": {
      "text/plain": [
       "<xarray.Dataset>\n",
       "Dimensions:       (tobs: 8929, zo: 7, zobs: 16, zsol: 199)\n",
       "Coordinates:\n",
       "  * zobs          (zobs) float64 2.14 3.14 4.14 5.14 ... 14.14 15.14 16.14 17.14\n",
       "  * tobs          (tobs) float64 0.0 300.0 600.0 ... 2.678e+06 2.678e+06\n",
       "  * zo            (zo) float64 0.0001 0.0003162 0.001 0.003162 0.01 0.03162 0.1\n",
       "Dimensions without coordinates: zsol\n",
       "Data variables:\n",
       "    uobs_subset   (tobs, zobs) float64 ...\n",
       "    vobs_subset   (tobs, zobs) float64 ...\n",
       "    usol_all      (tobs, zsol, zo) float64 ...\n",
       "    vsol_all      (tobs, zsol, zo) float64 ...\n",
       "    usol_obs_all  (tobs, zobs, zo) float64 ...\n",
       "    vsol_obs_all  (tobs, zobs, zo) float64 ..."
      ]
     },
     "execution_count": 108,
     "metadata": {},
     "output_type": "execute_result"
    }
   ],
   "source": [
    "ds"
   ]
  },
  {
   "cell_type": "code",
   "execution_count": 109,
   "metadata": {},
   "outputs": [
    {
     "data": {
      "text/plain": [
       "<xarray.DataArray 'zobs' (zobs: 16)>\n",
       "array([ 2.14,  3.14,  4.14,  5.14,  6.14,  7.14,  8.14,  9.14, 10.14, 11.14,\n",
       "       12.14, 13.14, 14.14, 15.14, 16.14, 17.14])\n",
       "Coordinates:\n",
       "  * zobs     (zobs) float64 2.14 3.14 4.14 5.14 6.14 ... 14.14 15.14 16.14 17.14"
      ]
     },
     "execution_count": 109,
     "metadata": {},
     "output_type": "execute_result"
    }
   ],
   "source": [
    "ds['zobs']"
   ]
  },
  {
   "cell_type": "code",
   "execution_count": 110,
   "metadata": {},
   "outputs": [],
   "source": [
    "t1 = 24*12\n",
    "urmse = np.sqrt(np.mean((ds['usol_obs_all'][t1:-1,0,:]-ds['uobs_subset'][t1:-1,0])**2,axis=0))\n",
    "vrmse = np.sqrt(np.mean((ds['vsol_obs_all'][t1:-1,0,:]-ds['vobs_subset'][t1:-1,0])**2,axis=0))\n",
    "\n",
    "ds['speedsol_obs_all'] = np.sqrt(ds['usol_obs_all']**2 + ds['vsol_obs_all']**2)\n",
    "ds['speedobs_subset'] = np.sqrt(ds['uobs_subset']**2 + ds['vobs_subset']**2)\n",
    "\n",
    "\n",
    "speedrmse = np.sqrt(np.mean((ds['speedsol_obs_all'][t1:-1,0,:]-\n",
    "                        ds['speedobs_subset'][t1:-1,0])**2,axis=0))\n",
    "\n",
    "\n",
    "# urmse = np.sqrt(np.mean((ds['usol_obs_all'][t1:-1,:,:]-ds['uobs_subset'][t1:-1,:])**2,axis=0))\n",
    "# vrmse = np.sqrt(np.mean((ds['vsol_obs_all'][t1:-1,:,:]-ds['vobs_subset'][t1:-1,:])**2,axis=0))"
   ]
  },
  {
   "cell_type": "code",
   "execution_count": 111,
   "metadata": {},
   "outputs": [],
   "source": [
    "# urmse = np.sqrt(np.mean((ds['usol_obs_all'][t1:-1,:,:]-ds['uobs_subset'][t1:-1,:])**2,axis=0))\n",
    "# vrmse = np.sqrt(np.mean((ds['vsol_obs_all'][t1:-1,:,:]-ds['vobs_subset'][t1:-1,:])**2,axis=0))\n",
    "\n",
    "# urmse = np.sqrt(np.mean((ds['usol_obs_all'][t1:-1,:,:]-ds['uobs_subset'][t1:-1,:])**2,axis=0))\n",
    "# vrmse = np.sqrt(np.mean((ds['vsol_obs_all'][t1:-1,:,:]-ds['vobs_subset'][t1:-1,:])**2,axis=0))"
   ]
  },
  {
   "cell_type": "code",
   "execution_count": 132,
   "metadata": {},
   "outputs": [
    {
     "name": "stderr",
     "output_type": "stream",
     "text": [
      "/Users/tomconnolly/programs/anaconda/envs/py37/lib/python3.7/site-packages/matplotlib/pyplot.py:514: RuntimeWarning: More than 20 figures have been opened. Figures created through the pyplot interface (`matplotlib.pyplot.figure`) are retained until explicitly closed and may consume too much memory. (To control this warning, see the rcParam `figure.max_open_warning`).\n",
      "  max_open_warning, RuntimeWarning)\n"
     ]
    },
    {
     "data": {
      "application/vnd.jupyter.widget-view+json": {
       "model_id": "99eee0550b574d4982a2bcba0a1e1b18",
       "version_major": 2,
       "version_minor": 0
      },
      "text/plain": [
       "FigureCanvasNbAgg()"
      ]
     },
     "metadata": {},
     "output_type": "display_data"
    },
    {
     "data": {
      "text/plain": [
       "(0, 0.01)"
      ]
     },
     "execution_count": 132,
     "metadata": {},
     "output_type": "execute_result"
    }
   ],
   "source": [
    "plt.figure()\n",
    "plt.plot(ds['zo'],urmse+vrmse,'-o')\n",
    "plt.xlim([0,0.01])"
   ]
  },
  {
   "cell_type": "code",
   "execution_count": 113,
   "metadata": {},
   "outputs": [
    {
     "name": "stderr",
     "output_type": "stream",
     "text": [
      "/Users/tomconnolly/programs/anaconda/envs/py37/lib/python3.7/site-packages/matplotlib/pyplot.py:514: RuntimeWarning: More than 20 figures have been opened. Figures created through the pyplot interface (`matplotlib.pyplot.figure`) are retained until explicitly closed and may consume too much memory. (To control this warning, see the rcParam `figure.max_open_warning`).\n",
      "  max_open_warning, RuntimeWarning)\n"
     ]
    },
    {
     "data": {
      "application/vnd.jupyter.widget-view+json": {
       "model_id": "1669b361fb1540ecb3a1d54785c06119",
       "version_major": 2,
       "version_minor": 0
      },
      "text/plain": [
       "FigureCanvasNbAgg()"
      ]
     },
     "metadata": {},
     "output_type": "display_data"
    },
    {
     "data": {
      "text/plain": [
       "(0, 0.01)"
      ]
     },
     "execution_count": 113,
     "metadata": {},
     "output_type": "execute_result"
    }
   ],
   "source": [
    "plt.figure()\n",
    "plt.plot(ds['zo'],speedrmse,'-o')\n",
    "plt.xlim([0,0.01])"
   ]
  },
  {
   "cell_type": "code",
   "execution_count": 123,
   "metadata": {},
   "outputs": [
    {
     "data": {
      "text/plain": [
       "<xarray.DataArray 'zo' ()>\n",
       "array(0.003162)\n",
       "Coordinates:\n",
       "    zo       float64 0.003162"
      ]
     },
     "execution_count": 123,
     "metadata": {},
     "output_type": "execute_result"
    }
   ],
   "source": [
    "ds['zo'][3]"
   ]
  },
  {
   "cell_type": "code",
   "execution_count": 133,
   "metadata": {},
   "outputs": [
    {
     "data": {
      "text/plain": [
       "<xarray.DataArray ()>\n",
       "array(0.006355)\n",
       "Coordinates:\n",
       "    zobs     float64 2.14\n",
       "    zo       float64 0.003162"
      ]
     },
     "execution_count": 133,
     "metadata": {},
     "output_type": "execute_result"
    }
   ],
   "source": [
    "urmse[3]"
   ]
  },
  {
   "cell_type": "code",
   "execution_count": 134,
   "metadata": {},
   "outputs": [
    {
     "data": {
      "text/plain": [
       "<xarray.DataArray ()>\n",
       "array(0.006471)\n",
       "Coordinates:\n",
       "    zobs     float64 2.14\n",
       "    zo       float64 0.003162"
      ]
     },
     "execution_count": 134,
     "metadata": {},
     "output_type": "execute_result"
    }
   ],
   "source": [
    "vrmse[3]"
   ]
  },
  {
   "cell_type": "code",
   "execution_count": 126,
   "metadata": {},
   "outputs": [
    {
     "name": "stderr",
     "output_type": "stream",
     "text": [
      "/Users/tomconnolly/programs/anaconda/envs/py37/lib/python3.7/site-packages/matplotlib/pyplot.py:514: RuntimeWarning: More than 20 figures have been opened. Figures created through the pyplot interface (`matplotlib.pyplot.figure`) are retained until explicitly closed and may consume too much memory. (To control this warning, see the rcParam `figure.max_open_warning`).\n",
      "  max_open_warning, RuntimeWarning)\n"
     ]
    },
    {
     "data": {
      "application/vnd.jupyter.widget-view+json": {
       "model_id": "3e15c6d774b6436aa869be33a1a9f9e2",
       "version_major": 2,
       "version_minor": 0
      },
      "text/plain": [
       "FigureCanvasNbAgg()"
      ]
     },
     "metadata": {},
     "output_type": "display_data"
    },
    {
     "data": {
      "text/plain": [
       "[<matplotlib.lines.Line2D at 0x34ca5a2e8>]"
      ]
     },
     "execution_count": 126,
     "metadata": {},
     "output_type": "execute_result"
    }
   ],
   "source": [
    "plt.figure()\n",
    "plt.plot(ds['tobs'][t1:-1],np.squeeze(ds['usol_obs_all'][t1:-1,-5,:]))\n",
    "plt.plot(ds['tobs'][t1:-1],ds['uobs_subset'][t1:-1,0],'r-')\n",
    "plt.plot(ds['tobs'][t1:-1],ds['uobs_subset'][t1:-1,-1],'r-')"
   ]
  },
  {
   "cell_type": "code",
   "execution_count": null,
   "metadata": {},
   "outputs": [],
   "source": []
  },
  {
   "cell_type": "code",
   "execution_count": null,
   "metadata": {},
   "outputs": [],
   "source": []
  },
  {
   "cell_type": "code",
   "execution_count": null,
   "metadata": {},
   "outputs": [],
   "source": []
  }
 ],
 "metadata": {
  "kernelspec": {
   "display_name": "Python [conda env:py37]",
   "language": "python",
   "name": "conda-env-py37-py"
  },
  "language_info": {
   "codemirror_mode": {
    "name": "ipython",
    "version": 3
   },
   "file_extension": ".py",
   "mimetype": "text/x-python",
   "name": "python",
   "nbconvert_exporter": "python",
   "pygments_lexer": "ipython3",
   "version": "3.7.2"
  }
 },
 "nbformat": 4,
 "nbformat_minor": 2
}
