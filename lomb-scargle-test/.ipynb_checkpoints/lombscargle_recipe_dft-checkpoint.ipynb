{
 "cells": [
  {
   "cell_type": "code",
   "execution_count": 1,
   "metadata": {
    "collapsed": true
   },
   "outputs": [],
   "source": [
    "%matplotlib ipympl\n",
    "import numpy as np\n",
    "import matplotlib.pyplot as plt"
   ]
  },
  {
   "cell_type": "code",
   "execution_count": 2,
   "metadata": {},
   "outputs": [],
   "source": [
    "np.random.seed(0)"
   ]
  },
  {
   "cell_type": "code",
   "execution_count": 3,
   "metadata": {
    "collapsed": true
   },
   "outputs": [],
   "source": [
    "t = np.arange(0,1000,3)"
   ]
  },
  {
   "cell_type": "code",
   "execution_count": 4,
   "metadata": {
    "collapsed": true
   },
   "outputs": [],
   "source": [
    "t = t + np.random.randn(len(t))\n",
    "t = np.sort(t)"
   ]
  },
  {
   "cell_type": "code",
   "execution_count": 5,
   "metadata": {},
   "outputs": [],
   "source": [
    "x1 = (0.5*np.sin(2*np.pi*t/100) +\n",
    "      1.0*np.sin(2*np.pi*t/40) +\n",
    "      0.5*np.sin(2*np.pi*t/20))\n",
    "\n",
    "x2 = (0.5*np.sin(2*np.pi*t/100) +\n",
    "      0.5*np.sin(2*np.pi*t/20))\n",
    "\n",
    "x = x1\n",
    "x[149:] = x2[149:]\n",
    "x = x + 0.5*np.random.randn(len(x))"
   ]
  },
  {
   "cell_type": "code",
   "execution_count": 6,
   "metadata": {},
   "outputs": [
    {
     "data": {
      "application/vnd.jupyter.widget-view+json": {
       "model_id": "e0d668323eb944bdb7c2e881029acd9a",
       "version_major": 2,
       "version_minor": 0
      },
      "text/plain": [
       "FigureCanvasNbAgg()"
      ]
     },
     "metadata": {},
     "output_type": "display_data"
    },
    {
     "data": {
      "text/plain": [
       "[<matplotlib.lines.Line2D at 0x11d459908>]"
      ]
     },
     "execution_count": 6,
     "metadata": {},
     "output_type": "execute_result"
    }
   ],
   "source": [
    "plt.figure()\n",
    "plt.plot(t,x)"
   ]
  },
  {
   "cell_type": "code",
   "execution_count": 7,
   "metadata": {
    "collapsed": true
   },
   "outputs": [],
   "source": [
    "intm = np.mean(np.diff(t))\n",
    "ofac = 4  # oversampling parameter\n",
    "hifac = 1   # hifac = fhi/fnyq (ratio of highest frequency to pseudo-Nyquist frequency)\n",
    "\n",
    "flo = ((2*intm)**-1)/(len(x)*ofac)  # lowest freq\n",
    "fhi = hifac*(2*intm)**-1\n",
    "\n",
    "f = np.arange(flo,fhi+flo,flo)\n",
    "\n",
    "px = np.nan*np.ones(len(f))\n",
    "\n",
    "# periodogram\n",
    "for k,fk in enumerate(f):\n",
    "    wrun = 2*np.pi*fk\n",
    "    px[k] = ( 1/(2*np.var(x,ddof=1)) *\n",
    "             ((np.sum(x*np.cos(2*wrun*t - \n",
    "             np.arctan2(np.sum(np.sin(2*wrun*t)),np.sum(np.cos(2*wrun*t)))/2)))**2)\n",
    "             /(np.sum((np.cos(wrun*t - \n",
    "             np.arctan2(np.sum(np.sin(2*wrun*t)),np.sum(np.cos(2*wrun*t)))/2))**2)) + \n",
    "             ((np.sum(x*np.sin(wrun*t - \n",
    "             np.arctan2(np.sum(np.sin(2*wrun*t)),np.sum(np.cos(2*wrun*t)))/2)))**2)\n",
    "             /(np.sum((np.sin(wrun*t - \n",
    "             np.arctan2(np.sum(np.sin(2*wrun*t)),np.sum(np.cos(2*wrun*t)))/2))**2)) )              "
   ]
  },
  {
   "cell_type": "code",
   "execution_count": 8,
   "metadata": {},
   "outputs": [],
   "source": [
    "# DFT\n",
    "\n",
    "def lombscargle(t,x,ofac=4,hifac=1,t0=None,return_onesided=True,return_zero=False):\n",
    "    '''\n",
    "    \n",
    "    Compute the discrete Fourier transform and periodogram for unevenly-spaced data using the\n",
    "    Lomb-Scargle periodogram. Follows methods outlined in Scargle (1989).\n",
    "    \n",
    "    INPUTS\n",
    "    \n",
    "    t - array of numerical time values (length N)\n",
    "    x - array of data values  (length N)\n",
    "    \n",
    "    RETURNS\n",
    "    \n",
    "    f - array of frequencies\n",
    "    ftx - array of complex coefficients\n",
    "          discrete Fourier transform of x\n",
    "    px - periodogram of ftx, calculated as (1/N)*|ftx|**2\n",
    "    \n",
    "    OPTIONAL PARAMETERS\n",
    "    \n",
    "    ofac - oversampling parameter \n",
    "           ratio of number of frequencies used to number of samples in x\n",
    "           (default 4)        \n",
    "    hifac - high frequency parameter\n",
    "            ratio of highest frequency to pseudo-Nyquist frequency\n",
    "            (default 1)  \n",
    "    t0 - time origin\n",
    "         reference point for phase calculation\n",
    "         (default - None, first value in t array is used)\n",
    "    return_onesided - boolean for returning a one-sided spectrum\n",
    "        If True, return a one-sided spectrum for real data. If False return a two-sided spectrum for real data.  \n",
    "        Note that for complex data, a two-sided spectrum is always returned (as in scipy.signal).\n",
    "        (default - True)\n",
    "    return_zero - boolean for evaluating zero frequency\n",
    "        If True, include zero frequency. If False, do not include zero frequency.\n",
    "        Uses expressions for the limit as frequency approaches zero, following Scargle (1989). \n",
    "        (default - False)\n",
    "      \n",
    "    REFERENCE\n",
    "    \n",
    "    Scargle, J.D. (1989) Studies in astronomical time series analysis III: Fourier transforms, autocorrelation\n",
    "        functions, and cross-correlation functions of unevenly spaced data. The Astrophysical Journal, 343, 874-887\n",
    "    '''\n",
    "\n",
    "    intm = np.mean(np.diff(t))\n",
    "    ofac = 4  # oversampling parameter\n",
    "    hifac = 1   # hifac = fhi/fnyq (ratio of highest frequency to pseudo-Nyquist frequency)\n",
    "\n",
    "    flo = ((2*intm)**-1)/(len(x)*ofac)  # lowest freq\n",
    "    fhi = hifac*(2*intm)**-1\n",
    "\n",
    "    f = np.arange(flo,fhi+flo,flo)\n",
    "    \n",
    "    if return_zero == True:\n",
    "        f = np.append(0,f)\n",
    "    \n",
    "    # two-sided spectrum\n",
    "    if return_onesided == False:\n",
    "        if return_zero == True:\n",
    "            f = np.append(-f[1:][::-1],f)\n",
    "        else:\n",
    "            f = np.append(-f[::-1],f)\n",
    "\n",
    "    # time origin (reference point for phase calculation)\n",
    "    if t0 is None:\n",
    "        t0 = t[0] \n",
    "        \n",
    "    i = 1j # square root of -1\n",
    "    N = len(x) # number of samples\n",
    "\n",
    "    # initialize DFT as array of complex numbers\n",
    "    ftx = np.nan*np.ones(len(f)) + i*np.nan*np.ones(len(f))\n",
    "\n",
    "    for k,fk in enumerate(f):\n",
    "        wrun = 2*np.pi*fk # angular frequency    \n",
    "        \n",
    "        if fk == 0:\n",
    "            # use well-defined limit as frequency approaches zero\n",
    "            tau = np.sum(t)/N\n",
    "            ftx[k] = np.sum(x)/np.sqrt(N)\n",
    "            \n",
    "        else:\n",
    "            Fo = ((N/2)**0.5)*np.exp(-i*wrun*t0) \n",
    "\n",
    "            tau = np.arctan2(np.sum(np.sin(2*wrun*t)),np.sum(np.cos(2*wrun*t)))/(2*wrun)\n",
    "            tprime = t - tau\n",
    "\n",
    "            A = np.sum(np.cos(wrun*tprime)**2)**-0.5\n",
    "            B = np.sum(np.sin(wrun*tprime)**2)**-0.5\n",
    "\n",
    "            ftx[k] = Fo*np.sum(A*x*np.cos(wrun*tprime) + i*B*x*np.sin(wrun*tprime))\n",
    "\n",
    "    px = np.abs(ftx)**2/N\n",
    "    \n",
    "    return f, ftx, px"
   ]
  },
  {
   "cell_type": "code",
   "execution_count": 9,
   "metadata": {},
   "outputs": [],
   "source": [
    "f,ftx,px_dft = lombscargle(t,x)"
   ]
  },
  {
   "cell_type": "code",
   "execution_count": 10,
   "metadata": {},
   "outputs": [],
   "source": [
    "import scipy.signal as signal\n",
    "px_scipy = signal.lombscargle(t, x, f*2*np.pi)"
   ]
  },
  {
   "cell_type": "code",
   "execution_count": 11,
   "metadata": {},
   "outputs": [
    {
     "data": {
      "application/vnd.jupyter.widget-view+json": {
       "model_id": "b719986bd35b4873a50458209055e4f9",
       "version_major": 2,
       "version_minor": 0
      },
      "text/plain": [
       "FigureCanvasNbAgg()"
      ]
     },
     "metadata": {},
     "output_type": "display_data"
    },
    {
     "data": {
      "text/plain": [
       "[<matplotlib.lines.Line2D at 0x1c1f2cc860>]"
      ]
     },
     "execution_count": 11,
     "metadata": {},
     "output_type": "execute_result"
    }
   ],
   "source": [
    "plt.figure()\n",
    "plt.plot(f,px_dft,'-')\n",
    "plt.plot(f,px_scipy,'--')"
   ]
  },
  {
   "cell_type": "code",
   "execution_count": 12,
   "metadata": {},
   "outputs": [
    {
     "data": {
      "application/vnd.jupyter.widget-view+json": {
       "model_id": "713c2124365f43128add86dfbce390f5",
       "version_major": 2,
       "version_minor": 0
      },
      "text/plain": [
       "FigureCanvasNbAgg()"
      ]
     },
     "metadata": {},
     "output_type": "display_data"
    },
    {
     "data": {
      "text/plain": [
       "[<matplotlib.lines.Line2D at 0x1c1f367f28>]"
      ]
     },
     "execution_count": 12,
     "metadata": {},
     "output_type": "execute_result"
    }
   ],
   "source": [
    "plt.figure()\n",
    "plt.plot(px_dft,px_scipy)"
   ]
  },
  {
   "cell_type": "code",
   "execution_count": 13,
   "metadata": {},
   "outputs": [
    {
     "data": {
      "application/vnd.jupyter.widget-view+json": {
       "model_id": "285d47291c8b4d42b0e4bd872437a144",
       "version_major": 2,
       "version_minor": 0
      },
      "text/plain": [
       "FigureCanvasNbAgg()"
      ]
     },
     "metadata": {},
     "output_type": "display_data"
    },
    {
     "data": {
      "text/plain": [
       "[<matplotlib.lines.Line2D at 0x11d4a77f0>]"
      ]
     },
     "execution_count": 13,
     "metadata": {},
     "output_type": "execute_result"
    }
   ],
   "source": [
    "plt.figure()\n",
    "plt.plot(f,np.real(ftx))\n",
    "plt.plot(f,np.imag(ftx))"
   ]
  },
  {
   "cell_type": "code",
   "execution_count": null,
   "metadata": {},
   "outputs": [],
   "source": []
  }
 ],
 "metadata": {
  "anaconda-cloud": {},
  "kernelspec": {
   "display_name": "Python [conda env:py37]",
   "language": "python",
   "name": "conda-env-py37-py"
  },
  "language_info": {
   "codemirror_mode": {
    "name": "ipython",
    "version": 3
   },
   "file_extension": ".py",
   "mimetype": "text/x-python",
   "name": "python",
   "nbconvert_exporter": "python",
   "pygments_lexer": "ipython3",
   "version": "3.7.2"
  }
 },
 "nbformat": 4,
 "nbformat_minor": 2
}
