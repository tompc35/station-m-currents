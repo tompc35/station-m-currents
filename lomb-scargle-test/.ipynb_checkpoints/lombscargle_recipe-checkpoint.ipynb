{
 "cells": [
  {
   "cell_type": "code",
   "execution_count": 1,
   "metadata": {
    "collapsed": true
   },
   "outputs": [],
   "source": [
    "%matplotlib ipympl\n",
    "import numpy as np\n",
    "import matplotlib.pyplot as plt"
   ]
  },
  {
   "cell_type": "code",
   "execution_count": 28,
   "metadata": {},
   "outputs": [],
   "source": [
    "np.random.seed(0)"
   ]
  },
  {
   "cell_type": "code",
   "execution_count": 29,
   "metadata": {
    "collapsed": true
   },
   "outputs": [],
   "source": [
    "t = np.arange(0,1000,3)"
   ]
  },
  {
   "cell_type": "code",
   "execution_count": 30,
   "metadata": {
    "collapsed": true
   },
   "outputs": [],
   "source": [
    "t = t + np.random.randn(len(t))\n",
    "t = np.sort(t)"
   ]
  },
  {
   "cell_type": "code",
   "execution_count": 31,
   "metadata": {},
   "outputs": [],
   "source": [
    "x1 = (0.5*np.sin(2*np.pi*t/100) +\n",
    "      1.0*np.sin(2*np.pi*t/40) +\n",
    "      0.5*np.sin(2*np.pi*t/20))\n",
    "\n",
    "x2 = (0.5*np.sin(2*np.pi*t/100) +\n",
    "      0.5*np.sin(2*np.pi*t/20))\n",
    "\n",
    "x = x1\n",
    "x[149:] = x2[149:]\n",
    "x = x + 0.5*np.random.randn(len(x))"
   ]
  },
  {
   "cell_type": "code",
   "execution_count": 32,
   "metadata": {},
   "outputs": [
    {
     "data": {
      "application/vnd.jupyter.widget-view+json": {
       "model_id": "931044f4999840d5a76fee35493c8734",
       "version_major": 2,
       "version_minor": 0
      },
      "text/plain": [
       "FigureCanvasNbAgg()"
      ]
     },
     "metadata": {},
     "output_type": "display_data"
    },
    {
     "data": {
      "text/plain": [
       "[<matplotlib.lines.Line2D at 0x1219cf160>]"
      ]
     },
     "execution_count": 32,
     "metadata": {},
     "output_type": "execute_result"
    }
   ],
   "source": [
    "plt.figure()\n",
    "plt.plot(t,x)"
   ]
  },
  {
   "cell_type": "code",
   "execution_count": 63,
   "metadata": {
    "collapsed": true
   },
   "outputs": [],
   "source": [
    "intm = np.mean(np.diff(t))\n",
    "ofac = 4  # oversampling parameter\n",
    "hifac = 1   # hifac = fhi/fnyq (ratio of highest frequency to pseudo-Nyquist frequency)\n",
    "\n",
    "flo = ((2*intm)**-1)/(len(x)*ofac)  # lowest freq\n",
    "fhi = hifac*(2*intm)**-1\n",
    "\n",
    "f = np.arange(flo,fhi+flo,flo)\n",
    "\n",
    "px = np.nan*np.ones(len(f))\n",
    "\n",
    "for k,fk in enumerate(f):\n",
    "    wrun = 2*np.pi*fk\n",
    "    px[k] = ( 1/(2*np.var(x,ddof=1)) *\n",
    "             ((np.sum(x*np.cos(2*wrun*t - \n",
    "             np.arctan2(np.sum(np.sin(2*wrun*t)),np.sum(np.cos(2*wrun*t)))/2)))**2)\n",
    "             /(np.sum((np.cos(wrun*t - \n",
    "             np.arctan2(np.sum(np.sin(2*wrun*t)),np.sum(np.cos(2*wrun*t)))/2))**2)) + \n",
    "             ((np.sum(x*np.sin(wrun*t - \n",
    "             np.arctan2(np.sum(np.sin(2*wrun*t)),np.sum(np.cos(2*wrun*t)))/2)))**2)\n",
    "             /(np.sum((np.sin(wrun*t - \n",
    "             np.arctan2(np.sum(np.sin(2*wrun*t)),np.sum(np.cos(2*wrun*t)))/2))**2)) )              "
   ]
  },
  {
   "cell_type": "code",
   "execution_count": 64,
   "metadata": {},
   "outputs": [],
   "source": [
    "def lombscargle(t,x,ofac=4,hifac=1):\n",
    "    '''\n",
    "    Compute Lomb-Scargle periodogram.\n",
    "    \n",
    "    Based on Matlab code in Trauth, Matlab Recipes for Earth Sciences, 3rd Ed.\n",
    "    '''\n",
    "    intm = np.mean(np.diff(t))\n",
    "    ofac = 4  # oversampling parameter\n",
    "    hifac = 1   # hifac = fhi/fnyq (ratio of highest frequency to pseudo-Nyquist frequency)\n",
    "\n",
    "    flo = ((2*intm)**-1)/(len(x)*ofac)  # lowest freq\n",
    "    fhi = hifac*(2*intm)**-1\n",
    "\n",
    "    f = np.arange(flo,fhi+flo,flo)\n",
    "\n",
    "    px = np.nan*np.ones(len(f))\n",
    "\n",
    "    for k,fk in enumerate(f):\n",
    "        wrun = 2*np.pi*fk\n",
    "        px[k] = ( 1/(2*np.var(x,ddof=1)) *\n",
    "                 ((np.sum(x*np.cos(2*wrun*t - \n",
    "                 np.arctan2(np.sum(np.sin(2*wrun*t)),np.sum(np.cos(2*wrun*t)))/2)))**2)\n",
    "                 /(np.sum((np.cos(wrun*t - \n",
    "                 np.arctan2(np.sum(np.sin(2*wrun*t)),np.sum(np.cos(2*wrun*t)))/2))**2)) + \n",
    "                 ((np.sum(x*np.sin(wrun*t - \n",
    "                 np.arctan2(np.sum(np.sin(2*wrun*t)),np.sum(np.cos(2*wrun*t)))/2)))**2)\n",
    "                 /(np.sum((np.sin(wrun*t - \n",
    "                 np.arctan2(np.sum(np.sin(2*wrun*t)),np.sum(np.cos(2*wrun*t)))/2))**2)) )\n",
    "    return f, px"
   ]
  },
  {
   "cell_type": "code",
   "execution_count": 66,
   "metadata": {},
   "outputs": [
    {
     "data": {
      "application/vnd.jupyter.widget-view+json": {
       "model_id": "f835b3fa9c2342daa02d59b686e45803",
       "version_major": 2,
       "version_minor": 0
      },
      "text/plain": [
       "FigureCanvasNbAgg()"
      ]
     },
     "metadata": {},
     "output_type": "display_data"
    },
    {
     "data": {
      "text/plain": [
       "[<matplotlib.lines.Line2D at 0x1c24fc1a90>]"
      ]
     },
     "execution_count": 66,
     "metadata": {},
     "output_type": "execute_result"
    }
   ],
   "source": [
    "f_fun, px_fun = lombscargle(t,x)\n",
    "\n",
    "plt.figure()\n",
    "plt.plot(f,px)\n",
    "plt.plot(f_fun,px_fun,'--')"
   ]
  },
  {
   "cell_type": "code",
   "execution_count": 57,
   "metadata": {},
   "outputs": [],
   "source": [
    "import scipy.signal as signal\n",
    "px_scipy = signal.lombscargle(t, x, f*2*np.pi)"
   ]
  },
  {
   "cell_type": "code",
   "execution_count": 58,
   "metadata": {},
   "outputs": [
    {
     "data": {
      "text/plain": [
       "[<matplotlib.lines.Line2D at 0x1c247147f0>]"
      ]
     },
     "execution_count": 58,
     "metadata": {},
     "output_type": "execute_result"
    }
   ],
   "source": [
    "plt.plot(f,px_scipy)"
   ]
  },
  {
   "cell_type": "code",
   "execution_count": null,
   "metadata": {},
   "outputs": [],
   "source": []
  },
  {
   "cell_type": "code",
   "execution_count": null,
   "metadata": {},
   "outputs": [],
   "source": []
  }
 ],
 "metadata": {
  "anaconda-cloud": {},
  "kernelspec": {
   "display_name": "Python [conda env:py37]",
   "language": "python",
   "name": "conda-env-py37-py"
  },
  "language_info": {
   "codemirror_mode": {
    "name": "ipython",
    "version": 3
   },
   "file_extension": ".py",
   "mimetype": "text/x-python",
   "name": "python",
   "nbconvert_exporter": "python",
   "pygments_lexer": "ipython3",
   "version": "3.7.2"
  }
 },
 "nbformat": 4,
 "nbformat_minor": 2
}
