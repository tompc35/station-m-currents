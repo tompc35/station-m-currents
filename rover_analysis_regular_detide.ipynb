{
 "cells": [
  {
   "cell_type": "code",
   "execution_count": 1,
   "metadata": {},
   "outputs": [],
   "source": [
    "%matplotlib ipympl\n",
    "import pandas as pd\n",
    "import xarray as xr\n",
    "import numpy as np\n",
    "import matplotlib.pyplot as plt\n",
    "from scipy import stats\n",
    "from scipy.signal import welch, periodogram\n",
    "import os\n",
    "import matplotlib.dates as mdates\n",
    "import utide\n",
    "\n",
    "from physoce import tseries as ts\n",
    "from tseries import lombscargle\n",
    "from scipy.stats import chi2"
   ]
  },
  {
   "cell_type": "markdown",
   "metadata": {},
   "source": [
    "### Load data"
   ]
  },
  {
   "cell_type": "markdown",
   "metadata": {},
   "source": [
    "#### Rover"
   ]
  },
  {
   "cell_type": "code",
   "execution_count": 2,
   "metadata": {},
   "outputs": [
    {
     "name": "stderr",
     "output_type": "stream",
     "text": [
      "/Users/tomconnolly/programs/anaconda/envs/py37/lib/python3.7/site-packages/ipykernel/__main__.py:17: SettingWithCopyWarning: \n",
      "A value is trying to be set on a copy of a slice from a DataFrame\n",
      "\n",
      "See the caveats in the documentation: http://pandas.pydata.org/pandas-docs/stable/indexing.html#indexing-view-versus-copy\n",
      "/Users/tomconnolly/programs/anaconda/envs/py37/lib/python3.7/site-packages/ipykernel/__main__.py:18: SettingWithCopyWarning: \n",
      "A value is trying to be set on a copy of a slice from a DataFrame\n",
      "\n",
      "See the caveats in the documentation: http://pandas.pydata.org/pandas-docs/stable/indexing.html#indexing-view-versus-copy\n"
     ]
    }
   ],
   "source": [
    "# Load data\n",
    "rover_csv_file = 'data/Rover_II_Current_Mag_Hourly_Avg_pad_2018.csv'\n",
    "df_all = pd.read_csv(rover_csv_file,parse_dates=[7])\n",
    "\n",
    "# Datetime index\n",
    "df_all = df_all.set_index('Date_time_R')\n",
    "\n",
    "# Create u and v components with units m/s\n",
    "df_all['u'] = df_all['Easting (cm/sec)']/100\n",
    "df_all['v'] = df_all['Northing (cm/sec)']/100\n",
    "\n",
    "# mask erroneous points \n",
    "# abrupt shift near end of deployment \n",
    "bi = ((df_all.index > np.datetime64('2015-06-18T12:00')) &\n",
    "    (df_all.index < np.datetime64('2015-06-20T00:00')))\n",
    "\n",
    "df_all['u'][bi] = np.nan\n",
    "df_all['v'][bi] = np.nan\n",
    "\n",
    "# select time range\n",
    "t1 = np.datetime64('2014-10-11T00:00:00')\n",
    "t2 = np.datetime64('2018-10-17T00:00:00')\n",
    "df_all = df_all.loc[(df_all.index >= t1) & (df_all.index <= t2)]"
   ]
  },
  {
   "cell_type": "code",
   "execution_count": 3,
   "metadata": {},
   "outputs": [
    {
     "name": "stdout",
     "output_type": "stream",
     "text": [
      "solve: matrix prep ... solution ... diagnostics ... done.\n"
     ]
    }
   ],
   "source": [
    "# tidal analysis\n",
    "time = mdates.date2num(df_all.index)\n",
    "\n",
    "coef = utide.solve(time, np.array(df_all['u']), \n",
    "         np.array(df_all['v']),\n",
    "         lat=35+8.4585/60,\n",
    "         method='ols')"
   ]
  },
  {
   "cell_type": "code",
   "execution_count": 4,
   "metadata": {},
   "outputs": [],
   "source": [
    "# tide = utide.reconstruct(time,coef)"
   ]
  },
  {
   "cell_type": "code",
   "execution_count": 5,
   "metadata": {},
   "outputs": [],
   "source": [
    "# df_all['u_tide'] = tide.u\n",
    "# df_all['v_tide'] = tide.v\n",
    "# df_all['u_detide'] = df_all['u'] - df_all['u_tide']\n",
    "# df_all['v_detide'] = df_all['v'] - df_all['v_tide']"
   ]
  },
  {
   "cell_type": "markdown",
   "metadata": {},
   "source": [
    "### Resample to hourly values"
   ]
  },
  {
   "cell_type": "markdown",
   "metadata": {},
   "source": [
    "#### Define date range"
   ]
  },
  {
   "cell_type": "code",
   "execution_count": 6,
   "metadata": {},
   "outputs": [],
   "source": [
    "# t1 = np.datetime64('2017-11-12T00:00:00')\n",
    "# t2 = np.datetime64('2018-10-17T00:00:00')\n",
    "# dff = dfr.loc[(dfr.index >= t1) & (dfr.index <= t2)].interpolate(limit=2)"
   ]
  },
  {
   "cell_type": "code",
   "execution_count": 7,
   "metadata": {},
   "outputs": [
    {
     "name": "stdout",
     "output_type": "stream",
     "text": [
      "prep/calcs ... done.\n"
     ]
    },
    {
     "name": "stderr",
     "output_type": "stream",
     "text": [
      "/Users/tomconnolly/programs/anaconda/envs/py37/lib/python3.7/site-packages/scipy/signal/signaltools.py:491: FutureWarning: Using a non-tuple sequence for multidimensional indexing is deprecated; use `arr[tuple(seq)]` instead of `arr[seq]`. In the future this will be interpreted as an array index, `arr[np.array(seq)]`, which will result either in an error or a different result.\n",
      "  return x[reverse].conj()\n",
      "/Users/tomconnolly/programs/anaconda/envs/py37/lib/python3.7/site-packages/scipy/signal/signaltools.py:251: FutureWarning: Using a non-tuple sequence for multidimensional indexing is deprecated; use `arr[tuple(seq)]` instead of `arr[seq]`. In the future this will be interpreted as an array index, `arr[np.array(seq)]`, which will result either in an error or a different result.\n",
      "  in1zpadded[sc] = in1.copy()\n"
     ]
    }
   ],
   "source": [
    "# resample and interpolate\n",
    "df_all_r = df_all.resample('1H').mean()\n",
    "\n",
    "# Calculate tidal currents at hourly points\n",
    "time_r = mdates.date2num(df_all_r.index)\n",
    "tide_r = utide.reconstruct(time_r,coef)\n",
    "df_all_r['u_tide'] = tide_r.u\n",
    "df_all_r['v_tide'] = tide_r.v\n",
    "df_all_r['u_detide'] = df_all_r['u'] - df_all_r['u_tide']\n",
    "df_all_r['v_detide'] = df_all_r['v'] - df_all_r['v_tide']\n",
    "\n",
    "df_all_int = df_all_r.interpolate(limit=int(24*3.5))\n",
    "\n",
    "df_all_int['u'] = df_all_int['u_detide'] + df_all_int['u_tide']\n",
    "df_all_int['v'] = df_all_int['v_detide'] + df_all_int['v_tide']\n",
    "\n",
    "df_all_int['u_f'] = ts.pl64(df_all_int['u_detide'])\n",
    "df_all_int['v_f'] = ts.pl64(df_all_int['v_detide'])\n",
    "\n",
    "df_all_int['u_super'] = df_all_int['u'] - df_all_int['u_f'] - df_all_int['u_tide']\n",
    "df_all_int['v_super'] = df_all_int['v'] - df_all_int['v_f'] - df_all_int['v_tide']"
   ]
  },
  {
   "cell_type": "markdown",
   "metadata": {},
   "source": [
    "### Subset with no gaps\n",
    "November 2015-October 2018"
   ]
  },
  {
   "cell_type": "code",
   "execution_count": 8,
   "metadata": {},
   "outputs": [],
   "source": [
    "# select time range\n",
    "t1s = np.datetime64('2015-11-11T13:00:00')\n",
    "t2s = np.datetime64('2018-10-14T07:00:00')\n",
    "df_sub = df_all_int.loc[(df_all_int.index >= t1s) & (df_all_int.index <= t2s)]"
   ]
  },
  {
   "cell_type": "markdown",
   "metadata": {},
   "source": [
    "### Initial plots"
   ]
  },
  {
   "cell_type": "markdown",
   "metadata": {},
   "source": [
    "### Full velocity"
   ]
  },
  {
   "cell_type": "code",
   "execution_count": 9,
   "metadata": {},
   "outputs": [
    {
     "data": {
      "application/vnd.jupyter.widget-view+json": {
       "model_id": "0d653e387f074146b59ce0b8e53bfc96",
       "version_major": 2,
       "version_minor": 0
      },
      "text/plain": [
       "FigureCanvasNbAgg()"
      ]
     },
     "metadata": {},
     "output_type": "display_data"
    },
    {
     "data": {
      "text/plain": [
       "[<matplotlib.lines.Line2D at 0x1c1f4533c8>]"
      ]
     },
     "execution_count": 9,
     "metadata": {},
     "output_type": "execute_result"
    }
   ],
   "source": [
    "plt.figure(figsize=(7.5,4))\n",
    "plt.plot(df_all.index,df_all['u'])"
   ]
  },
  {
   "cell_type": "code",
   "execution_count": 10,
   "metadata": {},
   "outputs": [
    {
     "data": {
      "application/vnd.jupyter.widget-view+json": {
       "model_id": "f85c866a0fc647f6b95e073e615f0a02",
       "version_major": 2,
       "version_minor": 0
      },
      "text/plain": [
       "FigureCanvasNbAgg()"
      ]
     },
     "metadata": {},
     "output_type": "display_data"
    },
    {
     "data": {
      "text/plain": [
       "[<matplotlib.lines.Line2D at 0x1c20c86d30>]"
      ]
     },
     "execution_count": 10,
     "metadata": {},
     "output_type": "execute_result"
    }
   ],
   "source": [
    "plt.figure(figsize=(7.5,4))\n",
    "plt.plot(df_all_int.index,df_all_int['u_super'])\n",
    "plt.plot(df_all_int.index,df_all_int['u_f'])"
   ]
  },
  {
   "cell_type": "code",
   "execution_count": 11,
   "metadata": {},
   "outputs": [
    {
     "data": {
      "application/vnd.jupyter.widget-view+json": {
       "model_id": "e3ae5928837044bea982450527ebe4f0",
       "version_major": 2,
       "version_minor": 0
      },
      "text/plain": [
       "FigureCanvasNbAgg()"
      ]
     },
     "metadata": {},
     "output_type": "display_data"
    },
    {
     "data": {
      "text/plain": [
       "[<matplotlib.lines.Line2D at 0x1c1f3ef438>]"
      ]
     },
     "execution_count": 11,
     "metadata": {},
     "output_type": "execute_result"
    }
   ],
   "source": [
    "plt.figure(figsize=(7.5,4))\n",
    "plt.plot(df_all_int.index,df_all_int['u_super'])\n",
    "plt.plot(df_all_int.index,df_all_int['u_tide'])"
   ]
  },
  {
   "cell_type": "code",
   "execution_count": 12,
   "metadata": {},
   "outputs": [
    {
     "data": {
      "application/vnd.jupyter.widget-view+json": {
       "model_id": "c4058caf3c6e405b97f33e3563dcbbca",
       "version_major": 2,
       "version_minor": 0
      },
      "text/plain": [
       "FigureCanvasNbAgg()"
      ]
     },
     "metadata": {},
     "output_type": "display_data"
    },
    {
     "data": {
      "text/plain": [
       "[<matplotlib.lines.Line2D at 0x109f3ab00>]"
      ]
     },
     "execution_count": 12,
     "metadata": {},
     "output_type": "execute_result"
    }
   ],
   "source": [
    "plt.figure(figsize=(7.5,4))\n",
    "plt.plot(df_all_int.index,df_all_int['u_super'])\n",
    "plt.plot(df_all_int.index,df_all_int['v_super'])"
   ]
  },
  {
   "cell_type": "code",
   "execution_count": 13,
   "metadata": {},
   "outputs": [
    {
     "data": {
      "application/vnd.jupyter.widget-view+json": {
       "model_id": "8e46c9f7f1db40a8a7971cc72edd4058",
       "version_major": 2,
       "version_minor": 0
      },
      "text/plain": [
       "FigureCanvasNbAgg()"
      ]
     },
     "metadata": {},
     "output_type": "display_data"
    },
    {
     "data": {
      "text/plain": [
       "[<matplotlib.lines.Line2D at 0x109f45dd8>]"
      ]
     },
     "execution_count": 13,
     "metadata": {},
     "output_type": "execute_result"
    }
   ],
   "source": [
    "plt.figure(figsize=(7.5,4))\n",
    "plt.plot(df_sub.index,df_sub['u_f'])"
   ]
  },
  {
   "cell_type": "markdown",
   "metadata": {},
   "source": [
    "### Spectral analysis"
   ]
  },
  {
   "cell_type": "code",
   "execution_count": 14,
   "metadata": {},
   "outputs": [],
   "source": [
    "u = np.array(df_sub['u'])\n",
    "v = np.array(df_sub['v'])\n",
    "\n",
    "N = len(u)\n",
    "fu,Su = welch(u,fs=24.,nperseg=N/3,window='hanning')\n",
    "fv,Sv = welch(v,fs=24.,nperseg=N/3,window='hanning')"
   ]
  },
  {
   "cell_type": "code",
   "execution_count": 20,
   "metadata": {},
   "outputs": [
    {
     "data": {
      "application/vnd.jupyter.widget-view+json": {
       "model_id": "eb658d8d88bd43c1b0b9bc5a6d0ef311",
       "version_major": 2,
       "version_minor": 0
      },
      "text/plain": [
       "FigureCanvasNbAgg()"
      ]
     },
     "metadata": {},
     "output_type": "display_data"
    }
   ],
   "source": [
    "# fmax = 1/2\n",
    "# fi, = np.where(fu <= fmax)\n",
    "\n",
    "plt.figure()\n",
    "plt.loglog(fu,Su,'k-')\n",
    "plt.loglog(fv,Sv,'-',color='gray')\n",
    "xl = plt.xlim()\n",
    "plt.xlim(xl[0],np.max(fu))\n",
    "\n",
    "# confidence intervals\n",
    "dof = 6\n",
    "edof = (8/3)*dof\n",
    "lower = edof/chi2.ppf(0.975,edof)\n",
    "upper = edof/chi2.ppf(0.025,edof)\n",
    "fplot = 5\n",
    "fac = 0.0008\n",
    "plt.plot(np.array([fplot,fplot]),fac*np.array([lower,upper]),'k-')\n",
    "plt.text(fplot+0.5,fac*np.mean([lower,upper]),'95%',verticalalignment='center')\n",
    "\n",
    "plt.legend(['u','v'])\n",
    "plt.xlabel('frequency [cpd]')\n",
    "plt.ylabel('[m$^2$ s$^{-2}$ cpd$^{-1}$]')\n",
    "plt.title('Benthic Rover\\nNov 2015-Oct 2018')\n",
    "\n",
    "plt.savefig('figures_paper/rover_spectrum.png')\n",
    "plt.savefig('figures_paper/rover_spectrum.pdf')"
   ]
  },
  {
   "cell_type": "markdown",
   "metadata": {},
   "source": [
    "### Lomb-Scargle periodogram - 2014 to 2018"
   ]
  },
  {
   "cell_type": "code",
   "execution_count": 16,
   "metadata": {},
   "outputs": [],
   "source": [
    "gi, = np.where(np.isfinite(df_all['u']+df_all['v']))\n",
    "ua = np.array(df_all['u'][gi])\n",
    "va = np.array(df_all['v'][gi])\n",
    "\n",
    "#rotary spectrum\n",
    "fua,ftua,Sua = lombscargle(time[gi],ua,ofac=1,window='hanning',scaling='density')\n",
    "fva,ftva,Sva = lombscargle(time[gi],va,ofac=1,window='hanning',scaling='density')"
   ]
  },
  {
   "cell_type": "code",
   "execution_count": 17,
   "metadata": {},
   "outputs": [],
   "source": [
    "# average frequency bands\n",
    "navg = 2 # number of frequency bands to average\n",
    "nfreq = int(np.floor(len(fua)/navg))  # number of freqencies in averaged spectrum\n",
    "\n",
    "fwt = 1/navg\n",
    "fm = np.zeros(nfreq)\n",
    "Sum = np.zeros(nfreq)\n",
    "Svm = np.zeros(nfreq)\n",
    "for k in range(navg):\n",
    "    fm = fm + fwt*fua[1:(nfreq*navg)][::navg]\n",
    "    Sum = Sum + fwt*Sua[1:(nfreq*navg)][::navg]\n",
    "    Svm = Svm + fwt*Sva[1:(nfreq*navg)][::navg]"
   ]
  },
  {
   "cell_type": "code",
   "execution_count": 18,
   "metadata": {},
   "outputs": [
    {
     "data": {
      "text/plain": [
       "array([3.49997163e-04, 2.22530111e-03, 1.92575183e-03, ...,\n",
       "       4.81409249e-06, 1.48315243e-07, 2.90089730e-07])"
      ]
     },
     "execution_count": 18,
     "metadata": {},
     "output_type": "execute_result"
    }
   ],
   "source": [
    "Sum"
   ]
  },
  {
   "cell_type": "code",
   "execution_count": 19,
   "metadata": {},
   "outputs": [
    {
     "data": {
      "application/vnd.jupyter.widget-view+json": {
       "model_id": "fa5691788374401bb2f6d2a517e6d530",
       "version_major": 2,
       "version_minor": 0
      },
      "text/plain": [
       "FigureCanvasNbAgg()"
      ]
     },
     "metadata": {},
     "output_type": "display_data"
    },
    {
     "data": {
      "text/plain": [
       "Text(0.5, 1.0, 'Lomb-Scargle periodogram [Rover]')"
      ]
     },
     "execution_count": 19,
     "metadata": {},
     "output_type": "execute_result"
    }
   ],
   "source": [
    "plt.figure()\n",
    "plt.loglog(fua,Sua)\n",
    "plt.loglog(fva,Sva,'--')\n",
    "plt.xlabel('frequency [cpd]')\n",
    "plt.ylabel('[m$^2$ s$^{-2}$ cpd$^{-1}$]')\n",
    "plt.title('Lomb-Scargle periodogram [Rover]')"
   ]
  },
  {
   "cell_type": "code",
   "execution_count": 95,
   "metadata": {},
   "outputs": [],
   "source": [
    "df_all_1M = df_all_int.rolling(24*30,min_periods=24*30,center=True).mean()\n",
    "df_all_2M = df_all_int.rolling(24*60,min_periods=24*60,center=True).mean()\n",
    "df_all_3M = df_all_int.rolling(24*90,min_periods=24*90,center=True).mean()"
   ]
  },
  {
   "cell_type": "code",
   "execution_count": 239,
   "metadata": {},
   "outputs": [],
   "source": [
    "df_all_3M_mon = df_all_3M.resample('1M').last()\n",
    "df_all_2M_mon = df_all_2M.resample('1M').last()\n",
    "df_all_1M_mon = df_all_1M.resample('1M').last()"
   ]
  },
  {
   "cell_type": "code",
   "execution_count": 97,
   "metadata": {},
   "outputs": [],
   "source": [
    "df_all_1Mstd = df_all_int.rolling(24*30,min_periods=24*30,center=True).std()\n",
    "df_all_2Mstd = df_all_int.rolling(24*60,min_periods=24*60,center=True).std()\n",
    "df_all_3Mstd = df_all_int.rolling(24*90,min_periods=24*90,center=True).std()"
   ]
  },
  {
   "cell_type": "code",
   "execution_count": 98,
   "metadata": {},
   "outputs": [],
   "source": [
    "df_all_3Mstd_mon = df_all_3Mstd.resample('1M').last()\n",
    "df_all_2Mstd_mon = df_all_2Mstd.resample('1M').last()\n",
    "df_all_1Mstd_mon = df_all_1Mstd.resample('1M').last()"
   ]
  },
  {
   "cell_type": "code",
   "execution_count": 243,
   "metadata": {},
   "outputs": [
    {
     "name": "stderr",
     "output_type": "stream",
     "text": [
      "/Users/tomconnolly/programs/anaconda/envs/py37/lib/python3.7/site-packages/matplotlib/pyplot.py:514: RuntimeWarning: More than 20 figures have been opened. Figures created through the pyplot interface (`matplotlib.pyplot.figure`) are retained until explicitly closed and may consume too much memory. (To control this warning, see the rcParam `figure.max_open_warning`).\n",
      "  max_open_warning, RuntimeWarning)\n"
     ]
    },
    {
     "data": {
      "application/vnd.jupyter.widget-view+json": {
       "model_id": "012ef79ae39a401a9efc881c54862309",
       "version_major": 2,
       "version_minor": 0
      },
      "text/plain": [
       "FigureCanvasNbAgg()"
      ]
     },
     "metadata": {},
     "output_type": "display_data"
    }
   ],
   "source": [
    "plt.figure(figsize=(6.5,6.5))\n",
    "plt.subplot(311)\n",
    "plt.plot(df_all_2M_mon.index.month,df_all_2M_mon['u_f'],'ko')\n",
    "plt.plot(df_all_2M_mon.index.month,df_all_2M_mon['v_f'],'^',color='gray')\n",
    "plt.ylim([-0.01,0.01])\n",
    "plt.ylabel('[m/s]')\n",
    "xl = plt.xlim()\n",
    "yl = plt.ylim()\n",
    "plt.text(xl[0]+0.005*np.diff(xl),yl[1]-0.1*np.diff(yl),'a)')\n",
    "plt.gca().set_xticks(np.arange(1,13))\n",
    "plt.gca().set_xticklabels([])\n",
    "plt.legend(['$u$','$v$'],loc=(0.6,0.7))\n",
    "plt.title('60-day mean $u$, $v$ velocity components')\n",
    "\n",
    "plt.subplot(312)\n",
    "plt.plot(df_all_2Mstd_mon.index.month,df_all_2Mstd_mon['u_f'],'ko')\n",
    "plt.ylim([0,0.02])\n",
    "plt.ylabel('[m/s]')\n",
    "xl = plt.xlim()\n",
    "yl = plt.ylim()\n",
    "plt.text(xl[0]+0.005*np.diff(xl),yl[1]-0.1*np.diff(yl),'b)')\n",
    "plt.gca().set_xticks(np.arange(1,13))\n",
    "plt.gca().set_xticklabels([])\n",
    "plt.title('60-day standard deviation - $u_{lp}$')\n",
    "\n",
    "plt.subplot(313)\n",
    "plt.plot(df_all_2Mstd_mon.index.month,df_all_2Mstd_mon['u_super'],'ko')\n",
    "plt.ylim([0,0.02])\n",
    "plt.ylabel('[m/s]')\n",
    "xl = plt.xlim()\n",
    "yl = plt.ylim()\n",
    "plt.text(xl[0]+0.005*np.diff(xl),yl[1]-0.1*np.diff(yl),'c)')\n",
    "plt.gca().set_xticks(np.arange(1,13))\n",
    "plt.gca().set_xticklabels(['Jan','Feb','Mar','Apr','May','Jun','Jul','Aug','Sep','Oct','Nov','Dec'])\n",
    "plt.title('60-day standard deviation - $u_{hp}$')\n",
    "plt.tight_layout()\n",
    "\n",
    "plt.savefig('figures_paper/monthly_stats.png',dpi=600)\n",
    "plt.savefig('figures_paper/monthly_stats.pdf')"
   ]
  },
  {
   "cell_type": "code",
   "execution_count": 189,
   "metadata": {},
   "outputs": [],
   "source": [
    "from statsmodels.stats.multicomp import (pairwise_tukeyhsd,\n",
    "                                         MultiComparison)"
   ]
  },
  {
   "cell_type": "code",
   "execution_count": 190,
   "metadata": {},
   "outputs": [],
   "source": [
    "fi = np.isfinite(df_all_2Mstd_mon['u_f'])"
   ]
  },
  {
   "cell_type": "code",
   "execution_count": 204,
   "metadata": {},
   "outputs": [],
   "source": [
    "MultiComp = MultiComparison(df_all_2Mstd_mon['u_f'][fi],\n",
    "                            df_all_2Mstd_mon.index.month[fi])"
   ]
  },
  {
   "cell_type": "code",
   "execution_count": 238,
   "metadata": {},
   "outputs": [
    {
     "data": {
      "text/html": [
       "<div>\n",
       "<style scoped>\n",
       "    .dataframe tbody tr th:only-of-type {\n",
       "        vertical-align: middle;\n",
       "    }\n",
       "\n",
       "    .dataframe tbody tr th {\n",
       "        vertical-align: top;\n",
       "    }\n",
       "\n",
       "    .dataframe thead th {\n",
       "        text-align: right;\n",
       "    }\n",
       "</style>\n",
       "<table border=\"1\" class=\"dataframe\">\n",
       "  <thead>\n",
       "    <tr style=\"text-align: right;\">\n",
       "      <th></th>\n",
       "      <th>Unnamed: 0</th>\n",
       "      <th>Current_mag</th>\n",
       "      <th>Easting (cm/sec)</th>\n",
       "      <th>Northing (cm/sec)</th>\n",
       "      <th>Minutes</th>\n",
       "      <th>Seconds</th>\n",
       "      <th>u</th>\n",
       "      <th>v</th>\n",
       "      <th>u_tide</th>\n",
       "      <th>v_tide</th>\n",
       "      <th>u_detide</th>\n",
       "      <th>v_detide</th>\n",
       "      <th>u_f</th>\n",
       "      <th>v_f</th>\n",
       "      <th>u_super</th>\n",
       "      <th>v_super</th>\n",
       "    </tr>\n",
       "    <tr>\n",
       "      <th>Date_time_R</th>\n",
       "      <th></th>\n",
       "      <th></th>\n",
       "      <th></th>\n",
       "      <th></th>\n",
       "      <th></th>\n",
       "      <th></th>\n",
       "      <th></th>\n",
       "      <th></th>\n",
       "      <th></th>\n",
       "      <th></th>\n",
       "      <th></th>\n",
       "      <th></th>\n",
       "      <th></th>\n",
       "      <th></th>\n",
       "      <th></th>\n",
       "      <th></th>\n",
       "    </tr>\n",
       "  </thead>\n",
       "  <tbody>\n",
       "    <tr>\n",
       "      <th>2014-10-31</th>\n",
       "      <td>NaN</td>\n",
       "      <td>NaN</td>\n",
       "      <td>NaN</td>\n",
       "      <td>NaN</td>\n",
       "      <td>NaN</td>\n",
       "      <td>NaN</td>\n",
       "      <td>NaN</td>\n",
       "      <td>NaN</td>\n",
       "      <td>NaN</td>\n",
       "      <td>NaN</td>\n",
       "      <td>NaN</td>\n",
       "      <td>NaN</td>\n",
       "      <td>NaN</td>\n",
       "      <td>NaN</td>\n",
       "      <td>NaN</td>\n",
       "      <td>NaN</td>\n",
       "    </tr>\n",
       "    <tr>\n",
       "      <th>2014-11-30</th>\n",
       "      <td>415.871014</td>\n",
       "      <td>0.934629</td>\n",
       "      <td>0.730026</td>\n",
       "      <td>1.621102</td>\n",
       "      <td>7.479623</td>\n",
       "      <td>11.140831</td>\n",
       "      <td>0.007381</td>\n",
       "      <td>0.016460</td>\n",
       "      <td>0.008566</td>\n",
       "      <td>0.011741</td>\n",
       "      <td>0.008031</td>\n",
       "      <td>0.009810</td>\n",
       "      <td>0.003081</td>\n",
       "      <td>0.003533</td>\n",
       "      <td>0.007347</td>\n",
       "      <td>0.009074</td>\n",
       "    </tr>\n",
       "    <tr>\n",
       "      <th>2014-12-31</th>\n",
       "      <td>415.837064</td>\n",
       "      <td>0.964297</td>\n",
       "      <td>0.757248</td>\n",
       "      <td>1.676798</td>\n",
       "      <td>7.592627</td>\n",
       "      <td>10.946328</td>\n",
       "      <td>0.007609</td>\n",
       "      <td>0.017007</td>\n",
       "      <td>0.008031</td>\n",
       "      <td>0.012201</td>\n",
       "      <td>0.007857</td>\n",
       "      <td>0.010410</td>\n",
       "      <td>0.003228</td>\n",
       "      <td>0.003408</td>\n",
       "      <td>0.007104</td>\n",
       "      <td>0.009750</td>\n",
       "    </tr>\n",
       "    <tr>\n",
       "      <th>2015-01-31</th>\n",
       "      <td>415.837176</td>\n",
       "      <td>1.034222</td>\n",
       "      <td>0.796061</td>\n",
       "      <td>1.806495</td>\n",
       "      <td>7.672934</td>\n",
       "      <td>10.932526</td>\n",
       "      <td>0.008018</td>\n",
       "      <td>0.018328</td>\n",
       "      <td>0.007637</td>\n",
       "      <td>0.012308</td>\n",
       "      <td>0.007833</td>\n",
       "      <td>0.011684</td>\n",
       "      <td>0.003345</td>\n",
       "      <td>0.003609</td>\n",
       "      <td>0.007024</td>\n",
       "      <td>0.010993</td>\n",
       "    </tr>\n",
       "    <tr>\n",
       "      <th>2015-02-28</th>\n",
       "      <td>415.420054</td>\n",
       "      <td>0.988327</td>\n",
       "      <td>0.854650</td>\n",
       "      <td>1.585933</td>\n",
       "      <td>7.502846</td>\n",
       "      <td>11.163207</td>\n",
       "      <td>0.008632</td>\n",
       "      <td>0.016113</td>\n",
       "      <td>0.007622</td>\n",
       "      <td>0.012240</td>\n",
       "      <td>0.008775</td>\n",
       "      <td>0.011542</td>\n",
       "      <td>0.005046</td>\n",
       "      <td>0.005510</td>\n",
       "      <td>0.007111</td>\n",
       "      <td>0.010014</td>\n",
       "    </tr>\n",
       "    <tr>\n",
       "      <th>2015-03-31</th>\n",
       "      <td>415.679270</td>\n",
       "      <td>0.987474</td>\n",
       "      <td>0.930683</td>\n",
       "      <td>1.500098</td>\n",
       "      <td>7.685077</td>\n",
       "      <td>10.961499</td>\n",
       "      <td>0.009403</td>\n",
       "      <td>0.015267</td>\n",
       "      <td>0.007908</td>\n",
       "      <td>0.012247</td>\n",
       "      <td>0.010468</td>\n",
       "      <td>0.011190</td>\n",
       "      <td>0.007240</td>\n",
       "      <td>0.006563</td>\n",
       "      <td>0.007518</td>\n",
       "      <td>0.008932</td>\n",
       "    </tr>\n",
       "    <tr>\n",
       "      <th>2015-04-30</th>\n",
       "      <td>415.831987</td>\n",
       "      <td>0.959486</td>\n",
       "      <td>0.928179</td>\n",
       "      <td>1.687715</td>\n",
       "      <td>7.840095</td>\n",
       "      <td>10.860610</td>\n",
       "      <td>0.009388</td>\n",
       "      <td>0.017140</td>\n",
       "      <td>0.008166</td>\n",
       "      <td>0.012366</td>\n",
       "      <td>0.009931</td>\n",
       "      <td>0.011760</td>\n",
       "      <td>0.006959</td>\n",
       "      <td>0.007373</td>\n",
       "      <td>0.007018</td>\n",
       "      <td>0.009053</td>\n",
       "    </tr>\n",
       "    <tr>\n",
       "      <th>2015-05-31</th>\n",
       "      <td>415.782746</td>\n",
       "      <td>2.561590</td>\n",
       "      <td>1.928168</td>\n",
       "      <td>2.236844</td>\n",
       "      <td>7.966458</td>\n",
       "      <td>10.519992</td>\n",
       "      <td>0.009169</td>\n",
       "      <td>0.016714</td>\n",
       "      <td>0.008227</td>\n",
       "      <td>0.012461</td>\n",
       "      <td>0.008872</td>\n",
       "      <td>0.010665</td>\n",
       "      <td>0.005720</td>\n",
       "      <td>0.005826</td>\n",
       "      <td>0.006641</td>\n",
       "      <td>0.009063</td>\n",
       "    </tr>\n",
       "    <tr>\n",
       "      <th>2015-06-30</th>\n",
       "      <td>NaN</td>\n",
       "      <td>NaN</td>\n",
       "      <td>NaN</td>\n",
       "      <td>NaN</td>\n",
       "      <td>NaN</td>\n",
       "      <td>NaN</td>\n",
       "      <td>NaN</td>\n",
       "      <td>NaN</td>\n",
       "      <td>0.008182</td>\n",
       "      <td>0.012375</td>\n",
       "      <td>NaN</td>\n",
       "      <td>NaN</td>\n",
       "      <td>NaN</td>\n",
       "      <td>NaN</td>\n",
       "      <td>NaN</td>\n",
       "      <td>NaN</td>\n",
       "    </tr>\n",
       "    <tr>\n",
       "      <th>2015-07-31</th>\n",
       "      <td>NaN</td>\n",
       "      <td>NaN</td>\n",
       "      <td>NaN</td>\n",
       "      <td>NaN</td>\n",
       "      <td>NaN</td>\n",
       "      <td>NaN</td>\n",
       "      <td>NaN</td>\n",
       "      <td>NaN</td>\n",
       "      <td>0.008018</td>\n",
       "      <td>0.012055</td>\n",
       "      <td>NaN</td>\n",
       "      <td>NaN</td>\n",
       "      <td>NaN</td>\n",
       "      <td>NaN</td>\n",
       "      <td>NaN</td>\n",
       "      <td>NaN</td>\n",
       "    </tr>\n",
       "    <tr>\n",
       "      <th>2015-08-31</th>\n",
       "      <td>NaN</td>\n",
       "      <td>NaN</td>\n",
       "      <td>NaN</td>\n",
       "      <td>NaN</td>\n",
       "      <td>NaN</td>\n",
       "      <td>NaN</td>\n",
       "      <td>NaN</td>\n",
       "      <td>NaN</td>\n",
       "      <td>0.008045</td>\n",
       "      <td>0.011613</td>\n",
       "      <td>NaN</td>\n",
       "      <td>NaN</td>\n",
       "      <td>NaN</td>\n",
       "      <td>NaN</td>\n",
       "      <td>NaN</td>\n",
       "      <td>NaN</td>\n",
       "    </tr>\n",
       "    <tr>\n",
       "      <th>2015-09-30</th>\n",
       "      <td>NaN</td>\n",
       "      <td>NaN</td>\n",
       "      <td>NaN</td>\n",
       "      <td>NaN</td>\n",
       "      <td>NaN</td>\n",
       "      <td>NaN</td>\n",
       "      <td>NaN</td>\n",
       "      <td>NaN</td>\n",
       "      <td>0.008712</td>\n",
       "      <td>0.011478</td>\n",
       "      <td>NaN</td>\n",
       "      <td>NaN</td>\n",
       "      <td>NaN</td>\n",
       "      <td>NaN</td>\n",
       "      <td>NaN</td>\n",
       "      <td>NaN</td>\n",
       "    </tr>\n",
       "    <tr>\n",
       "      <th>2015-10-31</th>\n",
       "      <td>NaN</td>\n",
       "      <td>NaN</td>\n",
       "      <td>NaN</td>\n",
       "      <td>NaN</td>\n",
       "      <td>NaN</td>\n",
       "      <td>NaN</td>\n",
       "      <td>NaN</td>\n",
       "      <td>NaN</td>\n",
       "      <td>0.009234</td>\n",
       "      <td>0.011585</td>\n",
       "      <td>NaN</td>\n",
       "      <td>NaN</td>\n",
       "      <td>NaN</td>\n",
       "      <td>NaN</td>\n",
       "      <td>NaN</td>\n",
       "      <td>NaN</td>\n",
       "    </tr>\n",
       "    <tr>\n",
       "      <th>2015-11-30</th>\n",
       "      <td>NaN</td>\n",
       "      <td>NaN</td>\n",
       "      <td>NaN</td>\n",
       "      <td>NaN</td>\n",
       "      <td>NaN</td>\n",
       "      <td>NaN</td>\n",
       "      <td>NaN</td>\n",
       "      <td>NaN</td>\n",
       "      <td>0.008852</td>\n",
       "      <td>0.011715</td>\n",
       "      <td>NaN</td>\n",
       "      <td>NaN</td>\n",
       "      <td>NaN</td>\n",
       "      <td>NaN</td>\n",
       "      <td>NaN</td>\n",
       "      <td>NaN</td>\n",
       "    </tr>\n",
       "    <tr>\n",
       "      <th>2015-12-31</th>\n",
       "      <td>415.837555</td>\n",
       "      <td>1.115248</td>\n",
       "      <td>1.463032</td>\n",
       "      <td>1.672647</td>\n",
       "      <td>7.277684</td>\n",
       "      <td>9.662010</td>\n",
       "      <td>0.014709</td>\n",
       "      <td>0.016951</td>\n",
       "      <td>0.007823</td>\n",
       "      <td>0.011730</td>\n",
       "      <td>0.013231</td>\n",
       "      <td>0.011566</td>\n",
       "      <td>0.008450</td>\n",
       "      <td>0.007503</td>\n",
       "      <td>0.010101</td>\n",
       "      <td>0.008738</td>\n",
       "    </tr>\n",
       "    <tr>\n",
       "      <th>2016-01-31</th>\n",
       "      <td>415.861878</td>\n",
       "      <td>0.983446</td>\n",
       "      <td>1.350863</td>\n",
       "      <td>1.556280</td>\n",
       "      <td>7.386024</td>\n",
       "      <td>9.836541</td>\n",
       "      <td>0.013573</td>\n",
       "      <td>0.015812</td>\n",
       "      <td>0.007216</td>\n",
       "      <td>0.011795</td>\n",
       "      <td>0.012614</td>\n",
       "      <td>0.010368</td>\n",
       "      <td>0.007645</td>\n",
       "      <td>0.006212</td>\n",
       "      <td>0.009917</td>\n",
       "      <td>0.008235</td>\n",
       "    </tr>\n",
       "    <tr>\n",
       "      <th>2016-02-29</th>\n",
       "      <td>415.483709</td>\n",
       "      <td>0.949427</td>\n",
       "      <td>1.449738</td>\n",
       "      <td>1.388028</td>\n",
       "      <td>7.208304</td>\n",
       "      <td>9.865208</td>\n",
       "      <td>0.014573</td>\n",
       "      <td>0.014117</td>\n",
       "      <td>0.007344</td>\n",
       "      <td>0.011978</td>\n",
       "      <td>0.012133</td>\n",
       "      <td>0.009882</td>\n",
       "      <td>0.007187</td>\n",
       "      <td>0.004525</td>\n",
       "      <td>0.009701</td>\n",
       "      <td>0.008718</td>\n",
       "    </tr>\n",
       "    <tr>\n",
       "      <th>2016-03-31</th>\n",
       "      <td>415.560489</td>\n",
       "      <td>1.081151</td>\n",
       "      <td>1.700441</td>\n",
       "      <td>1.492825</td>\n",
       "      <td>7.395998</td>\n",
       "      <td>10.017599</td>\n",
       "      <td>0.017105</td>\n",
       "      <td>0.015152</td>\n",
       "      <td>0.007983</td>\n",
       "      <td>0.012383</td>\n",
       "      <td>0.013534</td>\n",
       "      <td>0.011333</td>\n",
       "      <td>0.009384</td>\n",
       "      <td>0.007367</td>\n",
       "      <td>0.009674</td>\n",
       "      <td>0.008561</td>\n",
       "    </tr>\n",
       "    <tr>\n",
       "      <th>2016-04-30</th>\n",
       "      <td>415.830517</td>\n",
       "      <td>1.274481</td>\n",
       "      <td>1.834806</td>\n",
       "      <td>1.715404</td>\n",
       "      <td>7.402063</td>\n",
       "      <td>10.125048</td>\n",
       "      <td>0.018447</td>\n",
       "      <td>0.017382</td>\n",
       "      <td>0.008578</td>\n",
       "      <td>0.012931</td>\n",
       "      <td>0.014471</td>\n",
       "      <td>0.012730</td>\n",
       "      <td>0.010186</td>\n",
       "      <td>0.009880</td>\n",
       "      <td>0.010183</td>\n",
       "      <td>0.007947</td>\n",
       "    </tr>\n",
       "    <tr>\n",
       "      <th>2016-05-31</th>\n",
       "      <td>415.834929</td>\n",
       "      <td>1.362449</td>\n",
       "      <td>2.042389</td>\n",
       "      <td>1.736791</td>\n",
       "      <td>7.298349</td>\n",
       "      <td>9.931433</td>\n",
       "      <td>0.020511</td>\n",
       "      <td>0.017598</td>\n",
       "      <td>0.008623</td>\n",
       "      <td>0.013168</td>\n",
       "      <td>0.017824</td>\n",
       "      <td>0.013269</td>\n",
       "      <td>0.014308</td>\n",
       "      <td>0.009817</td>\n",
       "      <td>0.010563</td>\n",
       "      <td>0.008794</td>\n",
       "    </tr>\n",
       "    <tr>\n",
       "      <th>2016-06-30</th>\n",
       "      <td>415.841775</td>\n",
       "      <td>1.496116</td>\n",
       "      <td>2.305388</td>\n",
       "      <td>1.941087</td>\n",
       "      <td>7.384659</td>\n",
       "      <td>9.709454</td>\n",
       "      <td>0.023118</td>\n",
       "      <td>0.019587</td>\n",
       "      <td>0.008169</td>\n",
       "      <td>0.012644</td>\n",
       "      <td>0.021392</td>\n",
       "      <td>0.016592</td>\n",
       "      <td>0.018996</td>\n",
       "      <td>0.013607</td>\n",
       "      <td>0.009712</td>\n",
       "      <td>0.009351</td>\n",
       "    </tr>\n",
       "    <tr>\n",
       "      <th>2016-07-31</th>\n",
       "      <td>415.834130</td>\n",
       "      <td>1.398837</td>\n",
       "      <td>2.006485</td>\n",
       "      <td>1.782818</td>\n",
       "      <td>7.304035</td>\n",
       "      <td>9.577067</td>\n",
       "      <td>0.020125</td>\n",
       "      <td>0.017994</td>\n",
       "      <td>0.007764</td>\n",
       "      <td>0.011594</td>\n",
       "      <td>0.018157</td>\n",
       "      <td>0.015054</td>\n",
       "      <td>0.015436</td>\n",
       "      <td>0.012171</td>\n",
       "      <td>0.009516</td>\n",
       "      <td>0.008728</td>\n",
       "    </tr>\n",
       "    <tr>\n",
       "      <th>2016-08-31</th>\n",
       "      <td>415.836708</td>\n",
       "      <td>1.075659</td>\n",
       "      <td>1.752266</td>\n",
       "      <td>1.320207</td>\n",
       "      <td>7.245588</td>\n",
       "      <td>9.599439</td>\n",
       "      <td>0.017585</td>\n",
       "      <td>0.013378</td>\n",
       "      <td>0.007772</td>\n",
       "      <td>0.010839</td>\n",
       "      <td>0.015365</td>\n",
       "      <td>0.010663</td>\n",
       "      <td>0.011969</td>\n",
       "      <td>0.006120</td>\n",
       "      <td>0.009542</td>\n",
       "      <td>0.008693</td>\n",
       "    </tr>\n",
       "    <tr>\n",
       "      <th>2016-09-30</th>\n",
       "      <td>415.857689</td>\n",
       "      <td>1.106318</td>\n",
       "      <td>1.686997</td>\n",
       "      <td>1.418634</td>\n",
       "      <td>7.003700</td>\n",
       "      <td>9.423425</td>\n",
       "      <td>0.016956</td>\n",
       "      <td>0.014362</td>\n",
       "      <td>0.008339</td>\n",
       "      <td>0.010975</td>\n",
       "      <td>0.014434</td>\n",
       "      <td>0.011139</td>\n",
       "      <td>0.010908</td>\n",
       "      <td>0.007221</td>\n",
       "      <td>0.009370</td>\n",
       "      <td>0.008405</td>\n",
       "    </tr>\n",
       "    <tr>\n",
       "      <th>2016-10-31</th>\n",
       "      <td>416.233803</td>\n",
       "      <td>1.005550</td>\n",
       "      <td>1.359792</td>\n",
       "      <td>1.350795</td>\n",
       "      <td>7.111489</td>\n",
       "      <td>9.828093</td>\n",
       "      <td>0.014120</td>\n",
       "      <td>0.014282</td>\n",
       "      <td>0.009032</td>\n",
       "      <td>0.011664</td>\n",
       "      <td>0.011373</td>\n",
       "      <td>0.010340</td>\n",
       "      <td>0.006663</td>\n",
       "      <td>0.006709</td>\n",
       "      <td>0.009148</td>\n",
       "      <td>0.007815</td>\n",
       "    </tr>\n",
       "    <tr>\n",
       "      <th>2016-11-30</th>\n",
       "      <td>415.984342</td>\n",
       "      <td>1.040348</td>\n",
       "      <td>1.486856</td>\n",
       "      <td>1.460017</td>\n",
       "      <td>7.176904</td>\n",
       "      <td>10.356008</td>\n",
       "      <td>0.015296</td>\n",
       "      <td>0.015414</td>\n",
       "      <td>0.009038</td>\n",
       "      <td>0.012172</td>\n",
       "      <td>0.012005</td>\n",
       "      <td>0.011586</td>\n",
       "      <td>0.007186</td>\n",
       "      <td>0.007867</td>\n",
       "      <td>0.009543</td>\n",
       "      <td>0.008414</td>\n",
       "    </tr>\n",
       "    <tr>\n",
       "      <th>2016-12-31</th>\n",
       "      <td>415.833562</td>\n",
       "      <td>1.115158</td>\n",
       "      <td>1.847310</td>\n",
       "      <td>1.514892</td>\n",
       "      <td>6.941946</td>\n",
       "      <td>10.344558</td>\n",
       "      <td>0.018573</td>\n",
       "      <td>0.015397</td>\n",
       "      <td>0.008257</td>\n",
       "      <td>0.012251</td>\n",
       "      <td>0.016216</td>\n",
       "      <td>0.011317</td>\n",
       "      <td>0.012058</td>\n",
       "      <td>0.007187</td>\n",
       "      <td>0.010748</td>\n",
       "      <td>0.008598</td>\n",
       "    </tr>\n",
       "    <tr>\n",
       "      <th>2017-01-31</th>\n",
       "      <td>415.827603</td>\n",
       "      <td>1.157200</td>\n",
       "      <td>1.606386</td>\n",
       "      <td>1.524976</td>\n",
       "      <td>7.006052</td>\n",
       "      <td>10.328008</td>\n",
       "      <td>0.016134</td>\n",
       "      <td>0.015477</td>\n",
       "      <td>0.007355</td>\n",
       "      <td>0.011966</td>\n",
       "      <td>0.014800</td>\n",
       "      <td>0.012477</td>\n",
       "      <td>0.008188</td>\n",
       "      <td>0.007022</td>\n",
       "      <td>0.012166</td>\n",
       "      <td>0.010198</td>\n",
       "    </tr>\n",
       "    <tr>\n",
       "      <th>2017-02-28</th>\n",
       "      <td>415.459488</td>\n",
       "      <td>1.148040</td>\n",
       "      <td>1.600211</td>\n",
       "      <td>1.537661</td>\n",
       "      <td>7.103400</td>\n",
       "      <td>10.193238</td>\n",
       "      <td>0.016082</td>\n",
       "      <td>0.015621</td>\n",
       "      <td>0.007183</td>\n",
       "      <td>0.011746</td>\n",
       "      <td>0.014782</td>\n",
       "      <td>0.012846</td>\n",
       "      <td>0.006274</td>\n",
       "      <td>0.005401</td>\n",
       "      <td>0.013221</td>\n",
       "      <td>0.011570</td>\n",
       "    </tr>\n",
       "    <tr>\n",
       "      <th>2017-03-31</th>\n",
       "      <td>415.596296</td>\n",
       "      <td>1.251214</td>\n",
       "      <td>1.755584</td>\n",
       "      <td>1.683572</td>\n",
       "      <td>7.109682</td>\n",
       "      <td>10.357030</td>\n",
       "      <td>0.017651</td>\n",
       "      <td>0.017065</td>\n",
       "      <td>0.007767</td>\n",
       "      <td>0.012040</td>\n",
       "      <td>0.015662</td>\n",
       "      <td>0.012791</td>\n",
       "      <td>0.006575</td>\n",
       "      <td>0.003366</td>\n",
       "      <td>0.014058</td>\n",
       "      <td>0.012194</td>\n",
       "    </tr>\n",
       "    <tr>\n",
       "      <th>2017-04-30</th>\n",
       "      <td>415.842167</td>\n",
       "      <td>1.314971</td>\n",
       "      <td>1.791825</td>\n",
       "      <td>1.825634</td>\n",
       "      <td>7.111723</td>\n",
       "      <td>10.516622</td>\n",
       "      <td>0.018021</td>\n",
       "      <td>0.018493</td>\n",
       "      <td>0.008609</td>\n",
       "      <td>0.012806</td>\n",
       "      <td>0.015457</td>\n",
       "      <td>0.012562</td>\n",
       "      <td>0.007017</td>\n",
       "      <td>0.004661</td>\n",
       "      <td>0.013647</td>\n",
       "      <td>0.011450</td>\n",
       "    </tr>\n",
       "    <tr>\n",
       "      <th>2017-05-31</th>\n",
       "      <td>415.829777</td>\n",
       "      <td>1.345904</td>\n",
       "      <td>1.857479</td>\n",
       "      <td>1.911891</td>\n",
       "      <td>7.191903</td>\n",
       "      <td>10.720808</td>\n",
       "      <td>0.018689</td>\n",
       "      <td>0.019387</td>\n",
       "      <td>0.008981</td>\n",
       "      <td>0.013358</td>\n",
       "      <td>0.015657</td>\n",
       "      <td>0.012769</td>\n",
       "      <td>0.009926</td>\n",
       "      <td>0.007703</td>\n",
       "      <td>0.011932</td>\n",
       "      <td>0.009975</td>\n",
       "    </tr>\n",
       "    <tr>\n",
       "      <th>2017-06-30</th>\n",
       "      <td>415.849983</td>\n",
       "      <td>1.389055</td>\n",
       "      <td>1.934053</td>\n",
       "      <td>1.839815</td>\n",
       "      <td>7.246333</td>\n",
       "      <td>11.007001</td>\n",
       "      <td>0.019444</td>\n",
       "      <td>0.018671</td>\n",
       "      <td>0.008633</td>\n",
       "      <td>0.013020</td>\n",
       "      <td>0.016327</td>\n",
       "      <td>0.012873</td>\n",
       "      <td>0.012274</td>\n",
       "      <td>0.008123</td>\n",
       "      <td>0.010561</td>\n",
       "      <td>0.009813</td>\n",
       "    </tr>\n",
       "    <tr>\n",
       "      <th>2017-07-31</th>\n",
       "      <td>415.824303</td>\n",
       "      <td>1.460894</td>\n",
       "      <td>2.194466</td>\n",
       "      <td>1.776689</td>\n",
       "      <td>7.072432</td>\n",
       "      <td>10.664602</td>\n",
       "      <td>0.022008</td>\n",
       "      <td>0.017971</td>\n",
       "      <td>0.007961</td>\n",
       "      <td>0.011705</td>\n",
       "      <td>0.019831</td>\n",
       "      <td>0.013541</td>\n",
       "      <td>0.016658</td>\n",
       "      <td>0.010076</td>\n",
       "      <td>0.010657</td>\n",
       "      <td>0.008942</td>\n",
       "    </tr>\n",
       "    <tr>\n",
       "      <th>2017-08-31</th>\n",
       "      <td>415.835111</td>\n",
       "      <td>1.470843</td>\n",
       "      <td>2.251473</td>\n",
       "      <td>1.831376</td>\n",
       "      <td>7.082885</td>\n",
       "      <td>10.311946</td>\n",
       "      <td>0.022586</td>\n",
       "      <td>0.018472</td>\n",
       "      <td>0.007782</td>\n",
       "      <td>0.010370</td>\n",
       "      <td>0.019818</td>\n",
       "      <td>0.014430</td>\n",
       "      <td>0.016105</td>\n",
       "      <td>0.011826</td>\n",
       "      <td>0.011453</td>\n",
       "      <td>0.008155</td>\n",
       "    </tr>\n",
       "    <tr>\n",
       "      <th>2017-09-30</th>\n",
       "      <td>415.833155</td>\n",
       "      <td>1.355512</td>\n",
       "      <td>2.059878</td>\n",
       "      <td>1.578710</td>\n",
       "      <td>7.105954</td>\n",
       "      <td>10.265413</td>\n",
       "      <td>0.020705</td>\n",
       "      <td>0.015984</td>\n",
       "      <td>0.008091</td>\n",
       "      <td>0.009994</td>\n",
       "      <td>0.016732</td>\n",
       "      <td>0.011883</td>\n",
       "      <td>0.012749</td>\n",
       "      <td>0.008972</td>\n",
       "      <td>0.010751</td>\n",
       "      <td>0.007723</td>\n",
       "    </tr>\n",
       "    <tr>\n",
       "      <th>2017-10-31</th>\n",
       "      <td>416.274560</td>\n",
       "      <td>1.205538</td>\n",
       "      <td>1.984990</td>\n",
       "      <td>1.375202</td>\n",
       "      <td>7.568627</td>\n",
       "      <td>10.704991</td>\n",
       "      <td>0.020081</td>\n",
       "      <td>0.014117</td>\n",
       "      <td>0.008573</td>\n",
       "      <td>0.010926</td>\n",
       "      <td>0.016495</td>\n",
       "      <td>0.011360</td>\n",
       "      <td>0.013404</td>\n",
       "      <td>0.006935</td>\n",
       "      <td>0.009490</td>\n",
       "      <td>0.008934</td>\n",
       "    </tr>\n",
       "    <tr>\n",
       "      <th>2017-11-30</th>\n",
       "      <td>415.927295</td>\n",
       "      <td>1.373430</td>\n",
       "      <td>2.091518</td>\n",
       "      <td>1.541779</td>\n",
       "      <td>8.061758</td>\n",
       "      <td>10.621484</td>\n",
       "      <td>0.021127</td>\n",
       "      <td>0.015763</td>\n",
       "      <td>0.008963</td>\n",
       "      <td>0.012238</td>\n",
       "      <td>0.018325</td>\n",
       "      <td>0.012279</td>\n",
       "      <td>0.014991</td>\n",
       "      <td>0.007039</td>\n",
       "      <td>0.010450</td>\n",
       "      <td>0.009974</td>\n",
       "    </tr>\n",
       "    <tr>\n",
       "      <th>2017-12-31</th>\n",
       "      <td>415.847757</td>\n",
       "      <td>1.357674</td>\n",
       "      <td>1.881960</td>\n",
       "      <td>1.667479</td>\n",
       "      <td>7.749887</td>\n",
       "      <td>10.000174</td>\n",
       "      <td>0.018904</td>\n",
       "      <td>0.016923</td>\n",
       "      <td>0.008776</td>\n",
       "      <td>0.012929</td>\n",
       "      <td>0.015849</td>\n",
       "      <td>0.011611</td>\n",
       "      <td>0.010277</td>\n",
       "      <td>0.006256</td>\n",
       "      <td>0.011936</td>\n",
       "      <td>0.009699</td>\n",
       "    </tr>\n",
       "    <tr>\n",
       "      <th>2018-01-31</th>\n",
       "      <td>415.834911</td>\n",
       "      <td>1.093077</td>\n",
       "      <td>1.572138</td>\n",
       "      <td>1.548377</td>\n",
       "      <td>7.429138</td>\n",
       "      <td>9.619673</td>\n",
       "      <td>0.015829</td>\n",
       "      <td>0.015750</td>\n",
       "      <td>0.007930</td>\n",
       "      <td>0.012551</td>\n",
       "      <td>0.012823</td>\n",
       "      <td>0.010571</td>\n",
       "      <td>0.005914</td>\n",
       "      <td>0.004684</td>\n",
       "      <td>0.011297</td>\n",
       "      <td>0.009370</td>\n",
       "    </tr>\n",
       "    <tr>\n",
       "      <th>2018-02-28</th>\n",
       "      <td>415.473161</td>\n",
       "      <td>1.030504</td>\n",
       "      <td>1.484384</td>\n",
       "      <td>1.521375</td>\n",
       "      <td>7.453443</td>\n",
       "      <td>9.584759</td>\n",
       "      <td>0.014944</td>\n",
       "      <td>0.015463</td>\n",
       "      <td>0.007468</td>\n",
       "      <td>0.011856</td>\n",
       "      <td>0.012652</td>\n",
       "      <td>0.010833</td>\n",
       "      <td>0.005895</td>\n",
       "      <td>0.004346</td>\n",
       "      <td>0.011109</td>\n",
       "      <td>0.009846</td>\n",
       "    </tr>\n",
       "    <tr>\n",
       "      <th>2018-03-31</th>\n",
       "      <td>415.592181</td>\n",
       "      <td>1.099648</td>\n",
       "      <td>1.477952</td>\n",
       "      <td>1.623503</td>\n",
       "      <td>7.423317</td>\n",
       "      <td>9.910719</td>\n",
       "      <td>0.014874</td>\n",
       "      <td>0.016492</td>\n",
       "      <td>0.007524</td>\n",
       "      <td>0.011504</td>\n",
       "      <td>0.012692</td>\n",
       "      <td>0.010527</td>\n",
       "      <td>0.005350</td>\n",
       "      <td>0.003975</td>\n",
       "      <td>0.011432</td>\n",
       "      <td>0.009660</td>\n",
       "    </tr>\n",
       "    <tr>\n",
       "      <th>2018-04-30</th>\n",
       "      <td>415.836832</td>\n",
       "      <td>1.134971</td>\n",
       "      <td>1.474793</td>\n",
       "      <td>1.687422</td>\n",
       "      <td>7.383557</td>\n",
       "      <td>9.570378</td>\n",
       "      <td>0.014836</td>\n",
       "      <td>0.017127</td>\n",
       "      <td>0.008048</td>\n",
       "      <td>0.011974</td>\n",
       "      <td>0.013290</td>\n",
       "      <td>0.010797</td>\n",
       "      <td>0.006656</td>\n",
       "      <td>0.004129</td>\n",
       "      <td>0.011432</td>\n",
       "      <td>0.009883</td>\n",
       "    </tr>\n",
       "    <tr>\n",
       "      <th>2018-05-31</th>\n",
       "      <td>415.828377</td>\n",
       "      <td>1.060491</td>\n",
       "      <td>1.369319</td>\n",
       "      <td>1.587813</td>\n",
       "      <td>7.482639</td>\n",
       "      <td>9.554912</td>\n",
       "      <td>0.013802</td>\n",
       "      <td>0.016184</td>\n",
       "      <td>0.008703</td>\n",
       "      <td>0.012845</td>\n",
       "      <td>0.012330</td>\n",
       "      <td>0.009855</td>\n",
       "      <td>0.006699</td>\n",
       "      <td>0.003643</td>\n",
       "      <td>0.010288</td>\n",
       "      <td>0.009085</td>\n",
       "    </tr>\n",
       "    <tr>\n",
       "      <th>2018-06-30</th>\n",
       "      <td>415.826672</td>\n",
       "      <td>1.076813</td>\n",
       "      <td>1.404995</td>\n",
       "      <td>1.522194</td>\n",
       "      <td>7.447180</td>\n",
       "      <td>9.717805</td>\n",
       "      <td>0.014166</td>\n",
       "      <td>0.015533</td>\n",
       "      <td>0.008924</td>\n",
       "      <td>0.013211</td>\n",
       "      <td>0.011498</td>\n",
       "      <td>0.009428</td>\n",
       "      <td>0.006947</td>\n",
       "      <td>0.004619</td>\n",
       "      <td>0.009106</td>\n",
       "      <td>0.008167</td>\n",
       "    </tr>\n",
       "    <tr>\n",
       "      <th>2018-07-31</th>\n",
       "      <td>415.829967</td>\n",
       "      <td>1.068994</td>\n",
       "      <td>1.482776</td>\n",
       "      <td>1.581353</td>\n",
       "      <td>7.379266</td>\n",
       "      <td>9.588042</td>\n",
       "      <td>0.014915</td>\n",
       "      <td>0.016092</td>\n",
       "      <td>0.008492</td>\n",
       "      <td>0.012531</td>\n",
       "      <td>0.012705</td>\n",
       "      <td>0.010591</td>\n",
       "      <td>0.007166</td>\n",
       "      <td>0.004388</td>\n",
       "      <td>0.010409</td>\n",
       "      <td>0.009568</td>\n",
       "    </tr>\n",
       "    <tr>\n",
       "      <th>2018-08-31</th>\n",
       "      <td>415.837859</td>\n",
       "      <td>1.026014</td>\n",
       "      <td>1.441147</td>\n",
       "      <td>1.629532</td>\n",
       "      <td>7.333869</td>\n",
       "      <td>9.565389</td>\n",
       "      <td>0.014481</td>\n",
       "      <td>0.016543</td>\n",
       "      <td>0.008118</td>\n",
       "      <td>0.011148</td>\n",
       "      <td>0.012830</td>\n",
       "      <td>0.010854</td>\n",
       "      <td>0.006689</td>\n",
       "      <td>0.004088</td>\n",
       "      <td>0.010877</td>\n",
       "      <td>0.009997</td>\n",
       "    </tr>\n",
       "    <tr>\n",
       "      <th>2018-09-30</th>\n",
       "      <td>415.845250</td>\n",
       "      <td>1.052024</td>\n",
       "      <td>1.462081</td>\n",
       "      <td>1.526411</td>\n",
       "      <td>7.678996</td>\n",
       "      <td>9.749816</td>\n",
       "      <td>0.014685</td>\n",
       "      <td>0.015485</td>\n",
       "      <td>0.008248</td>\n",
       "      <td>0.010274</td>\n",
       "      <td>0.012988</td>\n",
       "      <td>0.010142</td>\n",
       "      <td>0.008178</td>\n",
       "      <td>0.004432</td>\n",
       "      <td>0.010199</td>\n",
       "      <td>0.009180</td>\n",
       "    </tr>\n",
       "    <tr>\n",
       "      <th>2018-10-31</th>\n",
       "      <td>NaN</td>\n",
       "      <td>NaN</td>\n",
       "      <td>NaN</td>\n",
       "      <td>NaN</td>\n",
       "      <td>NaN</td>\n",
       "      <td>NaN</td>\n",
       "      <td>NaN</td>\n",
       "      <td>NaN</td>\n",
       "      <td>NaN</td>\n",
       "      <td>NaN</td>\n",
       "      <td>NaN</td>\n",
       "      <td>NaN</td>\n",
       "      <td>NaN</td>\n",
       "      <td>NaN</td>\n",
       "      <td>NaN</td>\n",
       "      <td>NaN</td>\n",
       "    </tr>\n",
       "  </tbody>\n",
       "</table>\n",
       "</div>"
      ],
      "text/plain": [
       "             Unnamed: 0  Current_mag  Easting (cm/sec)  Northing (cm/sec)  \\\n",
       "Date_time_R                                                                 \n",
       "2014-10-31          NaN          NaN               NaN                NaN   \n",
       "2014-11-30   415.871014     0.934629          0.730026           1.621102   \n",
       "2014-12-31   415.837064     0.964297          0.757248           1.676798   \n",
       "2015-01-31   415.837176     1.034222          0.796061           1.806495   \n",
       "2015-02-28   415.420054     0.988327          0.854650           1.585933   \n",
       "2015-03-31   415.679270     0.987474          0.930683           1.500098   \n",
       "2015-04-30   415.831987     0.959486          0.928179           1.687715   \n",
       "2015-05-31   415.782746     2.561590          1.928168           2.236844   \n",
       "2015-06-30          NaN          NaN               NaN                NaN   \n",
       "2015-07-31          NaN          NaN               NaN                NaN   \n",
       "2015-08-31          NaN          NaN               NaN                NaN   \n",
       "2015-09-30          NaN          NaN               NaN                NaN   \n",
       "2015-10-31          NaN          NaN               NaN                NaN   \n",
       "2015-11-30          NaN          NaN               NaN                NaN   \n",
       "2015-12-31   415.837555     1.115248          1.463032           1.672647   \n",
       "2016-01-31   415.861878     0.983446          1.350863           1.556280   \n",
       "2016-02-29   415.483709     0.949427          1.449738           1.388028   \n",
       "2016-03-31   415.560489     1.081151          1.700441           1.492825   \n",
       "2016-04-30   415.830517     1.274481          1.834806           1.715404   \n",
       "2016-05-31   415.834929     1.362449          2.042389           1.736791   \n",
       "2016-06-30   415.841775     1.496116          2.305388           1.941087   \n",
       "2016-07-31   415.834130     1.398837          2.006485           1.782818   \n",
       "2016-08-31   415.836708     1.075659          1.752266           1.320207   \n",
       "2016-09-30   415.857689     1.106318          1.686997           1.418634   \n",
       "2016-10-31   416.233803     1.005550          1.359792           1.350795   \n",
       "2016-11-30   415.984342     1.040348          1.486856           1.460017   \n",
       "2016-12-31   415.833562     1.115158          1.847310           1.514892   \n",
       "2017-01-31   415.827603     1.157200          1.606386           1.524976   \n",
       "2017-02-28   415.459488     1.148040          1.600211           1.537661   \n",
       "2017-03-31   415.596296     1.251214          1.755584           1.683572   \n",
       "2017-04-30   415.842167     1.314971          1.791825           1.825634   \n",
       "2017-05-31   415.829777     1.345904          1.857479           1.911891   \n",
       "2017-06-30   415.849983     1.389055          1.934053           1.839815   \n",
       "2017-07-31   415.824303     1.460894          2.194466           1.776689   \n",
       "2017-08-31   415.835111     1.470843          2.251473           1.831376   \n",
       "2017-09-30   415.833155     1.355512          2.059878           1.578710   \n",
       "2017-10-31   416.274560     1.205538          1.984990           1.375202   \n",
       "2017-11-30   415.927295     1.373430          2.091518           1.541779   \n",
       "2017-12-31   415.847757     1.357674          1.881960           1.667479   \n",
       "2018-01-31   415.834911     1.093077          1.572138           1.548377   \n",
       "2018-02-28   415.473161     1.030504          1.484384           1.521375   \n",
       "2018-03-31   415.592181     1.099648          1.477952           1.623503   \n",
       "2018-04-30   415.836832     1.134971          1.474793           1.687422   \n",
       "2018-05-31   415.828377     1.060491          1.369319           1.587813   \n",
       "2018-06-30   415.826672     1.076813          1.404995           1.522194   \n",
       "2018-07-31   415.829967     1.068994          1.482776           1.581353   \n",
       "2018-08-31   415.837859     1.026014          1.441147           1.629532   \n",
       "2018-09-30   415.845250     1.052024          1.462081           1.526411   \n",
       "2018-10-31          NaN          NaN               NaN                NaN   \n",
       "\n",
       "              Minutes    Seconds         u         v    u_tide    v_tide  \\\n",
       "Date_time_R                                                                \n",
       "2014-10-31        NaN        NaN       NaN       NaN       NaN       NaN   \n",
       "2014-11-30   7.479623  11.140831  0.007381  0.016460  0.008566  0.011741   \n",
       "2014-12-31   7.592627  10.946328  0.007609  0.017007  0.008031  0.012201   \n",
       "2015-01-31   7.672934  10.932526  0.008018  0.018328  0.007637  0.012308   \n",
       "2015-02-28   7.502846  11.163207  0.008632  0.016113  0.007622  0.012240   \n",
       "2015-03-31   7.685077  10.961499  0.009403  0.015267  0.007908  0.012247   \n",
       "2015-04-30   7.840095  10.860610  0.009388  0.017140  0.008166  0.012366   \n",
       "2015-05-31   7.966458  10.519992  0.009169  0.016714  0.008227  0.012461   \n",
       "2015-06-30        NaN        NaN       NaN       NaN  0.008182  0.012375   \n",
       "2015-07-31        NaN        NaN       NaN       NaN  0.008018  0.012055   \n",
       "2015-08-31        NaN        NaN       NaN       NaN  0.008045  0.011613   \n",
       "2015-09-30        NaN        NaN       NaN       NaN  0.008712  0.011478   \n",
       "2015-10-31        NaN        NaN       NaN       NaN  0.009234  0.011585   \n",
       "2015-11-30        NaN        NaN       NaN       NaN  0.008852  0.011715   \n",
       "2015-12-31   7.277684   9.662010  0.014709  0.016951  0.007823  0.011730   \n",
       "2016-01-31   7.386024   9.836541  0.013573  0.015812  0.007216  0.011795   \n",
       "2016-02-29   7.208304   9.865208  0.014573  0.014117  0.007344  0.011978   \n",
       "2016-03-31   7.395998  10.017599  0.017105  0.015152  0.007983  0.012383   \n",
       "2016-04-30   7.402063  10.125048  0.018447  0.017382  0.008578  0.012931   \n",
       "2016-05-31   7.298349   9.931433  0.020511  0.017598  0.008623  0.013168   \n",
       "2016-06-30   7.384659   9.709454  0.023118  0.019587  0.008169  0.012644   \n",
       "2016-07-31   7.304035   9.577067  0.020125  0.017994  0.007764  0.011594   \n",
       "2016-08-31   7.245588   9.599439  0.017585  0.013378  0.007772  0.010839   \n",
       "2016-09-30   7.003700   9.423425  0.016956  0.014362  0.008339  0.010975   \n",
       "2016-10-31   7.111489   9.828093  0.014120  0.014282  0.009032  0.011664   \n",
       "2016-11-30   7.176904  10.356008  0.015296  0.015414  0.009038  0.012172   \n",
       "2016-12-31   6.941946  10.344558  0.018573  0.015397  0.008257  0.012251   \n",
       "2017-01-31   7.006052  10.328008  0.016134  0.015477  0.007355  0.011966   \n",
       "2017-02-28   7.103400  10.193238  0.016082  0.015621  0.007183  0.011746   \n",
       "2017-03-31   7.109682  10.357030  0.017651  0.017065  0.007767  0.012040   \n",
       "2017-04-30   7.111723  10.516622  0.018021  0.018493  0.008609  0.012806   \n",
       "2017-05-31   7.191903  10.720808  0.018689  0.019387  0.008981  0.013358   \n",
       "2017-06-30   7.246333  11.007001  0.019444  0.018671  0.008633  0.013020   \n",
       "2017-07-31   7.072432  10.664602  0.022008  0.017971  0.007961  0.011705   \n",
       "2017-08-31   7.082885  10.311946  0.022586  0.018472  0.007782  0.010370   \n",
       "2017-09-30   7.105954  10.265413  0.020705  0.015984  0.008091  0.009994   \n",
       "2017-10-31   7.568627  10.704991  0.020081  0.014117  0.008573  0.010926   \n",
       "2017-11-30   8.061758  10.621484  0.021127  0.015763  0.008963  0.012238   \n",
       "2017-12-31   7.749887  10.000174  0.018904  0.016923  0.008776  0.012929   \n",
       "2018-01-31   7.429138   9.619673  0.015829  0.015750  0.007930  0.012551   \n",
       "2018-02-28   7.453443   9.584759  0.014944  0.015463  0.007468  0.011856   \n",
       "2018-03-31   7.423317   9.910719  0.014874  0.016492  0.007524  0.011504   \n",
       "2018-04-30   7.383557   9.570378  0.014836  0.017127  0.008048  0.011974   \n",
       "2018-05-31   7.482639   9.554912  0.013802  0.016184  0.008703  0.012845   \n",
       "2018-06-30   7.447180   9.717805  0.014166  0.015533  0.008924  0.013211   \n",
       "2018-07-31   7.379266   9.588042  0.014915  0.016092  0.008492  0.012531   \n",
       "2018-08-31   7.333869   9.565389  0.014481  0.016543  0.008118  0.011148   \n",
       "2018-09-30   7.678996   9.749816  0.014685  0.015485  0.008248  0.010274   \n",
       "2018-10-31        NaN        NaN       NaN       NaN       NaN       NaN   \n",
       "\n",
       "             u_detide  v_detide       u_f       v_f   u_super   v_super  \n",
       "Date_time_R                                                              \n",
       "2014-10-31        NaN       NaN       NaN       NaN       NaN       NaN  \n",
       "2014-11-30   0.008031  0.009810  0.003081  0.003533  0.007347  0.009074  \n",
       "2014-12-31   0.007857  0.010410  0.003228  0.003408  0.007104  0.009750  \n",
       "2015-01-31   0.007833  0.011684  0.003345  0.003609  0.007024  0.010993  \n",
       "2015-02-28   0.008775  0.011542  0.005046  0.005510  0.007111  0.010014  \n",
       "2015-03-31   0.010468  0.011190  0.007240  0.006563  0.007518  0.008932  \n",
       "2015-04-30   0.009931  0.011760  0.006959  0.007373  0.007018  0.009053  \n",
       "2015-05-31   0.008872  0.010665  0.005720  0.005826  0.006641  0.009063  \n",
       "2015-06-30        NaN       NaN       NaN       NaN       NaN       NaN  \n",
       "2015-07-31        NaN       NaN       NaN       NaN       NaN       NaN  \n",
       "2015-08-31        NaN       NaN       NaN       NaN       NaN       NaN  \n",
       "2015-09-30        NaN       NaN       NaN       NaN       NaN       NaN  \n",
       "2015-10-31        NaN       NaN       NaN       NaN       NaN       NaN  \n",
       "2015-11-30        NaN       NaN       NaN       NaN       NaN       NaN  \n",
       "2015-12-31   0.013231  0.011566  0.008450  0.007503  0.010101  0.008738  \n",
       "2016-01-31   0.012614  0.010368  0.007645  0.006212  0.009917  0.008235  \n",
       "2016-02-29   0.012133  0.009882  0.007187  0.004525  0.009701  0.008718  \n",
       "2016-03-31   0.013534  0.011333  0.009384  0.007367  0.009674  0.008561  \n",
       "2016-04-30   0.014471  0.012730  0.010186  0.009880  0.010183  0.007947  \n",
       "2016-05-31   0.017824  0.013269  0.014308  0.009817  0.010563  0.008794  \n",
       "2016-06-30   0.021392  0.016592  0.018996  0.013607  0.009712  0.009351  \n",
       "2016-07-31   0.018157  0.015054  0.015436  0.012171  0.009516  0.008728  \n",
       "2016-08-31   0.015365  0.010663  0.011969  0.006120  0.009542  0.008693  \n",
       "2016-09-30   0.014434  0.011139  0.010908  0.007221  0.009370  0.008405  \n",
       "2016-10-31   0.011373  0.010340  0.006663  0.006709  0.009148  0.007815  \n",
       "2016-11-30   0.012005  0.011586  0.007186  0.007867  0.009543  0.008414  \n",
       "2016-12-31   0.016216  0.011317  0.012058  0.007187  0.010748  0.008598  \n",
       "2017-01-31   0.014800  0.012477  0.008188  0.007022  0.012166  0.010198  \n",
       "2017-02-28   0.014782  0.012846  0.006274  0.005401  0.013221  0.011570  \n",
       "2017-03-31   0.015662  0.012791  0.006575  0.003366  0.014058  0.012194  \n",
       "2017-04-30   0.015457  0.012562  0.007017  0.004661  0.013647  0.011450  \n",
       "2017-05-31   0.015657  0.012769  0.009926  0.007703  0.011932  0.009975  \n",
       "2017-06-30   0.016327  0.012873  0.012274  0.008123  0.010561  0.009813  \n",
       "2017-07-31   0.019831  0.013541  0.016658  0.010076  0.010657  0.008942  \n",
       "2017-08-31   0.019818  0.014430  0.016105  0.011826  0.011453  0.008155  \n",
       "2017-09-30   0.016732  0.011883  0.012749  0.008972  0.010751  0.007723  \n",
       "2017-10-31   0.016495  0.011360  0.013404  0.006935  0.009490  0.008934  \n",
       "2017-11-30   0.018325  0.012279  0.014991  0.007039  0.010450  0.009974  \n",
       "2017-12-31   0.015849  0.011611  0.010277  0.006256  0.011936  0.009699  \n",
       "2018-01-31   0.012823  0.010571  0.005914  0.004684  0.011297  0.009370  \n",
       "2018-02-28   0.012652  0.010833  0.005895  0.004346  0.011109  0.009846  \n",
       "2018-03-31   0.012692  0.010527  0.005350  0.003975  0.011432  0.009660  \n",
       "2018-04-30   0.013290  0.010797  0.006656  0.004129  0.011432  0.009883  \n",
       "2018-05-31   0.012330  0.009855  0.006699  0.003643  0.010288  0.009085  \n",
       "2018-06-30   0.011498  0.009428  0.006947  0.004619  0.009106  0.008167  \n",
       "2018-07-31   0.012705  0.010591  0.007166  0.004388  0.010409  0.009568  \n",
       "2018-08-31   0.012830  0.010854  0.006689  0.004088  0.010877  0.009997  \n",
       "2018-09-30   0.012988  0.010142  0.008178  0.004432  0.010199  0.009180  \n",
       "2018-10-31        NaN       NaN       NaN       NaN       NaN       NaN  "
      ]
     },
     "execution_count": 238,
     "metadata": {},
     "output_type": "execute_result"
    }
   ],
   "source": [
    "df_all_2Mstd_mon"
   ]
  },
  {
   "cell_type": "code",
   "execution_count": 210,
   "metadata": {},
   "outputs": [
    {
     "data": {
      "text/plain": [
       "Int64Index([11, 12,  1,  2,  3,  4,  5, 12,  1,  2,  3,  4,  5,  6,  7,  8,  9,\n",
       "            10, 11, 12,  1,  2,  3,  4,  5,  6,  7,  8,  9, 10, 11, 12,  1,  2,\n",
       "             3,  4,  5,  6,  7,  8,  9],\n",
       "           dtype='int64', name='Date_time_R')"
      ]
     },
     "execution_count": 210,
     "metadata": {},
     "output_type": "execute_result"
    }
   ],
   "source": [
    "df_all_2Mstd_mon.index.month[fi]"
   ]
  },
  {
   "cell_type": "code",
   "execution_count": 209,
   "metadata": {},
   "outputs": [
    {
     "name": "stdout",
     "output_type": "stream",
     "text": [
      "Multiple Comparison of Means - Tukey HSD,FWER=0.20\n",
      "============================================\n",
      "group1 group2 meandiff  lower  upper  reject\n",
      "--------------------------------------------\n",
      "  1      2    -0.0002  -0.0077 0.0074 False \n",
      "  1      3     0.0009  -0.0067 0.0084 False \n",
      "  1      4     0.0014  -0.0061 0.009  False \n",
      "  1      5     0.0029  -0.0047 0.0104 False \n",
      "  1      6     0.0065  -0.0017 0.0146 False \n",
      "  1      7     0.0068  -0.0014 0.015  False \n",
      "  1      8     0.0053  -0.0028 0.0135 False \n",
      "  1      9     0.0043  -0.0038 0.0125 False \n",
      "  1      10    0.0038  -0.0055 0.013  False \n",
      "  1      11    0.0021   -0.006 0.0103 False \n",
      "  1      12    0.0022  -0.0053 0.0098 False \n",
      "  2      3     0.001   -0.0065 0.0086 False \n",
      "  2      4     0.0016   -0.006 0.0092 False \n",
      "  2      5     0.0031  -0.0045 0.0106 False \n",
      "  2      6     0.0066  -0.0015 0.0148 False \n",
      "  2      7     0.007   -0.0012 0.0152 False \n",
      "  2      8     0.0055  -0.0027 0.0137 False \n",
      "  2      9     0.0045  -0.0037 0.0127 False \n",
      "  2      10    0.0039  -0.0053 0.0132 False \n",
      "  2      11    0.0023  -0.0058 0.0105 False \n",
      "  2      12    0.0024  -0.0052  0.01  False \n",
      "  3      4     0.0006   -0.007 0.0081 False \n",
      "  3      5     0.002   -0.0055 0.0096 False \n",
      "  3      6     0.0056  -0.0026 0.0138 False \n",
      "  3      7     0.0059  -0.0022 0.0141 False \n",
      "  3      8     0.0045  -0.0037 0.0126 False \n",
      "  3      9     0.0035  -0.0047 0.0116 False \n",
      "  3      10    0.0029  -0.0064 0.0122 False \n",
      "  3      11    0.0013  -0.0069 0.0094 False \n",
      "  3      12    0.0014  -0.0062 0.0089 False \n",
      "  4      5     0.0015  -0.0061 0.009  False \n",
      "  4      6     0.005   -0.0031 0.0132 False \n",
      "  4      7     0.0054  -0.0028 0.0135 False \n",
      "  4      8     0.0039  -0.0043 0.012  False \n",
      "  4      9     0.0029  -0.0053 0.0111 False \n",
      "  4      10    0.0023  -0.0069 0.0116 False \n",
      "  4      11    0.0007  -0.0074 0.0089 False \n",
      "  4      12    0.0008  -0.0068 0.0084 False \n",
      "  5      6     0.0036  -0.0046 0.0117 False \n",
      "  5      7     0.0039  -0.0042 0.0121 False \n",
      "  5      8     0.0024  -0.0057 0.0106 False \n",
      "  5      9     0.0014  -0.0067 0.0096 False \n",
      "  5      10    0.0009  -0.0084 0.0101 False \n",
      "  5      11   -0.0007  -0.0089 0.0074 False \n",
      "  5      12   -0.0007  -0.0082 0.0069 False \n",
      "  6      7     0.0003  -0.0084 0.0091 False \n",
      "  6      8    -0.0012  -0.0099 0.0076 False \n",
      "  6      9    -0.0021  -0.0109 0.0066 False \n",
      "  6      10   -0.0027  -0.0125 0.0071 False \n",
      "  6      11   -0.0043   -0.013 0.0044 False \n",
      "  6      12   -0.0042  -0.0124 0.0039 False \n",
      "  7      8    -0.0015  -0.0102 0.0072 False \n",
      "  7      9    -0.0025  -0.0112 0.0063 False \n",
      "  7      10   -0.0031  -0.0128 0.0067 False \n",
      "  7      11   -0.0047  -0.0134 0.0041 False \n",
      "  7      12   -0.0046  -0.0127 0.0036 False \n",
      "  8      9     -0.001  -0.0097 0.0078 False \n",
      "  8      10   -0.0016  -0.0113 0.0082 False \n",
      "  8      11   -0.0032  -0.0119 0.0056 False \n",
      "  8      12   -0.0031  -0.0112 0.0051 False \n",
      "  9      10   -0.0006  -0.0103 0.0092 False \n",
      "  9      11   -0.0022  -0.0109 0.0065 False \n",
      "  9      12   -0.0021  -0.0103 0.0061 False \n",
      "  10     11   -0.0016  -0.0114 0.0081 False \n",
      "  10     12   -0.0015  -0.0108 0.0077 False \n",
      "  11     12    0.0001  -0.0081 0.0082 False \n",
      "--------------------------------------------\n"
     ]
    }
   ],
   "source": [
    "print(MultiComp.tukeyhsd(0.2).summary())"
   ]
  },
  {
   "cell_type": "code",
   "execution_count": null,
   "metadata": {},
   "outputs": [],
   "source": [
    "MultiComp_std = MultiComparison(df_all_2Mstd_mon['u_f'][fi],\n",
    "                            df_all_2Mstd_mon.index.month[fi])"
   ]
  },
  {
   "cell_type": "code",
   "execution_count": 212,
   "metadata": {},
   "outputs": [
    {
     "name": "stderr",
     "output_type": "stream",
     "text": [
      "/Users/tomconnolly/programs/anaconda/envs/py37/lib/python3.7/site-packages/matplotlib/pyplot.py:514: RuntimeWarning: More than 20 figures have been opened. Figures created through the pyplot interface (`matplotlib.pyplot.figure`) are retained until explicitly closed and may consume too much memory. (To control this warning, see the rcParam `figure.max_open_warning`).\n",
      "  max_open_warning, RuntimeWarning)\n"
     ]
    },
    {
     "data": {
      "application/vnd.jupyter.widget-view+json": {
       "model_id": "9ee73c772f6b401cb4a0f136148888af",
       "version_major": 2,
       "version_minor": 0
      },
      "text/plain": [
       "FigureCanvasNbAgg()"
      ]
     },
     "metadata": {},
     "output_type": "display_data"
    }
   ],
   "source": [
    "plt.figure(figsize=(7,8))\n",
    "plt.subplot(311)\n",
    "plt.plot(df_all_2M.index,df_all_2M['u_f'],'k-')\n",
    "plt.plot(df_all_2M.index,df_all_2M['v_f'],'--',color='gray')\n",
    "plt.title('60-day running mean')\n",
    "plt.ylim([-0.011,0.011])\n",
    "plt.ylabel('[m/s]')\n",
    "plt.gca().set_xticklabels([])\n",
    "yl = plt.ylim()\n",
    "xl = plt.xlim()\n",
    "plt.text(xl[0]+0.01*np.diff(xl),yl[1]-0.1*np.diff(yl),'a)')\n",
    "plt.legend(['$u$','$v$'])\n",
    "\n",
    "plt.subplot(312)\n",
    "plt.plot(df_all_2Mstd.index,df_all_2Mstd['u_f'],'k-')\n",
    "plt.plot(df_all_2Mstd.index,df_all_2Mstd['u_super'],'-',color='darkgray',lw=2)\n",
    "plt.plot(df_all_2Mstd.index,df_all_2Mstd['u_tide'],'-',color='lightgray')\n",
    "plt.gca().set_xticklabels([])\n",
    "yl = plt.ylim()\n",
    "plt.ylim([0,yl[1]])\n",
    "plt.ylabel('[m/s]')\n",
    "plt.title('60-day running standard deviation - $u$')\n",
    "yl = plt.ylim()\n",
    "xl = plt.xlim()\n",
    "plt.text(xl[0]+0.01*np.diff(xl),yl[1]-0.1*np.diff(yl),'b)')\n",
    "plt.legend(['$u_{lp}$','$u_{tide}$','$u_{hp}$'])\n",
    "\n",
    "plt.subplot(313)\n",
    "plt.plot(df_all_2Mstd.index,df_all_2Mstd['v_f'],'k-')\n",
    "plt.plot(df_all_2Mstd.index,df_all_2Mstd['v_super'],'-',color='darkgray',lw=2)\n",
    "plt.plot(df_all_2Mstd.index,df_all_2Mstd['v_tide'],'-',color='lightgray')\n",
    "plt.xticks(rotation=30)\n",
    "plt.ylim([0,yl[1]])\n",
    "plt.title('60-day running standard deviation - $v$')\n",
    "plt.ylabel('[m/s]')\n",
    "plt.tight_layout()\n",
    "yl = plt.ylim()\n",
    "xl = plt.xlim()\n",
    "plt.text(xl[0]+0.01*np.diff(xl),yl[1]-0.1*np.diff(yl),'c)')\n",
    "\n",
    "plt.savefig('figures_paper/runnning_stats.png',dpi=600)\n",
    "plt.savefig('figures_paper/runnning_stats.pdf')"
   ]
  },
  {
   "cell_type": "code",
   "execution_count": 100,
   "metadata": {},
   "outputs": [
    {
     "name": "stderr",
     "output_type": "stream",
     "text": [
      "/Users/tomconnolly/programs/anaconda/envs/py37/lib/python3.7/site-packages/matplotlib/pyplot.py:514: RuntimeWarning: More than 20 figures have been opened. Figures created through the pyplot interface (`matplotlib.pyplot.figure`) are retained until explicitly closed and may consume too much memory. (To control this warning, see the rcParam `figure.max_open_warning`).\n",
      "  max_open_warning, RuntimeWarning)\n"
     ]
    },
    {
     "data": {
      "application/vnd.jupyter.widget-view+json": {
       "model_id": "4d8ffc0c225c48fb8fa3de993dd5081d",
       "version_major": 2,
       "version_minor": 0
      },
      "text/plain": [
       "FigureCanvasNbAgg()"
      ]
     },
     "metadata": {},
     "output_type": "display_data"
    },
    {
     "data": {
      "text/plain": [
       "Text(0.5, 1.0, 'rolling means')"
      ]
     },
     "execution_count": 100,
     "metadata": {},
     "output_type": "execute_result"
    }
   ],
   "source": [
    "plt.figure()\n",
    "plt.plot(df_all_1M.index,df_all_1M['u_f'])\n",
    "plt.plot(df_all_2M.index,df_all_2M['u_f'])\n",
    "plt.plot(df_all_3M.index,df_all_3M['u_f'])\n",
    "plt.legend(['1M','2M','3M'])\n",
    "plt.title('rolling means')"
   ]
  },
  {
   "cell_type": "code",
   "execution_count": 99,
   "metadata": {},
   "outputs": [
    {
     "name": "stderr",
     "output_type": "stream",
     "text": [
      "/Users/tomconnolly/programs/anaconda/envs/py37/lib/python3.7/site-packages/matplotlib/pyplot.py:514: RuntimeWarning: More than 20 figures have been opened. Figures created through the pyplot interface (`matplotlib.pyplot.figure`) are retained until explicitly closed and may consume too much memory. (To control this warning, see the rcParam `figure.max_open_warning`).\n",
      "  max_open_warning, RuntimeWarning)\n"
     ]
    },
    {
     "data": {
      "application/vnd.jupyter.widget-view+json": {
       "model_id": "0c92186932254e31ab54e6bec98f8d1d",
       "version_major": 2,
       "version_minor": 0
      },
      "text/plain": [
       "FigureCanvasNbAgg()"
      ]
     },
     "metadata": {},
     "output_type": "display_data"
    },
    {
     "data": {
      "text/plain": [
       "[<matplotlib.lines.Line2D at 0x1c571bc2e8>]"
      ]
     },
     "execution_count": 99,
     "metadata": {},
     "output_type": "execute_result"
    }
   ],
   "source": [
    "plt.figure()\n",
    "plt.plot(df_all_3Mstd_mon.index,df_all_3Mstd_mon['u_f'])\n",
    "plt.plot(df_all_3Mstd_mon.index,df_all_3Mstd_mon['u_super'])\n",
    "plt.plot(df_all_3Mstd_mon.index,df_all_3Mstd_mon['u_tide'])"
   ]
  },
  {
   "cell_type": "code",
   "execution_count": 82,
   "metadata": {},
   "outputs": [
    {
     "name": "stderr",
     "output_type": "stream",
     "text": [
      "/Users/tomconnolly/programs/anaconda/envs/py37/lib/python3.7/site-packages/matplotlib/pyplot.py:514: RuntimeWarning: More than 20 figures have been opened. Figures created through the pyplot interface (`matplotlib.pyplot.figure`) are retained until explicitly closed and may consume too much memory. (To control this warning, see the rcParam `figure.max_open_warning`).\n",
      "  max_open_warning, RuntimeWarning)\n"
     ]
    },
    {
     "data": {
      "application/vnd.jupyter.widget-view+json": {
       "model_id": "98dc4894f0ca4f02a3cd7330487a13d7",
       "version_major": 2,
       "version_minor": 0
      },
      "text/plain": [
       "FigureCanvasNbAgg()"
      ]
     },
     "metadata": {},
     "output_type": "display_data"
    },
    {
     "data": {
      "text/plain": [
       "[<matplotlib.lines.Line2D at 0x1c52018ba8>]"
      ]
     },
     "execution_count": 82,
     "metadata": {},
     "output_type": "execute_result"
    }
   ],
   "source": [
    "plt.figure()\n",
    "plt.plot(df_all_2Mstd_mon.index,df_all_2Mstd_mon['u_f'])\n",
    "plt.plot(df_all_2Mstd_mon.index,df_all_2Mstd_mon['u_super'])\n",
    "plt.plot(df_all_2Mstd_mon.index,df_all_2Mstd_mon['u_tide'])"
   ]
  },
  {
   "cell_type": "code",
   "execution_count": 64,
   "metadata": {},
   "outputs": [
    {
     "name": "stderr",
     "output_type": "stream",
     "text": [
      "/Users/tomconnolly/programs/anaconda/envs/py37/lib/python3.7/site-packages/matplotlib/pyplot.py:514: RuntimeWarning: More than 20 figures have been opened. Figures created through the pyplot interface (`matplotlib.pyplot.figure`) are retained until explicitly closed and may consume too much memory. (To control this warning, see the rcParam `figure.max_open_warning`).\n",
      "  max_open_warning, RuntimeWarning)\n"
     ]
    },
    {
     "data": {
      "application/vnd.jupyter.widget-view+json": {
       "model_id": "1850fbd02e184279ba8403c1964ac928",
       "version_major": 2,
       "version_minor": 0
      },
      "text/plain": [
       "FigureCanvasNbAgg()"
      ]
     },
     "metadata": {},
     "output_type": "display_data"
    },
    {
     "data": {
      "text/plain": [
       "[<matplotlib.lines.Line2D at 0x1c4650aa20>]"
      ]
     },
     "execution_count": 64,
     "metadata": {},
     "output_type": "execute_result"
    }
   ],
   "source": [
    "plt.figure()\n",
    "plt.plot(df_all_3M.index,df_all_3M['u_f'])\n",
    "plt.plot(df_all_3M_mon.index,df_all_3M_mon['u_f'])\n",
    "plt.plot(df_all_2M_mon.index,df_all_2M_mon['u_f'])"
   ]
  },
  {
   "cell_type": "code",
   "execution_count": 71,
   "metadata": {},
   "outputs": [
    {
     "name": "stderr",
     "output_type": "stream",
     "text": [
      "/Users/tomconnolly/programs/anaconda/envs/py37/lib/python3.7/site-packages/matplotlib/pyplot.py:514: RuntimeWarning: More than 20 figures have been opened. Figures created through the pyplot interface (`matplotlib.pyplot.figure`) are retained until explicitly closed and may consume too much memory. (To control this warning, see the rcParam `figure.max_open_warning`).\n",
      "  max_open_warning, RuntimeWarning)\n"
     ]
    },
    {
     "data": {
      "application/vnd.jupyter.widget-view+json": {
       "model_id": "f8588ceb58214ad598e8f9c7949a28d7",
       "version_major": 2,
       "version_minor": 0
      },
      "text/plain": [
       "FigureCanvasNbAgg()"
      ]
     },
     "metadata": {},
     "output_type": "display_data"
    },
    {
     "data": {
      "text/plain": [
       "[<matplotlib.lines.Line2D at 0x1c4a83d9e8>]"
      ]
     },
     "execution_count": 71,
     "metadata": {},
     "output_type": "execute_result"
    }
   ],
   "source": [
    "plt.figure()\n",
    "plt.plot(df_all_3M_mon['u_f'],df_all_2M_mon['u_f'],'.')"
   ]
  },
  {
   "cell_type": "code",
   "execution_count": 42,
   "metadata": {},
   "outputs": [
    {
     "data": {
      "application/vnd.jupyter.widget-view+json": {
       "model_id": "778c5f5de937472b8e487618494e47a8",
       "version_major": 2,
       "version_minor": 0
      },
      "text/plain": [
       "FigureCanvasNbAgg()"
      ]
     },
     "metadata": {},
     "output_type": "display_data"
    },
    {
     "data": {
      "text/plain": [
       "Text(0.5, 1.0, 'rolling means')"
      ]
     },
     "execution_count": 42,
     "metadata": {},
     "output_type": "execute_result"
    }
   ],
   "source": [
    "plt.figure()\n",
    "plt.plot(df_all_1M.index,df_all_1M['u_f'])\n",
    "plt.plot(df_all_2M.index,df_all_2M['u_f'])\n",
    "plt.plot(df_all_3M.index,df_all_3M['u_f'])\n",
    "plt.legend(['1M','2M','3M'])\n",
    "plt.title('rolling means')"
   ]
  },
  {
   "cell_type": "code",
   "execution_count": null,
   "metadata": {},
   "outputs": [],
   "source": []
  }
 ],
 "metadata": {
  "kernelspec": {
   "display_name": "Python [conda env:py37]",
   "language": "python",
   "name": "conda-env-py37-py"
  },
  "language_info": {
   "codemirror_mode": {
    "name": "ipython",
    "version": 3
   },
   "file_extension": ".py",
   "mimetype": "text/x-python",
   "name": "python",
   "nbconvert_exporter": "python",
   "pygments_lexer": "ipython3",
   "version": "3.7.2"
  }
 },
 "nbformat": 4,
 "nbformat_minor": 2
}
