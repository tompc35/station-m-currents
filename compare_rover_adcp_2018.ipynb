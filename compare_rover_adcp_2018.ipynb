{
 "cells": [
  {
   "cell_type": "code",
   "execution_count": 45,
   "metadata": {},
   "outputs": [],
   "source": [
    "%matplotlib ipympl\n",
    "import pandas as pd\n",
    "import xarray as xr\n",
    "import numpy as np\n",
    "import matplotlib.pyplot as plt\n",
    "from scipy import stats\n",
    "from scipy.signal import welch, periodogram\n",
    "import os\n",
    "\n",
    "import matplotlib.dates as mdates\n",
    "\n",
    "import utide\n",
    "\n",
    "from physoce import tseries as ts\n",
    "\n",
    "from ADCP import rditext_to_dataset"
   ]
  },
  {
   "cell_type": "markdown",
   "metadata": {},
   "source": [
    "### Load data\n",
    "\n",
    "#### Rover"
   ]
  },
  {
   "cell_type": "code",
   "execution_count": 46,
   "metadata": {},
   "outputs": [
    {
     "name": "stderr",
     "output_type": "stream",
     "text": [
      "/Users/tomconnolly/programs/anaconda/envs/py37/lib/python3.7/site-packages/ipykernel/__main__.py:17: SettingWithCopyWarning: \n",
      "A value is trying to be set on a copy of a slice from a DataFrame\n",
      "\n",
      "See the caveats in the documentation: http://pandas.pydata.org/pandas-docs/stable/indexing.html#indexing-view-versus-copy\n",
      "/Users/tomconnolly/programs/anaconda/envs/py37/lib/python3.7/site-packages/ipykernel/__main__.py:18: SettingWithCopyWarning: \n",
      "A value is trying to be set on a copy of a slice from a DataFrame\n",
      "\n",
      "See the caveats in the documentation: http://pandas.pydata.org/pandas-docs/stable/indexing.html#indexing-view-versus-copy\n"
     ]
    },
    {
     "name": "stdout",
     "output_type": "stream",
     "text": [
      "solve: matrix prep ... solution ... diagnostics ... done.\n",
      "prep/calcs ... done.\n"
     ]
    },
    {
     "name": "stderr",
     "output_type": "stream",
     "text": [
      "/Users/tomconnolly/programs/anaconda/envs/py37/lib/python3.7/site-packages/scipy/signal/signaltools.py:491: FutureWarning: Using a non-tuple sequence for multidimensional indexing is deprecated; use `arr[tuple(seq)]` instead of `arr[seq]`. In the future this will be interpreted as an array index, `arr[np.array(seq)]`, which will result either in an error or a different result.\n",
      "  return x[reverse].conj()\n",
      "/Users/tomconnolly/programs/anaconda/envs/py37/lib/python3.7/site-packages/scipy/signal/signaltools.py:251: FutureWarning: Using a non-tuple sequence for multidimensional indexing is deprecated; use `arr[tuple(seq)]` instead of `arr[seq]`. In the future this will be interpreted as an array index, `arr[np.array(seq)]`, which will result either in an error or a different result.\n",
      "  in1zpadded[sc] = in1.copy()\n"
     ]
    }
   ],
   "source": [
    "# Load data\n",
    "rover_csv_file = 'data/Rover_II_Current_Mag_Hourly_Avg_pad_2018.csv'\n",
    "df_all = pd.read_csv(rover_csv_file,parse_dates=[7])\n",
    "\n",
    "# Datetime index\n",
    "df_all = df_all.set_index('Date_time_R')\n",
    "\n",
    "# Create u and v components with units m/s\n",
    "df_all['u'] = df_all['Easting (cm/sec)']/100\n",
    "df_all['v'] = df_all['Northing (cm/sec)']/100\n",
    "\n",
    "# mask erroneous points \n",
    "# abrupt shift near end of deployment \n",
    "bi = ((df_all.index > np.datetime64('2015-06-18T12:00')) &\n",
    "    (df_all.index < np.datetime64('2015-06-20T00:00')))\n",
    "\n",
    "df_all['u'][bi] = np.nan\n",
    "df_all['v'][bi] = np.nan\n",
    "\n",
    "# select time range\n",
    "t1 = np.datetime64('2014-10-11T00:00:00')\n",
    "t2 = np.datetime64('2018-10-17T00:00:00')\n",
    "df_all = df_all.loc[(df_all.index >= t1) & (df_all.index <= t2)]\n",
    "\n",
    "# tidal analysis\n",
    "time = mdates.date2num(df_all.index)\n",
    "\n",
    "coef = utide.solve(time, np.array(df_all['u']), \n",
    "         np.array(df_all['v']),\n",
    "         lat=35+8.4585/60,\n",
    "         method='robust')\n",
    "\n",
    "crit = (coef['diagn']['SNR'] > 2) & (1/coef['aux']['frq'] < 33)\n",
    "\n",
    "# resample and interpolate\n",
    "df_all_r = df_all.resample('1H').mean()\n",
    "\n",
    "# Calculate tidal currents at hourly points\n",
    "time_r = mdates.date2num(df_all_r.index)\n",
    "#tide_r = utide.reconstruct(time_r,coef)\n",
    "tide_r = utide.reconstruct(time_r,coef,constit=coef['name'][crit])\n",
    "df_all_r['u_tide'] = tide_r.u\n",
    "df_all_r['v_tide'] = tide_r.v\n",
    "df_all_r['u_detide'] = df_all_r['u'] - df_all_r['u_tide']\n",
    "df_all_r['v_detide'] = df_all_r['v'] - df_all_r['v_tide']\n",
    "\n",
    "df_all_int = df_all_r.interpolate(limit=int(24*3.5))\n",
    "\n",
    "df_all_int['u'] = df_all_int['u_detide'] + df_all_int['u_tide']\n",
    "df_all_int['v'] = df_all_int['v_detide'] + df_all_int['v_tide']\n",
    "\n",
    "df_all_int['u_f'] = ts.pl64(df_all_int['u_detide'])\n",
    "df_all_int['v_f'] = ts.pl64(df_all_int['v_detide'])\n",
    "\n",
    "df_all_int['u_super'] = df_all_int['u'] - df_all_int['u_f'] - df_all_int['u_tide']\n",
    "df_all_int['v_super'] = df_all_int['v'] - df_all_int['v_f'] - df_all_int['v_tide']"
   ]
  },
  {
   "cell_type": "markdown",
   "metadata": {},
   "source": [
    "#### ADCP"
   ]
  },
  {
   "cell_type": "code",
   "execution_count": 47,
   "metadata": {},
   "outputs": [],
   "source": [
    "ds = xr.open_dataset('data/MBARI_StationM_ADCP_201711_201811.nc')"
   ]
  },
  {
   "cell_type": "markdown",
   "metadata": {},
   "source": [
    "### Resample to hourly values"
   ]
  },
  {
   "cell_type": "markdown",
   "metadata": {},
   "source": [
    "#### Define date range"
   ]
  },
  {
   "cell_type": "code",
   "execution_count": 48,
   "metadata": {},
   "outputs": [],
   "source": [
    "t1 = np.datetime64('2017-11-12T00:00:00')\n",
    "t2 = np.datetime64('2018-10-17T00:00:00')"
   ]
  },
  {
   "cell_type": "markdown",
   "metadata": {},
   "source": [
    "#### ADCP"
   ]
  },
  {
   "cell_type": "code",
   "execution_count": 49,
   "metadata": {},
   "outputs": [
    {
     "name": "stderr",
     "output_type": "stream",
     "text": [
      "/Users/tomconnolly/programs/anaconda/envs/py37/lib/python3.7/site-packages/xarray/core/nanops.py:161: RuntimeWarning: Mean of empty slice\n",
      "  return np.nanmean(a, axis=axis, dtype=dtype)\n"
     ]
    }
   ],
   "source": [
    "dsr = ds.resample({'time':'1H'}).mean()"
   ]
  },
  {
   "cell_type": "code",
   "execution_count": 60,
   "metadata": {},
   "outputs": [],
   "source": [
    "ti, = np.where((dsr['time'] >= t1) & (dsr['time'] < t2))\n",
    "dsf = dsr.isel(time = ti)"
   ]
  },
  {
   "cell_type": "markdown",
   "metadata": {},
   "source": [
    "#### Rover"
   ]
  },
  {
   "cell_type": "code",
   "execution_count": 61,
   "metadata": {},
   "outputs": [],
   "source": [
    "dff = df_all_int.loc[(df_all_int.index >= t1) & (df_all_int.index <= t2)]"
   ]
  },
  {
   "cell_type": "markdown",
   "metadata": {},
   "source": [
    "## Plot comparisons"
   ]
  },
  {
   "cell_type": "code",
   "execution_count": 62,
   "metadata": {},
   "outputs": [
    {
     "data": {
      "application/vnd.jupyter.widget-view+json": {
       "model_id": "3a7b273dab8b4deab348bf56bc105d79",
       "version_major": 2,
       "version_minor": 0
      },
      "text/plain": [
       "FigureCanvasNbAgg()"
      ]
     },
     "metadata": {},
     "output_type": "display_data"
    },
    {
     "data": {
      "application/vnd.jupyter.widget-view+json": {
       "model_id": "5053bf76a6774cd5a1afecd2639bd26c",
       "version_major": 2,
       "version_minor": 0
      },
      "text/plain": [
       "FigureCanvasNbAgg()"
      ]
     },
     "metadata": {},
     "output_type": "display_data"
    }
   ],
   "source": [
    "plt.figure(figsize=(7.5,4))\n",
    "plt.plot(dff.index,dff['u'])\n",
    "plt.plot(dsf['time'],dsf['Eas'][:,1]+0.1,'-')\n",
    "yl = plt.ylim()\n",
    "\n",
    "plt.figure(figsize=(7.5,4))\n",
    "plt.plot(dff.index,dff['v'])\n",
    "plt.plot(dsf['time'],dsf['Nor'][:,1]+0.1,'-')\n",
    "yl = plt.ylim()"
   ]
  },
  {
   "cell_type": "code",
   "execution_count": 63,
   "metadata": {},
   "outputs": [
    {
     "data": {
      "application/vnd.jupyter.widget-view+json": {
       "model_id": "151cf2736d7c4f08b0bb2eb974b44cfe",
       "version_major": 2,
       "version_minor": 0
      },
      "text/plain": [
       "FigureCanvasNbAgg()"
      ]
     },
     "metadata": {},
     "output_type": "display_data"
    },
    {
     "name": "stderr",
     "output_type": "stream",
     "text": [
      "/Users/tomconnolly/programs/anaconda/envs/py37/lib/python3.7/site-packages/scipy/signal/signaltools.py:491: FutureWarning: Using a non-tuple sequence for multidimensional indexing is deprecated; use `arr[tuple(seq)]` instead of `arr[seq]`. In the future this will be interpreted as an array index, `arr[np.array(seq)]`, which will result either in an error or a different result.\n",
      "  return x[reverse].conj()\n",
      "/Users/tomconnolly/programs/anaconda/envs/py37/lib/python3.7/site-packages/scipy/signal/signaltools.py:251: FutureWarning: Using a non-tuple sequence for multidimensional indexing is deprecated; use `arr[tuple(seq)]` instead of `arr[seq]`. In the future this will be interpreted as an array index, `arr[np.array(seq)]`, which will result either in an error or a different result.\n",
      "  in1zpadded[sc] = in1.copy()\n"
     ]
    },
    {
     "data": {
      "application/vnd.jupyter.widget-view+json": {
       "model_id": "8708037757394f87916c92ee82e96664",
       "version_major": 2,
       "version_minor": 0
      },
      "text/plain": [
       "FigureCanvasNbAgg()"
      ]
     },
     "metadata": {},
     "output_type": "display_data"
    },
    {
     "name": "stderr",
     "output_type": "stream",
     "text": [
      "/Users/tomconnolly/programs/anaconda/envs/py37/lib/python3.7/site-packages/scipy/signal/signaltools.py:491: FutureWarning: Using a non-tuple sequence for multidimensional indexing is deprecated; use `arr[tuple(seq)]` instead of `arr[seq]`. In the future this will be interpreted as an array index, `arr[np.array(seq)]`, which will result either in an error or a different result.\n",
      "  return x[reverse].conj()\n",
      "/Users/tomconnolly/programs/anaconda/envs/py37/lib/python3.7/site-packages/scipy/signal/signaltools.py:251: FutureWarning: Using a non-tuple sequence for multidimensional indexing is deprecated; use `arr[tuple(seq)]` instead of `arr[seq]`. In the future this will be interpreted as an array index, `arr[np.array(seq)]`, which will result either in an error or a different result.\n",
      "  in1zpadded[sc] = in1.copy()\n"
     ]
    },
    {
     "data": {
      "text/plain": [
       "<matplotlib.legend.Legend at 0x1c19fe50f0>"
      ]
     },
     "execution_count": 63,
     "metadata": {},
     "output_type": "execute_result"
    }
   ],
   "source": [
    "plt.figure(figsize=(7.5,4))\n",
    "plt.plot(dff.index,ts.pl64(dff['u']))\n",
    "plt.plot(dsf['time'],ts.pl64(dsf['Eas'][:,1]),'-')\n",
    "yl = plt.ylim()\n",
    "plt.legend(['Rover','ADCP'])\n",
    "\n",
    "plt.figure(figsize=(7.5,4))\n",
    "plt.plot(dff.index,ts.pl64(dff['v']))\n",
    "plt.plot(dsf['time'],ts.pl64(dsf['Nor'][:,1]),'-')\n",
    "yl = plt.ylim()\n",
    "plt.legend(['Rover','ADCP'])"
   ]
  },
  {
   "cell_type": "code",
   "execution_count": 64,
   "metadata": {},
   "outputs": [
    {
     "data": {
      "application/vnd.jupyter.widget-view+json": {
       "model_id": "630a2a5106a645e487595f3de931c740",
       "version_major": 2,
       "version_minor": 0
      },
      "text/plain": [
       "FigureCanvasNbAgg()"
      ]
     },
     "metadata": {},
     "output_type": "display_data"
    },
    {
     "data": {
      "application/vnd.jupyter.widget-view+json": {
       "model_id": "9db0fb6d08b241d5a83b754b3421dcc1",
       "version_major": 2,
       "version_minor": 0
      },
      "text/plain": [
       "FigureCanvasNbAgg()"
      ]
     },
     "metadata": {},
     "output_type": "display_data"
    },
    {
     "data": {
      "text/plain": [
       "Text(0, 0.5, 'ADCP')"
      ]
     },
     "execution_count": 64,
     "metadata": {},
     "output_type": "execute_result"
    }
   ],
   "source": [
    "plt.figure()\n",
    "plt.plot(dff['u'],dsf['Eas'][:,1],'.')\n",
    "plt.xlabel('Rover')\n",
    "plt.ylabel('ADCP')\n",
    "\n",
    "plt.figure()\n",
    "plt.plot(dff['v'],dsf['Nor'][:,1],'.')\n",
    "plt.xlabel('Rover')\n",
    "plt.ylabel('ADCP')"
   ]
  },
  {
   "cell_type": "code",
   "execution_count": 96,
   "metadata": {},
   "outputs": [
    {
     "name": "stdout",
     "output_type": "stream",
     "text": [
      "LinregressResult(slope=1.1403954006695474, intercept=-0.002560506867169395, rvalue=0.7117105507001336, pvalue=0.0, stderr=0.012480428802283831)\n",
      "LinregressResult(slope=1.1950035333236817, intercept=-0.0027733025528093795, rvalue=0.7064214195599829, pvalue=0.0, stderr=0.013275735045871278)\n"
     ]
    },
    {
     "name": "stderr",
     "output_type": "stream",
     "text": [
      "/Users/tomconnolly/programs/anaconda/envs/py37/lib/python3.7/site-packages/matplotlib/pyplot.py:514: RuntimeWarning: More than 20 figures have been opened. Figures created through the pyplot interface (`matplotlib.pyplot.figure`) are retained until explicitly closed and may consume too much memory. (To control this warning, see the rcParam `figure.max_open_warning`).\n",
      "  max_open_warning, RuntimeWarning)\n"
     ]
    },
    {
     "data": {
      "application/vnd.jupyter.widget-view+json": {
       "model_id": "325bd241665e4eda9cdd5c725999b6d7",
       "version_major": 2,
       "version_minor": 0
      },
      "text/plain": [
       "FigureCanvasNbAgg()"
      ]
     },
     "metadata": {},
     "output_type": "display_data"
    },
    {
     "name": "stderr",
     "output_type": "stream",
     "text": [
      "/Users/tomconnolly/programs/anaconda/envs/py37/lib/python3.7/site-packages/scipy/signal/signaltools.py:491: FutureWarning: Using a non-tuple sequence for multidimensional indexing is deprecated; use `arr[tuple(seq)]` instead of `arr[seq]`. In the future this will be interpreted as an array index, `arr[np.array(seq)]`, which will result either in an error or a different result.\n",
      "  return x[reverse].conj()\n",
      "/Users/tomconnolly/programs/anaconda/envs/py37/lib/python3.7/site-packages/scipy/signal/signaltools.py:251: FutureWarning: Using a non-tuple sequence for multidimensional indexing is deprecated; use `arr[tuple(seq)]` instead of `arr[seq]`. In the future this will be interpreted as an array index, `arr[np.array(seq)]`, which will result either in an error or a different result.\n",
      "  in1zpadded[sc] = in1.copy()\n",
      "/Users/tomconnolly/programs/anaconda/envs/py37/lib/python3.7/site-packages/matplotlib/pyplot.py:514: RuntimeWarning: More than 20 figures have been opened. Figures created through the pyplot interface (`matplotlib.pyplot.figure`) are retained until explicitly closed and may consume too much memory. (To control this warning, see the rcParam `figure.max_open_warning`).\n",
      "  max_open_warning, RuntimeWarning)\n"
     ]
    },
    {
     "data": {
      "application/vnd.jupyter.widget-view+json": {
       "model_id": "575bd48ed6ce4f7683171198531ea93f",
       "version_major": 2,
       "version_minor": 0
      },
      "text/plain": [
       "FigureCanvasNbAgg()"
      ]
     },
     "metadata": {},
     "output_type": "display_data"
    },
    {
     "name": "stderr",
     "output_type": "stream",
     "text": [
      "/Users/tomconnolly/programs/anaconda/envs/py37/lib/python3.7/site-packages/scipy/signal/signaltools.py:491: FutureWarning: Using a non-tuple sequence for multidimensional indexing is deprecated; use `arr[tuple(seq)]` instead of `arr[seq]`. In the future this will be interpreted as an array index, `arr[np.array(seq)]`, which will result either in an error or a different result.\n",
      "  return x[reverse].conj()\n",
      "/Users/tomconnolly/programs/anaconda/envs/py37/lib/python3.7/site-packages/scipy/signal/signaltools.py:251: FutureWarning: Using a non-tuple sequence for multidimensional indexing is deprecated; use `arr[tuple(seq)]` instead of `arr[seq]`. In the future this will be interpreted as an array index, `arr[np.array(seq)]`, which will result either in an error or a different result.\n",
      "  in1zpadded[sc] = in1.copy()\n",
      "/Users/tomconnolly/programs/anaconda/envs/py37/lib/python3.7/site-packages/matplotlib/pyplot.py:514: RuntimeWarning: More than 20 figures have been opened. Figures created through the pyplot interface (`matplotlib.pyplot.figure`) are retained until explicitly closed and may consume too much memory. (To control this warning, see the rcParam `figure.max_open_warning`).\n",
      "  max_open_warning, RuntimeWarning)\n"
     ]
    },
    {
     "data": {
      "application/vnd.jupyter.widget-view+json": {
       "model_id": "6966d9c514214f46a29a6850a5d8f6e3",
       "version_major": 2,
       "version_minor": 0
      },
      "text/plain": [
       "FigureCanvasNbAgg()"
      ]
     },
     "metadata": {},
     "output_type": "display_data"
    },
    {
     "name": "stderr",
     "output_type": "stream",
     "text": [
      "/Users/tomconnolly/programs/anaconda/envs/py37/lib/python3.7/site-packages/scipy/signal/signaltools.py:491: FutureWarning: Using a non-tuple sequence for multidimensional indexing is deprecated; use `arr[tuple(seq)]` instead of `arr[seq]`. In the future this will be interpreted as an array index, `arr[np.array(seq)]`, which will result either in an error or a different result.\n",
      "  return x[reverse].conj()\n",
      "/Users/tomconnolly/programs/anaconda/envs/py37/lib/python3.7/site-packages/scipy/signal/signaltools.py:251: FutureWarning: Using a non-tuple sequence for multidimensional indexing is deprecated; use `arr[tuple(seq)]` instead of `arr[seq]`. In the future this will be interpreted as an array index, `arr[np.array(seq)]`, which will result either in an error or a different result.\n",
      "  in1zpadded[sc] = in1.copy()\n"
     ]
    },
    {
     "data": {
      "text/plain": [
       "Text(0, 0.5, 'ADCP v - upper bin')"
      ]
     },
     "execution_count": 96,
     "metadata": {},
     "output_type": "execute_result"
    }
   ],
   "source": [
    "gi, = np.where(np.isfinite(dff['v']+dsf['Nor'][:,1]))\n",
    "\n",
    "resu = stats.linregress(dff['u'][gi],dsf['Eas'][:,1][gi])\n",
    "resv = stats.linregress(dff['v'][gi],dsf['Nor'][:,1][gi])\n",
    "\n",
    "print(resu)\n",
    "print(resv)\n",
    "\n",
    "plt.figure()\n",
    "plt.plot(ts.pl64(dff['u'])[::33],ts.pl64(dsf['Eas'][:,1])[::33],'.')\n",
    "plt.xlabel('Rover u')\n",
    "plt.ylabel('ADCP u')\n",
    "\n",
    "plt.figure()\n",
    "plt.plot(ts.pl64(dff['v'])[::33],ts.pl64(dsf['Nor'][:,1])[::33],'.')\n",
    "plt.xlabel('Rover v')\n",
    "plt.ylabel('ADCP v')\n",
    "\n",
    "plt.figure()\n",
    "plt.plot(ts.pl64(dsf['Nor'][:,0])[::33],ts.pl64(dsf['Nor'][:,16])[::33],'.')\n",
    "plt.xlabel('ADCP v - lower bin')\n",
    "plt.ylabel('ADCP v - upper bin')"
   ]
  },
  {
   "cell_type": "code",
   "execution_count": 66,
   "metadata": {},
   "outputs": [
    {
     "data": {
      "text/plain": [
       "<xarray.DataArray 'Eas' (time: 247)>\n",
       "array([0.040333, 0.062167, 0.03775 , ..., 0.006167, 0.012167, 0.007833])\n",
       "Coordinates:\n",
       "  * time     (time) datetime64[ns] 2017-11-12 ... 2018-10-16T06:00:00"
      ]
     },
     "execution_count": 66,
     "metadata": {},
     "output_type": "execute_result"
    }
   ],
   "source": [
    "dsf['Eas'][:,1][::33]"
   ]
  },
  {
   "cell_type": "markdown",
   "metadata": {},
   "source": [
    "### Spectral analysis"
   ]
  },
  {
   "cell_type": "code",
   "execution_count": 77,
   "metadata": {},
   "outputs": [],
   "source": [
    "Eas = np.array(ds['Eas'])\n",
    "Nor = np.array(ds['Nor'])\n",
    "Eas_tide = np.array(ds['Eas_tide'])\n",
    "Nor_tide = np.array(ds['Nor_tide'])\n",
    "\n",
    "u_rover = dff['u']\n",
    "v_rover = dff['v']\n",
    "\n",
    "N = len(Eas)\n",
    "fE,SE = welch(Eas[:,5],fs=288.,nperseg=N/6,window='hanning')\n",
    "fN,SN = welch(Nor[:,5],fs=288.,nperseg=N/6,window='hanning')\n",
    "\n",
    "fur,Sur = welch(u_rover,fs=24.,nperseg=N/6/20,window='hanning')\n",
    "fvr,Svr = welch(v_rover,fs=24.,nperseg=N/6/20,window='hanning')\n",
    "\n",
    "#rotary spectrum\n",
    "fr,Sr = welch(Eas[:,5]+1j*Nor[:,5],\n",
    "              fs=288.,nperseg=N/6,\n",
    "              window='hann',return_onesided=False)\n",
    "icw, = np.where(fr<0)\n",
    "iccw, = np.where(fr>0)\n",
    "fcw = -fr[icw]\n",
    "Scw = Sr[icw]\n",
    "fccw = fr[iccw]\n",
    "Sccw = Sr[iccw]"
   ]
  },
  {
   "cell_type": "code",
   "execution_count": 92,
   "metadata": {},
   "outputs": [
    {
     "name": "stderr",
     "output_type": "stream",
     "text": [
      "/Users/tomconnolly/programs/anaconda/envs/py37/lib/python3.7/site-packages/matplotlib/pyplot.py:514: RuntimeWarning: More than 20 figures have been opened. Figures created through the pyplot interface (`matplotlib.pyplot.figure`) are retained until explicitly closed and may consume too much memory. (To control this warning, see the rcParam `figure.max_open_warning`).\n",
      "  max_open_warning, RuntimeWarning)\n"
     ]
    },
    {
     "data": {
      "application/vnd.jupyter.widget-view+json": {
       "model_id": "9c94b16249ea451ca19e49460cc66c3a",
       "version_major": 2,
       "version_minor": 0
      },
      "text/plain": [
       "FigureCanvasNbAgg()"
      ]
     },
     "metadata": {},
     "output_type": "display_data"
    },
    {
     "data": {
      "text/plain": [
       "(0.1, 30)"
      ]
     },
     "execution_count": 92,
     "metadata": {},
     "output_type": "execute_result"
    }
   ],
   "source": [
    "plt.figure()\n",
    "plt.loglog(fur,Sur+Svr)\n",
    "plt.loglog(fE,SE+SN,'r-')\n",
    "plt.legend(['Rover','ADCP'])\n",
    "plt.ylabel('[m$^2$ s$^{-2}$ cpd$^{-1}$]')\n",
    "xl = [0.1,30]\n",
    "plt.xlim(xl)"
   ]
  },
  {
   "cell_type": "code",
   "execution_count": 68,
   "metadata": {},
   "outputs": [
    {
     "data": {
      "application/vnd.jupyter.widget-view+json": {
       "model_id": "91cef8eaf3a44031b29337707b79606b",
       "version_major": 2,
       "version_minor": 0
      },
      "text/plain": [
       "FigureCanvasNbAgg()"
      ]
     },
     "metadata": {},
     "output_type": "display_data"
    },
    {
     "data": {
      "text/plain": [
       "Text(0.5, 1.0, 'rotary spectra [ADCP]')"
      ]
     },
     "execution_count": 68,
     "metadata": {},
     "output_type": "execute_result"
    }
   ],
   "source": [
    "plt.figure()\n",
    "plt.loglog(fcw,Scw)\n",
    "plt.loglog(fccw,Sccw,'--')\n",
    "plt.legend(['clockwise','counter-clockwise'])\n",
    "plt.xlabel('frequency [cpd]')\n",
    "plt.ylabel('[m$^2$ s$^{-2}$ cpd$^{-1}$]')\n",
    "plt.title('rotary spectra [ADCP]')"
   ]
  },
  {
   "cell_type": "code",
   "execution_count": 15,
   "metadata": {},
   "outputs": [],
   "source": [
    "#periodogram method\n",
    "fup,Sup = periodogram(Eas[:,5],\n",
    "              fs=288.,\n",
    "              window='hanning')\n",
    "\n",
    "# average frequency bands\n",
    "navg = 4   # number of frequency bands to average\n",
    "nfreq = int(np.floor(len(fup)/navg))  # number of freqencies in averaged spectrum\n",
    "\n",
    "fwt = 1/navg\n",
    "fm = np.zeros(nfreq)\n",
    "Sm = np.zeros(nfreq)\n",
    "for k in range(navg):\n",
    "    fm = fm + fwt*fup[1:(nfreq*navg)][::navg]\n",
    "    Sm = Sm + fwt*Sup[1:(nfreq*navg)][::navg]\n",
    "    \n",
    "#welch\n",
    "fw,Sw = welch(Eas[:,5],\n",
    "              fs=288.,nperseg=N/6,\n",
    "              window='hann',return_onesided=True)"
   ]
  },
  {
   "cell_type": "code",
   "execution_count": 16,
   "metadata": {},
   "outputs": [
    {
     "data": {
      "application/vnd.jupyter.widget-view+json": {
       "model_id": "",
       "version_major": 2,
       "version_minor": 0
      },
      "text/plain": [
       "FigureCanvasNbAgg()"
      ]
     },
     "metadata": {},
     "output_type": "display_data"
    },
    {
     "data": {
      "text/plain": [
       "[<matplotlib.lines.Line2D at 0x1c1a0192b0>]"
      ]
     },
     "execution_count": 16,
     "metadata": {},
     "output_type": "execute_result"
    }
   ],
   "source": [
    "plt.figure()\n",
    "plt.loglog(fm,Sm)\n",
    "plt.loglog(fw,Sw)"
   ]
  },
  {
   "cell_type": "code",
   "execution_count": 17,
   "metadata": {},
   "outputs": [],
   "source": [
    "#rotary spectrum\n",
    "frp,Srp = periodogram(Eas[:,5]+1j*Nor[:,5],\n",
    "              fs=288.,\n",
    "              window='boxcar',return_onesided=False)\n",
    "icw, = np.where(frp<0)\n",
    "iccw, = np.where(frp>0)\n",
    "fcw = -frp[icw]\n",
    "Scw = Srp[icw]\n",
    "fccw = frp[iccw]\n",
    "Sccw = Srp[iccw]"
   ]
  },
  {
   "cell_type": "code",
   "execution_count": 18,
   "metadata": {},
   "outputs": [
    {
     "data": {
      "application/vnd.jupyter.widget-view+json": {
       "model_id": "",
       "version_major": 2,
       "version_minor": 0
      },
      "text/plain": [
       "FigureCanvasNbAgg()"
      ]
     },
     "metadata": {},
     "output_type": "display_data"
    },
    {
     "data": {
      "text/plain": [
       "Text(0.5, 1.0, 'rotary spectra - periodogram [ADCP]')"
      ]
     },
     "execution_count": 18,
     "metadata": {},
     "output_type": "execute_result"
    }
   ],
   "source": [
    "plt.figure()\n",
    "plt.loglog(fcw,Scw)\n",
    "plt.loglog(fccw,Sccw,'--')\n",
    "plt.legend(['clockwise','counter-clockwise'])\n",
    "plt.xlabel('frequency [cpd]')\n",
    "plt.ylabel('[m$^2$ s$^{-2}$ cpd$^{-1}$]')\n",
    "plt.title('rotary spectra - periodogram [ADCP]')"
   ]
  },
  {
   "cell_type": "code",
   "execution_count": 19,
   "metadata": {},
   "outputs": [],
   "source": [
    "u = np.array(dff['u'])\n",
    "v = np.array(dff['v'])\n",
    "\n",
    "#rotary spectrum\n",
    "frp,Srp = periodogram(u+1j*v,\n",
    "              fs=24.,\n",
    "              window='boxcar',return_onesided=False,scaling='density')\n",
    "icw, = np.where(frp<0)\n",
    "iccw, = np.where(frp>0)\n",
    "fcw = -frp[icw]\n",
    "Scw = Srp[icw]\n",
    "fccw = frp[iccw]\n",
    "Sccw = Srp[iccw]"
   ]
  },
  {
   "cell_type": "code",
   "execution_count": 20,
   "metadata": {},
   "outputs": [
    {
     "data": {
      "application/vnd.jupyter.widget-view+json": {
       "model_id": "",
       "version_major": 2,
       "version_minor": 0
      },
      "text/plain": [
       "FigureCanvasNbAgg()"
      ]
     },
     "metadata": {},
     "output_type": "display_data"
    },
    {
     "data": {
      "text/plain": [
       "Text(0.5, 1.0, 'rotary spectra - periodogram [Rover]')"
      ]
     },
     "execution_count": 20,
     "metadata": {},
     "output_type": "execute_result"
    }
   ],
   "source": [
    "plt.figure()\n",
    "plt.loglog(fcw,Scw)\n",
    "plt.loglog(fccw,Sccw,'--')\n",
    "plt.legend(['clockwise','counter-clockwise'])\n",
    "plt.xlabel('frequency [cpd]')\n",
    "plt.ylabel('[m$^2$ s$^{-2}$ cpd$^{-1}$]')\n",
    "plt.title('rotary spectra - periodogram [Rover]')"
   ]
  },
  {
   "cell_type": "code",
   "execution_count": 21,
   "metadata": {},
   "outputs": [],
   "source": [
    "dfsub = df.loc[(df.index >= t1) & (df.index <= t2) & \n",
    "                (df.index != np.datetime64('NaT'))]\n",
    "\n",
    "tdsub = np.array(dfsub.index-dfsub.index[0])/np.timedelta64(1,'D')"
   ]
  },
  {
   "cell_type": "code",
   "execution_count": 22,
   "metadata": {},
   "outputs": [],
   "source": [
    "# DFT\n",
    "\n",
    "def lombscargle_broadcast(t,x,ofac=4,hifac=1,t0=None,return_onesided=True,return_zero=False):\n",
    "    '''\n",
    "    \n",
    "    Compute the discrete Fourier transform and periodogram for unevenly-spaced \n",
    "    data using the Lomb-Scargle periodogram. Follows methods outlined in Scargle\n",
    "    (1989).\n",
    "    \n",
    "    THIS VERSION USES ARRAY BROADCASTING, WHICH TAKES UP TOO MUCH MEMORY\n",
    "    \n",
    "    INPUTS\n",
    "    \n",
    "    t - array of numerical time values (length N)\n",
    "    x - array of data values  (length N)\n",
    "    \n",
    "    RETURNS\n",
    "    \n",
    "    f - array of frequencies\n",
    "    ftx - array of complex coefficients\n",
    "          discrete Fourier transform of x\n",
    "    px - periodogram of ftx, calculated as (1/N)*|ftx|**2\n",
    "    \n",
    "    OPTIONAL PARAMETERS\n",
    "    \n",
    "    ofac - oversampling parameter \n",
    "           ratio of number of frequencies used to number of samples in x\n",
    "           (default 4)        \n",
    "    hifac - high frequency parameter\n",
    "            ratio of highest frequency to pseudo-Nyquist frequency\n",
    "            (default 1)  \n",
    "    t0 - time origin\n",
    "         reference point for phase calculation\n",
    "         (default - None, first value in t array is used)\n",
    "    return_onesided - boolean for returning a one-sided spectrum\n",
    "        If True, return a one-sided spectrum for real data. \n",
    "        If False return a two-sided spectrum for real data.  \n",
    "        Note that for complex data, a two-sided spectrum is always returned.\n",
    "        (default - True)\n",
    "    return_zero - boolean for evaluating zero frequency\n",
    "        If True, include zero frequency. If False, do not include zero frequency.\n",
    "        Uses expressions for the limit as frequency approaches zero, following\n",
    "        Scargle (1989). \n",
    "        (default - False)\n",
    "      \n",
    "    REFERENCE\n",
    "    \n",
    "    Scargle, J.D. (1989) Studies in astronomical time series analysis III: Fourier transforms,\n",
    "    autocorrelation functions, and cross-correlation functions of unevenly spaced data. The\n",
    "    Astrophysical Journal, 343, 874-887\n",
    "    '''\n",
    "\n",
    "    intm = np.mean(np.diff(t))\n",
    "\n",
    "    flo = ((intm)**-1)/(len(x)*ofac)  # lowest freq\n",
    "    fhi = hifac*(2*intm)**-1          # highest freq\n",
    "\n",
    "    f = np.arange(flo,fhi+flo,flo)\n",
    "    \n",
    "    if return_zero == True:\n",
    "        f = np.append(0,f)\n",
    "        \n",
    "    # if complex, evaluate two-sided spectrum regardless of user choice\n",
    "    if np.any(np.iscomplex(x)):\n",
    "        return_onesided = False\n",
    "    \n",
    "    # two-sided spectrum\n",
    "    if return_onesided == False:\n",
    "        if return_zero == True:\n",
    "            f = np.append(-f[1:][::-1],f)\n",
    "        else:\n",
    "            f = np.append(-f[::-1],f)\n",
    "\n",
    "    # time origin (reference point for phase calculation)\n",
    "    if t0 is None:\n",
    "        t0 = t[0] \n",
    "        \n",
    "    i = 1j # square root of -1\n",
    "    N = len(x) # number of samples\n",
    "\n",
    "    # initialize DFT as array of complex numbers\n",
    "    ftx = np.nan*np.ones(len(f)) + i*np.nan*np.ones(len(f))\n",
    "\n",
    "    k = np.nonzero(f)\n",
    "    k0, = np.where(f == 0)\n",
    "    \n",
    "    wrun = 2*np.pi*f[k] # angular frequency    \n",
    "\n",
    "    Fo = ((N/2)**0.5)*np.exp(-i*wrun*t0) \n",
    "\n",
    "    wrun = wrun[:,np.newaxis]\n",
    "    \n",
    "    tau = np.arctan2(np.sum(np.sin(2*wrun*t)),np.sum(np.cos(2*wrun*t)))/(2*wrun)\n",
    "    tprime = t - tau\n",
    "    \n",
    "    A = np.sum(np.cos(wrun*tprime)**2,axis=1)**-0.5\n",
    "    B = np.sum(np.sin(wrun*tprime)**2,axis=1)**-0.5\n",
    "    \n",
    "    A = A[:,np.newaxis]\n",
    "    B = B[:,np.newaxis]\n",
    "\n",
    "    # Note apparent typo in Scargle (1989), which has a plus \n",
    "    # sign (+) instead of a minus sign below. This only makes a \n",
    "    # difference in the periodogram if the input values in x are complex.\n",
    "\n",
    "    ftx[k] = Fo*np.sum(A*x*np.cos(wrun*tprime) - i*B*x*np.sin(wrun*tprime),axis=1)\n",
    "    \n",
    "    # zero frequency \n",
    "    if k0.size != 0:\n",
    "        ftx[k0] = np.sum(x)/np.sqrt(N)\n",
    "\n",
    "    px = np.abs(ftx)**2/N\n",
    "    \n",
    "    return f, ftx, px"
   ]
  },
  {
   "cell_type": "code",
   "execution_count": 23,
   "metadata": {},
   "outputs": [],
   "source": [
    "from scipy.signal import get_window"
   ]
  },
  {
   "cell_type": "code",
   "execution_count": 24,
   "metadata": {},
   "outputs": [],
   "source": [
    "def lombscargle(t,x,ofac=4,hifac=1,t0=None,return_onesided=True,return_zero=False, window='boxcar',scaling='classical'):\n",
    "    '''\n",
    "    Compute the discrete Fourier transform and periodogram for unevenly-spaced \n",
    "    data using the Lomb-Scargle periodogram. Follows methods outlined in Scargle\n",
    "    (1989). \n",
    "    \n",
    "    INPUTS\n",
    "    \n",
    "    t - array of numerical time values (length N)\n",
    "    x - array of data values, may be complex (length N)\n",
    "    \n",
    "    RETURNS\n",
    "    \n",
    "    f - array of frequencies\n",
    "    ftx - array of complex coefficients\n",
    "          discrete Fourier transform of x\n",
    "    px - periodogram of ftx, proportional to |ftx|**2\n",
    "         with the default \"classical\" scaling used in Scargle (1989), \n",
    "         px = (1/N)*|ftx|**2\n",
    "    \n",
    "    OPTIONAL PARAMETERS\n",
    "    \n",
    "    ofac - oversampling parameter \n",
    "           ratio of number of frequencies used to number of samples in x\n",
    "           (default 4)        \n",
    "    hifac - high frequency parameter\n",
    "            ratio of highest frequency to pseudo-Nyquist frequency\n",
    "            (default 1)  \n",
    "    t0 - time origin\n",
    "         reference point for phase calculation\n",
    "         (default - None, first value in t array is used)\n",
    "    return_onesided - boolean for returning a one-sided spectrum\n",
    "        If True, return a one-sided spectrum for real data. \n",
    "        If False return a two-sided spectrum for real data.  \n",
    "        Note that for complex data, a two-sided spectrum is always returned.\n",
    "        (default - True)\n",
    "    return_zero - boolean for evaluating zero frequency\n",
    "        If True, include zero frequency. If False, do not include zero frequency.\n",
    "        Uses expressions for the limit as frequency approaches zero, following\n",
    "        Scargle (1989). \n",
    "        (default - False)\n",
    "    window - String specifying desired window to use. See `scipy.signal.get_window` for \n",
    "        a list of windows and required parameters.\n",
    "    scaling - Selects between computing the classical periodogram used by Scargle \n",
    "        ('classical') or the power spectral density ('density'). The classical \n",
    "        periodogram  has units of x**2. The power  spectral density has units of x**2/f. \n",
    "        The scaling determines how the periodogram px is calculated from the discrete \n",
    "        Fourier transform ftx:\n",
    "        'classical': px = (1/N)*|ftx|**2, where N is the number of samples\n",
    "        'density': px = (deltat/N)*|ftx|**2, where deltat is the average time step\n",
    "      \n",
    "    REFERENCE\n",
    "    \n",
    "    Scargle, J.D. (1989) Studies in astronomical time series analysis III: Fourier transforms,\n",
    "    autocorrelation functions, and cross-correlation functions of unevenly spaced data. The\n",
    "    Astrophysical Journal, 343, 874-887\n",
    "    '''\n",
    "\n",
    "    i = 1j # square root of -1\n",
    "    N = len(x) # number of samples    \n",
    "    \n",
    "    wts = get_window(window,N)\n",
    "    wts = N*wts/np.sum(wts) # make sum of weights equal to N\n",
    "    \n",
    "    x = x*wts  # apply window\n",
    "\n",
    "    intm = np.mean(np.diff(t))\n",
    "\n",
    "    flo = ((intm)**-1)/(len(x)*ofac)  # lowest freq\n",
    "    fhi = hifac*(2*intm)**-1          # highest freq\n",
    "\n",
    "    f = np.arange(flo,fhi+flo,flo)\n",
    "    \n",
    "    if return_zero == True:\n",
    "        f = np.append(0,f)\n",
    "        \n",
    "    # if complex, evaluate two-sided spectrum regardless of user choice\n",
    "    if np.any(np.iscomplex(x)):\n",
    "        return_onesided = False\n",
    "    \n",
    "    # two-sided spectrum\n",
    "    if return_onesided == False:\n",
    "        if return_zero == True:\n",
    "            f = np.append(-f[1:][::-1],f)\n",
    "        else:\n",
    "            f = np.append(-f[::-1],f)\n",
    "\n",
    "    # time origin (reference point for phase calculation)\n",
    "    if t0 is None:\n",
    "        t0 = t[0] \n",
    "\n",
    "    # initialize DFT as array of complex numbers\n",
    "    ftx = np.nan*np.ones(len(f)) + i*np.nan*np.ones(len(f))\n",
    "\n",
    "    for k,fk in enumerate(f):\n",
    "        wrun = 2*np.pi*fk # angular frequency    \n",
    "        \n",
    "        if fk == 0:\n",
    "            # use well-defined limit as frequency approaches zero\n",
    "            tau = np.sum(t)/N\n",
    "            ftx[k] = np.sum(x)/np.sqrt(N)\n",
    "            \n",
    "        else:\n",
    "            Fo = ((N/2)**0.5)*np.exp(-i*wrun*t0) \n",
    "\n",
    "            tau = np.arctan2(np.sum(np.sin(2*wrun*t)),np.sum(np.cos(2*wrun*t)))/(2*wrun)\n",
    "            tprime = t - tau\n",
    "\n",
    "            A = np.sum(np.cos(wrun*tprime)**2)**-0.5\n",
    "            B = np.sum(np.sin(wrun*tprime)**2)**-0.5\n",
    "\n",
    "            # Note apparent typo in Scargle (1989), which has a plus \n",
    "            # sign (+) instead of a minus sign below. This only makes a \n",
    "            # difference in the periodogram if the input values in x are complex.\n",
    "            \n",
    "            ftx[k] = Fo*np.sum(A*x*np.cos(wrun*tprime) - i*B*x*np.sin(wrun*tprime))\n",
    "\n",
    "    if scaling == 'classical':\n",
    "        px = np.abs(ftx)**2/N\n",
    "    elif scaling == 'density':\n",
    "        px = np.abs(ftx)**2/N*intm\n",
    "    else:\n",
    "        raise ValueError('Scaling argument not understood. Acceptable options are classical or density')\n",
    "    \n",
    "    return f, ftx, px"
   ]
  },
  {
   "cell_type": "code",
   "execution_count": 25,
   "metadata": {},
   "outputs": [],
   "source": [
    "from tseries import lombscargle\n",
    "\n",
    "usub = np.array(dfsub['u'])\n",
    "vsub = np.array(dfsub['v'])\n",
    "\n",
    "#rotary spectrum\n",
    "f,ftx,Sx = lombscargle(tdsub,usub+1j*vsub,ofac=1,window='hanning')\n",
    "icw, = np.where(f<0)\n",
    "iccw, = np.where(f>0)\n",
    "fcw = -f[icw]\n",
    "Scw = Sx[icw]\n",
    "fccw = f[iccw]\n",
    "Sccw = Sx[iccw]"
   ]
  },
  {
   "cell_type": "code",
   "execution_count": 26,
   "metadata": {},
   "outputs": [
    {
     "data": {
      "application/vnd.jupyter.widget-view+json": {
       "model_id": "",
       "version_major": 2,
       "version_minor": 0
      },
      "text/plain": [
       "FigureCanvasNbAgg()"
      ]
     },
     "metadata": {},
     "output_type": "display_data"
    },
    {
     "data": {
      "text/plain": [
       "Text(0.5, 1.0, 'rotary spectra - periodogram [Rover]')"
      ]
     },
     "execution_count": 26,
     "metadata": {},
     "output_type": "execute_result"
    }
   ],
   "source": [
    "plt.figure()\n",
    "plt.loglog(fcw,Scw)\n",
    "plt.loglog(fccw,Sccw,'--')\n",
    "plt.legend(['clockwise','counter-clockwise'])\n",
    "plt.xlabel('frequency [cpd]')\n",
    "plt.ylabel('[m$^2$ s$^{-2}$ cpd$^{-1}$]')\n",
    "plt.title('rotary spectra - periodogram [Rover]')"
   ]
  },
  {
   "cell_type": "markdown",
   "metadata": {},
   "source": [
    "### Compare Lomb-Scargle with standard periodogram"
   ]
  },
  {
   "cell_type": "code",
   "execution_count": 27,
   "metadata": {},
   "outputs": [],
   "source": [
    "fu,Su = periodogram(u,fs=24.,window='boxcar',scaling='density')\n",
    "fu2,ftu2,Su2 = lombscargle(tdsub,usub,ofac=1,window='hanning',scaling='density')"
   ]
  },
  {
   "cell_type": "code",
   "execution_count": 28,
   "metadata": {},
   "outputs": [],
   "source": [
    "intm = np.mean(np.diff(tdsub))\n",
    "T = intm*len(tdsub)"
   ]
  },
  {
   "cell_type": "code",
   "execution_count": 29,
   "metadata": {},
   "outputs": [
    {
     "data": {
      "application/vnd.jupyter.widget-view+json": {
       "model_id": "",
       "version_major": 2,
       "version_minor": 0
      },
      "text/plain": [
       "FigureCanvasNbAgg()"
      ]
     },
     "metadata": {},
     "output_type": "display_data"
    },
    {
     "data": {
      "text/plain": [
       "[<matplotlib.lines.Line2D at 0x1c1a23af28>]"
      ]
     },
     "execution_count": 29,
     "metadata": {},
     "output_type": "execute_result"
    }
   ],
   "source": [
    "plt.figure()\n",
    "plt.loglog(fu,Su)\n",
    "plt.loglog(fu2,Su2,'--')"
   ]
  },
  {
   "cell_type": "code",
   "execution_count": 30,
   "metadata": {},
   "outputs": [
    {
     "name": "stderr",
     "output_type": "stream",
     "text": [
      "/Users/tomconnolly/programs/anaconda/envs/py37/lib/python3.7/site-packages/scipy/signal/spectral.py:1623: UserWarning: Input data is complex, switching to return_onesided=False\n",
      "  warnings.warn('Input data is complex, switching to '\n"
     ]
    }
   ],
   "source": [
    "i = 1j\n",
    "fr,Sr = periodogram(u+i*v,fs=24.,window='hanning',scaling='density')\n",
    "icw, = np.where(fr<0)\n",
    "iccw, = np.where(fr>0)\n",
    "fcw = -fr[icw]\n",
    "Scw = Sr[icw]\n",
    "fccw = fr[iccw]\n",
    "Sccw = Sr[iccw]\n",
    "\n",
    "fr2,ftr2,Sr2 = lombscargle(tdsub,usub+i*vsub,ofac=1,window='hanning',scaling='density')\n",
    "icw2, = np.where(fr2<0)\n",
    "iccw2, = np.where(fr2>0)\n",
    "fcw2 = -fr2[icw2]\n",
    "Scw2 = Sr2[icw2]\n",
    "fccw2 = fr2[iccw2]\n",
    "Sccw2 = Sr2[iccw2]"
   ]
  },
  {
   "cell_type": "code",
   "execution_count": 31,
   "metadata": {},
   "outputs": [
    {
     "data": {
      "application/vnd.jupyter.widget-view+json": {
       "model_id": "",
       "version_major": 2,
       "version_minor": 0
      },
      "text/plain": [
       "FigureCanvasNbAgg()"
      ]
     },
     "metadata": {},
     "output_type": "display_data"
    },
    {
     "data": {
      "text/plain": [
       "Text(0.5, 1.0, 'comparison of clockwise components')"
      ]
     },
     "execution_count": 31,
     "metadata": {},
     "output_type": "execute_result"
    }
   ],
   "source": [
    "plt.figure()\n",
    "plt.loglog(fcw,Scw)\n",
    "plt.loglog(fcw2,Scw2,'--')\n",
    "plt.title('comparison of clockwise components')"
   ]
  },
  {
   "cell_type": "code",
   "execution_count": 32,
   "metadata": {},
   "outputs": [
    {
     "data": {
      "application/vnd.jupyter.widget-view+json": {
       "model_id": "",
       "version_major": 2,
       "version_minor": 0
      },
      "text/plain": [
       "FigureCanvasNbAgg()"
      ]
     },
     "metadata": {},
     "output_type": "display_data"
    },
    {
     "data": {
      "text/plain": [
       "Text(0.5, 1.0, 'comparison of counter-clockwise components')"
      ]
     },
     "execution_count": 32,
     "metadata": {},
     "output_type": "execute_result"
    }
   ],
   "source": [
    "plt.figure()\n",
    "plt.loglog(fccw,Sccw)\n",
    "plt.loglog(fccw2,Sccw2,'--')\n",
    "plt.title('comparison of counter-clockwise components')"
   ]
  },
  {
   "cell_type": "markdown",
   "metadata": {},
   "source": [
    "### Lomb-Scargle periodogram for entire data set"
   ]
  },
  {
   "cell_type": "code",
   "execution_count": 33,
   "metadata": {},
   "outputs": [],
   "source": [
    "#separating out the good data from the year 2016-2018\n",
    "\n",
    "dfg = df.loc[(df.index != np.datetime64('NaT')) & \n",
    "             (df.index >= np.datetime64('2014-09-01 00:00:00')) &\n",
    "             (df.index <= np.datetime64('2018-12-31 00:00:00')) &\n",
    "             (np.isfinite(df['u']))]\n",
    "\n",
    "tdg = np.array(dfg.index-dfg.index[0])/np.timedelta64(1,'D')"
   ]
  },
  {
   "cell_type": "code",
   "execution_count": 34,
   "metadata": {},
   "outputs": [],
   "source": [
    "ug = np.array(dfg['u'])\n",
    "vg = np.array(dfg['v'])\n",
    "\n",
    "#rotary spectrum\n",
    "fr,ftxr,Sxr = lombscargle(tdg,ug+1j*vg,ofac=1,window='hanning')\n",
    "icw, = np.where(fr<0)\n",
    "iccw, = np.where(fr>0)\n",
    "fcw = -fr[icw]\n",
    "Scw = Sxr[icw]\n",
    "fccw = fr[iccw]\n",
    "Sccw = Sxr[iccw]"
   ]
  },
  {
   "cell_type": "code",
   "execution_count": 35,
   "metadata": {},
   "outputs": [
    {
     "data": {
      "application/vnd.jupyter.widget-view+json": {
       "model_id": "",
       "version_major": 2,
       "version_minor": 0
      },
      "text/plain": [
       "FigureCanvasNbAgg()"
      ]
     },
     "metadata": {},
     "output_type": "display_data"
    },
    {
     "data": {
      "text/plain": [
       "Text(0.5, 1.0, 'rotary spectra - periodogram [Rover]')"
      ]
     },
     "execution_count": 35,
     "metadata": {},
     "output_type": "execute_result"
    }
   ],
   "source": [
    "plt.figure()\n",
    "plt.loglog(fcw,Scw)\n",
    "plt.loglog(fccw,Sccw,'--')\n",
    "plt.legend(['clockwise','counter-clockwise'])\n",
    "plt.xlabel('frequency [cpd]')\n",
    "plt.ylabel('[m$^2$ s$^{-2}$ cpd$^{-1}$]')\n",
    "plt.title('rotary spectra - periodogram [Rover]')"
   ]
  },
  {
   "cell_type": "code",
   "execution_count": 36,
   "metadata": {},
   "outputs": [],
   "source": [
    "#rotary spectrum\n",
    "f,ftu,Su = lombscargle(tdg,ug,ofac=1,window='hanning')\n",
    "f,ftv,Sv = lombscargle(tdg,vg,ofac=1,window='hanning')"
   ]
  },
  {
   "cell_type": "code",
   "execution_count": 37,
   "metadata": {},
   "outputs": [
    {
     "data": {
      "application/vnd.jupyter.widget-view+json": {
       "model_id": "",
       "version_major": 2,
       "version_minor": 0
      },
      "text/plain": [
       "FigureCanvasNbAgg()"
      ]
     },
     "metadata": {},
     "output_type": "display_data"
    },
    {
     "data": {
      "text/plain": [
       "Text(0.5, 1.0, 'component spectra - periodogram [Rover]')"
      ]
     },
     "execution_count": 37,
     "metadata": {},
     "output_type": "execute_result"
    }
   ],
   "source": [
    "plt.figure()\n",
    "plt.loglog(f,Su)\n",
    "plt.loglog(f,Sv,'--')\n",
    "plt.legend(['u','v'])\n",
    "plt.xlabel('frequency [cpd]')\n",
    "plt.ylabel('[m$^2$ s$^{-2}$ cpd$^{-1}$]')\n",
    "plt.title('component spectra - periodogram [Rover]')"
   ]
  },
  {
   "cell_type": "code",
   "execution_count": 38,
   "metadata": {},
   "outputs": [],
   "source": [
    "# average frequency bands\n",
    "navg = 2 # number of frequency bands to average\n",
    "nfreq = int(np.floor(len(f)/navg))  # number of freqencies in averaged spectrum\n",
    "\n",
    "fwt = 1/navg\n",
    "fm = np.zeros(nfreq)\n",
    "Sum = np.zeros(nfreq)\n",
    "Svm = np.zeros(nfreq)\n",
    "for k in range(navg):\n",
    "    fm = fm + fwt*f[1:(nfreq*navg)][::navg]\n",
    "    Sum = Sum + fwt*Su[1:(nfreq*navg)][::navg]\n",
    "    Svm = Svm + fwt*Sv[1:(nfreq*navg)][::navg]"
   ]
  },
  {
   "cell_type": "code",
   "execution_count": 39,
   "metadata": {},
   "outputs": [
    {
     "data": {
      "application/vnd.jupyter.widget-view+json": {
       "model_id": "",
       "version_major": 2,
       "version_minor": 0
      },
      "text/plain": [
       "FigureCanvasNbAgg()"
      ]
     },
     "metadata": {},
     "output_type": "display_data"
    },
    {
     "data": {
      "text/plain": [
       "Text(0.5, 1.0, 'component spectra - periodogram [Rover]')"
      ]
     },
     "execution_count": 39,
     "metadata": {},
     "output_type": "execute_result"
    }
   ],
   "source": [
    "plt.figure()\n",
    "plt.loglog(fm,Sum)\n",
    "plt.loglog(fm,Svm)\n",
    "#plt.loglog(f,Sv,'--')\n",
    "plt.legend(['u','v'])\n",
    "plt.xlabel('frequency [cpd]')\n",
    "plt.ylabel('[m$^2$ s$^{-2}$ cpd$^{-1}$]')\n",
    "plt.title('component spectra - periodogram [Rover]')"
   ]
  },
  {
   "cell_type": "code",
   "execution_count": null,
   "metadata": {},
   "outputs": [],
   "source": []
  }
 ],
 "metadata": {
  "kernelspec": {
   "display_name": "Python [conda env:py37]",
   "language": "python",
   "name": "conda-env-py37-py"
  },
  "language_info": {
   "codemirror_mode": {
    "name": "ipython",
    "version": 3
   },
   "file_extension": ".py",
   "mimetype": "text/x-python",
   "name": "python",
   "nbconvert_exporter": "python",
   "pygments_lexer": "ipython3",
   "version": "3.7.2"
  }
 },
 "nbformat": 4,
 "nbformat_minor": 2
}
