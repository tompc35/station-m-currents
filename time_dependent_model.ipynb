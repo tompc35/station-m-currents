{
 "cells": [
  {
   "cell_type": "code",
   "execution_count": 1,
   "metadata": {},
   "outputs": [],
   "source": [
    "%matplotlib widget\n",
    "import numpy as np\n",
    "import matplotlib.pyplot as plt\n",
    "import xarray as xr\n",
    "\n",
    "import gsw\n",
    "\n",
    "from scipy.integrate import solve_ivp"
   ]
  },
  {
   "cell_type": "code",
   "execution_count": 2,
   "metadata": {},
   "outputs": [],
   "source": [
    "ds = xr.open_dataset('data/MBARI_StationM_ADCP_201711_201811.nc')"
   ]
  },
  {
   "cell_type": "code",
   "execution_count": 3,
   "metadata": {},
   "outputs": [],
   "source": [
    "lat = 35+8.4585/60\n",
    "bini = 15"
   ]
  },
  {
   "cell_type": "markdown",
   "metadata": {},
   "source": [
    "Smooth ADCP time series\n",
    "* 30-min running median to remove spikes\n",
    "* 60-min running mean to smooth"
   ]
  },
  {
   "cell_type": "code",
   "execution_count": 4,
   "metadata": {},
   "outputs": [],
   "source": [
    "ds['Eas_sm'] = ds['Eas'].rolling(time=6,center=True).median().rolling(time=12,center=True).mean()\n",
    "ds['Nor_sm'] = ds['Nor'].rolling(time=6,center=True).median().rolling(time=12,center=True).mean()"
   ]
  },
  {
   "cell_type": "code",
   "execution_count": 5,
   "metadata": {},
   "outputs": [
    {
     "data": {
      "application/vnd.jupyter.widget-view+json": {
       "model_id": "586c8aa1bc224c519f05fd4bac9094df",
       "version_major": 2,
       "version_minor": 0
      },
      "text/plain": [
       "FigureCanvasNbAgg()"
      ]
     },
     "metadata": {},
     "output_type": "display_data"
    },
    {
     "data": {
      "text/plain": [
       "Text(0.5, 1.0, 'eastward velocity')"
      ]
     },
     "execution_count": 5,
     "metadata": {},
     "output_type": "execute_result"
    }
   ],
   "source": [
    "plt.figure(figsize=(8,4))\n",
    "plt.plot(ds['time'],ds['Eas_sm'][:,bini]);\n",
    "plt.plot(ds['time'],ds['Eas'][:,bini],'--');\n",
    "plt.plot(ds['time'],ds['Eas_sm'][:,1],'-');\n",
    "#plt.plot(ds['time'],ds['Eas'][:,1]);\n",
    "plt.ylabel('m/s')\n",
    "plt.title('eastward velocity')"
   ]
  },
  {
   "cell_type": "code",
   "execution_count": 6,
   "metadata": {},
   "outputs": [
    {
     "data": {
      "application/vnd.jupyter.widget-view+json": {
       "model_id": "051344424dee4466bc0f63489e9eeb80",
       "version_major": 2,
       "version_minor": 0
      },
      "text/plain": [
       "FigureCanvasNbAgg()"
      ]
     },
     "metadata": {},
     "output_type": "display_data"
    },
    {
     "data": {
      "text/plain": [
       "Text(0.5, 1.0, 'northward velocity')"
      ]
     },
     "execution_count": 6,
     "metadata": {},
     "output_type": "execute_result"
    }
   ],
   "source": [
    "plt.figure(figsize=(8,4))\n",
    "plt.plot(ds['time'],ds['Nor_sm'][:,bini]);\n",
    "plt.legend(['Bin 15','Bin 1'])\n",
    "plt.ylabel('m/s')\n",
    "plt.title('northward velocity')"
   ]
  },
  {
   "cell_type": "markdown",
   "metadata": {},
   "source": [
    "### Test with limited obs"
   ]
  },
  {
   "cell_type": "code",
   "execution_count": 7,
   "metadata": {},
   "outputs": [],
   "source": [
    "zf = ds['binheight'][bini] # upper boundary height\n",
    "zobs = np.array(ds['binheight'][0:(bini+1)])"
   ]
  },
  {
   "cell_type": "code",
   "execution_count": 8,
   "metadata": {},
   "outputs": [],
   "source": [
    "zo = 0.03 # roughness length\n",
    "i = 1j\n",
    "kappa = 0.41 # Von Karman constant\n",
    "f = gsw.f(lat)\n",
    "\n",
    "z = np.linspace(zo,zf,501)\n",
    "dz = np.diff(z)\n",
    "deltaz = dz[0]"
   ]
  },
  {
   "cell_type": "code",
   "execution_count": 9,
   "metadata": {},
   "outputs": [],
   "source": [
    "gi = np.isfinite(ds['Eas_sm'][:,0])\n",
    "tobs = np.array((ds['time'][gi] - ds['time'][gi][0])/np.timedelta64(1,'s')) # array of times in seconds\n",
    "deltat = tobs[1]-tobs[0]"
   ]
  },
  {
   "cell_type": "code",
   "execution_count": 10,
   "metadata": {},
   "outputs": [],
   "source": [
    "wobs = np.array(ds['Eas_sm'][gi,0:(bini+1)]+i*ds['Nor_sm'][gi,0:(bini+1)])\n",
    "\n",
    "w0_obs = np.interp(z,zobs[1:bini],wobs[0,1:bini])[1:-1]\n",
    "w0 = np.concatenate([np.real(w0_obs),\n",
    "                           np.imag(w0_obs)])\n",
    "\n",
    "dwobsdt = np.gradient(wobs,deltat,axis=0)"
   ]
  },
  {
   "cell_type": "code",
   "execution_count": 11,
   "metadata": {},
   "outputs": [],
   "source": [
    "def dwdt_bbl(t, w_in):\n",
    "    # Note that w_in is real and complex parts concatenates\n",
    "    # need to combine into complex numbers\n",
    "    # Scipy docs say that ode solvers RK45 and BDF can be used in complex plane\n",
    "    # https://docs.scipy.org/doc/scipy/reference/generated/scipy.integrate.BDF.html#scipy.integrate.BDF\n",
    "    # but perhaps this does not work for *arrays* of complex numbers?\n",
    "    # Test this and check Numpy Github issues for similar problems\n",
    "    \n",
    "    N = int(len(w_in)/2)\n",
    "    w = w_in[:N]+i*w_in[N:]\n",
    "    \n",
    "    winf = np.interp(t,tobs,wobs[:,bini])\n",
    "    dwinfdt = np.interp(t,tobs,dwobsdt[:,bini])\n",
    "\n",
    "    F = dwinfdt + i*f*winf\n",
    "    ustar = kappa*zo*np.abs(w[1])/deltaz\n",
    "\n",
    "    wall = np.concatenate([np.atleast_1d(0+i*0),w,np.atleast_1d(winf)])\n",
    "    \n",
    "    dwalldt = np.nan*np.ones(np.shape(wall))+i*np.nan*np.ones(np.shape(wall))\n",
    "    dwalldt[1:-1] = (F +\n",
    "                     (kappa*ustar/deltaz**2)*z[1:-1]*wall[2:] +\n",
    "                     (-i*f - (kappa*ustar/deltaz**2)*(z[1:-1]+z[:-2]))*wall[1:-1] +\n",
    "                     (kappa*ustar/deltaz**2)*z[:-2]*wall[:-2])\n",
    "    \n",
    "    dwdt = dwalldt[1:-1]\n",
    "    \n",
    "    dwdt_out = np.concatenate([np.real(dwdt),np.imag(dwdt)])\n",
    "    \n",
    "    return dwdt_out"
   ]
  },
  {
   "cell_type": "code",
   "execution_count": 12,
   "metadata": {},
   "outputs": [],
   "source": [
    "a = solve_ivp(dwdt_bbl, t_span=[tobs[0],86400], y0 = w0, method='BDF')"
   ]
  },
  {
   "cell_type": "code",
   "execution_count": 13,
   "metadata": {},
   "outputs": [],
   "source": [
    "N = int(np.shape(a.y)[0]/2)\n",
    "\n",
    "t_sol = a.t\n",
    "w_sol = a.y[:N,:]+i*a.y[N:,:]"
   ]
  },
  {
   "cell_type": "code",
   "execution_count": 14,
   "metadata": {},
   "outputs": [
    {
     "data": {
      "application/vnd.jupyter.widget-view+json": {
       "model_id": "413b12f8cec246e7af02edbf7b8879f7",
       "version_major": 2,
       "version_minor": 0
      },
      "text/plain": [
       "FigureCanvasNbAgg()"
      ]
     },
     "metadata": {},
     "output_type": "display_data"
    },
    {
     "data": {
      "text/plain": [
       "[<matplotlib.lines.Line2D at 0x1722b642b0>]"
      ]
     },
     "execution_count": 14,
     "metadata": {},
     "output_type": "execute_result"
    }
   ],
   "source": [
    "plt.figure()\n",
    "plt.subplot(211)\n",
    "plt.plot(t_sol,np.real(w_sol).T,color='gray')\n",
    "plt.plot(tobs[0:12*24],np.real(wobs[0:12*24,bini]))\n",
    "\n",
    "plt.subplot(212)\n",
    "plt.plot(t_sol,np.imag(w_sol).T,color='gray')\n",
    "plt.plot(tobs[0:12*24],np.imag(wobs[0:12*24,bini]))"
   ]
  },
  {
   "cell_type": "markdown",
   "metadata": {},
   "source": [
    "### Test with steady forcing"
   ]
  },
  {
   "cell_type": "code",
   "execution_count": 15,
   "metadata": {},
   "outputs": [],
   "source": [
    "winf_steady = 0.04+i*0\n",
    "w0_steady = np.concatenate([np.real(winf_steady)*np.ones(N),\n",
    "                           np.imag(winf_steady)*np.ones(N)])\n",
    "\n",
    "def dwdt_bbl_steady(t, w_in):\n",
    "    N = int(len(w_in)/2)\n",
    "    w = w_in[:N]+i*w_in[N:]\n",
    "    \n",
    "    winf = winf_steady\n",
    "    dwinfdt = 0+i*0\n",
    "\n",
    "    F = dwinfdt + i*f*winf\n",
    "    ustar = kappa*zo*np.abs(w[1])/deltaz\n",
    "\n",
    "    wall = np.concatenate([np.atleast_1d(0+i*0),w,np.atleast_1d(winf)])\n",
    "    \n",
    "    dwalldt = np.nan*np.ones(np.shape(wall))+i*np.nan*np.ones(np.shape(wall))\n",
    "    dwalldt[1:-1] = (F +\n",
    "                     (kappa*ustar/deltaz**2)*z[1:-1]*wall[2:] +\n",
    "                     (-i*f - (kappa*ustar/deltaz**2)*(z[1:-1]+z[:-2]))*wall[1:-1] +\n",
    "                     (kappa*ustar/deltaz**2)*z[:-2]*wall[:-2])\n",
    "    \n",
    "    dwdt = dwalldt[1:-1]\n",
    "    #print(dwdt)\n",
    "    \n",
    "    dwdt_out = np.concatenate([np.real(dwdt),np.imag(dwdt)])\n",
    "    \n",
    "    return dwdt_out"
   ]
  },
  {
   "cell_type": "code",
   "execution_count": 16,
   "metadata": {},
   "outputs": [],
   "source": [
    "modsteady = solve_ivp(dwdt_bbl_steady, t_span=[0,2*86400], \n",
    "                      y0 = w0_steady, method='BDF')"
   ]
  },
  {
   "cell_type": "code",
   "execution_count": 17,
   "metadata": {},
   "outputs": [],
   "source": [
    "t_sol_steady = modsteady.t\n",
    "w_sol_steady = modsteady.y[:N,:]+i*modsteady.y[N:,:]"
   ]
  },
  {
   "cell_type": "code",
   "execution_count": 18,
   "metadata": {},
   "outputs": [
    {
     "data": {
      "application/vnd.jupyter.widget-view+json": {
       "model_id": "1faf7f1468db485884280de255e6ccf0",
       "version_major": 2,
       "version_minor": 0
      },
      "text/plain": [
       "FigureCanvasNbAgg()"
      ]
     },
     "metadata": {},
     "output_type": "display_data"
    }
   ],
   "source": [
    "plt.figure()\n",
    "plt.subplot(121)\n",
    "plt.plot(np.real(w_sol_steady[:,-1]),z[1:-1]);\n",
    "plt.plot(np.imag(w_sol_steady[:,-1]),z[1:-1]);\n",
    "#plt.plot(tobs[0:12*24],wobs[0:12*24,bini])"
   ]
  },
  {
   "cell_type": "code",
   "execution_count": 19,
   "metadata": {},
   "outputs": [],
   "source": [
    "ustar_steady = kappa*zo*np.abs(w_sol_steady[1,-1])/deltaz"
   ]
  },
  {
   "cell_type": "code",
   "execution_count": 20,
   "metadata": {},
   "outputs": [
    {
     "data": {
      "text/plain": [
       "0.003753643680807231"
      ]
     },
     "execution_count": 20,
     "metadata": {},
     "output_type": "execute_result"
    }
   ],
   "source": [
    "ustar_steady"
   ]
  },
  {
   "cell_type": "code",
   "execution_count": null,
   "metadata": {},
   "outputs": [],
   "source": []
  },
  {
   "cell_type": "code",
   "execution_count": null,
   "metadata": {},
   "outputs": [],
   "source": []
  }
 ],
 "metadata": {
  "kernelspec": {
   "display_name": "Python [conda env:py37]",
   "language": "python",
   "name": "conda-env-py37-py"
  },
  "language_info": {
   "codemirror_mode": {
    "name": "ipython",
    "version": 3
   },
   "file_extension": ".py",
   "mimetype": "text/x-python",
   "name": "python",
   "nbconvert_exporter": "python",
   "pygments_lexer": "ipython3",
   "version": "3.7.2"
  }
 },
 "nbformat": 4,
 "nbformat_minor": 2
}
