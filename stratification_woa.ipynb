{
 "cells": [
  {
   "cell_type": "code",
   "execution_count": 4,
   "metadata": {},
   "outputs": [],
   "source": [
    "%matplotlib ipympl\n",
    "import pandas as pd\n",
    "import xarray as xr\n",
    "import numpy as np\n",
    "import matplotlib.pyplot as plt\n",
    "import gsw\n",
    "from glob import glob"
   ]
  },
  {
   "cell_type": "code",
   "execution_count": 5,
   "metadata": {},
   "outputs": [],
   "source": [
    "temp_nc = 'https://data.nodc.noaa.gov/thredds/dodsC/nodc/archive/data/0114815/public/temperature/netcdf/decav/1.00/woa13_decav_t00_01.nc'\n",
    "sal_nc = 'https://data.nodc.noaa.gov/thredds/dodsC/nodc/archive/data/0114815/public/salinity/netcdf/decav/1.00/woa13_decav_s00_01.nc'"
   ]
  },
  {
   "cell_type": "code",
   "execution_count": 6,
   "metadata": {},
   "outputs": [],
   "source": [
    "temp = xr.open_dataset(temp_nc,decode_times=False)\n",
    "sal = xr.open_dataset(sal_nc,decode_times=False)"
   ]
  },
  {
   "cell_type": "code",
   "execution_count": 7,
   "metadata": {},
   "outputs": [],
   "source": [
    "# position of ADCP \n",
    "mlat = 35+8.4585/60  \n",
    "mlon = -122-59.9036/60"
   ]
  },
  {
   "cell_type": "code",
   "execution_count": 8,
   "metadata": {},
   "outputs": [],
   "source": [
    "f = gsw.f(mlat)"
   ]
  },
  {
   "cell_type": "code",
   "execution_count": 9,
   "metadata": {},
   "outputs": [],
   "source": [
    "ii = np.array(np.argmin(np.abs(mlat-temp['lat'])))\n",
    "jj = np.array(np.argmin(np.abs(mlon-temp['lon'])))"
   ]
  },
  {
   "cell_type": "code",
   "execution_count": 10,
   "metadata": {},
   "outputs": [],
   "source": [
    "mtemp_an = np.squeeze(temp['t_an'][0,:,ii,jj])\n",
    "msal_an = np.squeeze(sal['s_an'][0,:,ii,jj])\n",
    "mtemp_mn = np.squeeze(temp['t_mn'][0,:,ii,jj])\n",
    "msal_mn = np.squeeze(sal['s_mn'][0,:,ii,jj])\n",
    "mz = np.array(temp['depth'])"
   ]
  },
  {
   "cell_type": "code",
   "execution_count": 11,
   "metadata": {},
   "outputs": [],
   "source": [
    "mpr = gsw.p_from_z(-mz,temp['lat'][ii])\n",
    "mSA_mn = msal_mn\n",
    "mCT_mn = gsw.CT_from_t(mSA_mn,mtemp_mn,mpr)\n",
    "msigma0 = gsw.sigma0(mSA_mn,mCT_mn)\n",
    "msigma4 = gsw.sigma4(mSA_mn,mCT_mn)\n",
    "\n",
    "mNsq,mpr_mid = gsw.Nsquared(mSA_mn,mCT_mn,mpr,lat=temp['lat'][ii])\n",
    "mN = np.sqrt(mNsq)"
   ]
  },
  {
   "cell_type": "code",
   "execution_count": 14,
   "metadata": {},
   "outputs": [
    {
     "data": {
      "application/vnd.jupyter.widget-view+json": {
       "model_id": "fa5134b0459c4015bd970873d1a001bd",
       "version_major": 2,
       "version_minor": 0
      },
      "text/plain": [
       "FigureCanvasNbAgg()"
      ]
     },
     "metadata": {},
     "output_type": "display_data"
    }
   ],
   "source": [
    "dflist = []\n",
    "\n",
    "plt.figure()\n",
    "ax1 = plt.subplot(121)\n",
    "ax2 = plt.subplot(122)\n",
    "\n",
    "hwod, = ax1.plot(msigma4,mpr,'k-',lw=2)\n",
    "ax1.invert_yaxis()\n",
    "#ax1.legend(hwod,('World Ocean Atlas'))\n",
    "ax1.set_ylabel('pressure [dbar]')\n",
    "ax1.set_xlabel('$\\sigma_4$ [kg/m$^3$]')\n",
    "ax1.set_title('potential density\\n4000 dbar reference')\n",
    "xl = ax1.get_xlim()\n",
    "yl = ax1.get_ylim()\n",
    "ax1.set_ylim([yl[0],0])\n",
    "ax1.text(xl[0]+0.04*np.diff(xl),yl[1]-0.1*np.diff(yl),'a)')\n",
    "\n",
    "ax2.semilogx(mN,mpr_mid,'k-',lw=2)\n",
    "ax2.invert_yaxis()\n",
    "ax2.get_yaxis().set_ticklabels([])\n",
    "ax2.set_title('buoyancy frequency')\n",
    "ax2.set_xlabel('$N$ [rad s$^{-1}$]')\n",
    "xl = ax2.get_xlim()\n",
    "yl = ax2.get_ylim()\n",
    "ax2.set_ylim([yl[0],0])\n",
    "ax2.text(xl[0]+0.001*np.diff(xl),yl[1]-0.1*np.diff(yl),'b)')\n",
    "plt.tight_layout()\n",
    "plt.savefig('figures_paper/water_column_strat.pdf')\n",
    "plt.savefig('figures_paper/water_column_strat.png')"
   ]
  },
  {
   "cell_type": "code",
   "execution_count": null,
   "metadata": {},
   "outputs": [],
   "source": []
  }
 ],
 "metadata": {
  "kernelspec": {
   "display_name": "Python [conda env:py37]",
   "language": "python",
   "name": "conda-env-py37-py"
  },
  "language_info": {
   "codemirror_mode": {
    "name": "ipython",
    "version": 3
   },
   "file_extension": ".py",
   "mimetype": "text/x-python",
   "name": "python",
   "nbconvert_exporter": "python",
   "pygments_lexer": "ipython3",
   "version": "3.7.2"
  }
 },
 "nbformat": 4,
 "nbformat_minor": 2
}
