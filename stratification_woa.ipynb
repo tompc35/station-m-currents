{
 "cells": [
  {
   "cell_type": "code",
   "execution_count": 27,
   "metadata": {},
   "outputs": [],
   "source": [
    "%matplotlib ipympl\n",
    "import xarray as xr\n",
    "import numpy as np\n",
    "import matplotlib.pyplot as plt\n",
    "import gsw"
   ]
  },
  {
   "cell_type": "code",
   "execution_count": 5,
   "metadata": {},
   "outputs": [],
   "source": [
    "temp_nc = 'https://data.nodc.noaa.gov/thredds/dodsC/nodc/archive/data/0114815/public/temperature/netcdf/decav/1.00/woa13_decav_t00_01.nc'\n",
    "sal_nc = 'https://data.nodc.noaa.gov/thredds/dodsC/nodc/archive/data/0114815/public/salinity/netcdf/decav/1.00/woa13_decav_s00_01.nc'"
   ]
  },
  {
   "cell_type": "code",
   "execution_count": 8,
   "metadata": {},
   "outputs": [],
   "source": [
    "temp = xr.open_dataset(temp_nc,decode_times=False)\n",
    "sal = xr.open_dataset(sal_nc,decode_times=False)"
   ]
  },
  {
   "cell_type": "code",
   "execution_count": 12,
   "metadata": {},
   "outputs": [],
   "source": [
    "# position of ADCP sent by Crissy\n",
    "mlat = 35+8.4585/60  \n",
    "mlon = -122-59.9036/60"
   ]
  },
  {
   "cell_type": "code",
   "execution_count": 70,
   "metadata": {},
   "outputs": [],
   "source": [
    "f = gsw.f(mlat)"
   ]
  },
  {
   "cell_type": "code",
   "execution_count": 16,
   "metadata": {},
   "outputs": [],
   "source": [
    "ii = np.array(np.argmin(np.abs(mlat-temp['lat'])))\n",
    "jj = np.array(np.argmin(np.abs(mlon-temp['lon'])))"
   ]
  },
  {
   "cell_type": "code",
   "execution_count": 38,
   "metadata": {},
   "outputs": [],
   "source": [
    "mtemp_an = np.squeeze(temp['t_an'][0,:,ii,jj])\n",
    "msal_an = np.squeeze(sal['s_an'][0,:,ii,jj])\n",
    "mtemp_mn = np.squeeze(temp['t_an'][0,:,ii,jj])\n",
    "msal_mn = np.squeeze(sal['s_an'][0,:,ii,jj])\n",
    "mz = np.array(temp['depth'])"
   ]
  },
  {
   "cell_type": "code",
   "execution_count": 69,
   "metadata": {},
   "outputs": [
    {
     "name": "stderr",
     "output_type": "stream",
     "text": [
      "/Users/tomconnolly/programs/anaconda/envs/py37/lib/python3.7/site-packages/matplotlib/pyplot.py:514: RuntimeWarning: More than 20 figures have been opened. Figures created through the pyplot interface (`matplotlib.pyplot.figure`) are retained until explicitly closed and may consume too much memory. (To control this warning, see the rcParam `figure.max_open_warning`).\n",
      "  max_open_warning, RuntimeWarning)\n"
     ]
    },
    {
     "data": {
      "application/vnd.jupyter.widget-view+json": {
       "model_id": "62cc2c4e210242708244aeb997910266",
       "version_major": 2,
       "version_minor": 0
      },
      "text/plain": [
       "FigureCanvasNbAgg()"
      ]
     },
     "metadata": {},
     "output_type": "display_data"
    },
    {
     "data": {
      "text/plain": [
       "Text(0.5, 1.0, 'salinity')"
      ]
     },
     "execution_count": 69,
     "metadata": {},
     "output_type": "execute_result"
    }
   ],
   "source": [
    "plt.figure()\n",
    "plt.subplot(121)\n",
    "plt.plot(mtemp_an,mz,'-')\n",
    "plt.plot(mtemp_mn,mz,'--')\n",
    "plt.gca().invert_yaxis()\n",
    "plt.title('temp')\n",
    "\n",
    "plt.subplot(122)\n",
    "plt.plot(msal_an,mz,'-')\n",
    "plt.plot(msal_mn,mz,'--')\n",
    "plt.gca().invert_yaxis()\n",
    "plt.title('salinity')"
   ]
  },
  {
   "cell_type": "code",
   "execution_count": 66,
   "metadata": {},
   "outputs": [],
   "source": [
    "mpr = gsw.p_from_z(-mz,temp['lat'][ii])\n",
    "mSA_am = gsw.SA_from_SP(msal_an, mpr, temp['lon'][jj], temp['lat'][ii])\n",
    "mCT_am = gsw.CT_from_t(mSA_am,mtemp_an,mpr)\n",
    "msigma0 = gsw.sigma0(mSA_am,mCT_am)\n",
    "msigma4 = gsw.sigma4(mSA_am,mCT_am)\n",
    "\n",
    "mNsq,mpr_mid = gsw.Nsquared(mSA_am,mCT_am,mpr,lat=temp['lat'][ii])\n",
    "mN = np.sqrt(mNsq)"
   ]
  },
  {
   "cell_type": "code",
   "execution_count": 68,
   "metadata": {},
   "outputs": [
    {
     "name": "stderr",
     "output_type": "stream",
     "text": [
      "/Users/tomconnolly/programs/anaconda/envs/py37/lib/python3.7/site-packages/matplotlib/pyplot.py:514: RuntimeWarning: More than 20 figures have been opened. Figures created through the pyplot interface (`matplotlib.pyplot.figure`) are retained until explicitly closed and may consume too much memory. (To control this warning, see the rcParam `figure.max_open_warning`).\n",
      "  max_open_warning, RuntimeWarning)\n"
     ]
    },
    {
     "data": {
      "application/vnd.jupyter.widget-view+json": {
       "model_id": "1b645fbb741f4d72beabcdcd2b4d8001",
       "version_major": 2,
       "version_minor": 0
      },
      "text/plain": [
       "FigureCanvasNbAgg()"
      ]
     },
     "metadata": {},
     "output_type": "display_data"
    }
   ],
   "source": [
    "plt.figure()\n",
    "plt.subplot(121)\n",
    "plt.plot(msigma4,mz)\n",
    "plt.gca().invert_yaxis()\n",
    "\n",
    "plt.subplot(122)\n",
    "plt.plot(mN,mpr_mid)\n",
    "plt.gca().invert_yaxis()"
   ]
  },
  {
   "cell_type": "code",
   "execution_count": 74,
   "metadata": {},
   "outputs": [
    {
     "name": "stderr",
     "output_type": "stream",
     "text": [
      "/Users/tomconnolly/programs/anaconda/envs/py37/lib/python3.7/site-packages/matplotlib/pyplot.py:514: RuntimeWarning: More than 20 figures have been opened. Figures created through the pyplot interface (`matplotlib.pyplot.figure`) are retained until explicitly closed and may consume too much memory. (To control this warning, see the rcParam `figure.max_open_warning`).\n",
      "  max_open_warning, RuntimeWarning)\n"
     ]
    },
    {
     "data": {
      "application/vnd.jupyter.widget-view+json": {
       "model_id": "4090510b02294ec788956d020199b058",
       "version_major": 2,
       "version_minor": 0
      },
      "text/plain": [
       "FigureCanvasNbAgg()"
      ]
     },
     "metadata": {},
     "output_type": "display_data"
    }
   ],
   "source": [
    "plt.figure()\n",
    "plt.semilogx(mN,mpr_mid)\n",
    "yl = plt.ylim()\n",
    "plt.semilogx([f,f],[np.max(mpr_mid),np.min(mpr_mid)],'k--')\n",
    "plt.gca().invert_yaxis()"
   ]
  },
  {
   "cell_type": "code",
   "execution_count": 65,
   "metadata": {},
   "outputs": [
    {
     "data": {
      "text/plain": [
       "60.48"
      ]
     },
     "execution_count": 65,
     "metadata": {},
     "output_type": "execute_result"
    }
   ],
   "source": [
    "0.0007*86400"
   ]
  },
  {
   "cell_type": "code",
   "execution_count": null,
   "metadata": {},
   "outputs": [],
   "source": []
  }
 ],
 "metadata": {
  "kernelspec": {
   "display_name": "Python [conda env:py37]",
   "language": "python",
   "name": "conda-env-py37-py"
  },
  "language_info": {
   "codemirror_mode": {
    "name": "ipython",
    "version": 3
   },
   "file_extension": ".py",
   "mimetype": "text/x-python",
   "name": "python",
   "nbconvert_exporter": "python",
   "pygments_lexer": "ipython3",
   "version": "3.7.2"
  }
 },
 "nbformat": 4,
 "nbformat_minor": 2
}
