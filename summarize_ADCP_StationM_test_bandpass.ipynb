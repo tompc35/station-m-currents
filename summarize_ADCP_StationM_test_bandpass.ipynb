{
 "cells": [
  {
   "cell_type": "code",
   "execution_count": 1,
   "metadata": {
    "collapsed": true
   },
   "outputs": [],
   "source": [
    "%matplotlib ipympl\n",
    "\n",
    "import os\n",
    "import numpy as np\n",
    "import xarray as xr\n",
    "import matplotlib.pyplot as plt\n",
    "from scipy.integrate import cumtrapz\n",
    "from scipy.signal import welch, periodogram\n",
    "import physoce.tseries as ts\n",
    "import gsw"
   ]
  },
  {
   "cell_type": "code",
   "execution_count": 2,
   "metadata": {
    "collapsed": true
   },
   "outputs": [],
   "source": [
    "ds = xr.open_dataset('data/MBARI_StationM_ADCP_201711_201811.nc')"
   ]
  },
  {
   "cell_type": "code",
   "execution_count": 3,
   "metadata": {},
   "outputs": [
    {
     "data": {
      "text/plain": [
       "<xarray.Dataset>\n",
       "Dimensions:    (beam: 4, bin: 23, time: 98208)\n",
       "Coordinates:\n",
       "  * time       (time) datetime64[ns] 2017-11-10T10:03:13.760000 ... 2018-10-17T09:58:13.720000\n",
       "Dimensions without coordinates: beam, bin\n",
       "Data variables:\n",
       "    Pit        (time) float64 ...\n",
       "    Rol        (time) float64 ...\n",
       "    Hea        (time) float64 ...\n",
       "    Tem        (time) float64 ...\n",
       "    Dep        (time) float64 ...\n",
       "    Ori        (time) int64 ...\n",
       "    BIT        (time) int64 ...\n",
       "    Bat        (time) int64 ...\n",
       "    Eas        (time, bin) float64 ...\n",
       "    Nor        (time, bin) float64 ...\n",
       "    Ver        (time, bin) float64 ...\n",
       "    Err        (time, bin) float64 ...\n",
       "    EA         (time, bin, beam) float64 ...\n",
       "    PG         (time, bin, beam) float64 ...\n",
       "    C          (time, bin, beam) float64 ...\n",
       "    binheight  (bin) float64 ...\n",
       "    Eas_tide   (time, bin) float64 ...\n",
       "    Nor_tide   (time, bin) float64 ...\n",
       "    Eas_filt   (time, bin) float64 ...\n",
       "    Nor_filt   (time, bin) float64 ...\n",
       "Attributes:\n",
       "    PingsPerEns:          50\n",
       "    TimePerPing:          00:00.20\n",
       "    First Ensemble Date:  17/11/10\n",
       "    First Ensemble Time:  06:43:13.76\n",
       "    Ensemble Interval:    87.19\n",
       "    1st Bin Range:        2.14\n",
       "    Bin Size:             1.0\n",
       "    RDI binary file:      C:\\Users\\PHYSOCE\\Documents\\data\\MBARI_StationM_ADCP...\n",
       "    Instrument:           Broadband 614.4 kHz"
      ]
     },
     "execution_count": 3,
     "metadata": {},
     "output_type": "execute_result"
    }
   ],
   "source": [
    "ds"
   ]
  },
  {
   "cell_type": "code",
   "execution_count": 4,
   "metadata": {},
   "outputs": [
    {
     "data": {
      "text/plain": [
       "<xarray.DataArray 'time' (time: 98208)>\n",
       "array(['2017-11-10T10:03:13.760000000', '2017-11-10T10:08:13.760000000',\n",
       "       '2017-11-10T10:13:13.760000000', ..., '2018-10-17T09:48:13.720000000',\n",
       "       '2018-10-17T09:53:13.720000000', '2018-10-17T09:58:13.720000000'],\n",
       "      dtype='datetime64[ns]')\n",
       "Coordinates:\n",
       "  * time     (time) datetime64[ns] 2017-11-10T10:03:13.760000 ... 2018-10-17T09:58:13.720000"
      ]
     },
     "execution_count": 4,
     "metadata": {},
     "output_type": "execute_result"
    }
   ],
   "source": [
    "ds['time']"
   ]
  },
  {
   "cell_type": "code",
   "execution_count": 5,
   "metadata": {},
   "outputs": [
    {
     "name": "stderr",
     "output_type": "stream",
     "text": [
      "/Users/tomconnolly/programs/anaconda/envs/py37/lib/python3.7/site-packages/scipy/signal/signaltools.py:491: FutureWarning: Using a non-tuple sequence for multidimensional indexing is deprecated; use `arr[tuple(seq)]` instead of `arr[seq]`. In the future this will be interpreted as an array index, `arr[np.array(seq)]`, which will result either in an error or a different result.\n",
      "  return x[reverse].conj()\n",
      "/Users/tomconnolly/programs/anaconda/envs/py37/lib/python3.7/site-packages/scipy/signal/signaltools.py:251: FutureWarning: Using a non-tuple sequence for multidimensional indexing is deprecated; use `arr[tuple(seq)]` instead of `arr[seq]`. In the future this will be interpreted as an array index, `arr[np.array(seq)]`, which will result either in an error or a different result.\n",
      "  in1zpadded[sc] = in1.copy()\n"
     ]
    }
   ],
   "source": [
    "T_f_hrs = 1/(gsw.f(35+8.4585/60)/(2*np.pi))/3600\n",
    "\n",
    "Nor_bpf = ts.pl64(np.array(ds['Nor']),dt=1/12,T=T_f_hrs/0.95) - ts.pl64(np.array(ds['Nor']),dt=1/12,T=T_f_hrs/1.15)\n",
    "ds['Nor_bpf'] = (('time','bin'),Nor_bpf)\n",
    "Eas_bpf = ts.pl64(np.array(ds['Eas']),dt=1/12,T=T_f_hrs/0.95) - ts.pl64(np.array(ds['Eas']),dt=1/12,T=T_f_hrs/1.15) \n",
    "ds['Eas_bpf'] = (('time','bin'),Eas_bpf)"
   ]
  },
  {
   "cell_type": "code",
   "execution_count": 6,
   "metadata": {},
   "outputs": [
    {
     "data": {
      "application/vnd.jupyter.widget-view+json": {
       "model_id": "b9005a0931f74699ad2dcb57898cda22",
       "version_major": 2,
       "version_minor": 0
      },
      "text/plain": [
       "FigureCanvasNbAgg()"
      ]
     },
     "metadata": {},
     "output_type": "display_data"
    },
    {
     "data": {
      "application/vnd.jupyter.widget-view+json": {
       "model_id": "21f8ff6a86e54d448a672eca95caf51a",
       "version_major": 2,
       "version_minor": 0
      },
      "text/plain": [
       "FigureCanvasNbAgg()"
      ]
     },
     "metadata": {},
     "output_type": "display_data"
    },
    {
     "data": {
      "application/vnd.jupyter.widget-view+json": {
       "model_id": "a29f259a221d448997909560d448d644",
       "version_major": 2,
       "version_minor": 0
      },
      "text/plain": [
       "FigureCanvasNbAgg()"
      ]
     },
     "metadata": {},
     "output_type": "display_data"
    },
    {
     "data": {
      "application/vnd.jupyter.widget-view+json": {
       "model_id": "b1bac2493155458b8e65c84ef6966dcb",
       "version_major": 2,
       "version_minor": 0
      },
      "text/plain": [
       "FigureCanvasNbAgg()"
      ]
     },
     "metadata": {},
     "output_type": "display_data"
    },
    {
     "data": {
      "text/plain": [
       "Text(0, 0.5, 'height above instrument [m]')"
      ]
     },
     "execution_count": 6,
     "metadata": {},
     "output_type": "execute_result"
    }
   ],
   "source": [
    "plt.figure()\n",
    "plt.plot(np.mean(ds['C'],axis=0),ds['binheight'],'-o')\n",
    "plt.title('correlation [128 = high signal/noise]')\n",
    "plt.ylabel('height above instrument [m]')\n",
    "plt.xlim([0,128])\n",
    "\n",
    "plt.figure()\n",
    "plt.plot(np.std(ds['Eas'],axis=0),ds['binheight'],'-o')\n",
    "plt.plot(np.std(ds['Nor'],axis=0),ds['binheight'],'-o')\n",
    "plt.title('std(u,v)')\n",
    "plt.ylabel('height above instrument [m]')\n",
    "\n",
    "plt.figure()\n",
    "plt.plot(np.mean(ds['EA'],axis=0),ds['binheight'],'-o')\n",
    "plt.title('echo amplitude [dB]')\n",
    "plt.ylabel('height above instrument [m]')\n",
    "\n",
    "plt.figure()\n",
    "plt.plot(np.corrcoef(ds['Eas'],rowvar=False)[:,0],ds['binheight'],'-o')\n",
    "plt.plot(np.corrcoef(ds['Nor'],rowvar=False)[:,0],ds['binheight'],'-o')\n",
    "plt.title('correlation with bottom bin')\n",
    "plt.ylabel('height above instrument [m]')"
   ]
  },
  {
   "cell_type": "code",
   "execution_count": 7,
   "metadata": {},
   "outputs": [
    {
     "data": {
      "application/vnd.jupyter.widget-view+json": {
       "model_id": "bc345e3ac87b45e98269e18866b0e377",
       "version_major": 2,
       "version_minor": 0
      },
      "text/plain": [
       "FigureCanvasNbAgg()"
      ]
     },
     "metadata": {},
     "output_type": "display_data"
    },
    {
     "data": {
      "text/plain": [
       "Text(0.5, 0, '[m/s]')"
      ]
     },
     "execution_count": 7,
     "metadata": {},
     "output_type": "execute_result"
    }
   ],
   "source": [
    "bini = np.arange(1,17)\n",
    "\n",
    "plt.figure()\n",
    "plt.plot(np.mean(ds['Eas'][:,bini],axis=0),ds['binheight'][bini],'-o')\n",
    "plt.plot(np.mean(ds['Nor'][:,bini],axis=0),ds['binheight'][bini],'-o')\n",
    "plt.title('mean velocity - entire deployment')\n",
    "plt.legend(['East','North'])\n",
    "plt.ylabel('height above instrument')\n",
    "plt.xlabel('[m/s]')"
   ]
  },
  {
   "cell_type": "code",
   "execution_count": 8,
   "metadata": {
    "collapsed": true
   },
   "outputs": [],
   "source": [
    "dt = 5*60 # 5 min sample interval (in seconds)\n",
    "\n",
    "x = cumtrapz(ds['Eas']*dt,axis=0)\n",
    "y = cumtrapz(ds['Nor']*dt,axis=0)"
   ]
  },
  {
   "cell_type": "code",
   "execution_count": 9,
   "metadata": {},
   "outputs": [
    {
     "data": {
      "application/vnd.jupyter.widget-view+json": {
       "model_id": "48409914f2d84f29a9dce70c4369ee0e",
       "version_major": 2,
       "version_minor": 0
      },
      "text/plain": [
       "FigureCanvasNbAgg()"
      ]
     },
     "metadata": {},
     "output_type": "display_data"
    },
    {
     "data": {
      "text/plain": [
       "<matplotlib.legend.Legend at 0x1c3a544b00>"
      ]
     },
     "execution_count": 9,
     "metadata": {},
     "output_type": "execute_result"
    }
   ],
   "source": [
    "plt.figure()\n",
    "plt.plot(x[:,15]/1000,y[:,15]/1000)\n",
    "plt.plot(x[:,7]/1000,y[:,8]/1000)\n",
    "plt.plot(x[:,1]/1000,y[:,1]/1000)\n",
    "plt.plot(0,0,'ko')\n",
    "plt.axis('equal')\n",
    "plt.xlabel('distance east [km]')\n",
    "plt.ylabel('distance north [km]')\n",
    "plt.legend(['Bin 15','Bin 8','Bin 1'])"
   ]
  },
  {
   "cell_type": "code",
   "execution_count": 10,
   "metadata": {},
   "outputs": [
    {
     "data": {
      "application/vnd.jupyter.widget-view+json": {
       "model_id": "38ac601186a24b55a99b600530dc0bd3",
       "version_major": 2,
       "version_minor": 0
      },
      "text/plain": [
       "FigureCanvasNbAgg()"
      ]
     },
     "metadata": {},
     "output_type": "display_data"
    },
    {
     "data": {
      "application/vnd.jupyter.widget-view+json": {
       "model_id": "4e74c79f1a3a4e63b36ed1ddafd93634",
       "version_major": 2,
       "version_minor": 0
      },
      "text/plain": [
       "FigureCanvasNbAgg()"
      ]
     },
     "metadata": {},
     "output_type": "display_data"
    },
    {
     "data": {
      "text/plain": [
       "Text(0.5, 1.0, 'northward velocity')"
      ]
     },
     "execution_count": 10,
     "metadata": {},
     "output_type": "execute_result"
    }
   ],
   "source": [
    "plt.figure(figsize=(8,4))\n",
    "plt.plot(ds['time'],ds['Eas'][:,15]);\n",
    "plt.plot(ds['time'],ds['Eas'][:,1]);\n",
    "plt.legend(['Bin 15','Bin 1'])\n",
    "plt.ylabel('m/s')\n",
    "plt.title('eastward velocity')\n",
    "\n",
    "plt.figure(figsize=(8,4))\n",
    "plt.plot(ds['time'],ds['Nor'][:,15]);\n",
    "plt.plot(ds['time'],ds['Nor'][:,1]);\n",
    "plt.legend(['Bin 15','Bin 1'])\n",
    "plt.ylabel('m/s')\n",
    "plt.title('northward velocity')"
   ]
  },
  {
   "cell_type": "code",
   "execution_count": 11,
   "metadata": {},
   "outputs": [
    {
     "data": {
      "application/vnd.jupyter.widget-view+json": {
       "model_id": "bb914436ea814557a1e6cce204c9590e",
       "version_major": 2,
       "version_minor": 0
      },
      "text/plain": [
       "FigureCanvasNbAgg()"
      ]
     },
     "metadata": {},
     "output_type": "display_data"
    },
    {
     "data": {
      "application/vnd.jupyter.widget-view+json": {
       "model_id": "37f566732e3646ea928db45ce96a7f9a",
       "version_major": 2,
       "version_minor": 0
      },
      "text/plain": [
       "FigureCanvasNbAgg()"
      ]
     },
     "metadata": {},
     "output_type": "display_data"
    },
    {
     "data": {
      "text/plain": [
       "Text(0.5, 1.0, 'northward velocity')"
      ]
     },
     "execution_count": 11,
     "metadata": {},
     "output_type": "execute_result"
    }
   ],
   "source": [
    "plt.figure(figsize=(8,4))\n",
    "plt.plot(ds['time'],ds['Eas_filt'][:,15]);\n",
    "plt.plot(ds['time'],ds['Eas_filt'][:,1]);\n",
    "plt.legend(['Bin 15','Bin 1'])\n",
    "plt.ylabel('m/s')\n",
    "plt.title('eastward velocity')\n",
    "\n",
    "plt.figure(figsize=(8,4))\n",
    "plt.plot(ds['time'],ds['Nor_filt'][:,15]);\n",
    "plt.plot(ds['time'],ds['Nor_filt'][:,1]);\n",
    "plt.legend(['Bin 15','Bin 1'])\n",
    "plt.ylabel('m/s')\n",
    "plt.title('northward velocity')"
   ]
  },
  {
   "cell_type": "code",
   "execution_count": 38,
   "metadata": {},
   "outputs": [
    {
     "name": "stderr",
     "output_type": "stream",
     "text": [
      "/Users/tomconnolly/programs/anaconda/envs/py37/lib/python3.7/site-packages/matplotlib/pyplot.py:514: RuntimeWarning: More than 20 figures have been opened. Figures created through the pyplot interface (`matplotlib.pyplot.figure`) are retained until explicitly closed and may consume too much memory. (To control this warning, see the rcParam `figure.max_open_warning`).\n",
      "  max_open_warning, RuntimeWarning)\n"
     ]
    },
    {
     "data": {
      "application/vnd.jupyter.widget-view+json": {
       "model_id": "864459d819264361b22d9c0d708dc5db",
       "version_major": 2,
       "version_minor": 0
      },
      "text/plain": [
       "FigureCanvasNbAgg()"
      ]
     },
     "metadata": {},
     "output_type": "display_data"
    },
    {
     "data": {
      "text/plain": [
       "Text(0.5, 1.0, 'Station M - low pass filtered velocity - bin 15')"
      ]
     },
     "execution_count": 38,
     "metadata": {},
     "output_type": "execute_result"
    }
   ],
   "source": [
    "from graph import stick_plot\n",
    "\n",
    "\n",
    "\n",
    "fig, ax = plt.subplots(figsize=(8, 2.25))\n",
    "\n",
    "q = stick_plot(np.array(ds['time'])[::288],\n",
    "               np.array(ds['Eas_filt'])[::288,15],\n",
    "               np.array(ds['Nor_filt'])[::288,15],\n",
    "               ax=ax,width=0.0015)\n",
    "\n",
    "ref = 0.01\n",
    "qk = plt.quiverkey(q, 0.1, 0.85, ref,\n",
    "                  \"%s m s$^{-1}$\" % ref,\n",
    "                  labelpos='N', coordinates='axes')\n",
    "_ = plt.xticks(rotation=0)\n",
    "\n",
    "plt.title('Station M - low pass filtered velocity - bin 15')"
   ]
  },
  {
   "cell_type": "code",
   "execution_count": 37,
   "metadata": {},
   "outputs": [
    {
     "name": "stderr",
     "output_type": "stream",
     "text": [
      "/Users/tomconnolly/programs/anaconda/envs/py37/lib/python3.7/site-packages/matplotlib/pyplot.py:514: RuntimeWarning: More than 20 figures have been opened. Figures created through the pyplot interface (`matplotlib.pyplot.figure`) are retained until explicitly closed and may consume too much memory. (To control this warning, see the rcParam `figure.max_open_warning`).\n",
      "  max_open_warning, RuntimeWarning)\n"
     ]
    },
    {
     "data": {
      "application/vnd.jupyter.widget-view+json": {
       "model_id": "410e150a454c46c18a1c330ca8b344a7",
       "version_major": 2,
       "version_minor": 0
      },
      "text/plain": [
       "FigureCanvasNbAgg()"
      ]
     },
     "metadata": {},
     "output_type": "display_data"
    },
    {
     "data": {
      "text/plain": [
       "Text(0.5, 1.0, 'full velocity, 2018-02-01-2018-02-15, bin 15')"
      ]
     },
     "execution_count": 37,
     "metadata": {},
     "output_type": "execute_result"
    }
   ],
   "source": [
    "t1=np.datetime64('2018-02-01')\n",
    "t2=np.datetime64('2018-02-15')\n",
    "\n",
    "plt.figure(figsize=(8,4))\n",
    "plt.plot(ds['time'],ds['Eas'][:,15]);\n",
    "plt.plot(ds['time'],ds['Nor'][:,15]);\n",
    "plt.ylabel('m/s')\n",
    "plt.xlim([t1,t2])\n",
    "plt.ylim([-0.15,0.15])\n",
    "plt.legend(['East','North'])\n",
    "plt.title('full velocity, '+str(t1)+'-'+str(t2)+', bin 15')"
   ]
  },
  {
   "cell_type": "code",
   "execution_count": 36,
   "metadata": {},
   "outputs": [
    {
     "name": "stderr",
     "output_type": "stream",
     "text": [
      "/Users/tomconnolly/programs/anaconda/envs/py37/lib/python3.7/site-packages/matplotlib/pyplot.py:514: RuntimeWarning: More than 20 figures have been opened. Figures created through the pyplot interface (`matplotlib.pyplot.figure`) are retained until explicitly closed and may consume too much memory. (To control this warning, see the rcParam `figure.max_open_warning`).\n",
      "  max_open_warning, RuntimeWarning)\n"
     ]
    },
    {
     "data": {
      "application/vnd.jupyter.widget-view+json": {
       "model_id": "997ff364274149e1bc448271b3b63d6e",
       "version_major": 2,
       "version_minor": 0
      },
      "text/plain": [
       "FigureCanvasNbAgg()"
      ]
     },
     "metadata": {},
     "output_type": "display_data"
    },
    {
     "data": {
      "text/plain": [
       "Text(0.5, 1.0, 'detided velocity, 2018-02-01-2018-02-15, bin 15')"
      ]
     },
     "execution_count": 36,
     "metadata": {},
     "output_type": "execute_result"
    }
   ],
   "source": [
    "t1=np.datetime64('2018-02-01')\n",
    "t2=np.datetime64('2018-02-15')\n",
    "\n",
    "plt.figure(figsize=(8,4))\n",
    "plt.plot(ds['time'],ds['Eas'][:,15]-ds['Eas_tide'][:,15]);\n",
    "plt.plot(ds['time'],ds['Nor'][:,15]-ds['Nor_tide'][:,15]);\n",
    "plt.legend(['Bin 15','Bin 1'])\n",
    "plt.ylabel('m/s')\n",
    "plt.ylim([-0.15,0.15])\n",
    "plt.xlim([t1,t2])\n",
    "plt.legend(['East','North'])\n",
    "plt.title('detided velocity, '+str(t1)+'-'+str(t2)+', bin 15')"
   ]
  },
  {
   "cell_type": "code",
   "execution_count": 15,
   "metadata": {
    "collapsed": true
   },
   "outputs": [],
   "source": [
    "Eas = np.array(ds['Eas'])\n",
    "Nor = np.array(ds['Nor'])\n",
    "Eas_tide = np.array(ds['Eas_tide'])\n",
    "Nor_tide = np.array(ds['Nor_tide'])\n",
    "\n",
    "N = len(Eas)\n",
    "fE,SE = welch(Eas[:,5],fs=288.,nperseg=N/6,window='hanning')\n",
    "fN,SN = welch(Nor[:,5],fs=288.,nperseg=N/6,window='hanning')\n",
    "\n",
    "#rotary spectrum\n",
    "fr,Sr = welch(Eas[:,0]+1j*Nor[:,0],\n",
    "              fs=288.,nperseg=N/6,\n",
    "              window='hann',return_onesided=False)\n",
    "icw, = np.where(fr<0)\n",
    "iccw, = np.where(fr>0)\n",
    "fcw = -fr[icw]\n",
    "Scw = Sr[icw]\n",
    "fccw = fr[iccw]\n",
    "Sccw = Sr[iccw]"
   ]
  },
  {
   "cell_type": "code",
   "execution_count": 16,
   "metadata": {},
   "outputs": [
    {
     "data": {
      "text/plain": [
       "array([1.43982405e+02, 1.43964809e+02, 1.43947214e+02, ...,\n",
       "       5.27859238e-02, 3.51906158e-02, 1.75953079e-02])"
      ]
     },
     "execution_count": 16,
     "metadata": {},
     "output_type": "execute_result"
    }
   ],
   "source": [
    "fcw[1:]"
   ]
  },
  {
   "cell_type": "code",
   "execution_count": 17,
   "metadata": {},
   "outputs": [
    {
     "data": {
      "text/plain": [
       "array([1.43982405e+02, 1.43964809e+02, 1.43947214e+02, ...,\n",
       "       5.27859238e-02, 3.51906158e-02, 1.75953079e-02])"
      ]
     },
     "execution_count": 17,
     "metadata": {},
     "output_type": "execute_result"
    }
   ],
   "source": [
    "fccw[::-1]"
   ]
  },
  {
   "cell_type": "code",
   "execution_count": 18,
   "metadata": {},
   "outputs": [],
   "source": [
    "# rotary coefficient\n",
    "Cr = np.abs(Scw[1:]-Sccw[::-1])/(Scw[1:]+Sccw[::-1])\n",
    "fr = fcw[1:]"
   ]
  },
  {
   "cell_type": "code",
   "execution_count": 19,
   "metadata": {},
   "outputs": [],
   "source": [
    "f_cpd = gsw.f(35+8.4585/60)*86400/(2*np.pi)\n",
    "\n",
    "# theoretical prediction (Van Haren and Millot (2004), eq. 11)\n",
    "sigmar = 2*np.pi*fr\n",
    "Cr_pred = 2*sigmar*(2*np.pi*f_cpd)/(sigmar**2 + (2*np.pi*f_cpd)**2)"
   ]
  },
  {
   "cell_type": "code",
   "execution_count": 35,
   "metadata": {},
   "outputs": [
    {
     "name": "stderr",
     "output_type": "stream",
     "text": [
      "/Users/tomconnolly/programs/anaconda/envs/py37/lib/python3.7/site-packages/matplotlib/pyplot.py:514: RuntimeWarning: More than 20 figures have been opened. Figures created through the pyplot interface (`matplotlib.pyplot.figure`) are retained until explicitly closed and may consume too much memory. (To control this warning, see the rcParam `figure.max_open_warning`).\n",
      "  max_open_warning, RuntimeWarning)\n"
     ]
    },
    {
     "data": {
      "application/vnd.jupyter.widget-view+json": {
       "model_id": "df63cf0b1f7245348bd89dd652164ea8",
       "version_major": 2,
       "version_minor": 0
      },
      "text/plain": [
       "FigureCanvasNbAgg()"
      ]
     },
     "metadata": {},
     "output_type": "display_data"
    },
    {
     "data": {
      "text/plain": [
       "Text(0.5, 1.0, 'rotary spectra')"
      ]
     },
     "execution_count": 35,
     "metadata": {},
     "output_type": "execute_result"
    }
   ],
   "source": [
    "plt.figure()\n",
    "plt.loglog(fcw,Scw)\n",
    "plt.loglog(fccw,Sccw,'--')\n",
    "plt.legend(['clockwise','counter-clockwise'])\n",
    "plt.xlabel('frequency [cpd]')\n",
    "plt.ylabel('[m$^2$ s$^{-2}$ cpd$^{-1}$]')\n",
    "plt.title('rotary spectra')"
   ]
  },
  {
   "cell_type": "code",
   "execution_count": 34,
   "metadata": {},
   "outputs": [
    {
     "name": "stderr",
     "output_type": "stream",
     "text": [
      "/Users/tomconnolly/programs/anaconda/envs/py37/lib/python3.7/site-packages/matplotlib/pyplot.py:514: RuntimeWarning: More than 20 figures have been opened. Figures created through the pyplot interface (`matplotlib.pyplot.figure`) are retained until explicitly closed and may consume too much memory. (To control this warning, see the rcParam `figure.max_open_warning`).\n",
      "  max_open_warning, RuntimeWarning)\n"
     ]
    },
    {
     "data": {
      "application/vnd.jupyter.widget-view+json": {
       "model_id": "67e244991ffb4134ba2c7cbfe2d459dc",
       "version_major": 2,
       "version_minor": 0
      },
      "text/plain": [
       "FigureCanvasNbAgg()"
      ]
     },
     "metadata": {},
     "output_type": "display_data"
    },
    {
     "data": {
      "text/plain": [
       "Text(0.9295120061967467, 0.01597311802948467, '$O_1$')"
      ]
     },
     "execution_count": 34,
     "metadata": {},
     "output_type": "execute_result"
    }
   ],
   "source": [
    "plt.figure()\n",
    "plt.loglog(fcw,Scw)\n",
    "plt.loglog(fccw,Sccw,'--')\n",
    "plt.legend(['clockwise','counter-clockwise'])\n",
    "plt.xlabel('frequency [cpd]')\n",
    "plt.ylabel('[m$^2$ s$^{-2}$ cpd$^{-1}$]')\n",
    "\n",
    "yl = plt.ylim()\n",
    "plt.plot([f_cpd,f_cpd],yl,'-',color='gray')\n",
    "plt.plot([24/25.82,24/25.82],yl,'-',color='gray')\n",
    "plt.plot([24/23.93,24/23.93],yl,'-',color='gray')\n",
    "plt.plot([2,2],yl,'-',color='gray')\n",
    "plt.plot([24/12.42,24/12.42],yl,'-',color='gray')\n",
    "plt.plot([24/12.42*2,24/12.42*2],yl,'-',color='gray')\n",
    "plt.ylim(yl)\n",
    "plt.xlim([0.6,10])\n",
    "\n",
    "plt.text(f_cpd,yl[1],'$f$',fontsize=12,\n",
    "         horizontalalignment='center',\n",
    "         verticalalignment='bottom')\n",
    "plt.text(24/12.42,yl[1],'$M_2$',fontsize=12,\n",
    "         horizontalalignment='right',\n",
    "         verticalalignment='bottom')\n",
    "plt.text(24/12.42*2,yl[1],'$2M_2$',fontsize=12,\n",
    "         horizontalalignment='center',\n",
    "         verticalalignment='bottom')\n",
    "plt.text(2,yl[1],'$S_2$',fontsize=12,\n",
    "         horizontalalignment='left',\n",
    "         verticalalignment='bottom')\n",
    "plt.text(24/23.93,yl[1],'$K_1$',fontsize=12,\n",
    "         horizontalalignment='center',\n",
    "         verticalalignment='bottom')\n",
    "plt.text(24/25.82,yl[1],'$O_1$',fontsize=12,\n",
    "         horizontalalignment='right',\n",
    "         verticalalignment='bottom')"
   ]
  },
  {
   "cell_type": "code",
   "execution_count": 33,
   "metadata": {
    "collapsed": true
   },
   "outputs": [
    {
     "name": "stderr",
     "output_type": "stream",
     "text": [
      "/Users/tomconnolly/programs/anaconda/envs/py37/lib/python3.7/site-packages/matplotlib/pyplot.py:514: RuntimeWarning: More than 20 figures have been opened. Figures created through the pyplot interface (`matplotlib.pyplot.figure`) are retained until explicitly closed and may consume too much memory. (To control this warning, see the rcParam `figure.max_open_warning`).\n",
      "  max_open_warning, RuntimeWarning)\n"
     ]
    },
    {
     "data": {
      "application/vnd.jupyter.widget-view+json": {
       "model_id": "06f03645591c40e283fa40f29b05504c",
       "version_major": 2,
       "version_minor": 0
      },
      "text/plain": [
       "FigureCanvasNbAgg()"
      ]
     },
     "metadata": {},
     "output_type": "display_data"
    },
    {
     "data": {
      "text/plain": [
       "(0, 1)"
      ]
     },
     "execution_count": 33,
     "metadata": {},
     "output_type": "execute_result"
    }
   ],
   "source": [
    "iwi, = np.where(fr >= f_cpd)\n",
    "\n",
    "plt.figure()\n",
    "plt.semilogx(fr,Cr)\n",
    "plt.semilogx(fr[iwi],Cr_pred[iwi],'k-',lw=2)\n",
    "yl = plt.ylim()\n",
    "plt.semilogx([f_cpd,f_cpd],yl,'k--')\n",
    "plt.xlabel('f [cpd]')\n",
    "plt.ylabel('$C_R$')\n",
    "plt.title('rotary coefficients')\n",
    "plt.ylim(yl)\n",
    "plt.xlim([0.6,10])\n",
    "plt.ylim([0,1])"
   ]
  },
  {
   "cell_type": "code",
   "execution_count": 32,
   "metadata": {},
   "outputs": [
    {
     "name": "stderr",
     "output_type": "stream",
     "text": [
      "/Users/tomconnolly/programs/anaconda/envs/py37/lib/python3.7/site-packages/matplotlib/pyplot.py:514: RuntimeWarning: More than 20 figures have been opened. Figures created through the pyplot interface (`matplotlib.pyplot.figure`) are retained until explicitly closed and may consume too much memory. (To control this warning, see the rcParam `figure.max_open_warning`).\n",
      "  max_open_warning, RuntimeWarning)\n"
     ]
    },
    {
     "data": {
      "application/vnd.jupyter.widget-view+json": {
       "model_id": "575465ff0c0a487c80bda2f6995d51d3",
       "version_major": 2,
       "version_minor": 0
      },
      "text/plain": [
       "FigureCanvasNbAgg()"
      ]
     },
     "metadata": {},
     "output_type": "display_data"
    },
    {
     "data": {
      "text/plain": [
       "(-0.01632384540970697,\n",
       " 0.016935338900897837,\n",
       " -0.015948528018772588,\n",
       " 0.015739624961456644)"
      ]
     },
     "execution_count": 32,
     "metadata": {},
     "output_type": "execute_result"
    }
   ],
   "source": [
    "plt.figure()\n",
    "plt.plot(ds['Eas_bpf'][:,10],ds['Nor_bpf'][:,10])\n",
    "plt.gca().axis('equal')"
   ]
  },
  {
   "cell_type": "code",
   "execution_count": 31,
   "metadata": {},
   "outputs": [
    {
     "name": "stderr",
     "output_type": "stream",
     "text": [
      "/Users/tomconnolly/programs/anaconda/envs/py37/lib/python3.7/site-packages/matplotlib/pyplot.py:514: RuntimeWarning: More than 20 figures have been opened. Figures created through the pyplot interface (`matplotlib.pyplot.figure`) are retained until explicitly closed and may consume too much memory. (To control this warning, see the rcParam `figure.max_open_warning`).\n",
      "  max_open_warning, RuntimeWarning)\n"
     ]
    },
    {
     "data": {
      "application/vnd.jupyter.widget-view+json": {
       "model_id": "97e04c1e374c4915bd4f7cfb9e4d12e0",
       "version_major": 2,
       "version_minor": 0
      },
      "text/plain": [
       "FigureCanvasNbAgg()"
      ]
     },
     "metadata": {},
     "output_type": "display_data"
    },
    {
     "data": {
      "text/plain": [
       "[<matplotlib.lines.Line2D at 0x1c4cf934e0>]"
      ]
     },
     "execution_count": 31,
     "metadata": {},
     "output_type": "execute_result"
    }
   ],
   "source": [
    "plt.figure()\n",
    "plt.plot(ds['time'],ds['Eas_bpf'][:,15])\n",
    "plt.plot(ds['time'],ds['Nor_bpf'][:,15])"
   ]
  },
  {
   "cell_type": "code",
   "execution_count": 30,
   "metadata": {},
   "outputs": [
    {
     "data": {
      "application/vnd.jupyter.widget-view+json": {
       "model_id": "ed5e9fb7d5f34e93841e7a2efdff4d7c",
       "version_major": 2,
       "version_minor": 0
      },
      "text/plain": [
       "FigureCanvasNbAgg()"
      ]
     },
     "metadata": {},
     "output_type": "display_data"
    },
    {
     "data": {
      "text/plain": [
       "[<matplotlib.lines.Line2D at 0x1c48968470>]"
      ]
     },
     "execution_count": 30,
     "metadata": {},
     "output_type": "execute_result"
    }
   ],
   "source": [
    "plt.figure()\n",
    "plt.plot(ds['time'],ds['Eas_bpf'][:,15])\n",
    "plt.plot(ds['time'],ds['Eas_bpf'][:,0])"
   ]
  },
  {
   "cell_type": "code",
   "execution_count": 29,
   "metadata": {},
   "outputs": [],
   "source": [
    "ds['height'] = ds['binheight'] + 0.4572 # add instrument height (18 inches)\n",
    "zi = np.arange(0,len(ds['height'])-7)\n",
    "\n",
    "w = Eas[:,zi]+1j*Nor[:,zi]"
   ]
  },
  {
   "cell_type": "code",
   "execution_count": 28,
   "metadata": {},
   "outputs": [
    {
     "data": {
      "text/plain": [
       "array([[0.00156702+0.00000000e+00j, 0.00141893+6.99546152e-06j,\n",
       "        0.0014316 +1.28913008e-05j, 0.00146088+1.63494543e-05j,\n",
       "        0.00147935+1.79723905e-05j, 0.00149878+1.56686143e-05j,\n",
       "        0.00151203+1.63021020e-05j, 0.00152129+1.51425209e-05j,\n",
       "        0.00152857+9.80404512e-06j, 0.00153448+8.58859889e-06j,\n",
       "        0.00154155-2.13908444e-06j, 0.00154777-3.89779285e-06j,\n",
       "        0.00155051-7.43362671e-06j, 0.00155004-9.57095235e-06j,\n",
       "        0.0015536 -1.50141555e-05j, 0.00155521-1.36823191e-05j],\n",
       "       [0.00141893-6.99546152e-06j, 0.00170715+0.00000000e+00j,\n",
       "        0.00153987+6.20988144e-06j, 0.00154345+9.15267337e-06j,\n",
       "        0.00156433+1.16467894e-05j, 0.0015837 +9.34355012e-06j,\n",
       "        0.001597  +9.32448530e-06j, 0.0016072 +6.38974878e-06j,\n",
       "        0.00161491+2.84620808e-06j, 0.0016216 +1.32798153e-06j,\n",
       "        0.00162877-9.61113833e-06j, 0.00163601-1.29801604e-05j,\n",
       "        0.00163911-1.63002989e-05j, 0.00163859-1.85434184e-05j,\n",
       "        0.0016425 -2.22915923e-05j, 0.00164324-2.30699081e-05j],\n",
       "       [0.0014316 -1.28913008e-05j, 0.00153987-6.20988144e-06j,\n",
       "        0.00181183+0.00000000e+00j, 0.00163075+1.79931618e-06j,\n",
       "        0.00162424+5.57748254e-06j, 0.00164379+3.21831875e-06j,\n",
       "        0.00165826+2.53659513e-06j, 0.0016682 +9.32032845e-07j,\n",
       "        0.0016752 -3.40806249e-06j, 0.00168135-7.38471290e-06j,\n",
       "        0.00168936-1.72102152e-05j, 0.00169706-1.98689844e-05j,\n",
       "        0.00169939-2.16732042e-05j, 0.00170058-2.78898253e-05j,\n",
       "        0.00170275-3.27821329e-05j, 0.00170578-3.22238058e-05j],\n",
       "       [0.00146088-1.63494543e-05j, 0.00154345-9.15267337e-06j,\n",
       "        0.00163075-1.79931618e-06j, 0.00189495+0.00000000e+00j,\n",
       "        0.00169672+3.63142049e-06j, 0.00168816-1.49998046e-07j,\n",
       "        0.00170549+1.57552555e-08j, 0.00171472-2.60279565e-06j,\n",
       "        0.00172287-6.29594739e-06j, 0.00172968-9.13814797e-06j,\n",
       "        0.00173676-1.92983021e-05j, 0.0017437 -2.29861615e-05j,\n",
       "        0.00174851-2.73717700e-05j, 0.00174796-3.05463112e-05j,\n",
       "        0.00175152-3.62345835e-05j, 0.00175381-3.57355942e-05j],\n",
       "       [0.00147935-1.79723905e-05j, 0.00156433-1.16467894e-05j,\n",
       "        0.00162424-5.57748254e-06j, 0.00169672-3.63142049e-06j,\n",
       "        0.00195899+0.00000000e+00j, 0.00174755-3.88319437e-06j,\n",
       "        0.00173694-2.06226130e-06j, 0.00174732-5.21638498e-06j,\n",
       "        0.00175536-1.03160117e-05j, 0.00176233-1.22953660e-05j,\n",
       "        0.00177071-2.34575563e-05j, 0.0017784 -2.73206945e-05j,\n",
       "        0.00178213-3.00347289e-05j, 0.00178172-3.30640151e-05j,\n",
       "        0.00178538-3.98912917e-05j, 0.00178748-3.87021504e-05j],\n",
       "       [0.00149878-1.56686143e-05j, 0.0015837 -9.34355012e-06j,\n",
       "        0.00164379-3.21831875e-06j, 0.00168816+1.49998046e-07j,\n",
       "        0.00174755+3.88319437e-06j, 0.00202459+0.00000000e+00j,\n",
       "        0.001794  +2.35795217e-06j, 0.00177787-2.48210234e-06j,\n",
       "        0.00178644-6.48865825e-06j, 0.0017947 -8.72406038e-06j,\n",
       "        0.00180322-1.97623275e-05j, 0.00181103-2.35175379e-05j,\n",
       "        0.00181671-2.63124082e-05j, 0.00181465-3.16542788e-05j,\n",
       "        0.0018203 -3.65276444e-05j, 0.00182062-3.56181617e-05j],\n",
       "       [0.00151203-1.63021020e-05j, 0.001597  -9.32448530e-06j,\n",
       "        0.00165826-2.53659513e-06j, 0.00170549-1.57552555e-08j,\n",
       "        0.00173694+2.06226130e-06j, 0.001794  -2.35795217e-06j,\n",
       "        0.00207646+0.00000000e+00j, 0.00182473-2.99864413e-06j,\n",
       "        0.00180994-7.70331702e-06j, 0.0018208 -9.13329702e-06j,\n",
       "        0.00182941-2.04179976e-05j, 0.00183509-2.45022537e-05j,\n",
       "        0.00184052-2.77593736e-05j, 0.00184   -3.19424118e-05j,\n",
       "        0.00184494-3.74003902e-05j, 0.00184634-3.73942467e-05j],\n",
       "       [0.00152129-1.51425209e-05j, 0.0016072 -6.38974878e-06j,\n",
       "        0.0016682 -9.32032845e-07j, 0.00171472+2.60279565e-06j,\n",
       "        0.00174732+5.21638498e-06j, 0.00177787+2.48210234e-06j,\n",
       "        0.00182473+2.99864413e-06j, 0.00211456+0.00000000e+00j,\n",
       "        0.00184878-5.63452572e-06j, 0.00183417-7.00864805e-06j,\n",
       "        0.00184543-1.89032868e-05j, 0.00185467-2.22902109e-05j,\n",
       "        0.00185855-2.68399754e-05j, 0.00185771-2.92603401e-05j,\n",
       "        0.00186147-3.60263348e-05j, 0.00186428-3.66355291e-05j],\n",
       "       [0.00152857-9.80404512e-06j, 0.00161491-2.84620808e-06j,\n",
       "        0.0016752 +3.40806249e-06j, 0.00172287+6.29594739e-06j,\n",
       "        0.00175536+1.03160117e-05j, 0.00178644+6.48865825e-06j,\n",
       "        0.00180994+7.70331702e-06j, 0.00184878+5.63452572e-06j,\n",
       "        0.00214803+0.00000000e+00j, 0.00186943-4.40824849e-06j,\n",
       "        0.00185946-1.25071420e-05j, 0.00187076-1.81197468e-05j,\n",
       "        0.00187334-2.30886615e-05j, 0.00187218-2.54866070e-05j,\n",
       "        0.00187735-3.08475856e-05j, 0.00187973-3.13870593e-05j],\n",
       "       [0.00153448-8.58859889e-06j, 0.0016216 -1.32798153e-06j,\n",
       "        0.00168135+7.38471290e-06j, 0.00172968+9.13814797e-06j,\n",
       "        0.00176233+1.22953660e-05j, 0.0017947 +8.72406038e-06j,\n",
       "        0.0018208 +9.13329702e-06j, 0.00183417+7.00864805e-06j,\n",
       "        0.00186943+4.40824849e-06j, 0.00218164+0.00000000e+00j,\n",
       "        0.00188735-1.42200301e-05j, 0.00188097-1.71290728e-05j,\n",
       "        0.00188725-1.98493456e-05j, 0.00188718-2.26434689e-05j,\n",
       "        0.00189319-2.85633184e-05j, 0.00189561-2.89502299e-05j],\n",
       "       [0.00154155+2.13908444e-06j, 0.00162877+9.61113833e-06j,\n",
       "        0.00168936+1.72102152e-05j, 0.00173676+1.92983021e-05j,\n",
       "        0.00177071+2.34575563e-05j, 0.00180322+1.97623275e-05j,\n",
       "        0.00182941+2.04179976e-05j, 0.00184543+1.89032868e-05j,\n",
       "        0.00185946+1.25071420e-05j, 0.00188735+1.42200301e-05j,\n",
       "        0.00222758+0.00000000e+00j, 0.00191566-3.97673685e-06j,\n",
       "        0.00189839-8.00392788e-06j, 0.0019048 -1.22055000e-05j,\n",
       "        0.00191062-1.77660602e-05j, 0.00191178-1.77558439e-05j],\n",
       "       [0.00154777+3.89779285e-06j, 0.00163601+1.29801604e-05j,\n",
       "        0.00169706+1.98689844e-05j, 0.0017437 +2.29861615e-05j,\n",
       "        0.0017784 +2.73206945e-05j, 0.00181103+2.35175379e-05j,\n",
       "        0.00183509+2.45022537e-05j, 0.00185467+2.22902109e-05j,\n",
       "        0.00187076+1.81197468e-05j, 0.00188097+1.71290728e-05j,\n",
       "        0.00191566+3.97673685e-06j, 0.00226367+0.00000000e+00j,\n",
       "        0.0019327 -3.19808956e-06j, 0.00191305-7.98085136e-06j,\n",
       "        0.00192314-1.32170848e-05j, 0.001926  -1.40207937e-05j],\n",
       "       [0.00155051+7.43362671e-06j, 0.00163911+1.63002989e-05j,\n",
       "        0.00169939+2.16732042e-05j, 0.00174851+2.73717700e-05j,\n",
       "        0.00178213+3.00347289e-05j, 0.00181671+2.63124082e-05j,\n",
       "        0.00184052+2.77593736e-05j, 0.00185855+2.68399754e-05j,\n",
       "        0.00187334+2.30886615e-05j, 0.00188725+1.98493456e-05j,\n",
       "        0.00189839+8.00392788e-06j, 0.0019327 +3.19808956e-06j,\n",
       "        0.00229568+0.00000000e+00j, 0.00194092-3.72789301e-06j,\n",
       "        0.00192861-8.19955956e-06j, 0.00193251-1.08421245e-05j],\n",
       "       [0.00155004+9.57095235e-06j, 0.00163859+1.85434184e-05j,\n",
       "        0.00170058+2.78898253e-05j, 0.00174796+3.05463112e-05j,\n",
       "        0.00178172+3.30640151e-05j, 0.00181465+3.16542788e-05j,\n",
       "        0.00184   +3.19424118e-05j, 0.00185771+2.92603401e-05j,\n",
       "        0.00187218+2.54866070e-05j, 0.00188718+2.26434689e-05j,\n",
       "        0.0019048 +1.22055000e-05j, 0.00191305+7.98085136e-06j,\n",
       "        0.00194092+3.72789301e-06j, 0.0023301 +0.00000000e+00j,\n",
       "        0.00195145-6.42723066e-06j, 0.00193867-7.32634470e-06j],\n",
       "       [0.0015536 +1.50141555e-05j, 0.0016425 +2.22915923e-05j,\n",
       "        0.00170275+3.27821329e-05j, 0.00175152+3.62345835e-05j,\n",
       "        0.00178538+3.98912917e-05j, 0.0018203 +3.65276444e-05j,\n",
       "        0.00184494+3.74003902e-05j, 0.00186147+3.60263348e-05j,\n",
       "        0.00187735+3.08475856e-05j, 0.00189319+2.85633184e-05j,\n",
       "        0.00191062+1.77660602e-05j, 0.00192314+1.32170848e-05j,\n",
       "        0.00192861+8.19955956e-06j, 0.00195145+6.42723066e-06j,\n",
       "        0.00239522+0.00000000e+00j, 0.00206554-2.86971814e-07j],\n",
       "       [0.00155521+1.36823191e-05j, 0.00164324+2.30699081e-05j,\n",
       "        0.00170578+3.22238058e-05j, 0.00175381+3.57355942e-05j,\n",
       "        0.00178748+3.87021504e-05j, 0.00182062+3.56181617e-05j,\n",
       "        0.00184634+3.73942467e-05j, 0.00186428+3.66355291e-05j,\n",
       "        0.00187973+3.13870593e-05j, 0.00189561+2.89502299e-05j,\n",
       "        0.00191178+1.77558439e-05j, 0.001926  +1.40207937e-05j,\n",
       "        0.00193251+1.08421245e-05j, 0.00193867+7.32634470e-06j,\n",
       "        0.00206554+2.86971814e-07j, 0.00248502+0.00000000e+00j]])"
      ]
     },
     "execution_count": 28,
     "metadata": {},
     "output_type": "execute_result"
    }
   ],
   "source": [
    "np.cov(w,rowvar=False)"
   ]
  },
  {
   "cell_type": "code",
   "execution_count": null,
   "metadata": {},
   "outputs": [],
   "source": []
  }
 ],
 "metadata": {
  "anaconda-cloud": {},
  "kernelspec": {
   "display_name": "Python [conda env:py37]",
   "language": "python",
   "name": "conda-env-py37-py"
  },
  "language_info": {
   "codemirror_mode": {
    "name": "ipython",
    "version": 3
   },
   "file_extension": ".py",
   "mimetype": "text/x-python",
   "name": "python",
   "nbconvert_exporter": "python",
   "pygments_lexer": "ipython3",
   "version": "3.7.2"
  }
 },
 "nbformat": 4,
 "nbformat_minor": 2
}
