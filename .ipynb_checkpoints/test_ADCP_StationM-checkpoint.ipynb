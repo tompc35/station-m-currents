{
 "cells": [
  {
   "cell_type": "code",
   "execution_count": 1,
   "metadata": {},
   "outputs": [],
   "source": [
    "%matplotlib ipympl\n",
    "\n",
    "import os\n",
    "import numpy as np\n",
    "import matplotlib.pyplot as plt\n",
    "import utide\n",
    "import matplotlib.dates as mdates\n",
    "import gsw\n",
    "from physoce import tseries as ts\n",
    "import otis_tide_pred as otp\n",
    "from adcp_processing import rditext_to_dataset"
   ]
  },
  {
   "cell_type": "code",
   "execution_count": 2,
   "metadata": {},
   "outputs": [],
   "source": [
    "data_dir = '/Users/tomconnolly/work/Data/MBARI_Station_M/ADCP'\n",
    "data_filename = 'MBARI_StationM_ADCP_201711_201811.txt'\n",
    "data_path = os.path.join(data_dir,data_filename)"
   ]
  },
  {
   "cell_type": "code",
   "execution_count": 3,
   "metadata": {},
   "outputs": [],
   "source": [
    "ds = rditext_to_dataset(data_path)\n",
    "\n",
    "t1 = np.datetime64('2017-11-10 02:00')\n",
    "t2 = np.datetime64('2018-10-17 02:00')\n",
    "\n",
    "ii, = np.where((ds['time'] >= t1) & (ds['time'] <= t2))\n",
    "ds = ds.isel(time=ii)\n",
    "\n",
    "ds['Eas'] = ds['Eas']/1000\n",
    "ds['Nor'] = ds['Nor']/1000"
   ]
  },
  {
   "cell_type": "code",
   "execution_count": 4,
   "metadata": {},
   "outputs": [
    {
     "data": {
      "text/plain": [
       "<xarray.Dataset>\n",
       "Dimensions:    (beam: 4, bin: 23, time: 98196)\n",
       "Coordinates:\n",
       "  * time       (time) datetime64[ns] 2017-11-10T10:03:13.760000 ...\n",
       "Dimensions without coordinates: beam, bin\n",
       "Data variables:\n",
       "    Pit        (time) float64 6.91 6.92 6.92 6.93 6.94 6.94 6.94 6.95 6.95 ...\n",
       "    Rol        (time) float64 -0.07 -0.08 -0.09 -0.1 -0.1 -0.11 -0.11 -0.11 ...\n",
       "    Hea        (time) float64 277.2 277.3 277.3 277.2 277.3 277.3 277.3 ...\n",
       "    Tem        (time) float64 1.43 1.42 1.42 1.42 1.42 1.42 1.42 1.42 1.42 ...\n",
       "    Dep        (time) float64 4e+03 4e+03 4e+03 4e+03 4e+03 4e+03 4e+03 ...\n",
       "    Ori        (time) int64 1 1 1 1 1 1 1 1 1 1 1 1 1 1 1 1 1 1 1 1 1 1 1 1 ...\n",
       "    BIT        (time) int64 0 0 0 0 0 0 0 0 0 0 0 0 0 0 0 0 0 0 0 0 0 0 0 0 ...\n",
       "    Bat        (time) int64 117 117 117 117 117 117 117 116 117 117 116 117 ...\n",
       "    Eas        (time, bin) float64 0.036 0.035 0.027 0.027 0.057 0.023 0.046 ...\n",
       "    Nor        (time, bin) float64 0.017 0.025 -0.011 0.011 0.007 0.003 ...\n",
       "    Ver        (time, bin) float64 5.0 0.0 1.0 0.0 -5.0 -3.0 -4.0 3.0 -5.0 ...\n",
       "    Err        (time, bin) float64 0.0 16.0 21.0 -6.0 5.0 3.0 2.0 -1.0 0.0 ...\n",
       "    EA         (time, bin, beam) float64 98.0 95.0 98.0 104.0 92.0 90.0 99.0 ...\n",
       "    PG         (time, bin, beam) float64 0.0 0.0 0.0 100.0 0.0 0.0 0.0 100.0 ...\n",
       "    C          (time, bin, beam) float64 131.0 129.0 129.0 127.0 130.0 128.0 ...\n",
       "    binheight  (bin) float64 2.14 3.14 4.14 5.14 6.14 7.14 8.14 9.14 10.14 ...\n",
       "Attributes:\n",
       "    Pings/Ens:            50\n",
       "    Time/Ping:            00:00.20\n",
       "    First Ensemble Date:  17/11/10\n",
       "    First Ensemble Time:  06:43:13.76\n",
       "    Ensemble Interval:    87.19\n",
       "    1st Bin Range:        2.14\n",
       "    Bin Size:             1.0\n",
       "    RDI binary file:      C:\\Users\\PHYSOCE\\Documents\\data\\MBARI_StationM_ADCP...\n",
       "    Instrument:           Broadband 614.4 kHz"
      ]
     },
     "execution_count": 4,
     "metadata": {},
     "output_type": "execute_result"
    }
   ],
   "source": [
    "ds"
   ]
  },
  {
   "cell_type": "code",
   "execution_count": 5,
   "metadata": {},
   "outputs": [
    {
     "data": {
      "application/vnd.jupyter.widget-view+json": {
       "model_id": "ad7b52bb5f704fed852249e38786e4d4",
       "version_major": 2,
       "version_minor": 0
      },
      "text/plain": [
       "FigureCanvasNbAgg()"
      ]
     },
     "metadata": {},
     "output_type": "display_data"
    }
   ],
   "source": [
    "plt.figure()\n",
    "plt.plot(ds['time'],ds['Eas'][:,:15]);"
   ]
  },
  {
   "cell_type": "code",
   "execution_count": 6,
   "metadata": {},
   "outputs": [
    {
     "data": {
      "application/vnd.jupyter.widget-view+json": {
       "model_id": "8e1f5fb1a0f24a56ac39ce3655112f45",
       "version_major": 2,
       "version_minor": 0
      },
      "text/plain": [
       "FigureCanvasNbAgg()"
      ]
     },
     "metadata": {},
     "output_type": "display_data"
    },
    {
     "data": {
      "text/plain": [
       "<matplotlib.legend.Legend at 0x12052ea58>"
      ]
     },
     "execution_count": 6,
     "metadata": {},
     "output_type": "execute_result"
    }
   ],
   "source": [
    "bini = np.arange(1,17)\n",
    "\n",
    "plt.figure()\n",
    "plt.plot(np.mean(ds['Eas'][:,bini],axis=0),ds['binheight'][bini],'-o')\n",
    "plt.plot(np.mean(ds['Nor'][:,bini],axis=0),ds['binheight'][bini],'-o')\n",
    "plt.title('mean velocity')\n",
    "plt.legend(['East','North'])"
   ]
  },
  {
   "cell_type": "code",
   "execution_count": 7,
   "metadata": {},
   "outputs": [
    {
     "data": {
      "application/vnd.jupyter.widget-view+json": {
       "model_id": "911970bb216643f3ab3d7c04849a6f05",
       "version_major": 2,
       "version_minor": 0
      },
      "text/plain": [
       "FigureCanvasNbAgg()"
      ]
     },
     "metadata": {},
     "output_type": "display_data"
    },
    {
     "data": {
      "text/plain": [
       "(-0.1507, 0.12870000000000001, -0.12914999999999999, 0.11615)"
      ]
     },
     "execution_count": 7,
     "metadata": {},
     "output_type": "execute_result"
    }
   ],
   "source": [
    "plt.figure()\n",
    "plt.plot(ds['Eas'][:,1],ds['Nor'][:,1],'.')\n",
    "plt.gca().axis('equal')"
   ]
  },
  {
   "cell_type": "code",
   "execution_count": 8,
   "metadata": {},
   "outputs": [
    {
     "data": {
      "application/vnd.jupyter.widget-view+json": {
       "model_id": "ceefed1743f644a7a103fd793d63952d",
       "version_major": 2,
       "version_minor": 0
      },
      "text/plain": [
       "FigureCanvasNbAgg()"
      ]
     },
     "metadata": {},
     "output_type": "display_data"
    }
   ],
   "source": [
    "plt.figure()\n",
    "plt.plot(ds['time'],ds['C'][:,:,3]);"
   ]
  },
  {
   "cell_type": "code",
   "execution_count": 9,
   "metadata": {},
   "outputs": [
    {
     "name": "stdout",
     "output_type": "stream",
     "text": [
      "solve: matrix prep ... solution ... diagnostics ... done.\n"
     ]
    }
   ],
   "source": [
    "time = mdates.date2num(ds['time'])\n",
    "\n",
    "coef = utide.solve(time, ds['Eas'][:,1], ds['Nor'][:,1],\n",
    "             lat=34+50/60)"
   ]
  },
  {
   "cell_type": "code",
   "execution_count": 10,
   "metadata": {},
   "outputs": [
    {
     "name": "stdout",
     "output_type": "stream",
     "text": [
      "prep/calcs ... done.\n"
     ]
    }
   ],
   "source": [
    "tide = utide.reconstruct(time, coef)"
   ]
  },
  {
   "cell_type": "code",
   "execution_count": 11,
   "metadata": {},
   "outputs": [
    {
     "data": {
      "text/plain": [
       "{'u': array([-0.02162982, -0.0219283 , -0.02222859, ..., -0.01404612,\n",
       "        -0.0142757 , -0.01447811]),\n",
       " 'v': array([-0.00498658, -0.00359198, -0.00220201, ..., -0.0101067 ,\n",
       "        -0.00979468, -0.00944186])}"
      ]
     },
     "execution_count": 11,
     "metadata": {},
     "output_type": "execute_result"
    }
   ],
   "source": [
    "tide"
   ]
  },
  {
   "cell_type": "code",
   "execution_count": 45,
   "metadata": {},
   "outputs": [
    {
     "name": "stdout",
     "output_type": "stream",
     "text": [
      "['2017-11-10T02:03:13.760000000-0800' '2017-11-10T02:08:13.760000000-0800'\n",
      " '2017-11-10T02:13:13.760000000-0800' ...,\n",
      " '2018-10-17T01:48:13.720000000-0700' '2018-10-17T01:53:13.720000000-0700'\n",
      " '2018-10-17T01:58:13.720000000-0700'] <class 'numpy.ndarray'>\n",
      "Interpolating consituent: M2...\n",
      "Interpolating consituent: S2...\n",
      "Interpolating consituent: N2...\n",
      "Interpolating consituent: K2...\n",
      "Interpolating consituent: K1...\n",
      "Interpolating consituent: O1...\n",
      "Interpolating consituent: P1...\n",
      "Interpolating consituent: Q1...\n"
     ]
    }
   ],
   "source": [
    "modfile = '/Users/tomconnolly/work/Data/OSU_TPXO/tpxo9/Model_tpxo9'\n",
    "lon = np.array([-123.+360])\n",
    "lat = np.array([34+50/60])\n",
    "h_tpxo, u_tpxo, v_tpxo = otp.tide_pred(modfile, lon=lon, lat=lat, time=np.array(ds['time']),conlist=None);\n",
    "#h_tpxo, u_tpxo, v_tpxo = otp.tide_pred(modfile, lon=lon, lat=lat, time=np.arange(ds['time']),conlist=None);"
   ]
  },
  {
   "cell_type": "code",
   "execution_count": 46,
   "metadata": {},
   "outputs": [
    {
     "name": "stderr",
     "output_type": "stream",
     "text": [
      "/Users/tomconnolly/programs/anaconda/lib/python3.5/site-packages/matplotlib/pyplot.py:537: RuntimeWarning: More than 20 figures have been opened. Figures created through the pyplot interface (`matplotlib.pyplot.figure`) are retained until explicitly closed and may consume too much memory. (To control this warning, see the rcParam `figure.max_open_warning`).\n",
      "  max_open_warning, RuntimeWarning)\n"
     ]
    },
    {
     "data": {
      "application/vnd.jupyter.widget-view+json": {
       "model_id": "17c0d7de23514f348b418924a198fa52",
       "version_major": 2,
       "version_minor": 0
      },
      "text/plain": [
       "FigureCanvasNbAgg()"
      ]
     },
     "metadata": {},
     "output_type": "display_data"
    },
    {
     "data": {
      "text/plain": [
       "[<matplotlib.lines.Line2D at 0x143857ba8>]"
      ]
     },
     "execution_count": 46,
     "metadata": {},
     "output_type": "execute_result"
    }
   ],
   "source": [
    "plt.figure()\n",
    "plt.plot(ds['time'],tide['u'])\n",
    "plt.plot(ds['time'],tide['v'])"
   ]
  },
  {
   "cell_type": "code",
   "execution_count": 47,
   "metadata": {},
   "outputs": [
    {
     "name": "stderr",
     "output_type": "stream",
     "text": [
      "/Users/tomconnolly/programs/anaconda/lib/python3.5/site-packages/matplotlib/pyplot.py:537: RuntimeWarning: More than 20 figures have been opened. Figures created through the pyplot interface (`matplotlib.pyplot.figure`) are retained until explicitly closed and may consume too much memory. (To control this warning, see the rcParam `figure.max_open_warning`).\n",
      "  max_open_warning, RuntimeWarning)\n"
     ]
    },
    {
     "data": {
      "application/vnd.jupyter.widget-view+json": {
       "model_id": "41a4abad863e4513b3077fc18a4e255d",
       "version_major": 2,
       "version_minor": 0
      },
      "text/plain": [
       "FigureCanvasNbAgg()"
      ]
     },
     "metadata": {},
     "output_type": "display_data"
    },
    {
     "data": {
      "text/plain": [
       "<matplotlib.legend.Legend at 0x14a28b240>"
      ]
     },
     "execution_count": 47,
     "metadata": {},
     "output_type": "execute_result"
    }
   ],
   "source": [
    "plt.figure()\n",
    "plt.plot(ds['time'],tide['u'])\n",
    "plt.plot(ds['time'],u_tpxo)\n",
    "plt.legend(['obs','tpxo'])"
   ]
  },
  {
   "cell_type": "code",
   "execution_count": 48,
   "metadata": {},
   "outputs": [
    {
     "name": "stderr",
     "output_type": "stream",
     "text": [
      "/Users/tomconnolly/programs/anaconda/lib/python3.5/site-packages/matplotlib/pyplot.py:537: RuntimeWarning: More than 20 figures have been opened. Figures created through the pyplot interface (`matplotlib.pyplot.figure`) are retained until explicitly closed and may consume too much memory. (To control this warning, see the rcParam `figure.max_open_warning`).\n",
      "  max_open_warning, RuntimeWarning)\n"
     ]
    },
    {
     "data": {
      "application/vnd.jupyter.widget-view+json": {
       "model_id": "607bd23377e4454782203aa06fb01d10",
       "version_major": 2,
       "version_minor": 0
      },
      "text/plain": [
       "FigureCanvasNbAgg()"
      ]
     },
     "metadata": {},
     "output_type": "display_data"
    },
    {
     "data": {
      "text/plain": [
       "<matplotlib.legend.Legend at 0x14a2f62e8>"
      ]
     },
     "execution_count": 48,
     "metadata": {},
     "output_type": "execute_result"
    }
   ],
   "source": [
    "plt.figure()\n",
    "plt.plot(ds['time'],tide['v'])\n",
    "plt.plot(ds['time'],v_tpxo)\n",
    "plt.legend(['obs','tpxo'])"
   ]
  },
  {
   "cell_type": "code",
   "execution_count": 16,
   "metadata": {},
   "outputs": [
    {
     "data": {
      "application/vnd.jupyter.widget-view+json": {
       "model_id": "3cd528a4885d4dd88e7ea32af405b021",
       "version_major": 2,
       "version_minor": 0
      },
      "text/plain": [
       "FigureCanvasNbAgg()"
      ]
     },
     "metadata": {},
     "output_type": "display_data"
    },
    {
     "data": {
      "text/plain": [
       "(-0.059456288918543848,\n",
       " 0.043741087466988217,\n",
       " -0.062158005718140681,\n",
       " 0.055580319885542961)"
      ]
     },
     "execution_count": 16,
     "metadata": {},
     "output_type": "execute_result"
    }
   ],
   "source": [
    "plt.figure()\n",
    "plt.plot(tide['u'],tide['v'],'.')\n",
    "plt.gca().axis('equal')"
   ]
  },
  {
   "cell_type": "code",
   "execution_count": 17,
   "metadata": {},
   "outputs": [
    {
     "data": {
      "application/vnd.jupyter.widget-view+json": {
       "model_id": "5daecb35f6ee4f458bcc9b8b40a3e663",
       "version_major": 2,
       "version_minor": 0
      },
      "text/plain": [
       "FigureCanvasNbAgg()"
      ]
     },
     "metadata": {},
     "output_type": "display_data"
    },
    {
     "data": {
      "text/plain": [
       "[<matplotlib.lines.Line2D at 0x120cc2a90>]"
      ]
     },
     "execution_count": 17,
     "metadata": {},
     "output_type": "execute_result"
    }
   ],
   "source": [
    "plt.figure()\n",
    "plt.plot(ds['time'],ds['Eas'][:,1]-tide['u'])\n",
    "plt.plot(ds['time'],ds['Nor'][:,1]-tide['v'])"
   ]
  },
  {
   "cell_type": "code",
   "execution_count": 18,
   "metadata": {},
   "outputs": [],
   "source": [
    "ds['Eas_filt'] = (['time','bin'],ts.pl66(ds['Eas'],T=33*12))\n",
    "ds['Nor_filt'] = (['time','bin'],ts.pl66(ds['Nor'],T=33*12))"
   ]
  },
  {
   "cell_type": "code",
   "execution_count": 19,
   "metadata": {},
   "outputs": [
    {
     "data": {
      "application/vnd.jupyter.widget-view+json": {
       "model_id": "863298ffa157477db46231f1f8b4f366",
       "version_major": 2,
       "version_minor": 0
      },
      "text/plain": [
       "FigureCanvasNbAgg()"
      ]
     },
     "metadata": {},
     "output_type": "display_data"
    },
    {
     "data": {
      "text/plain": [
       "[<matplotlib.lines.Line2D at 0x11f4eb9e8>]"
      ]
     },
     "execution_count": 19,
     "metadata": {},
     "output_type": "execute_result"
    }
   ],
   "source": [
    "plt.figure()\n",
    "plt.plot(ds['time'],ds['Eas_filt'][:,bini],'r-')\n",
    "plt.plot(ds['time'],ds['Nor_filt'][:,bini],'b-')\n",
    "plt.plot(ds['time'],np.zeros(len(ds['time'])),'k--')"
   ]
  },
  {
   "cell_type": "code",
   "execution_count": 20,
   "metadata": {},
   "outputs": [
    {
     "data": {
      "text/plain": [
       "0.87297361174919408"
      ]
     },
     "execution_count": 20,
     "metadata": {},
     "output_type": "execute_result"
    }
   ],
   "source": [
    "# intertial period (days)\n",
    "T = 2*np.pi/gsw.f(34+50/60)/86400\n",
    "T"
   ]
  },
  {
   "cell_type": "markdown",
   "metadata": {},
   "source": [
    "### Future processing steps\n",
    "* Fill small gaps\n",
    "* QC based on correlation, percent good, etc.\n",
    "\n",
    "### Ideas for future analysis\n",
    "\n",
    "* Wavelet analysis: isolate time variability of inertial band\n",
    "* Relate inertial currents to local wind\n",
    "* Complex correlation of low-pass filtered currents\n",
    "* Is low frequency variability due to eddies? Relate to satellite altimeter data\n",
    "* Explore relationship to local and remote wind stress curl\n",
    "* Read Clarke paper on (\"too fast\") Rossby wave propagation in CalCOFI region\n",
    "* Compare tidal currents to OSU model"
   ]
  },
  {
   "cell_type": "code",
   "execution_count": null,
   "metadata": {},
   "outputs": [],
   "source": []
  }
 ],
 "metadata": {
  "kernelspec": {
   "display_name": "Python [default]",
   "language": "python",
   "name": "python3"
  },
  "language_info": {
   "codemirror_mode": {
    "name": "ipython",
    "version": 3
   },
   "file_extension": ".py",
   "mimetype": "text/x-python",
   "name": "python",
   "nbconvert_exporter": "python",
   "pygments_lexer": "ipython3",
   "version": "3.5.5"
  }
 },
 "nbformat": 4,
 "nbformat_minor": 2
}
