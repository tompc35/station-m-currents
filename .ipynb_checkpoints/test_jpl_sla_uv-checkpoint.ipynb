{
 "cells": [
  {
   "cell_type": "code",
   "execution_count": 81,
   "metadata": {},
   "outputs": [],
   "source": [
    "import numpy as np\n",
    "import pandas as pd\n",
    "import xarray as xr\n",
    "import matplotlib.pyplot as plt\n",
    "import gsw"
   ]
  },
  {
   "cell_type": "markdown",
   "metadata": {},
   "source": [
    "ssh_grids_v1609_2015112612_i.nc"
   ]
  },
  {
   "cell_type": "code",
   "execution_count": 33,
   "metadata": {},
   "outputs": [],
   "source": [
    "t1 = np.datetime64('2015-11-26T12:00Z')\n",
    "t2 = np.datetime64('2018-06-18T12:00Z')"
   ]
  },
  {
   "cell_type": "code",
   "execution_count": 34,
   "metadata": {},
   "outputs": [],
   "source": [
    "date_list = pd.to_datetime(np.arange(t1,t2,np.timedelta64(5,'D')))"
   ]
  },
  {
   "cell_type": "code",
   "execution_count": 35,
   "metadata": {},
   "outputs": [
    {
     "data": {
      "text/plain": [
       "DatetimeIndex(['2015-11-26 12:00:00', '2015-12-01 12:00:00',\n",
       "               '2015-12-06 12:00:00', '2015-12-11 12:00:00',\n",
       "               '2015-12-16 12:00:00', '2015-12-21 12:00:00',\n",
       "               '2015-12-26 12:00:00', '2015-12-31 12:00:00',\n",
       "               '2016-01-05 12:00:00', '2016-01-10 12:00:00',\n",
       "               ...\n",
       "               '2018-04-29 12:00:00', '2018-05-04 12:00:00',\n",
       "               '2018-05-09 12:00:00', '2018-05-14 12:00:00',\n",
       "               '2018-05-19 12:00:00', '2018-05-24 12:00:00',\n",
       "               '2018-05-29 12:00:00', '2018-06-03 12:00:00',\n",
       "               '2018-06-08 12:00:00', '2018-06-13 12:00:00'],\n",
       "              dtype='datetime64[ns]', length=187, freq=None)"
      ]
     },
     "execution_count": 35,
     "metadata": {},
     "output_type": "execute_result"
    }
   ],
   "source": [
    "date_list"
   ]
  },
  {
   "cell_type": "code",
   "execution_count": 79,
   "metadata": {},
   "outputs": [],
   "source": [
    "lon = -123+360\n",
    "lat = 34+50/60\n",
    "\n",
    "g = 9.8\n",
    "\n",
    "sla = np.nan*np.zeros(len(date_list))\n",
    "sla_err = np.nan*np.zeros(len(date_list))\n",
    "ua = np.nan*np.zeros(len(date_list))\n",
    "va = np.nan*np.zeros(len(date_list))\n",
    "\n",
    "file_prefix = 'https://podaac-opendap.jpl.nasa.gov:443/opendap/allData/merged_alt/L4/cdr_grid_interim/ssh_grids_v1609_'\n",
    "file_suffix = '_i.nc'\n",
    "\n",
    "print('downloading SLA data...')\n",
    "for ti,file_date in enumerate(date_list):\n",
    "    \n",
    "    if ti % 10 == 0:\n",
    "        print('file '+str(ti)+'/'+str(len(date_list)))\n",
    "\n",
    "    file_datestr = str(file_date.year)+str(file_date.month).zfill(2)+str(file_date.day).zfill(2)+str(file_date.hour).zfill(2)\n",
    "\n",
    "    file_url = file_prefix+file_datestr+file_suffix\n",
    "\n",
    "    with xr.open_dataset(file_url,decode_times=False) as ds_alt:\n",
    "\n",
    "        if ti == 0:\n",
    "            ii = int(np.argmin(np.abs(ds_alt['Latitude']-lat)))\n",
    "            jj = int(np.argmin(np.abs(ds_alt['Longitude']-lon)))\n",
    "            lat_grid = ds_alt['Latitude'][ii]\n",
    "            lon_grid = ds_alt['Longitude'][jj]\n",
    "            dlat = ds_alt['Latitude'][ii+1]-ds_alt['Latitude'][ii-1]\n",
    "            dlon = ds_alt['Longitude'][jj+1]-ds_alt['Longitude'][jj-1]\n",
    "            dy = dlat*111.32*1000 # distance in meters\n",
    "            dx = dlon*111*1000*np.cos(lat_grid*np.pi/180)\n",
    "            f = gsw.f(lat_grid) # Coriolis parameter\n",
    "\n",
    "        sla[ti] = np.squeeze(ds_alt['SLA'][0,jj,ii])\n",
    "        sla_err[ti] = np.squeeze(ds_alt['SLA_ERR'][0,jj,ii])\n",
    "\n",
    "        ua[ti] = -(g/f)*np.squeeze(ds_alt['SLA'][0,jj,ii+1]-ds_alt['SLA'][0,jj,ii-1])/dy\n",
    "        va[ti] = (g/f)*np.squeeze(ds_alt['SLA'][0,jj+1,ii]-ds_alt['SLA'][0,jj-1,ii])/dx\n",
    "        \n",
    "print('download finished')"
   ]
  },
  {
   "cell_type": "code",
   "execution_count": 74,
   "metadata": {},
   "outputs": [
    {
     "data": {
      "text/plain": [
       "<xarray.Dataset>\n",
       "Dimensions:      (Latitude: 960, Longitude: 2160, Time: 1, nv: 2)\n",
       "Coordinates:\n",
       "  * Longitude    (Longitude) float32 0.0833333 0.25 0.416667 0.583333 0.75 ...\n",
       "  * Latitude     (Latitude) float32 -79.9167 -79.75 -79.5833 -79.4167 -79.25 ...\n",
       "  * Time         (Time) float32 11286.5\n",
       "Dimensions without coordinates: nv\n",
       "Data variables:\n",
       "    Lon_bounds   (Longitude, nv) float32 ...\n",
       "    Lat_bounds   (Latitude, nv) float32 ...\n",
       "    Time_bounds  (Time, nv) float32 ...\n",
       "    SLA_ERR      (Time, Longitude, Latitude) float64 ...\n",
       "    SLA          (Time, Longitude, Latitude) float64 ...\n",
       "Attributes:\n",
       "    geospatial_lon_min:              0.0833333\n",
       "    geospatial_lat_max:              79.9167\n",
       "    time_coverage_end:               2015-11-26\n",
       "    title:                           Sea Level Anormaly Estimate based on Alt...\n",
       "    geospatial_lat_min:              -79.9167\n",
       "    version_number:                  1609\n",
       "    time_coverage_start:             2015-11-26\n",
       "    Conventions:                     CF-1.6\n",
       "    date_created:                    2017-01-21T18:15:08.850192\n",
       "    summary:                         Sea level anomaly grids from altimeter d...\n",
       "    ncei_template_version:           NCEI_NetCDF_Grid_Template_v2.0\n",
       "    Institution:                     Jet Propulsion Laboratory\n",
       "    geospatial_lon_max:              359.917\n",
       "    DODS_EXTRA.Unlimited_Dimension:  Time"
      ]
     },
     "execution_count": 74,
     "metadata": {},
     "output_type": "execute_result"
    }
   ],
   "source": [
    "ds_alt"
   ]
  },
  {
   "cell_type": "code",
   "execution_count": 84,
   "metadata": {},
   "outputs": [
    {
     "data": {
      "text/plain": [
       "[<matplotlib.lines.Line2D at 0x11c98ba20>,\n",
       " <matplotlib.lines.Line2D at 0x11cb61128>]"
      ]
     },
     "execution_count": 84,
     "metadata": {},
     "output_type": "execute_result"
    },
    {
     "data": {
      "image/png": "[encoded data removed]",
      "text/plain": [
       "<Figure size 432x288 with 1 Axes>"
      ]
     },
     "metadata": {},
     "output_type": "display_data"
    }
   ],
   "source": [
    "plt.figure()\n",
    "plt.plot(date_list,ua,date_list,va)"
   ]
  },
  {
   "cell_type": "code",
   "execution_count": 85,
   "metadata": {},
   "outputs": [],
   "source": [
    "ds = xr.Dataset({'sla': (('time'), sla),\n",
    "                 'sla_err': (('time'), sla_err),\n",
    "                 'ua': (('time'), ua),\n",
    "                 'va': (('time'), va)},\n",
    "                {'time': date_list, 'lon': lon_grid, 'lat': lat_grid})"
   ]
  },
  {
   "cell_type": "code",
   "execution_count": 86,
   "metadata": {},
   "outputs": [
    {
     "data": {
      "text/plain": [
       "<xarray.Dataset>\n",
       "Dimensions:    (time: 187)\n",
       "Coordinates:\n",
       "    Latitude   float32 34.75\n",
       "    Longitude  float32 236.917\n",
       "  * time       (time) datetime64[ns] 2015-11-26T12:00:00 2015-12-01T12:00:00 ...\n",
       "    lat        float32 34.75\n",
       "    lon        float32 236.917\n",
       "Data variables:\n",
       "    sla_err    (time) float64 0.0003265 0.0003097 0.0002969 0.0003184 ...\n",
       "    sla        (time) float64 0.07883 0.1451 0.1594 0.1814 0.1683 0.1802 ...\n",
       "    va         (time) float64 0.01828 0.03839 -0.03491 0.03984 0.08868 ...\n",
       "    ua         (time) float64 0.02197 0.04604 0.08303 0.07562 0.09546 ..."
      ]
     },
     "execution_count": 86,
     "metadata": {},
     "output_type": "execute_result"
    }
   ],
   "source": [
    "ds"
   ]
  },
  {
   "cell_type": "code",
   "execution_count": null,
   "metadata": {},
   "outputs": [],
   "source": []
  }
 ],
 "metadata": {
  "kernelspec": {
   "display_name": "Python [default]",
   "language": "python",
   "name": "python3"
  },
  "language_info": {
   "codemirror_mode": {
    "name": "ipython",
    "version": 3
   },
   "file_extension": ".py",
   "mimetype": "text/x-python",
   "name": "python",
   "nbconvert_exporter": "python",
   "pygments_lexer": "ipython3",
   "version": "3.5.5"
  }
 },
 "nbformat": 4,
 "nbformat_minor": 2
}
