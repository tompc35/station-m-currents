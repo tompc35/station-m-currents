{
 "cells": [
  {
   "cell_type": "code",
   "execution_count": 56,
   "metadata": {},
   "outputs": [],
   "source": [
    "%matplotlib ipympl\n",
    "\n",
    "import os\n",
    "import numpy as np\n",
    "import xarray as xr\n",
    "import matplotlib.pyplot as plt\n",
    "from scipy.integrate import cumtrapz\n",
    "from scipy.signal import welch"
   ]
  },
  {
   "cell_type": "code",
   "execution_count": 57,
   "metadata": {},
   "outputs": [],
   "source": [
    "ds = xr.open_dataset('data/MBARI_StationM_ADCP_201711_201811.nc')"
   ]
  },
  {
   "cell_type": "code",
   "execution_count": 58,
   "metadata": {},
   "outputs": [
    {
     "data": {
      "text/plain": [
       "<xarray.Dataset>\n",
       "Dimensions:    (beam: 4, bin: 23, time: 98208)\n",
       "Coordinates:\n",
       "  * time       (time) datetime64[ns] 2017-11-10T10:03:13.760000 ... 2018-10-17T09:58:13.720000\n",
       "Dimensions without coordinates: beam, bin\n",
       "Data variables:\n",
       "    Pit        (time) float64 ...\n",
       "    Rol        (time) float64 ...\n",
       "    Hea        (time) float64 ...\n",
       "    Tem        (time) float64 ...\n",
       "    Dep        (time) float64 ...\n",
       "    Ori        (time) int64 ...\n",
       "    BIT        (time) int64 ...\n",
       "    Bat        (time) int64 ...\n",
       "    Eas        (time, bin) float64 ...\n",
       "    Nor        (time, bin) float64 ...\n",
       "    Ver        (time, bin) float64 ...\n",
       "    Err        (time, bin) float64 ...\n",
       "    EA         (time, bin, beam) float64 ...\n",
       "    PG         (time, bin, beam) float64 ...\n",
       "    C          (time, bin, beam) float64 ...\n",
       "    binheight  (bin) float64 ...\n",
       "    Eas_tide   (time, bin) float64 ...\n",
       "    Nor_tide   (time, bin) float64 ...\n",
       "    Eas_filt   (time, bin) float64 ...\n",
       "    Nor_filt   (time, bin) float64 ...\n",
       "Attributes:\n",
       "    PingsPerEns:          50\n",
       "    TimePerPing:          00:00.20\n",
       "    First Ensemble Date:  17/11/10\n",
       "    First Ensemble Time:  06:43:13.76\n",
       "    Ensemble Interval:    87.19\n",
       "    1st Bin Range:        2.14\n",
       "    Bin Size:             1.0\n",
       "    RDI binary file:      C:\\Users\\PHYSOCE\\Documents\\data\\MBARI_StationM_ADCP...\n",
       "    Instrument:           Broadband 614.4 kHz"
      ]
     },
     "execution_count": 58,
     "metadata": {},
     "output_type": "execute_result"
    }
   ],
   "source": [
    "ds"
   ]
  },
  {
   "cell_type": "code",
   "execution_count": 68,
   "metadata": {},
   "outputs": [
    {
     "data": {
      "application/vnd.jupyter.widget-view+json": {
       "model_id": "e549705c9f7a49ef80cf64d9e8589525",
       "version_major": 2,
       "version_minor": 0
      },
      "text/plain": [
       "FigureCanvasNbAgg()"
      ]
     },
     "metadata": {},
     "output_type": "display_data"
    },
    {
     "data": {
      "text/plain": [
       "Text(0.5, 0, '[m/s]')"
      ]
     },
     "execution_count": 68,
     "metadata": {},
     "output_type": "execute_result"
    }
   ],
   "source": [
    "bini = np.arange(1,17)\n",
    "\n",
    "plt.figure()\n",
    "plt.plot(np.mean(ds['Eas'][:,bini],axis=0),ds['binheight'][bini],'-o')\n",
    "plt.plot(np.mean(ds['Nor'][:,bini],axis=0),ds['binheight'][bini],'-o')\n",
    "plt.title('mean velocity - entire deployment')\n",
    "plt.legend(['East','North'])\n",
    "plt.ylabel('height above instrument')\n",
    "plt.xlabel('[m/s]')"
   ]
  },
  {
   "cell_type": "code",
   "execution_count": 69,
   "metadata": {},
   "outputs": [],
   "source": [
    "dt = 5*60 # 5 min sample interval\n",
    "\n",
    "x = cumtrapz(ds['Eas'][100:-100]*dt,axis=0)\n",
    "y = cumtrapz(ds['Nor'][100:-100]*dt,axis=0)"
   ]
  },
  {
   "cell_type": "code",
   "execution_count": 70,
   "metadata": {},
   "outputs": [
    {
     "data": {
      "application/vnd.jupyter.widget-view+json": {
       "model_id": "03a2a124cde541b482db1d908aeb14ed",
       "version_major": 2,
       "version_minor": 0
      },
      "text/plain": [
       "FigureCanvasNbAgg()"
      ]
     },
     "metadata": {},
     "output_type": "display_data"
    },
    {
     "data": {
      "text/plain": [
       "(-130.4391300000003, 35.94093000000004, -166.31354249999794, 7.955992499999902)"
      ]
     },
     "execution_count": 70,
     "metadata": {},
     "output_type": "execute_result"
    }
   ],
   "source": [
    "plt.figure()\n",
    "plt.plot(x[:,15]/1000,y[:,15]/1000)\n",
    "plt.plot(0,0,'o')\n",
    "plt.axis('equal')"
   ]
  },
  {
   "cell_type": "code",
   "execution_count": 71,
   "metadata": {},
   "outputs": [
    {
     "data": {
      "application/vnd.jupyter.widget-view+json": {
       "model_id": "75b9c668247a4e2fa359d9aa3d36c22b",
       "version_major": 2,
       "version_minor": 0
      },
      "text/plain": [
       "FigureCanvasNbAgg()"
      ]
     },
     "metadata": {},
     "output_type": "display_data"
    },
    {
     "data": {
      "text/plain": [
       "Text(0.5, 1.0, 'eastward velocity')"
      ]
     },
     "execution_count": 71,
     "metadata": {},
     "output_type": "execute_result"
    }
   ],
   "source": [
    "plt.figure()\n",
    "plt.plot(ds['time'],ds['Eas'][:,15]);\n",
    "plt.plot(ds['time'],ds['Eas'][:,1]);\n",
    "plt.legend(['Bin 15','Bin 1'])\n",
    "plt.ylabel('m/s')\n",
    "plt.title('eastward velocity')"
   ]
  },
  {
   "cell_type": "code",
   "execution_count": 60,
   "metadata": {},
   "outputs": [
    {
     "data": {
      "application/vnd.jupyter.widget-view+json": {
       "model_id": "0b10535caffb4b029e8556146d155ab7",
       "version_major": 2,
       "version_minor": 0
      },
      "text/plain": [
       "FigureCanvasNbAgg()"
      ]
     },
     "metadata": {},
     "output_type": "display_data"
    },
    {
     "data": {
      "text/plain": [
       "Text(0.5, 1.0, 'full velocity, 2018-02-01-2018-02-15, bin 15')"
      ]
     },
     "execution_count": 60,
     "metadata": {},
     "output_type": "execute_result"
    }
   ],
   "source": [
    "t1=np.datetime64('2018-02-01')\n",
    "t2=np.datetime64('2018-02-15')\n",
    "\n",
    "plt.figure()\n",
    "plt.plot(ds['time'],ds['Eas'][:,15]);\n",
    "plt.plot(ds['time'],ds['Nor'][:,15]);\n",
    "plt.ylabel('m/s')\n",
    "plt.xlim([t1,t2])\n",
    "plt.ylim([-0.15,0.15])\n",
    "plt.legend(['East','North'])\n",
    "plt.title('full velocity, '+str(t1)+'-'+str(t2)+', bin 15')"
   ]
  },
  {
   "cell_type": "code",
   "execution_count": 61,
   "metadata": {},
   "outputs": [
    {
     "data": {
      "application/vnd.jupyter.widget-view+json": {
       "model_id": "6a4b93fb39c7479181e11c17bd506fa4",
       "version_major": 2,
       "version_minor": 0
      },
      "text/plain": [
       "FigureCanvasNbAgg()"
      ]
     },
     "metadata": {},
     "output_type": "display_data"
    },
    {
     "data": {
      "text/plain": [
       "Text(0.5, 1.0, 'detided velocity, 2018-02-01-2018-02-15, bin 15')"
      ]
     },
     "execution_count": 61,
     "metadata": {},
     "output_type": "execute_result"
    }
   ],
   "source": [
    "t1=np.datetime64('2018-02-01')\n",
    "t2=np.datetime64('2018-02-15')\n",
    "\n",
    "plt.figure()\n",
    "plt.plot(ds['time'],ds['Eas'][:,15]-ds['Eas_tide'][:,15]);\n",
    "plt.plot(ds['time'],ds['Nor'][:,15]-ds['Nor_tide'][:,15]);\n",
    "plt.legend(['Bin 15','Bin 1'])\n",
    "plt.ylabel('m/s')\n",
    "plt.ylim([-0.15,0.15])\n",
    "plt.xlim([t1,t2])\n",
    "plt.legend(['East','North'])\n",
    "plt.title('detided velocity, '+str(t1)+'-'+str(t2)+', bin 15')"
   ]
  },
  {
   "cell_type": "code",
   "execution_count": 65,
   "metadata": {},
   "outputs": [],
   "source": [
    "Eas = np.array(ds['Eas'])\n",
    "Nor = np.array(ds['Nor'])\n",
    "Eas_tide = np.array(ds['Eas_tide'])\n",
    "Nor_tide = np.array(ds['Nor_tide'])\n",
    "\n",
    "N = len(Eas)\n",
    "fE,SE = welch(Eas[:,5],fs=288.,nperseg=N/6,window='hanning')\n",
    "fN,SN = welch(Nor[:,5],fs=288.,nperseg=N/6,window='hanning')\n",
    "\n",
    "#rotary spectrum\n",
    "fr,Sr = welch(Eas[:,5]+1j*Nor[:,5],\n",
    "              fs=288.,nperseg=N/6,\n",
    "              window='hann',return_onesided=False)\n",
    "icw, = np.where(fr<0)\n",
    "iccw, = np.where(fr>0)\n",
    "fcw = -fr[icw]\n",
    "Scw = Sr[icw]\n",
    "fccw = fr[iccw]\n",
    "Sccw = Sr[iccw]"
   ]
  },
  {
   "cell_type": "code",
   "execution_count": 66,
   "metadata": {},
   "outputs": [
    {
     "data": {
      "application/vnd.jupyter.widget-view+json": {
       "model_id": "302412d59596454b931922ed0febe5b5",
       "version_major": 2,
       "version_minor": 0
      },
      "text/plain": [
       "FigureCanvasNbAgg()"
      ]
     },
     "metadata": {},
     "output_type": "display_data"
    },
    {
     "data": {
      "text/plain": [
       "<matplotlib.legend.Legend at 0x1c802af7b8>"
      ]
     },
     "execution_count": 66,
     "metadata": {},
     "output_type": "execute_result"
    }
   ],
   "source": [
    "plt.figure()\n",
    "plt.loglog(fcw,Scw)\n",
    "plt.loglog(fccw,Sccw)\n",
    "plt.legend(['CW','CCW'])"
   ]
  },
  {
   "cell_type": "code",
   "execution_count": 67,
   "metadata": {},
   "outputs": [
    {
     "name": "stderr",
     "output_type": "stream",
     "text": [
      "/Users/tomconnolly/programs/anaconda/envs/py37/lib/python3.7/site-packages/scipy/fftpack/basic.py:160: FutureWarning: Using a non-tuple sequence for multidimensional indexing is deprecated; use `arr[tuple(seq)]` instead of `arr[seq]`. In the future this will be interpreted as an array index, `arr[np.array(seq)]`, which will result either in an error or a different result.\n",
      "  z[index] = x\n"
     ]
    },
    {
     "data": {
      "application/vnd.jupyter.widget-view+json": {
       "model_id": "14c5f821b64245388b54a62a3359a7d3",
       "version_major": 2,
       "version_minor": 0
      },
      "text/plain": [
       "FigureCanvasNbAgg()"
      ]
     },
     "metadata": {},
     "output_type": "display_data"
    },
    {
     "name": "stderr",
     "output_type": "stream",
     "text": [
      "/Users/tomconnolly/programs/anaconda/envs/py37/lib/python3.7/site-packages/numpy/core/numeric.py:501: ComplexWarning: Casting complex values to real discards the imaginary part\n",
      "  return array(a, dtype, copy=False, order=order)\n"
     ]
    },
    {
     "data": {
      "application/vnd.jupyter.widget-view+json": {
       "model_id": "71d0ddaadd094e64a1e9bd33af267e90",
       "version_major": 2,
       "version_minor": 0
      },
      "text/plain": [
       "FigureCanvasNbAgg()"
      ]
     },
     "metadata": {},
     "output_type": "display_data"
    },
    {
     "data": {
      "text/plain": [
       "<matplotlib.contour.QuadContourSet at 0x1726048a58>"
      ]
     },
     "execution_count": 67,
     "metadata": {},
     "output_type": "execute_result"
    }
   ],
   "source": [
    "import pycwt as wavelet\n",
    "\n",
    "dat = Eas[:,0]\n",
    "dt = 1/288 # time step in days\n",
    "\n",
    "dat_nomean = dat - np.mean(dat)\n",
    "std = dat_nomean.std() \n",
    "var = std ** 2  \n",
    "dat_norm = dat_nomean / std \n",
    "\n",
    "mother = wavelet.Morlet(6)\n",
    "s0 = 2 * dt  # Starting scale\n",
    "dj = 1 / 30  # Twelve sub-octaves per octaves\n",
    "J = 9 / dj  # Seven powers of two with dj sub-octaves\n",
    "alpha, _, _ = wavelet.ar1(dat)  # Lag-1 autocorrelation for red noise\n",
    "\n",
    "wave, scales, freqs, coi, fft, fftfreqs = wavelet.cwt(dat_norm, dt, dj, s0, J,\n",
    "                                                      mother)\n",
    "iwave = wavelet.icwt(wave, scales, dt, dj, mother) * std\n",
    "\n",
    "power = (np.abs(wave)) ** 2\n",
    "#power /= scales[:, None]\n",
    "fft_power = np.abs(fft) ** 2\n",
    "period = 1 / freqs\n",
    "\n",
    "signif, fft_theor = wavelet.significance(1.0, dt, scales, 0, alpha,\n",
    "                                         significance_level=0.95,\n",
    "                                         wavelet=mother)\n",
    "sig95 = np.ones([1, N]) * signif[:, None]\n",
    "sig95 = power / sig95\n",
    "\n",
    "glbl_power = power.mean(axis=1)\n",
    "dof = N - scales  # Correction for padding at edges\n",
    "glbl_signif, tmp = wavelet.significance(var, dt, scales, 1, alpha,\n",
    "                                        significance_level=0.95, dof=dof,\n",
    "                                        wavelet=mother)\n",
    "\n",
    "t = np.array(ds['time'])\n",
    "\n",
    "# Prepare the figure\n",
    "plt.figure(figsize=(8,4))\n",
    "\n",
    "# First sub-plot, the original time series anomaly and inverse wavelet\n",
    "# transform.\n",
    "plt.plot(ds['time'], iwave, '-', linewidth=1, color=[0.5, 0.5, 0.5])\n",
    "plt.plot(ds['time'], dat, 'k', linewidth=1.5)\n",
    "\n",
    "# Second sub-plot, the normalized wavelet power spectrum and significance\n",
    "# level contour lines and cone of influece hatched area. Note that period\n",
    "# scale is logarithmic.\n",
    "plt.figure(figsize=(8,5))\n",
    "plt.contourf(t, period, np.log2(power), cmap=plt.cm.viridis)\n",
    "plt.colorbar()\n",
    "extent = [t.min(), t.max(), 0, max(period)]\n",
    "plt.contour(t, period, sig95, [-99, 1], colors='k', linewidths=2,\n",
    "           extent=extent)\n",
    "\n",
    "# bx.fill(np.concatenate([t, t[-1:] + dt, t[-1:] + dt,\n",
    "#                            t[:1] - dt, t[:1] - dt]),\n",
    "#         np.concatenate([np.log2(coi), [1e-9], np.log2(period[-1:]),\n",
    "#                            np.log2(period[-1:]), [1e-9]]),\n",
    "#         'k', alpha=0.3, hatch='x')\n",
    "# bx.set_title('b) {} Wavelet Power Spectrum ({})'.format(label, mother.name))\n",
    "# bx.set_ylabel('Period (years)')\n",
    "#\n",
    "# Yticks = 2 ** np.arange(np.ceil(np.log2(period.min())),\n",
    "#                            np.ceil(np.log2(period.max())))\n",
    "# bx.set_yticks(np.log2(Yticks))\n",
    "# bx.set_yticklabels(Yticks)"
   ]
  },
  {
   "cell_type": "markdown",
   "metadata": {},
   "source": [
    "### Future processing steps\n",
    "* Fill small gaps\n",
    "* QC based on correlation, percent good, etc.\n",
    "\n",
    "### Ideas for future analysis\n",
    "\n",
    "* Wavelet analysis: isolate time variability of inertial band\n",
    "* Relate inertial currents to local wind\n",
    "* Complex correlation of low-pass filtered currents\n",
    "* Is low frequency variability due to eddies? Relate to satellite altimeter data\n",
    "* Explore relationship to local and remote wind stress curl\n",
    "* Read Clarke paper on (\"too fast\") Rossby wave propagation in CalCOFI region\n",
    "* Compare tidal currents to OSU model\n",
    "* Progressive vector diagram\n",
    "* Rover data - Lomb-Scargle periodogram - analysis of eddy variability at O(100 day) periods - see Stabeno et al."
   ]
  },
  {
   "cell_type": "code",
   "execution_count": null,
   "metadata": {},
   "outputs": [],
   "source": []
  }
 ],
 "metadata": {
  "kernelspec": {
   "display_name": "Python [conda env:py37]",
   "language": "python",
   "name": "conda-env-py37-py"
  },
  "language_info": {
   "codemirror_mode": {
    "name": "ipython",
    "version": 3
   },
   "file_extension": ".py",
   "mimetype": "text/x-python",
   "name": "python",
   "nbconvert_exporter": "python",
   "pygments_lexer": "ipython3",
   "version": "3.7.1"
  }
 },
 "nbformat": 4,
 "nbformat_minor": 2
}
