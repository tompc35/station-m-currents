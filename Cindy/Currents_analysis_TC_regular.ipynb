{
 "cells": [
  {
   "cell_type": "code",
   "execution_count": 1,
   "metadata": {},
   "outputs": [],
   "source": [
    "%matplotlib ipympl\n",
    "import pandas as pd\n",
    "import numpy as np\n",
    "import matplotlib.pyplot as plt\n",
    "import physoce.tseries as ts\n",
    "from scipy.signal import welch\n",
    "import gsw"
   ]
  },
  {
   "cell_type": "code",
   "execution_count": 2,
   "metadata": {},
   "outputs": [],
   "source": [
    "current_file = '../data/Rover_II_Current_Mag_Hourly_Avg_pad_2018.csv'\n",
    "df = pd.read_csv(current_file,parse_dates=[1])"
   ]
  },
  {
   "cell_type": "code",
   "execution_count": 3,
   "metadata": {},
   "outputs": [
    {
     "data": {
      "text/html": [
       "<div>\n",
       "<style scoped>\n",
       "    .dataframe tbody tr th:only-of-type {\n",
       "        vertical-align: middle;\n",
       "    }\n",
       "\n",
       "    .dataframe tbody tr th {\n",
       "        vertical-align: top;\n",
       "    }\n",
       "\n",
       "    .dataframe thead th {\n",
       "        text-align: right;\n",
       "    }\n",
       "</style>\n",
       "<table border=\"1\" class=\"dataframe\">\n",
       "  <thead>\n",
       "    <tr style=\"text-align: right;\">\n",
       "      <th></th>\n",
       "      <th>Unnamed: 0</th>\n",
       "      <th>Date_time_Merge_hour</th>\n",
       "      <th>Current_mag</th>\n",
       "      <th>Easting (cm/sec)</th>\n",
       "      <th>Northing (cm/sec)</th>\n",
       "      <th>Minutes</th>\n",
       "      <th>Seconds</th>\n",
       "      <th>Date_time_R</th>\n",
       "    </tr>\n",
       "  </thead>\n",
       "  <tbody>\n",
       "    <tr>\n",
       "      <th>0</th>\n",
       "      <td>1</td>\n",
       "      <td>2011-11-20 13:00:00</td>\n",
       "      <td>7.712734</td>\n",
       "      <td>-3.678000</td>\n",
       "      <td>-1.354000</td>\n",
       "      <td>10.8</td>\n",
       "      <td>32.0</td>\n",
       "      <td>11/20/2011 13:11</td>\n",
       "    </tr>\n",
       "    <tr>\n",
       "      <th>1</th>\n",
       "      <td>2</td>\n",
       "      <td>2011-11-20 14:00:00</td>\n",
       "      <td>1.711170</td>\n",
       "      <td>1.253333</td>\n",
       "      <td>-0.853333</td>\n",
       "      <td>16.0</td>\n",
       "      <td>13.0</td>\n",
       "      <td>11/20/2011 13:56</td>\n",
       "    </tr>\n",
       "    <tr>\n",
       "      <th>2</th>\n",
       "      <td>3</td>\n",
       "      <td>2011-11-20 15:00:00</td>\n",
       "      <td>2.024802</td>\n",
       "      <td>1.080000</td>\n",
       "      <td>-1.430000</td>\n",
       "      <td>25.0</td>\n",
       "      <td>30.0</td>\n",
       "      <td>11/20/2011 14:55</td>\n",
       "    </tr>\n",
       "    <tr>\n",
       "      <th>3</th>\n",
       "      <td>4</td>\n",
       "      <td>2011-11-20 16:00:00</td>\n",
       "      <td>3.567306</td>\n",
       "      <td>-1.413333</td>\n",
       "      <td>-3.036667</td>\n",
       "      <td>19.0</td>\n",
       "      <td>28.0</td>\n",
       "      <td>11/20/2011 15:59</td>\n",
       "    </tr>\n",
       "    <tr>\n",
       "      <th>4</th>\n",
       "      <td>5</td>\n",
       "      <td>2011-11-20 17:00:00</td>\n",
       "      <td>NaN</td>\n",
       "      <td>NaN</td>\n",
       "      <td>NaN</td>\n",
       "      <td>NaN</td>\n",
       "      <td>NaN</td>\n",
       "      <td>NaN</td>\n",
       "    </tr>\n",
       "  </tbody>\n",
       "</table>\n",
       "</div>"
      ],
      "text/plain": [
       "   Unnamed: 0 Date_time_Merge_hour  Current_mag  Easting (cm/sec)  \\\n",
       "0           1  2011-11-20 13:00:00     7.712734         -3.678000   \n",
       "1           2  2011-11-20 14:00:00     1.711170          1.253333   \n",
       "2           3  2011-11-20 15:00:00     2.024802          1.080000   \n",
       "3           4  2011-11-20 16:00:00     3.567306         -1.413333   \n",
       "4           5  2011-11-20 17:00:00          NaN               NaN   \n",
       "\n",
       "   Northing (cm/sec)  Minutes  Seconds       Date_time_R  \n",
       "0          -1.354000     10.8     32.0  11/20/2011 13:11  \n",
       "1          -0.853333     16.0     13.0  11/20/2011 13:56  \n",
       "2          -1.430000     25.0     30.0  11/20/2011 14:55  \n",
       "3          -3.036667     19.0     28.0  11/20/2011 15:59  \n",
       "4                NaN      NaN      NaN               NaN  "
      ]
     },
     "execution_count": 3,
     "metadata": {},
     "output_type": "execute_result"
    }
   ],
   "source": [
    "df.head()"
   ]
  },
  {
   "cell_type": "code",
   "execution_count": 4,
   "metadata": {},
   "outputs": [],
   "source": [
    "df['Date_time_R'] = pd.to_datetime(df['Date_time_R'])"
   ]
  },
  {
   "cell_type": "code",
   "execution_count": 5,
   "metadata": {},
   "outputs": [],
   "source": [
    "df = df.set_index('Date_time_R')"
   ]
  },
  {
   "cell_type": "code",
   "execution_count": 6,
   "metadata": {},
   "outputs": [],
   "source": [
    "df = df.drop('Unnamed: 0', axis = 1)"
   ]
  },
  {
   "cell_type": "code",
   "execution_count": 7,
   "metadata": {},
   "outputs": [],
   "source": [
    "#calculating speed for the whole data set\n",
    "df['speed'] = np.sqrt((df['Easting (cm/sec)']**2) + (df['Northing (cm/sec)']**2))"
   ]
  },
  {
   "cell_type": "code",
   "execution_count": 8,
   "metadata": {},
   "outputs": [],
   "source": [
    "#separating out the data from the year 2014-2018\n",
    "#dfsub = df.loc['2014-09-01':'2018-12-31']\n",
    "\n",
    "#dfsub = df.loc['2010-09-01':'2018-12-31']\n",
    "\n",
    "dfsub = df.loc['2015-10-01':'2018-12-31']\n",
    "\n",
    "#dfsub = df"
   ]
  },
  {
   "cell_type": "code",
   "execution_count": 9,
   "metadata": {},
   "outputs": [],
   "source": [
    "#taking the monthy averages of the speed of the current \n",
    "dfsubmonthly = dfsub.resample('2m').mean()\n",
    "\n",
    "#taking the monthy std dev of the speed of the current \n",
    "dfstdmonthly = dfsub.resample('2m').std()"
   ]
  },
  {
   "cell_type": "code",
   "execution_count": 10,
   "metadata": {},
   "outputs": [
    {
     "data": {
      "application/vnd.jupyter.widget-view+json": {
       "model_id": "f87e71c1c6a14bbe8d90832d2ad5a20a",
       "version_major": 2,
       "version_minor": 0
      },
      "text/plain": [
       "FigureCanvasNbAgg()"
      ]
     },
     "metadata": {},
     "output_type": "display_data"
    },
    {
     "data": {
      "application/vnd.jupyter.widget-view+json": {
       "model_id": "674f5255ff48416aaf07f3804020247f",
       "version_major": 2,
       "version_minor": 0
      },
      "text/plain": [
       "FigureCanvasNbAgg()"
      ]
     },
     "metadata": {},
     "output_type": "display_data"
    },
    {
     "data": {
      "text/plain": [
       "Text(0, 0.5, 'North [cm/s]')"
      ]
     },
     "execution_count": 10,
     "metadata": {},
     "output_type": "execute_result"
    }
   ],
   "source": [
    "plt.figure(figsize = (8,5))\n",
    "plt.plot(dfsubmonthly.index, dfsubmonthly['Easting (cm/sec)'])\n",
    "plt.xlabel('Time [year-month]')\n",
    "plt.ylabel('East [cm/s]')\n",
    "\n",
    "plt.figure(figsize = (8,5))\n",
    "plt.plot(dfsubmonthly.index, dfsubmonthly['Northing (cm/sec)'])\n",
    "plt.xlabel('Time [year-month]')\n",
    "plt.ylabel('North [cm/s]')"
   ]
  },
  {
   "cell_type": "code",
   "execution_count": 11,
   "metadata": {},
   "outputs": [
    {
     "data": {
      "application/vnd.jupyter.widget-view+json": {
       "model_id": "d4269926fcb543d9b4b07c36829c5411",
       "version_major": 2,
       "version_minor": 0
      },
      "text/plain": [
       "FigureCanvasNbAgg()"
      ]
     },
     "metadata": {},
     "output_type": "display_data"
    },
    {
     "data": {
      "application/vnd.jupyter.widget-view+json": {
       "model_id": "d408bdfd2de8472a838abd7a9db66897",
       "version_major": 2,
       "version_minor": 0
      },
      "text/plain": [
       "FigureCanvasNbAgg()"
      ]
     },
     "metadata": {},
     "output_type": "display_data"
    },
    {
     "data": {
      "text/plain": [
       "Text(0, 0.5, 'North [cm/s]')"
      ]
     },
     "execution_count": 11,
     "metadata": {},
     "output_type": "execute_result"
    }
   ],
   "source": [
    "plt.figure(figsize = (8,5))\n",
    "plt.plot(dfstdmonthly.index, dfstdmonthly['Easting (cm/sec)'])\n",
    "plt.xlabel('Time [year-month]')\n",
    "plt.ylabel('East [cm/s]')\n",
    "\n",
    "plt.figure(figsize = (8,5))\n",
    "plt.plot(dfstdmonthly.index, dfstdmonthly['Northing (cm/sec)'])\n",
    "plt.xlabel('Time [year-month]')\n",
    "plt.ylabel('North [cm/s]')"
   ]
  },
  {
   "cell_type": "code",
   "execution_count": 12,
   "metadata": {},
   "outputs": [],
   "source": [
    "dfhr = dfsub.resample('1H',limit=1).mean().interpolate(limit=3)"
   ]
  },
  {
   "cell_type": "code",
   "execution_count": 13,
   "metadata": {},
   "outputs": [
    {
     "name": "stderr",
     "output_type": "stream",
     "text": [
      "/Users/tomconnolly/programs/anaconda/envs/py37/lib/python3.7/site-packages/scipy/signal/signaltools.py:491: FutureWarning: Using a non-tuple sequence for multidimensional indexing is deprecated; use `arr[tuple(seq)]` instead of `arr[seq]`. In the future this will be interpreted as an array index, `arr[np.array(seq)]`, which will result either in an error or a different result.\n",
      "  return x[reverse].conj()\n",
      "/Users/tomconnolly/programs/anaconda/envs/py37/lib/python3.7/site-packages/scipy/signal/signaltools.py:251: FutureWarning: Using a non-tuple sequence for multidimensional indexing is deprecated; use `arr[tuple(seq)]` instead of `arr[seq]`. In the future this will be interpreted as an array index, `arr[np.array(seq)]`, which will result either in an error or a different result.\n",
      "  in1zpadded[sc] = in1.copy()\n"
     ]
    }
   ],
   "source": [
    "dfhr['uf'] = ts.pl64(dfhr['Easting (cm/sec)'])\n",
    "dfhr['vf'] = ts.pl64(dfhr['Northing (cm/sec)'])"
   ]
  },
  {
   "cell_type": "code",
   "execution_count": 14,
   "metadata": {},
   "outputs": [],
   "source": [
    "T_f_hrs = 1/(gsw.f(35+8.4585/60)/(2*np.pi))/3600\n",
    "\n",
    "dfhr['ubp'] = ts.pl64(dfhr['Easting (cm/sec)'],T=T_f_hrs/1.00) - ts.pl64(dfhr['Easting (cm/sec)'],T=T_f_hrs/1.2) \n",
    "dfhr['vbp'] = ts.pl64(dfhr['Northing (cm/sec)'],T=T_f_hrs/1.00) - ts.pl64(dfhr['Northing (cm/sec)'],T=T_f_hrs/1.2) "
   ]
  },
  {
   "cell_type": "code",
   "execution_count": 15,
   "metadata": {},
   "outputs": [],
   "source": [
    "#print(hourly)\n",
    "hourly_time_number = (dfhr.index-np.datetime64('2000-01-01T00:00'))/np.timedelta64(1,'D')"
   ]
  },
  {
   "cell_type": "code",
   "execution_count": 16,
   "metadata": {},
   "outputs": [
    {
     "data": {
      "application/vnd.jupyter.widget-view+json": {
       "model_id": "ab91e06284fb41b38f03e74ce031b63a",
       "version_major": 2,
       "version_minor": 0
      },
      "text/plain": [
       "FigureCanvasNbAgg()"
      ]
     },
     "metadata": {},
     "output_type": "display_data"
    },
    {
     "data": {
      "text/plain": [
       "[<matplotlib.lines.Line2D at 0x1c22d05fd0>]"
      ]
     },
     "execution_count": 16,
     "metadata": {},
     "output_type": "execute_result"
    }
   ],
   "source": [
    "plt.figure()\n",
    "plt.plot(dfhr.index,dfhr['Easting (cm/sec)'])\n",
    "plt.plot(dfhr.index,dfhr['Northing (cm/sec)'])"
   ]
  },
  {
   "cell_type": "code",
   "execution_count": 17,
   "metadata": {},
   "outputs": [
    {
     "data": {
      "application/vnd.jupyter.widget-view+json": {
       "model_id": "cc2b06ac57334c138fb893c32a17de6e",
       "version_major": 2,
       "version_minor": 0
      },
      "text/plain": [
       "FigureCanvasNbAgg()"
      ]
     },
     "metadata": {},
     "output_type": "display_data"
    },
    {
     "data": {
      "text/plain": [
       "(array([735964., 736085., 736208., 736330., 736450., 736573., 736695.,\n",
       "        736815., 736938.]), <a list of 9 Text xticklabel objects>)"
      ]
     },
     "execution_count": 17,
     "metadata": {},
     "output_type": "execute_result"
    }
   ],
   "source": [
    "plt.figure()\n",
    "plt.plot(dfhr.index,dfhr['uf'])\n",
    "plt.plot(dfhr.index,dfhr['vf'])\n",
    "plt.xticks(rotation=30)"
   ]
  },
  {
   "cell_type": "code",
   "execution_count": 18,
   "metadata": {},
   "outputs": [
    {
     "data": {
      "application/vnd.jupyter.widget-view+json": {
       "model_id": "625885d0e18f4602b4277c1d817b8a7b",
       "version_major": 2,
       "version_minor": 0
      },
      "text/plain": [
       "FigureCanvasNbAgg()"
      ]
     },
     "metadata": {},
     "output_type": "display_data"
    },
    {
     "data": {
      "text/plain": [
       "(array([735964., 736085., 736208., 736330., 736450., 736573., 736695.,\n",
       "        736815., 736938.]), <a list of 9 Text xticklabel objects>)"
      ]
     },
     "execution_count": 18,
     "metadata": {},
     "output_type": "execute_result"
    }
   ],
   "source": [
    "plt.figure()\n",
    "plt.plot(dfhr.index,dfhr['ubp'])\n",
    "plt.plot(dfhr.index,dfhr['vbp'])\n",
    "plt.xticks(rotation=30)"
   ]
  },
  {
   "cell_type": "code",
   "execution_count": 19,
   "metadata": {},
   "outputs": [
    {
     "data": {
      "application/vnd.jupyter.widget-view+json": {
       "model_id": "a4c22779ddf8456b90aedae72403c668",
       "version_major": 2,
       "version_minor": 0
      },
      "text/plain": [
       "FigureCanvasNbAgg()"
      ]
     },
     "metadata": {},
     "output_type": "display_data"
    },
    {
     "data": {
      "text/plain": [
       "(-0.9963214527978606,\n",
       " 0.9840904483252526,\n",
       " -0.8775212841550756,\n",
       " 0.8940587419971519)"
      ]
     },
     "execution_count": 19,
     "metadata": {},
     "output_type": "execute_result"
    }
   ],
   "source": [
    "plt.figure()\n",
    "plt.plot(dfhr['ubp'],dfhr['vbp'])\n",
    "plt.gca().axis('equal')"
   ]
  },
  {
   "cell_type": "code",
   "execution_count": 20,
   "metadata": {},
   "outputs": [],
   "source": [
    "t1 = np.datetime64('2017-11-12T00:00:00')\n",
    "t2 = np.datetime64('2018-10-17T00:00:00')"
   ]
  },
  {
   "cell_type": "code",
   "execution_count": 21,
   "metadata": {},
   "outputs": [],
   "source": [
    "ti, = np.where((dfhr.index >= t1) & (dfhr.index <= t2))\n",
    "dfhrsub = dfhr.loc[(dfhr.index >= t1) & (dfhr.index <= t2)]"
   ]
  },
  {
   "cell_type": "code",
   "execution_count": 22,
   "metadata": {},
   "outputs": [],
   "source": [
    "Eas = np.array(dfhrsub['Easting (cm/sec)'])/100\n",
    "Nor = np.array(dfhrsub['Northing (cm/sec)'])/100\n",
    "\n",
    "N = len(Eas)\n",
    "fE,SE = welch(Eas,fs=24.,nperseg=N/6,window='hanning')\n",
    "fN,SN = welch(Nor,fs=24.,nperseg=N/6,window='hanning')\n",
    "\n",
    "#rotary spectrum\n",
    "fr,Sr = welch(Eas+1j*Nor,\n",
    "              fs=24.,nperseg=N/6,\n",
    "              window='hanning',return_onesided=False)\n",
    "icw, = np.where(fr<0)\n",
    "iccw, = np.where(fr>0)\n",
    "fcw = -fr[icw]\n",
    "Scw = Sr[icw]\n",
    "fccw = fr[iccw]\n",
    "Sccw = Sr[iccw]"
   ]
  },
  {
   "cell_type": "code",
   "execution_count": 23,
   "metadata": {},
   "outputs": [],
   "source": [
    "# rotary coefficient\n",
    "Cr = np.abs(Scw[1:]-Sccw[::-1])/(Scw[1:]+Sccw[::-1])\n",
    "fr = fcw[1:]"
   ]
  },
  {
   "cell_type": "code",
   "execution_count": 24,
   "metadata": {},
   "outputs": [],
   "source": [
    "f_cpd = gsw.f(35+8.4585/60)*86400/(2*np.pi)\n",
    "\n",
    "# theoretical prediction (Van Haren and Millot (2004), eq. 11)\n",
    "sigmar = 2*np.pi*fr\n",
    "Cr_pred = 2*sigmar*(2*np.pi*f_cpd)/(sigmar**2 + (2*np.pi*f_cpd)**2)"
   ]
  },
  {
   "cell_type": "code",
   "execution_count": 25,
   "metadata": {},
   "outputs": [
    {
     "data": {
      "application/vnd.jupyter.widget-view+json": {
       "model_id": "d2a0cc5edb014b8685061e953e3c2152",
       "version_major": 2,
       "version_minor": 0
      },
      "text/plain": [
       "FigureCanvasNbAgg()"
      ]
     },
     "metadata": {},
     "output_type": "display_data"
    },
    {
     "data": {
      "text/plain": [
       "Text(0.5, 1.0, 'rotary spectra')"
      ]
     },
     "execution_count": 25,
     "metadata": {},
     "output_type": "execute_result"
    }
   ],
   "source": [
    "plt.figure()\n",
    "plt.loglog(fcw,Scw)\n",
    "plt.loglog(fccw,Sccw,'--')\n",
    "plt.legend(['clockwise','counter-clockwise'])\n",
    "plt.xlabel('frequency [cpd]')\n",
    "plt.ylabel('[m$^2$ s$^{-2}$ cpd$^{-1}$]')\n",
    "plt.title('rotary spectra')"
   ]
  },
  {
   "cell_type": "code",
   "execution_count": 26,
   "metadata": {},
   "outputs": [
    {
     "data": {
      "application/vnd.jupyter.widget-view+json": {
       "model_id": "655de750876e4affa3c85939f89a4d9f",
       "version_major": 2,
       "version_minor": 0
      },
      "text/plain": [
       "FigureCanvasNbAgg()"
      ]
     },
     "metadata": {},
     "output_type": "display_data"
    },
    {
     "data": {
      "text/plain": [
       "(0, 1)"
      ]
     },
     "execution_count": 26,
     "metadata": {},
     "output_type": "execute_result"
    }
   ],
   "source": [
    "iwi, = np.where(fr >= f_cpd)\n",
    "\n",
    "plt.figure()\n",
    "plt.plot(fr,Cr)\n",
    "plt.plot(fr[iwi],Cr_pred[iwi],'k-',lw=2)\n",
    "yl = plt.ylim()\n",
    "plt.plot([f_cpd,f_cpd],yl,'k--')\n",
    "plt.xlabel('f [cpd]')\n",
    "plt.ylabel('$C_R$')\n",
    "plt.title('rotary coefficients')\n",
    "plt.ylim(yl)\n",
    "plt.xlim([0.6,10])\n",
    "plt.ylim([0,1])"
   ]
  },
  {
   "cell_type": "code",
   "execution_count": null,
   "metadata": {},
   "outputs": [],
   "source": []
  }
 ],
 "metadata": {
  "kernelspec": {
   "display_name": "Python [conda env:py37]",
   "language": "python",
   "name": "conda-env-py37-py"
  },
  "language_info": {
   "codemirror_mode": {
    "name": "ipython",
    "version": 3
   },
   "file_extension": ".py",
   "mimetype": "text/x-python",
   "name": "python",
   "nbconvert_exporter": "python",
   "pygments_lexer": "ipython3",
   "version": "3.7.2"
  }
 },
 "nbformat": 4,
 "nbformat_minor": 2
}
