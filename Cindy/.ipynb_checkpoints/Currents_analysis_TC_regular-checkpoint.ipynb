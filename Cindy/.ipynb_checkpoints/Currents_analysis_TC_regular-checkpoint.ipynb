{
 "cells": [
  {
   "cell_type": "code",
   "execution_count": 1,
   "metadata": {},
   "outputs": [],
   "source": [
    "%matplotlib ipympl\n",
    "import pandas as pd\n",
    "import numpy as np\n",
    "import matplotlib.pyplot as plt"
   ]
  },
  {
   "cell_type": "code",
   "execution_count": 2,
   "metadata": {},
   "outputs": [],
   "source": [
    "current_file = '../data/Rover_II_Current_Mag_Hourly_Avg_pad_2018.csv'\n",
    "df = pd.read_csv(current_file,parse_dates=[1])"
   ]
  },
  {
   "cell_type": "code",
   "execution_count": 3,
   "metadata": {},
   "outputs": [
    {
     "data": {
      "text/html": [
       "<div>\n",
       "<style scoped>\n",
       "    .dataframe tbody tr th:only-of-type {\n",
       "        vertical-align: middle;\n",
       "    }\n",
       "\n",
       "    .dataframe tbody tr th {\n",
       "        vertical-align: top;\n",
       "    }\n",
       "\n",
       "    .dataframe thead th {\n",
       "        text-align: right;\n",
       "    }\n",
       "</style>\n",
       "<table border=\"1\" class=\"dataframe\">\n",
       "  <thead>\n",
       "    <tr style=\"text-align: right;\">\n",
       "      <th></th>\n",
       "      <th>Unnamed: 0</th>\n",
       "      <th>Date_time_Merge_hour</th>\n",
       "      <th>Current_mag</th>\n",
       "      <th>Easting (cm/sec)</th>\n",
       "      <th>Northing (cm/sec)</th>\n",
       "      <th>Minutes</th>\n",
       "      <th>Seconds</th>\n",
       "      <th>Date_time_R</th>\n",
       "    </tr>\n",
       "  </thead>\n",
       "  <tbody>\n",
       "    <tr>\n",
       "      <th>0</th>\n",
       "      <td>1</td>\n",
       "      <td>2011-11-20 13:00:00</td>\n",
       "      <td>7.712734</td>\n",
       "      <td>-3.678000</td>\n",
       "      <td>-1.354000</td>\n",
       "      <td>10.8</td>\n",
       "      <td>32.0</td>\n",
       "      <td>11/20/2011 13:11</td>\n",
       "    </tr>\n",
       "    <tr>\n",
       "      <th>1</th>\n",
       "      <td>2</td>\n",
       "      <td>2011-11-20 14:00:00</td>\n",
       "      <td>1.711170</td>\n",
       "      <td>1.253333</td>\n",
       "      <td>-0.853333</td>\n",
       "      <td>16.0</td>\n",
       "      <td>13.0</td>\n",
       "      <td>11/20/2011 13:56</td>\n",
       "    </tr>\n",
       "    <tr>\n",
       "      <th>2</th>\n",
       "      <td>3</td>\n",
       "      <td>2011-11-20 15:00:00</td>\n",
       "      <td>2.024802</td>\n",
       "      <td>1.080000</td>\n",
       "      <td>-1.430000</td>\n",
       "      <td>25.0</td>\n",
       "      <td>30.0</td>\n",
       "      <td>11/20/2011 14:55</td>\n",
       "    </tr>\n",
       "    <tr>\n",
       "      <th>3</th>\n",
       "      <td>4</td>\n",
       "      <td>2011-11-20 16:00:00</td>\n",
       "      <td>3.567306</td>\n",
       "      <td>-1.413333</td>\n",
       "      <td>-3.036667</td>\n",
       "      <td>19.0</td>\n",
       "      <td>28.0</td>\n",
       "      <td>11/20/2011 15:59</td>\n",
       "    </tr>\n",
       "    <tr>\n",
       "      <th>4</th>\n",
       "      <td>5</td>\n",
       "      <td>2011-11-20 17:00:00</td>\n",
       "      <td>NaN</td>\n",
       "      <td>NaN</td>\n",
       "      <td>NaN</td>\n",
       "      <td>NaN</td>\n",
       "      <td>NaN</td>\n",
       "      <td>NaN</td>\n",
       "    </tr>\n",
       "  </tbody>\n",
       "</table>\n",
       "</div>"
      ],
      "text/plain": [
       "   Unnamed: 0 Date_time_Merge_hour  Current_mag  Easting (cm/sec)  \\\n",
       "0           1  2011-11-20 13:00:00     7.712734         -3.678000   \n",
       "1           2  2011-11-20 14:00:00     1.711170          1.253333   \n",
       "2           3  2011-11-20 15:00:00     2.024802          1.080000   \n",
       "3           4  2011-11-20 16:00:00     3.567306         -1.413333   \n",
       "4           5  2011-11-20 17:00:00          NaN               NaN   \n",
       "\n",
       "   Northing (cm/sec)  Minutes  Seconds       Date_time_R  \n",
       "0          -1.354000     10.8     32.0  11/20/2011 13:11  \n",
       "1          -0.853333     16.0     13.0  11/20/2011 13:56  \n",
       "2          -1.430000     25.0     30.0  11/20/2011 14:55  \n",
       "3          -3.036667     19.0     28.0  11/20/2011 15:59  \n",
       "4                NaN      NaN      NaN               NaN  "
      ]
     },
     "execution_count": 3,
     "metadata": {},
     "output_type": "execute_result"
    }
   ],
   "source": [
    "df.head()"
   ]
  },
  {
   "cell_type": "code",
   "execution_count": 4,
   "metadata": {},
   "outputs": [],
   "source": [
    "df['Date_time_R'] = pd.to_datetime(df['Date_time_R'])"
   ]
  },
  {
   "cell_type": "code",
   "execution_count": 5,
   "metadata": {},
   "outputs": [],
   "source": [
    "df = df.set_index('Date_time_R')"
   ]
  },
  {
   "cell_type": "code",
   "execution_count": 6,
   "metadata": {},
   "outputs": [],
   "source": [
    "df = df.drop('Unnamed: 0', axis = 1)"
   ]
  },
  {
   "cell_type": "code",
   "execution_count": 7,
   "metadata": {},
   "outputs": [],
   "source": [
    "#calculating speed for the whole data set\n",
    "df['speed'] = np.sqrt((df['Easting (cm/sec)']**2) + (df['Northing (cm/sec)']**2))"
   ]
  },
  {
   "cell_type": "code",
   "execution_count": 8,
   "metadata": {},
   "outputs": [],
   "source": [
    "dfmonthly = df.resample('1m').mean()"
   ]
  },
  {
   "cell_type": "code",
   "execution_count": 9,
   "metadata": {},
   "outputs": [
    {
     "data": {
      "application/vnd.jupyter.widget-view+json": {
       "model_id": "d8d0b3487e38456d929655a832493d81",
       "version_major": 2,
       "version_minor": 0
      },
      "text/plain": [
       "FigureCanvasNbAgg()"
      ]
     },
     "metadata": {},
     "output_type": "display_data"
    },
    {
     "data": {
      "text/plain": [
       "Text(0, 0.5, 'Speed [cm/s]')"
      ]
     },
     "execution_count": 9,
     "metadata": {},
     "output_type": "execute_result"
    }
   ],
   "source": [
    "plt.figure(figsize = (6,3))\n",
    "plt.plot(dfmonthly.index, dfmonthly['speed'])\n",
    "plt.xlabel('Time [year]')\n",
    "plt.ylabel('Speed [cm/s]')"
   ]
  },
  {
   "cell_type": "code",
   "execution_count": 10,
   "metadata": {},
   "outputs": [
    {
     "data": {
      "application/vnd.jupyter.widget-view+json": {
       "model_id": "39af12136c714bbfaed076ac9280977b",
       "version_major": 2,
       "version_minor": 0
      },
      "text/plain": [
       "FigureCanvasNbAgg()"
      ]
     },
     "metadata": {},
     "output_type": "display_data"
    },
    {
     "data": {
      "text/plain": [
       "Text(0, 0.5, 'Speed [cm/s]')"
      ]
     },
     "execution_count": 10,
     "metadata": {},
     "output_type": "execute_result"
    }
   ],
   "source": [
    "plt.figure(figsize = (6,3))\n",
    "plt.plot(df.index, df['speed'])\n",
    "plt.xlabel('Time [year]')\n",
    "plt.ylabel('Speed [cm/s]')"
   ]
  },
  {
   "cell_type": "code",
   "execution_count": 48,
   "metadata": {},
   "outputs": [],
   "source": [
    "#separating out the data from the year 2014-2018\n",
    "dfsub = df.loc['2014-09-01':'2018-12-31']\n",
    "\n",
    "#dfsub = df"
   ]
  },
  {
   "cell_type": "code",
   "execution_count": 49,
   "metadata": {},
   "outputs": [],
   "source": [
    "#taking the monthy averages of the speed of the current \n",
    "dfsubmonthly = dfsub.resample('1m').mean()\n",
    "\n",
    "#taking the monthy std dev of the speed of the current \n",
    "dfstdmonthly = dfsub.resample('1m').std()"
   ]
  },
  {
   "cell_type": "code",
   "execution_count": 50,
   "metadata": {},
   "outputs": [
    {
     "name": "stderr",
     "output_type": "stream",
     "text": [
      "/Users/tomconnolly/programs/anaconda/envs/py37/lib/python3.7/site-packages/matplotlib/pyplot.py:514: RuntimeWarning: More than 20 figures have been opened. Figures created through the pyplot interface (`matplotlib.pyplot.figure`) are retained until explicitly closed and may consume too much memory. (To control this warning, see the rcParam `figure.max_open_warning`).\n",
      "  max_open_warning, RuntimeWarning)\n"
     ]
    },
    {
     "data": {
      "application/vnd.jupyter.widget-view+json": {
       "model_id": "9f82069e822942ddb8a9fcb93737ca2a",
       "version_major": 2,
       "version_minor": 0
      },
      "text/plain": [
       "FigureCanvasNbAgg()"
      ]
     },
     "metadata": {},
     "output_type": "display_data"
    },
    {
     "name": "stderr",
     "output_type": "stream",
     "text": [
      "/Users/tomconnolly/programs/anaconda/envs/py37/lib/python3.7/site-packages/matplotlib/pyplot.py:514: RuntimeWarning: More than 20 figures have been opened. Figures created through the pyplot interface (`matplotlib.pyplot.figure`) are retained until explicitly closed and may consume too much memory. (To control this warning, see the rcParam `figure.max_open_warning`).\n",
      "  max_open_warning, RuntimeWarning)\n"
     ]
    },
    {
     "data": {
      "application/vnd.jupyter.widget-view+json": {
       "model_id": "71dc8556433841cfba83e6adb9c13f84",
       "version_major": 2,
       "version_minor": 0
      },
      "text/plain": [
       "FigureCanvasNbAgg()"
      ]
     },
     "metadata": {},
     "output_type": "display_data"
    },
    {
     "data": {
      "text/plain": [
       "Text(0, 0.5, 'North [cm/s]')"
      ]
     },
     "execution_count": 50,
     "metadata": {},
     "output_type": "execute_result"
    }
   ],
   "source": [
    "plt.figure(figsize = (8,5))\n",
    "plt.plot(dfsubmonthly.index, dfsubmonthly['Easting (cm/sec)'])\n",
    "plt.xlabel('Time [year-month]')\n",
    "plt.ylabel('East [cm/s]')\n",
    "\n",
    "plt.figure(figsize = (8,5))\n",
    "plt.plot(dfsubmonthly.index, dfsubmonthly['Northing (cm/sec)'])\n",
    "plt.xlabel('Time [year-month]')\n",
    "plt.ylabel('North [cm/s]')"
   ]
  },
  {
   "cell_type": "code",
   "execution_count": 51,
   "metadata": {},
   "outputs": [
    {
     "name": "stderr",
     "output_type": "stream",
     "text": [
      "/Users/tomconnolly/programs/anaconda/envs/py37/lib/python3.7/site-packages/matplotlib/pyplot.py:514: RuntimeWarning: More than 20 figures have been opened. Figures created through the pyplot interface (`matplotlib.pyplot.figure`) are retained until explicitly closed and may consume too much memory. (To control this warning, see the rcParam `figure.max_open_warning`).\n",
      "  max_open_warning, RuntimeWarning)\n"
     ]
    },
    {
     "data": {
      "application/vnd.jupyter.widget-view+json": {
       "model_id": "7616522367f1491fa34a298a98c3c958",
       "version_major": 2,
       "version_minor": 0
      },
      "text/plain": [
       "FigureCanvasNbAgg()"
      ]
     },
     "metadata": {},
     "output_type": "display_data"
    },
    {
     "name": "stderr",
     "output_type": "stream",
     "text": [
      "/Users/tomconnolly/programs/anaconda/envs/py37/lib/python3.7/site-packages/matplotlib/pyplot.py:514: RuntimeWarning: More than 20 figures have been opened. Figures created through the pyplot interface (`matplotlib.pyplot.figure`) are retained until explicitly closed and may consume too much memory. (To control this warning, see the rcParam `figure.max_open_warning`).\n",
      "  max_open_warning, RuntimeWarning)\n"
     ]
    },
    {
     "data": {
      "application/vnd.jupyter.widget-view+json": {
       "model_id": "3a3000adfa8e43e2a52ed2d5963b3875",
       "version_major": 2,
       "version_minor": 0
      },
      "text/plain": [
       "FigureCanvasNbAgg()"
      ]
     },
     "metadata": {},
     "output_type": "display_data"
    },
    {
     "data": {
      "text/plain": [
       "Text(0, 0.5, 'North [cm/s]')"
      ]
     },
     "execution_count": 51,
     "metadata": {},
     "output_type": "execute_result"
    }
   ],
   "source": [
    "plt.figure(figsize = (8,5))\n",
    "plt.plot(dfstdmonthly.index, dfstdmonthly['Easting (cm/sec)'])\n",
    "plt.xlabel('Time [year-month]')\n",
    "plt.ylabel('East [cm/s]')\n",
    "\n",
    "plt.figure(figsize = (8,5))\n",
    "plt.plot(dfstdmonthly.index, dfstdmonthly['Northing (cm/sec)'])\n",
    "plt.xlabel('Time [year-month]')\n",
    "plt.ylabel('North [cm/s]')"
   ]
  },
  {
   "cell_type": "code",
   "execution_count": 53,
   "metadata": {},
   "outputs": [],
   "source": [
    "date_time_number = (dfsub.index-np.datetime64('2000-01-01T00:00'))/np.timedelta64(1,'D')\n",
    "#print(date_time_number)\n",
    "\n",
    "#might need to convert dataframes to numpy arrays \n",
    "#this converts a time difference over a time difference to a number \n"
   ]
  },
  {
   "cell_type": "code",
   "execution_count": 54,
   "metadata": {},
   "outputs": [],
   "source": [
    "#find longest uninterupted segment \n",
    "#U or v starting off \n",
    "#sampling frequency (put in times and then measurement values) \n",
    "#use datetime as number\n",
    "#pick frequecies to go on x-axis (highest would be 1 hour- lowest would be defined as the record length = last minus first length of time )\n",
    "#start with 100 arrays see what it gives me\n",
    "#page 458 "
   ]
  },
  {
   "cell_type": "code",
   "execution_count": 55,
   "metadata": {},
   "outputs": [],
   "source": [
    "import scipy.signal as signal\n"
   ]
  },
  {
   "cell_type": "code",
   "execution_count": 56,
   "metadata": {},
   "outputs": [],
   "source": [
    "u = np.array(dfsub['Easting (cm/sec)'])\n",
    "v = np.array(dfsub['Northing (cm/sec)'])"
   ]
  },
  {
   "cell_type": "code",
   "execution_count": 57,
   "metadata": {},
   "outputs": [],
   "source": [
    "fi, = np.where(np.isfinite(u))\n",
    "N = len(fi)"
   ]
  },
  {
   "cell_type": "code",
   "execution_count": 36,
   "metadata": {},
   "outputs": [
    {
     "name": "stdout",
     "output_type": "stream",
     "text": [
      "2522.6506944444445\n"
     ]
    }
   ],
   "source": [
    "record_length = (date_time_number[fi][-1]-date_time_number[fi][0])\n",
    "print(record_length)"
   ]
  },
  {
   "cell_type": "code",
   "execution_count": 37,
   "metadata": {},
   "outputs": [],
   "source": [
    "nyqst = N/(2*record_length)"
   ]
  },
  {
   "cell_type": "code",
   "execution_count": 38,
   "metadata": {},
   "outputs": [],
   "source": [
    "top = nyqst*(np.pi*2)\n",
    "freq = np.linspace(((1/record_length)*(np.pi*2)), top, 100)"
   ]
  },
  {
   "cell_type": "code",
   "execution_count": 39,
   "metadata": {},
   "outputs": [
    {
     "data": {
      "text/plain": [
       "20411.5"
      ]
     },
     "execution_count": 39,
     "metadata": {},
     "output_type": "execute_result"
    }
   ],
   "source": [
    "N/2"
   ]
  },
  {
   "cell_type": "code",
   "execution_count": 40,
   "metadata": {},
   "outputs": [
    {
     "name": "stderr",
     "output_type": "stream",
     "text": [
      "/Users/tomconnolly/programs/anaconda/envs/py37/lib/python3.7/site-packages/ipykernel/__main__.py:5: DeprecationWarning: object of type <class 'numpy.float64'> cannot be safely interpreted as an integer.\n"
     ]
    }
   ],
   "source": [
    "top2 = np.log10(top)\n",
    "first = np.log10((1/record_length)*(np.pi*2))\n",
    "\n",
    "#freq3 = np.logspace(first, top2, 1000)\n",
    "freq3 = np.linspace((1/record_length)*(np.pi*2),top,np.round(N/2))"
   ]
  },
  {
   "cell_type": "code",
   "execution_count": 41,
   "metadata": {},
   "outputs": [],
   "source": [
    "pgram = signal.lombscargle(date_time_number, u, freq3)\n",
    "\n",
    "freq4 = freq3/(2*np.pi)"
   ]
  },
  {
   "cell_type": "code",
   "execution_count": 42,
   "metadata": {},
   "outputs": [
    {
     "name": "stderr",
     "output_type": "stream",
     "text": [
      "/Users/tomconnolly/programs/anaconda/envs/py37/lib/python3.7/site-packages/matplotlib/pyplot.py:514: RuntimeWarning: More than 20 figures have been opened. Figures created through the pyplot interface (`matplotlib.pyplot.figure`) are retained until explicitly closed and may consume too much memory. (To control this warning, see the rcParam `figure.max_open_warning`).\n",
      "  max_open_warning, RuntimeWarning)\n"
     ]
    },
    {
     "data": {
      "application/vnd.jupyter.widget-view+json": {
       "model_id": "71ea4e53fcce4767b2151095ee4b5ef7",
       "version_major": 2,
       "version_minor": 0
      },
      "text/plain": [
       "FigureCanvasNbAgg()"
      ]
     },
     "metadata": {},
     "output_type": "display_data"
    },
    {
     "data": {
      "text/plain": [
       "[<matplotlib.lines.Line2D at 0x1257cf6a0>]"
      ]
     },
     "execution_count": 42,
     "metadata": {},
     "output_type": "execute_result"
    }
   ],
   "source": [
    "plt.figure(figsize=(5,4))\n",
    "#plt.plot(freq, pgram)\n",
    "plt.loglog(freq4,pgram,'-')"
   ]
  },
  {
   "cell_type": "code",
   "execution_count": 45,
   "metadata": {},
   "outputs": [],
   "source": [
    "#pandas resample function '1h' gives exactly every hour  use .interpolate"
   ]
  },
  {
   "cell_type": "code",
   "execution_count": 58,
   "metadata": {},
   "outputs": [
    {
     "data": {
      "text/html": [
       "<div>\n",
       "<style scoped>\n",
       "    .dataframe tbody tr th:only-of-type {\n",
       "        vertical-align: middle;\n",
       "    }\n",
       "\n",
       "    .dataframe tbody tr th {\n",
       "        vertical-align: top;\n",
       "    }\n",
       "\n",
       "    .dataframe thead th {\n",
       "        text-align: right;\n",
       "    }\n",
       "</style>\n",
       "<table border=\"1\" class=\"dataframe\">\n",
       "  <thead>\n",
       "    <tr style=\"text-align: right;\">\n",
       "      <th></th>\n",
       "      <th>Date_time_Merge_hour</th>\n",
       "      <th>Current_mag</th>\n",
       "      <th>Easting (cm/sec)</th>\n",
       "      <th>Northing (cm/sec)</th>\n",
       "      <th>Minutes</th>\n",
       "      <th>Seconds</th>\n",
       "      <th>speed</th>\n",
       "    </tr>\n",
       "    <tr>\n",
       "      <th>Date_time_R</th>\n",
       "      <th></th>\n",
       "      <th></th>\n",
       "      <th></th>\n",
       "      <th></th>\n",
       "      <th></th>\n",
       "      <th></th>\n",
       "      <th></th>\n",
       "    </tr>\n",
       "  </thead>\n",
       "  <tbody>\n",
       "    <tr>\n",
       "      <th>2014-10-11 13:04:00</th>\n",
       "      <td>2014-10-11 13:00:00</td>\n",
       "      <td>0.908994</td>\n",
       "      <td>-0.233333</td>\n",
       "      <td>0.860000</td>\n",
       "      <td>44.333333</td>\n",
       "      <td>33.000000</td>\n",
       "      <td>0.891092</td>\n",
       "    </tr>\n",
       "    <tr>\n",
       "      <th>2014-10-11 13:57:00</th>\n",
       "      <td>2014-10-11 14:00:00</td>\n",
       "      <td>1.350541</td>\n",
       "      <td>0.330000</td>\n",
       "      <td>-0.160000</td>\n",
       "      <td>26.500000</td>\n",
       "      <td>34.500000</td>\n",
       "      <td>0.366742</td>\n",
       "    </tr>\n",
       "    <tr>\n",
       "      <th>2014-10-11 14:41:00</th>\n",
       "      <td>2014-10-11 15:00:00</td>\n",
       "      <td>0.907747</td>\n",
       "      <td>0.200000</td>\n",
       "      <td>-0.325000</td>\n",
       "      <td>40.500000</td>\n",
       "      <td>32.500000</td>\n",
       "      <td>0.381608</td>\n",
       "    </tr>\n",
       "    <tr>\n",
       "      <th>2014-10-11 15:57:00</th>\n",
       "      <td>2014-10-11 16:00:00</td>\n",
       "      <td>1.129383</td>\n",
       "      <td>0.980000</td>\n",
       "      <td>-0.280000</td>\n",
       "      <td>27.500000</td>\n",
       "      <td>24.500000</td>\n",
       "      <td>1.019215</td>\n",
       "    </tr>\n",
       "    <tr>\n",
       "      <th>2014-10-11 16:56:00</th>\n",
       "      <td>2014-10-11 17:00:00</td>\n",
       "      <td>2.642760</td>\n",
       "      <td>2.380000</td>\n",
       "      <td>-1.065000</td>\n",
       "      <td>25.500000</td>\n",
       "      <td>34.500000</td>\n",
       "      <td>2.607417</td>\n",
       "    </tr>\n",
       "    <tr>\n",
       "      <th>2014-10-11 18:51:00</th>\n",
       "      <td>2014-10-11 19:00:00</td>\n",
       "      <td>4.305535</td>\n",
       "      <td>3.150000</td>\n",
       "      <td>-2.900000</td>\n",
       "      <td>51.000000</td>\n",
       "      <td>48.500000</td>\n",
       "      <td>4.281647</td>\n",
       "    </tr>\n",
       "    <tr>\n",
       "      <th>2014-10-11 19:55:00</th>\n",
       "      <td>2014-10-11 20:00:00</td>\n",
       "      <td>4.011699</td>\n",
       "      <td>3.030000</td>\n",
       "      <td>-2.513333</td>\n",
       "      <td>15.333333</td>\n",
       "      <td>26.666667</td>\n",
       "      <td>3.936717</td>\n",
       "    </tr>\n",
       "    <tr>\n",
       "      <th>2014-10-11 21:02:00</th>\n",
       "      <td>2014-10-11 21:00:00</td>\n",
       "      <td>2.783442</td>\n",
       "      <td>2.515000</td>\n",
       "      <td>-1.085000</td>\n",
       "      <td>31.500000</td>\n",
       "      <td>38.500000</td>\n",
       "      <td>2.739060</td>\n",
       "    </tr>\n",
       "    <tr>\n",
       "      <th>2014-10-11 21:48:00</th>\n",
       "      <td>2014-10-11 22:00:00</td>\n",
       "      <td>2.596728</td>\n",
       "      <td>2.500000</td>\n",
       "      <td>-0.285000</td>\n",
       "      <td>18.000000</td>\n",
       "      <td>32.000000</td>\n",
       "      <td>2.516193</td>\n",
       "    </tr>\n",
       "    <tr>\n",
       "      <th>2014-10-11 22:54:00</th>\n",
       "      <td>2014-10-11 23:00:00</td>\n",
       "      <td>2.736859</td>\n",
       "      <td>2.140000</td>\n",
       "      <td>1.663333</td>\n",
       "      <td>34.666667</td>\n",
       "      <td>13.000000</td>\n",
       "      <td>2.710402</td>\n",
       "    </tr>\n",
       "    <tr>\n",
       "      <th>2014-10-11 23:58:00</th>\n",
       "      <td>2014-10-12 00:00:00</td>\n",
       "      <td>1.947592</td>\n",
       "      <td>0.750000</td>\n",
       "      <td>1.795000</td>\n",
       "      <td>28.000000</td>\n",
       "      <td>50.500000</td>\n",
       "      <td>1.945386</td>\n",
       "    </tr>\n",
       "    <tr>\n",
       "      <th>2014-10-12 01:02:00</th>\n",
       "      <td>2014-10-12 01:00:00</td>\n",
       "      <td>1.255648</td>\n",
       "      <td>0.760000</td>\n",
       "      <td>0.850000</td>\n",
       "      <td>22.333333</td>\n",
       "      <td>28.000000</td>\n",
       "      <td>1.140219</td>\n",
       "    </tr>\n",
       "    <tr>\n",
       "      <th>2014-10-12 02:09:00</th>\n",
       "      <td>2014-10-12 02:00:00</td>\n",
       "      <td>1.969672</td>\n",
       "      <td>-0.490000</td>\n",
       "      <td>1.900000</td>\n",
       "      <td>38.500000</td>\n",
       "      <td>39.000000</td>\n",
       "      <td>1.962167</td>\n",
       "    </tr>\n",
       "    <tr>\n",
       "      <th>2014-10-12 02:55:00</th>\n",
       "      <td>2014-10-12 03:00:00</td>\n",
       "      <td>2.434411</td>\n",
       "      <td>-0.680000</td>\n",
       "      <td>2.320000</td>\n",
       "      <td>25.000000</td>\n",
       "      <td>32.000000</td>\n",
       "      <td>2.417602</td>\n",
       "    </tr>\n",
       "    <tr>\n",
       "      <th>2014-10-12 04:01:00</th>\n",
       "      <td>2014-10-12 04:00:00</td>\n",
       "      <td>1.426716</td>\n",
       "      <td>0.133333</td>\n",
       "      <td>1.243333</td>\n",
       "      <td>41.666667</td>\n",
       "      <td>13.000000</td>\n",
       "      <td>1.250462</td>\n",
       "    </tr>\n",
       "    <tr>\n",
       "      <th>2014-10-12 05:05:00</th>\n",
       "      <td>2014-10-12 05:00:00</td>\n",
       "      <td>0.633325</td>\n",
       "      <td>0.425000</td>\n",
       "      <td>-0.465000</td>\n",
       "      <td>35.000000</td>\n",
       "      <td>50.500000</td>\n",
       "      <td>0.629960</td>\n",
       "    </tr>\n",
       "    <tr>\n",
       "      <th>2014-10-12 05:59:00</th>\n",
       "      <td>2014-10-12 06:00:00</td>\n",
       "      <td>0.987494</td>\n",
       "      <td>0.670000</td>\n",
       "      <td>-0.720000</td>\n",
       "      <td>29.000000</td>\n",
       "      <td>24.000000</td>\n",
       "      <td>0.983514</td>\n",
       "    </tr>\n",
       "    <tr>\n",
       "      <th>2014-10-12 06:45:00</th>\n",
       "      <td>2014-10-12 07:00:00</td>\n",
       "      <td>1.356342</td>\n",
       "      <td>0.965000</td>\n",
       "      <td>-0.865000</td>\n",
       "      <td>15.000000</td>\n",
       "      <td>46.500000</td>\n",
       "      <td>1.295936</td>\n",
       "    </tr>\n",
       "    <tr>\n",
       "      <th>2014-10-12 07:52:00</th>\n",
       "      <td>2014-10-12 08:00:00</td>\n",
       "      <td>2.084823</td>\n",
       "      <td>1.923333</td>\n",
       "      <td>-0.750000</td>\n",
       "      <td>31.666667</td>\n",
       "      <td>27.000000</td>\n",
       "      <td>2.064391</td>\n",
       "    </tr>\n",
       "    <tr>\n",
       "      <th>2014-10-12 08:56:00</th>\n",
       "      <td>2014-10-12 09:00:00</td>\n",
       "      <td>2.424363</td>\n",
       "      <td>2.345000</td>\n",
       "      <td>0.225000</td>\n",
       "      <td>26.000000</td>\n",
       "      <td>4.500000</td>\n",
       "      <td>2.355770</td>\n",
       "    </tr>\n",
       "    <tr>\n",
       "      <th>2014-10-12 10:00:00</th>\n",
       "      <td>2014-10-12 10:00:00</td>\n",
       "      <td>3.180281</td>\n",
       "      <td>2.246667</td>\n",
       "      <td>2.120000</td>\n",
       "      <td>19.333333</td>\n",
       "      <td>41.333333</td>\n",
       "      <td>3.088998</td>\n",
       "    </tr>\n",
       "    <tr>\n",
       "      <th>2014-10-12 11:06:00</th>\n",
       "      <td>2014-10-12 11:00:00</td>\n",
       "      <td>2.097375</td>\n",
       "      <td>1.385000</td>\n",
       "      <td>1.575000</td>\n",
       "      <td>36.000000</td>\n",
       "      <td>22.000000</td>\n",
       "      <td>2.097344</td>\n",
       "    </tr>\n",
       "    <tr>\n",
       "      <th>2014-10-12 11:52:00</th>\n",
       "      <td>2014-10-12 12:00:00</td>\n",
       "      <td>1.571759</td>\n",
       "      <td>1.490000</td>\n",
       "      <td>0.490000</td>\n",
       "      <td>22.000000</td>\n",
       "      <td>45.500000</td>\n",
       "      <td>1.568502</td>\n",
       "    </tr>\n",
       "    <tr>\n",
       "      <th>2014-10-12 12:59:00</th>\n",
       "      <td>2014-10-12 13:00:00</td>\n",
       "      <td>0.662715</td>\n",
       "      <td>-0.066667</td>\n",
       "      <td>0.556667</td>\n",
       "      <td>38.666667</td>\n",
       "      <td>27.000000</td>\n",
       "      <td>0.560644</td>\n",
       "    </tr>\n",
       "    <tr>\n",
       "      <th>2014-10-12 14:03:00</th>\n",
       "      <td>2014-10-12 14:00:00</td>\n",
       "      <td>1.113038</td>\n",
       "      <td>-0.795000</td>\n",
       "      <td>-0.765000</td>\n",
       "      <td>33.000000</td>\n",
       "      <td>4.500000</td>\n",
       "      <td>1.103291</td>\n",
       "    </tr>\n",
       "    <tr>\n",
       "      <th>2014-10-12 15:07:00</th>\n",
       "      <td>2014-10-12 15:00:00</td>\n",
       "      <td>1.005690</td>\n",
       "      <td>-0.926667</td>\n",
       "      <td>-0.350000</td>\n",
       "      <td>26.333333</td>\n",
       "      <td>42.000000</td>\n",
       "      <td>0.990561</td>\n",
       "    </tr>\n",
       "    <tr>\n",
       "      <th>2014-10-12 16:13:00</th>\n",
       "      <td>2014-10-12 16:00:00</td>\n",
       "      <td>1.392084</td>\n",
       "      <td>-1.220000</td>\n",
       "      <td>-0.665000</td>\n",
       "      <td>43.000000</td>\n",
       "      <td>23.500000</td>\n",
       "      <td>1.389469</td>\n",
       "    </tr>\n",
       "    <tr>\n",
       "      <th>2014-10-12 16:59:00</th>\n",
       "      <td>2014-10-12 17:00:00</td>\n",
       "      <td>1.108782</td>\n",
       "      <td>-1.080000</td>\n",
       "      <td>0.200000</td>\n",
       "      <td>29.000000</td>\n",
       "      <td>46.000000</td>\n",
       "      <td>1.098362</td>\n",
       "    </tr>\n",
       "    <tr>\n",
       "      <th>2014-10-12 17:53:00</th>\n",
       "      <td>2014-10-12 18:00:00</td>\n",
       "      <td>0.511667</td>\n",
       "      <td>-0.260000</td>\n",
       "      <td>0.405000</td>\n",
       "      <td>23.000000</td>\n",
       "      <td>20.500000</td>\n",
       "      <td>0.481274</td>\n",
       "    </tr>\n",
       "    <tr>\n",
       "      <th>2014-10-12 18:57:00</th>\n",
       "      <td>2014-10-12 19:00:00</td>\n",
       "      <td>1.629922</td>\n",
       "      <td>1.476667</td>\n",
       "      <td>0.650000</td>\n",
       "      <td>17.000000</td>\n",
       "      <td>17.666667</td>\n",
       "      <td>1.613395</td>\n",
       "    </tr>\n",
       "    <tr>\n",
       "      <th>...</th>\n",
       "      <td>...</td>\n",
       "      <td>...</td>\n",
       "      <td>...</td>\n",
       "      <td>...</td>\n",
       "      <td>...</td>\n",
       "      <td>...</td>\n",
       "      <td>...</td>\n",
       "    </tr>\n",
       "    <tr>\n",
       "      <th>2018-10-16 00:00:00</th>\n",
       "      <td>2018-10-16 00:00:00</td>\n",
       "      <td>1.282679</td>\n",
       "      <td>0.946667</td>\n",
       "      <td>0.826667</td>\n",
       "      <td>20.333333</td>\n",
       "      <td>16.666667</td>\n",
       "      <td>1.256804</td>\n",
       "    </tr>\n",
       "    <tr>\n",
       "      <th>2018-10-16 01:05:00</th>\n",
       "      <td>2018-10-16 01:00:00</td>\n",
       "      <td>0.809309</td>\n",
       "      <td>-0.210000</td>\n",
       "      <td>0.680000</td>\n",
       "      <td>35.500000</td>\n",
       "      <td>27.000000</td>\n",
       "      <td>0.711688</td>\n",
       "    </tr>\n",
       "    <tr>\n",
       "      <th>2018-10-16 01:51:00</th>\n",
       "      <td>2018-10-16 02:00:00</td>\n",
       "      <td>0.484035</td>\n",
       "      <td>-0.010000</td>\n",
       "      <td>0.275000</td>\n",
       "      <td>21.000000</td>\n",
       "      <td>38.000000</td>\n",
       "      <td>0.275182</td>\n",
       "    </tr>\n",
       "    <tr>\n",
       "      <th>2018-10-16 02:56:00</th>\n",
       "      <td>2018-10-16 03:00:00</td>\n",
       "      <td>0.587213</td>\n",
       "      <td>0.063333</td>\n",
       "      <td>0.510000</td>\n",
       "      <td>36.666667</td>\n",
       "      <td>17.666667</td>\n",
       "      <td>0.513917</td>\n",
       "    </tr>\n",
       "    <tr>\n",
       "      <th>2018-10-16 03:59:00</th>\n",
       "      <td>2018-10-16 04:00:00</td>\n",
       "      <td>1.119199</td>\n",
       "      <td>0.660000</td>\n",
       "      <td>0.895000</td>\n",
       "      <td>29.500000</td>\n",
       "      <td>27.500000</td>\n",
       "      <td>1.112036</td>\n",
       "    </tr>\n",
       "    <tr>\n",
       "      <th>2018-10-16 05:02:00</th>\n",
       "      <td>2018-10-16 05:00:00</td>\n",
       "      <td>0.682257</td>\n",
       "      <td>0.196667</td>\n",
       "      <td>0.623333</td>\n",
       "      <td>22.333333</td>\n",
       "      <td>36.666667</td>\n",
       "      <td>0.653622</td>\n",
       "    </tr>\n",
       "    <tr>\n",
       "      <th>2018-10-16 06:08:00</th>\n",
       "      <td>2018-10-16 06:00:00</td>\n",
       "      <td>0.314842</td>\n",
       "      <td>0.100000</td>\n",
       "      <td>-0.155000</td>\n",
       "      <td>38.000000</td>\n",
       "      <td>17.000000</td>\n",
       "      <td>0.184459</td>\n",
       "    </tr>\n",
       "    <tr>\n",
       "      <th>2018-10-16 06:45:00</th>\n",
       "      <td>2018-10-16 07:00:00</td>\n",
       "      <td>1.154957</td>\n",
       "      <td>0.730000</td>\n",
       "      <td>-0.895000</td>\n",
       "      <td>45.000000</td>\n",
       "      <td>0.000000</td>\n",
       "      <td>1.154957</td>\n",
       "    </tr>\n",
       "    <tr>\n",
       "      <th>2018-10-16 07:41:00</th>\n",
       "      <td>2018-10-16 08:00:00</td>\n",
       "      <td>1.679490</td>\n",
       "      <td>-0.095000</td>\n",
       "      <td>-1.650000</td>\n",
       "      <td>40.500000</td>\n",
       "      <td>44.000000</td>\n",
       "      <td>1.652733</td>\n",
       "    </tr>\n",
       "    <tr>\n",
       "      <th>2018-10-16 08:31:00</th>\n",
       "      <td>2018-10-16 09:00:00</td>\n",
       "      <td>1.596152</td>\n",
       "      <td>0.140000</td>\n",
       "      <td>-1.590000</td>\n",
       "      <td>31.000000</td>\n",
       "      <td>28.000000</td>\n",
       "      <td>1.596152</td>\n",
       "    </tr>\n",
       "    <tr>\n",
       "      <th>2018-10-16 10:17:00</th>\n",
       "      <td>2018-10-16 10:00:00</td>\n",
       "      <td>0.470894</td>\n",
       "      <td>-0.010000</td>\n",
       "      <td>-0.465000</td>\n",
       "      <td>17.000000</td>\n",
       "      <td>31.500000</td>\n",
       "      <td>0.465108</td>\n",
       "    </tr>\n",
       "    <tr>\n",
       "      <th>2018-10-16 11:10:00</th>\n",
       "      <td>2018-10-16 11:00:00</td>\n",
       "      <td>0.793267</td>\n",
       "      <td>0.715000</td>\n",
       "      <td>-0.265000</td>\n",
       "      <td>40.000000</td>\n",
       "      <td>17.000000</td>\n",
       "      <td>0.762529</td>\n",
       "    </tr>\n",
       "    <tr>\n",
       "      <th>2018-10-16 11:55:00</th>\n",
       "      <td>2018-10-16 12:00:00</td>\n",
       "      <td>1.016379</td>\n",
       "      <td>0.995000</td>\n",
       "      <td>-0.205000</td>\n",
       "      <td>25.500000</td>\n",
       "      <td>28.000000</td>\n",
       "      <td>1.015899</td>\n",
       "    </tr>\n",
       "    <tr>\n",
       "      <th>2018-10-16 13:01:00</th>\n",
       "      <td>2018-10-16 13:00:00</td>\n",
       "      <td>0.540374</td>\n",
       "      <td>-0.060000</td>\n",
       "      <td>0.496667</td>\n",
       "      <td>40.666667</td>\n",
       "      <td>38.333333</td>\n",
       "      <td>0.500278</td>\n",
       "    </tr>\n",
       "    <tr>\n",
       "      <th>2018-10-16 14:04:00</th>\n",
       "      <td>2018-10-16 14:00:00</td>\n",
       "      <td>0.950463</td>\n",
       "      <td>-0.165000</td>\n",
       "      <td>0.930000</td>\n",
       "      <td>34.000000</td>\n",
       "      <td>17.500000</td>\n",
       "      <td>0.944524</td>\n",
       "    </tr>\n",
       "    <tr>\n",
       "      <th>2018-10-16 15:07:00</th>\n",
       "      <td>2018-10-16 15:00:00</td>\n",
       "      <td>0.363959</td>\n",
       "      <td>-0.070000</td>\n",
       "      <td>0.353333</td>\n",
       "      <td>27.000000</td>\n",
       "      <td>17.333333</td>\n",
       "      <td>0.360201</td>\n",
       "    </tr>\n",
       "    <tr>\n",
       "      <th>2018-10-16 16:12:00</th>\n",
       "      <td>2018-10-16 16:00:00</td>\n",
       "      <td>0.330624</td>\n",
       "      <td>-0.290000</td>\n",
       "      <td>-0.070000</td>\n",
       "      <td>42.000000</td>\n",
       "      <td>38.000000</td>\n",
       "      <td>0.298329</td>\n",
       "    </tr>\n",
       "    <tr>\n",
       "      <th>2018-10-16 16:58:00</th>\n",
       "      <td>2018-10-16 17:00:00</td>\n",
       "      <td>1.229323</td>\n",
       "      <td>-1.140000</td>\n",
       "      <td>0.030000</td>\n",
       "      <td>28.000000</td>\n",
       "      <td>19.000000</td>\n",
       "      <td>1.140395</td>\n",
       "    </tr>\n",
       "    <tr>\n",
       "      <th>2018-10-16 18:03:00</th>\n",
       "      <td>2018-10-16 18:00:00</td>\n",
       "      <td>0.916055</td>\n",
       "      <td>-0.723333</td>\n",
       "      <td>0.210000</td>\n",
       "      <td>43.000000</td>\n",
       "      <td>39.333333</td>\n",
       "      <td>0.753201</td>\n",
       "    </tr>\n",
       "    <tr>\n",
       "      <th>2018-10-16 19:06:00</th>\n",
       "      <td>2018-10-16 19:00:00</td>\n",
       "      <td>0.521166</td>\n",
       "      <td>0.415000</td>\n",
       "      <td>-0.315000</td>\n",
       "      <td>36.000000</td>\n",
       "      <td>38.500000</td>\n",
       "      <td>0.521009</td>\n",
       "    </tr>\n",
       "    <tr>\n",
       "      <th>2018-10-16 19:59:00</th>\n",
       "      <td>2018-10-16 20:00:00</td>\n",
       "      <td>0.578942</td>\n",
       "      <td>0.565000</td>\n",
       "      <td>0.055000</td>\n",
       "      <td>29.000000</td>\n",
       "      <td>23.000000</td>\n",
       "      <td>0.567671</td>\n",
       "    </tr>\n",
       "    <tr>\n",
       "      <th>2018-10-16 21:00:00</th>\n",
       "      <td>2018-10-16 21:00:00</td>\n",
       "      <td>1.214905</td>\n",
       "      <td>1.136667</td>\n",
       "      <td>-0.410000</td>\n",
       "      <td>19.666667</td>\n",
       "      <td>21.000000</td>\n",
       "      <td>1.208351</td>\n",
       "    </tr>\n",
       "    <tr>\n",
       "      <th>2018-10-16 22:00:00</th>\n",
       "      <td>2018-10-16 22:00:00</td>\n",
       "      <td>2.613204</td>\n",
       "      <td>2.225000</td>\n",
       "      <td>-1.370000</td>\n",
       "      <td>30.000000</td>\n",
       "      <td>39.000000</td>\n",
       "      <td>2.612953</td>\n",
       "    </tr>\n",
       "    <tr>\n",
       "      <th>2018-10-16 22:53:00</th>\n",
       "      <td>2018-10-16 23:00:00</td>\n",
       "      <td>2.371992</td>\n",
       "      <td>2.260000</td>\n",
       "      <td>-0.715000</td>\n",
       "      <td>23.000000</td>\n",
       "      <td>23.500000</td>\n",
       "      <td>2.370406</td>\n",
       "    </tr>\n",
       "    <tr>\n",
       "      <th>2018-10-16 23:56:00</th>\n",
       "      <td>2018-10-17 00:00:00</td>\n",
       "      <td>2.757881</td>\n",
       "      <td>2.553333</td>\n",
       "      <td>-1.036667</td>\n",
       "      <td>16.000000</td>\n",
       "      <td>22.666667</td>\n",
       "      <td>2.755756</td>\n",
       "    </tr>\n",
       "    <tr>\n",
       "      <th>2018-10-17 01:01:00</th>\n",
       "      <td>2018-10-17 01:00:00</td>\n",
       "      <td>2.777722</td>\n",
       "      <td>2.715000</td>\n",
       "      <td>-0.240000</td>\n",
       "      <td>31.000000</td>\n",
       "      <td>43.000000</td>\n",
       "      <td>2.725587</td>\n",
       "    </tr>\n",
       "    <tr>\n",
       "      <th>2018-10-17 01:47:00</th>\n",
       "      <td>2018-10-17 02:00:00</td>\n",
       "      <td>1.873738</td>\n",
       "      <td>1.615000</td>\n",
       "      <td>-0.895000</td>\n",
       "      <td>17.000000</td>\n",
       "      <td>24.000000</td>\n",
       "      <td>1.846415</td>\n",
       "    </tr>\n",
       "    <tr>\n",
       "      <th>2018-10-17 02:52:00</th>\n",
       "      <td>2018-10-17 03:00:00</td>\n",
       "      <td>1.172875</td>\n",
       "      <td>0.876667</td>\n",
       "      <td>-0.776667</td>\n",
       "      <td>32.333333</td>\n",
       "      <td>24.333333</td>\n",
       "      <td>1.171220</td>\n",
       "    </tr>\n",
       "    <tr>\n",
       "      <th>2018-10-17 03:55:00</th>\n",
       "      <td>2018-10-17 04:00:00</td>\n",
       "      <td>0.244100</td>\n",
       "      <td>0.135000</td>\n",
       "      <td>-0.110000</td>\n",
       "      <td>25.000000</td>\n",
       "      <td>43.500000</td>\n",
       "      <td>0.174141</td>\n",
       "    </tr>\n",
       "    <tr>\n",
       "      <th>2018-10-17 04:48:00</th>\n",
       "      <td>2018-10-17 05:00:00</td>\n",
       "      <td>0.745551</td>\n",
       "      <td>-0.585000</td>\n",
       "      <td>0.450000</td>\n",
       "      <td>18.000000</td>\n",
       "      <td>28.000000</td>\n",
       "      <td>0.738055</td>\n",
       "    </tr>\n",
       "  </tbody>\n",
       "</table>\n",
       "<p>31250 rows × 7 columns</p>\n",
       "</div>"
      ],
      "text/plain": [
       "                    Date_time_Merge_hour  Current_mag  Easting (cm/sec)  \\\n",
       "Date_time_R                                                               \n",
       "2014-10-11 13:04:00  2014-10-11 13:00:00     0.908994         -0.233333   \n",
       "2014-10-11 13:57:00  2014-10-11 14:00:00     1.350541          0.330000   \n",
       "2014-10-11 14:41:00  2014-10-11 15:00:00     0.907747          0.200000   \n",
       "2014-10-11 15:57:00  2014-10-11 16:00:00     1.129383          0.980000   \n",
       "2014-10-11 16:56:00  2014-10-11 17:00:00     2.642760          2.380000   \n",
       "2014-10-11 18:51:00  2014-10-11 19:00:00     4.305535          3.150000   \n",
       "2014-10-11 19:55:00  2014-10-11 20:00:00     4.011699          3.030000   \n",
       "2014-10-11 21:02:00  2014-10-11 21:00:00     2.783442          2.515000   \n",
       "2014-10-11 21:48:00  2014-10-11 22:00:00     2.596728          2.500000   \n",
       "2014-10-11 22:54:00  2014-10-11 23:00:00     2.736859          2.140000   \n",
       "2014-10-11 23:58:00  2014-10-12 00:00:00     1.947592          0.750000   \n",
       "2014-10-12 01:02:00  2014-10-12 01:00:00     1.255648          0.760000   \n",
       "2014-10-12 02:09:00  2014-10-12 02:00:00     1.969672         -0.490000   \n",
       "2014-10-12 02:55:00  2014-10-12 03:00:00     2.434411         -0.680000   \n",
       "2014-10-12 04:01:00  2014-10-12 04:00:00     1.426716          0.133333   \n",
       "2014-10-12 05:05:00  2014-10-12 05:00:00     0.633325          0.425000   \n",
       "2014-10-12 05:59:00  2014-10-12 06:00:00     0.987494          0.670000   \n",
       "2014-10-12 06:45:00  2014-10-12 07:00:00     1.356342          0.965000   \n",
       "2014-10-12 07:52:00  2014-10-12 08:00:00     2.084823          1.923333   \n",
       "2014-10-12 08:56:00  2014-10-12 09:00:00     2.424363          2.345000   \n",
       "2014-10-12 10:00:00  2014-10-12 10:00:00     3.180281          2.246667   \n",
       "2014-10-12 11:06:00  2014-10-12 11:00:00     2.097375          1.385000   \n",
       "2014-10-12 11:52:00  2014-10-12 12:00:00     1.571759          1.490000   \n",
       "2014-10-12 12:59:00  2014-10-12 13:00:00     0.662715         -0.066667   \n",
       "2014-10-12 14:03:00  2014-10-12 14:00:00     1.113038         -0.795000   \n",
       "2014-10-12 15:07:00  2014-10-12 15:00:00     1.005690         -0.926667   \n",
       "2014-10-12 16:13:00  2014-10-12 16:00:00     1.392084         -1.220000   \n",
       "2014-10-12 16:59:00  2014-10-12 17:00:00     1.108782         -1.080000   \n",
       "2014-10-12 17:53:00  2014-10-12 18:00:00     0.511667         -0.260000   \n",
       "2014-10-12 18:57:00  2014-10-12 19:00:00     1.629922          1.476667   \n",
       "...                                  ...          ...               ...   \n",
       "2018-10-16 00:00:00  2018-10-16 00:00:00     1.282679          0.946667   \n",
       "2018-10-16 01:05:00  2018-10-16 01:00:00     0.809309         -0.210000   \n",
       "2018-10-16 01:51:00  2018-10-16 02:00:00     0.484035         -0.010000   \n",
       "2018-10-16 02:56:00  2018-10-16 03:00:00     0.587213          0.063333   \n",
       "2018-10-16 03:59:00  2018-10-16 04:00:00     1.119199          0.660000   \n",
       "2018-10-16 05:02:00  2018-10-16 05:00:00     0.682257          0.196667   \n",
       "2018-10-16 06:08:00  2018-10-16 06:00:00     0.314842          0.100000   \n",
       "2018-10-16 06:45:00  2018-10-16 07:00:00     1.154957          0.730000   \n",
       "2018-10-16 07:41:00  2018-10-16 08:00:00     1.679490         -0.095000   \n",
       "2018-10-16 08:31:00  2018-10-16 09:00:00     1.596152          0.140000   \n",
       "2018-10-16 10:17:00  2018-10-16 10:00:00     0.470894         -0.010000   \n",
       "2018-10-16 11:10:00  2018-10-16 11:00:00     0.793267          0.715000   \n",
       "2018-10-16 11:55:00  2018-10-16 12:00:00     1.016379          0.995000   \n",
       "2018-10-16 13:01:00  2018-10-16 13:00:00     0.540374         -0.060000   \n",
       "2018-10-16 14:04:00  2018-10-16 14:00:00     0.950463         -0.165000   \n",
       "2018-10-16 15:07:00  2018-10-16 15:00:00     0.363959         -0.070000   \n",
       "2018-10-16 16:12:00  2018-10-16 16:00:00     0.330624         -0.290000   \n",
       "2018-10-16 16:58:00  2018-10-16 17:00:00     1.229323         -1.140000   \n",
       "2018-10-16 18:03:00  2018-10-16 18:00:00     0.916055         -0.723333   \n",
       "2018-10-16 19:06:00  2018-10-16 19:00:00     0.521166          0.415000   \n",
       "2018-10-16 19:59:00  2018-10-16 20:00:00     0.578942          0.565000   \n",
       "2018-10-16 21:00:00  2018-10-16 21:00:00     1.214905          1.136667   \n",
       "2018-10-16 22:00:00  2018-10-16 22:00:00     2.613204          2.225000   \n",
       "2018-10-16 22:53:00  2018-10-16 23:00:00     2.371992          2.260000   \n",
       "2018-10-16 23:56:00  2018-10-17 00:00:00     2.757881          2.553333   \n",
       "2018-10-17 01:01:00  2018-10-17 01:00:00     2.777722          2.715000   \n",
       "2018-10-17 01:47:00  2018-10-17 02:00:00     1.873738          1.615000   \n",
       "2018-10-17 02:52:00  2018-10-17 03:00:00     1.172875          0.876667   \n",
       "2018-10-17 03:55:00  2018-10-17 04:00:00     0.244100          0.135000   \n",
       "2018-10-17 04:48:00  2018-10-17 05:00:00     0.745551         -0.585000   \n",
       "\n",
       "                     Northing (cm/sec)    Minutes    Seconds     speed  \n",
       "Date_time_R                                                             \n",
       "2014-10-11 13:04:00           0.860000  44.333333  33.000000  0.891092  \n",
       "2014-10-11 13:57:00          -0.160000  26.500000  34.500000  0.366742  \n",
       "2014-10-11 14:41:00          -0.325000  40.500000  32.500000  0.381608  \n",
       "2014-10-11 15:57:00          -0.280000  27.500000  24.500000  1.019215  \n",
       "2014-10-11 16:56:00          -1.065000  25.500000  34.500000  2.607417  \n",
       "2014-10-11 18:51:00          -2.900000  51.000000  48.500000  4.281647  \n",
       "2014-10-11 19:55:00          -2.513333  15.333333  26.666667  3.936717  \n",
       "2014-10-11 21:02:00          -1.085000  31.500000  38.500000  2.739060  \n",
       "2014-10-11 21:48:00          -0.285000  18.000000  32.000000  2.516193  \n",
       "2014-10-11 22:54:00           1.663333  34.666667  13.000000  2.710402  \n",
       "2014-10-11 23:58:00           1.795000  28.000000  50.500000  1.945386  \n",
       "2014-10-12 01:02:00           0.850000  22.333333  28.000000  1.140219  \n",
       "2014-10-12 02:09:00           1.900000  38.500000  39.000000  1.962167  \n",
       "2014-10-12 02:55:00           2.320000  25.000000  32.000000  2.417602  \n",
       "2014-10-12 04:01:00           1.243333  41.666667  13.000000  1.250462  \n",
       "2014-10-12 05:05:00          -0.465000  35.000000  50.500000  0.629960  \n",
       "2014-10-12 05:59:00          -0.720000  29.000000  24.000000  0.983514  \n",
       "2014-10-12 06:45:00          -0.865000  15.000000  46.500000  1.295936  \n",
       "2014-10-12 07:52:00          -0.750000  31.666667  27.000000  2.064391  \n",
       "2014-10-12 08:56:00           0.225000  26.000000   4.500000  2.355770  \n",
       "2014-10-12 10:00:00           2.120000  19.333333  41.333333  3.088998  \n",
       "2014-10-12 11:06:00           1.575000  36.000000  22.000000  2.097344  \n",
       "2014-10-12 11:52:00           0.490000  22.000000  45.500000  1.568502  \n",
       "2014-10-12 12:59:00           0.556667  38.666667  27.000000  0.560644  \n",
       "2014-10-12 14:03:00          -0.765000  33.000000   4.500000  1.103291  \n",
       "2014-10-12 15:07:00          -0.350000  26.333333  42.000000  0.990561  \n",
       "2014-10-12 16:13:00          -0.665000  43.000000  23.500000  1.389469  \n",
       "2014-10-12 16:59:00           0.200000  29.000000  46.000000  1.098362  \n",
       "2014-10-12 17:53:00           0.405000  23.000000  20.500000  0.481274  \n",
       "2014-10-12 18:57:00           0.650000  17.000000  17.666667  1.613395  \n",
       "...                                ...        ...        ...       ...  \n",
       "2018-10-16 00:00:00           0.826667  20.333333  16.666667  1.256804  \n",
       "2018-10-16 01:05:00           0.680000  35.500000  27.000000  0.711688  \n",
       "2018-10-16 01:51:00           0.275000  21.000000  38.000000  0.275182  \n",
       "2018-10-16 02:56:00           0.510000  36.666667  17.666667  0.513917  \n",
       "2018-10-16 03:59:00           0.895000  29.500000  27.500000  1.112036  \n",
       "2018-10-16 05:02:00           0.623333  22.333333  36.666667  0.653622  \n",
       "2018-10-16 06:08:00          -0.155000  38.000000  17.000000  0.184459  \n",
       "2018-10-16 06:45:00          -0.895000  45.000000   0.000000  1.154957  \n",
       "2018-10-16 07:41:00          -1.650000  40.500000  44.000000  1.652733  \n",
       "2018-10-16 08:31:00          -1.590000  31.000000  28.000000  1.596152  \n",
       "2018-10-16 10:17:00          -0.465000  17.000000  31.500000  0.465108  \n",
       "2018-10-16 11:10:00          -0.265000  40.000000  17.000000  0.762529  \n",
       "2018-10-16 11:55:00          -0.205000  25.500000  28.000000  1.015899  \n",
       "2018-10-16 13:01:00           0.496667  40.666667  38.333333  0.500278  \n",
       "2018-10-16 14:04:00           0.930000  34.000000  17.500000  0.944524  \n",
       "2018-10-16 15:07:00           0.353333  27.000000  17.333333  0.360201  \n",
       "2018-10-16 16:12:00          -0.070000  42.000000  38.000000  0.298329  \n",
       "2018-10-16 16:58:00           0.030000  28.000000  19.000000  1.140395  \n",
       "2018-10-16 18:03:00           0.210000  43.000000  39.333333  0.753201  \n",
       "2018-10-16 19:06:00          -0.315000  36.000000  38.500000  0.521009  \n",
       "2018-10-16 19:59:00           0.055000  29.000000  23.000000  0.567671  \n",
       "2018-10-16 21:00:00          -0.410000  19.666667  21.000000  1.208351  \n",
       "2018-10-16 22:00:00          -1.370000  30.000000  39.000000  2.612953  \n",
       "2018-10-16 22:53:00          -0.715000  23.000000  23.500000  2.370406  \n",
       "2018-10-16 23:56:00          -1.036667  16.000000  22.666667  2.755756  \n",
       "2018-10-17 01:01:00          -0.240000  31.000000  43.000000  2.725587  \n",
       "2018-10-17 01:47:00          -0.895000  17.000000  24.000000  1.846415  \n",
       "2018-10-17 02:52:00          -0.776667  32.333333  24.333333  1.171220  \n",
       "2018-10-17 03:55:00          -0.110000  25.000000  43.500000  0.174141  \n",
       "2018-10-17 04:48:00           0.450000  18.000000  28.000000  0.738055  \n",
       "\n",
       "[31250 rows x 7 columns]"
      ]
     },
     "execution_count": 58,
     "metadata": {},
     "output_type": "execute_result"
    }
   ],
   "source": [
    "dfsub"
   ]
  },
  {
   "cell_type": "code",
   "execution_count": 68,
   "metadata": {},
   "outputs": [],
   "source": [
    "hourly = dfsub.resample('2H',limit=1).mean()"
   ]
  },
  {
   "cell_type": "code",
   "execution_count": 69,
   "metadata": {},
   "outputs": [],
   "source": [
    "#print(hourly)\n",
    "hourly_time_number = (hourly.index-np.datetime64('2000-01-01T00:00'))/np.timedelta64(1,'D')"
   ]
  },
  {
   "cell_type": "code",
   "execution_count": 70,
   "metadata": {},
   "outputs": [
    {
     "name": "stderr",
     "output_type": "stream",
     "text": [
      "/Users/tomconnolly/programs/anaconda/envs/py37/lib/python3.7/site-packages/matplotlib/pyplot.py:514: RuntimeWarning: More than 20 figures have been opened. Figures created through the pyplot interface (`matplotlib.pyplot.figure`) are retained until explicitly closed and may consume too much memory. (To control this warning, see the rcParam `figure.max_open_warning`).\n",
      "  max_open_warning, RuntimeWarning)\n"
     ]
    },
    {
     "data": {
      "application/vnd.jupyter.widget-view+json": {
       "model_id": "0cd51b857ba544348cbd669f09967590",
       "version_major": 2,
       "version_minor": 0
      },
      "text/plain": [
       "FigureCanvasNbAgg()"
      ]
     },
     "metadata": {},
     "output_type": "display_data"
    },
    {
     "data": {
      "text/plain": [
       "[<matplotlib.lines.Line2D at 0x1c2df0d080>]"
      ]
     },
     "execution_count": 70,
     "metadata": {},
     "output_type": "execute_result"
    }
   ],
   "source": [
    "plt.figure()\n",
    "plt.plot(hourly.index,hourly['Easting (cm/sec)'])"
   ]
  },
  {
   "cell_type": "code",
   "execution_count": 71,
   "metadata": {},
   "outputs": [
    {
     "name": "stderr",
     "output_type": "stream",
     "text": [
      "/Users/tomconnolly/programs/anaconda/envs/py37/lib/python3.7/site-packages/matplotlib/pyplot.py:514: RuntimeWarning: More than 20 figures have been opened. Figures created through the pyplot interface (`matplotlib.pyplot.figure`) are retained until explicitly closed and may consume too much memory. (To control this warning, see the rcParam `figure.max_open_warning`).\n",
      "  max_open_warning, RuntimeWarning)\n"
     ]
    },
    {
     "data": {
      "application/vnd.jupyter.widget-view+json": {
       "model_id": "8f9c7c09d2ae42feaf079dd150144114",
       "version_major": 2,
       "version_minor": 0
      },
      "text/plain": [
       "FigureCanvasNbAgg()"
      ]
     },
     "metadata": {},
     "output_type": "display_data"
    },
    {
     "data": {
      "text/plain": [
       "[<matplotlib.lines.Line2D at 0x1c318731d0>]"
      ]
     },
     "execution_count": 71,
     "metadata": {},
     "output_type": "execute_result"
    }
   ],
   "source": [
    "plt.figure()\n",
    "plt.plot(dfsub.index,dfsub['Easting (cm/sec)'])"
   ]
  },
  {
   "cell_type": "code",
   "execution_count": 32,
   "metadata": {},
   "outputs": [],
   "source": [
    "#set interpolate to 2 hours "
   ]
  },
  {
   "cell_type": "code",
   "execution_count": null,
   "metadata": {},
   "outputs": [],
   "source": []
  },
  {
   "cell_type": "code",
   "execution_count": null,
   "metadata": {},
   "outputs": [],
   "source": []
  },
  {
   "cell_type": "code",
   "execution_count": 72,
   "metadata": {},
   "outputs": [
    {
     "name": "stderr",
     "output_type": "stream",
     "text": [
      "/Users/tomconnolly/programs/anaconda/envs/py37/lib/python3.7/site-packages/ipykernel/__main__.py:3: SettingWithCopyWarning: \n",
      "A value is trying to be set on a copy of a slice from a DataFrame.\n",
      "Try using .loc[row_indexer,col_indexer] = value instead\n",
      "\n",
      "See the caveats in the documentation: http://pandas.pydata.org/pandas-docs/stable/indexing.html#indexing-view-versus-copy\n",
      "  app.launch_new_instance()\n"
     ]
    },
    {
     "data": {
      "text/html": [
       "<div>\n",
       "<style scoped>\n",
       "    .dataframe tbody tr th:only-of-type {\n",
       "        vertical-align: middle;\n",
       "    }\n",
       "\n",
       "    .dataframe tbody tr th {\n",
       "        vertical-align: top;\n",
       "    }\n",
       "\n",
       "    .dataframe thead th {\n",
       "        text-align: right;\n",
       "    }\n",
       "</style>\n",
       "<table border=\"1\" class=\"dataframe\">\n",
       "  <thead>\n",
       "    <tr style=\"text-align: right;\">\n",
       "      <th></th>\n",
       "      <th>Date_time_Merge_hour</th>\n",
       "      <th>Current_mag</th>\n",
       "      <th>Easting (cm/sec)</th>\n",
       "      <th>Northing (cm/sec)</th>\n",
       "      <th>Minutes</th>\n",
       "      <th>Seconds</th>\n",
       "      <th>speed</th>\n",
       "      <th>dates</th>\n",
       "    </tr>\n",
       "    <tr>\n",
       "      <th>Date_time_R</th>\n",
       "      <th></th>\n",
       "      <th></th>\n",
       "      <th></th>\n",
       "      <th></th>\n",
       "      <th></th>\n",
       "      <th></th>\n",
       "      <th></th>\n",
       "      <th></th>\n",
       "    </tr>\n",
       "  </thead>\n",
       "  <tbody>\n",
       "    <tr>\n",
       "      <th>2011-11-20 13:11:00</th>\n",
       "      <td>2011-11-20 13:00:00</td>\n",
       "      <td>7.712734</td>\n",
       "      <td>-3.678000</td>\n",
       "      <td>-1.354000</td>\n",
       "      <td>10.8</td>\n",
       "      <td>32.0</td>\n",
       "      <td>3.919311</td>\n",
       "      <td>2011-11-20 13:11:00</td>\n",
       "    </tr>\n",
       "    <tr>\n",
       "      <th>2011-11-20 13:56:00</th>\n",
       "      <td>2011-11-20 14:00:00</td>\n",
       "      <td>1.711170</td>\n",
       "      <td>1.253333</td>\n",
       "      <td>-0.853333</td>\n",
       "      <td>16.0</td>\n",
       "      <td>13.0</td>\n",
       "      <td>1.516253</td>\n",
       "      <td>2011-11-20 13:56:00</td>\n",
       "    </tr>\n",
       "    <tr>\n",
       "      <th>2011-11-20 14:55:00</th>\n",
       "      <td>2011-11-20 15:00:00</td>\n",
       "      <td>2.024802</td>\n",
       "      <td>1.080000</td>\n",
       "      <td>-1.430000</td>\n",
       "      <td>25.0</td>\n",
       "      <td>30.0</td>\n",
       "      <td>1.792010</td>\n",
       "      <td>2011-11-20 14:55:00</td>\n",
       "    </tr>\n",
       "    <tr>\n",
       "      <th>2011-11-20 15:59:00</th>\n",
       "      <td>2011-11-20 16:00:00</td>\n",
       "      <td>3.567306</td>\n",
       "      <td>-1.413333</td>\n",
       "      <td>-3.036667</td>\n",
       "      <td>19.0</td>\n",
       "      <td>28.0</td>\n",
       "      <td>3.349456</td>\n",
       "      <td>2011-11-20 15:59:00</td>\n",
       "    </tr>\n",
       "    <tr>\n",
       "      <th>2011-11-20 18:22:00</th>\n",
       "      <td>2011-11-20 18:00:00</td>\n",
       "      <td>3.677635</td>\n",
       "      <td>-2.650000</td>\n",
       "      <td>-2.550000</td>\n",
       "      <td>22.0</td>\n",
       "      <td>32.0</td>\n",
       "      <td>3.677635</td>\n",
       "      <td>2011-11-20 18:22:00</td>\n",
       "    </tr>\n",
       "  </tbody>\n",
       "</table>\n",
       "</div>"
      ],
      "text/plain": [
       "                    Date_time_Merge_hour  Current_mag  Easting (cm/sec)  \\\n",
       "Date_time_R                                                               \n",
       "2011-11-20 13:11:00  2011-11-20 13:00:00     7.712734         -3.678000   \n",
       "2011-11-20 13:56:00  2011-11-20 14:00:00     1.711170          1.253333   \n",
       "2011-11-20 14:55:00  2011-11-20 15:00:00     2.024802          1.080000   \n",
       "2011-11-20 15:59:00  2011-11-20 16:00:00     3.567306         -1.413333   \n",
       "2011-11-20 18:22:00  2011-11-20 18:00:00     3.677635         -2.650000   \n",
       "\n",
       "                     Northing (cm/sec)  Minutes  Seconds     speed  \\\n",
       "Date_time_R                                                          \n",
       "2011-11-20 13:11:00          -1.354000     10.8     32.0  3.919311   \n",
       "2011-11-20 13:56:00          -0.853333     16.0     13.0  1.516253   \n",
       "2011-11-20 14:55:00          -1.430000     25.0     30.0  1.792010   \n",
       "2011-11-20 15:59:00          -3.036667     19.0     28.0  3.349456   \n",
       "2011-11-20 18:22:00          -2.550000     22.0     32.0  3.677635   \n",
       "\n",
       "                                  dates  \n",
       "Date_time_R                              \n",
       "2011-11-20 13:11:00 2011-11-20 13:11:00  \n",
       "2011-11-20 13:56:00 2011-11-20 13:56:00  \n",
       "2011-11-20 14:55:00 2011-11-20 14:55:00  \n",
       "2011-11-20 15:59:00 2011-11-20 15:59:00  \n",
       "2011-11-20 18:22:00 2011-11-20 18:22:00  "
      ]
     },
     "execution_count": 72,
     "metadata": {},
     "output_type": "execute_result"
    }
   ],
   "source": [
    "#separating out the data from the year 2011-2013\n",
    "dates_2011_2013 = df.loc['2011-01-01':'2013-1-31']\n",
    "dates_2011_2013['dates'] = dates_2011_2013.index\n",
    "\n",
    "dates_2011_2013.head()"
   ]
  },
  {
   "cell_type": "code",
   "execution_count": 73,
   "metadata": {},
   "outputs": [
    {
     "name": "stderr",
     "output_type": "stream",
     "text": [
      "/Users/tomconnolly/programs/anaconda/envs/py37/lib/python3.7/site-packages/ipykernel/__main__.py:2: SettingWithCopyWarning: \n",
      "A value is trying to be set on a copy of a slice from a DataFrame.\n",
      "Try using .loc[row_indexer,col_indexer] = value instead\n",
      "\n",
      "See the caveats in the documentation: http://pandas.pydata.org/pandas-docs/stable/indexing.html#indexing-view-versus-copy\n",
      "  from ipykernel import kernelapp as app\n"
     ]
    },
    {
     "data": {
      "text/html": [
       "<div>\n",
       "<style scoped>\n",
       "    .dataframe tbody tr th:only-of-type {\n",
       "        vertical-align: middle;\n",
       "    }\n",
       "\n",
       "    .dataframe tbody tr th {\n",
       "        vertical-align: top;\n",
       "    }\n",
       "\n",
       "    .dataframe thead th {\n",
       "        text-align: right;\n",
       "    }\n",
       "</style>\n",
       "<table border=\"1\" class=\"dataframe\">\n",
       "  <thead>\n",
       "    <tr style=\"text-align: right;\">\n",
       "      <th></th>\n",
       "      <th>Date_time_Merge_hour</th>\n",
       "      <th>Current_mag</th>\n",
       "      <th>Easting (cm/sec)</th>\n",
       "      <th>Northing (cm/sec)</th>\n",
       "      <th>Minutes</th>\n",
       "      <th>Seconds</th>\n",
       "      <th>speed</th>\n",
       "      <th>dates</th>\n",
       "    </tr>\n",
       "    <tr>\n",
       "      <th>Date_time_R</th>\n",
       "      <th></th>\n",
       "      <th></th>\n",
       "      <th></th>\n",
       "      <th></th>\n",
       "      <th></th>\n",
       "      <th></th>\n",
       "      <th></th>\n",
       "      <th></th>\n",
       "    </tr>\n",
       "  </thead>\n",
       "  <tbody>\n",
       "    <tr>\n",
       "      <th>2011-11-20 13:11:00</th>\n",
       "      <td>2011-11-20 13:00:00</td>\n",
       "      <td>7.712734</td>\n",
       "      <td>-3.678000</td>\n",
       "      <td>-1.354000</td>\n",
       "      <td>10.8</td>\n",
       "      <td>32.0</td>\n",
       "      <td>3.919311</td>\n",
       "      <td>2011-11-20 13:11:00</td>\n",
       "    </tr>\n",
       "    <tr>\n",
       "      <th>2011-11-20 13:56:00</th>\n",
       "      <td>2011-11-20 14:00:00</td>\n",
       "      <td>1.711170</td>\n",
       "      <td>1.253333</td>\n",
       "      <td>-0.853333</td>\n",
       "      <td>16.0</td>\n",
       "      <td>13.0</td>\n",
       "      <td>1.516253</td>\n",
       "      <td>2011-11-20 13:56:00</td>\n",
       "    </tr>\n",
       "    <tr>\n",
       "      <th>2011-11-20 14:55:00</th>\n",
       "      <td>2011-11-20 15:00:00</td>\n",
       "      <td>2.024802</td>\n",
       "      <td>1.080000</td>\n",
       "      <td>-1.430000</td>\n",
       "      <td>25.0</td>\n",
       "      <td>30.0</td>\n",
       "      <td>1.792010</td>\n",
       "      <td>2011-11-20 14:55:00</td>\n",
       "    </tr>\n",
       "    <tr>\n",
       "      <th>2011-11-20 15:59:00</th>\n",
       "      <td>2011-11-20 16:00:00</td>\n",
       "      <td>3.567306</td>\n",
       "      <td>-1.413333</td>\n",
       "      <td>-3.036667</td>\n",
       "      <td>19.0</td>\n",
       "      <td>28.0</td>\n",
       "      <td>3.349456</td>\n",
       "      <td>2011-11-20 15:59:00</td>\n",
       "    </tr>\n",
       "    <tr>\n",
       "      <th>2011-11-20 18:22:00</th>\n",
       "      <td>2011-11-20 18:00:00</td>\n",
       "      <td>3.677635</td>\n",
       "      <td>-2.650000</td>\n",
       "      <td>-2.550000</td>\n",
       "      <td>22.0</td>\n",
       "      <td>32.0</td>\n",
       "      <td>3.677635</td>\n",
       "      <td>2011-11-20 18:22:00</td>\n",
       "    </tr>\n",
       "  </tbody>\n",
       "</table>\n",
       "</div>"
      ],
      "text/plain": [
       "                    Date_time_Merge_hour  Current_mag  Easting (cm/sec)  \\\n",
       "Date_time_R                                                               \n",
       "2011-11-20 13:11:00  2011-11-20 13:00:00     7.712734         -3.678000   \n",
       "2011-11-20 13:56:00  2011-11-20 14:00:00     1.711170          1.253333   \n",
       "2011-11-20 14:55:00  2011-11-20 15:00:00     2.024802          1.080000   \n",
       "2011-11-20 15:59:00  2011-11-20 16:00:00     3.567306         -1.413333   \n",
       "2011-11-20 18:22:00  2011-11-20 18:00:00     3.677635         -2.650000   \n",
       "\n",
       "                     Northing (cm/sec)  Minutes  Seconds     speed  \\\n",
       "Date_time_R                                                          \n",
       "2011-11-20 13:11:00          -1.354000     10.8     32.0  3.919311   \n",
       "2011-11-20 13:56:00          -0.853333     16.0     13.0  1.516253   \n",
       "2011-11-20 14:55:00          -1.430000     25.0     30.0  1.792010   \n",
       "2011-11-20 15:59:00          -3.036667     19.0     28.0  3.349456   \n",
       "2011-11-20 18:22:00          -2.550000     22.0     32.0  3.677635   \n",
       "\n",
       "                                  dates  \n",
       "Date_time_R                              \n",
       "2011-11-20 13:11:00 2011-11-20 13:11:00  \n",
       "2011-11-20 13:56:00 2011-11-20 13:56:00  \n",
       "2011-11-20 14:55:00 2011-11-20 14:55:00  \n",
       "2011-11-20 15:59:00 2011-11-20 15:59:00  \n",
       "2011-11-20 18:22:00 2011-11-20 18:22:00  "
      ]
     },
     "execution_count": 73,
     "metadata": {},
     "output_type": "execute_result"
    }
   ],
   "source": [
    "#calculating the speed of the current \n",
    "dates_2011_2013['speed'] = np.sqrt((dates_2011_2013['Easting (cm/sec)']**2) + (dates_2011_2013['Northing (cm/sec)']**2))\n",
    "dates_2011_2013.head()"
   ]
  },
  {
   "cell_type": "code",
   "execution_count": null,
   "metadata": {},
   "outputs": [],
   "source": []
  },
  {
   "cell_type": "code",
   "execution_count": 74,
   "metadata": {},
   "outputs": [],
   "source": [
    "monthly_averages_2011 = dates_2011_2013.resample('1m').mean()"
   ]
  },
  {
   "cell_type": "code",
   "execution_count": 75,
   "metadata": {},
   "outputs": [
    {
     "name": "stderr",
     "output_type": "stream",
     "text": [
      "/Users/tomconnolly/programs/anaconda/envs/py37/lib/python3.7/site-packages/matplotlib/pyplot.py:514: RuntimeWarning: More than 20 figures have been opened. Figures created through the pyplot interface (`matplotlib.pyplot.figure`) are retained until explicitly closed and may consume too much memory. (To control this warning, see the rcParam `figure.max_open_warning`).\n",
      "  max_open_warning, RuntimeWarning)\n"
     ]
    },
    {
     "data": {
      "application/vnd.jupyter.widget-view+json": {
       "model_id": "31b3104be39046fc841af7fe24c6442e",
       "version_major": 2,
       "version_minor": 0
      },
      "text/plain": [
       "FigureCanvasNbAgg()"
      ]
     },
     "metadata": {},
     "output_type": "display_data"
    },
    {
     "data": {
      "text/plain": [
       "Text(0, 0.5, 'Speed [cm/s]')"
      ]
     },
     "execution_count": 75,
     "metadata": {},
     "output_type": "execute_result"
    }
   ],
   "source": [
    "plt.figure(figsize = (10,5))\n",
    "plt.plot(monthly_averages_2011.index, monthly_averages_2011['speed'])\n",
    "plt.xlabel('Time [year-month]')\n",
    "plt.ylabel('Speed [cm/s]')\n"
   ]
  },
  {
   "cell_type": "code",
   "execution_count": 76,
   "metadata": {},
   "outputs": [
    {
     "name": "stdout",
     "output_type": "stream",
     "text": [
      "2522.6506944444445\n"
     ]
    }
   ],
   "source": [
    "date_time_number_2011 = (dates_2011_2013['dates']-np.datetime64('2000-01-01T00:00'))/np.timedelta64(1,'D')\n",
    "data_2011 = dates_2011_2013['Easting (cm/sec)']\n",
    "record_length_2011 = (date_time_number_2011[-1]-date_time_number_2011[0])\n",
    "#top_time = (2*np.pi)/(1/24)\n",
    "print(record_length)\n",
    "\n",
    "top = 24*(np.pi*2)\n",
    "freq_2011 = np.linspace(((1/record_length_2011)*(np.pi*2)), top, 100)"
   ]
  },
  {
   "cell_type": "code",
   "execution_count": 77,
   "metadata": {},
   "outputs": [],
   "source": [
    "#freq_2011_2 = freq_2011/(2*np.pi)\n",
    "top_2011 = np.log10(top)\n",
    "first_2011 = np.log10((1/record_length_2011)*(np.pi*2))\n",
    "\n",
    "freq_2011_2 = np.logspace(first_2011, top_2011, 100)\n",
    "\n",
    "pgram_2011 = signal.lombscargle(date_time_number_2011, data_2011, freq_2011_2)"
   ]
  },
  {
   "cell_type": "code",
   "execution_count": 78,
   "metadata": {},
   "outputs": [
    {
     "name": "stderr",
     "output_type": "stream",
     "text": [
      "/Users/tomconnolly/programs/anaconda/envs/py37/lib/python3.7/site-packages/matplotlib/pyplot.py:514: RuntimeWarning: More than 20 figures have been opened. Figures created through the pyplot interface (`matplotlib.pyplot.figure`) are retained until explicitly closed and may consume too much memory. (To control this warning, see the rcParam `figure.max_open_warning`).\n",
      "  max_open_warning, RuntimeWarning)\n"
     ]
    },
    {
     "data": {
      "application/vnd.jupyter.widget-view+json": {
       "model_id": "6bc9ab299a1b498aa62193a6af0d5e5e",
       "version_major": 2,
       "version_minor": 0
      },
      "text/plain": [
       "FigureCanvasNbAgg()"
      ]
     },
     "metadata": {},
     "output_type": "display_data"
    }
   ],
   "source": [
    "plt.figure()\n",
    "plt.loglog(freq_2011_2, pgram_2011)\n",
    "plt.savefig('2011_spectral_analysis.png')"
   ]
  },
  {
   "cell_type": "code",
   "execution_count": 79,
   "metadata": {},
   "outputs": [
    {
     "name": "stderr",
     "output_type": "stream",
     "text": [
      "/Users/tomconnolly/programs/anaconda/envs/py37/lib/python3.7/site-packages/ipykernel/__main__.py:3: SettingWithCopyWarning: \n",
      "A value is trying to be set on a copy of a slice from a DataFrame.\n",
      "Try using .loc[row_indexer,col_indexer] = value instead\n",
      "\n",
      "See the caveats in the documentation: http://pandas.pydata.org/pandas-docs/stable/indexing.html#indexing-view-versus-copy\n",
      "  app.launch_new_instance()\n"
     ]
    },
    {
     "data": {
      "text/html": [
       "<div>\n",
       "<style scoped>\n",
       "    .dataframe tbody tr th:only-of-type {\n",
       "        vertical-align: middle;\n",
       "    }\n",
       "\n",
       "    .dataframe tbody tr th {\n",
       "        vertical-align: top;\n",
       "    }\n",
       "\n",
       "    .dataframe thead th {\n",
       "        text-align: right;\n",
       "    }\n",
       "</style>\n",
       "<table border=\"1\" class=\"dataframe\">\n",
       "  <thead>\n",
       "    <tr style=\"text-align: right;\">\n",
       "      <th></th>\n",
       "      <th>Date_time_Merge_hour</th>\n",
       "      <th>Current_mag</th>\n",
       "      <th>Easting (cm/sec)</th>\n",
       "      <th>Northing (cm/sec)</th>\n",
       "      <th>Minutes</th>\n",
       "      <th>Seconds</th>\n",
       "      <th>speed</th>\n",
       "      <th>dates</th>\n",
       "    </tr>\n",
       "    <tr>\n",
       "      <th>Date_time_R</th>\n",
       "      <th></th>\n",
       "      <th></th>\n",
       "      <th></th>\n",
       "      <th></th>\n",
       "      <th></th>\n",
       "      <th></th>\n",
       "      <th></th>\n",
       "      <th></th>\n",
       "    </tr>\n",
       "  </thead>\n",
       "  <tbody>\n",
       "    <tr>\n",
       "      <th>2014-10-11 13:04:00</th>\n",
       "      <td>2014-10-11 13:00:00</td>\n",
       "      <td>0.908994</td>\n",
       "      <td>-0.233333</td>\n",
       "      <td>0.860</td>\n",
       "      <td>44.333333</td>\n",
       "      <td>33.0</td>\n",
       "      <td>0.891092</td>\n",
       "      <td>2014-10-11 13:04:00</td>\n",
       "    </tr>\n",
       "    <tr>\n",
       "      <th>2014-10-11 13:57:00</th>\n",
       "      <td>2014-10-11 14:00:00</td>\n",
       "      <td>1.350541</td>\n",
       "      <td>0.330000</td>\n",
       "      <td>-0.160</td>\n",
       "      <td>26.500000</td>\n",
       "      <td>34.5</td>\n",
       "      <td>0.366742</td>\n",
       "      <td>2014-10-11 13:57:00</td>\n",
       "    </tr>\n",
       "    <tr>\n",
       "      <th>2014-10-11 14:41:00</th>\n",
       "      <td>2014-10-11 15:00:00</td>\n",
       "      <td>0.907747</td>\n",
       "      <td>0.200000</td>\n",
       "      <td>-0.325</td>\n",
       "      <td>40.500000</td>\n",
       "      <td>32.5</td>\n",
       "      <td>0.381608</td>\n",
       "      <td>2014-10-11 14:41:00</td>\n",
       "    </tr>\n",
       "    <tr>\n",
       "      <th>2014-10-11 15:57:00</th>\n",
       "      <td>2014-10-11 16:00:00</td>\n",
       "      <td>1.129383</td>\n",
       "      <td>0.980000</td>\n",
       "      <td>-0.280</td>\n",
       "      <td>27.500000</td>\n",
       "      <td>24.5</td>\n",
       "      <td>1.019215</td>\n",
       "      <td>2014-10-11 15:57:00</td>\n",
       "    </tr>\n",
       "    <tr>\n",
       "      <th>2014-10-11 16:56:00</th>\n",
       "      <td>2014-10-11 17:00:00</td>\n",
       "      <td>2.642760</td>\n",
       "      <td>2.380000</td>\n",
       "      <td>-1.065</td>\n",
       "      <td>25.500000</td>\n",
       "      <td>34.5</td>\n",
       "      <td>2.607417</td>\n",
       "      <td>2014-10-11 16:56:00</td>\n",
       "    </tr>\n",
       "  </tbody>\n",
       "</table>\n",
       "</div>"
      ],
      "text/plain": [
       "                    Date_time_Merge_hour  Current_mag  Easting (cm/sec)  \\\n",
       "Date_time_R                                                               \n",
       "2014-10-11 13:04:00  2014-10-11 13:00:00     0.908994         -0.233333   \n",
       "2014-10-11 13:57:00  2014-10-11 14:00:00     1.350541          0.330000   \n",
       "2014-10-11 14:41:00  2014-10-11 15:00:00     0.907747          0.200000   \n",
       "2014-10-11 15:57:00  2014-10-11 16:00:00     1.129383          0.980000   \n",
       "2014-10-11 16:56:00  2014-10-11 17:00:00     2.642760          2.380000   \n",
       "\n",
       "                     Northing (cm/sec)    Minutes  Seconds     speed  \\\n",
       "Date_time_R                                                            \n",
       "2014-10-11 13:04:00              0.860  44.333333     33.0  0.891092   \n",
       "2014-10-11 13:57:00             -0.160  26.500000     34.5  0.366742   \n",
       "2014-10-11 14:41:00             -0.325  40.500000     32.5  0.381608   \n",
       "2014-10-11 15:57:00             -0.280  27.500000     24.5  1.019215   \n",
       "2014-10-11 16:56:00             -1.065  25.500000     34.5  2.607417   \n",
       "\n",
       "                                  dates  \n",
       "Date_time_R                              \n",
       "2014-10-11 13:04:00 2014-10-11 13:04:00  \n",
       "2014-10-11 13:57:00 2014-10-11 13:57:00  \n",
       "2014-10-11 14:41:00 2014-10-11 14:41:00  \n",
       "2014-10-11 15:57:00 2014-10-11 15:57:00  \n",
       "2014-10-11 16:56:00 2014-10-11 16:56:00  "
      ]
     },
     "execution_count": 79,
     "metadata": {},
     "output_type": "execute_result"
    }
   ],
   "source": [
    "#separating out the data from the year 2014-2015\n",
    "dates_2014_2015 = df.loc['2014-01-01':'2015-6-30']\n",
    "dates_2014_2015['dates'] = dates_2014_2015.index\n",
    "\n",
    "dates_2014_2015.head()"
   ]
  },
  {
   "cell_type": "code",
   "execution_count": 80,
   "metadata": {},
   "outputs": [
    {
     "name": "stderr",
     "output_type": "stream",
     "text": [
      "/Users/tomconnolly/programs/anaconda/envs/py37/lib/python3.7/site-packages/ipykernel/__main__.py:2: SettingWithCopyWarning: \n",
      "A value is trying to be set on a copy of a slice from a DataFrame.\n",
      "Try using .loc[row_indexer,col_indexer] = value instead\n",
      "\n",
      "See the caveats in the documentation: http://pandas.pydata.org/pandas-docs/stable/indexing.html#indexing-view-versus-copy\n",
      "  from ipykernel import kernelapp as app\n"
     ]
    },
    {
     "data": {
      "text/html": [
       "<div>\n",
       "<style scoped>\n",
       "    .dataframe tbody tr th:only-of-type {\n",
       "        vertical-align: middle;\n",
       "    }\n",
       "\n",
       "    .dataframe tbody tr th {\n",
       "        vertical-align: top;\n",
       "    }\n",
       "\n",
       "    .dataframe thead th {\n",
       "        text-align: right;\n",
       "    }\n",
       "</style>\n",
       "<table border=\"1\" class=\"dataframe\">\n",
       "  <thead>\n",
       "    <tr style=\"text-align: right;\">\n",
       "      <th></th>\n",
       "      <th>Date_time_Merge_hour</th>\n",
       "      <th>Current_mag</th>\n",
       "      <th>Easting (cm/sec)</th>\n",
       "      <th>Northing (cm/sec)</th>\n",
       "      <th>Minutes</th>\n",
       "      <th>Seconds</th>\n",
       "      <th>speed</th>\n",
       "      <th>dates</th>\n",
       "    </tr>\n",
       "    <tr>\n",
       "      <th>Date_time_R</th>\n",
       "      <th></th>\n",
       "      <th></th>\n",
       "      <th></th>\n",
       "      <th></th>\n",
       "      <th></th>\n",
       "      <th></th>\n",
       "      <th></th>\n",
       "      <th></th>\n",
       "    </tr>\n",
       "  </thead>\n",
       "  <tbody>\n",
       "    <tr>\n",
       "      <th>2014-10-11 13:04:00</th>\n",
       "      <td>2014-10-11 13:00:00</td>\n",
       "      <td>0.908994</td>\n",
       "      <td>-0.233333</td>\n",
       "      <td>0.860</td>\n",
       "      <td>44.333333</td>\n",
       "      <td>33.0</td>\n",
       "      <td>0.891092</td>\n",
       "      <td>2014-10-11 13:04:00</td>\n",
       "    </tr>\n",
       "    <tr>\n",
       "      <th>2014-10-11 13:57:00</th>\n",
       "      <td>2014-10-11 14:00:00</td>\n",
       "      <td>1.350541</td>\n",
       "      <td>0.330000</td>\n",
       "      <td>-0.160</td>\n",
       "      <td>26.500000</td>\n",
       "      <td>34.5</td>\n",
       "      <td>0.366742</td>\n",
       "      <td>2014-10-11 13:57:00</td>\n",
       "    </tr>\n",
       "    <tr>\n",
       "      <th>2014-10-11 14:41:00</th>\n",
       "      <td>2014-10-11 15:00:00</td>\n",
       "      <td>0.907747</td>\n",
       "      <td>0.200000</td>\n",
       "      <td>-0.325</td>\n",
       "      <td>40.500000</td>\n",
       "      <td>32.5</td>\n",
       "      <td>0.381608</td>\n",
       "      <td>2014-10-11 14:41:00</td>\n",
       "    </tr>\n",
       "    <tr>\n",
       "      <th>2014-10-11 15:57:00</th>\n",
       "      <td>2014-10-11 16:00:00</td>\n",
       "      <td>1.129383</td>\n",
       "      <td>0.980000</td>\n",
       "      <td>-0.280</td>\n",
       "      <td>27.500000</td>\n",
       "      <td>24.5</td>\n",
       "      <td>1.019215</td>\n",
       "      <td>2014-10-11 15:57:00</td>\n",
       "    </tr>\n",
       "    <tr>\n",
       "      <th>2014-10-11 16:56:00</th>\n",
       "      <td>2014-10-11 17:00:00</td>\n",
       "      <td>2.642760</td>\n",
       "      <td>2.380000</td>\n",
       "      <td>-1.065</td>\n",
       "      <td>25.500000</td>\n",
       "      <td>34.5</td>\n",
       "      <td>2.607417</td>\n",
       "      <td>2014-10-11 16:56:00</td>\n",
       "    </tr>\n",
       "  </tbody>\n",
       "</table>\n",
       "</div>"
      ],
      "text/plain": [
       "                    Date_time_Merge_hour  Current_mag  Easting (cm/sec)  \\\n",
       "Date_time_R                                                               \n",
       "2014-10-11 13:04:00  2014-10-11 13:00:00     0.908994         -0.233333   \n",
       "2014-10-11 13:57:00  2014-10-11 14:00:00     1.350541          0.330000   \n",
       "2014-10-11 14:41:00  2014-10-11 15:00:00     0.907747          0.200000   \n",
       "2014-10-11 15:57:00  2014-10-11 16:00:00     1.129383          0.980000   \n",
       "2014-10-11 16:56:00  2014-10-11 17:00:00     2.642760          2.380000   \n",
       "\n",
       "                     Northing (cm/sec)    Minutes  Seconds     speed  \\\n",
       "Date_time_R                                                            \n",
       "2014-10-11 13:04:00              0.860  44.333333     33.0  0.891092   \n",
       "2014-10-11 13:57:00             -0.160  26.500000     34.5  0.366742   \n",
       "2014-10-11 14:41:00             -0.325  40.500000     32.5  0.381608   \n",
       "2014-10-11 15:57:00             -0.280  27.500000     24.5  1.019215   \n",
       "2014-10-11 16:56:00             -1.065  25.500000     34.5  2.607417   \n",
       "\n",
       "                                  dates  \n",
       "Date_time_R                              \n",
       "2014-10-11 13:04:00 2014-10-11 13:04:00  \n",
       "2014-10-11 13:57:00 2014-10-11 13:57:00  \n",
       "2014-10-11 14:41:00 2014-10-11 14:41:00  \n",
       "2014-10-11 15:57:00 2014-10-11 15:57:00  \n",
       "2014-10-11 16:56:00 2014-10-11 16:56:00  "
      ]
     },
     "execution_count": 80,
     "metadata": {},
     "output_type": "execute_result"
    }
   ],
   "source": [
    "#calculating the speed of the current \n",
    "dates_2014_2015['speed'] = np.sqrt((dates_2014_2015['Easting (cm/sec)']**2) + (dates_2014_2015['Northing (cm/sec)']**2))\n",
    "dates_2014_2015.head()"
   ]
  },
  {
   "cell_type": "code",
   "execution_count": 81,
   "metadata": {},
   "outputs": [
    {
     "name": "stderr",
     "output_type": "stream",
     "text": [
      "/Users/tomconnolly/programs/anaconda/envs/py37/lib/python3.7/site-packages/matplotlib/pyplot.py:514: RuntimeWarning: More than 20 figures have been opened. Figures created through the pyplot interface (`matplotlib.pyplot.figure`) are retained until explicitly closed and may consume too much memory. (To control this warning, see the rcParam `figure.max_open_warning`).\n",
      "  max_open_warning, RuntimeWarning)\n"
     ]
    },
    {
     "data": {
      "application/vnd.jupyter.widget-view+json": {
       "model_id": "7f0ff6ea35a345b18a618ac6b92f6267",
       "version_major": 2,
       "version_minor": 0
      },
      "text/plain": [
       "FigureCanvasNbAgg()"
      ]
     },
     "metadata": {},
     "output_type": "display_data"
    },
    {
     "data": {
      "text/plain": [
       "[<matplotlib.lines.Line2D at 0x1c2ec245f8>]"
      ]
     },
     "execution_count": 81,
     "metadata": {},
     "output_type": "execute_result"
    }
   ],
   "source": [
    "plt.figure()\n",
    "plt.plot(dates_2014_2015.index, dates_2014_2015['speed'])"
   ]
  },
  {
   "cell_type": "code",
   "execution_count": 83,
   "metadata": {},
   "outputs": [],
   "source": [
    "monthly_averages_2014 = dates_2014_2015.resample('1m').mean()"
   ]
  },
  {
   "cell_type": "code",
   "execution_count": 84,
   "metadata": {},
   "outputs": [
    {
     "name": "stderr",
     "output_type": "stream",
     "text": [
      "/Users/tomconnolly/programs/anaconda/envs/py37/lib/python3.7/site-packages/matplotlib/pyplot.py:514: RuntimeWarning: More than 20 figures have been opened. Figures created through the pyplot interface (`matplotlib.pyplot.figure`) are retained until explicitly closed and may consume too much memory. (To control this warning, see the rcParam `figure.max_open_warning`).\n",
      "  max_open_warning, RuntimeWarning)\n"
     ]
    },
    {
     "data": {
      "application/vnd.jupyter.widget-view+json": {
       "model_id": "d5c50acd9f92469194b5a5b0f5beebb1",
       "version_major": 2,
       "version_minor": 0
      },
      "text/plain": [
       "FigureCanvasNbAgg()"
      ]
     },
     "metadata": {},
     "output_type": "display_data"
    },
    {
     "data": {
      "text/plain": [
       "Text(0, 0.5, 'Speed [cm/s]')"
      ]
     },
     "execution_count": 84,
     "metadata": {},
     "output_type": "execute_result"
    }
   ],
   "source": [
    "plt.figure(figsize = (10,5))\n",
    "plt.plot(monthly_averages_2014.index, monthly_averages_2014['speed'])\n",
    "plt.xlabel('Time [year-month]')\n",
    "plt.ylabel('Speed [cm/s]')"
   ]
  },
  {
   "cell_type": "code",
   "execution_count": 85,
   "metadata": {},
   "outputs": [
    {
     "name": "stdout",
     "output_type": "stream",
     "text": [
      "2522.6506944444445\n"
     ]
    }
   ],
   "source": [
    "date_time_number_2014 = (dates_2014_2015['dates']-np.datetime64('2000-01-01T00:00'))/np.timedelta64(1,'D')\n",
    "data_2014 = dates_2014_2015['Easting (cm/sec)']\n",
    "record_length_2014 = (date_time_number_2014[-1]-date_time_number_2014[0])\n",
    "#top_time = (2*np.pi)/(1/24)\n",
    "print(record_length)\n",
    "\n",
    "top = 24*(np.pi*2)\n",
    "freq_2014 = np.linspace(((1/record_length_2014)*(np.pi*2)), top, 100)"
   ]
  },
  {
   "cell_type": "code",
   "execution_count": 86,
   "metadata": {},
   "outputs": [],
   "source": [
    "#freq_2011_2 = freq_2011/(2*np.pi)\n",
    "top_2014 = np.log10(top)\n",
    "first_2014 = np.log10((1/record_length_2014)*(np.pi*2))\n",
    "\n",
    "freq_2014_2 = np.logspace(first_2014, top_2014, 100)\n",
    "\n",
    "pgram_2014 = signal.lombscargle(date_time_number_2014, data_2014, freq_2014_2)"
   ]
  },
  {
   "cell_type": "code",
   "execution_count": 87,
   "metadata": {},
   "outputs": [
    {
     "name": "stderr",
     "output_type": "stream",
     "text": [
      "/Users/tomconnolly/programs/anaconda/envs/py37/lib/python3.7/site-packages/matplotlib/pyplot.py:514: RuntimeWarning: More than 20 figures have been opened. Figures created through the pyplot interface (`matplotlib.pyplot.figure`) are retained until explicitly closed and may consume too much memory. (To control this warning, see the rcParam `figure.max_open_warning`).\n",
      "  max_open_warning, RuntimeWarning)\n"
     ]
    },
    {
     "data": {
      "application/vnd.jupyter.widget-view+json": {
       "model_id": "5ab4ea8811e644fca1abfa5b3b202bd3",
       "version_major": 2,
       "version_minor": 0
      },
      "text/plain": [
       "FigureCanvasNbAgg()"
      ]
     },
     "metadata": {},
     "output_type": "display_data"
    }
   ],
   "source": [
    "plt.figure()\n",
    "plt.loglog(freq_2014_2, pgram_2014)\n",
    "plt.savefig('2014_spectral_analysis.png')"
   ]
  },
  {
   "cell_type": "code",
   "execution_count": null,
   "metadata": {},
   "outputs": [],
   "source": []
  },
  {
   "cell_type": "code",
   "execution_count": null,
   "metadata": {},
   "outputs": [],
   "source": []
  }
 ],
 "metadata": {
  "kernelspec": {
   "display_name": "Python [conda env:py37]",
   "language": "python",
   "name": "conda-env-py37-py"
  },
  "language_info": {
   "codemirror_mode": {
    "name": "ipython",
    "version": 3
   },
   "file_extension": ".py",
   "mimetype": "text/x-python",
   "name": "python",
   "nbconvert_exporter": "python",
   "pygments_lexer": "ipython3",
   "version": "3.7.2"
  }
 },
 "nbformat": 4,
 "nbformat_minor": 2
}
