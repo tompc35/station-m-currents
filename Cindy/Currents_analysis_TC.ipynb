{
 "cells": [
  {
   "cell_type": "code",
   "execution_count": 1,
   "metadata": {},
   "outputs": [],
   "source": [
    "%matplotlib ipympl\n",
    "import pandas as pd\n",
    "import numpy as np\n",
    "import matplotlib.pyplot as plt"
   ]
  },
  {
   "cell_type": "code",
   "execution_count": 2,
   "metadata": {},
   "outputs": [],
   "source": [
    "current_file = '../data/Rover_II_Current_Mag_Hourly_Avg_pad_2018.csv'"
   ]
  },
  {
   "cell_type": "code",
   "execution_count": 3,
   "metadata": {},
   "outputs": [],
   "source": [
    "df = pd.read_csv(current_file,parse_dates=[1])"
   ]
  },
  {
   "cell_type": "code",
   "execution_count": 4,
   "metadata": {},
   "outputs": [
    {
     "data": {
      "text/html": [
       "<div>\n",
       "<style scoped>\n",
       "    .dataframe tbody tr th:only-of-type {\n",
       "        vertical-align: middle;\n",
       "    }\n",
       "\n",
       "    .dataframe tbody tr th {\n",
       "        vertical-align: top;\n",
       "    }\n",
       "\n",
       "    .dataframe thead th {\n",
       "        text-align: right;\n",
       "    }\n",
       "</style>\n",
       "<table border=\"1\" class=\"dataframe\">\n",
       "  <thead>\n",
       "    <tr style=\"text-align: right;\">\n",
       "      <th></th>\n",
       "      <th>Unnamed: 0</th>\n",
       "      <th>Date_time_Merge_hour</th>\n",
       "      <th>Current_mag</th>\n",
       "      <th>Easting (cm/sec)</th>\n",
       "      <th>Northing (cm/sec)</th>\n",
       "      <th>Minutes</th>\n",
       "      <th>Seconds</th>\n",
       "      <th>Date_time_R</th>\n",
       "    </tr>\n",
       "  </thead>\n",
       "  <tbody>\n",
       "    <tr>\n",
       "      <th>0</th>\n",
       "      <td>1</td>\n",
       "      <td>2011-11-20 13:00:00</td>\n",
       "      <td>7.712734</td>\n",
       "      <td>-3.678000</td>\n",
       "      <td>-1.354000</td>\n",
       "      <td>10.8</td>\n",
       "      <td>32.0</td>\n",
       "      <td>11/20/2011 13:11</td>\n",
       "    </tr>\n",
       "    <tr>\n",
       "      <th>1</th>\n",
       "      <td>2</td>\n",
       "      <td>2011-11-20 14:00:00</td>\n",
       "      <td>1.711170</td>\n",
       "      <td>1.253333</td>\n",
       "      <td>-0.853333</td>\n",
       "      <td>16.0</td>\n",
       "      <td>13.0</td>\n",
       "      <td>11/20/2011 13:56</td>\n",
       "    </tr>\n",
       "    <tr>\n",
       "      <th>2</th>\n",
       "      <td>3</td>\n",
       "      <td>2011-11-20 15:00:00</td>\n",
       "      <td>2.024802</td>\n",
       "      <td>1.080000</td>\n",
       "      <td>-1.430000</td>\n",
       "      <td>25.0</td>\n",
       "      <td>30.0</td>\n",
       "      <td>11/20/2011 14:55</td>\n",
       "    </tr>\n",
       "    <tr>\n",
       "      <th>3</th>\n",
       "      <td>4</td>\n",
       "      <td>2011-11-20 16:00:00</td>\n",
       "      <td>3.567306</td>\n",
       "      <td>-1.413333</td>\n",
       "      <td>-3.036667</td>\n",
       "      <td>19.0</td>\n",
       "      <td>28.0</td>\n",
       "      <td>11/20/2011 15:59</td>\n",
       "    </tr>\n",
       "    <tr>\n",
       "      <th>4</th>\n",
       "      <td>5</td>\n",
       "      <td>2011-11-20 17:00:00</td>\n",
       "      <td>NaN</td>\n",
       "      <td>NaN</td>\n",
       "      <td>NaN</td>\n",
       "      <td>NaN</td>\n",
       "      <td>NaN</td>\n",
       "      <td>NaN</td>\n",
       "    </tr>\n",
       "  </tbody>\n",
       "</table>\n",
       "</div>"
      ],
      "text/plain": [
       "   Unnamed: 0 Date_time_Merge_hour  Current_mag  Easting (cm/sec)  \\\n",
       "0           1  2011-11-20 13:00:00     7.712734         -3.678000   \n",
       "1           2  2011-11-20 14:00:00     1.711170          1.253333   \n",
       "2           3  2011-11-20 15:00:00     2.024802          1.080000   \n",
       "3           4  2011-11-20 16:00:00     3.567306         -1.413333   \n",
       "4           5  2011-11-20 17:00:00          NaN               NaN   \n",
       "\n",
       "   Northing (cm/sec)  Minutes  Seconds       Date_time_R  \n",
       "0          -1.354000     10.8     32.0  11/20/2011 13:11  \n",
       "1          -0.853333     16.0     13.0  11/20/2011 13:56  \n",
       "2          -1.430000     25.0     30.0  11/20/2011 14:55  \n",
       "3          -3.036667     19.0     28.0  11/20/2011 15:59  \n",
       "4                NaN      NaN      NaN               NaN  "
      ]
     },
     "execution_count": 4,
     "metadata": {},
     "output_type": "execute_result"
    }
   ],
   "source": [
    "df.head()"
   ]
  },
  {
   "cell_type": "code",
   "execution_count": 5,
   "metadata": {},
   "outputs": [],
   "source": [
    "df['Date_time_R'] = pd.to_datetime(df['Date_time_R'])"
   ]
  },
  {
   "cell_type": "code",
   "execution_count": 6,
   "metadata": {},
   "outputs": [],
   "source": [
    "df = df.set_index('Date_time_R')"
   ]
  },
  {
   "cell_type": "code",
   "execution_count": 7,
   "metadata": {},
   "outputs": [],
   "source": [
    "df = df.drop('Unnamed: 0', axis = 1)"
   ]
  },
  {
   "cell_type": "code",
   "execution_count": 8,
   "metadata": {},
   "outputs": [],
   "source": [
    "#calculating speed for the whole data set\n",
    "df['speed'] = np.sqrt((df['Easting (cm/sec)']**2) + (df['Northing (cm/sec)']**2))"
   ]
  },
  {
   "cell_type": "code",
   "execution_count": 9,
   "metadata": {},
   "outputs": [],
   "source": [
    "dfmonthly = df.resample('1m').mean()"
   ]
  },
  {
   "cell_type": "code",
   "execution_count": 10,
   "metadata": {},
   "outputs": [
    {
     "data": {
      "application/vnd.jupyter.widget-view+json": {
       "model_id": "a68a8612e540438dba0dc0a02835f5e1",
       "version_major": 2,
       "version_minor": 0
      },
      "text/plain": [
       "FigureCanvasNbAgg()"
      ]
     },
     "metadata": {},
     "output_type": "display_data"
    },
    {
     "data": {
      "text/plain": [
       "Text(0, 0.5, 'Speed [cm/s]')"
      ]
     },
     "execution_count": 10,
     "metadata": {},
     "output_type": "execute_result"
    }
   ],
   "source": [
    "plt.figure(figsize = (6,3))\n",
    "plt.plot(dfmonthly.index, dfmonthly['speed'])\n",
    "plt.xlabel('Time [year]')\n",
    "plt.ylabel('Speed [cm/s]')"
   ]
  },
  {
   "cell_type": "code",
   "execution_count": 11,
   "metadata": {},
   "outputs": [
    {
     "data": {
      "application/vnd.jupyter.widget-view+json": {
       "model_id": "4a9d1b1c49ba474eb0f69d107fe847ac",
       "version_major": 2,
       "version_minor": 0
      },
      "text/plain": [
       "FigureCanvasNbAgg()"
      ]
     },
     "metadata": {},
     "output_type": "display_data"
    },
    {
     "data": {
      "text/plain": [
       "Text(0, 0.5, 'Speed [cm/s]')"
      ]
     },
     "execution_count": 11,
     "metadata": {},
     "output_type": "execute_result"
    }
   ],
   "source": [
    "plt.figure(figsize = (6,3))\n",
    "plt.plot(df.index, df['speed'])\n",
    "plt.xlabel('Time [year]')\n",
    "plt.ylabel('Speed [cm/s]')"
   ]
  },
  {
   "cell_type": "code",
   "execution_count": 12,
   "metadata": {},
   "outputs": [],
   "source": [
    "#separating out the data from the year 2016-2018\n",
    "dfsub = df.loc['2015-09-01':'2018-12-31']"
   ]
  },
  {
   "cell_type": "code",
   "execution_count": 13,
   "metadata": {},
   "outputs": [],
   "source": [
    "#taking the monthy averages of the speed of the current \n",
    "dfsubmonthly = dfsub.resample('1m').mean()"
   ]
  },
  {
   "cell_type": "code",
   "execution_count": 14,
   "metadata": {},
   "outputs": [
    {
     "data": {
      "application/vnd.jupyter.widget-view+json": {
       "model_id": "4e4aa48e794b4cf588c2dfcf637801d1",
       "version_major": 2,
       "version_minor": 0
      },
      "text/plain": [
       "FigureCanvasNbAgg()"
      ]
     },
     "metadata": {},
     "output_type": "display_data"
    },
    {
     "data": {
      "text/plain": [
       "Text(0, 0.5, 'Speed [cm/s]')"
      ]
     },
     "execution_count": 14,
     "metadata": {},
     "output_type": "execute_result"
    }
   ],
   "source": [
    "plt.figure(figsize = (5,3))\n",
    "plt.plot(dfsubmonthly.index, dfsubmonthly['Easting (cm/sec)'])\n",
    "plt.xlabel('Time [year-month]')\n",
    "plt.ylabel('Speed [cm/s]')"
   ]
  },
  {
   "cell_type": "code",
   "execution_count": 15,
   "metadata": {},
   "outputs": [],
   "source": [
    "date_time_number = (dfsub.index-np.datetime64('2000-01-01T00:00'))/np.timedelta64(1,'D')\n",
    "#print(date_time_number)\n",
    "\n",
    "#might need to convert dataframes to numpy arrays \n",
    "#this converts a time difference over a time difference to a number \n"
   ]
  },
  {
   "cell_type": "code",
   "execution_count": 16,
   "metadata": {},
   "outputs": [],
   "source": [
    "#find longest uninterupted segment \n",
    "#U or v starting off \n",
    "#sampling frequency (put in times and then measurement values) \n",
    "#use datetime as number\n",
    "#pick frequecies to go on x-axis (highest would be 1 hour- lowest would be defined as the record length = last minus first length of time )\n",
    "#start with 100 arrays see what it gives me\n",
    "#page 458 "
   ]
  },
  {
   "cell_type": "code",
   "execution_count": 17,
   "metadata": {},
   "outputs": [],
   "source": [
    "import scipy.signal as signal\n"
   ]
  },
  {
   "cell_type": "code",
   "execution_count": 18,
   "metadata": {},
   "outputs": [],
   "source": [
    "u = np.array(dfsub['Easting (cm/sec)'])\n",
    "v = np.array(dfsub['Northing (cm/sec)'])"
   ]
  },
  {
   "cell_type": "code",
   "execution_count": 19,
   "metadata": {},
   "outputs": [],
   "source": [
    "fi, = np.where(np.isfinite(u))\n",
    "N = len(fi)"
   ]
  },
  {
   "cell_type": "code",
   "execution_count": 20,
   "metadata": {},
   "outputs": [
    {
     "name": "stdout",
     "output_type": "stream",
     "text": [
      "1073.2458333333334\n"
     ]
    }
   ],
   "source": [
    "record_length = (date_time_number[fi][-1]-date_time_number[fi][0])\n",
    "print(record_length)"
   ]
  },
  {
   "cell_type": "code",
   "execution_count": 21,
   "metadata": {},
   "outputs": [],
   "source": [
    "nyqst = N/(2*record_length)"
   ]
  },
  {
   "cell_type": "code",
   "execution_count": 22,
   "metadata": {},
   "outputs": [],
   "source": [
    "top = nyqst*(np.pi*2)\n",
    "freq = np.linspace(((1/record_length)*(np.pi*2)), top, 100)"
   ]
  },
  {
   "cell_type": "code",
   "execution_count": 23,
   "metadata": {},
   "outputs": [
    {
     "data": {
      "text/plain": [
       "12658.5"
      ]
     },
     "execution_count": 23,
     "metadata": {},
     "output_type": "execute_result"
    }
   ],
   "source": [
    "N/2"
   ]
  },
  {
   "cell_type": "code",
   "execution_count": 24,
   "metadata": {},
   "outputs": [
    {
     "name": "stderr",
     "output_type": "stream",
     "text": [
      "/Users/tomconnolly/programs/anaconda/envs/py37/lib/python3.7/site-packages/ipykernel/__main__.py:5: DeprecationWarning: object of type <class 'numpy.float64'> cannot be safely interpreted as an integer.\n"
     ]
    }
   ],
   "source": [
    "top2 = np.log10(top)\n",
    "first = np.log10((1/record_length)*(np.pi*2))\n",
    "\n",
    "#freq3 = np.logspace(first, top2, 1000)\n",
    "freq3 = np.linspace((1/record_length)*(np.pi*2),top,np.round(N/2))"
   ]
  },
  {
   "cell_type": "code",
   "execution_count": 25,
   "metadata": {},
   "outputs": [],
   "source": [
    "pgram = signal.lombscargle(date_time_number, u, freq3)\n",
    "\n",
    "freq4 = freq3/(2*np.pi)"
   ]
  },
  {
   "cell_type": "code",
   "execution_count": 26,
   "metadata": {},
   "outputs": [
    {
     "data": {
      "application/vnd.jupyter.widget-view+json": {
       "model_id": "5d11e314474b4515949df663fbdd3d78",
       "version_major": 2,
       "version_minor": 0
      },
      "text/plain": [
       "FigureCanvasNbAgg()"
      ]
     },
     "metadata": {},
     "output_type": "display_data"
    },
    {
     "data": {
      "text/plain": [
       "[<matplotlib.lines.Line2D at 0x1c1a6d3f28>]"
      ]
     },
     "execution_count": 26,
     "metadata": {},
     "output_type": "execute_result"
    }
   ],
   "source": [
    "plt.figure(figsize=(5,4))\n",
    "#plt.plot(freq, pgram)\n",
    "plt.loglog(freq4,pgram,'-')"
   ]
  },
  {
   "cell_type": "code",
   "execution_count": 27,
   "metadata": {},
   "outputs": [],
   "source": [
    "#pandas resample function '1h' gives exactly every hour  use .interpolate"
   ]
  },
  {
   "cell_type": "code",
   "execution_count": 28,
   "metadata": {},
   "outputs": [],
   "source": [
    "hourly = dfsub.resample('1H').interpolate()"
   ]
  },
  {
   "cell_type": "code",
   "execution_count": 29,
   "metadata": {},
   "outputs": [],
   "source": [
    "#print(hourly)\n",
    "hourly_time_number = (hourly.index-np.datetime64('2000-01-01T00:00'))/np.timedelta64(1,'D')"
   ]
  },
  {
   "cell_type": "code",
   "execution_count": 30,
   "metadata": {},
   "outputs": [
    {
     "data": {
      "application/vnd.jupyter.widget-view+json": {
       "model_id": "2eb4d484dd314d4ea73b2a2f6beb0399",
       "version_major": 2,
       "version_minor": 0
      },
      "text/plain": [
       "FigureCanvasNbAgg()"
      ]
     },
     "metadata": {},
     "output_type": "display_data"
    },
    {
     "data": {
      "text/plain": [
       "[<matplotlib.lines.Line2D at 0x1c1a794198>]"
      ]
     },
     "execution_count": 30,
     "metadata": {},
     "output_type": "execute_result"
    }
   ],
   "source": [
    "plt.figure()\n",
    "plt.plot(hourly.index,hourly['Easting (cm/sec)'])"
   ]
  },
  {
   "cell_type": "code",
   "execution_count": 31,
   "metadata": {},
   "outputs": [
    {
     "data": {
      "application/vnd.jupyter.widget-view+json": {
       "model_id": "a6796d4790e247e388e20a60f3915af2",
       "version_major": 2,
       "version_minor": 0
      },
      "text/plain": [
       "FigureCanvasNbAgg()"
      ]
     },
     "metadata": {},
     "output_type": "display_data"
    },
    {
     "data": {
      "text/plain": [
       "[<matplotlib.lines.Line2D at 0x1c1b328f60>]"
      ]
     },
     "execution_count": 31,
     "metadata": {},
     "output_type": "execute_result"
    }
   ],
   "source": [
    "plt.figure()\n",
    "plt.plot(dfsub.index,dfsub['Easting (cm/sec)'])"
   ]
  },
  {
   "cell_type": "code",
   "execution_count": 32,
   "metadata": {},
   "outputs": [],
   "source": [
    "#set interpolate to 2 hours "
   ]
  },
  {
   "cell_type": "code",
   "execution_count": null,
   "metadata": {},
   "outputs": [],
   "source": []
  },
  {
   "cell_type": "code",
   "execution_count": null,
   "metadata": {},
   "outputs": [],
   "source": []
  },
  {
   "cell_type": "code",
   "execution_count": 33,
   "metadata": {},
   "outputs": [
    {
     "name": "stderr",
     "output_type": "stream",
     "text": [
      "/Users/tomconnolly/programs/anaconda/envs/py37/lib/python3.7/site-packages/ipykernel/__main__.py:3: SettingWithCopyWarning: \n",
      "A value is trying to be set on a copy of a slice from a DataFrame.\n",
      "Try using .loc[row_indexer,col_indexer] = value instead\n",
      "\n",
      "See the caveats in the documentation: http://pandas.pydata.org/pandas-docs/stable/indexing.html#indexing-view-versus-copy\n",
      "  app.launch_new_instance()\n"
     ]
    },
    {
     "data": {
      "text/html": [
       "<div>\n",
       "<style scoped>\n",
       "    .dataframe tbody tr th:only-of-type {\n",
       "        vertical-align: middle;\n",
       "    }\n",
       "\n",
       "    .dataframe tbody tr th {\n",
       "        vertical-align: top;\n",
       "    }\n",
       "\n",
       "    .dataframe thead th {\n",
       "        text-align: right;\n",
       "    }\n",
       "</style>\n",
       "<table border=\"1\" class=\"dataframe\">\n",
       "  <thead>\n",
       "    <tr style=\"text-align: right;\">\n",
       "      <th></th>\n",
       "      <th>Date_time_Merge_hour</th>\n",
       "      <th>Current_mag</th>\n",
       "      <th>Easting (cm/sec)</th>\n",
       "      <th>Northing (cm/sec)</th>\n",
       "      <th>Minutes</th>\n",
       "      <th>Seconds</th>\n",
       "      <th>speed</th>\n",
       "      <th>dates</th>\n",
       "    </tr>\n",
       "    <tr>\n",
       "      <th>Date_time_R</th>\n",
       "      <th></th>\n",
       "      <th></th>\n",
       "      <th></th>\n",
       "      <th></th>\n",
       "      <th></th>\n",
       "      <th></th>\n",
       "      <th></th>\n",
       "      <th></th>\n",
       "    </tr>\n",
       "  </thead>\n",
       "  <tbody>\n",
       "    <tr>\n",
       "      <th>2011-11-20 13:11:00</th>\n",
       "      <td>2011-11-20 13:00:00</td>\n",
       "      <td>7.712734</td>\n",
       "      <td>-3.678000</td>\n",
       "      <td>-1.354000</td>\n",
       "      <td>10.8</td>\n",
       "      <td>32.0</td>\n",
       "      <td>3.919311</td>\n",
       "      <td>2011-11-20 13:11:00</td>\n",
       "    </tr>\n",
       "    <tr>\n",
       "      <th>2011-11-20 13:56:00</th>\n",
       "      <td>2011-11-20 14:00:00</td>\n",
       "      <td>1.711170</td>\n",
       "      <td>1.253333</td>\n",
       "      <td>-0.853333</td>\n",
       "      <td>16.0</td>\n",
       "      <td>13.0</td>\n",
       "      <td>1.516253</td>\n",
       "      <td>2011-11-20 13:56:00</td>\n",
       "    </tr>\n",
       "    <tr>\n",
       "      <th>2011-11-20 14:55:00</th>\n",
       "      <td>2011-11-20 15:00:00</td>\n",
       "      <td>2.024802</td>\n",
       "      <td>1.080000</td>\n",
       "      <td>-1.430000</td>\n",
       "      <td>25.0</td>\n",
       "      <td>30.0</td>\n",
       "      <td>1.792010</td>\n",
       "      <td>2011-11-20 14:55:00</td>\n",
       "    </tr>\n",
       "    <tr>\n",
       "      <th>2011-11-20 15:59:00</th>\n",
       "      <td>2011-11-20 16:00:00</td>\n",
       "      <td>3.567306</td>\n",
       "      <td>-1.413333</td>\n",
       "      <td>-3.036667</td>\n",
       "      <td>19.0</td>\n",
       "      <td>28.0</td>\n",
       "      <td>3.349456</td>\n",
       "      <td>2011-11-20 15:59:00</td>\n",
       "    </tr>\n",
       "    <tr>\n",
       "      <th>2011-11-20 18:22:00</th>\n",
       "      <td>2011-11-20 18:00:00</td>\n",
       "      <td>3.677635</td>\n",
       "      <td>-2.650000</td>\n",
       "      <td>-2.550000</td>\n",
       "      <td>22.0</td>\n",
       "      <td>32.0</td>\n",
       "      <td>3.677635</td>\n",
       "      <td>2011-11-20 18:22:00</td>\n",
       "    </tr>\n",
       "  </tbody>\n",
       "</table>\n",
       "</div>"
      ],
      "text/plain": [
       "                    Date_time_Merge_hour  Current_mag  Easting (cm/sec)  \\\n",
       "Date_time_R                                                               \n",
       "2011-11-20 13:11:00  2011-11-20 13:00:00     7.712734         -3.678000   \n",
       "2011-11-20 13:56:00  2011-11-20 14:00:00     1.711170          1.253333   \n",
       "2011-11-20 14:55:00  2011-11-20 15:00:00     2.024802          1.080000   \n",
       "2011-11-20 15:59:00  2011-11-20 16:00:00     3.567306         -1.413333   \n",
       "2011-11-20 18:22:00  2011-11-20 18:00:00     3.677635         -2.650000   \n",
       "\n",
       "                     Northing (cm/sec)  Minutes  Seconds     speed  \\\n",
       "Date_time_R                                                          \n",
       "2011-11-20 13:11:00          -1.354000     10.8     32.0  3.919311   \n",
       "2011-11-20 13:56:00          -0.853333     16.0     13.0  1.516253   \n",
       "2011-11-20 14:55:00          -1.430000     25.0     30.0  1.792010   \n",
       "2011-11-20 15:59:00          -3.036667     19.0     28.0  3.349456   \n",
       "2011-11-20 18:22:00          -2.550000     22.0     32.0  3.677635   \n",
       "\n",
       "                                  dates  \n",
       "Date_time_R                              \n",
       "2011-11-20 13:11:00 2011-11-20 13:11:00  \n",
       "2011-11-20 13:56:00 2011-11-20 13:56:00  \n",
       "2011-11-20 14:55:00 2011-11-20 14:55:00  \n",
       "2011-11-20 15:59:00 2011-11-20 15:59:00  \n",
       "2011-11-20 18:22:00 2011-11-20 18:22:00  "
      ]
     },
     "execution_count": 33,
     "metadata": {},
     "output_type": "execute_result"
    }
   ],
   "source": [
    "#separating out the data from the year 2011-2013\n",
    "dates_2011_2013 = df.loc['2011-01-01':'2013-1-31']\n",
    "dates_2011_2013['dates'] = dates_2011_2013.index\n",
    "\n",
    "dates_2011_2013.head()"
   ]
  },
  {
   "cell_type": "code",
   "execution_count": 34,
   "metadata": {},
   "outputs": [
    {
     "name": "stderr",
     "output_type": "stream",
     "text": [
      "/Users/tomconnolly/programs/anaconda/envs/py37/lib/python3.7/site-packages/ipykernel/__main__.py:2: SettingWithCopyWarning: \n",
      "A value is trying to be set on a copy of a slice from a DataFrame.\n",
      "Try using .loc[row_indexer,col_indexer] = value instead\n",
      "\n",
      "See the caveats in the documentation: http://pandas.pydata.org/pandas-docs/stable/indexing.html#indexing-view-versus-copy\n",
      "  from ipykernel import kernelapp as app\n"
     ]
    },
    {
     "data": {
      "text/html": [
       "<div>\n",
       "<style scoped>\n",
       "    .dataframe tbody tr th:only-of-type {\n",
       "        vertical-align: middle;\n",
       "    }\n",
       "\n",
       "    .dataframe tbody tr th {\n",
       "        vertical-align: top;\n",
       "    }\n",
       "\n",
       "    .dataframe thead th {\n",
       "        text-align: right;\n",
       "    }\n",
       "</style>\n",
       "<table border=\"1\" class=\"dataframe\">\n",
       "  <thead>\n",
       "    <tr style=\"text-align: right;\">\n",
       "      <th></th>\n",
       "      <th>Date_time_Merge_hour</th>\n",
       "      <th>Current_mag</th>\n",
       "      <th>Easting (cm/sec)</th>\n",
       "      <th>Northing (cm/sec)</th>\n",
       "      <th>Minutes</th>\n",
       "      <th>Seconds</th>\n",
       "      <th>speed</th>\n",
       "      <th>dates</th>\n",
       "    </tr>\n",
       "    <tr>\n",
       "      <th>Date_time_R</th>\n",
       "      <th></th>\n",
       "      <th></th>\n",
       "      <th></th>\n",
       "      <th></th>\n",
       "      <th></th>\n",
       "      <th></th>\n",
       "      <th></th>\n",
       "      <th></th>\n",
       "    </tr>\n",
       "  </thead>\n",
       "  <tbody>\n",
       "    <tr>\n",
       "      <th>2011-11-20 13:11:00</th>\n",
       "      <td>2011-11-20 13:00:00</td>\n",
       "      <td>7.712734</td>\n",
       "      <td>-3.678000</td>\n",
       "      <td>-1.354000</td>\n",
       "      <td>10.8</td>\n",
       "      <td>32.0</td>\n",
       "      <td>3.919311</td>\n",
       "      <td>2011-11-20 13:11:00</td>\n",
       "    </tr>\n",
       "    <tr>\n",
       "      <th>2011-11-20 13:56:00</th>\n",
       "      <td>2011-11-20 14:00:00</td>\n",
       "      <td>1.711170</td>\n",
       "      <td>1.253333</td>\n",
       "      <td>-0.853333</td>\n",
       "      <td>16.0</td>\n",
       "      <td>13.0</td>\n",
       "      <td>1.516253</td>\n",
       "      <td>2011-11-20 13:56:00</td>\n",
       "    </tr>\n",
       "    <tr>\n",
       "      <th>2011-11-20 14:55:00</th>\n",
       "      <td>2011-11-20 15:00:00</td>\n",
       "      <td>2.024802</td>\n",
       "      <td>1.080000</td>\n",
       "      <td>-1.430000</td>\n",
       "      <td>25.0</td>\n",
       "      <td>30.0</td>\n",
       "      <td>1.792010</td>\n",
       "      <td>2011-11-20 14:55:00</td>\n",
       "    </tr>\n",
       "    <tr>\n",
       "      <th>2011-11-20 15:59:00</th>\n",
       "      <td>2011-11-20 16:00:00</td>\n",
       "      <td>3.567306</td>\n",
       "      <td>-1.413333</td>\n",
       "      <td>-3.036667</td>\n",
       "      <td>19.0</td>\n",
       "      <td>28.0</td>\n",
       "      <td>3.349456</td>\n",
       "      <td>2011-11-20 15:59:00</td>\n",
       "    </tr>\n",
       "    <tr>\n",
       "      <th>2011-11-20 18:22:00</th>\n",
       "      <td>2011-11-20 18:00:00</td>\n",
       "      <td>3.677635</td>\n",
       "      <td>-2.650000</td>\n",
       "      <td>-2.550000</td>\n",
       "      <td>22.0</td>\n",
       "      <td>32.0</td>\n",
       "      <td>3.677635</td>\n",
       "      <td>2011-11-20 18:22:00</td>\n",
       "    </tr>\n",
       "  </tbody>\n",
       "</table>\n",
       "</div>"
      ],
      "text/plain": [
       "                    Date_time_Merge_hour  Current_mag  Easting (cm/sec)  \\\n",
       "Date_time_R                                                               \n",
       "2011-11-20 13:11:00  2011-11-20 13:00:00     7.712734         -3.678000   \n",
       "2011-11-20 13:56:00  2011-11-20 14:00:00     1.711170          1.253333   \n",
       "2011-11-20 14:55:00  2011-11-20 15:00:00     2.024802          1.080000   \n",
       "2011-11-20 15:59:00  2011-11-20 16:00:00     3.567306         -1.413333   \n",
       "2011-11-20 18:22:00  2011-11-20 18:00:00     3.677635         -2.650000   \n",
       "\n",
       "                     Northing (cm/sec)  Minutes  Seconds     speed  \\\n",
       "Date_time_R                                                          \n",
       "2011-11-20 13:11:00          -1.354000     10.8     32.0  3.919311   \n",
       "2011-11-20 13:56:00          -0.853333     16.0     13.0  1.516253   \n",
       "2011-11-20 14:55:00          -1.430000     25.0     30.0  1.792010   \n",
       "2011-11-20 15:59:00          -3.036667     19.0     28.0  3.349456   \n",
       "2011-11-20 18:22:00          -2.550000     22.0     32.0  3.677635   \n",
       "\n",
       "                                  dates  \n",
       "Date_time_R                              \n",
       "2011-11-20 13:11:00 2011-11-20 13:11:00  \n",
       "2011-11-20 13:56:00 2011-11-20 13:56:00  \n",
       "2011-11-20 14:55:00 2011-11-20 14:55:00  \n",
       "2011-11-20 15:59:00 2011-11-20 15:59:00  \n",
       "2011-11-20 18:22:00 2011-11-20 18:22:00  "
      ]
     },
     "execution_count": 34,
     "metadata": {},
     "output_type": "execute_result"
    }
   ],
   "source": [
    "#calculating the speed of the current \n",
    "dates_2011_2013['speed'] = np.sqrt((dates_2011_2013['Easting (cm/sec)']**2) + (dates_2011_2013['Northing (cm/sec)']**2))\n",
    "dates_2011_2013.head()"
   ]
  },
  {
   "cell_type": "code",
   "execution_count": null,
   "metadata": {},
   "outputs": [],
   "source": []
  },
  {
   "cell_type": "code",
   "execution_count": 35,
   "metadata": {},
   "outputs": [],
   "source": [
    "monthly_averages_2011 = dates_2011_2013.resample('1m').mean()"
   ]
  },
  {
   "cell_type": "code",
   "execution_count": 36,
   "metadata": {},
   "outputs": [
    {
     "data": {
      "application/vnd.jupyter.widget-view+json": {
       "model_id": "3afd444b925346bdb45e37430d228c69",
       "version_major": 2,
       "version_minor": 0
      },
      "text/plain": [
       "FigureCanvasNbAgg()"
      ]
     },
     "metadata": {},
     "output_type": "display_data"
    },
    {
     "data": {
      "text/plain": [
       "Text(0, 0.5, 'Speed [cm/s]')"
      ]
     },
     "execution_count": 36,
     "metadata": {},
     "output_type": "execute_result"
    }
   ],
   "source": [
    "plt.figure(figsize = (10,5))\n",
    "plt.plot(monthly_averages_2011.index, monthly_averages_2011['speed'])\n",
    "plt.xlabel('Time [year-month]')\n",
    "plt.ylabel('Speed [cm/s]')\n"
   ]
  },
  {
   "cell_type": "code",
   "execution_count": 37,
   "metadata": {},
   "outputs": [
    {
     "name": "stdout",
     "output_type": "stream",
     "text": [
      "1073.2458333333334\n"
     ]
    }
   ],
   "source": [
    "date_time_number_2011 = (dates_2011_2013['dates']-np.datetime64('2000-01-01T00:00'))/np.timedelta64(1,'D')\n",
    "data_2011 = dates_2011_2013['Easting (cm/sec)']\n",
    "record_length_2011 = (date_time_number_2011[-1]-date_time_number_2011[0])\n",
    "#top_time = (2*np.pi)/(1/24)\n",
    "print(record_length)\n",
    "\n",
    "top = 24*(np.pi*2)\n",
    "freq_2011 = np.linspace(((1/record_length_2011)*(np.pi*2)), top, 100)"
   ]
  },
  {
   "cell_type": "code",
   "execution_count": 38,
   "metadata": {},
   "outputs": [],
   "source": [
    "#freq_2011_2 = freq_2011/(2*np.pi)\n",
    "top_2011 = np.log10(top)\n",
    "first_2011 = np.log10((1/record_length_2011)*(np.pi*2))\n",
    "\n",
    "freq_2011_2 = np.logspace(first_2011, top_2011, 100)\n",
    "\n",
    "pgram_2011 = signal.lombscargle(date_time_number_2011, data_2011, freq_2011_2)"
   ]
  },
  {
   "cell_type": "code",
   "execution_count": 39,
   "metadata": {},
   "outputs": [
    {
     "data": {
      "application/vnd.jupyter.widget-view+json": {
       "model_id": "75b96340936b4ba1af25478edf90d8bc",
       "version_major": 2,
       "version_minor": 0
      },
      "text/plain": [
       "FigureCanvasNbAgg()"
      ]
     },
     "metadata": {},
     "output_type": "display_data"
    }
   ],
   "source": [
    "plt.figure()\n",
    "plt.loglog(freq_2011_2, pgram_2011)\n",
    "plt.savefig('2011_spectral_analysis.png')"
   ]
  },
  {
   "cell_type": "code",
   "execution_count": 40,
   "metadata": {},
   "outputs": [
    {
     "name": "stderr",
     "output_type": "stream",
     "text": [
      "/Users/tomconnolly/programs/anaconda/envs/py37/lib/python3.7/site-packages/ipykernel/__main__.py:3: SettingWithCopyWarning: \n",
      "A value is trying to be set on a copy of a slice from a DataFrame.\n",
      "Try using .loc[row_indexer,col_indexer] = value instead\n",
      "\n",
      "See the caveats in the documentation: http://pandas.pydata.org/pandas-docs/stable/indexing.html#indexing-view-versus-copy\n",
      "  app.launch_new_instance()\n"
     ]
    },
    {
     "data": {
      "text/html": [
       "<div>\n",
       "<style scoped>\n",
       "    .dataframe tbody tr th:only-of-type {\n",
       "        vertical-align: middle;\n",
       "    }\n",
       "\n",
       "    .dataframe tbody tr th {\n",
       "        vertical-align: top;\n",
       "    }\n",
       "\n",
       "    .dataframe thead th {\n",
       "        text-align: right;\n",
       "    }\n",
       "</style>\n",
       "<table border=\"1\" class=\"dataframe\">\n",
       "  <thead>\n",
       "    <tr style=\"text-align: right;\">\n",
       "      <th></th>\n",
       "      <th>Date_time_Merge_hour</th>\n",
       "      <th>Current_mag</th>\n",
       "      <th>Easting (cm/sec)</th>\n",
       "      <th>Northing (cm/sec)</th>\n",
       "      <th>Minutes</th>\n",
       "      <th>Seconds</th>\n",
       "      <th>speed</th>\n",
       "      <th>dates</th>\n",
       "    </tr>\n",
       "    <tr>\n",
       "      <th>Date_time_R</th>\n",
       "      <th></th>\n",
       "      <th></th>\n",
       "      <th></th>\n",
       "      <th></th>\n",
       "      <th></th>\n",
       "      <th></th>\n",
       "      <th></th>\n",
       "      <th></th>\n",
       "    </tr>\n",
       "  </thead>\n",
       "  <tbody>\n",
       "    <tr>\n",
       "      <th>2014-10-11 13:04:00</th>\n",
       "      <td>2014-10-11 13:00:00</td>\n",
       "      <td>0.908994</td>\n",
       "      <td>-0.233333</td>\n",
       "      <td>0.860</td>\n",
       "      <td>44.333333</td>\n",
       "      <td>33.0</td>\n",
       "      <td>0.891092</td>\n",
       "      <td>2014-10-11 13:04:00</td>\n",
       "    </tr>\n",
       "    <tr>\n",
       "      <th>2014-10-11 13:57:00</th>\n",
       "      <td>2014-10-11 14:00:00</td>\n",
       "      <td>1.350541</td>\n",
       "      <td>0.330000</td>\n",
       "      <td>-0.160</td>\n",
       "      <td>26.500000</td>\n",
       "      <td>34.5</td>\n",
       "      <td>0.366742</td>\n",
       "      <td>2014-10-11 13:57:00</td>\n",
       "    </tr>\n",
       "    <tr>\n",
       "      <th>2014-10-11 14:41:00</th>\n",
       "      <td>2014-10-11 15:00:00</td>\n",
       "      <td>0.907747</td>\n",
       "      <td>0.200000</td>\n",
       "      <td>-0.325</td>\n",
       "      <td>40.500000</td>\n",
       "      <td>32.5</td>\n",
       "      <td>0.381608</td>\n",
       "      <td>2014-10-11 14:41:00</td>\n",
       "    </tr>\n",
       "    <tr>\n",
       "      <th>2014-10-11 15:57:00</th>\n",
       "      <td>2014-10-11 16:00:00</td>\n",
       "      <td>1.129383</td>\n",
       "      <td>0.980000</td>\n",
       "      <td>-0.280</td>\n",
       "      <td>27.500000</td>\n",
       "      <td>24.5</td>\n",
       "      <td>1.019215</td>\n",
       "      <td>2014-10-11 15:57:00</td>\n",
       "    </tr>\n",
       "    <tr>\n",
       "      <th>2014-10-11 16:56:00</th>\n",
       "      <td>2014-10-11 17:00:00</td>\n",
       "      <td>2.642760</td>\n",
       "      <td>2.380000</td>\n",
       "      <td>-1.065</td>\n",
       "      <td>25.500000</td>\n",
       "      <td>34.5</td>\n",
       "      <td>2.607417</td>\n",
       "      <td>2014-10-11 16:56:00</td>\n",
       "    </tr>\n",
       "  </tbody>\n",
       "</table>\n",
       "</div>"
      ],
      "text/plain": [
       "                    Date_time_Merge_hour  Current_mag  Easting (cm/sec)  \\\n",
       "Date_time_R                                                               \n",
       "2014-10-11 13:04:00  2014-10-11 13:00:00     0.908994         -0.233333   \n",
       "2014-10-11 13:57:00  2014-10-11 14:00:00     1.350541          0.330000   \n",
       "2014-10-11 14:41:00  2014-10-11 15:00:00     0.907747          0.200000   \n",
       "2014-10-11 15:57:00  2014-10-11 16:00:00     1.129383          0.980000   \n",
       "2014-10-11 16:56:00  2014-10-11 17:00:00     2.642760          2.380000   \n",
       "\n",
       "                     Northing (cm/sec)    Minutes  Seconds     speed  \\\n",
       "Date_time_R                                                            \n",
       "2014-10-11 13:04:00              0.860  44.333333     33.0  0.891092   \n",
       "2014-10-11 13:57:00             -0.160  26.500000     34.5  0.366742   \n",
       "2014-10-11 14:41:00             -0.325  40.500000     32.5  0.381608   \n",
       "2014-10-11 15:57:00             -0.280  27.500000     24.5  1.019215   \n",
       "2014-10-11 16:56:00             -1.065  25.500000     34.5  2.607417   \n",
       "\n",
       "                                  dates  \n",
       "Date_time_R                              \n",
       "2014-10-11 13:04:00 2014-10-11 13:04:00  \n",
       "2014-10-11 13:57:00 2014-10-11 13:57:00  \n",
       "2014-10-11 14:41:00 2014-10-11 14:41:00  \n",
       "2014-10-11 15:57:00 2014-10-11 15:57:00  \n",
       "2014-10-11 16:56:00 2014-10-11 16:56:00  "
      ]
     },
     "execution_count": 40,
     "metadata": {},
     "output_type": "execute_result"
    }
   ],
   "source": [
    "#separating out the data from the year 2014-2015\n",
    "dates_2014_2015 = df.loc['2014-01-01':'2015-6-30']\n",
    "dates_2014_2015['dates'] = dates_2014_2015.index\n",
    "\n",
    "dates_2014_2015.head()"
   ]
  },
  {
   "cell_type": "code",
   "execution_count": 41,
   "metadata": {},
   "outputs": [
    {
     "name": "stderr",
     "output_type": "stream",
     "text": [
      "/Users/tomconnolly/programs/anaconda/envs/py37/lib/python3.7/site-packages/ipykernel/__main__.py:2: SettingWithCopyWarning: \n",
      "A value is trying to be set on a copy of a slice from a DataFrame.\n",
      "Try using .loc[row_indexer,col_indexer] = value instead\n",
      "\n",
      "See the caveats in the documentation: http://pandas.pydata.org/pandas-docs/stable/indexing.html#indexing-view-versus-copy\n",
      "  from ipykernel import kernelapp as app\n"
     ]
    },
    {
     "data": {
      "text/html": [
       "<div>\n",
       "<style scoped>\n",
       "    .dataframe tbody tr th:only-of-type {\n",
       "        vertical-align: middle;\n",
       "    }\n",
       "\n",
       "    .dataframe tbody tr th {\n",
       "        vertical-align: top;\n",
       "    }\n",
       "\n",
       "    .dataframe thead th {\n",
       "        text-align: right;\n",
       "    }\n",
       "</style>\n",
       "<table border=\"1\" class=\"dataframe\">\n",
       "  <thead>\n",
       "    <tr style=\"text-align: right;\">\n",
       "      <th></th>\n",
       "      <th>Date_time_Merge_hour</th>\n",
       "      <th>Current_mag</th>\n",
       "      <th>Easting (cm/sec)</th>\n",
       "      <th>Northing (cm/sec)</th>\n",
       "      <th>Minutes</th>\n",
       "      <th>Seconds</th>\n",
       "      <th>speed</th>\n",
       "      <th>dates</th>\n",
       "    </tr>\n",
       "    <tr>\n",
       "      <th>Date_time_R</th>\n",
       "      <th></th>\n",
       "      <th></th>\n",
       "      <th></th>\n",
       "      <th></th>\n",
       "      <th></th>\n",
       "      <th></th>\n",
       "      <th></th>\n",
       "      <th></th>\n",
       "    </tr>\n",
       "  </thead>\n",
       "  <tbody>\n",
       "    <tr>\n",
       "      <th>2014-10-11 13:04:00</th>\n",
       "      <td>2014-10-11 13:00:00</td>\n",
       "      <td>0.908994</td>\n",
       "      <td>-0.233333</td>\n",
       "      <td>0.860</td>\n",
       "      <td>44.333333</td>\n",
       "      <td>33.0</td>\n",
       "      <td>0.891092</td>\n",
       "      <td>2014-10-11 13:04:00</td>\n",
       "    </tr>\n",
       "    <tr>\n",
       "      <th>2014-10-11 13:57:00</th>\n",
       "      <td>2014-10-11 14:00:00</td>\n",
       "      <td>1.350541</td>\n",
       "      <td>0.330000</td>\n",
       "      <td>-0.160</td>\n",
       "      <td>26.500000</td>\n",
       "      <td>34.5</td>\n",
       "      <td>0.366742</td>\n",
       "      <td>2014-10-11 13:57:00</td>\n",
       "    </tr>\n",
       "    <tr>\n",
       "      <th>2014-10-11 14:41:00</th>\n",
       "      <td>2014-10-11 15:00:00</td>\n",
       "      <td>0.907747</td>\n",
       "      <td>0.200000</td>\n",
       "      <td>-0.325</td>\n",
       "      <td>40.500000</td>\n",
       "      <td>32.5</td>\n",
       "      <td>0.381608</td>\n",
       "      <td>2014-10-11 14:41:00</td>\n",
       "    </tr>\n",
       "    <tr>\n",
       "      <th>2014-10-11 15:57:00</th>\n",
       "      <td>2014-10-11 16:00:00</td>\n",
       "      <td>1.129383</td>\n",
       "      <td>0.980000</td>\n",
       "      <td>-0.280</td>\n",
       "      <td>27.500000</td>\n",
       "      <td>24.5</td>\n",
       "      <td>1.019215</td>\n",
       "      <td>2014-10-11 15:57:00</td>\n",
       "    </tr>\n",
       "    <tr>\n",
       "      <th>2014-10-11 16:56:00</th>\n",
       "      <td>2014-10-11 17:00:00</td>\n",
       "      <td>2.642760</td>\n",
       "      <td>2.380000</td>\n",
       "      <td>-1.065</td>\n",
       "      <td>25.500000</td>\n",
       "      <td>34.5</td>\n",
       "      <td>2.607417</td>\n",
       "      <td>2014-10-11 16:56:00</td>\n",
       "    </tr>\n",
       "  </tbody>\n",
       "</table>\n",
       "</div>"
      ],
      "text/plain": [
       "                    Date_time_Merge_hour  Current_mag  Easting (cm/sec)  \\\n",
       "Date_time_R                                                               \n",
       "2014-10-11 13:04:00  2014-10-11 13:00:00     0.908994         -0.233333   \n",
       "2014-10-11 13:57:00  2014-10-11 14:00:00     1.350541          0.330000   \n",
       "2014-10-11 14:41:00  2014-10-11 15:00:00     0.907747          0.200000   \n",
       "2014-10-11 15:57:00  2014-10-11 16:00:00     1.129383          0.980000   \n",
       "2014-10-11 16:56:00  2014-10-11 17:00:00     2.642760          2.380000   \n",
       "\n",
       "                     Northing (cm/sec)    Minutes  Seconds     speed  \\\n",
       "Date_time_R                                                            \n",
       "2014-10-11 13:04:00              0.860  44.333333     33.0  0.891092   \n",
       "2014-10-11 13:57:00             -0.160  26.500000     34.5  0.366742   \n",
       "2014-10-11 14:41:00             -0.325  40.500000     32.5  0.381608   \n",
       "2014-10-11 15:57:00             -0.280  27.500000     24.5  1.019215   \n",
       "2014-10-11 16:56:00             -1.065  25.500000     34.5  2.607417   \n",
       "\n",
       "                                  dates  \n",
       "Date_time_R                              \n",
       "2014-10-11 13:04:00 2014-10-11 13:04:00  \n",
       "2014-10-11 13:57:00 2014-10-11 13:57:00  \n",
       "2014-10-11 14:41:00 2014-10-11 14:41:00  \n",
       "2014-10-11 15:57:00 2014-10-11 15:57:00  \n",
       "2014-10-11 16:56:00 2014-10-11 16:56:00  "
      ]
     },
     "execution_count": 41,
     "metadata": {},
     "output_type": "execute_result"
    }
   ],
   "source": [
    "#calculating the speed of the current \n",
    "dates_2014_2015['speed'] = np.sqrt((dates_2014_2015['Easting (cm/sec)']**2) + (dates_2014_2015['Northing (cm/sec)']**2))\n",
    "dates_2014_2015.head()"
   ]
  },
  {
   "cell_type": "code",
   "execution_count": 42,
   "metadata": {},
   "outputs": [
    {
     "data": {
      "application/vnd.jupyter.widget-view+json": {
       "model_id": "c7b8e9e40e404ed4967c6c5939023e31",
       "version_major": 2,
       "version_minor": 0
      },
      "text/plain": [
       "FigureCanvasNbAgg()"
      ]
     },
     "metadata": {},
     "output_type": "display_data"
    },
    {
     "data": {
      "text/plain": [
       "[<matplotlib.lines.Line2D at 0x1c1b218978>]"
      ]
     },
     "execution_count": 42,
     "metadata": {},
     "output_type": "execute_result"
    }
   ],
   "source": [
    "plt.figure()\n",
    "plt.plot(dates_2014_2015.index, dates_2014_2015['speed'])"
   ]
  },
  {
   "cell_type": "code",
   "execution_count": 43,
   "metadata": {},
   "outputs": [],
   "source": [
    "monthly_averages_2014 = dates_2014_2015.resample('1m').mean()"
   ]
  },
  {
   "cell_type": "code",
   "execution_count": 44,
   "metadata": {},
   "outputs": [
    {
     "data": {
      "application/vnd.jupyter.widget-view+json": {
       "model_id": "ef5efcddf6cf4222863e7767ef02b34f",
       "version_major": 2,
       "version_minor": 0
      },
      "text/plain": [
       "FigureCanvasNbAgg()"
      ]
     },
     "metadata": {},
     "output_type": "display_data"
    },
    {
     "data": {
      "text/plain": [
       "Text(0, 0.5, 'Speed [cm/s]')"
      ]
     },
     "execution_count": 44,
     "metadata": {},
     "output_type": "execute_result"
    }
   ],
   "source": [
    "plt.figure(figsize = (10,5))\n",
    "plt.plot(monthly_averages_2014.index, monthly_averages_2014['speed'])\n",
    "plt.xlabel('Time [year-month]')\n",
    "plt.ylabel('Speed [cm/s]')"
   ]
  },
  {
   "cell_type": "code",
   "execution_count": 45,
   "metadata": {},
   "outputs": [
    {
     "name": "stdout",
     "output_type": "stream",
     "text": [
      "1073.2458333333334\n"
     ]
    }
   ],
   "source": [
    "date_time_number_2014 = (dates_2014_2015['dates']-np.datetime64('2000-01-01T00:00'))/np.timedelta64(1,'D')\n",
    "data_2014 = dates_2014_2015['Easting (cm/sec)']\n",
    "record_length_2014 = (date_time_number_2014[-1]-date_time_number_2014[0])\n",
    "#top_time = (2*np.pi)/(1/24)\n",
    "print(record_length)\n",
    "\n",
    "top = 24*(np.pi*2)\n",
    "freq_2014 = np.linspace(((1/record_length_2014)*(np.pi*2)), top, 100)"
   ]
  },
  {
   "cell_type": "code",
   "execution_count": 46,
   "metadata": {},
   "outputs": [],
   "source": [
    "#freq_2011_2 = freq_2011/(2*np.pi)\n",
    "top_2014 = np.log10(top)\n",
    "first_2014 = np.log10((1/record_length_2014)*(np.pi*2))\n",
    "\n",
    "freq_2014_2 = np.logspace(first_2014, top_2014, 100)\n",
    "\n",
    "pgram_2014 = signal.lombscargle(date_time_number_2014, data_2014, freq_2014_2)"
   ]
  },
  {
   "cell_type": "code",
   "execution_count": 47,
   "metadata": {},
   "outputs": [
    {
     "data": {
      "application/vnd.jupyter.widget-view+json": {
       "model_id": "f925f70539b245abba6e3a9fcb4d6a55",
       "version_major": 2,
       "version_minor": 0
      },
      "text/plain": [
       "FigureCanvasNbAgg()"
      ]
     },
     "metadata": {},
     "output_type": "display_data"
    }
   ],
   "source": [
    "plt.figure()\n",
    "plt.loglog(freq_2014_2, pgram_2014)\n",
    "plt.savefig('2014_spectral_analysis.png')"
   ]
  },
  {
   "cell_type": "code",
   "execution_count": null,
   "metadata": {},
   "outputs": [],
   "source": []
  },
  {
   "cell_type": "code",
   "execution_count": null,
   "metadata": {},
   "outputs": [],
   "source": []
  }
 ],
 "metadata": {
  "kernelspec": {
   "display_name": "Python [conda env:py37]",
   "language": "python",
   "name": "conda-env-py37-py"
  },
  "language_info": {
   "codemirror_mode": {
    "name": "ipython",
    "version": 3
   },
   "file_extension": ".py",
   "mimetype": "text/x-python",
   "name": "python",
   "nbconvert_exporter": "python",
   "pygments_lexer": "ipython3",
   "version": "3.7.2"
  }
 },
 "nbformat": 4,
 "nbformat_minor": 2
}
