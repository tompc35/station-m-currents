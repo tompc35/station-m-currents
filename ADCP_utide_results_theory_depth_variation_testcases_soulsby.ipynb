{
 "cells": [
  {
   "cell_type": "code",
   "execution_count": 1,
   "metadata": {},
   "outputs": [],
   "source": [
    "%matplotlib ipympl\n",
    "\n",
    "import numpy as np\n",
    "import xarray as xr\n",
    "import matplotlib.pyplot as plt\n",
    "import gsw\n",
    "from scipy.special import ker,kei"
   ]
  },
  {
   "cell_type": "code",
   "execution_count": 2,
   "metadata": {},
   "outputs": [],
   "source": [
    "dstide = xr.open_dataset('utide_results.nc')"
   ]
  },
  {
   "cell_type": "code",
   "execution_count": 3,
   "metadata": {},
   "outputs": [],
   "source": [
    "zi = np.arange(0,len(dstide['height'])-7)\n",
    "m2i, = np.where(dstide['constituent'] == 'M2')"
   ]
  },
  {
   "cell_type": "code",
   "execution_count": 4,
   "metadata": {},
   "outputs": [
    {
     "data": {
      "application/vnd.jupyter.widget-view+json": {
       "model_id": "ffa505ecc1f14c03836329ca07febab9",
       "version_major": 2,
       "version_minor": 0
      },
      "text/plain": [
       "FigureCanvasNbAgg()"
      ]
     },
     "metadata": {},
     "output_type": "display_data"
    },
    {
     "data": {
      "text/plain": [
       "(0, <xarray.DataArray 'height' ()>\n",
       " array(18.0972))"
      ]
     },
     "execution_count": 4,
     "metadata": {},
     "output_type": "execute_result"
    }
   ],
   "source": [
    "plt.figure()\n",
    "plt.plot(dstide['Lsmaj'][zi,m2i],dstide['height'][zi],'b')\n",
    "plt.plot(dstide['Lsmaj'][zi,m2i]\n",
    "         +dstide['Lsmaj_ci'][zi,m2i],dstide['height'][zi],'c')\n",
    "plt.plot(dstide['Lsmaj'][zi,m2i]\n",
    "         -dstide['Lsmaj_ci'][zi,m2i],dstide['height'][zi],'c')\n",
    "plt.plot(dstide['Lsmin'][zi,m2i],dstide['height'][zi],'r')\n",
    "plt.plot(dstide['Lsmin'][zi,m2i]\n",
    "         +dstide['Lsmin_ci'][zi,m2i],dstide['height'][zi],'m')\n",
    "plt.plot(dstide['Lsmin'][zi,m2i]\n",
    "         -dstide['Lsmin_ci'][zi,m2i],dstide['height'][zi],'m')\n",
    "plt.ylim([0,np.max(dstide['height'][zi])+0.5])"
   ]
  },
  {
   "cell_type": "code",
   "execution_count": 5,
   "metadata": {},
   "outputs": [
    {
     "data": {
      "application/vnd.jupyter.widget-view+json": {
       "model_id": "4ca9fdc34fbe4286867be486db107ae5",
       "version_major": 2,
       "version_minor": 0
      },
      "text/plain": [
       "FigureCanvasNbAgg()"
      ]
     },
     "metadata": {},
     "output_type": "display_data"
    },
    {
     "data": {
      "text/plain": [
       "Text(0.5, 1.0, 'minor/major axis ratio')"
      ]
     },
     "execution_count": 5,
     "metadata": {},
     "output_type": "execute_result"
    }
   ],
   "source": [
    "plt.figure()\n",
    "plt.plot(dstide['Lsmin'][zi,m2i]/dstide['Lsmaj'][zi,m2i],dstide['height'][zi])\n",
    "plt.title('minor/major axis ratio')"
   ]
  },
  {
   "cell_type": "code",
   "execution_count": 191,
   "metadata": {},
   "outputs": [
    {
     "name": "stderr",
     "output_type": "stream",
     "text": [
      "/Users/tomconnolly/programs/anaconda/envs/py37/lib/python3.7/site-packages/matplotlib/pyplot.py:514: RuntimeWarning: More than 20 figures have been opened. Figures created through the pyplot interface (`matplotlib.pyplot.figure`) are retained until explicitly closed and may consume too much memory. (To control this warning, see the rcParam `figure.max_open_warning`).\n",
      "  max_open_warning, RuntimeWarning)\n"
     ]
    },
    {
     "data": {
      "application/vnd.jupyter.widget-view+json": {
       "model_id": "6aa83ab1ab8642ba992b126e32b585df",
       "version_major": 2,
       "version_minor": 0
      },
      "text/plain": [
       "FigureCanvasNbAgg()"
      ]
     },
     "metadata": {},
     "output_type": "display_data"
    },
    {
     "data": {
      "text/plain": [
       "Text(0.5, 1.0, 'orientation, $\\\\theta_q$ (deg)')"
      ]
     },
     "execution_count": 191,
     "metadata": {},
     "output_type": "execute_result"
    }
   ],
   "source": [
    "plt.figure()\n",
    "plt.plot(dstide['theta'][zi,m2i],dstide['height'][zi],'b')\n",
    "plt.plot(dstide['theta'][zi,m2i]+dstide['theta_ci'][zi,m2i],\n",
    "         dstide['height'][zi],'c')\n",
    "plt.plot(dstide['theta'][zi,m2i]-dstide['theta_ci'][zi,m2i],\n",
    "         dstide['height'][zi],'c')\n",
    "plt.title('orientation, $\\\\theta_q$ (deg)')"
   ]
  },
  {
   "cell_type": "code",
   "execution_count": 194,
   "metadata": {},
   "outputs": [
    {
     "name": "stderr",
     "output_type": "stream",
     "text": [
      "/Users/tomconnolly/programs/anaconda/envs/py37/lib/python3.7/site-packages/matplotlib/pyplot.py:514: RuntimeWarning: More than 20 figures have been opened. Figures created through the pyplot interface (`matplotlib.pyplot.figure`) are retained until explicitly closed and may consume too much memory. (To control this warning, see the rcParam `figure.max_open_warning`).\n",
      "  max_open_warning, RuntimeWarning)\n"
     ]
    },
    {
     "data": {
      "application/vnd.jupyter.widget-view+json": {
       "model_id": "b6a0a6fd1b5042e2b14c931c82cb9803",
       "version_major": 2,
       "version_minor": 0
      },
      "text/plain": [
       "FigureCanvasNbAgg()"
      ]
     },
     "metadata": {},
     "output_type": "display_data"
    },
    {
     "data": {
      "text/plain": [
       "Text(0.5, 1.0, 'phase lag, $g_q$ (deg)')"
      ]
     },
     "execution_count": 194,
     "metadata": {},
     "output_type": "execute_result"
    }
   ],
   "source": [
    "plt.figure()\n",
    "plt.plot(dstide['g'][zi,m2i],dstide['height'][zi],'b')\n",
    "plt.plot(dstide['g'][zi,m2i]+dstide['g_ci'][zi,m2i],\n",
    "         dstide['height'][zi],'c')\n",
    "plt.plot(dstide['g'][zi,m2i]-dstide['g_ci'][zi,m2i],\n",
    "         dstide['height'][zi],'c')\n",
    "plt.title('phase lag, $g_q$ (deg)')"
   ]
  },
  {
   "cell_type": "code",
   "execution_count": 8,
   "metadata": {},
   "outputs": [
    {
     "data": {
      "text/plain": [
       "<xarray.Dataset>\n",
       "Dimensions:      (constituent: 59, height: 23)\n",
       "Coordinates:\n",
       "  * height       (height) float64 2.597 3.597 4.597 5.597 ... 22.6 23.6 24.6\n",
       "  * constituent  (constituent) object 'SSA' 'MSM' 'MM' ... 'MSK6' '3MK7' 'M8'\n",
       "Data variables:\n",
       "    Lsmaj        (height, constituent) float64 ...\n",
       "    Lsmin        (height, constituent) float64 ...\n",
       "    theta        (height, constituent) float64 ...\n",
       "    g            (height, constituent) float64 ...\n",
       "    SNR          (height, constituent) float64 ...\n",
       "    PE           (height, constituent) float64 ...\n",
       "    Lsmaj_ci     (height, constituent) float64 ...\n",
       "    Lsmin_ci     (height, constituent) float64 ...\n",
       "    theta_ci     (height, constituent) float64 ...\n",
       "    g_ci         (height, constituent) float64 ...\n",
       "    freq         (constituent) float64 ...\n",
       "Attributes:\n",
       "    reftime:  736813.8008534722"
      ]
     },
     "execution_count": 8,
     "metadata": {},
     "output_type": "execute_result"
    }
   ],
   "source": [
    "dstide"
   ]
  },
  {
   "cell_type": "markdown",
   "metadata": {},
   "source": [
    "| Parameter                    | Soulsby (theory) | Codiga (UTide)           |\n",
    "|------------------------------|------------------|--------------------------|\n",
    "| major axis                   | $U_a$            | $L^{smaj}_q$             |\n",
    "| minor axis                   | $U_b$            | $L^{smin}_q$             |\n",
    "| complex anticlockwise vector | $R_+$            | $a^+_q$                  |\n",
    "| complex clockwise vector     | $R_-$            | $a^-_q$                  |\n",
    "| anticlockwise amplitude      | $|R_+|$          | $A^+_q$                  |\n",
    "| clockwise amplitude          | $|R_-|$          | $A^-_q$                  |\n",
    "| orientation angle            | $\\Phi$           | $\\theta_q$               |\n",
    "| phase lag                    | $\\phi$           | $g_q$                    |\n",
    "| anticlockwise phase          | $\\phi_+$         | $\\epsilon^+_q$, -$g^+_q$ |\n",
    "| clockwise phase              | $\\phi_-$         | $\\epsilon^-_q$, $g^-_q$  |"
   ]
  },
  {
   "cell_type": "code",
   "execution_count": 217,
   "metadata": {},
   "outputs": [],
   "source": [
    "i = 1j\n",
    "ap = 0.5*(dstide['Lsmaj']+dstide['Lsmin'])*np.exp(i*(dstide['theta']-dstide['g'])*np.pi/180)\n",
    "am = 0.5*(dstide['Lsmaj']-dstide['Lsmin'])*np.exp(i*(dstide['theta']+dstide['g'])*np.pi/180)\n",
    "Ap = np.abs(ap)\n",
    "Am = np.abs(am)\n",
    "epsilonp = np.angle(ap)*180/np.pi\n",
    "epsilonm = np.angle(am)*180/np.pi"
   ]
  },
  {
   "cell_type": "markdown",
   "metadata": {},
   "source": [
    "Test calculations (makes sure relationships in Equation 9 of Codiga are satisfied).\n",
    "All tests should be True."
   ]
  },
  {
   "cell_type": "code",
   "execution_count": 10,
   "metadata": {},
   "outputs": [
    {
     "name": "stdout",
     "output_type": "stream",
     "text": [
      "True\n",
      "True\n",
      "True\n"
     ]
    }
   ],
   "source": [
    "print(np.sum(~np.isclose(dstide['Lsmaj'],Ap + Am)) == 0)\n",
    "print(np.sum(~np.isclose(dstide['Lsmin'],Ap - Am)) == 0)\n",
    "print(np.sum(~(np.isclose(dstide['g'],-epsilonp + dstide['theta']) |\n",
    "            np.isclose(dstide['g'], -epsilonp + dstide['theta'] + 360))) == 0)"
   ]
  },
  {
   "cell_type": "code",
   "execution_count": 11,
   "metadata": {},
   "outputs": [],
   "source": [
    "z = np.arange(0.05,150,0.05)\n",
    "sigma = 1.4e-4\n",
    "f = 1.19e-4\n",
    "\n",
    "ustar = 0.0126\n",
    "zo = 0.0009\n",
    "\n",
    "\n",
    "def planetary_bbl_structure(ustar,zo,z,f):\n",
    "    '''\n",
    "    Calculate vertical structure of a planetary boundary layer (a.k.a.\n",
    "    bottom Ekman layer) following Soulsby (1983). The calculation assumes\n",
    "    that the eddy viscosity increases linearly with height.\n",
    "    '''\n",
    "\n",
    "    i = 1j \n",
    "    kappa = 0.41 # Von Karman's constant\n",
    "    \n",
    "    # non-dimensional height and roughness length\n",
    "    xi = 2*np.sqrt(f*z/(kappa*ustar))\n",
    "    xio = 2*np.sqrt(f*zo/(kappa*ustar))\n",
    "    \n",
    "    # Q/Qinf in Equation 31 of Soulsby (1983)\n",
    "    fac = (1-(ker(xi)*ker(xio) + kei(xi)*kei(xio))/\n",
    "             (ker(xio)**2 + kei(xio)**2) + \n",
    "           i*(ker(xi)*kei(xio) - kei(xi)*ker(xio))/\n",
    "             (ker(xio)**2 + kei(xio)**2))\n",
    "\n",
    "    return fac"
   ]
  },
  {
   "cell_type": "markdown",
   "metadata": {},
   "source": [
    "### Soulsby test cases\n",
    "\n",
    "#### Case 1: Rectilinear free stream flow"
   ]
  },
  {
   "cell_type": "code",
   "execution_count": 12,
   "metadata": {},
   "outputs": [
    {
     "data": {
      "application/vnd.jupyter.widget-view+json": {
       "model_id": "dc19131334d6419db84b4e05053660d6",
       "version_major": 2,
       "version_minor": 0
      },
      "text/plain": [
       "FigureCanvasNbAgg()"
      ]
     },
     "metadata": {},
     "output_type": "display_data"
    }
   ],
   "source": [
    "Rpinf = 0.15\n",
    "Rminf = 0.15\n",
    "\n",
    "Rp = Rpinf*planetary_bbl_structure(ustar,zo,z,sigma+f)\n",
    "Rm = Rminf*planetary_bbl_structure(ustar,zo,z,sigma-f)\n",
    "\n",
    "phip = np.angle(Rp)\n",
    "phim = -np.angle(Rm)\n",
    "\n",
    "phi = (phim-phip)/2\n",
    "PHI = (phim+phip)/2\n",
    "\n",
    "Ua = np.abs(Rp) + np.abs(Rm)\n",
    "Ub = np.abs(Rp) - np.abs(Rm)\n",
    "\n",
    "plt.figure()\n",
    "plt.subplot(121)\n",
    "plt.plot(np.abs(Rp)/Rpinf,z)\n",
    "plt.plot(np.abs(Rm)/Rpinf,z)\n",
    "plt.ylim([0,150])\n",
    "plt.xlim([0,1.05])\n",
    "plt.xlabel('normalized amplitude')\n",
    "plt.ylabel('height [m]')\n",
    "plt.legend(['AC','CW'])\n",
    "plt.gca().spines['right'].set_visible(False)\n",
    "plt.gca().spines['top'].set_visible(False)\n",
    "\n",
    "plt.subplot(122)\n",
    "plt.plot(phip*180/np.pi,z)\n",
    "plt.plot(-phim*180/np.pi,z)\n",
    "plt.ylim([0,150])\n",
    "plt.xlim([-0.5,10])\n",
    "plt.xlabel('phase')\n",
    "plt.legend(['AC','CW'])\n",
    "plt.gca().spines['right'].set_visible(False)\n",
    "plt.gca().spines['top'].set_visible(False)"
   ]
  },
  {
   "cell_type": "code",
   "execution_count": 13,
   "metadata": {},
   "outputs": [
    {
     "data": {
      "application/vnd.jupyter.widget-view+json": {
       "model_id": "5f699d5d96704b7a80cc89f781f7f131",
       "version_major": 2,
       "version_minor": 0
      },
      "text/plain": [
       "FigureCanvasNbAgg()"
      ]
     },
     "metadata": {},
     "output_type": "display_data"
    },
    {
     "data": {
      "text/plain": [
       "Text(0.5, 0, '$\\\\phi$, $\\\\Phi$ [degrees]')"
      ]
     },
     "execution_count": 13,
     "metadata": {},
     "output_type": "execute_result"
    }
   ],
   "source": [
    "plt.figure()\n",
    "ax1 = plt.subplot(121)\n",
    "ax1.plot(Ua,z)\n",
    "plt.xlim([0,0.3])\n",
    "plt.ylim([0,150])\n",
    "plt.xlabel('Ua [m/s]')\n",
    "plt.ylabel('height [m]')\n",
    "ax2 = ax1.twiny()\n",
    "ax2.plot(Ub/Ua,z)\n",
    "plt.xlim([0,0.6])\n",
    "plt.ylim([0,150])\n",
    "plt.xlabel('Ub/Ua')\n",
    "ax1.spines['right'].set_visible(False)\n",
    "ax2.spines['right'].set_visible(False)\n",
    "\n",
    "plt.subplot(122)\n",
    "plt.plot(phi*180/np.pi,z)\n",
    "plt.plot(PHI*180/np.pi,z)\n",
    "plt.ylim([0,150])\n",
    "plt.legend(['$\\phi$','$\\Phi$'])\n",
    "plt.xlabel('$\\phi$, $\\Phi$ [degrees]')"
   ]
  },
  {
   "cell_type": "markdown",
   "metadata": {},
   "source": [
    "#### Cases 2 and 3: Anticlockwise and clockwise free stream ellipses"
   ]
  },
  {
   "cell_type": "code",
   "execution_count": 14,
   "metadata": {},
   "outputs": [
    {
     "data": {
      "application/vnd.jupyter.widget-view+json": {
       "model_id": "9b5e4f0f39bf45da83c37d0ac4c56201",
       "version_major": 2,
       "version_minor": 0
      },
      "text/plain": [
       "FigureCanvasNbAgg()"
      ]
     },
     "metadata": {},
     "output_type": "display_data"
    }
   ],
   "source": [
    "Rpinf = 0.75*0.3\n",
    "Rminf = 0.25*0.3\n",
    "\n",
    "Rp = Rpinf*planetary_bbl_structure(ustar,zo,z,sigma+f)\n",
    "Rm = Rminf*planetary_bbl_structure(ustar,zo,z,sigma-f)\n",
    "\n",
    "phip = np.angle(Rp)\n",
    "phim = -np.angle(Rm)\n",
    "\n",
    "phi = (phim-phip)/2\n",
    "PHI = (phim+phip)/2\n",
    "\n",
    "Ua = np.abs(Rp) + np.abs(Rm)\n",
    "Ub = np.abs(Rp) - np.abs(Rm)\n",
    "\n",
    "plt.figure()\n",
    "ax1 = plt.subplot(121)\n",
    "ax1.plot(Ua,z)\n",
    "plt.xlim([0,0.3])\n",
    "plt.ylim([0,150])\n",
    "plt.xlabel('Ua [m/s]')\n",
    "plt.ylabel('height [m]')\n",
    "ax2 = ax1.twiny()\n",
    "ax2.plot(Ub/Ua,z)\n",
    "plt.xlim([0,0.6])\n",
    "plt.ylim([0,150])\n",
    "plt.xlabel('Ub/Ua')\n",
    "ax1.spines['right'].set_visible(False)\n",
    "ax2.spines['right'].set_visible(False)"
   ]
  },
  {
   "cell_type": "code",
   "execution_count": 114,
   "metadata": {},
   "outputs": [
    {
     "name": "stderr",
     "output_type": "stream",
     "text": [
      "/Users/tomconnolly/programs/anaconda/envs/py37/lib/python3.7/site-packages/matplotlib/figure.py:98: MatplotlibDeprecationWarning: \n",
      "Adding an axes using the same arguments as a previous axes currently reuses the earlier instance.  In a future version, a new instance will always be created and returned.  Meanwhile, this warning can be suppressed, and the future behavior ensured, by passing a unique label to each axes instance.\n",
      "  \"Adding an axes using the same arguments as a previous axes \"\n"
     ]
    }
   ],
   "source": [
    "Rpinf = 0.25*0.3\n",
    "Rminf = 0.75*0.3\n",
    "\n",
    "Rp = Rpinf*planetary_bbl_structure(ustar,zo,z,sigma+f)\n",
    "Rm = Rminf*planetary_bbl_structure(ustar,zo,z,sigma-f)\n",
    "\n",
    "phip = np.angle(Rp)\n",
    "phim = -np.angle(Rm)\n",
    "\n",
    "phi = (phim-phip)/2\n",
    "PHI = (phim+phip)/2\n",
    "\n",
    "Ua = np.abs(Rp) + np.abs(Rm)\n",
    "Ub = np.abs(Rp) - np.abs(Rm)\n",
    "\n",
    "ax1 = plt.subplot(122)\n",
    "ax1.plot(Ua,z)\n",
    "plt.xlim([0,0.3])\n",
    "plt.ylim([0,150])\n",
    "plt.xlabel('Ua [m/s]')\n",
    "ax2 = ax1.twiny()\n",
    "ax2.plot(Ub/Ua,z)\n",
    "plt.xlim([0,-0.6])\n",
    "plt.ylim([0,150])\n",
    "plt.xlabel('Ub/Ua')\n",
    "ax1.spines['right'].set_visible(False)\n",
    "ax2.spines['right'].set_visible(False)"
   ]
  },
  {
   "cell_type": "markdown",
   "metadata": {},
   "source": [
    "### Station M \n",
    "\n",
    "Manually tune parameters to Station M data. In the future, parameters will be found through nonlinear optimization."
   ]
  },
  {
   "cell_type": "code",
   "execution_count": 115,
   "metadata": {},
   "outputs": [
    {
     "name": "stdout",
     "output_type": "stream",
     "text": [
      "<xarray.DataArray (constituent: 1)>\n",
      "array([-0.012723-0.010618j])\n",
      "Coordinates:\n",
      "    height       float64 17.6\n",
      "  * constituent  (constituent) object 'M2'\n",
      "<xarray.DataArray (constituent: 1)>\n",
      "array([0.016839+0.003567j])\n",
      "Coordinates:\n",
      "    height       float64 17.6\n",
      "  * constituent  (constituent) object 'M2'\n"
     ]
    }
   ],
   "source": [
    "print(ap[zi[-1],m2i])\n",
    "print(am[zi[-1],m2i])"
   ]
  },
  {
   "cell_type": "code",
   "execution_count": 214,
   "metadata": {},
   "outputs": [
    {
     "name": "stderr",
     "output_type": "stream",
     "text": [
      "/Users/tomconnolly/programs/anaconda/envs/py37/lib/python3.7/site-packages/matplotlib/pyplot.py:514: RuntimeWarning: More than 20 figures have been opened. Figures created through the pyplot interface (`matplotlib.pyplot.figure`) are retained until explicitly closed and may consume too much memory. (To control this warning, see the rcParam `figure.max_open_warning`).\n",
      "  max_open_warning, RuntimeWarning)\n"
     ]
    },
    {
     "data": {
      "application/vnd.jupyter.widget-view+json": {
       "model_id": "c0e74a43ef314aa6a72d05fb0f426978",
       "version_major": 2,
       "version_minor": 0
      },
      "text/plain": [
       "FigureCanvasNbAgg()"
      ]
     },
     "metadata": {},
     "output_type": "display_data"
    },
    {
     "data": {
      "text/plain": [
       "Text(0.5, 1.0, 'magnitude of rotary coefficients')"
      ]
     },
     "execution_count": 214,
     "metadata": {},
     "output_type": "execute_result"
    }
   ],
   "source": [
    "Rpinf = -0.012723-0.010618j\n",
    "Rminf = 0.016839+0.003567j\n",
    "\n",
    "if sigma+f < 0:\n",
    "    Rpinf = np.abs(Rpinf)*np.exp(-i*np.angle(Rpinf))\n",
    "if sigma-f > 0:\n",
    "    Rminf = np.abs(Rminf)*np.exp(-i*np.angle(Rminf))\n",
    "\n",
    "z = np.arange(0.05,25,0.05)\n",
    "sigma = 1.4e-4\n",
    "f = gsw.f(35+8.4585/60)\n",
    "ustar = 0.002\n",
    "zo = 0.02\n",
    "\n",
    "Rp = Rpinf*planetary_bbl_structure(ustar,zo,z,sigma+f)\n",
    "Rm = Rminf*planetary_bbl_structure(ustar,zo,z,sigma-f)\n",
    "\n",
    "phip = np.angle(Rp)\n",
    "phim = np.angle(Rm)\n",
    "\n",
    "if sigma+f < 0:\n",
    "    # southern hemisphere (needs testing) \n",
    "    # tidal oscillation lower frequency than f\n",
    "    phip = -np.angle(Rp)\n",
    "    Rp = np.abs(Rp)*np.exp(1j*phip)\n",
    "    \n",
    "if sigma-f > 0:\n",
    "    # northern hemisphere \n",
    "    # tidal oscillation higher frequency than f\n",
    "    phim = -np.angle(Rm)\n",
    "    Rm = np.abs(Rm)*np.exp(1j*phim)\n",
    "    \n",
    "\n",
    "phi = (phim-phip)/2\n",
    "PHI = (phim+phip)/2\n",
    "\n",
    "Ua = np.abs(Rp) + np.abs(Rm)\n",
    "Ub = np.abs(Rp) - np.abs(Rm)\n",
    "\n",
    "plt.figure()\n",
    "plt.plot(Ap[:,m2i][zi],dstide['height'][zi],'rs')\n",
    "plt.plot(Am[:,m2i][zi],dstide['height'][zi],'bs')\n",
    "plt.plot(np.abs(Rp),z,'r')\n",
    "plt.plot(np.abs(Rm),z,'b')\n",
    "plt.legend(['anticlockwise (+)','clockwise (-)'])\n",
    "plt.title('magnitude of rotary coefficients')"
   ]
  },
  {
   "cell_type": "code",
   "execution_count": 215,
   "metadata": {},
   "outputs": [
    {
     "name": "stderr",
     "output_type": "stream",
     "text": [
      "/Users/tomconnolly/programs/anaconda/envs/py37/lib/python3.7/site-packages/matplotlib/pyplot.py:514: RuntimeWarning: More than 20 figures have been opened. Figures created through the pyplot interface (`matplotlib.pyplot.figure`) are retained until explicitly closed and may consume too much memory. (To control this warning, see the rcParam `figure.max_open_warning`).\n",
      "  max_open_warning, RuntimeWarning)\n"
     ]
    },
    {
     "data": {
      "application/vnd.jupyter.widget-view+json": {
       "model_id": "e203fea9e4f14ceb87de6ff194361f0f",
       "version_major": 2,
       "version_minor": 0
      },
      "text/plain": [
       "FigureCanvasNbAgg()"
      ]
     },
     "metadata": {},
     "output_type": "display_data"
    },
    {
     "data": {
      "text/plain": [
       "Text(0.5, 1.0, 'phase of rotary coefficients')"
      ]
     },
     "execution_count": 215,
     "metadata": {},
     "output_type": "execute_result"
    }
   ],
   "source": [
    "plt.figure()\n",
    "plt.plot(dstide['g'][:,m2i][zi],dstide['height'][zi],'rs')\n",
    "plt.plot(dstide['theta'][:,m2i][zi],dstide['height'][zi],'bs')\n",
    "# add 180 degrees?\n",
    "plt.plot(phi*180/np.pi+180,z,'r')\n",
    "plt.plot(PHI*180/np.pi+180,z,'b')\n",
    "plt.legend(['$g$, $\\phi$','$\\\\theta$, $\\Phi$'])\n",
    "plt.title('phase of rotary coefficients')"
   ]
  },
  {
   "cell_type": "code",
   "execution_count": 216,
   "metadata": {},
   "outputs": [
    {
     "name": "stderr",
     "output_type": "stream",
     "text": [
      "/Users/tomconnolly/programs/anaconda/envs/py37/lib/python3.7/site-packages/matplotlib/pyplot.py:514: RuntimeWarning: More than 20 figures have been opened. Figures created through the pyplot interface (`matplotlib.pyplot.figure`) are retained until explicitly closed and may consume too much memory. (To control this warning, see the rcParam `figure.max_open_warning`).\n",
      "  max_open_warning, RuntimeWarning)\n"
     ]
    },
    {
     "data": {
      "application/vnd.jupyter.widget-view+json": {
       "model_id": "bf9acee7b9b446268d7e43d1d445df1e",
       "version_major": 2,
       "version_minor": 0
      },
      "text/plain": [
       "FigureCanvasNbAgg()"
      ]
     },
     "metadata": {},
     "output_type": "display_data"
    },
    {
     "data": {
      "text/plain": [
       "Text(0.5, 1.0, 'complex rotary coefficients')"
      ]
     },
     "execution_count": 216,
     "metadata": {},
     "output_type": "execute_result"
    }
   ],
   "source": [
    "plt.figure()\n",
    "plt.plot(np.real(ap[:,m2i][zi]),dstide['height'][zi],'rs')\n",
    "plt.plot(np.imag(ap[:,m2i][zi]),dstide['height'][zi],'ro')\n",
    "plt.plot(np.real(am[:,m2i][zi]),dstide['height'][zi],'bs')\n",
    "plt.plot(np.imag(am[:,m2i][zi]),dstide['height'][zi],'bo')\n",
    "plt.plot(np.real(Rp),z,'r-')\n",
    "plt.plot(np.imag(Rp),z,'r--')\n",
    "plt.plot(np.real(Rm),z,'b-')\n",
    "plt.plot(np.imag(Rm),z,'b--')\n",
    "plt.title('complex rotary coefficients')"
   ]
  },
  {
   "cell_type": "markdown",
   "metadata": {},
   "source": [
    "That looks about right!\n",
    "\n",
    "In a more objective procedure, the model should be fit to these complex rotary coefficients. The free parameters for such a fit might include:\n",
    "\n",
    "* Anticlockwise coefficients above BBL: $\\text{Re}(R_+^{\\infty})$, $\\text{Im}(R_+^{\\infty})$\n",
    "* Clockwise coefficients above BBL: $\\text{Re}(R_-^{\\infty})$, $\\text{Im}(R_-^{\\infty})$\n",
    "* Maximum shear velocity ($u_{*m}$)\n",
    "* Roughness length ($z_o$)\n",
    "\n",
    "This is a total of six parameters. The coefficients above the BBL could also potentially be treated as known paramaters, using the top bin from the data.\n",
    "\n",
    "The M2 constituent is the strongest signal. Can other constituents be used? Will the value of $z_o$ change?"
   ]
  },
  {
   "cell_type": "code",
   "execution_count": null,
   "metadata": {},
   "outputs": [],
   "source": []
  }
 ],
 "metadata": {
  "kernelspec": {
   "display_name": "Python [conda env:py37]",
   "language": "python",
   "name": "conda-env-py37-py"
  },
  "language_info": {
   "codemirror_mode": {
    "name": "ipython",
    "version": 3
   },
   "file_extension": ".py",
   "mimetype": "text/x-python",
   "name": "python",
   "nbconvert_exporter": "python",
   "pygments_lexer": "ipython3",
   "version": "3.7.2"
  }
 },
 "nbformat": 4,
 "nbformat_minor": 2
}
