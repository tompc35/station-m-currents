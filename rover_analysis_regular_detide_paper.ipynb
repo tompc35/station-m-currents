{
 "cells": [
  {
   "cell_type": "code",
   "execution_count": 1,
   "metadata": {},
   "outputs": [],
   "source": [
    "%matplotlib ipympl\n",
    "import pandas as pd\n",
    "import xarray as xr\n",
    "import numpy as np\n",
    "import matplotlib.pyplot as plt\n",
    "from scipy import stats\n",
    "from scipy.signal import welch, periodogram\n",
    "import os\n",
    "import matplotlib.dates as mdates\n",
    "import utide\n",
    "from oceans import bottomstress\n",
    "\n",
    "from statsmodels.stats.multicomp import (pairwise_tukeyhsd,\n",
    "                                         MultiComparison)\n",
    "import statsmodels.api as sm\n",
    "from statsmodels.formula.api import ols\n",
    "\n",
    "from physoce import tseries as ts\n",
    "from tseries import lombscargle\n",
    "from scipy.stats import chi2"
   ]
  },
  {
   "cell_type": "markdown",
   "metadata": {},
   "source": [
    "### Load data"
   ]
  },
  {
   "cell_type": "markdown",
   "metadata": {},
   "source": [
    "#### Rover"
   ]
  },
  {
   "cell_type": "code",
   "execution_count": 2,
   "metadata": {},
   "outputs": [
    {
     "name": "stderr",
     "output_type": "stream",
     "text": [
      "/Users/tomconnolly/programs/anaconda/envs/py37/lib/python3.7/site-packages/ipykernel/__main__.py:17: SettingWithCopyWarning: \n",
      "A value is trying to be set on a copy of a slice from a DataFrame\n",
      "\n",
      "See the caveats in the documentation: http://pandas.pydata.org/pandas-docs/stable/indexing.html#indexing-view-versus-copy\n",
      "/Users/tomconnolly/programs/anaconda/envs/py37/lib/python3.7/site-packages/ipykernel/__main__.py:18: SettingWithCopyWarning: \n",
      "A value is trying to be set on a copy of a slice from a DataFrame\n",
      "\n",
      "See the caveats in the documentation: http://pandas.pydata.org/pandas-docs/stable/indexing.html#indexing-view-versus-copy\n"
     ]
    }
   ],
   "source": [
    "# Load data\n",
    "rover_csv_file = 'data/Rover_II_Current_Mag_Hourly_Avg_pad_2018.csv'\n",
    "df_all = pd.read_csv(rover_csv_file,parse_dates=[7])\n",
    "\n",
    "# Datetime index\n",
    "df_all = df_all.set_index('Date_time_R')\n",
    "\n",
    "# Create u and v components with units m/s\n",
    "df_all['u'] = df_all['Easting (cm/sec)']/100\n",
    "df_all['v'] = df_all['Northing (cm/sec)']/100\n",
    "\n",
    "# mask erroneous points \n",
    "# abrupt shift near end of deployment \n",
    "bi = ((df_all.index > np.datetime64('2015-06-18T12:00')) &\n",
    "    (df_all.index < np.datetime64('2015-06-20T00:00')))\n",
    "\n",
    "df_all['u'][bi] = np.nan\n",
    "df_all['v'][bi] = np.nan\n",
    "\n",
    "# select time range\n",
    "t1 = np.datetime64('2014-10-11T00:00:00')\n",
    "t2 = np.datetime64('2018-10-17T00:00:00')\n",
    "df_all = df_all.loc[(df_all.index >= t1) & (df_all.index <= t2)]"
   ]
  },
  {
   "cell_type": "code",
   "execution_count": 3,
   "metadata": {},
   "outputs": [
    {
     "name": "stdout",
     "output_type": "stream",
     "text": [
      "solve: matrix prep ... solution ... diagnostics ... done.\n"
     ]
    }
   ],
   "source": [
    "# tidal analysis\n",
    "time = mdates.date2num(df_all.index)\n",
    "\n",
    "coef = utide.solve(time, np.array(df_all['u']), \n",
    "         np.array(df_all['v']),\n",
    "         lat=35+8.4585/60,\n",
    "         method='robust')"
   ]
  },
  {
   "cell_type": "code",
   "execution_count": 4,
   "metadata": {},
   "outputs": [
    {
     "data": {
      "text/plain": [
       "68"
      ]
     },
     "execution_count": 4,
     "metadata": {},
     "output_type": "execute_result"
    }
   ],
   "source": [
    "len(coef['name'])"
   ]
  },
  {
   "cell_type": "code",
   "execution_count": 5,
   "metadata": {},
   "outputs": [
    {
     "data": {
      "text/plain": [
       "array(['M2', 'S2', 'K1', 'O1', 'N2', 'MKS2', 'MSM', 'P1', 'K2', 'SA',\n",
       "       'MF', 'MSF', 'H1', 'MS4', 'GAM2', 'M4', 'H2', 'SSA', 'MK3', 'Q1',\n",
       "       'MM', 'T2', 'MSN2', 'R2', 'L2', 'NU2', 'MO3', 'SO3', 'LDA2', '2N2',\n",
       "       'J1', 'S1', 'MN4', 'MU2', 'NO1', 'ETA2', 'OQ2', 'PI1', 'TAU1',\n",
       "       'SN4', 'RHO1', '2Q1', 'OO1', 'S4', 'SIG1', 'EPS2', 'M3', 'PHI1',\n",
       "       'THE1', '2MN6', 'CHI1', 'SO1', 'MK4', 'M6', 'ALP1', 'PSI1', '2SM6',\n",
       "       'SK4', '2MK5', 'SK3', 'BET1', 'UPS1', '2SK5', 'MSK6', '2MK6', 'M8',\n",
       "       '2MS6', '3MK7'], dtype=object)"
      ]
     },
     "execution_count": 5,
     "metadata": {},
     "output_type": "execute_result"
    }
   ],
   "source": [
    "coef['name']"
   ]
  },
  {
   "cell_type": "code",
   "execution_count": 6,
   "metadata": {},
   "outputs": [],
   "source": [
    "crit = (coef['diagn']['SNR'] > 2) & (1/coef['aux']['frq'] < 48)"
   ]
  },
  {
   "cell_type": "code",
   "execution_count": 7,
   "metadata": {},
   "outputs": [
    {
     "data": {
      "text/plain": [
       "array(['M2', 'S2', 'K1', 'O1', 'N2', 'MKS2', 'P1', 'K2', 'H1', 'MS4',\n",
       "       'GAM2', 'M4', 'H2', 'MK3', 'Q1', 'T2', 'MSN2', 'R2', 'L2', 'NU2',\n",
       "       'MO3', 'SO3', 'LDA2', '2N2', 'J1', 'S1', 'MN4', 'MU2', 'NO1',\n",
       "       'ETA2', 'OQ2', 'PI1', 'TAU1', 'SN4', 'RHO1', '2Q1', 'S4', 'SIG1',\n",
       "       'EPS2', 'M3', 'PHI1', 'THE1', '2MN6', 'M6', '2SM6'], dtype=object)"
      ]
     },
     "execution_count": 7,
     "metadata": {},
     "output_type": "execute_result"
    }
   ],
   "source": [
    "coef['name'][crit]"
   ]
  },
  {
   "cell_type": "code",
   "execution_count": 8,
   "metadata": {},
   "outputs": [
    {
     "data": {
      "text/plain": [
       "array([5.17525050e-01, 5.00000000e-01, 9.97269566e-01, 1.07580590e+00,\n",
       "       5.27431176e-01, 5.16062594e-01, 3.18119415e+01, 1.00274543e+00,\n",
       "       4.98634783e-01, 3.65259645e+02, 1.36607911e+01, 1.47652944e+01,\n",
       "       5.18259356e-01, 2.54305803e-01, 5.18829165e-01, 2.58762525e-01,\n",
       "       5.16792822e-01, 1.82621096e+02, 3.40714165e-01, 1.11951486e+00,\n",
       "       2.75545497e+01, 5.00685383e-01, 4.91088789e-01, 4.99316491e-01,\n",
       "       5.07984174e-01, 5.26083515e-01, 3.49429290e-01, 3.41351019e-01,\n",
       "       5.09240590e-01, 5.37723936e-01, 9.62436529e-01, 9.99999869e-01,\n",
       "       2.61215579e-01, 5.36323233e-01, 1.03471868e+00, 4.89771738e-01,\n",
       "       5.48426416e-01, 1.00550584e+00, 1.06950553e+00, 2.56674699e-01,\n",
       "       1.11346055e+00, 1.16692594e+00, 9.29419760e-01, 2.50000000e-01,\n",
       "       1.16034948e+00, 5.46969476e-01, 3.45016700e-01, 9.91853188e-01,\n",
       "       9.66956537e-01, 1.73595162e-01, 1.02954467e+00, 9.34174083e-01,\n",
       "       2.53952166e-01, 1.72508350e-01, 1.21136110e+00, 9.94554132e-01,\n",
       "       1.68569433e-01, 2.49658229e-01, 2.05453342e-01, 3.33029399e-01,\n",
       "       1.04061473e+00, 8.99093190e-01, 1.99890544e-01, 1.68413978e-01,\n",
       "       1.70357082e-01, 1.29381263e-01, 1.70516147e-01, 1.47068367e-01])"
      ]
     },
     "execution_count": 8,
     "metadata": {},
     "output_type": "execute_result"
    }
   ],
   "source": [
    "1/coef['aux']['frq'] / 24"
   ]
  },
  {
   "cell_type": "code",
   "execution_count": 9,
   "metadata": {},
   "outputs": [],
   "source": [
    "# tide = utide.reconstruct(time,coef)"
   ]
  },
  {
   "cell_type": "code",
   "execution_count": 10,
   "metadata": {},
   "outputs": [],
   "source": [
    "# df_all['u_tide'] = tide.u\n",
    "# df_all['v_tide'] = tide.v\n",
    "# df_all['u_detide'] = df_all['u'] - df_all['u_tide']\n",
    "# df_all['v_detide'] = df_all['v'] - df_all['v_tide']"
   ]
  },
  {
   "cell_type": "markdown",
   "metadata": {},
   "source": [
    "### Resample to hourly values"
   ]
  },
  {
   "cell_type": "markdown",
   "metadata": {},
   "source": [
    "#### Define date range"
   ]
  },
  {
   "cell_type": "code",
   "execution_count": 11,
   "metadata": {},
   "outputs": [],
   "source": [
    "# t1 = np.datetime64('2017-11-12T00:00:00')\n",
    "# t2 = np.datetime64('2018-10-17T00:00:00')\n",
    "# dff = dfr.loc[(dfr.index >= t1) & (dfr.index <= t2)].interpolate(limit=2)"
   ]
  },
  {
   "cell_type": "code",
   "execution_count": 12,
   "metadata": {},
   "outputs": [
    {
     "name": "stdout",
     "output_type": "stream",
     "text": [
      "prep/calcs ... done.\n"
     ]
    },
    {
     "name": "stderr",
     "output_type": "stream",
     "text": [
      "/Users/tomconnolly/programs/anaconda/envs/py37/lib/python3.7/site-packages/scipy/signal/signaltools.py:491: FutureWarning: Using a non-tuple sequence for multidimensional indexing is deprecated; use `arr[tuple(seq)]` instead of `arr[seq]`. In the future this will be interpreted as an array index, `arr[np.array(seq)]`, which will result either in an error or a different result.\n",
      "  return x[reverse].conj()\n",
      "/Users/tomconnolly/programs/anaconda/envs/py37/lib/python3.7/site-packages/scipy/signal/signaltools.py:251: FutureWarning: Using a non-tuple sequence for multidimensional indexing is deprecated; use `arr[tuple(seq)]` instead of `arr[seq]`. In the future this will be interpreted as an array index, `arr[np.array(seq)]`, which will result either in an error or a different result.\n",
      "  in1zpadded[sc] = in1.copy()\n"
     ]
    }
   ],
   "source": [
    "# resample and interpolate\n",
    "df_all_r = df_all.resample('1H').mean()\n",
    "\n",
    "# Calculate tidal currents at hourly points\n",
    "time_r = mdates.date2num(df_all_r.index)\n",
    "#tide_r = utide.reconstruct(time_r,coef)\n",
    "tide_r = utide.reconstruct(time_r,coef,constit=coef['name'][crit])\n",
    "df_all_r['u_tide'] = tide_r.u\n",
    "df_all_r['v_tide'] = tide_r.v\n",
    "df_all_r['u_detide'] = df_all_r['u'] - df_all_r['u_tide']\n",
    "df_all_r['v_detide'] = df_all_r['v'] - df_all_r['v_tide']\n",
    "\n",
    "df_all_int = df_all_r.interpolate(limit=int(24*3.5))\n",
    "\n",
    "df_all_int['u'] = df_all_int['u_detide'] + df_all_int['u_tide']\n",
    "df_all_int['v'] = df_all_int['v_detide'] + df_all_int['v_tide']\n",
    "\n",
    "df_all_int['u_f'] = ts.pl64(df_all_int['u_detide'])\n",
    "df_all_int['v_f'] = ts.pl64(df_all_int['v_detide'])\n",
    "\n",
    "df_all_int['u_super'] = df_all_int['u'] - df_all_int['u_f'] - df_all_int['u_tide']\n",
    "df_all_int['v_super'] = df_all_int['v'] - df_all_int['v_f'] - df_all_int['v_tide']"
   ]
  },
  {
   "cell_type": "markdown",
   "metadata": {},
   "source": [
    "### Subset with no gaps\n",
    "November 2015-October 2018"
   ]
  },
  {
   "cell_type": "code",
   "execution_count": 13,
   "metadata": {},
   "outputs": [],
   "source": [
    "# select time range\n",
    "t1s = np.datetime64('2015-11-11T13:00:00')\n",
    "t2s = np.datetime64('2018-10-14T07:00:00')\n",
    "df_sub = df_all_int.loc[(df_all_int.index >= t1s) & (df_all_int.index <= t2s)]"
   ]
  },
  {
   "cell_type": "markdown",
   "metadata": {},
   "source": [
    "### Initial plots"
   ]
  },
  {
   "cell_type": "markdown",
   "metadata": {},
   "source": [
    "### Full velocity"
   ]
  },
  {
   "cell_type": "code",
   "execution_count": 14,
   "metadata": {},
   "outputs": [
    {
     "data": {
      "application/vnd.jupyter.widget-view+json": {
       "model_id": "27fc1002659c4c82a5c7515d4df9af3f",
       "version_major": 2,
       "version_minor": 0
      },
      "text/plain": [
       "FigureCanvasNbAgg()"
      ]
     },
     "metadata": {},
     "output_type": "display_data"
    },
    {
     "data": {
      "text/plain": [
       "[<matplotlib.lines.Line2D at 0x1c1c885ba8>]"
      ]
     },
     "execution_count": 14,
     "metadata": {},
     "output_type": "execute_result"
    }
   ],
   "source": [
    "plt.figure(figsize=(7.5,4))\n",
    "plt.plot(df_all.index,df_all['u'])"
   ]
  },
  {
   "cell_type": "code",
   "execution_count": 15,
   "metadata": {},
   "outputs": [
    {
     "data": {
      "application/vnd.jupyter.widget-view+json": {
       "model_id": "a53d92a756504667a81fee2f5539f0f4",
       "version_major": 2,
       "version_minor": 0
      },
      "text/plain": [
       "FigureCanvasNbAgg()"
      ]
     },
     "metadata": {},
     "output_type": "display_data"
    },
    {
     "data": {
      "text/plain": [
       "[<matplotlib.lines.Line2D at 0x1c1c9dd5f8>]"
      ]
     },
     "execution_count": 15,
     "metadata": {},
     "output_type": "execute_result"
    }
   ],
   "source": [
    "plt.figure(figsize=(7.5,4))\n",
    "plt.plot(df_all_int.index,df_all_int['u_super'])\n",
    "plt.plot(df_all_int.index,df_all_int['u_f'])"
   ]
  },
  {
   "cell_type": "code",
   "execution_count": 16,
   "metadata": {},
   "outputs": [
    {
     "data": {
      "application/vnd.jupyter.widget-view+json": {
       "model_id": "9d5d310cf9dd427283d949bfd7330430",
       "version_major": 2,
       "version_minor": 0
      },
      "text/plain": [
       "FigureCanvasNbAgg()"
      ]
     },
     "metadata": {},
     "output_type": "display_data"
    },
    {
     "data": {
      "text/plain": [
       "[<matplotlib.lines.Line2D at 0x1c1cb96a58>]"
      ]
     },
     "execution_count": 16,
     "metadata": {},
     "output_type": "execute_result"
    }
   ],
   "source": [
    "plt.figure(figsize=(7.5,4))\n",
    "plt.plot(df_all_int.index,df_all_int['u_super'])\n",
    "plt.plot(df_all_int.index,df_all_int['u_tide'])"
   ]
  },
  {
   "cell_type": "code",
   "execution_count": 17,
   "metadata": {},
   "outputs": [
    {
     "data": {
      "application/vnd.jupyter.widget-view+json": {
       "model_id": "7313e0325183426e9a414e675612757d",
       "version_major": 2,
       "version_minor": 0
      },
      "text/plain": [
       "FigureCanvasNbAgg()"
      ]
     },
     "metadata": {},
     "output_type": "display_data"
    },
    {
     "data": {
      "text/plain": [
       "[<matplotlib.lines.Line2D at 0x1c1cb97198>]"
      ]
     },
     "execution_count": 17,
     "metadata": {},
     "output_type": "execute_result"
    }
   ],
   "source": [
    "plt.figure(figsize=(7.5,4))\n",
    "plt.plot(df_all_int.index,df_all_int['u_super'])\n",
    "plt.plot(df_all_int.index,df_all_int['v_super'])"
   ]
  },
  {
   "cell_type": "code",
   "execution_count": 18,
   "metadata": {},
   "outputs": [
    {
     "data": {
      "application/vnd.jupyter.widget-view+json": {
       "model_id": "9fd5d1543588476aba950f345b3b64b3",
       "version_major": 2,
       "version_minor": 0
      },
      "text/plain": [
       "FigureCanvasNbAgg()"
      ]
     },
     "metadata": {},
     "output_type": "display_data"
    }
   ],
   "source": [
    "t1p = np.datetime64('2016-12-01')\n",
    "t2p = np.datetime64('2017-12-01')\n",
    "\n",
    "t1b = np.datetime64('2017-04-21')\n",
    "t2b = np.datetime64('2017-05-11')\n",
    "\n",
    "plt.figure(figsize=(8,6))\n",
    "plt.subplot(211)\n",
    "h1 = plt.plot(df_sub.index,df_sub['v_f'],'-',color='gray')\n",
    "h2 = plt.plot(df_sub.index,df_sub['u_f'],'k-')\n",
    "plt.ylim([-0.06,0.06])\n",
    "plt.xlim([t1p,t2p])\n",
    "yl = plt.ylim()\n",
    "plt.plot([t1b,t1b],yl,'k--')\n",
    "plt.plot([t2b,t2b],yl,'k--')\n",
    "xl = plt.xlim()\n",
    "yl = plt.ylim()\n",
    "plt.text(xl[0]+0.01*np.diff(xl),yl[1]-0.1*np.diff(yl),'a)')\n",
    "plt.ylabel('[m/s]')\n",
    "plt.title('Benthic rover\\nlow-pass filtered velocity - $u_{low}$,$v_{low}$')\n",
    "plt.legend((h2[0],h1[0]),['u','v'],loc='lower left')\n",
    "\n",
    "plt.subplot(212)\n",
    "plt.plot(df_sub.index,df_sub['v_super'],color='gray')\n",
    "plt.plot(df_sub.index,df_sub['u_super'],color='k')\n",
    "plt.ylim([-0.06,0.06])\n",
    "plt.xlim([t1b,t2b])\n",
    "monthyearFmt = mdates.DateFormatter('%B %d')\n",
    "plt.gca().xaxis.set_major_formatter(monthyearFmt)\n",
    "xl = plt.xlim()\n",
    "yl = plt.ylim()\n",
    "plt.text(xl[0]+0.01*np.diff(xl),yl[1]-0.1*np.diff(yl),'b)')\n",
    "plt.ylabel('[m/s]')\n",
    "plt.title('high-pass filtered and detided velocity - $u_{high}$,$v_{high}$')\n",
    "plt.tight_layout()\n",
    "\n",
    "plt.savefig('figures_paper/rover_tseries_examples.png',dpi=600)\n",
    "plt.savefig('figures_paper/rover_tseries_examples.pdf')"
   ]
  },
  {
   "cell_type": "markdown",
   "metadata": {},
   "source": [
    "### Spectral analysis"
   ]
  },
  {
   "cell_type": "code",
   "execution_count": 19,
   "metadata": {},
   "outputs": [],
   "source": [
    "u = np.array(df_sub['u'])\n",
    "v = np.array(df_sub['v'])\n",
    "\n",
    "N = len(u)\n",
    "fu,Su = welch(u,fs=24.,nperseg=N/3,window='hanning')\n",
    "fv,Sv = welch(v,fs=24.,nperseg=N/3,window='hanning')"
   ]
  },
  {
   "cell_type": "code",
   "execution_count": 20,
   "metadata": {},
   "outputs": [
    {
     "data": {
      "application/vnd.jupyter.widget-view+json": {
       "model_id": "829cdc9cb4dc46aaa62f6b1e8dd35b41",
       "version_major": 2,
       "version_minor": 0
      },
      "text/plain": [
       "FigureCanvasNbAgg()"
      ]
     },
     "metadata": {},
     "output_type": "display_data"
    }
   ],
   "source": [
    "# fmax = 1/2\n",
    "# fi, = np.where(fu <= fmax)\n",
    "\n",
    "plt.figure()\n",
    "plt.loglog(fu,Su,'k-')\n",
    "plt.loglog(fv,Sv,'-',color='gray')\n",
    "xl = plt.xlim()\n",
    "plt.xlim(xl[0],np.max(fu))\n",
    "\n",
    "# confidence intervals\n",
    "dof = 6\n",
    "edof = (8/3)*dof\n",
    "lower = edof/chi2.ppf(0.975,edof)\n",
    "upper = edof/chi2.ppf(0.025,edof)\n",
    "fplot = 5\n",
    "fac = 0.0008\n",
    "plt.plot(np.array([fplot,fplot]),fac*np.array([lower,upper]),'k-')\n",
    "plt.text(fplot+0.5,fac*np.mean([lower,upper]),'95%',verticalalignment='center')\n",
    "\n",
    "plt.legend(['u','v'])\n",
    "plt.xlabel('frequency [cpd]')\n",
    "plt.ylabel('[m$^2$ s$^{-2}$ cpd$^{-1}$]')\n",
    "plt.title('Benthic Rover\\nNov 2015-Oct 2018')\n",
    "\n",
    "plt.savefig('figures_paper/rover_spectrum.png')\n",
    "plt.savefig('figures_paper/rover_spectrum.pdf')"
   ]
  },
  {
   "cell_type": "markdown",
   "metadata": {},
   "source": [
    "### Lomb-Scargle periodogram - 2014 to 2018"
   ]
  },
  {
   "cell_type": "code",
   "execution_count": 21,
   "metadata": {},
   "outputs": [],
   "source": [
    "gi, = np.where(np.isfinite(df_all['u']+df_all['v']))\n",
    "ua = np.array(df_all['u'][gi])\n",
    "va = np.array(df_all['v'][gi])\n",
    "\n",
    "#rotary spectrum\n",
    "fua,ftua,Sua = lombscargle(time[gi],ua,ofac=1,window='hanning',scaling='density')\n",
    "fva,ftva,Sva = lombscargle(time[gi],va,ofac=1,window='hanning',scaling='density')"
   ]
  },
  {
   "cell_type": "code",
   "execution_count": 22,
   "metadata": {},
   "outputs": [],
   "source": [
    "# average frequency bands\n",
    "navg = 2 # number of frequency bands to average\n",
    "nfreq = int(np.floor(len(fua)/navg))  # number of freqencies in averaged spectrum\n",
    "\n",
    "fwt = 1/navg\n",
    "fm = np.zeros(nfreq)\n",
    "Sum = np.zeros(nfreq)\n",
    "Svm = np.zeros(nfreq)\n",
    "for k in range(navg):\n",
    "    fm = fm + fwt*fua[1:(nfreq*navg)][::navg]\n",
    "    Sum = Sum + fwt*Sua[1:(nfreq*navg)][::navg]\n",
    "    Svm = Svm + fwt*Sva[1:(nfreq*navg)][::navg]"
   ]
  },
  {
   "cell_type": "code",
   "execution_count": 23,
   "metadata": {},
   "outputs": [
    {
     "data": {
      "text/plain": [
       "array([3.49997163e-04, 2.22530111e-03, 1.92575183e-03, ...,\n",
       "       4.81409249e-06, 1.48315243e-07, 2.90089730e-07])"
      ]
     },
     "execution_count": 23,
     "metadata": {},
     "output_type": "execute_result"
    }
   ],
   "source": [
    "Sum"
   ]
  },
  {
   "cell_type": "code",
   "execution_count": 24,
   "metadata": {},
   "outputs": [
    {
     "data": {
      "application/vnd.jupyter.widget-view+json": {
       "model_id": "48c0750e81644bfa9fa6beb85a80a219",
       "version_major": 2,
       "version_minor": 0
      },
      "text/plain": [
       "FigureCanvasNbAgg()"
      ]
     },
     "metadata": {},
     "output_type": "display_data"
    },
    {
     "data": {
      "text/plain": [
       "Text(0.5, 1.0, 'Lomb-Scargle periodogram [Rover]')"
      ]
     },
     "execution_count": 24,
     "metadata": {},
     "output_type": "execute_result"
    }
   ],
   "source": [
    "plt.figure()\n",
    "plt.loglog(fua,Sua)\n",
    "plt.loglog(fva,Sva,'--')\n",
    "plt.xlabel('frequency [cpd]')\n",
    "plt.ylabel('[m$^2$ s$^{-2}$ cpd$^{-1}$]')\n",
    "plt.title('Lomb-Scargle periodogram [Rover]')"
   ]
  },
  {
   "cell_type": "code",
   "execution_count": 25,
   "metadata": {},
   "outputs": [],
   "source": [
    "df_all_1M = df_all_int.rolling(24*30,min_periods=24*30,center=True).mean()\n",
    "df_all_2M = df_all_int.rolling(24*60,min_periods=24*60,center=True).mean()\n",
    "df_all_3M = df_all_int.rolling(24*90,min_periods=24*90,center=True).mean()"
   ]
  },
  {
   "cell_type": "code",
   "execution_count": 26,
   "metadata": {},
   "outputs": [],
   "source": [
    "df_all_3M_mon = df_all_3M.resample('1M').last()\n",
    "df_all_2M_mon = df_all_2M.resample('1M').last()\n",
    "df_all_1M_mon = df_all_1M.resample('1M').last()"
   ]
  },
  {
   "cell_type": "code",
   "execution_count": 27,
   "metadata": {},
   "outputs": [],
   "source": [
    "df_all_1Mstd = df_all_int.rolling(24*30,min_periods=24*30,center=True).std()\n",
    "df_all_2Mstd = df_all_int.rolling(24*60,min_periods=24*60,center=True).std()\n",
    "df_all_3Mstd = df_all_int.rolling(24*90,min_periods=24*90,center=True).std()"
   ]
  },
  {
   "cell_type": "code",
   "execution_count": 28,
   "metadata": {},
   "outputs": [],
   "source": [
    "df_all_3Mstd_mon = df_all_3Mstd.resample('1M').last()\n",
    "df_all_2Mstd_mon = df_all_2Mstd.resample('1M').last()\n",
    "df_all_1Mstd_mon = df_all_1Mstd.resample('1M').last()"
   ]
  },
  {
   "cell_type": "code",
   "execution_count": 29,
   "metadata": {},
   "outputs": [
    {
     "data": {
      "application/vnd.jupyter.widget-view+json": {
       "model_id": "ec7f24b18dc047b98b31077607135ea1",
       "version_major": 2,
       "version_minor": 0
      },
      "text/plain": [
       "FigureCanvasNbAgg()"
      ]
     },
     "metadata": {},
     "output_type": "display_data"
    }
   ],
   "source": [
    "plt.figure(figsize=(6.5,6.5))\n",
    "plt.subplot(311)\n",
    "plt.plot(df_all_2M_mon.index.month,df_all_2M_mon['u_f'],'ko')\n",
    "plt.plot(df_all_2M_mon.index.month,df_all_2M_mon['v_f'],'^',color='gray')\n",
    "plt.ylim([-0.011,0.011])\n",
    "plt.ylabel('[m/s]')\n",
    "xl = plt.xlim()\n",
    "yl = plt.ylim()\n",
    "plt.text(xl[0]+0.005*np.diff(xl),yl[1]-0.1*np.diff(yl),'a)')\n",
    "plt.gca().set_xticks(np.arange(1,13))\n",
    "plt.gca().set_xticklabels([])\n",
    "plt.legend(['$u$','$v$'],loc=(0.6,0.7))\n",
    "plt.title('60-day mean $u$, $v$ velocity components')\n",
    "\n",
    "plt.subplot(312)\n",
    "plt.plot(df_all_2Mstd_mon.index.month,df_all_2Mstd_mon['u_f'],'ko')\n",
    "plt.ylim([0,0.022])\n",
    "plt.ylabel('[m/s]')\n",
    "xl = plt.xlim()\n",
    "yl = plt.ylim()\n",
    "plt.text(xl[0]+0.005*np.diff(xl),yl[1]-0.1*np.diff(yl),'b)')\n",
    "plt.gca().set_xticks(np.arange(1,13))\n",
    "plt.gca().set_xticklabels([])\n",
    "plt.title('60-day standard deviation - $u_{low}$')\n",
    "\n",
    "plt.subplot(313)\n",
    "plt.plot(df_all_2Mstd_mon.index.month,df_all_2Mstd_mon['u_super'],'ko')\n",
    "plt.ylim([0,0.022])\n",
    "plt.ylabel('[m/s]')\n",
    "xl = plt.xlim()\n",
    "yl = plt.ylim()\n",
    "plt.text(xl[0]+0.005*np.diff(xl),yl[1]-0.1*np.diff(yl),'c)')\n",
    "plt.gca().set_xticks(np.arange(1,13))\n",
    "plt.gca().set_xticklabels(['Jan','Feb','Mar','Apr','May','Jun','Jul','Aug','Sep','Oct','Nov','Dec'])\n",
    "plt.title('60-day standard deviation - $u_{high}$')\n",
    "plt.tight_layout()\n",
    "\n",
    "plt.savefig('figures_paper/monthly_stats.png',dpi=600)\n",
    "plt.savefig('figures_paper/monthly_stats.pdf')"
   ]
  },
  {
   "cell_type": "code",
   "execution_count": 30,
   "metadata": {},
   "outputs": [],
   "source": [
    "fi = np.isfinite(df_all_2Mstd_mon['u_f'])"
   ]
  },
  {
   "cell_type": "code",
   "execution_count": 31,
   "metadata": {},
   "outputs": [],
   "source": [
    "MultiComp = MultiComparison(df_all_2Mstd_mon['u_f'][fi],\n",
    "                            df_all_2Mstd_mon.index.month[fi])"
   ]
  },
  {
   "cell_type": "code",
   "execution_count": 32,
   "metadata": {},
   "outputs": [
    {
     "data": {
      "text/html": [
       "<div>\n",
       "<style scoped>\n",
       "    .dataframe tbody tr th:only-of-type {\n",
       "        vertical-align: middle;\n",
       "    }\n",
       "\n",
       "    .dataframe tbody tr th {\n",
       "        vertical-align: top;\n",
       "    }\n",
       "\n",
       "    .dataframe thead th {\n",
       "        text-align: right;\n",
       "    }\n",
       "</style>\n",
       "<table border=\"1\" class=\"dataframe\">\n",
       "  <thead>\n",
       "    <tr style=\"text-align: right;\">\n",
       "      <th></th>\n",
       "      <th>Unnamed: 0</th>\n",
       "      <th>Current_mag</th>\n",
       "      <th>Easting (cm/sec)</th>\n",
       "      <th>Northing (cm/sec)</th>\n",
       "      <th>Minutes</th>\n",
       "      <th>Seconds</th>\n",
       "      <th>u</th>\n",
       "      <th>v</th>\n",
       "      <th>u_tide</th>\n",
       "      <th>v_tide</th>\n",
       "      <th>u_detide</th>\n",
       "      <th>v_detide</th>\n",
       "      <th>u_f</th>\n",
       "      <th>v_f</th>\n",
       "      <th>u_super</th>\n",
       "      <th>v_super</th>\n",
       "    </tr>\n",
       "    <tr>\n",
       "      <th>Date_time_R</th>\n",
       "      <th></th>\n",
       "      <th></th>\n",
       "      <th></th>\n",
       "      <th></th>\n",
       "      <th></th>\n",
       "      <th></th>\n",
       "      <th></th>\n",
       "      <th></th>\n",
       "      <th></th>\n",
       "      <th></th>\n",
       "      <th></th>\n",
       "      <th></th>\n",
       "      <th></th>\n",
       "      <th></th>\n",
       "      <th></th>\n",
       "      <th></th>\n",
       "    </tr>\n",
       "  </thead>\n",
       "  <tbody>\n",
       "    <tr>\n",
       "      <th>2014-10-31</th>\n",
       "      <td>NaN</td>\n",
       "      <td>NaN</td>\n",
       "      <td>NaN</td>\n",
       "      <td>NaN</td>\n",
       "      <td>NaN</td>\n",
       "      <td>NaN</td>\n",
       "      <td>NaN</td>\n",
       "      <td>NaN</td>\n",
       "      <td>NaN</td>\n",
       "      <td>NaN</td>\n",
       "      <td>NaN</td>\n",
       "      <td>NaN</td>\n",
       "      <td>NaN</td>\n",
       "      <td>NaN</td>\n",
       "      <td>NaN</td>\n",
       "      <td>NaN</td>\n",
       "    </tr>\n",
       "    <tr>\n",
       "      <th>2014-11-30</th>\n",
       "      <td>415.871014</td>\n",
       "      <td>0.934629</td>\n",
       "      <td>0.730026</td>\n",
       "      <td>1.621102</td>\n",
       "      <td>7.479623</td>\n",
       "      <td>11.140831</td>\n",
       "      <td>0.007375</td>\n",
       "      <td>0.016459</td>\n",
       "      <td>0.007751</td>\n",
       "      <td>0.011642</td>\n",
       "      <td>0.007599</td>\n",
       "      <td>0.009803</td>\n",
       "      <td>0.002597</td>\n",
       "      <td>0.003466</td>\n",
       "      <td>0.007070</td>\n",
       "      <td>0.009094</td>\n",
       "    </tr>\n",
       "    <tr>\n",
       "      <th>2014-12-31</th>\n",
       "      <td>415.837064</td>\n",
       "      <td>0.964297</td>\n",
       "      <td>0.757248</td>\n",
       "      <td>1.676798</td>\n",
       "      <td>7.592627</td>\n",
       "      <td>10.946328</td>\n",
       "      <td>0.007603</td>\n",
       "      <td>0.017002</td>\n",
       "      <td>0.007281</td>\n",
       "      <td>0.012023</td>\n",
       "      <td>0.007396</td>\n",
       "      <td>0.010335</td>\n",
       "      <td>0.002291</td>\n",
       "      <td>0.003088</td>\n",
       "      <td>0.006970</td>\n",
       "      <td>0.009778</td>\n",
       "    </tr>\n",
       "    <tr>\n",
       "      <th>2015-01-31</th>\n",
       "      <td>415.837176</td>\n",
       "      <td>1.034222</td>\n",
       "      <td>0.796061</td>\n",
       "      <td>1.806495</td>\n",
       "      <td>7.672934</td>\n",
       "      <td>10.932526</td>\n",
       "      <td>0.008013</td>\n",
       "      <td>0.018322</td>\n",
       "      <td>0.006970</td>\n",
       "      <td>0.011980</td>\n",
       "      <td>0.007503</td>\n",
       "      <td>0.011474</td>\n",
       "      <td>0.002681</td>\n",
       "      <td>0.002793</td>\n",
       "      <td>0.006952</td>\n",
       "      <td>0.011011</td>\n",
       "    </tr>\n",
       "    <tr>\n",
       "      <th>2015-02-28</th>\n",
       "      <td>415.420054</td>\n",
       "      <td>0.988327</td>\n",
       "      <td>0.854650</td>\n",
       "      <td>1.585933</td>\n",
       "      <td>7.502846</td>\n",
       "      <td>11.163207</td>\n",
       "      <td>0.008630</td>\n",
       "      <td>0.016109</td>\n",
       "      <td>0.007008</td>\n",
       "      <td>0.011828</td>\n",
       "      <td>0.008337</td>\n",
       "      <td>0.011297</td>\n",
       "      <td>0.004456</td>\n",
       "      <td>0.005057</td>\n",
       "      <td>0.006982</td>\n",
       "      <td>0.009975</td>\n",
       "    </tr>\n",
       "    <tr>\n",
       "      <th>2015-03-31</th>\n",
       "      <td>415.679270</td>\n",
       "      <td>0.987474</td>\n",
       "      <td>0.930683</td>\n",
       "      <td>1.500098</td>\n",
       "      <td>7.685077</td>\n",
       "      <td>10.961499</td>\n",
       "      <td>0.009401</td>\n",
       "      <td>0.015264</td>\n",
       "      <td>0.007420</td>\n",
       "      <td>0.011909</td>\n",
       "      <td>0.009473</td>\n",
       "      <td>0.010983</td>\n",
       "      <td>0.005863</td>\n",
       "      <td>0.006254</td>\n",
       "      <td>0.007398</td>\n",
       "      <td>0.008892</td>\n",
       "    </tr>\n",
       "    <tr>\n",
       "      <th>2015-04-30</th>\n",
       "      <td>415.831987</td>\n",
       "      <td>0.959486</td>\n",
       "      <td>0.928179</td>\n",
       "      <td>1.687715</td>\n",
       "      <td>7.840095</td>\n",
       "      <td>10.860610</td>\n",
       "      <td>0.009385</td>\n",
       "      <td>0.017137</td>\n",
       "      <td>0.007693</td>\n",
       "      <td>0.012184</td>\n",
       "      <td>0.008907</td>\n",
       "      <td>0.011564</td>\n",
       "      <td>0.005524</td>\n",
       "      <td>0.007032</td>\n",
       "      <td>0.006920</td>\n",
       "      <td>0.009076</td>\n",
       "    </tr>\n",
       "    <tr>\n",
       "      <th>2015-05-31</th>\n",
       "      <td>415.782746</td>\n",
       "      <td>2.561590</td>\n",
       "      <td>1.928168</td>\n",
       "      <td>2.236844</td>\n",
       "      <td>7.966458</td>\n",
       "      <td>10.519992</td>\n",
       "      <td>0.009039</td>\n",
       "      <td>0.016774</td>\n",
       "      <td>0.007642</td>\n",
       "      <td>0.012418</td>\n",
       "      <td>0.007822</td>\n",
       "      <td>0.010695</td>\n",
       "      <td>0.004147</td>\n",
       "      <td>0.005817</td>\n",
       "      <td>0.006542</td>\n",
       "      <td>0.009098</td>\n",
       "    </tr>\n",
       "    <tr>\n",
       "      <th>2015-06-30</th>\n",
       "      <td>NaN</td>\n",
       "      <td>NaN</td>\n",
       "      <td>NaN</td>\n",
       "      <td>NaN</td>\n",
       "      <td>NaN</td>\n",
       "      <td>NaN</td>\n",
       "      <td>NaN</td>\n",
       "      <td>NaN</td>\n",
       "      <td>0.007427</td>\n",
       "      <td>0.012350</td>\n",
       "      <td>NaN</td>\n",
       "      <td>NaN</td>\n",
       "      <td>NaN</td>\n",
       "      <td>NaN</td>\n",
       "      <td>NaN</td>\n",
       "      <td>NaN</td>\n",
       "    </tr>\n",
       "    <tr>\n",
       "      <th>2015-07-31</th>\n",
       "      <td>NaN</td>\n",
       "      <td>NaN</td>\n",
       "      <td>NaN</td>\n",
       "      <td>NaN</td>\n",
       "      <td>NaN</td>\n",
       "      <td>NaN</td>\n",
       "      <td>NaN</td>\n",
       "      <td>NaN</td>\n",
       "      <td>0.007095</td>\n",
       "      <td>0.011897</td>\n",
       "      <td>NaN</td>\n",
       "      <td>NaN</td>\n",
       "      <td>NaN</td>\n",
       "      <td>NaN</td>\n",
       "      <td>NaN</td>\n",
       "      <td>NaN</td>\n",
       "    </tr>\n",
       "    <tr>\n",
       "      <th>2015-08-31</th>\n",
       "      <td>NaN</td>\n",
       "      <td>NaN</td>\n",
       "      <td>NaN</td>\n",
       "      <td>NaN</td>\n",
       "      <td>NaN</td>\n",
       "      <td>NaN</td>\n",
       "      <td>NaN</td>\n",
       "      <td>NaN</td>\n",
       "      <td>0.007160</td>\n",
       "      <td>0.011286</td>\n",
       "      <td>NaN</td>\n",
       "      <td>NaN</td>\n",
       "      <td>NaN</td>\n",
       "      <td>NaN</td>\n",
       "      <td>NaN</td>\n",
       "      <td>NaN</td>\n",
       "    </tr>\n",
       "    <tr>\n",
       "      <th>2015-09-30</th>\n",
       "      <td>NaN</td>\n",
       "      <td>NaN</td>\n",
       "      <td>NaN</td>\n",
       "      <td>NaN</td>\n",
       "      <td>NaN</td>\n",
       "      <td>NaN</td>\n",
       "      <td>NaN</td>\n",
       "      <td>NaN</td>\n",
       "      <td>0.007978</td>\n",
       "      <td>0.011142</td>\n",
       "      <td>NaN</td>\n",
       "      <td>NaN</td>\n",
       "      <td>NaN</td>\n",
       "      <td>NaN</td>\n",
       "      <td>NaN</td>\n",
       "      <td>NaN</td>\n",
       "    </tr>\n",
       "    <tr>\n",
       "      <th>2015-10-31</th>\n",
       "      <td>NaN</td>\n",
       "      <td>NaN</td>\n",
       "      <td>NaN</td>\n",
       "      <td>NaN</td>\n",
       "      <td>NaN</td>\n",
       "      <td>NaN</td>\n",
       "      <td>NaN</td>\n",
       "      <td>NaN</td>\n",
       "      <td>0.008578</td>\n",
       "      <td>0.011370</td>\n",
       "      <td>NaN</td>\n",
       "      <td>NaN</td>\n",
       "      <td>NaN</td>\n",
       "      <td>NaN</td>\n",
       "      <td>NaN</td>\n",
       "      <td>NaN</td>\n",
       "    </tr>\n",
       "    <tr>\n",
       "      <th>2015-11-30</th>\n",
       "      <td>NaN</td>\n",
       "      <td>NaN</td>\n",
       "      <td>NaN</td>\n",
       "      <td>NaN</td>\n",
       "      <td>NaN</td>\n",
       "      <td>NaN</td>\n",
       "      <td>NaN</td>\n",
       "      <td>NaN</td>\n",
       "      <td>0.008245</td>\n",
       "      <td>0.011607</td>\n",
       "      <td>NaN</td>\n",
       "      <td>NaN</td>\n",
       "      <td>NaN</td>\n",
       "      <td>NaN</td>\n",
       "      <td>NaN</td>\n",
       "      <td>NaN</td>\n",
       "    </tr>\n",
       "    <tr>\n",
       "      <th>2015-12-31</th>\n",
       "      <td>415.837555</td>\n",
       "      <td>1.115248</td>\n",
       "      <td>1.463032</td>\n",
       "      <td>1.672647</td>\n",
       "      <td>7.277684</td>\n",
       "      <td>9.662010</td>\n",
       "      <td>0.014707</td>\n",
       "      <td>0.016952</td>\n",
       "      <td>0.007261</td>\n",
       "      <td>0.011606</td>\n",
       "      <td>0.012566</td>\n",
       "      <td>0.011712</td>\n",
       "      <td>0.007451</td>\n",
       "      <td>0.007719</td>\n",
       "      <td>0.010041</td>\n",
       "      <td>0.008743</td>\n",
       "    </tr>\n",
       "    <tr>\n",
       "      <th>2016-01-31</th>\n",
       "      <td>415.861878</td>\n",
       "      <td>0.983446</td>\n",
       "      <td>1.350863</td>\n",
       "      <td>1.556280</td>\n",
       "      <td>7.386024</td>\n",
       "      <td>9.836541</td>\n",
       "      <td>0.013572</td>\n",
       "      <td>0.015812</td>\n",
       "      <td>0.006509</td>\n",
       "      <td>0.011549</td>\n",
       "      <td>0.011929</td>\n",
       "      <td>0.010481</td>\n",
       "      <td>0.006551</td>\n",
       "      <td>0.006384</td>\n",
       "      <td>0.009856</td>\n",
       "      <td>0.008247</td>\n",
       "    </tr>\n",
       "    <tr>\n",
       "      <th>2016-02-29</th>\n",
       "      <td>415.483709</td>\n",
       "      <td>0.949427</td>\n",
       "      <td>1.449738</td>\n",
       "      <td>1.388028</td>\n",
       "      <td>7.208304</td>\n",
       "      <td>9.865208</td>\n",
       "      <td>0.014571</td>\n",
       "      <td>0.014114</td>\n",
       "      <td>0.006493</td>\n",
       "      <td>0.011618</td>\n",
       "      <td>0.012566</td>\n",
       "      <td>0.009874</td>\n",
       "      <td>0.007892</td>\n",
       "      <td>0.004547</td>\n",
       "      <td>0.009701</td>\n",
       "      <td>0.008697</td>\n",
       "    </tr>\n",
       "    <tr>\n",
       "      <th>2016-03-31</th>\n",
       "      <td>415.560489</td>\n",
       "      <td>1.081151</td>\n",
       "      <td>1.700441</td>\n",
       "      <td>1.492825</td>\n",
       "      <td>7.395998</td>\n",
       "      <td>10.017599</td>\n",
       "      <td>0.017102</td>\n",
       "      <td>0.015145</td>\n",
       "      <td>0.007250</td>\n",
       "      <td>0.012011</td>\n",
       "      <td>0.014284</td>\n",
       "      <td>0.011311</td>\n",
       "      <td>0.010426</td>\n",
       "      <td>0.007386</td>\n",
       "      <td>0.009686</td>\n",
       "      <td>0.008518</td>\n",
       "    </tr>\n",
       "    <tr>\n",
       "      <th>2016-04-30</th>\n",
       "      <td>415.830517</td>\n",
       "      <td>1.274481</td>\n",
       "      <td>1.834806</td>\n",
       "      <td>1.715404</td>\n",
       "      <td>7.402063</td>\n",
       "      <td>10.125048</td>\n",
       "      <td>0.018443</td>\n",
       "      <td>0.017374</td>\n",
       "      <td>0.008086</td>\n",
       "      <td>0.012671</td>\n",
       "      <td>0.015412</td>\n",
       "      <td>0.012763</td>\n",
       "      <td>0.011459</td>\n",
       "      <td>0.009901</td>\n",
       "      <td>0.010214</td>\n",
       "      <td>0.007969</td>\n",
       "    </tr>\n",
       "    <tr>\n",
       "      <th>2016-05-31</th>\n",
       "      <td>415.834929</td>\n",
       "      <td>1.362449</td>\n",
       "      <td>2.042389</td>\n",
       "      <td>1.736791</td>\n",
       "      <td>7.298349</td>\n",
       "      <td>9.931433</td>\n",
       "      <td>0.020508</td>\n",
       "      <td>0.017595</td>\n",
       "      <td>0.008248</td>\n",
       "      <td>0.013056</td>\n",
       "      <td>0.018709</td>\n",
       "      <td>0.013490</td>\n",
       "      <td>0.015339</td>\n",
       "      <td>0.010055</td>\n",
       "      <td>0.010652</td>\n",
       "      <td>0.008858</td>\n",
       "    </tr>\n",
       "    <tr>\n",
       "      <th>2016-06-30</th>\n",
       "      <td>415.841775</td>\n",
       "      <td>1.496116</td>\n",
       "      <td>2.305388</td>\n",
       "      <td>1.941087</td>\n",
       "      <td>7.384659</td>\n",
       "      <td>9.709454</td>\n",
       "      <td>0.023118</td>\n",
       "      <td>0.019588</td>\n",
       "      <td>0.007694</td>\n",
       "      <td>0.012596</td>\n",
       "      <td>0.022149</td>\n",
       "      <td>0.017229</td>\n",
       "      <td>0.019824</td>\n",
       "      <td>0.014336</td>\n",
       "      <td>0.009763</td>\n",
       "      <td>0.009418</td>\n",
       "    </tr>\n",
       "    <tr>\n",
       "      <th>2016-07-31</th>\n",
       "      <td>415.834130</td>\n",
       "      <td>1.398837</td>\n",
       "      <td>2.006485</td>\n",
       "      <td>1.782818</td>\n",
       "      <td>7.304035</td>\n",
       "      <td>9.577067</td>\n",
       "      <td>0.020123</td>\n",
       "      <td>0.017998</td>\n",
       "      <td>0.006987</td>\n",
       "      <td>0.011483</td>\n",
       "      <td>0.019249</td>\n",
       "      <td>0.015894</td>\n",
       "      <td>0.016718</td>\n",
       "      <td>0.013170</td>\n",
       "      <td>0.009492</td>\n",
       "      <td>0.008756</td>\n",
       "    </tr>\n",
       "    <tr>\n",
       "      <th>2016-08-31</th>\n",
       "      <td>415.836708</td>\n",
       "      <td>1.075659</td>\n",
       "      <td>1.752266</td>\n",
       "      <td>1.320207</td>\n",
       "      <td>7.245588</td>\n",
       "      <td>9.599439</td>\n",
       "      <td>0.017584</td>\n",
       "      <td>0.013380</td>\n",
       "      <td>0.006675</td>\n",
       "      <td>0.010588</td>\n",
       "      <td>0.016907</td>\n",
       "      <td>0.010763</td>\n",
       "      <td>0.013969</td>\n",
       "      <td>0.006359</td>\n",
       "      <td>0.009419</td>\n",
       "      <td>0.008643</td>\n",
       "    </tr>\n",
       "    <tr>\n",
       "      <th>2016-09-30</th>\n",
       "      <td>415.857689</td>\n",
       "      <td>1.106318</td>\n",
       "      <td>1.686997</td>\n",
       "      <td>1.418634</td>\n",
       "      <td>7.003700</td>\n",
       "      <td>9.423425</td>\n",
       "      <td>0.016955</td>\n",
       "      <td>0.014362</td>\n",
       "      <td>0.007234</td>\n",
       "      <td>0.010657</td>\n",
       "      <td>0.015905</td>\n",
       "      <td>0.011311</td>\n",
       "      <td>0.012864</td>\n",
       "      <td>0.007545</td>\n",
       "      <td>0.009268</td>\n",
       "      <td>0.008350</td>\n",
       "    </tr>\n",
       "    <tr>\n",
       "      <th>2016-10-31</th>\n",
       "      <td>416.233803</td>\n",
       "      <td>1.005550</td>\n",
       "      <td>1.359792</td>\n",
       "      <td>1.350795</td>\n",
       "      <td>7.111489</td>\n",
       "      <td>9.828093</td>\n",
       "      <td>0.014066</td>\n",
       "      <td>0.014247</td>\n",
       "      <td>0.008195</td>\n",
       "      <td>0.011392</td>\n",
       "      <td>0.011848</td>\n",
       "      <td>0.010595</td>\n",
       "      <td>0.007520</td>\n",
       "      <td>0.007180</td>\n",
       "      <td>0.009088</td>\n",
       "      <td>0.007735</td>\n",
       "    </tr>\n",
       "    <tr>\n",
       "      <th>2016-11-30</th>\n",
       "      <td>415.984342</td>\n",
       "      <td>1.040348</td>\n",
       "      <td>1.486856</td>\n",
       "      <td>1.460017</td>\n",
       "      <td>7.176904</td>\n",
       "      <td>10.356008</td>\n",
       "      <td>0.015247</td>\n",
       "      <td>0.015378</td>\n",
       "      <td>0.008541</td>\n",
       "      <td>0.011969</td>\n",
       "      <td>0.012005</td>\n",
       "      <td>0.011532</td>\n",
       "      <td>0.007131</td>\n",
       "      <td>0.007848</td>\n",
       "      <td>0.009587</td>\n",
       "      <td>0.008361</td>\n",
       "    </tr>\n",
       "    <tr>\n",
       "      <th>2016-12-31</th>\n",
       "      <td>415.833562</td>\n",
       "      <td>1.115158</td>\n",
       "      <td>1.847310</td>\n",
       "      <td>1.514892</td>\n",
       "      <td>6.941946</td>\n",
       "      <td>10.344558</td>\n",
       "      <td>0.018565</td>\n",
       "      <td>0.015393</td>\n",
       "      <td>0.007920</td>\n",
       "      <td>0.012072</td>\n",
       "      <td>0.015926</td>\n",
       "      <td>0.011314</td>\n",
       "      <td>0.011480</td>\n",
       "      <td>0.007176</td>\n",
       "      <td>0.010948</td>\n",
       "      <td>0.008611</td>\n",
       "    </tr>\n",
       "    <tr>\n",
       "      <th>2017-01-31</th>\n",
       "      <td>415.827603</td>\n",
       "      <td>1.157200</td>\n",
       "      <td>1.606386</td>\n",
       "      <td>1.524976</td>\n",
       "      <td>7.006052</td>\n",
       "      <td>10.328008</td>\n",
       "      <td>0.016129</td>\n",
       "      <td>0.015477</td>\n",
       "      <td>0.006846</td>\n",
       "      <td>0.011739</td>\n",
       "      <td>0.014505</td>\n",
       "      <td>0.012394</td>\n",
       "      <td>0.007509</td>\n",
       "      <td>0.006865</td>\n",
       "      <td>0.012251</td>\n",
       "      <td>0.010199</td>\n",
       "    </tr>\n",
       "    <tr>\n",
       "      <th>2017-02-28</th>\n",
       "      <td>415.459488</td>\n",
       "      <td>1.148040</td>\n",
       "      <td>1.600211</td>\n",
       "      <td>1.537661</td>\n",
       "      <td>7.103400</td>\n",
       "      <td>10.193238</td>\n",
       "      <td>0.016080</td>\n",
       "      <td>0.015620</td>\n",
       "      <td>0.006367</td>\n",
       "      <td>0.011447</td>\n",
       "      <td>0.014798</td>\n",
       "      <td>0.012711</td>\n",
       "      <td>0.006333</td>\n",
       "      <td>0.005098</td>\n",
       "      <td>0.013209</td>\n",
       "      <td>0.011554</td>\n",
       "    </tr>\n",
       "    <tr>\n",
       "      <th>2017-03-31</th>\n",
       "      <td>415.596296</td>\n",
       "      <td>1.251214</td>\n",
       "      <td>1.755584</td>\n",
       "      <td>1.683572</td>\n",
       "      <td>7.109682</td>\n",
       "      <td>10.357030</td>\n",
       "      <td>0.017649</td>\n",
       "      <td>0.017059</td>\n",
       "      <td>0.006896</td>\n",
       "      <td>0.011718</td>\n",
       "      <td>0.015907</td>\n",
       "      <td>0.012894</td>\n",
       "      <td>0.007143</td>\n",
       "      <td>0.003685</td>\n",
       "      <td>0.014056</td>\n",
       "      <td>0.012205</td>\n",
       "    </tr>\n",
       "    <tr>\n",
       "      <th>2017-04-30</th>\n",
       "      <td>415.842167</td>\n",
       "      <td>1.314971</td>\n",
       "      <td>1.791825</td>\n",
       "      <td>1.825634</td>\n",
       "      <td>7.111723</td>\n",
       "      <td>10.516622</td>\n",
       "      <td>0.018018</td>\n",
       "      <td>0.018487</td>\n",
       "      <td>0.007916</td>\n",
       "      <td>0.012544</td>\n",
       "      <td>0.015058</td>\n",
       "      <td>0.012659</td>\n",
       "      <td>0.006000</td>\n",
       "      <td>0.004807</td>\n",
       "      <td>0.013683</td>\n",
       "      <td>0.011499</td>\n",
       "    </tr>\n",
       "    <tr>\n",
       "      <th>2017-05-31</th>\n",
       "      <td>415.829777</td>\n",
       "      <td>1.345904</td>\n",
       "      <td>1.857479</td>\n",
       "      <td>1.911891</td>\n",
       "      <td>7.191903</td>\n",
       "      <td>10.720808</td>\n",
       "      <td>0.018687</td>\n",
       "      <td>0.019387</td>\n",
       "      <td>0.008477</td>\n",
       "      <td>0.013200</td>\n",
       "      <td>0.015263</td>\n",
       "      <td>0.013055</td>\n",
       "      <td>0.009210</td>\n",
       "      <td>0.008145</td>\n",
       "      <td>0.011997</td>\n",
       "      <td>0.010000</td>\n",
       "    </tr>\n",
       "    <tr>\n",
       "      <th>2017-06-30</th>\n",
       "      <td>415.849983</td>\n",
       "      <td>1.389055</td>\n",
       "      <td>1.934053</td>\n",
       "      <td>1.839815</td>\n",
       "      <td>7.246333</td>\n",
       "      <td>11.007001</td>\n",
       "      <td>0.019442</td>\n",
       "      <td>0.018675</td>\n",
       "      <td>0.008193</td>\n",
       "      <td>0.012928</td>\n",
       "      <td>0.016870</td>\n",
       "      <td>0.013058</td>\n",
       "      <td>0.012956</td>\n",
       "      <td>0.008435</td>\n",
       "      <td>0.010595</td>\n",
       "      <td>0.009798</td>\n",
       "    </tr>\n",
       "    <tr>\n",
       "      <th>2017-07-31</th>\n",
       "      <td>415.824303</td>\n",
       "      <td>1.460894</td>\n",
       "      <td>2.194466</td>\n",
       "      <td>1.776689</td>\n",
       "      <td>7.072432</td>\n",
       "      <td>10.664602</td>\n",
       "      <td>0.022004</td>\n",
       "      <td>0.017973</td>\n",
       "      <td>0.007397</td>\n",
       "      <td>0.011595</td>\n",
       "      <td>0.020144</td>\n",
       "      <td>0.014278</td>\n",
       "      <td>0.016963</td>\n",
       "      <td>0.011051</td>\n",
       "      <td>0.010767</td>\n",
       "      <td>0.008937</td>\n",
       "    </tr>\n",
       "    <tr>\n",
       "      <th>2017-08-31</th>\n",
       "      <td>415.835111</td>\n",
       "      <td>1.470843</td>\n",
       "      <td>2.251473</td>\n",
       "      <td>1.831376</td>\n",
       "      <td>7.082885</td>\n",
       "      <td>10.311946</td>\n",
       "      <td>0.022579</td>\n",
       "      <td>0.018470</td>\n",
       "      <td>0.006896</td>\n",
       "      <td>0.010175</td>\n",
       "      <td>0.020611</td>\n",
       "      <td>0.015007</td>\n",
       "      <td>0.016894</td>\n",
       "      <td>0.012499</td>\n",
       "      <td>0.011706</td>\n",
       "      <td>0.008189</td>\n",
       "    </tr>\n",
       "    <tr>\n",
       "      <th>2017-09-30</th>\n",
       "      <td>415.833155</td>\n",
       "      <td>1.355512</td>\n",
       "      <td>2.059878</td>\n",
       "      <td>1.578710</td>\n",
       "      <td>7.105954</td>\n",
       "      <td>10.265413</td>\n",
       "      <td>0.020695</td>\n",
       "      <td>0.015982</td>\n",
       "      <td>0.006952</td>\n",
       "      <td>0.009784</td>\n",
       "      <td>0.018110</td>\n",
       "      <td>0.011949</td>\n",
       "      <td>0.014301</td>\n",
       "      <td>0.009038</td>\n",
       "      <td>0.011032</td>\n",
       "      <td>0.007748</td>\n",
       "    </tr>\n",
       "    <tr>\n",
       "      <th>2017-10-31</th>\n",
       "      <td>416.274560</td>\n",
       "      <td>1.205538</td>\n",
       "      <td>1.984990</td>\n",
       "      <td>1.375202</td>\n",
       "      <td>7.568627</td>\n",
       "      <td>10.704991</td>\n",
       "      <td>0.020071</td>\n",
       "      <td>0.014106</td>\n",
       "      <td>0.007511</td>\n",
       "      <td>0.010727</td>\n",
       "      <td>0.017790</td>\n",
       "      <td>0.011391</td>\n",
       "      <td>0.014895</td>\n",
       "      <td>0.006980</td>\n",
       "      <td>0.009599</td>\n",
       "      <td>0.008936</td>\n",
       "    </tr>\n",
       "    <tr>\n",
       "      <th>2017-11-30</th>\n",
       "      <td>415.927295</td>\n",
       "      <td>1.373430</td>\n",
       "      <td>2.091518</td>\n",
       "      <td>1.541779</td>\n",
       "      <td>8.061758</td>\n",
       "      <td>10.621484</td>\n",
       "      <td>0.021123</td>\n",
       "      <td>0.015752</td>\n",
       "      <td>0.008210</td>\n",
       "      <td>0.012016</td>\n",
       "      <td>0.019308</td>\n",
       "      <td>0.012397</td>\n",
       "      <td>0.016216</td>\n",
       "      <td>0.007242</td>\n",
       "      <td>0.010389</td>\n",
       "      <td>0.009970</td>\n",
       "    </tr>\n",
       "    <tr>\n",
       "      <th>2017-12-31</th>\n",
       "      <td>415.847757</td>\n",
       "      <td>1.357674</td>\n",
       "      <td>1.881960</td>\n",
       "      <td>1.667479</td>\n",
       "      <td>7.749887</td>\n",
       "      <td>10.000174</td>\n",
       "      <td>0.018903</td>\n",
       "      <td>0.016921</td>\n",
       "      <td>0.008346</td>\n",
       "      <td>0.012667</td>\n",
       "      <td>0.016262</td>\n",
       "      <td>0.011747</td>\n",
       "      <td>0.010932</td>\n",
       "      <td>0.006544</td>\n",
       "      <td>0.011912</td>\n",
       "      <td>0.009677</td>\n",
       "    </tr>\n",
       "    <tr>\n",
       "      <th>2018-01-31</th>\n",
       "      <td>415.834911</td>\n",
       "      <td>1.093077</td>\n",
       "      <td>1.572138</td>\n",
       "      <td>1.548377</td>\n",
       "      <td>7.429138</td>\n",
       "      <td>9.619673</td>\n",
       "      <td>0.015825</td>\n",
       "      <td>0.015752</td>\n",
       "      <td>0.007631</td>\n",
       "      <td>0.012260</td>\n",
       "      <td>0.012694</td>\n",
       "      <td>0.010353</td>\n",
       "      <td>0.005505</td>\n",
       "      <td>0.004237</td>\n",
       "      <td>0.011351</td>\n",
       "      <td>0.009334</td>\n",
       "    </tr>\n",
       "    <tr>\n",
       "      <th>2018-02-28</th>\n",
       "      <td>415.473161</td>\n",
       "      <td>1.030504</td>\n",
       "      <td>1.484384</td>\n",
       "      <td>1.521375</td>\n",
       "      <td>7.453443</td>\n",
       "      <td>9.584759</td>\n",
       "      <td>0.014942</td>\n",
       "      <td>0.015466</td>\n",
       "      <td>0.007044</td>\n",
       "      <td>0.011550</td>\n",
       "      <td>0.012466</td>\n",
       "      <td>0.010718</td>\n",
       "      <td>0.005381</td>\n",
       "      <td>0.004112</td>\n",
       "      <td>0.011162</td>\n",
       "      <td>0.009820</td>\n",
       "    </tr>\n",
       "    <tr>\n",
       "      <th>2018-03-31</th>\n",
       "      <td>415.592181</td>\n",
       "      <td>1.099648</td>\n",
       "      <td>1.477952</td>\n",
       "      <td>1.623503</td>\n",
       "      <td>7.423317</td>\n",
       "      <td>9.910719</td>\n",
       "      <td>0.014871</td>\n",
       "      <td>0.016491</td>\n",
       "      <td>0.006815</td>\n",
       "      <td>0.011250</td>\n",
       "      <td>0.012683</td>\n",
       "      <td>0.010570</td>\n",
       "      <td>0.005251</td>\n",
       "      <td>0.004044</td>\n",
       "      <td>0.011473</td>\n",
       "      <td>0.009680</td>\n",
       "    </tr>\n",
       "    <tr>\n",
       "      <th>2018-04-30</th>\n",
       "      <td>415.836832</td>\n",
       "      <td>1.134971</td>\n",
       "      <td>1.474793</td>\n",
       "      <td>1.687422</td>\n",
       "      <td>7.383557</td>\n",
       "      <td>9.570378</td>\n",
       "      <td>0.014834</td>\n",
       "      <td>0.017126</td>\n",
       "      <td>0.007240</td>\n",
       "      <td>0.011808</td>\n",
       "      <td>0.012752</td>\n",
       "      <td>0.010811</td>\n",
       "      <td>0.005566</td>\n",
       "      <td>0.004060</td>\n",
       "      <td>0.011410</td>\n",
       "      <td>0.009926</td>\n",
       "    </tr>\n",
       "    <tr>\n",
       "      <th>2018-05-31</th>\n",
       "      <td>415.828377</td>\n",
       "      <td>1.060491</td>\n",
       "      <td>1.369319</td>\n",
       "      <td>1.587813</td>\n",
       "      <td>7.482639</td>\n",
       "      <td>9.554912</td>\n",
       "      <td>0.013804</td>\n",
       "      <td>0.016184</td>\n",
       "      <td>0.008068</td>\n",
       "      <td>0.012735</td>\n",
       "      <td>0.011284</td>\n",
       "      <td>0.009822</td>\n",
       "      <td>0.004699</td>\n",
       "      <td>0.003510</td>\n",
       "      <td>0.010192</td>\n",
       "      <td>0.009105</td>\n",
       "    </tr>\n",
       "    <tr>\n",
       "      <th>2018-06-30</th>\n",
       "      <td>415.826672</td>\n",
       "      <td>1.076813</td>\n",
       "      <td>1.404995</td>\n",
       "      <td>1.522194</td>\n",
       "      <td>7.447180</td>\n",
       "      <td>9.717805</td>\n",
       "      <td>0.014166</td>\n",
       "      <td>0.015531</td>\n",
       "      <td>0.008416</td>\n",
       "      <td>0.013078</td>\n",
       "      <td>0.010650</td>\n",
       "      <td>0.009282</td>\n",
       "      <td>0.005481</td>\n",
       "      <td>0.004348</td>\n",
       "      <td>0.009073</td>\n",
       "      <td>0.008150</td>\n",
       "    </tr>\n",
       "    <tr>\n",
       "      <th>2018-07-31</th>\n",
       "      <td>415.829967</td>\n",
       "      <td>1.068994</td>\n",
       "      <td>1.482776</td>\n",
       "      <td>1.581353</td>\n",
       "      <td>7.379266</td>\n",
       "      <td>9.588042</td>\n",
       "      <td>0.014912</td>\n",
       "      <td>0.016091</td>\n",
       "      <td>0.007924</td>\n",
       "      <td>0.012325</td>\n",
       "      <td>0.012175</td>\n",
       "      <td>0.010413</td>\n",
       "      <td>0.006216</td>\n",
       "      <td>0.004021</td>\n",
       "      <td>0.010393</td>\n",
       "      <td>0.009530</td>\n",
       "    </tr>\n",
       "    <tr>\n",
       "      <th>2018-08-31</th>\n",
       "      <td>415.837859</td>\n",
       "      <td>1.026014</td>\n",
       "      <td>1.441147</td>\n",
       "      <td>1.629532</td>\n",
       "      <td>7.333869</td>\n",
       "      <td>9.565389</td>\n",
       "      <td>0.014476</td>\n",
       "      <td>0.016541</td>\n",
       "      <td>0.007439</td>\n",
       "      <td>0.010908</td>\n",
       "      <td>0.012816</td>\n",
       "      <td>0.010962</td>\n",
       "      <td>0.006779</td>\n",
       "      <td>0.004469</td>\n",
       "      <td>0.010800</td>\n",
       "      <td>0.009951</td>\n",
       "    </tr>\n",
       "    <tr>\n",
       "      <th>2018-09-30</th>\n",
       "      <td>415.845250</td>\n",
       "      <td>1.052024</td>\n",
       "      <td>1.462081</td>\n",
       "      <td>1.526411</td>\n",
       "      <td>7.678996</td>\n",
       "      <td>9.749816</td>\n",
       "      <td>0.014679</td>\n",
       "      <td>0.015486</td>\n",
       "      <td>0.007506</td>\n",
       "      <td>0.010029</td>\n",
       "      <td>0.013323</td>\n",
       "      <td>0.010093</td>\n",
       "      <td>0.008878</td>\n",
       "      <td>0.004484</td>\n",
       "      <td>0.010109</td>\n",
       "      <td>0.009107</td>\n",
       "    </tr>\n",
       "    <tr>\n",
       "      <th>2018-10-31</th>\n",
       "      <td>NaN</td>\n",
       "      <td>NaN</td>\n",
       "      <td>NaN</td>\n",
       "      <td>NaN</td>\n",
       "      <td>NaN</td>\n",
       "      <td>NaN</td>\n",
       "      <td>NaN</td>\n",
       "      <td>NaN</td>\n",
       "      <td>NaN</td>\n",
       "      <td>NaN</td>\n",
       "      <td>NaN</td>\n",
       "      <td>NaN</td>\n",
       "      <td>NaN</td>\n",
       "      <td>NaN</td>\n",
       "      <td>NaN</td>\n",
       "      <td>NaN</td>\n",
       "    </tr>\n",
       "  </tbody>\n",
       "</table>\n",
       "</div>"
      ],
      "text/plain": [
       "             Unnamed: 0  Current_mag  Easting (cm/sec)  Northing (cm/sec)  \\\n",
       "Date_time_R                                                                 \n",
       "2014-10-31          NaN          NaN               NaN                NaN   \n",
       "2014-11-30   415.871014     0.934629          0.730026           1.621102   \n",
       "2014-12-31   415.837064     0.964297          0.757248           1.676798   \n",
       "2015-01-31   415.837176     1.034222          0.796061           1.806495   \n",
       "2015-02-28   415.420054     0.988327          0.854650           1.585933   \n",
       "2015-03-31   415.679270     0.987474          0.930683           1.500098   \n",
       "2015-04-30   415.831987     0.959486          0.928179           1.687715   \n",
       "2015-05-31   415.782746     2.561590          1.928168           2.236844   \n",
       "2015-06-30          NaN          NaN               NaN                NaN   \n",
       "2015-07-31          NaN          NaN               NaN                NaN   \n",
       "2015-08-31          NaN          NaN               NaN                NaN   \n",
       "2015-09-30          NaN          NaN               NaN                NaN   \n",
       "2015-10-31          NaN          NaN               NaN                NaN   \n",
       "2015-11-30          NaN          NaN               NaN                NaN   \n",
       "2015-12-31   415.837555     1.115248          1.463032           1.672647   \n",
       "2016-01-31   415.861878     0.983446          1.350863           1.556280   \n",
       "2016-02-29   415.483709     0.949427          1.449738           1.388028   \n",
       "2016-03-31   415.560489     1.081151          1.700441           1.492825   \n",
       "2016-04-30   415.830517     1.274481          1.834806           1.715404   \n",
       "2016-05-31   415.834929     1.362449          2.042389           1.736791   \n",
       "2016-06-30   415.841775     1.496116          2.305388           1.941087   \n",
       "2016-07-31   415.834130     1.398837          2.006485           1.782818   \n",
       "2016-08-31   415.836708     1.075659          1.752266           1.320207   \n",
       "2016-09-30   415.857689     1.106318          1.686997           1.418634   \n",
       "2016-10-31   416.233803     1.005550          1.359792           1.350795   \n",
       "2016-11-30   415.984342     1.040348          1.486856           1.460017   \n",
       "2016-12-31   415.833562     1.115158          1.847310           1.514892   \n",
       "2017-01-31   415.827603     1.157200          1.606386           1.524976   \n",
       "2017-02-28   415.459488     1.148040          1.600211           1.537661   \n",
       "2017-03-31   415.596296     1.251214          1.755584           1.683572   \n",
       "2017-04-30   415.842167     1.314971          1.791825           1.825634   \n",
       "2017-05-31   415.829777     1.345904          1.857479           1.911891   \n",
       "2017-06-30   415.849983     1.389055          1.934053           1.839815   \n",
       "2017-07-31   415.824303     1.460894          2.194466           1.776689   \n",
       "2017-08-31   415.835111     1.470843          2.251473           1.831376   \n",
       "2017-09-30   415.833155     1.355512          2.059878           1.578710   \n",
       "2017-10-31   416.274560     1.205538          1.984990           1.375202   \n",
       "2017-11-30   415.927295     1.373430          2.091518           1.541779   \n",
       "2017-12-31   415.847757     1.357674          1.881960           1.667479   \n",
       "2018-01-31   415.834911     1.093077          1.572138           1.548377   \n",
       "2018-02-28   415.473161     1.030504          1.484384           1.521375   \n",
       "2018-03-31   415.592181     1.099648          1.477952           1.623503   \n",
       "2018-04-30   415.836832     1.134971          1.474793           1.687422   \n",
       "2018-05-31   415.828377     1.060491          1.369319           1.587813   \n",
       "2018-06-30   415.826672     1.076813          1.404995           1.522194   \n",
       "2018-07-31   415.829967     1.068994          1.482776           1.581353   \n",
       "2018-08-31   415.837859     1.026014          1.441147           1.629532   \n",
       "2018-09-30   415.845250     1.052024          1.462081           1.526411   \n",
       "2018-10-31          NaN          NaN               NaN                NaN   \n",
       "\n",
       "              Minutes    Seconds         u         v    u_tide    v_tide  \\\n",
       "Date_time_R                                                                \n",
       "2014-10-31        NaN        NaN       NaN       NaN       NaN       NaN   \n",
       "2014-11-30   7.479623  11.140831  0.007375  0.016459  0.007751  0.011642   \n",
       "2014-12-31   7.592627  10.946328  0.007603  0.017002  0.007281  0.012023   \n",
       "2015-01-31   7.672934  10.932526  0.008013  0.018322  0.006970  0.011980   \n",
       "2015-02-28   7.502846  11.163207  0.008630  0.016109  0.007008  0.011828   \n",
       "2015-03-31   7.685077  10.961499  0.009401  0.015264  0.007420  0.011909   \n",
       "2015-04-30   7.840095  10.860610  0.009385  0.017137  0.007693  0.012184   \n",
       "2015-05-31   7.966458  10.519992  0.009039  0.016774  0.007642  0.012418   \n",
       "2015-06-30        NaN        NaN       NaN       NaN  0.007427  0.012350   \n",
       "2015-07-31        NaN        NaN       NaN       NaN  0.007095  0.011897   \n",
       "2015-08-31        NaN        NaN       NaN       NaN  0.007160  0.011286   \n",
       "2015-09-30        NaN        NaN       NaN       NaN  0.007978  0.011142   \n",
       "2015-10-31        NaN        NaN       NaN       NaN  0.008578  0.011370   \n",
       "2015-11-30        NaN        NaN       NaN       NaN  0.008245  0.011607   \n",
       "2015-12-31   7.277684   9.662010  0.014707  0.016952  0.007261  0.011606   \n",
       "2016-01-31   7.386024   9.836541  0.013572  0.015812  0.006509  0.011549   \n",
       "2016-02-29   7.208304   9.865208  0.014571  0.014114  0.006493  0.011618   \n",
       "2016-03-31   7.395998  10.017599  0.017102  0.015145  0.007250  0.012011   \n",
       "2016-04-30   7.402063  10.125048  0.018443  0.017374  0.008086  0.012671   \n",
       "2016-05-31   7.298349   9.931433  0.020508  0.017595  0.008248  0.013056   \n",
       "2016-06-30   7.384659   9.709454  0.023118  0.019588  0.007694  0.012596   \n",
       "2016-07-31   7.304035   9.577067  0.020123  0.017998  0.006987  0.011483   \n",
       "2016-08-31   7.245588   9.599439  0.017584  0.013380  0.006675  0.010588   \n",
       "2016-09-30   7.003700   9.423425  0.016955  0.014362  0.007234  0.010657   \n",
       "2016-10-31   7.111489   9.828093  0.014066  0.014247  0.008195  0.011392   \n",
       "2016-11-30   7.176904  10.356008  0.015247  0.015378  0.008541  0.011969   \n",
       "2016-12-31   6.941946  10.344558  0.018565  0.015393  0.007920  0.012072   \n",
       "2017-01-31   7.006052  10.328008  0.016129  0.015477  0.006846  0.011739   \n",
       "2017-02-28   7.103400  10.193238  0.016080  0.015620  0.006367  0.011447   \n",
       "2017-03-31   7.109682  10.357030  0.017649  0.017059  0.006896  0.011718   \n",
       "2017-04-30   7.111723  10.516622  0.018018  0.018487  0.007916  0.012544   \n",
       "2017-05-31   7.191903  10.720808  0.018687  0.019387  0.008477  0.013200   \n",
       "2017-06-30   7.246333  11.007001  0.019442  0.018675  0.008193  0.012928   \n",
       "2017-07-31   7.072432  10.664602  0.022004  0.017973  0.007397  0.011595   \n",
       "2017-08-31   7.082885  10.311946  0.022579  0.018470  0.006896  0.010175   \n",
       "2017-09-30   7.105954  10.265413  0.020695  0.015982  0.006952  0.009784   \n",
       "2017-10-31   7.568627  10.704991  0.020071  0.014106  0.007511  0.010727   \n",
       "2017-11-30   8.061758  10.621484  0.021123  0.015752  0.008210  0.012016   \n",
       "2017-12-31   7.749887  10.000174  0.018903  0.016921  0.008346  0.012667   \n",
       "2018-01-31   7.429138   9.619673  0.015825  0.015752  0.007631  0.012260   \n",
       "2018-02-28   7.453443   9.584759  0.014942  0.015466  0.007044  0.011550   \n",
       "2018-03-31   7.423317   9.910719  0.014871  0.016491  0.006815  0.011250   \n",
       "2018-04-30   7.383557   9.570378  0.014834  0.017126  0.007240  0.011808   \n",
       "2018-05-31   7.482639   9.554912  0.013804  0.016184  0.008068  0.012735   \n",
       "2018-06-30   7.447180   9.717805  0.014166  0.015531  0.008416  0.013078   \n",
       "2018-07-31   7.379266   9.588042  0.014912  0.016091  0.007924  0.012325   \n",
       "2018-08-31   7.333869   9.565389  0.014476  0.016541  0.007439  0.010908   \n",
       "2018-09-30   7.678996   9.749816  0.014679  0.015486  0.007506  0.010029   \n",
       "2018-10-31        NaN        NaN       NaN       NaN       NaN       NaN   \n",
       "\n",
       "             u_detide  v_detide       u_f       v_f   u_super   v_super  \n",
       "Date_time_R                                                              \n",
       "2014-10-31        NaN       NaN       NaN       NaN       NaN       NaN  \n",
       "2014-11-30   0.007599  0.009803  0.002597  0.003466  0.007070  0.009094  \n",
       "2014-12-31   0.007396  0.010335  0.002291  0.003088  0.006970  0.009778  \n",
       "2015-01-31   0.007503  0.011474  0.002681  0.002793  0.006952  0.011011  \n",
       "2015-02-28   0.008337  0.011297  0.004456  0.005057  0.006982  0.009975  \n",
       "2015-03-31   0.009473  0.010983  0.005863  0.006254  0.007398  0.008892  \n",
       "2015-04-30   0.008907  0.011564  0.005524  0.007032  0.006920  0.009076  \n",
       "2015-05-31   0.007822  0.010695  0.004147  0.005817  0.006542  0.009098  \n",
       "2015-06-30        NaN       NaN       NaN       NaN       NaN       NaN  \n",
       "2015-07-31        NaN       NaN       NaN       NaN       NaN       NaN  \n",
       "2015-08-31        NaN       NaN       NaN       NaN       NaN       NaN  \n",
       "2015-09-30        NaN       NaN       NaN       NaN       NaN       NaN  \n",
       "2015-10-31        NaN       NaN       NaN       NaN       NaN       NaN  \n",
       "2015-11-30        NaN       NaN       NaN       NaN       NaN       NaN  \n",
       "2015-12-31   0.012566  0.011712  0.007451  0.007719  0.010041  0.008743  \n",
       "2016-01-31   0.011929  0.010481  0.006551  0.006384  0.009856  0.008247  \n",
       "2016-02-29   0.012566  0.009874  0.007892  0.004547  0.009701  0.008697  \n",
       "2016-03-31   0.014284  0.011311  0.010426  0.007386  0.009686  0.008518  \n",
       "2016-04-30   0.015412  0.012763  0.011459  0.009901  0.010214  0.007969  \n",
       "2016-05-31   0.018709  0.013490  0.015339  0.010055  0.010652  0.008858  \n",
       "2016-06-30   0.022149  0.017229  0.019824  0.014336  0.009763  0.009418  \n",
       "2016-07-31   0.019249  0.015894  0.016718  0.013170  0.009492  0.008756  \n",
       "2016-08-31   0.016907  0.010763  0.013969  0.006359  0.009419  0.008643  \n",
       "2016-09-30   0.015905  0.011311  0.012864  0.007545  0.009268  0.008350  \n",
       "2016-10-31   0.011848  0.010595  0.007520  0.007180  0.009088  0.007735  \n",
       "2016-11-30   0.012005  0.011532  0.007131  0.007848  0.009587  0.008361  \n",
       "2016-12-31   0.015926  0.011314  0.011480  0.007176  0.010948  0.008611  \n",
       "2017-01-31   0.014505  0.012394  0.007509  0.006865  0.012251  0.010199  \n",
       "2017-02-28   0.014798  0.012711  0.006333  0.005098  0.013209  0.011554  \n",
       "2017-03-31   0.015907  0.012894  0.007143  0.003685  0.014056  0.012205  \n",
       "2017-04-30   0.015058  0.012659  0.006000  0.004807  0.013683  0.011499  \n",
       "2017-05-31   0.015263  0.013055  0.009210  0.008145  0.011997  0.010000  \n",
       "2017-06-30   0.016870  0.013058  0.012956  0.008435  0.010595  0.009798  \n",
       "2017-07-31   0.020144  0.014278  0.016963  0.011051  0.010767  0.008937  \n",
       "2017-08-31   0.020611  0.015007  0.016894  0.012499  0.011706  0.008189  \n",
       "2017-09-30   0.018110  0.011949  0.014301  0.009038  0.011032  0.007748  \n",
       "2017-10-31   0.017790  0.011391  0.014895  0.006980  0.009599  0.008936  \n",
       "2017-11-30   0.019308  0.012397  0.016216  0.007242  0.010389  0.009970  \n",
       "2017-12-31   0.016262  0.011747  0.010932  0.006544  0.011912  0.009677  \n",
       "2018-01-31   0.012694  0.010353  0.005505  0.004237  0.011351  0.009334  \n",
       "2018-02-28   0.012466  0.010718  0.005381  0.004112  0.011162  0.009820  \n",
       "2018-03-31   0.012683  0.010570  0.005251  0.004044  0.011473  0.009680  \n",
       "2018-04-30   0.012752  0.010811  0.005566  0.004060  0.011410  0.009926  \n",
       "2018-05-31   0.011284  0.009822  0.004699  0.003510  0.010192  0.009105  \n",
       "2018-06-30   0.010650  0.009282  0.005481  0.004348  0.009073  0.008150  \n",
       "2018-07-31   0.012175  0.010413  0.006216  0.004021  0.010393  0.009530  \n",
       "2018-08-31   0.012816  0.010962  0.006779  0.004469  0.010800  0.009951  \n",
       "2018-09-30   0.013323  0.010093  0.008878  0.004484  0.010109  0.009107  \n",
       "2018-10-31        NaN       NaN       NaN       NaN       NaN       NaN  "
      ]
     },
     "execution_count": 32,
     "metadata": {},
     "output_type": "execute_result"
    }
   ],
   "source": [
    "df_all_2Mstd_mon"
   ]
  },
  {
   "cell_type": "code",
   "execution_count": 33,
   "metadata": {},
   "outputs": [
    {
     "data": {
      "text/plain": [
       "Int64Index([11, 12,  1,  2,  3,  4,  5, 12,  1,  2,  3,  4,  5,  6,  7,  8,  9,\n",
       "            10, 11, 12,  1,  2,  3,  4,  5,  6,  7,  8,  9, 10, 11, 12,  1,  2,\n",
       "             3,  4,  5,  6,  7,  8,  9],\n",
       "           dtype='int64', name='Date_time_R')"
      ]
     },
     "execution_count": 33,
     "metadata": {},
     "output_type": "execute_result"
    }
   ],
   "source": [
    "df_all_2Mstd_mon.index.month[fi]"
   ]
  },
  {
   "cell_type": "code",
   "execution_count": 34,
   "metadata": {},
   "outputs": [
    {
     "name": "stdout",
     "output_type": "stream",
     "text": [
      "Multiple Comparison of Means - Tukey HSD,FWER=0.05\n",
      "============================================\n",
      "group1 group2 meandiff  lower  upper  reject\n",
      "--------------------------------------------\n",
      "  1      2     0.0005  -0.0106 0.0115 False \n",
      "  1      3     0.0016  -0.0095 0.0127 False \n",
      "  1      4     0.0016  -0.0095 0.0127 False \n",
      "  1      5     0.0028  -0.0083 0.0139 False \n",
      "  1      6     0.0072  -0.0048 0.0192 False \n",
      "  1      7     0.0077  -0.0042 0.0197 False \n",
      "  1      8     0.007    -0.005 0.019  False \n",
      "  1      9     0.0065  -0.0055 0.0184 False \n",
      "  1      10    0.0056  -0.0079 0.0192 False \n",
      "  1      11    0.0031  -0.0089 0.0151 False \n",
      "  1      12    0.0025  -0.0086 0.0136 False \n",
      "  2      3     0.0012  -0.0099 0.0122 False \n",
      "  2      4     0.0011   -0.01  0.0122 False \n",
      "  2      5     0.0023  -0.0087 0.0134 False \n",
      "  2      6     0.0067  -0.0052 0.0187 False \n",
      "  2      7     0.0073  -0.0047 0.0192 False \n",
      "  2      8     0.0065  -0.0054 0.0185 False \n",
      "  2      9     0.006    -0.006 0.018  False \n",
      "  2      10    0.0052  -0.0084 0.0188 False \n",
      "  2      11    0.0026  -0.0093 0.0146 False \n",
      "  2      12    0.002   -0.0091 0.0131 False \n",
      "  3      4      -0.0   -0.0111 0.011  False \n",
      "  3      5     0.0012  -0.0099 0.0123 False \n",
      "  3      6     0.0056  -0.0064 0.0175 False \n",
      "  3      7     0.0061  -0.0058 0.0181 False \n",
      "  3      8     0.0054  -0.0066 0.0173 False \n",
      "  3      9     0.0048  -0.0071 0.0168 False \n",
      "  3      10    0.004   -0.0095 0.0176 False \n",
      "  3      11    0.0015  -0.0105 0.0134 False \n",
      "  3      12    0.0009  -0.0102 0.0119 False \n",
      "  4      5     0.0012  -0.0099 0.0123 False \n",
      "  4      6     0.0056  -0.0064 0.0176 False \n",
      "  4      7     0.0062  -0.0058 0.0181 False \n",
      "  4      8     0.0054  -0.0066 0.0174 False \n",
      "  4      9     0.0049  -0.0071 0.0168 False \n",
      "  4      10    0.0041  -0.0095 0.0176 False \n",
      "  4      11    0.0015  -0.0105 0.0135 False \n",
      "  4      12    0.0009  -0.0102 0.012  False \n",
      "  5      6     0.0044  -0.0076 0.0164 False \n",
      "  5      7     0.005    -0.007 0.0169 False \n",
      "  5      8     0.0042  -0.0078 0.0162 False \n",
      "  5      9     0.0037  -0.0083 0.0156 False \n",
      "  5      10    0.0029  -0.0107 0.0164 False \n",
      "  5      11    0.0003  -0.0117 0.0123 False \n",
      "  5      12   -0.0003  -0.0114 0.0108 False \n",
      "  6      7     0.0005  -0.0122 0.0133 False \n",
      "  6      8    -0.0002   -0.013 0.0126 False \n",
      "  6      9    -0.0007  -0.0135 0.0121 False \n",
      "  6      10   -0.0015  -0.0158 0.0128 False \n",
      "  6      11   -0.0041  -0.0169 0.0087 False \n",
      "  6      12   -0.0047  -0.0167 0.0073 False \n",
      "  7      8    -0.0008  -0.0135 0.012  False \n",
      "  7      9    -0.0013  -0.0141 0.0115 False \n",
      "  7      10   -0.0021  -0.0164 0.0122 False \n",
      "  7      11   -0.0047  -0.0174 0.0081 False \n",
      "  7      12   -0.0053  -0.0172 0.0067 False \n",
      "  8      9    -0.0005  -0.0133 0.0123 False \n",
      "  8      10   -0.0013  -0.0156 0.013  False \n",
      "  8      11   -0.0039  -0.0167 0.0089 False \n",
      "  8      12   -0.0045  -0.0165 0.0075 False \n",
      "  9      10   -0.0008  -0.0151 0.0135 False \n",
      "  9      11   -0.0034  -0.0162 0.0094 False \n",
      "  9      12    -0.004  -0.0159 0.008  False \n",
      "  10     11   -0.0026  -0.0169 0.0117 False \n",
      "  10     12   -0.0032  -0.0167 0.0104 False \n",
      "  11     12   -0.0006  -0.0126 0.0114 False \n",
      "--------------------------------------------\n"
     ]
    }
   ],
   "source": [
    "print(MultiComp.tukeyhsd(0.05).summary())"
   ]
  },
  {
   "cell_type": "code",
   "execution_count": 35,
   "metadata": {},
   "outputs": [],
   "source": [
    "MultiComp_std = MultiComparison(df_all_2Mstd_mon['u_f'][fi],\n",
    "                            df_all_2Mstd_mon.index.month[fi])"
   ]
  },
  {
   "cell_type": "code",
   "execution_count": null,
   "metadata": {},
   "outputs": [],
   "source": []
  },
  {
   "cell_type": "code",
   "execution_count": 36,
   "metadata": {},
   "outputs": [
    {
     "data": {
      "application/vnd.jupyter.widget-view+json": {
       "model_id": "8606a6dca33f4aa8979a6d25421aeb3d",
       "version_major": 2,
       "version_minor": 0
      },
      "text/plain": [
       "FigureCanvasNbAgg()"
      ]
     },
     "metadata": {},
     "output_type": "display_data"
    }
   ],
   "source": [
    "plt.figure(figsize=(7,8))\n",
    "plt.subplot(311)\n",
    "plt.plot(df_all_2M.index,df_all_2M['u_f'],'k-')\n",
    "plt.plot(df_all_2M.index,df_all_2M['v_f'],'--',color='gray')\n",
    "plt.title('60-day running mean')\n",
    "plt.ylim([-0.011,0.011])\n",
    "plt.ylabel('[m/s]')\n",
    "plt.gca().set_xticklabels([])\n",
    "yl = plt.ylim()\n",
    "xl = plt.xlim()\n",
    "plt.text(xl[0]+0.01*np.diff(xl),yl[1]-0.1*np.diff(yl),'a)')\n",
    "plt.legend(['$u$','$v$'])\n",
    "\n",
    "plt.subplot(312)\n",
    "hl = plt.plot(df_all_2Mstd.index,df_all_2Mstd['u_f'],'k-')\n",
    "hh = plt.plot(df_all_2Mstd.index,df_all_2Mstd['u_super'],'-',color='darkgray',lw=2)\n",
    "ht = plt.plot(df_all_2Mstd.index,df_all_2Mstd['u_tide'],'-',color='lightgray')\n",
    "plt.gca().set_xticklabels([])\n",
    "yl = plt.ylim()\n",
    "plt.ylim([0,yl[1]])\n",
    "plt.ylabel('[m/s]')\n",
    "plt.title('60-day running standard deviation - $u$')\n",
    "yl = plt.ylim()\n",
    "xl = plt.xlim()\n",
    "plt.text(xl[0]+0.01*np.diff(xl),yl[1]-0.1*np.diff(yl),'b)')\n",
    "plt.legend([hl[0],ht[0],hh[0]],['$u_{low}$','$u_{tide}$','$u_{high}$'])\n",
    "\n",
    "plt.subplot(313)\n",
    "plt.plot(df_all_2Mstd.index,df_all_2Mstd['v_f'],'k-')\n",
    "plt.plot(df_all_2Mstd.index,df_all_2Mstd['v_super'],'-',color='darkgray',lw=2)\n",
    "plt.plot(df_all_2Mstd.index,df_all_2Mstd['v_tide'],'-',color='lightgray')\n",
    "plt.xticks(rotation=30)\n",
    "plt.ylim([0,yl[1]])\n",
    "plt.title('60-day running standard deviation - $v$')\n",
    "plt.ylabel('[m/s]')\n",
    "plt.tight_layout()\n",
    "yl = plt.ylim()\n",
    "xl = plt.xlim()\n",
    "plt.text(xl[0]+0.01*np.diff(xl),yl[1]-0.1*np.diff(yl),'c)')\n",
    "\n",
    "plt.savefig('figures_paper/runnning_stats.png',dpi=600)\n",
    "plt.savefig('figures_paper/runnning_stats.pdf')"
   ]
  },
  {
   "cell_type": "code",
   "execution_count": 37,
   "metadata": {},
   "outputs": [
    {
     "data": {
      "application/vnd.jupyter.widget-view+json": {
       "model_id": "7bfe968f46b74f478508680d7c6b10e1",
       "version_major": 2,
       "version_minor": 0
      },
      "text/plain": [
       "FigureCanvasNbAgg()"
      ]
     },
     "metadata": {},
     "output_type": "display_data"
    },
    {
     "data": {
      "text/plain": [
       "Text(0.5, 1.0, 'rolling means')"
      ]
     },
     "execution_count": 37,
     "metadata": {},
     "output_type": "execute_result"
    }
   ],
   "source": [
    "plt.figure()\n",
    "plt.plot(df_all_1M.index,df_all_1M['u_f'])\n",
    "plt.plot(df_all_2M.index,df_all_2M['u_f'])\n",
    "plt.plot(df_all_3M.index,df_all_3M['u_f'])\n",
    "plt.legend(['1M','2M','3M'])\n",
    "plt.title('rolling means')"
   ]
  },
  {
   "cell_type": "code",
   "execution_count": 38,
   "metadata": {},
   "outputs": [
    {
     "data": {
      "application/vnd.jupyter.widget-view+json": {
       "model_id": "c5fbafc46fc0451a9d30cb73921fe5f7",
       "version_major": 2,
       "version_minor": 0
      },
      "text/plain": [
       "FigureCanvasNbAgg()"
      ]
     },
     "metadata": {},
     "output_type": "display_data"
    },
    {
     "data": {
      "text/plain": [
       "[<matplotlib.lines.Line2D at 0x1c1d3847f0>]"
      ]
     },
     "execution_count": 38,
     "metadata": {},
     "output_type": "execute_result"
    }
   ],
   "source": [
    "plt.figure()\n",
    "plt.plot(df_all_3Mstd_mon.index,df_all_3Mstd_mon['u_f'])\n",
    "plt.plot(df_all_3Mstd_mon.index,df_all_3Mstd_mon['u_super'])\n",
    "plt.plot(df_all_3Mstd_mon.index,df_all_3Mstd_mon['u_tide'])"
   ]
  },
  {
   "cell_type": "code",
   "execution_count": 39,
   "metadata": {},
   "outputs": [
    {
     "data": {
      "application/vnd.jupyter.widget-view+json": {
       "model_id": "6989b85b02a24b2195ef186b5d9dd8da",
       "version_major": 2,
       "version_minor": 0
      },
      "text/plain": [
       "FigureCanvasNbAgg()"
      ]
     },
     "metadata": {},
     "output_type": "display_data"
    },
    {
     "data": {
      "text/plain": [
       "[<matplotlib.lines.Line2D at 0x1c1d380d30>]"
      ]
     },
     "execution_count": 39,
     "metadata": {},
     "output_type": "execute_result"
    }
   ],
   "source": [
    "plt.figure()\n",
    "plt.plot(df_all_2Mstd_mon.index,df_all_2Mstd_mon['u_f'])\n",
    "plt.plot(df_all_2Mstd_mon.index,df_all_2Mstd_mon['u_super'])\n",
    "plt.plot(df_all_2Mstd_mon.index,df_all_2Mstd_mon['u_tide'])"
   ]
  },
  {
   "cell_type": "code",
   "execution_count": 40,
   "metadata": {},
   "outputs": [
    {
     "data": {
      "application/vnd.jupyter.widget-view+json": {
       "model_id": "214ca479511e4c0491bedecea6baf83b",
       "version_major": 2,
       "version_minor": 0
      },
      "text/plain": [
       "FigureCanvasNbAgg()"
      ]
     },
     "metadata": {},
     "output_type": "display_data"
    },
    {
     "data": {
      "text/plain": [
       "[<matplotlib.lines.Line2D at 0x1c1d45ca20>]"
      ]
     },
     "execution_count": 40,
     "metadata": {},
     "output_type": "execute_result"
    }
   ],
   "source": [
    "plt.figure()\n",
    "plt.plot(df_all_3M.index,df_all_3M['u_f'])\n",
    "plt.plot(df_all_3M_mon.index,df_all_3M_mon['u_f'])\n",
    "plt.plot(df_all_2M_mon.index,df_all_2M_mon['u_f'])"
   ]
  },
  {
   "cell_type": "code",
   "execution_count": 41,
   "metadata": {},
   "outputs": [
    {
     "data": {
      "application/vnd.jupyter.widget-view+json": {
       "model_id": "a9c851d8a73e4a94898152d6e22aade3",
       "version_major": 2,
       "version_minor": 0
      },
      "text/plain": [
       "FigureCanvasNbAgg()"
      ]
     },
     "metadata": {},
     "output_type": "display_data"
    },
    {
     "data": {
      "text/plain": [
       "[<matplotlib.lines.Line2D at 0x1c1d4539e8>]"
      ]
     },
     "execution_count": 41,
     "metadata": {},
     "output_type": "execute_result"
    }
   ],
   "source": [
    "plt.figure()\n",
    "plt.plot(df_all_3M_mon['u_f'],df_all_2M_mon['u_f'],'.')"
   ]
  },
  {
   "cell_type": "code",
   "execution_count": 42,
   "metadata": {},
   "outputs": [
    {
     "data": {
      "application/vnd.jupyter.widget-view+json": {
       "model_id": "f472dac7cf7340458bca293059e036df",
       "version_major": 2,
       "version_minor": 0
      },
      "text/plain": [
       "FigureCanvasNbAgg()"
      ]
     },
     "metadata": {},
     "output_type": "display_data"
    },
    {
     "data": {
      "text/plain": [
       "Text(0.5, 1.0, 'rolling means')"
      ]
     },
     "execution_count": 42,
     "metadata": {},
     "output_type": "execute_result"
    }
   ],
   "source": [
    "plt.figure()\n",
    "plt.plot(df_all_1M.index,df_all_1M['u_f'])\n",
    "plt.plot(df_all_2M.index,df_all_2M['u_f'])\n",
    "plt.plot(df_all_3M.index,df_all_3M['u_f'])\n",
    "plt.legend(['1M','2M','3M'])\n",
    "plt.title('rolling means')"
   ]
  },
  {
   "cell_type": "code",
   "execution_count": 43,
   "metadata": {},
   "outputs": [],
   "source": [
    "taux,tauy = bottomstress(np.array(df_all['u']),np.array(df_all['v']),1.4,zo=0.03)"
   ]
  },
  {
   "cell_type": "code",
   "execution_count": 44,
   "metadata": {},
   "outputs": [],
   "source": [
    "taumag = np.sqrt(taux**2 + tauy**2)"
   ]
  },
  {
   "cell_type": "code",
   "execution_count": 45,
   "metadata": {},
   "outputs": [],
   "source": [
    "ustar = np.sqrt(taumag/1025)"
   ]
  },
  {
   "cell_type": "code",
   "execution_count": 46,
   "metadata": {},
   "outputs": [],
   "source": [
    "tim, = np.where(ustar == np.nanmax(ustar))"
   ]
  },
  {
   "cell_type": "code",
   "execution_count": 47,
   "metadata": {},
   "outputs": [
    {
     "data": {
      "text/plain": [
       "DatetimeIndex(['2017-05-27 23:00:00'], dtype='datetime64[ns]', name='Date_time_R', freq=None)"
      ]
     },
     "execution_count": 47,
     "metadata": {},
     "output_type": "execute_result"
    }
   ],
   "source": [
    "df_all.index[tim]"
   ]
  },
  {
   "cell_type": "code",
   "execution_count": 48,
   "metadata": {},
   "outputs": [
    {
     "data": {
      "text/plain": [
       "0.00218073094015227"
      ]
     },
     "execution_count": 48,
     "metadata": {},
     "output_type": "execute_result"
    }
   ],
   "source": [
    "np.nanmean(ustar)"
   ]
  },
  {
   "cell_type": "code",
   "execution_count": 49,
   "metadata": {},
   "outputs": [
    {
     "data": {
      "text/plain": [
       "0.010466122007886648"
      ]
     },
     "execution_count": 49,
     "metadata": {},
     "output_type": "execute_result"
    }
   ],
   "source": [
    "np.nanmax(ustar)"
   ]
  },
  {
   "cell_type": "code",
   "execution_count": null,
   "metadata": {},
   "outputs": [],
   "source": []
  }
 ],
 "metadata": {
  "kernelspec": {
   "display_name": "Python [conda env:py37]",
   "language": "python",
   "name": "conda-env-py37-py"
  },
  "language_info": {
   "codemirror_mode": {
    "name": "ipython",
    "version": 3
   },
   "file_extension": ".py",
   "mimetype": "text/x-python",
   "name": "python",
   "nbconvert_exporter": "python",
   "pygments_lexer": "ipython3",
   "version": "3.7.2"
  }
 },
 "nbformat": 4,
 "nbformat_minor": 2
}
