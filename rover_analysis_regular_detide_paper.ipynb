{
 "cells": [
  {
   "cell_type": "code",
   "execution_count": 1,
   "metadata": {},
   "outputs": [],
   "source": [
    "%matplotlib widget\n",
    "import pandas as pd\n",
    "import xarray as xr\n",
    "import numpy as np\n",
    "import matplotlib.pyplot as plt\n",
    "from scipy import stats\n",
    "from scipy.signal import welch, periodogram\n",
    "import os\n",
    "import matplotlib.dates as mdates\n",
    "import utide\n",
    "from oceans import bottomstress\n",
    "\n",
    "from statsmodels.stats.multicomp import (pairwise_tukeyhsd,\n",
    "                                         MultiComparison)\n",
    "import statsmodels.api as sm\n",
    "from statsmodels.formula.api import ols\n",
    "\n",
    "from physoce import tseries as ts\n",
    "from tseries import lombscargle\n",
    "from scipy.stats import chi2"
   ]
  },
  {
   "cell_type": "markdown",
   "metadata": {},
   "source": [
    "### Load data"
   ]
  },
  {
   "cell_type": "markdown",
   "metadata": {},
   "source": [
    "#### Rover"
   ]
  },
  {
   "cell_type": "code",
   "execution_count": 2,
   "metadata": {},
   "outputs": [
    {
     "name": "stderr",
     "output_type": "stream",
     "text": [
      "/Users/tomconnolly/programs/anaconda/envs/py37/lib/python3.7/site-packages/ipykernel/__main__.py:17: SettingWithCopyWarning: \n",
      "A value is trying to be set on a copy of a slice from a DataFrame\n",
      "\n",
      "See the caveats in the documentation: http://pandas.pydata.org/pandas-docs/stable/indexing.html#indexing-view-versus-copy\n",
      "/Users/tomconnolly/programs/anaconda/envs/py37/lib/python3.7/site-packages/ipykernel/__main__.py:18: SettingWithCopyWarning: \n",
      "A value is trying to be set on a copy of a slice from a DataFrame\n",
      "\n",
      "See the caveats in the documentation: http://pandas.pydata.org/pandas-docs/stable/indexing.html#indexing-view-versus-copy\n"
     ]
    }
   ],
   "source": [
    "# Load data\n",
    "rover_csv_file = 'data/Rover_II_Current_Mag_Hourly_Avg_pad_2018.csv'\n",
    "df_all = pd.read_csv(rover_csv_file,parse_dates=[7])\n",
    "\n",
    "# Datetime index\n",
    "df_all = df_all.set_index('Date_time_R')\n",
    "\n",
    "# Create u and v components with units m/s\n",
    "df_all['u'] = df_all['Easting (cm/sec)']/100\n",
    "df_all['v'] = df_all['Northing (cm/sec)']/100\n",
    "\n",
    "# mask erroneous points \n",
    "# abrupt shift near end of deployment \n",
    "bi = ((df_all.index > np.datetime64('2015-06-18T12:00')) &\n",
    "    (df_all.index < np.datetime64('2015-06-20T00:00')))\n",
    "\n",
    "df_all['u'][bi] = np.nan\n",
    "df_all['v'][bi] = np.nan\n",
    "\n",
    "# select time range\n",
    "t1 = np.datetime64('2014-10-11T00:00:00')\n",
    "t2 = np.datetime64('2018-10-17T00:00:00')\n",
    "df_all = df_all.loc[(df_all.index >= t1) & (df_all.index <= t2)]"
   ]
  },
  {
   "cell_type": "code",
   "execution_count": 3,
   "metadata": {},
   "outputs": [
    {
     "name": "stdout",
     "output_type": "stream",
     "text": [
      "solve: matrix prep ... solution ... diagnostics ... done.\n"
     ]
    }
   ],
   "source": [
    "# tidal analysis\n",
    "time = mdates.date2num(df_all.index)\n",
    "\n",
    "coef = utide.solve(time, np.array(df_all['u']), \n",
    "         np.array(df_all['v']),\n",
    "         lat=35+8.4585/60,\n",
    "         method='robust')"
   ]
  },
  {
   "cell_type": "code",
   "execution_count": 4,
   "metadata": {},
   "outputs": [
    {
     "data": {
      "text/plain": [
       "68"
      ]
     },
     "execution_count": 4,
     "metadata": {},
     "output_type": "execute_result"
    }
   ],
   "source": [
    "len(coef['name'])"
   ]
  },
  {
   "cell_type": "code",
   "execution_count": 5,
   "metadata": {},
   "outputs": [
    {
     "data": {
      "text/plain": [
       "array(['M2', 'S2', 'K1', 'O1', 'N2', 'MKS2', 'MSM', 'P1', 'K2', 'SA',\n",
       "       'MF', 'MSF', 'H1', 'MS4', 'GAM2', 'M4', 'H2', 'SSA', 'MK3', 'Q1',\n",
       "       'MM', 'T2', 'MSN2', 'R2', 'L2', 'NU2', 'MO3', 'SO3', 'LDA2', '2N2',\n",
       "       'J1', 'S1', 'MN4', 'MU2', 'NO1', 'ETA2', 'OQ2', 'PI1', 'TAU1',\n",
       "       'SN4', 'RHO1', '2Q1', 'OO1', 'S4', 'SIG1', 'EPS2', 'M3', 'PHI1',\n",
       "       'THE1', '2MN6', 'CHI1', 'SO1', 'MK4', 'M6', 'ALP1', 'PSI1', '2SM6',\n",
       "       'SK4', '2MK5', 'SK3', 'BET1', 'UPS1', '2SK5', 'MSK6', '2MK6', 'M8',\n",
       "       '2MS6', '3MK7'], dtype=object)"
      ]
     },
     "execution_count": 5,
     "metadata": {},
     "output_type": "execute_result"
    }
   ],
   "source": [
    "coef['name']"
   ]
  },
  {
   "cell_type": "code",
   "execution_count": 6,
   "metadata": {},
   "outputs": [],
   "source": [
    "crit = (coef['diagn']['SNR'] > 2) & (1/coef['aux']['frq'] < 48)"
   ]
  },
  {
   "cell_type": "code",
   "execution_count": 7,
   "metadata": {},
   "outputs": [
    {
     "data": {
      "text/plain": [
       "array(['M2', 'S2', 'K1', 'O1', 'N2', 'MKS2', 'P1', 'K2', 'H1', 'MS4',\n",
       "       'GAM2', 'M4', 'H2', 'MK3', 'Q1', 'T2', 'MSN2', 'R2', 'L2', 'NU2',\n",
       "       'MO3', 'SO3', 'LDA2', '2N2', 'J1', 'S1', 'MN4', 'MU2', 'NO1',\n",
       "       'ETA2', 'OQ2', 'PI1', 'TAU1', 'SN4', 'RHO1', '2Q1', 'S4', 'SIG1',\n",
       "       'EPS2', 'M3', 'PHI1', 'THE1', '2MN6', 'M6', '2SM6'], dtype=object)"
      ]
     },
     "execution_count": 7,
     "metadata": {},
     "output_type": "execute_result"
    }
   ],
   "source": [
    "coef['name'][crit]"
   ]
  },
  {
   "cell_type": "code",
   "execution_count": 8,
   "metadata": {},
   "outputs": [
    {
     "data": {
      "text/plain": [
       "45"
      ]
     },
     "execution_count": 8,
     "metadata": {},
     "output_type": "execute_result"
    }
   ],
   "source": [
    "len(np.where(crit)[0])"
   ]
  },
  {
   "cell_type": "code",
   "execution_count": 9,
   "metadata": {},
   "outputs": [
    {
     "data": {
      "text/plain": [
       "array([5.17525050e-01, 5.00000000e-01, 9.97269566e-01, 1.07580590e+00,\n",
       "       5.27431176e-01, 5.16062594e-01, 3.18119415e+01, 1.00274543e+00,\n",
       "       4.98634783e-01, 3.65259645e+02, 1.36607911e+01, 1.47652944e+01,\n",
       "       5.18259356e-01, 2.54305803e-01, 5.18829165e-01, 2.58762525e-01,\n",
       "       5.16792822e-01, 1.82621096e+02, 3.40714165e-01, 1.11951486e+00,\n",
       "       2.75545497e+01, 5.00685383e-01, 4.91088789e-01, 4.99316491e-01,\n",
       "       5.07984174e-01, 5.26083515e-01, 3.49429290e-01, 3.41351019e-01,\n",
       "       5.09240590e-01, 5.37723936e-01, 9.62436529e-01, 9.99999869e-01,\n",
       "       2.61215579e-01, 5.36323233e-01, 1.03471868e+00, 4.89771738e-01,\n",
       "       5.48426416e-01, 1.00550584e+00, 1.06950553e+00, 2.56674699e-01,\n",
       "       1.11346055e+00, 1.16692594e+00, 9.29419760e-01, 2.50000000e-01,\n",
       "       1.16034948e+00, 5.46969476e-01, 3.45016700e-01, 9.91853188e-01,\n",
       "       9.66956537e-01, 1.73595162e-01, 1.02954467e+00, 9.34174083e-01,\n",
       "       2.53952166e-01, 1.72508350e-01, 1.21136110e+00, 9.94554132e-01,\n",
       "       1.68569433e-01, 2.49658229e-01, 2.05453342e-01, 3.33029399e-01,\n",
       "       1.04061473e+00, 8.99093190e-01, 1.99890544e-01, 1.68413978e-01,\n",
       "       1.70357082e-01, 1.29381263e-01, 1.70516147e-01, 1.47068367e-01])"
      ]
     },
     "execution_count": 9,
     "metadata": {},
     "output_type": "execute_result"
    }
   ],
   "source": [
    "1/coef['aux']['frq'] / 24"
   ]
  },
  {
   "cell_type": "code",
   "execution_count": 10,
   "metadata": {},
   "outputs": [],
   "source": [
    "# tide = utide.reconstruct(time,coef)"
   ]
  },
  {
   "cell_type": "code",
   "execution_count": 11,
   "metadata": {},
   "outputs": [],
   "source": [
    "# df_all['u_tide'] = tide.u\n",
    "# df_all['v_tide'] = tide.v\n",
    "# df_all['u_detide'] = df_all['u'] - df_all['u_tide']\n",
    "# df_all['v_detide'] = df_all['v'] - df_all['v_tide']"
   ]
  },
  {
   "cell_type": "markdown",
   "metadata": {},
   "source": [
    "### Resample to hourly values"
   ]
  },
  {
   "cell_type": "markdown",
   "metadata": {},
   "source": [
    "#### Define date range"
   ]
  },
  {
   "cell_type": "code",
   "execution_count": 12,
   "metadata": {},
   "outputs": [],
   "source": [
    "# t1 = np.datetime64('2017-11-12T00:00:00')\n",
    "# t2 = np.datetime64('2018-10-17T00:00:00')\n",
    "# dff = dfr.loc[(dfr.index >= t1) & (dfr.index <= t2)].interpolate(limit=2)"
   ]
  },
  {
   "cell_type": "code",
   "execution_count": 13,
   "metadata": {},
   "outputs": [
    {
     "name": "stdout",
     "output_type": "stream",
     "text": [
      "prep/calcs ... done.\n"
     ]
    },
    {
     "name": "stderr",
     "output_type": "stream",
     "text": [
      "/Users/tomconnolly/programs/anaconda/envs/py37/lib/python3.7/site-packages/scipy/signal/signaltools.py:491: FutureWarning: Using a non-tuple sequence for multidimensional indexing is deprecated; use `arr[tuple(seq)]` instead of `arr[seq]`. In the future this will be interpreted as an array index, `arr[np.array(seq)]`, which will result either in an error or a different result.\n",
      "  return x[reverse].conj()\n",
      "/Users/tomconnolly/programs/anaconda/envs/py37/lib/python3.7/site-packages/scipy/signal/signaltools.py:251: FutureWarning: Using a non-tuple sequence for multidimensional indexing is deprecated; use `arr[tuple(seq)]` instead of `arr[seq]`. In the future this will be interpreted as an array index, `arr[np.array(seq)]`, which will result either in an error or a different result.\n",
      "  in1zpadded[sc] = in1.copy()\n"
     ]
    }
   ],
   "source": [
    "# resample and interpolate\n",
    "df_all_r = df_all.resample('1H').mean()\n",
    "\n",
    "# Calculate tidal currents at hourly points\n",
    "time_r = mdates.date2num(df_all_r.index)\n",
    "#tide_r = utide.reconstruct(time_r,coef)\n",
    "tide_r = utide.reconstruct(time_r,coef,constit=coef['name'][crit])\n",
    "df_all_r['u_tide'] = tide_r.u\n",
    "df_all_r['v_tide'] = tide_r.v\n",
    "df_all_r['u_detide'] = df_all_r['u'] - df_all_r['u_tide']\n",
    "df_all_r['v_detide'] = df_all_r['v'] - df_all_r['v_tide']\n",
    "\n",
    "df_all_int = df_all_r.interpolate(limit=int(24*3.5))\n",
    "\n",
    "df_all_int['u'] = df_all_int['u_detide'] + df_all_int['u_tide']\n",
    "df_all_int['v'] = df_all_int['v_detide'] + df_all_int['v_tide']\n",
    "\n",
    "df_all_int['u_f'] = ts.pl64(df_all_int['u_detide'])\n",
    "df_all_int['v_f'] = ts.pl64(df_all_int['v_detide'])\n",
    "\n",
    "df_all_int['u_super'] = df_all_int['u'] - df_all_int['u_f'] - df_all_int['u_tide']\n",
    "df_all_int['v_super'] = df_all_int['v'] - df_all_int['v_f'] - df_all_int['v_tide']"
   ]
  },
  {
   "cell_type": "markdown",
   "metadata": {},
   "source": [
    "### Subset with no gaps\n",
    "November 2015-October 2018"
   ]
  },
  {
   "cell_type": "code",
   "execution_count": 14,
   "metadata": {},
   "outputs": [],
   "source": [
    "# select time range\n",
    "t1s = np.datetime64('2015-11-11T13:00:00')\n",
    "t2s = np.datetime64('2018-10-14T07:00:00')\n",
    "df_sub = df_all_int.loc[(df_all_int.index >= t1s) & (df_all_int.index <= t2s)]"
   ]
  },
  {
   "cell_type": "markdown",
   "metadata": {},
   "source": [
    "### Initial plots"
   ]
  },
  {
   "cell_type": "markdown",
   "metadata": {},
   "source": [
    "### Full velocity"
   ]
  },
  {
   "cell_type": "code",
   "execution_count": 15,
   "metadata": {},
   "outputs": [
    {
     "data": {
      "application/vnd.jupyter.widget-view+json": {
       "model_id": "adac7c76a94f4ae89dedce8373ef2880",
       "version_major": 2,
       "version_minor": 0
      },
      "text/plain": [
       "FigureCanvasNbAgg()"
      ]
     },
     "metadata": {},
     "output_type": "display_data"
    },
    {
     "data": {
      "text/plain": [
       "[<matplotlib.lines.Line2D at 0x1c1f6e4e10>]"
      ]
     },
     "execution_count": 15,
     "metadata": {},
     "output_type": "execute_result"
    }
   ],
   "source": [
    "plt.figure(figsize=(7.5,4))\n",
    "plt.plot(df_all.index,df_all['u'])"
   ]
  },
  {
   "cell_type": "code",
   "execution_count": 16,
   "metadata": {},
   "outputs": [
    {
     "data": {
      "application/vnd.jupyter.widget-view+json": {
       "model_id": "f75dcc06f56742b9bd35d9f93da1ffc5",
       "version_major": 2,
       "version_minor": 0
      },
      "text/plain": [
       "FigureCanvasNbAgg()"
      ]
     },
     "metadata": {},
     "output_type": "display_data"
    },
    {
     "data": {
      "text/plain": [
       "[<matplotlib.lines.Line2D at 0x1c1f8376d8>]"
      ]
     },
     "execution_count": 16,
     "metadata": {},
     "output_type": "execute_result"
    }
   ],
   "source": [
    "plt.figure(figsize=(7.5,4))\n",
    "plt.plot(df_all_int.index,df_all_int['u_super'])\n",
    "plt.plot(df_all_int.index,df_all_int['u_f'])"
   ]
  },
  {
   "cell_type": "code",
   "execution_count": 17,
   "metadata": {},
   "outputs": [
    {
     "data": {
      "application/vnd.jupyter.widget-view+json": {
       "model_id": "80883d7c92314f6d871873d3291a6e46",
       "version_major": 2,
       "version_minor": 0
      },
      "text/plain": [
       "FigureCanvasNbAgg()"
      ]
     },
     "metadata": {},
     "output_type": "display_data"
    },
    {
     "data": {
      "text/plain": [
       "[<matplotlib.lines.Line2D at 0x1c1f865d30>]"
      ]
     },
     "execution_count": 17,
     "metadata": {},
     "output_type": "execute_result"
    }
   ],
   "source": [
    "plt.figure(figsize=(7.5,4))\n",
    "plt.plot(df_all_int.index,df_all_int['u_super'])\n",
    "plt.plot(df_all_int.index,df_all_int['u_tide'])"
   ]
  },
  {
   "cell_type": "code",
   "execution_count": 18,
   "metadata": {},
   "outputs": [
    {
     "data": {
      "application/vnd.jupyter.widget-view+json": {
       "model_id": "5c0a208c403b48f798a1616e15cae1cc",
       "version_major": 2,
       "version_minor": 0
      },
      "text/plain": [
       "FigureCanvasNbAgg()"
      ]
     },
     "metadata": {},
     "output_type": "display_data"
    },
    {
     "data": {
      "text/plain": [
       "[<matplotlib.lines.Line2D at 0x1c1f9f6860>]"
      ]
     },
     "execution_count": 18,
     "metadata": {},
     "output_type": "execute_result"
    }
   ],
   "source": [
    "plt.figure(figsize=(7.5,4))\n",
    "plt.plot(df_all_int.index,df_all_int['u_super'])\n",
    "plt.plot(df_all_int.index,df_all_int['v_super'])"
   ]
  },
  {
   "cell_type": "code",
   "execution_count": 19,
   "metadata": {},
   "outputs": [
    {
     "data": {
      "application/vnd.jupyter.widget-view+json": {
       "model_id": "468586e2dc804e1bbb5fe6d372183742",
       "version_major": 2,
       "version_minor": 0
      },
      "text/plain": [
       "FigureCanvasNbAgg()"
      ]
     },
     "metadata": {},
     "output_type": "display_data"
    }
   ],
   "source": [
    "t1p = np.datetime64('2016-12-01')\n",
    "t2p = np.datetime64('2017-12-01')\n",
    "\n",
    "t1b = np.datetime64('2017-04-21')\n",
    "t2b = np.datetime64('2017-05-11')\n",
    "\n",
    "plt.figure(figsize=(8,6))\n",
    "plt.subplot(211)\n",
    "h1 = plt.plot(df_sub.index,df_sub['v_f'],'-',color='gray')\n",
    "h2 = plt.plot(df_sub.index,df_sub['u_f'],'k-')\n",
    "plt.ylim([-0.06,0.06])\n",
    "plt.xlim([t1p,t2p])\n",
    "yl = plt.ylim()\n",
    "plt.plot([t1b,t1b],yl,'k--')\n",
    "plt.plot([t2b,t2b],yl,'k--')\n",
    "xl = plt.xlim()\n",
    "yl = plt.ylim()\n",
    "plt.text(xl[0]+0.01*np.diff(xl),yl[1]-0.1*np.diff(yl),'a)')\n",
    "plt.ylabel('[m/s]')\n",
    "plt.title('Benthic rover\\nlow-pass filtered velocity - $u_{l}$,$v_{l}$')\n",
    "plt.legend((h2[0],h1[0]),['u','v'],loc='lower left')\n",
    "\n",
    "plt.subplot(212)\n",
    "plt.plot(df_sub.index,df_sub['v_super'],color='gray')\n",
    "plt.plot(df_sub.index,df_sub['u_super'],color='k')\n",
    "plt.ylim([-0.06,0.06])\n",
    "plt.xlim([t1b,t2b])\n",
    "monthyearFmt = mdates.DateFormatter('%B %d')\n",
    "plt.gca().xaxis.set_major_formatter(monthyearFmt)\n",
    "xl = plt.xlim()\n",
    "yl = plt.ylim()\n",
    "plt.text(xl[0]+0.01*np.diff(xl),yl[1]-0.1*np.diff(yl),'b)')\n",
    "plt.ylabel('[m/s]')\n",
    "plt.title('high-pass filtered velocity, coherent tidal motions removed - $u_{hn}$,$v_{hn}$')\n",
    "plt.tight_layout()\n",
    "\n",
    "plt.savefig('figures_paper/rover_tseries_examples.png',dpi=600)\n",
    "plt.savefig('figures_paper/rover_tseries_examples.pdf')"
   ]
  },
  {
   "cell_type": "markdown",
   "metadata": {},
   "source": [
    "### Spectral analysis"
   ]
  },
  {
   "cell_type": "code",
   "execution_count": 20,
   "metadata": {},
   "outputs": [],
   "source": [
    "u = np.array(df_sub['u'])\n",
    "v = np.array(df_sub['v'])\n",
    "\n",
    "u_detide = np.array(df_sub['u_detide'])\n",
    "v_detide = np.array(df_sub['v_detide'])\n",
    "\n",
    "\n",
    "N = len(u)\n",
    "fu,Su = welch(u,fs=24.,nperseg=N/3,window='hanning')\n",
    "fv,Sv = welch(v,fs=24.,nperseg=N/3,window='hanning')\n",
    "\n",
    "fud,Sud = welch(u_detide,fs=24.,nperseg=N/3,window='hanning')\n",
    "fvd,Svd = welch(v_detide,fs=24.,nperseg=N/3,window='hanning')"
   ]
  },
  {
   "cell_type": "code",
   "execution_count": 21,
   "metadata": {},
   "outputs": [
    {
     "data": {
      "application/vnd.jupyter.widget-view+json": {
       "model_id": "62d9969c50a5487684563808e375363a",
       "version_major": 2,
       "version_minor": 0
      },
      "text/plain": [
       "FigureCanvasNbAgg()"
      ]
     },
     "metadata": {},
     "output_type": "display_data"
    }
   ],
   "source": [
    "# fmax = 1/2\n",
    "# fi, = np.where(fu <= fmax)\n",
    "\n",
    "plt.figure()\n",
    "plt.loglog(fu,Su,'k-')\n",
    "plt.loglog(fv,Sv,'-',color='gray')\n",
    "xl = plt.xlim()\n",
    "plt.xlim(xl[0],np.max(fu))\n",
    "\n",
    "# confidence intervals\n",
    "dof = 6\n",
    "edof = (8/3)*dof\n",
    "lower = edof/chi2.ppf(0.975,edof)\n",
    "upper = edof/chi2.ppf(0.025,edof)\n",
    "fplot = 5\n",
    "fac = 0.0008\n",
    "plt.plot(np.array([fplot,fplot]),fac*np.array([lower,upper]),'k-')\n",
    "plt.text(fplot+0.5,fac*np.mean([lower,upper]),'95%',verticalalignment='center')\n",
    "\n",
    "plt.legend(['u','v'])\n",
    "plt.xlabel('frequency [cpd]')\n",
    "plt.ylabel('[m$^2$ s$^{-2}$ cpd$^{-1}$]')\n",
    "plt.title('Benthic Rover\\nNov 2015-Oct 2018')\n",
    "\n",
    "plt.savefig('figures_paper/rover_spectrum.png')\n",
    "plt.savefig('figures_paper/rover_spectrum.pdf')"
   ]
  },
  {
   "cell_type": "code",
   "execution_count": 22,
   "metadata": {},
   "outputs": [
    {
     "data": {
      "application/vnd.jupyter.widget-view+json": {
       "model_id": "9a581bc700e946c3ac8d8572e45d5b2a",
       "version_major": 2,
       "version_minor": 0
      },
      "text/plain": [
       "FigureCanvasNbAgg()"
      ]
     },
     "metadata": {},
     "output_type": "display_data"
    },
    {
     "data": {
      "text/plain": [
       "Text(0.5, 1.0, 'Benthic Rover\\nNov 2015-Oct 2018')"
      ]
     },
     "execution_count": 22,
     "metadata": {},
     "output_type": "execute_result"
    }
   ],
   "source": [
    "# fmax = 1/2\n",
    "# fi, = np.where(fu <= fmax)\n",
    "\n",
    "plt.figure()\n",
    "plt.loglog(fu,Su,'k-')\n",
    "plt.loglog(fud,Sud,'-',color='r')\n",
    "xl = plt.xlim()\n",
    "plt.xlim(xl[0],np.max(fu))\n",
    "\n",
    "# confidence intervals\n",
    "dof = 6\n",
    "edof = (8/3)*dof\n",
    "lower = edof/chi2.ppf(0.975,edof)\n",
    "upper = edof/chi2.ppf(0.025,edof)\n",
    "fplot = 5\n",
    "fac = 0.0008\n",
    "plt.plot(np.array([fplot,fplot]),fac*np.array([lower,upper]),'k-')\n",
    "plt.text(fplot+0.5,fac*np.mean([lower,upper]),'95%',verticalalignment='center')\n",
    "\n",
    "plt.legend(['u','v'])\n",
    "plt.xlabel('frequency [cpd]')\n",
    "plt.ylabel('[m$^2$ s$^{-2}$ cpd$^{-1}$]')\n",
    "plt.title('Benthic Rover\\nNov 2015-Oct 2018')\n",
    "\n",
    "# plt.savefig('figures_paper/rover_spectrum.png')\n",
    "# plt.savefig('figures_paper/rover_spectrum.pdf')"
   ]
  },
  {
   "cell_type": "markdown",
   "metadata": {},
   "source": [
    "### Lomb-Scargle periodogram - 2014 to 2018"
   ]
  },
  {
   "cell_type": "code",
   "execution_count": 23,
   "metadata": {},
   "outputs": [],
   "source": [
    "gi, = np.where(np.isfinite(df_all['u']+df_all['v']))\n",
    "ua = np.array(df_all['u'][gi])\n",
    "va = np.array(df_all['v'][gi])\n",
    "\n",
    "#rotary spectrum\n",
    "fua,ftua,Sua = lombscargle(time[gi],ua,ofac=1,window='hanning',scaling='density')\n",
    "fva,ftva,Sva = lombscargle(time[gi],va,ofac=1,window='hanning',scaling='density')"
   ]
  },
  {
   "cell_type": "code",
   "execution_count": 24,
   "metadata": {},
   "outputs": [],
   "source": [
    "# average frequency bands\n",
    "navg = 2 # number of frequency bands to average\n",
    "nfreq = int(np.floor(len(fua)/navg))  # number of freqencies in averaged spectrum\n",
    "\n",
    "fwt = 1/navg\n",
    "fm = np.zeros(nfreq)\n",
    "Sum = np.zeros(nfreq)\n",
    "Svm = np.zeros(nfreq)\n",
    "for k in range(navg):\n",
    "    fm = fm + fwt*fua[1:(nfreq*navg)][::navg]\n",
    "    Sum = Sum + fwt*Sua[1:(nfreq*navg)][::navg]\n",
    "    Svm = Svm + fwt*Sva[1:(nfreq*navg)][::navg]"
   ]
  },
  {
   "cell_type": "code",
   "execution_count": 25,
   "metadata": {},
   "outputs": [
    {
     "data": {
      "text/plain": [
       "array([3.49997163e-04, 2.22530111e-03, 1.92575183e-03, ...,\n",
       "       4.81409249e-06, 1.48315243e-07, 2.90089730e-07])"
      ]
     },
     "execution_count": 25,
     "metadata": {},
     "output_type": "execute_result"
    }
   ],
   "source": [
    "Sum"
   ]
  },
  {
   "cell_type": "code",
   "execution_count": 26,
   "metadata": {},
   "outputs": [
    {
     "data": {
      "application/vnd.jupyter.widget-view+json": {
       "model_id": "78029c18c74e4deba10c486e2f7f0c52",
       "version_major": 2,
       "version_minor": 0
      },
      "text/plain": [
       "FigureCanvasNbAgg()"
      ]
     },
     "metadata": {},
     "output_type": "display_data"
    },
    {
     "data": {
      "text/plain": [
       "Text(0.5, 1.0, 'Lomb-Scargle periodogram [Rover]')"
      ]
     },
     "execution_count": 26,
     "metadata": {},
     "output_type": "execute_result"
    }
   ],
   "source": [
    "plt.figure()\n",
    "plt.loglog(fua,Sua)\n",
    "plt.loglog(fva,Sva,'--')\n",
    "plt.xlabel('frequency [cpd]')\n",
    "plt.ylabel('[m$^2$ s$^{-2}$ cpd$^{-1}$]')\n",
    "plt.title('Lomb-Scargle periodogram [Rover]')"
   ]
  },
  {
   "cell_type": "code",
   "execution_count": 27,
   "metadata": {},
   "outputs": [],
   "source": [
    "df_all_1M = df_all_int.rolling(24*30,min_periods=24*30,center=True).mean()\n",
    "df_all_2M = df_all_int.rolling(24*60,min_periods=24*60,center=True).mean()\n",
    "df_all_3M = df_all_int.rolling(24*90,min_periods=24*90,center=True).mean()"
   ]
  },
  {
   "cell_type": "code",
   "execution_count": 28,
   "metadata": {},
   "outputs": [],
   "source": [
    "df_all_3M_mon = df_all_3M.resample('1M').last()\n",
    "df_all_2M_mon = df_all_2M.resample('1M').last()\n",
    "df_all_1M_mon = df_all_1M.resample('1M').last()"
   ]
  },
  {
   "cell_type": "code",
   "execution_count": 29,
   "metadata": {},
   "outputs": [],
   "source": [
    "df_all_1Mstd = df_all_int.rolling(24*30,min_periods=24*30,center=True).std()\n",
    "df_all_2Mstd = df_all_int.rolling(24*60,min_periods=24*60,center=True).std()\n",
    "df_all_3Mstd = df_all_int.rolling(24*90,min_periods=24*90,center=True).std()"
   ]
  },
  {
   "cell_type": "code",
   "execution_count": 30,
   "metadata": {},
   "outputs": [],
   "source": [
    "df_all_3Mstd_mon = df_all_3Mstd.resample('1M').last()\n",
    "df_all_2Mstd_mon = df_all_2Mstd.resample('1M').last()\n",
    "df_all_1Mstd_mon = df_all_1Mstd.resample('1M').last()"
   ]
  },
  {
   "cell_type": "code",
   "execution_count": 31,
   "metadata": {},
   "outputs": [
    {
     "data": {
      "application/vnd.jupyter.widget-view+json": {
       "model_id": "e619017ee5ba4926a9e042ef362f98b7",
       "version_major": 2,
       "version_minor": 0
      },
      "text/plain": [
       "FigureCanvasNbAgg()"
      ]
     },
     "metadata": {},
     "output_type": "display_data"
    }
   ],
   "source": [
    "plt.figure(figsize=(6.5,6.5))\n",
    "plt.subplot(311)\n",
    "plt.plot(df_all_2M_mon.index.month,df_all_2M_mon['u_f'],'ko')\n",
    "plt.plot(df_all_2M_mon.index.month,df_all_2M_mon['v_f'],'^',color='gray')\n",
    "plt.ylim([-0.011,0.011])\n",
    "plt.ylabel('[m/s]')\n",
    "xl = plt.xlim()\n",
    "yl = plt.ylim()\n",
    "plt.text(xl[0]+0.005*np.diff(xl),yl[1]-0.1*np.diff(yl),'a)')\n",
    "plt.gca().set_xticks(np.arange(1,13))\n",
    "plt.gca().set_xticklabels([])\n",
    "plt.legend(['$u$','$v$'],loc=(0.6,0.7))\n",
    "plt.title('60-day mean $u$, $v$ velocity components')\n",
    "\n",
    "plt.subplot(312)\n",
    "plt.plot(df_all_2Mstd_mon.index.month,df_all_2Mstd_mon['u_f'],'ko')\n",
    "plt.ylim([0,0.022])\n",
    "plt.ylabel('[m/s]')\n",
    "xl = plt.xlim()\n",
    "yl = plt.ylim()\n",
    "plt.text(xl[0]+0.005*np.diff(xl),yl[1]-0.1*np.diff(yl),'b)')\n",
    "plt.gca().set_xticks(np.arange(1,13))\n",
    "plt.gca().set_xticklabels([])\n",
    "plt.title('60-day standard deviation - $u_{l}$')\n",
    "\n",
    "plt.subplot(313)\n",
    "plt.plot(df_all_2Mstd_mon.index.month,df_all_2Mstd_mon['u_super'],'ko')\n",
    "plt.ylim([0,0.022])\n",
    "plt.ylabel('[m/s]')\n",
    "xl = plt.xlim()\n",
    "yl = plt.ylim()\n",
    "plt.text(xl[0]+0.005*np.diff(xl),yl[1]-0.1*np.diff(yl),'c)')\n",
    "plt.gca().set_xticks(np.arange(1,13))\n",
    "plt.gca().set_xticklabels(['Jan','Feb','Mar','Apr','May','Jun','Jul','Aug','Sep','Oct','Nov','Dec'])\n",
    "plt.title('60-day standard deviation - $u_{hn}$')\n",
    "plt.tight_layout()\n",
    "\n",
    "plt.savefig('figures_paper/monthly_stats.png',dpi=600)\n",
    "plt.savefig('figures_paper/monthly_stats.pdf')"
   ]
  },
  {
   "cell_type": "code",
   "execution_count": 32,
   "metadata": {},
   "outputs": [],
   "source": [
    "fi = np.isfinite(df_all_2Mstd_mon['u_f'])"
   ]
  },
  {
   "cell_type": "code",
   "execution_count": 33,
   "metadata": {},
   "outputs": [],
   "source": [
    "MultiComp = MultiComparison(df_all_2Mstd_mon['u_f'][fi],\n",
    "                            df_all_2Mstd_mon.index.month[fi])"
   ]
  },
  {
   "cell_type": "code",
   "execution_count": 34,
   "metadata": {},
   "outputs": [],
   "source": [
    "u_f_win = df_all_2Mstd_mon['u_f'][(df_all_2Mstd_mon.index.month == 2) & (np.isfinite(df_all_2Mstd_mon['u_f']))]\n",
    "u_f_sum = df_all_2Mstd_mon['u_f'][(df_all_2Mstd_mon.index.month == 7) & (np.isfinite(df_all_2Mstd_mon['u_f']))]"
   ]
  },
  {
   "cell_type": "code",
   "execution_count": 35,
   "metadata": {},
   "outputs": [
    {
     "data": {
      "text/plain": [
       "Date_time_R\n",
       "2016-07-31    0.016718\n",
       "2017-07-31    0.016963\n",
       "2018-07-31    0.006216\n",
       "Name: u_f, dtype: float64"
      ]
     },
     "execution_count": 35,
     "metadata": {},
     "output_type": "execute_result"
    }
   ],
   "source": [
    "u_f_sum"
   ]
  },
  {
   "cell_type": "code",
   "execution_count": 36,
   "metadata": {},
   "outputs": [
    {
     "data": {
      "text/plain": [
       "Date_time_R\n",
       "2015-02-28    0.004456\n",
       "2016-02-29    0.007892\n",
       "2017-02-28    0.006333\n",
       "2018-02-28    0.005381\n",
       "Name: u_f, dtype: float64"
      ]
     },
     "execution_count": 36,
     "metadata": {},
     "output_type": "execute_result"
    }
   ],
   "source": [
    "u_f_win"
   ]
  },
  {
   "cell_type": "code",
   "execution_count": 37,
   "metadata": {},
   "outputs": [
    {
     "data": {
      "text/plain": [
       "Ttest_indResult(statistic=-2.013460692251151, pvalue=0.1714616319010853)"
      ]
     },
     "execution_count": 37,
     "metadata": {},
     "output_type": "execute_result"
    }
   ],
   "source": [
    "from scipy import stats\n",
    "stats.ttest_ind(u_f_win,u_f_sum,equal_var=False)"
   ]
  },
  {
   "cell_type": "code",
   "execution_count": 38,
   "metadata": {},
   "outputs": [
    {
     "data": {
      "text/plain": [
       "Int64Index([11, 12,  1,  2,  3,  4,  5, 12,  1,  2,  3,  4,  5,  6,  7,  8,  9,\n",
       "            10, 11, 12,  1,  2,  3,  4,  5,  6,  7,  8,  9, 10, 11, 12,  1,  2,\n",
       "             3,  4,  5,  6,  7,  8,  9],\n",
       "           dtype='int64', name='Date_time_R')"
      ]
     },
     "execution_count": 38,
     "metadata": {},
     "output_type": "execute_result"
    }
   ],
   "source": [
    "df_all_2Mstd_mon.index.month[fi]"
   ]
  },
  {
   "cell_type": "code",
   "execution_count": 39,
   "metadata": {},
   "outputs": [
    {
     "name": "stdout",
     "output_type": "stream",
     "text": [
      "Multiple Comparison of Means - Tukey HSD,FWER=0.05\n",
      "============================================\n",
      "group1 group2 meandiff  lower  upper  reject\n",
      "--------------------------------------------\n",
      "  1      2     0.0005  -0.0106 0.0115 False \n",
      "  1      3     0.0016  -0.0095 0.0127 False \n",
      "  1      4     0.0016  -0.0095 0.0127 False \n",
      "  1      5     0.0028  -0.0083 0.0139 False \n",
      "  1      6     0.0072  -0.0048 0.0192 False \n",
      "  1      7     0.0077  -0.0042 0.0197 False \n",
      "  1      8     0.007    -0.005 0.019  False \n",
      "  1      9     0.0065  -0.0055 0.0184 False \n",
      "  1      10    0.0056  -0.0079 0.0192 False \n",
      "  1      11    0.0031  -0.0089 0.0151 False \n",
      "  1      12    0.0025  -0.0086 0.0136 False \n",
      "  2      3     0.0012  -0.0099 0.0122 False \n",
      "  2      4     0.0011   -0.01  0.0122 False \n",
      "  2      5     0.0023  -0.0087 0.0134 False \n",
      "  2      6     0.0067  -0.0052 0.0187 False \n",
      "  2      7     0.0073  -0.0047 0.0192 False \n",
      "  2      8     0.0065  -0.0054 0.0185 False \n",
      "  2      9     0.006    -0.006 0.018  False \n",
      "  2      10    0.0052  -0.0084 0.0188 False \n",
      "  2      11    0.0026  -0.0093 0.0146 False \n",
      "  2      12    0.002   -0.0091 0.0131 False \n",
      "  3      4      -0.0   -0.0111 0.011  False \n",
      "  3      5     0.0012  -0.0099 0.0123 False \n",
      "  3      6     0.0056  -0.0064 0.0175 False \n",
      "  3      7     0.0061  -0.0058 0.0181 False \n",
      "  3      8     0.0054  -0.0066 0.0173 False \n",
      "  3      9     0.0048  -0.0071 0.0168 False \n",
      "  3      10    0.004   -0.0095 0.0176 False \n",
      "  3      11    0.0015  -0.0105 0.0134 False \n",
      "  3      12    0.0009  -0.0102 0.0119 False \n",
      "  4      5     0.0012  -0.0099 0.0123 False \n",
      "  4      6     0.0056  -0.0064 0.0176 False \n",
      "  4      7     0.0062  -0.0058 0.0181 False \n",
      "  4      8     0.0054  -0.0066 0.0174 False \n",
      "  4      9     0.0049  -0.0071 0.0168 False \n",
      "  4      10    0.0041  -0.0095 0.0176 False \n",
      "  4      11    0.0015  -0.0105 0.0135 False \n",
      "  4      12    0.0009  -0.0102 0.012  False \n",
      "  5      6     0.0044  -0.0076 0.0164 False \n",
      "  5      7     0.005    -0.007 0.0169 False \n",
      "  5      8     0.0042  -0.0078 0.0162 False \n",
      "  5      9     0.0037  -0.0083 0.0156 False \n",
      "  5      10    0.0029  -0.0107 0.0164 False \n",
      "  5      11    0.0003  -0.0117 0.0123 False \n",
      "  5      12   -0.0003  -0.0114 0.0108 False \n",
      "  6      7     0.0005  -0.0122 0.0133 False \n",
      "  6      8    -0.0002   -0.013 0.0126 False \n",
      "  6      9    -0.0007  -0.0135 0.0121 False \n",
      "  6      10   -0.0015  -0.0158 0.0128 False \n",
      "  6      11   -0.0041  -0.0169 0.0087 False \n",
      "  6      12   -0.0047  -0.0167 0.0073 False \n",
      "  7      8    -0.0008  -0.0135 0.012  False \n",
      "  7      9    -0.0013  -0.0141 0.0115 False \n",
      "  7      10   -0.0021  -0.0164 0.0122 False \n",
      "  7      11   -0.0047  -0.0174 0.0081 False \n",
      "  7      12   -0.0053  -0.0172 0.0067 False \n",
      "  8      9    -0.0005  -0.0133 0.0123 False \n",
      "  8      10   -0.0013  -0.0156 0.013  False \n",
      "  8      11   -0.0039  -0.0167 0.0089 False \n",
      "  8      12   -0.0045  -0.0165 0.0075 False \n",
      "  9      10   -0.0008  -0.0151 0.0135 False \n",
      "  9      11   -0.0034  -0.0162 0.0094 False \n",
      "  9      12    -0.004  -0.0159 0.008  False \n",
      "  10     11   -0.0026  -0.0169 0.0117 False \n",
      "  10     12   -0.0032  -0.0167 0.0104 False \n",
      "  11     12   -0.0006  -0.0126 0.0114 False \n",
      "--------------------------------------------\n"
     ]
    }
   ],
   "source": [
    "print(MultiComp.tukeyhsd(0.05).summary())"
   ]
  },
  {
   "cell_type": "code",
   "execution_count": 40,
   "metadata": {},
   "outputs": [],
   "source": [
    "MultiComp_std = MultiComparison(df_all_2Mstd_mon['u_f'][fi],\n",
    "                            df_all_2Mstd_mon.index.month[fi])"
   ]
  },
  {
   "cell_type": "code",
   "execution_count": 41,
   "metadata": {},
   "outputs": [
    {
     "data": {
      "application/vnd.jupyter.widget-view+json": {
       "model_id": "20a58560de884fdab55eb79a8869d874",
       "version_major": 2,
       "version_minor": 0
      },
      "text/plain": [
       "FigureCanvasNbAgg()"
      ]
     },
     "metadata": {},
     "output_type": "display_data"
    }
   ],
   "source": [
    "plt.figure(figsize=(7,8))\n",
    "plt.subplot(311)\n",
    "plt.plot(df_all_2M.index,df_all_2M['u_f'],'k-')\n",
    "plt.plot(df_all_2M.index,df_all_2M['v_f'],'--',color='gray')\n",
    "plt.title('60-day running mean')\n",
    "plt.ylim([-0.011,0.011])\n",
    "plt.ylabel('[m/s]')\n",
    "plt.gca().set_xticklabels([])\n",
    "yl = plt.ylim()\n",
    "xl = plt.xlim()\n",
    "plt.text(xl[0]+0.01*np.diff(xl),yl[1]-0.1*np.diff(yl),'a)')\n",
    "plt.legend(['$u$','$v$'])\n",
    "\n",
    "plt.subplot(312)\n",
    "hl = plt.plot(df_all_2Mstd.index,df_all_2Mstd['u_f'],'k-')\n",
    "hh = plt.plot(df_all_2Mstd.index,df_all_2Mstd['u_super'],'-',color='darkgray',lw=2)\n",
    "ht = plt.plot(df_all_2Mstd.index,df_all_2Mstd['u_tide'],'-',color='lightgray')\n",
    "plt.gca().set_xticklabels([])\n",
    "yl = plt.ylim()\n",
    "plt.ylim([0,yl[1]])\n",
    "plt.ylabel('[m/s]')\n",
    "plt.title('60-day running standard deviation - $u$')\n",
    "yl = plt.ylim()\n",
    "xl = plt.xlim()\n",
    "plt.text(xl[0]+0.01*np.diff(xl),yl[1]-0.1*np.diff(yl),'b)')\n",
    "plt.legend([hl[0],ht[0],hh[0]],['$u_{l}$','$u_{hct}$','$u_{hn}$'])\n",
    "\n",
    "plt.subplot(313)\n",
    "plt.plot(df_all_2Mstd.index,df_all_2Mstd['v_f'],'k-')\n",
    "plt.plot(df_all_2Mstd.index,df_all_2Mstd['v_super'],'-',color='darkgray',lw=2)\n",
    "plt.plot(df_all_2Mstd.index,df_all_2Mstd['v_tide'],'-',color='lightgray')\n",
    "plt.xticks(rotation=30)\n",
    "plt.ylim([0,yl[1]])\n",
    "plt.title('60-day running standard deviation - $v$')\n",
    "plt.ylabel('[m/s]')\n",
    "plt.tight_layout()\n",
    "yl = plt.ylim()\n",
    "xl = plt.xlim()\n",
    "plt.text(xl[0]+0.01*np.diff(xl),yl[1]-0.1*np.diff(yl),'c)')\n",
    "\n",
    "plt.savefig('figures_paper/runnning_stats.png',dpi=600)\n",
    "plt.savefig('figures_paper/runnning_stats.pdf')"
   ]
  },
  {
   "cell_type": "code",
   "execution_count": 42,
   "metadata": {},
   "outputs": [
    {
     "data": {
      "application/vnd.jupyter.widget-view+json": {
       "model_id": "d678282c692b49b9bea670532504f208",
       "version_major": 2,
       "version_minor": 0
      },
      "text/plain": [
       "FigureCanvasNbAgg()"
      ]
     },
     "metadata": {},
     "output_type": "display_data"
    },
    {
     "data": {
      "text/plain": [
       "Text(0.5, 1.0, 'rolling means')"
      ]
     },
     "execution_count": 42,
     "metadata": {},
     "output_type": "execute_result"
    }
   ],
   "source": [
    "plt.figure()\n",
    "plt.plot(df_all_1M.index,df_all_1M['u_f'])\n",
    "plt.plot(df_all_2M.index,df_all_2M['u_f'])\n",
    "plt.plot(df_all_3M.index,df_all_3M['u_f'])\n",
    "plt.legend(['1M','2M','3M'])\n",
    "plt.title('rolling means')"
   ]
  },
  {
   "cell_type": "code",
   "execution_count": 43,
   "metadata": {},
   "outputs": [
    {
     "data": {
      "application/vnd.jupyter.widget-view+json": {
       "model_id": "e02e731b0f2c4710a5f3a014d24a31fb",
       "version_major": 2,
       "version_minor": 0
      },
      "text/plain": [
       "FigureCanvasNbAgg()"
      ]
     },
     "metadata": {},
     "output_type": "display_data"
    },
    {
     "data": {
      "text/plain": [
       "[<matplotlib.lines.Line2D at 0x1c1ffc1b00>]"
      ]
     },
     "execution_count": 43,
     "metadata": {},
     "output_type": "execute_result"
    }
   ],
   "source": [
    "plt.figure()\n",
    "plt.plot(df_all_3Mstd_mon.index,df_all_3Mstd_mon['u_f'])\n",
    "plt.plot(df_all_3Mstd_mon.index,df_all_3Mstd_mon['u_super'])\n",
    "plt.plot(df_all_3Mstd_mon.index,df_all_3Mstd_mon['u_tide'])"
   ]
  },
  {
   "cell_type": "code",
   "execution_count": 44,
   "metadata": {},
   "outputs": [
    {
     "data": {
      "application/vnd.jupyter.widget-view+json": {
       "model_id": "dadc33febaf2497680f6642d1743821e",
       "version_major": 2,
       "version_minor": 0
      },
      "text/plain": [
       "FigureCanvasNbAgg()"
      ]
     },
     "metadata": {},
     "output_type": "display_data"
    },
    {
     "data": {
      "text/plain": [
       "[<matplotlib.lines.Line2D at 0x1c201f00b8>]"
      ]
     },
     "execution_count": 44,
     "metadata": {},
     "output_type": "execute_result"
    }
   ],
   "source": [
    "plt.figure()\n",
    "plt.plot(df_all_2Mstd_mon.index,df_all_2Mstd_mon['u_f'])\n",
    "plt.plot(df_all_2Mstd_mon.index,df_all_2Mstd_mon['u_super'])\n",
    "plt.plot(df_all_2Mstd_mon.index,df_all_2Mstd_mon['u_tide'])"
   ]
  },
  {
   "cell_type": "code",
   "execution_count": 45,
   "metadata": {},
   "outputs": [
    {
     "data": {
      "application/vnd.jupyter.widget-view+json": {
       "model_id": "46347f7e73d74ac8bf6e46dfc0994685",
       "version_major": 2,
       "version_minor": 0
      },
      "text/plain": [
       "FigureCanvasNbAgg()"
      ]
     },
     "metadata": {},
     "output_type": "display_data"
    },
    {
     "data": {
      "text/plain": [
       "[<matplotlib.lines.Line2D at 0x1c202a3cf8>]"
      ]
     },
     "execution_count": 45,
     "metadata": {},
     "output_type": "execute_result"
    }
   ],
   "source": [
    "plt.figure()\n",
    "plt.plot(df_all_3M.index,df_all_3M['u_f'])\n",
    "plt.plot(df_all_3M_mon.index,df_all_3M_mon['u_f'])\n",
    "plt.plot(df_all_2M_mon.index,df_all_2M_mon['u_f'])"
   ]
  },
  {
   "cell_type": "code",
   "execution_count": 46,
   "metadata": {},
   "outputs": [
    {
     "data": {
      "application/vnd.jupyter.widget-view+json": {
       "model_id": "9f42e62e48f943b8a9057bbccfd010ca",
       "version_major": 2,
       "version_minor": 0
      },
      "text/plain": [
       "FigureCanvasNbAgg()"
      ]
     },
     "metadata": {},
     "output_type": "display_data"
    },
    {
     "data": {
      "text/plain": [
       "[<matplotlib.lines.Line2D at 0x10a5ce6d8>]"
      ]
     },
     "execution_count": 46,
     "metadata": {},
     "output_type": "execute_result"
    }
   ],
   "source": [
    "plt.figure()\n",
    "plt.plot(df_all_3M_mon['u_f'],df_all_2M_mon['u_f'],'.')"
   ]
  },
  {
   "cell_type": "code",
   "execution_count": 68,
   "metadata": {},
   "outputs": [
    {
     "name": "stderr",
     "output_type": "stream",
     "text": [
      "/Users/tomconnolly/programs/anaconda/envs/py37/lib/python3.7/site-packages/matplotlib/pyplot.py:514: RuntimeWarning: More than 20 figures have been opened. Figures created through the pyplot interface (`matplotlib.pyplot.figure`) are retained until explicitly closed and may consume too much memory. (To control this warning, see the rcParam `figure.max_open_warning`).\n",
      "  max_open_warning, RuntimeWarning)\n"
     ]
    },
    {
     "data": {
      "application/vnd.jupyter.widget-view+json": {
       "model_id": "41e5b07ce0034bfc92a20e228e129639",
       "version_major": 2,
       "version_minor": 0
      },
      "text/plain": [
       "FigureCanvasNbAgg()"
      ]
     },
     "metadata": {},
     "output_type": "display_data"
    },
    {
     "data": {
      "text/plain": [
       "Text(0.5, 1.0, 'rolling means')"
      ]
     },
     "execution_count": 68,
     "metadata": {},
     "output_type": "execute_result"
    }
   ],
   "source": [
    "plt.figure()\n",
    "plt.plot(df_all_1M.index,df_all_1M['u_f'])\n",
    "plt.plot(df_all_2M.index,df_all_2M['u_f'])\n",
    "plt.plot(df_all_3M.index,df_all_3M['u_f'])\n",
    "plt.legend(['1M','2M','3M'])\n",
    "plt.title('rolling means')"
   ]
  },
  {
   "cell_type": "code",
   "execution_count": 78,
   "metadata": {},
   "outputs": [],
   "source": [
    "taux,tauy = bottomstress(np.array(df_all['u']),np.array(df_all['v']),1.5,zo=0.003)"
   ]
  },
  {
   "cell_type": "code",
   "execution_count": 79,
   "metadata": {},
   "outputs": [],
   "source": [
    "taumag = np.sqrt(taux**2 + tauy**2)"
   ]
  },
  {
   "cell_type": "code",
   "execution_count": 80,
   "metadata": {},
   "outputs": [],
   "source": [
    "ustar = np.sqrt(taumag/1025)"
   ]
  },
  {
   "cell_type": "code",
   "execution_count": 81,
   "metadata": {},
   "outputs": [],
   "source": [
    "tim, = np.where(ustar == np.nanmax(ustar))"
   ]
  },
  {
   "cell_type": "code",
   "execution_count": 82,
   "metadata": {},
   "outputs": [
    {
     "data": {
      "text/plain": [
       "DatetimeIndex(['2017-05-27 23:00:00'], dtype='datetime64[ns]', name='Date_time_R', freq=None)"
      ]
     },
     "execution_count": 82,
     "metadata": {},
     "output_type": "execute_result"
    }
   ],
   "source": [
    "df_all.index[tim]"
   ]
  },
  {
   "cell_type": "code",
   "execution_count": 83,
   "metadata": {},
   "outputs": [
    {
     "data": {
      "text/plain": [
       "0.001348534707948972"
      ]
     },
     "execution_count": 83,
     "metadata": {},
     "output_type": "execute_result"
    }
   ],
   "source": [
    "np.nanmean(ustar)"
   ]
  },
  {
   "cell_type": "code",
   "execution_count": 84,
   "metadata": {},
   "outputs": [
    {
     "data": {
      "text/plain": [
       "0.006472109202191729"
      ]
     },
     "execution_count": 84,
     "metadata": {},
     "output_type": "execute_result"
    }
   ],
   "source": [
    "np.nanmax(ustar)"
   ]
  },
  {
   "cell_type": "code",
   "execution_count": 76,
   "metadata": {},
   "outputs": [
    {
     "data": {
      "text/plain": [
       "(array([6.4940e+03, 1.0885e+04, 7.1610e+03, 4.0540e+03, 1.7330e+03,\n",
       "        6.2700e+02, 2.0000e+02, 7.1000e+01, 9.0000e+00, 5.0000e+00]),\n",
       " array([4.71740858e-06, 6.58722409e-04, 1.31272741e-03, 1.96673241e-03,\n",
       "        2.62073741e-03, 3.27474241e-03, 3.92874741e-03, 4.58275241e-03,\n",
       "        5.23675741e-03, 5.89076241e-03, 6.54476741e-03]),\n",
       " <a list of 10 Patch objects>)"
      ]
     },
     "execution_count": 76,
     "metadata": {},
     "output_type": "execute_result"
    }
   ],
   "source": [
    "plt.hist(ustar[np.isfinite(ustar)])"
   ]
  },
  {
   "cell_type": "code",
   "execution_count": 77,
   "metadata": {},
   "outputs": [
    {
     "name": "stderr",
     "output_type": "stream",
     "text": [
      "/Users/tomconnolly/programs/anaconda/envs/py37/lib/python3.7/site-packages/matplotlib/pyplot.py:514: RuntimeWarning: More than 20 figures have been opened. Figures created through the pyplot interface (`matplotlib.pyplot.figure`) are retained until explicitly closed and may consume too much memory. (To control this warning, see the rcParam `figure.max_open_warning`).\n",
      "  max_open_warning, RuntimeWarning)\n"
     ]
    },
    {
     "data": {
      "application/vnd.jupyter.widget-view+json": {
       "model_id": "966593f1dd7a4414bde424560e9daf6c",
       "version_major": 2,
       "version_minor": 0
      },
      "text/plain": [
       "FigureCanvasNbAgg()"
      ]
     },
     "metadata": {},
     "output_type": "display_data"
    },
    {
     "data": {
      "text/plain": [
       "(736644.0, 736674.0)"
      ]
     },
     "execution_count": 77,
     "metadata": {},
     "output_type": "execute_result"
    }
   ],
   "source": [
    "plt.figure()\n",
    "plt.plot(df_all.index,ustar)\n",
    "plt.xlim([np.datetime64('2017-11-11'),np.datetime64('2017-12-11')])"
   ]
  },
  {
   "cell_type": "code",
   "execution_count": 86,
   "metadata": {},
   "outputs": [
    {
     "data": {
      "text/plain": [
       "0.008320000000000001"
      ]
     },
     "execution_count": 86,
     "metadata": {},
     "output_type": "execute_result"
    }
   ],
   "source": [
    "0.0064*1.3\n"
   ]
  },
  {
   "cell_type": "code",
   "execution_count": null,
   "metadata": {},
   "outputs": [],
   "source": []
  },
  {
   "cell_type": "code",
   "execution_count": null,
   "metadata": {},
   "outputs": [],
   "source": []
  }
 ],
 "metadata": {
  "kernelspec": {
   "display_name": "Python [conda env:py37]",
   "language": "python",
   "name": "conda-env-py37-py"
  },
  "language_info": {
   "codemirror_mode": {
    "name": "ipython",
    "version": 3
   },
   "file_extension": ".py",
   "mimetype": "text/x-python",
   "name": "python",
   "nbconvert_exporter": "python",
   "pygments_lexer": "ipython3",
   "version": "3.7.2"
  }
 },
 "nbformat": 4,
 "nbformat_minor": 2
}
