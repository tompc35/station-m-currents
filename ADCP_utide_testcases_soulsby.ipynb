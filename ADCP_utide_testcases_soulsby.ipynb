{
 "cells": [
  {
   "cell_type": "code",
   "execution_count": 2,
   "metadata": {},
   "outputs": [],
   "source": [
    "%matplotlib ipympl\n",
    "\n",
    "import numpy as np\n",
    "import xarray as xr\n",
    "import matplotlib.pyplot as plt\n",
    "import gsw\n",
    "from scipy.special import ker,kei"
   ]
  },
  {
   "cell_type": "code",
   "execution_count": 3,
   "metadata": {},
   "outputs": [],
   "source": [
    "dstide = xr.open_dataset('data/utide_results.nc')"
   ]
  },
  {
   "cell_type": "code",
   "execution_count": 4,
   "metadata": {},
   "outputs": [],
   "source": [
    "zi = np.arange(0,len(dstide['height'])-7)\n",
    "m2i, = np.where(dstide['constituent'] == 'M2')"
   ]
  },
  {
   "cell_type": "markdown",
   "metadata": {},
   "source": [
    "| Parameter                    | Soulsby (theory) | Codiga (UTide)           |\n",
    "|------------------------------|------------------|--------------------------|\n",
    "| major axis                   | $U_a$            | $L^{smaj}_q$             |\n",
    "| minor axis                   | $U_b$            | $L^{smin}_q$             |\n",
    "| complex anticlockwise vector | $R_+$            | $a^+_q$                  |\n",
    "| complex clockwise vector     | $R_-$            | $a^-_q$                  |\n",
    "| anticlockwise amplitude      | $|R_+|$          | $A^+_q$                  |\n",
    "| clockwise amplitude          | $|R_-|$          | $A^-_q$                  |\n",
    "| orientation angle            | $\\Phi$           | $\\theta_q$               |\n",
    "| phase lag                    | $\\phi$           | $g_q$                    |\n",
    "| anticlockwise phase          | $\\phi_+$         | $\\epsilon^+_q$, -$g^+_q$ |\n",
    "| clockwise phase              | $\\phi_-$         | $\\epsilon^-_q$, $g^-_q$  |"
   ]
  },
  {
   "cell_type": "code",
   "execution_count": 9,
   "metadata": {},
   "outputs": [],
   "source": [
    "i = 1j\n",
    "ap = 0.5*(dstide['Lsmaj']+dstide['Lsmin'])*np.exp(i*(dstide['theta']-dstide['g'])*np.pi/180)\n",
    "am = 0.5*(dstide['Lsmaj']-dstide['Lsmin'])*np.exp(i*(dstide['theta']+dstide['g'])*np.pi/180)\n",
    "Ap = np.abs(ap)\n",
    "Am = np.abs(am)\n",
    "epsilonp = np.angle(ap)*180/np.pi\n",
    "epsilonm = np.angle(am)*180/np.pi"
   ]
  },
  {
   "cell_type": "markdown",
   "metadata": {},
   "source": [
    "Test calculations (makes sure relationships in Equation 9 of Codiga 2011 are satisfied).\n",
    "All tests should be True."
   ]
  },
  {
   "cell_type": "code",
   "execution_count": 10,
   "metadata": {},
   "outputs": [
    {
     "name": "stdout",
     "output_type": "stream",
     "text": [
      "True\n",
      "True\n",
      "True\n"
     ]
    }
   ],
   "source": [
    "print(np.sum(~np.isclose(dstide['Lsmaj'],Ap + Am)) == 0)\n",
    "print(np.sum(~np.isclose(dstide['Lsmin'],Ap - Am)) == 0)\n",
    "print(np.sum(~(np.isclose(dstide['g'],-epsilonp + dstide['theta']) |\n",
    "            np.isclose(dstide['g'], -epsilonp + dstide['theta'] + 360))) == 0)"
   ]
  },
  {
   "cell_type": "code",
   "execution_count": 11,
   "metadata": {},
   "outputs": [],
   "source": [
    "z = np.arange(0.05,150,0.05)\n",
    "sigma = 1.4e-4\n",
    "f = 1.19e-4\n",
    "\n",
    "ustar = 0.0126\n",
    "zo = 0.0009\n",
    "\n",
    "\n",
    "def planetary_bbl_structure(ustar,zo,z,f):\n",
    "    '''\n",
    "    Calculate vertical structure of a planetary boundary layer (a.k.a.\n",
    "    bottom Ekman layer) following Soulsby (1983). The calculation assumes\n",
    "    that the eddy viscosity increases linearly with height.\n",
    "    '''\n",
    "\n",
    "    i = 1j \n",
    "    kappa = 0.41 # Von Karman's constant\n",
    "    \n",
    "    # non-dimensional height and roughness length\n",
    "    xi = 2*np.sqrt(f*z/(kappa*ustar))\n",
    "    xio = 2*np.sqrt(f*zo/(kappa*ustar))\n",
    "    \n",
    "    # Q/Qinf in Equation 31 of Soulsby (1983)\n",
    "    fac = (1-(ker(xi)*ker(xio) + kei(xi)*kei(xio))/\n",
    "             (ker(xio)**2 + kei(xio)**2) + \n",
    "           i*(ker(xi)*kei(xio) - kei(xi)*ker(xio))/\n",
    "             (ker(xio)**2 + kei(xio)**2))\n",
    "\n",
    "    return fac"
   ]
  },
  {
   "cell_type": "markdown",
   "metadata": {},
   "source": [
    "### Soulsby test cases\n",
    "\n",
    "#### Case 1: Rectilinear free stream flow"
   ]
  },
  {
   "cell_type": "code",
   "execution_count": 12,
   "metadata": {},
   "outputs": [
    {
     "data": {
      "application/vnd.jupyter.widget-view+json": {
       "model_id": "36e0ba3d042e4372ba703d9c19b89b05",
       "version_major": 2,
       "version_minor": 0
      },
      "text/plain": [
       "FigureCanvasNbAgg()"
      ]
     },
     "metadata": {},
     "output_type": "display_data"
    }
   ],
   "source": [
    "Rpinf = 0.15\n",
    "Rminf = 0.15\n",
    "\n",
    "Rp = Rpinf*planetary_bbl_structure(ustar,zo,z,sigma+f)\n",
    "Rm = Rminf*planetary_bbl_structure(ustar,zo,z,sigma-f)\n",
    "\n",
    "phip = np.angle(Rp)\n",
    "phim = -np.angle(Rm)\n",
    "\n",
    "phi = (phim-phip)/2\n",
    "PHI = (phim+phip)/2\n",
    "\n",
    "Ua = np.abs(Rp) + np.abs(Rm)\n",
    "Ub = np.abs(Rp) - np.abs(Rm)\n",
    "\n",
    "plt.figure()\n",
    "plt.subplot(121)\n",
    "plt.plot(np.abs(Rp)/Rpinf,z)\n",
    "plt.plot(np.abs(Rm)/Rpinf,z)\n",
    "plt.ylim([0,150])\n",
    "plt.xlim([0,1.05])\n",
    "plt.xlabel('normalized amplitude')\n",
    "plt.ylabel('height [m]')\n",
    "plt.legend(['AC','CW'])\n",
    "plt.gca().spines['right'].set_visible(False)\n",
    "plt.gca().spines['top'].set_visible(False)\n",
    "\n",
    "plt.subplot(122)\n",
    "plt.plot(phip*180/np.pi,z)\n",
    "plt.plot(-phim*180/np.pi,z)\n",
    "plt.ylim([0,150])\n",
    "plt.xlim([-0.5,10])\n",
    "plt.xlabel('phase')\n",
    "plt.legend(['AC','CW'])\n",
    "plt.gca().spines['right'].set_visible(False)\n",
    "plt.gca().spines['top'].set_visible(False)"
   ]
  },
  {
   "cell_type": "code",
   "execution_count": 13,
   "metadata": {},
   "outputs": [
    {
     "data": {
      "application/vnd.jupyter.widget-view+json": {
       "model_id": "a4aa805d27574e3a9a1f7e3fc59d3eb9",
       "version_major": 2,
       "version_minor": 0
      },
      "text/plain": [
       "FigureCanvasNbAgg()"
      ]
     },
     "metadata": {},
     "output_type": "display_data"
    },
    {
     "data": {
      "text/plain": [
       "Text(0.5, 0, '$\\\\phi$, $\\\\Phi$ [degrees]')"
      ]
     },
     "execution_count": 13,
     "metadata": {},
     "output_type": "execute_result"
    }
   ],
   "source": [
    "plt.figure()\n",
    "ax1 = plt.subplot(121)\n",
    "ax1.plot(Ua,z)\n",
    "plt.xlim([0,0.3])\n",
    "plt.ylim([0,150])\n",
    "plt.xlabel('Ua [m/s]')\n",
    "plt.ylabel('height [m]')\n",
    "ax2 = ax1.twiny()\n",
    "ax2.plot(Ub/Ua,z)\n",
    "plt.xlim([0,0.6])\n",
    "plt.ylim([0,150])\n",
    "plt.xlabel('Ub/Ua')\n",
    "ax1.spines['right'].set_visible(False)\n",
    "ax2.spines['right'].set_visible(False)\n",
    "\n",
    "plt.subplot(122)\n",
    "plt.plot(phi*180/np.pi,z)\n",
    "plt.plot(PHI*180/np.pi,z)\n",
    "plt.ylim([0,150])\n",
    "plt.legend(['$\\phi$','$\\Phi$'])\n",
    "plt.xlabel('$\\phi$, $\\Phi$ [degrees]')"
   ]
  },
  {
   "cell_type": "markdown",
   "metadata": {},
   "source": [
    "#### Cases 2 and 3: Anticlockwise and clockwise free stream ellipses"
   ]
  },
  {
   "cell_type": "code",
   "execution_count": 14,
   "metadata": {},
   "outputs": [
    {
     "data": {
      "application/vnd.jupyter.widget-view+json": {
       "model_id": "c43a134dbdaf47cfa1f3434951890aab",
       "version_major": 2,
       "version_minor": 0
      },
      "text/plain": [
       "FigureCanvasNbAgg()"
      ]
     },
     "metadata": {},
     "output_type": "display_data"
    }
   ],
   "source": [
    "Rpinf = 0.75*0.3\n",
    "Rminf = 0.25*0.3\n",
    "\n",
    "Rp = Rpinf*planetary_bbl_structure(ustar,zo,z,sigma+f)\n",
    "Rm = Rminf*planetary_bbl_structure(ustar,zo,z,sigma-f)\n",
    "\n",
    "phip = np.angle(Rp)\n",
    "phim = -np.angle(Rm)\n",
    "\n",
    "phi = (phim-phip)/2\n",
    "PHI = (phim+phip)/2\n",
    "\n",
    "Ua = np.abs(Rp) + np.abs(Rm)\n",
    "Ub = np.abs(Rp) - np.abs(Rm)\n",
    "\n",
    "plt.figure()\n",
    "ax1 = plt.subplot(121)\n",
    "ax1.plot(Ua,z)\n",
    "plt.xlim([0,0.3])\n",
    "plt.ylim([0,150])\n",
    "plt.xlabel('Ua [m/s]')\n",
    "plt.ylabel('height [m]')\n",
    "ax2 = ax1.twiny()\n",
    "ax2.plot(Ub/Ua,z)\n",
    "plt.xlim([0,0.6])\n",
    "plt.ylim([0,150])\n",
    "plt.xlabel('Ub/Ua')\n",
    "ax1.spines['right'].set_visible(False)\n",
    "ax2.spines['right'].set_visible(False)"
   ]
  },
  {
   "cell_type": "code",
   "execution_count": 17,
   "metadata": {},
   "outputs": [],
   "source": [
    "Rpinf = 0.25*0.3\n",
    "Rminf = 0.75*0.3\n",
    "\n",
    "Rp = Rpinf*planetary_bbl_structure(ustar,zo,z,sigma+f)\n",
    "Rm = Rminf*planetary_bbl_structure(ustar,zo,z,sigma-f)\n",
    "\n",
    "phip = np.angle(Rp)\n",
    "phim = -np.angle(Rm)\n",
    "\n",
    "phi = (phim-phip)/2\n",
    "PHI = (phim+phip)/2\n",
    "\n",
    "Ua = np.abs(Rp) + np.abs(Rm)\n",
    "Ub = np.abs(Rp) - np.abs(Rm)\n",
    "\n",
    "ax1 = plt.subplot(122)\n",
    "ax1.plot(Ua,z)\n",
    "plt.xlim([0,0.3])\n",
    "plt.ylim([0,150])\n",
    "plt.xlabel('Ua [m/s]')\n",
    "ax2 = ax1.twiny()\n",
    "ax2.plot(Ub/Ua,z)\n",
    "plt.xlim([0,-0.6])\n",
    "plt.ylim([0,150])\n",
    "plt.xlabel('Ub/Ua')\n",
    "ax1.spines['right'].set_visible(False)\n",
    "ax2.spines['right'].set_visible(False)"
   ]
  }
 ],
 "metadata": {
  "kernelspec": {
   "display_name": "Python [conda env:py37]",
   "language": "python",
   "name": "conda-env-py37-py"
  },
  "language_info": {
   "codemirror_mode": {
    "name": "ipython",
    "version": 3
   },
   "file_extension": ".py",
   "mimetype": "text/x-python",
   "name": "python",
   "nbconvert_exporter": "python",
   "pygments_lexer": "ipython3",
   "version": "3.7.2"
  }
 },
 "nbformat": 4,
 "nbformat_minor": 2
}
