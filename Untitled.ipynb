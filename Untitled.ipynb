{
 "cells": [
  {
   "cell_type": "code",
   "execution_count": 99,
   "metadata": {},
   "outputs": [],
   "source": [
    "%matplotlib widget\n",
    "import xarray as xr\n",
    "import numpy as np\n",
    "import matplotlib.pyplot as plt\n",
    "import pandas as pd\n",
    "\n",
    "from oceans import bottomstress"
   ]
  },
  {
   "cell_type": "code",
   "execution_count": 117,
   "metadata": {},
   "outputs": [
    {
     "name": "stderr",
     "output_type": "stream",
     "text": [
      "/Users/tomconnolly/programs/anaconda/envs/py37/lib/python3.7/site-packages/ipykernel/__main__.py:17: SettingWithCopyWarning: \n",
      "A value is trying to be set on a copy of a slice from a DataFrame\n",
      "\n",
      "See the caveats in the documentation: http://pandas.pydata.org/pandas-docs/stable/indexing.html#indexing-view-versus-copy\n",
      "/Users/tomconnolly/programs/anaconda/envs/py37/lib/python3.7/site-packages/ipykernel/__main__.py:18: SettingWithCopyWarning: \n",
      "A value is trying to be set on a copy of a slice from a DataFrame\n",
      "\n",
      "See the caveats in the documentation: http://pandas.pydata.org/pandas-docs/stable/indexing.html#indexing-view-versus-copy\n"
     ]
    }
   ],
   "source": [
    "# Load data\n",
    "rover_csv_file = 'data/Rover_II_Current_Mag_Hourly_Avg_pad_2018.csv'\n",
    "df_all = pd.read_csv(rover_csv_file,parse_dates=[7])\n",
    "\n",
    "# Datetime index\n",
    "df_all = df_all.set_index('Date_time_R')\n",
    "\n",
    "# Create u and v components with units m/s\n",
    "df_all['u'] = df_all['Easting (cm/sec)']/100\n",
    "df_all['v'] = df_all['Northing (cm/sec)']/100\n",
    "\n",
    "# mask erroneous points \n",
    "# abrupt shift near end of deployment \n",
    "bi = ((df_all.index > np.datetime64('2015-06-18T12:00')) &\n",
    "    (df_all.index < np.datetime64('2015-06-20T00:00')))\n",
    "\n",
    "df_all['u'][bi] = np.nan\n",
    "df_all['v'][bi] = np.nan\n",
    "\n",
    "# select time range\n",
    "t1 = np.datetime64('2014-10-11T00:00:00')\n",
    "t2 = np.datetime64('2018-10-17T00:00:00')\n",
    "df_all = df_all.loc[(df_all.index >= t1) & (df_all.index <= t2)]\n",
    "\n",
    "# resample and interpolate\n",
    "df_all_r = df_all.resample('1H').mean()\n",
    "tauxr,tauyr = bottomstress(np.array(df_all['u']),np.array(df_all['v']),1.4,zo=0.001)\n",
    "taumagr = np.sqrt(tauxr**2 + tauyr**2)\n",
    "ustarr = np.sqrt(taumagr/1025)"
   ]
  },
  {
   "cell_type": "code",
   "execution_count": 101,
   "metadata": {},
   "outputs": [],
   "source": [
    "ds = xr.open_dataset('bbl_sols.nc')"
   ]
  },
  {
   "cell_type": "code",
   "execution_count": 102,
   "metadata": {},
   "outputs": [],
   "source": [
    "dsadcp = xr.open_dataset('data/MBARI_StationM_ADCP_201711_201811.nc')"
   ]
  },
  {
   "cell_type": "code",
   "execution_count": 103,
   "metadata": {},
   "outputs": [],
   "source": [
    "ti0 = 9\n",
    "ntimes = len(ds['tobs'])\n",
    "time = dsadcp['time'][ti0:ti0+ntimes]"
   ]
  },
  {
   "cell_type": "code",
   "execution_count": 104,
   "metadata": {},
   "outputs": [
    {
     "data": {
      "text/plain": [
       "8929"
      ]
     },
     "execution_count": 104,
     "metadata": {},
     "output_type": "execute_result"
    }
   ],
   "source": [
    "len(ds['tobs'])"
   ]
  },
  {
   "cell_type": "code",
   "execution_count": 105,
   "metadata": {},
   "outputs": [
    {
     "data": {
      "text/plain": [
       "<xarray.Dataset>\n",
       "Dimensions:       (tobs: 8929, zo: 25, zobs: 16, zsol: 199)\n",
       "Coordinates:\n",
       "  * zobs          (zobs) float64 2.14 3.14 4.14 5.14 ... 14.14 15.14 16.14 17.14\n",
       "  * tobs          (tobs) float64 0.0 300.0 600.0 ... 2.678e+06 2.678e+06\n",
       "  * zo            (zo) float64 0.0001 0.0001396 0.0001949 ... 0.1539 0.2149 0.3\n",
       "Dimensions without coordinates: zsol\n",
       "Data variables:\n",
       "    uobs_subset   (tobs, zobs) float64 ...\n",
       "    vobs_subset   (tobs, zobs) float64 ...\n",
       "    usol_all      (tobs, zsol, zo) float64 ...\n",
       "    vsol_all      (tobs, zsol, zo) float64 ...\n",
       "    usol_obs_all  (tobs, zobs, zo) float64 ...\n",
       "    vsol_obs_all  (tobs, zobs, zo) float64 ..."
      ]
     },
     "execution_count": 105,
     "metadata": {},
     "output_type": "execute_result"
    }
   ],
   "source": [
    "ds"
   ]
  },
  {
   "cell_type": "code",
   "execution_count": 119,
   "metadata": {},
   "outputs": [],
   "source": [
    "t1 = 24*12\n",
    "zoi = 7"
   ]
  },
  {
   "cell_type": "code",
   "execution_count": 120,
   "metadata": {},
   "outputs": [],
   "source": [
    "zo = np.array(ds['zo'][zoi])\n",
    "zf = ds['zobs'][-1]\n",
    "\n",
    "nz = 201\n",
    "z = np.logspace(np.log10(zo),np.log10(zf))\n",
    "dz = np.diff(z)\n",
    "\n",
    "zsol = z[1:-1]\n",
    "\n",
    "kappa = 0.41\n",
    "i = 1j"
   ]
  },
  {
   "cell_type": "code",
   "execution_count": 121,
   "metadata": {},
   "outputs": [
    {
     "data": {
      "text/plain": [
       "(8929, 199, 25)"
      ]
     },
     "execution_count": 121,
     "metadata": {},
     "output_type": "execute_result"
    }
   ],
   "source": [
    "np.shape(ds['usol_all'])"
   ]
  },
  {
   "cell_type": "code",
   "execution_count": 122,
   "metadata": {},
   "outputs": [],
   "source": [
    "u = np.array(ds['usol_all'][t1:,:,zoi])\n",
    "v = np.array(ds['vsol_all'][t1:,:,zoi])\n",
    "w = u+i*v"
   ]
  },
  {
   "cell_type": "code",
   "execution_count": 123,
   "metadata": {},
   "outputs": [
    {
     "data": {
      "text/plain": [
       "(8641, 199)"
      ]
     },
     "execution_count": 123,
     "metadata": {},
     "output_type": "execute_result"
    }
   ],
   "source": [
    "np.shape(w)"
   ]
  },
  {
   "cell_type": "code",
   "execution_count": 124,
   "metadata": {},
   "outputs": [
    {
     "data": {
      "text/plain": [
       "array(0.00103314)"
      ]
     },
     "execution_count": 124,
     "metadata": {},
     "output_type": "execute_result"
    }
   ],
   "source": [
    "zo"
   ]
  },
  {
   "cell_type": "code",
   "execution_count": 125,
   "metadata": {},
   "outputs": [],
   "source": [
    "ustar = kappa*zo*np.abs(w[:,1])/dz[0]"
   ]
  },
  {
   "cell_type": "code",
   "execution_count": 126,
   "metadata": {},
   "outputs": [],
   "source": [
    "taux,tauy = bottomstress(np.array(ds['uobs_subset'][:,0]),\n",
    "                         np.array(ds['vobs_subset'][:,0]),\n",
    "                         np.array(ds['zobs'][0]),zo=0.001)\n",
    "\n",
    "taumag = np.sqrt(taux**2 + tauy**2)\n",
    "ustarobs = np.sqrt(taumag/1025)"
   ]
  },
  {
   "cell_type": "code",
   "execution_count": 127,
   "metadata": {},
   "outputs": [],
   "source": [
    "taux2,tauy2 = bottomstress(np.array(ds['usol_obs_all'][:,0,zoi]),\n",
    "                         np.array(ds['vsol_obs_all'][:,0,zoi]),\n",
    "                         np.array(ds['zobs'][0]),zo=0.001)\n",
    "\n",
    "taumag2 = np.sqrt(taux2**2 + tauy2**2)\n",
    "ustarobs2 = np.sqrt(taumag2/1025)"
   ]
  },
  {
   "cell_type": "code",
   "execution_count": 164,
   "metadata": {},
   "outputs": [
    {
     "name": "stderr",
     "output_type": "stream",
     "text": [
      "/Users/tomconnolly/programs/anaconda/envs/py37/lib/python3.7/site-packages/matplotlib/pyplot.py:514: RuntimeWarning: More than 20 figures have been opened. Figures created through the pyplot interface (`matplotlib.pyplot.figure`) are retained until explicitly closed and may consume too much memory. (To control this warning, see the rcParam `figure.max_open_warning`).\n",
      "  max_open_warning, RuntimeWarning)\n"
     ]
    },
    {
     "data": {
      "application/vnd.jupyter.widget-view+json": {
       "model_id": "89d9649696744e9ba5aa44f24a2bfd00",
       "version_major": 2,
       "version_minor": 0
      },
      "text/plain": [
       "FigureCanvasNbAgg()"
      ]
     },
     "metadata": {},
     "output_type": "display_data"
    },
    {
     "data": {
      "text/plain": [
       "<matplotlib.legend.Legend at 0x360ec53c8>"
      ]
     },
     "execution_count": 164,
     "metadata": {},
     "output_type": "execute_result"
    }
   ],
   "source": [
    "plt.figure(figsize=(8,6))\n",
    "plt.subplot(211)\n",
    "plt.plot(time[t1:],np.real(w[:,-1]),'b')\n",
    "plt.plot(time[t1:],np.imag(w[:,-1]),'r')\n",
    "plt.plot(time[t1:],np.zeros(len(time[t1:])),'--',color='k')\n",
    "xl = plt.xlim([])\n",
    "plt.legend(['u','v'])\n",
    "plt.gca().axes.xaxis.set_ticklabels([])\n",
    "\n",
    "plt.subplot(212)\n",
    "plt.plot(time[t1:],ustarobs2[t1:],'b-')\n",
    "plt.plot(df_all.index,ustarr,'r')\n",
    "plt.plot(time[t1:],ustar,'k')\n",
    "#plt.plot(df_all.index,0.6*ustarr,'k--')\n",
    "plt.xlim(xl)\n",
    "yl = plt.ylim()\n",
    "plt.legend(['model - 2.5m','rover - 1.4 m','model - seabed'])"
   ]
  },
  {
   "cell_type": "code",
   "execution_count": 162,
   "metadata": {},
   "outputs": [
    {
     "data": {
      "text/plain": [
       "0.0010099329393176912"
      ]
     },
     "execution_count": 162,
     "metadata": {},
     "output_type": "execute_result"
    }
   ],
   "source": [
    "np.nanmean(ustar)"
   ]
  },
  {
   "cell_type": "code",
   "execution_count": 73,
   "metadata": {},
   "outputs": [
    {
     "data": {
      "text/plain": [
       "<xarray.DataArray 'time' ()>\n",
       "array('2017-12-11T10:48:13.760000000', dtype='datetime64[ns]')\n",
       "Coordinates:\n",
       "    time     datetime64[ns] 2017-12-11T10:48:13.760000"
      ]
     },
     "execution_count": 73,
     "metadata": {},
     "output_type": "execute_result"
    }
   ],
   "source": [
    "time[-1]"
   ]
  },
  {
   "cell_type": "code",
   "execution_count": 27,
   "metadata": {},
   "outputs": [
    {
     "data": {
      "text/plain": [
       "array(0.00201336)"
      ]
     },
     "execution_count": 27,
     "metadata": {},
     "output_type": "execute_result"
    }
   ],
   "source": [
    "zo"
   ]
  },
  {
   "cell_type": "code",
   "execution_count": 31,
   "metadata": {},
   "outputs": [
    {
     "data": {
      "application/vnd.jupyter.widget-view+json": {
       "model_id": "",
       "version_major": 2,
       "version_minor": 0
      },
      "text/plain": [
       "FigureCanvasNbAgg()"
      ]
     },
     "metadata": {},
     "output_type": "display_data"
    },
    {
     "data": {
      "text/plain": [
       "[<matplotlib.lines.Line2D at 0x32fce4b70>]"
      ]
     },
     "execution_count": 31,
     "metadata": {},
     "output_type": "execute_result"
    }
   ],
   "source": [
    "plt.figure()\n",
    "plt.subplot(211)\n",
    "plt.plot(time[t1:],np.real(w[:,-1]))\n",
    "plt.plot(time[t1:],np.real(w[:,100]))\n",
    "plt.subplot(212)\n",
    "plt.plot(time[t1:],ustar)"
   ]
  },
  {
   "cell_type": "code",
   "execution_count": 134,
   "metadata": {},
   "outputs": [
    {
     "data": {
      "text/plain": [
       "0.6666666666666666"
      ]
     },
     "execution_count": 134,
     "metadata": {},
     "output_type": "execute_result"
    }
   ],
   "source": [
    "1/1.5"
   ]
  },
  {
   "cell_type": "code",
   "execution_count": null,
   "metadata": {},
   "outputs": [],
   "source": []
  }
 ],
 "metadata": {
  "kernelspec": {
   "display_name": "Python [conda env:py37]",
   "language": "python",
   "name": "conda-env-py37-py"
  },
  "language_info": {
   "codemirror_mode": {
    "name": "ipython",
    "version": 3
   },
   "file_extension": ".py",
   "mimetype": "text/x-python",
   "name": "python",
   "nbconvert_exporter": "python",
   "pygments_lexer": "ipython3",
   "version": "3.7.2"
  }
 },
 "nbformat": 4,
 "nbformat_minor": 2
}
