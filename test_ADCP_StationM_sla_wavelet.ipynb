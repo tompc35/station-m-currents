{
 "cells": [
  {
   "cell_type": "code",
   "execution_count": 2,
   "metadata": {},
   "outputs": [],
   "source": [
    "%matplotlib ipympl\n",
    "\n",
    "import os\n",
    "import numpy as np\n",
    "import xarray as xr\n",
    "import matplotlib.pyplot as plt\n",
    "from scipy.integrate import cumtrapz\n",
    "from scipy.signal import welch"
   ]
  },
  {
   "cell_type": "code",
   "execution_count": 3,
   "metadata": {},
   "outputs": [],
   "source": [
    "ds = xr.open_dataset('data/MBARI_StationM_ADCP_201711_201811.nc')\n",
    "ds_alt = xr.open_dataset('data/jpl_sla_uv_timeseries.nc')"
   ]
  },
  {
   "cell_type": "code",
   "execution_count": 11,
   "metadata": {},
   "outputs": [
    {
     "data": {
      "text/plain": [
       "<xarray.Dataset>\n",
       "Dimensions:    (time: 187)\n",
       "Coordinates:\n",
       "    Longitude  float32 ...\n",
       "    Latitude   float32 ...\n",
       "    lon        float32 ...\n",
       "    lat        float32 ...\n",
       "  * time       (time) datetime64[ns] 2015-11-26T12:00:00 ... 2018-06-13T12:00:00\n",
       "Data variables:\n",
       "    va         (time) float64 ...\n",
       "    sla_err    (time) float64 ...\n",
       "    ua         (time) float64 ...\n",
       "    sla        (time) float64 ..."
      ]
     },
     "execution_count": 11,
     "metadata": {},
     "output_type": "execute_result"
    }
   ],
   "source": [
    "ds_alt"
   ]
  },
  {
   "cell_type": "code",
   "execution_count": 15,
   "metadata": {},
   "outputs": [
    {
     "data": {
      "application/vnd.jupyter.widget-view+json": {
       "model_id": "fc880477592f4ab49054bfc8a993d864",
       "version_major": 2,
       "version_minor": 0
      },
      "text/plain": [
       "FigureCanvasNbAgg()"
      ]
     },
     "metadata": {},
     "output_type": "display_data"
    },
    {
     "data": {
      "application/vnd.jupyter.widget-view+json": {
       "model_id": "f8214e6976484607a035a0aaae9c9f3b",
       "version_major": 2,
       "version_minor": 0
      },
      "text/plain": [
       "FigureCanvasNbAgg()"
      ]
     },
     "metadata": {},
     "output_type": "display_data"
    },
    {
     "data": {
      "text/plain": [
       "Text(0.5, 1.0, 'northward velocity')"
      ]
     },
     "execution_count": 15,
     "metadata": {},
     "output_type": "execute_result"
    }
   ],
   "source": [
    "plt.figure()\n",
    "plt.plot(ds['time'],ds['Eas_filt'][:,15]);\n",
    "plt.plot(ds_alt['time'],ds_alt['ua']/10)\n",
    "plt.ylabel('m/s')\n",
    "plt.title('eastward velocity')\n",
    "\n",
    "plt.figure()\n",
    "plt.plot(ds['time'],ds['Nor_filt'][:,15]);\n",
    "plt.plot(ds_alt['time'],ds_alt['va']/10)\n",
    "plt.ylabel('m/s')\n",
    "plt.title('northward velocity')"
   ]
  },
  {
   "cell_type": "code",
   "execution_count": 8,
   "metadata": {},
   "outputs": [
    {
     "data": {
      "application/vnd.jupyter.widget-view+json": {
       "model_id": "15b841b90fa94a379713043d01e96aaa",
       "version_major": 2,
       "version_minor": 0
      },
      "text/plain": [
       "FigureCanvasNbAgg()"
      ]
     },
     "metadata": {},
     "output_type": "display_data"
    },
    {
     "data": {
      "text/plain": [
       "Text(0.5, 1.0, 'full velocity, 2018-02-01-2018-02-15, bin 15')"
      ]
     },
     "execution_count": 8,
     "metadata": {},
     "output_type": "execute_result"
    }
   ],
   "source": [
    "t1=np.datetime64('2018-02-01')\n",
    "t2=np.datetime64('2018-02-15')\n",
    "\n",
    "plt.figure()\n",
    "plt.plot(ds['time'],ds['Eas'][:,15]);\n",
    "plt.plot(ds['time'],ds['Nor'][:,15]);\n",
    "plt.ylabel('m/s')\n",
    "plt.xlim([t1,t2])\n",
    "plt.ylim([-0.15,0.15])\n",
    "plt.legend(['East','North'])\n",
    "plt.title('full velocity, '+str(t1)+'-'+str(t2)+', bin 15')"
   ]
  },
  {
   "cell_type": "code",
   "execution_count": 9,
   "metadata": {},
   "outputs": [
    {
     "data": {
      "application/vnd.jupyter.widget-view+json": {
       "model_id": "2b13a3d2a5dc4aa6bb65fa0844c324b7",
       "version_major": 2,
       "version_minor": 0
      },
      "text/plain": [
       "FigureCanvasNbAgg()"
      ]
     },
     "metadata": {},
     "output_type": "display_data"
    },
    {
     "data": {
      "text/plain": [
       "Text(0.5, 1.0, 'detided velocity, 2018-02-01-2018-02-15, bin 15')"
      ]
     },
     "execution_count": 9,
     "metadata": {},
     "output_type": "execute_result"
    }
   ],
   "source": [
    "t1=np.datetime64('2018-02-01')\n",
    "t2=np.datetime64('2018-02-15')\n",
    "\n",
    "plt.figure()\n",
    "plt.plot(ds['time'],ds['Eas'][:,15]-ds['Eas_tide'][:,15]);\n",
    "plt.plot(ds['time'],ds['Nor'][:,15]-ds['Nor_tide'][:,15]);\n",
    "plt.legend(['Bin 15','Bin 1'])\n",
    "plt.ylabel('m/s')\n",
    "plt.ylim([-0.15,0.15])\n",
    "plt.xlim([t1,t2])\n",
    "plt.legend(['East','North'])\n",
    "plt.title('detided velocity, '+str(t1)+'-'+str(t2)+', bin 15')"
   ]
  },
  {
   "cell_type": "code",
   "execution_count": 10,
   "metadata": {},
   "outputs": [],
   "source": [
    "Eas = np.array(ds['Eas'])\n",
    "Nor = np.array(ds['Nor'])\n",
    "Eas_tide = np.array(ds['Eas_tide'])\n",
    "Nor_tide = np.array(ds['Nor_tide'])\n",
    "\n",
    "N = len(Eas)\n",
    "fE,SE = welch(Eas[:,5],fs=288.,nperseg=N/6,window='hanning')\n",
    "fN,SN = welch(Nor[:,5],fs=288.,nperseg=N/6,window='hanning')\n",
    "\n",
    "#rotary spectrum\n",
    "fr,Sr = welch(Eas[:,5]+1j*Nor[:,5],\n",
    "              fs=288.,nperseg=N/6,\n",
    "              window='hann',return_onesided=False)\n",
    "icw, = np.where(fr<0)\n",
    "iccw, = np.where(fr>0)\n",
    "fcw = -fr[icw]\n",
    "Scw = Sr[icw]\n",
    "fccw = fr[iccw]\n",
    "Sccw = Sr[iccw]"
   ]
  },
  {
   "cell_type": "code",
   "execution_count": 66,
   "metadata": {},
   "outputs": [
    {
     "data": {
      "application/vnd.jupyter.widget-view+json": {
       "model_id": "302412d59596454b931922ed0febe5b5",
       "version_major": 2,
       "version_minor": 0
      },
      "text/plain": [
       "FigureCanvasNbAgg()"
      ]
     },
     "metadata": {},
     "output_type": "display_data"
    },
    {
     "data": {
      "text/plain": [
       "<matplotlib.legend.Legend at 0x1c802af7b8>"
      ]
     },
     "execution_count": 66,
     "metadata": {},
     "output_type": "execute_result"
    }
   ],
   "source": [
    "plt.figure()\n",
    "plt.loglog(fcw,Scw)\n",
    "plt.loglog(fccw,Sccw)\n",
    "plt.legend(['CW','CCW'])"
   ]
  },
  {
   "cell_type": "code",
   "execution_count": 67,
   "metadata": {},
   "outputs": [
    {
     "name": "stderr",
     "output_type": "stream",
     "text": [
      "/Users/tomconnolly/programs/anaconda/envs/py37/lib/python3.7/site-packages/scipy/fftpack/basic.py:160: FutureWarning: Using a non-tuple sequence for multidimensional indexing is deprecated; use `arr[tuple(seq)]` instead of `arr[seq]`. In the future this will be interpreted as an array index, `arr[np.array(seq)]`, which will result either in an error or a different result.\n",
      "  z[index] = x\n"
     ]
    },
    {
     "data": {
      "application/vnd.jupyter.widget-view+json": {
       "model_id": "14c5f821b64245388b54a62a3359a7d3",
       "version_major": 2,
       "version_minor": 0
      },
      "text/plain": [
       "FigureCanvasNbAgg()"
      ]
     },
     "metadata": {},
     "output_type": "display_data"
    },
    {
     "name": "stderr",
     "output_type": "stream",
     "text": [
      "/Users/tomconnolly/programs/anaconda/envs/py37/lib/python3.7/site-packages/numpy/core/numeric.py:501: ComplexWarning: Casting complex values to real discards the imaginary part\n",
      "  return array(a, dtype, copy=False, order=order)\n"
     ]
    },
    {
     "data": {
      "application/vnd.jupyter.widget-view+json": {
       "model_id": "71d0ddaadd094e64a1e9bd33af267e90",
       "version_major": 2,
       "version_minor": 0
      },
      "text/plain": [
       "FigureCanvasNbAgg()"
      ]
     },
     "metadata": {},
     "output_type": "display_data"
    },
    {
     "data": {
      "text/plain": [
       "<matplotlib.contour.QuadContourSet at 0x1726048a58>"
      ]
     },
     "execution_count": 67,
     "metadata": {},
     "output_type": "execute_result"
    }
   ],
   "source": [
    "import pycwt as wavelet\n",
    "\n",
    "dat = Eas[:,0]\n",
    "dt = 1/288 # time step in days\n",
    "\n",
    "dat_nomean = dat - np.mean(dat)\n",
    "std = dat_nomean.std() \n",
    "var = std ** 2  \n",
    "dat_norm = dat_nomean / std \n",
    "\n",
    "mother = wavelet.Morlet(6)\n",
    "s0 = 2 * dt  # Starting scale\n",
    "dj = 1 / 30  # Twelve sub-octaves per octaves\n",
    "J = 9 / dj  # Seven powers of two with dj sub-octaves\n",
    "alpha, _, _ = wavelet.ar1(dat)  # Lag-1 autocorrelation for red noise\n",
    "\n",
    "wave, scales, freqs, coi, fft, fftfreqs = wavelet.cwt(dat_norm, dt, dj, s0, J,\n",
    "                                                      mother)\n",
    "iwave = wavelet.icwt(wave, scales, dt, dj, mother) * std\n",
    "\n",
    "power = (np.abs(wave)) ** 2\n",
    "#power /= scales[:, None]\n",
    "fft_power = np.abs(fft) ** 2\n",
    "period = 1 / freqs\n",
    "\n",
    "signif, fft_theor = wavelet.significance(1.0, dt, scales, 0, alpha,\n",
    "                                         significance_level=0.95,\n",
    "                                         wavelet=mother)\n",
    "sig95 = np.ones([1, N]) * signif[:, None]\n",
    "sig95 = power / sig95\n",
    "\n",
    "glbl_power = power.mean(axis=1)\n",
    "dof = N - scales  # Correction for padding at edges\n",
    "glbl_signif, tmp = wavelet.significance(var, dt, scales, 1, alpha,\n",
    "                                        significance_level=0.95, dof=dof,\n",
    "                                        wavelet=mother)\n",
    "\n",
    "t = np.array(ds['time'])\n",
    "\n",
    "# Prepare the figure\n",
    "plt.figure(figsize=(8,4))\n",
    "\n",
    "# First sub-plot, the original time series anomaly and inverse wavelet\n",
    "# transform.\n",
    "plt.plot(ds['time'], iwave, '-', linewidth=1, color=[0.5, 0.5, 0.5])\n",
    "plt.plot(ds['time'], dat, 'k', linewidth=1.5)\n",
    "\n",
    "# Second sub-plot, the normalized wavelet power spectrum and significance\n",
    "# level contour lines and cone of influece hatched area. Note that period\n",
    "# scale is logarithmic.\n",
    "plt.figure(figsize=(8,5))\n",
    "plt.contourf(t, period, np.log2(power), cmap=plt.cm.viridis)\n",
    "plt.colorbar()\n",
    "extent = [t.min(), t.max(), 0, max(period)]\n",
    "plt.contour(t, period, sig95, [-99, 1], colors='k', linewidths=2,\n",
    "           extent=extent)\n",
    "\n",
    "# bx.fill(np.concatenate([t, t[-1:] + dt, t[-1:] + dt,\n",
    "#                            t[:1] - dt, t[:1] - dt]),\n",
    "#         np.concatenate([np.log2(coi), [1e-9], np.log2(period[-1:]),\n",
    "#                            np.log2(period[-1:]), [1e-9]]),\n",
    "#         'k', alpha=0.3, hatch='x')\n",
    "# bx.set_title('b) {} Wavelet Power Spectrum ({})'.format(label, mother.name))\n",
    "# bx.set_ylabel('Period (years)')\n",
    "#\n",
    "# Yticks = 2 ** np.arange(np.ceil(np.log2(period.min())),\n",
    "#                            np.ceil(np.log2(period.max())))\n",
    "# bx.set_yticks(np.log2(Yticks))\n",
    "# bx.set_yticklabels(Yticks)"
   ]
  },
  {
   "cell_type": "markdown",
   "metadata": {},
   "source": [
    "### Future processing steps\n",
    "* Fill small gaps\n",
    "* QC based on correlation, percent good, etc.\n",
    "\n",
    "### Ideas for future analysis\n",
    "\n",
    "* Wavelet analysis: isolate time variability of inertial band\n",
    "* Relate inertial currents to local wind\n",
    "* Complex correlation of low-pass filtered currents\n",
    "* Is low frequency variability due to eddies? Relate to satellite altimeter data\n",
    "* Explore relationship to local and remote wind stress curl\n",
    "* Read Clarke paper on (\"too fast\") Rossby wave propagation in CalCOFI region\n",
    "* Compare tidal currents to OSU model\n",
    "* Progressive vector diagram\n",
    "* Rover data - Lomb-Scargle periodogram - analysis of eddy variability at O(100 day) periods - see Stabeno et al."
   ]
  },
  {
   "cell_type": "code",
   "execution_count": null,
   "metadata": {},
   "outputs": [],
   "source": []
  }
 ],
 "metadata": {
  "kernelspec": {
   "display_name": "Python [conda env:py37]",
   "language": "python",
   "name": "conda-env-py37-py"
  },
  "language_info": {
   "codemirror_mode": {
    "name": "ipython",
    "version": 3
   },
   "file_extension": ".py",
   "mimetype": "text/x-python",
   "name": "python",
   "nbconvert_exporter": "python",
   "pygments_lexer": "ipython3",
   "version": "3.7.1"
  }
 },
 "nbformat": 4,
 "nbformat_minor": 2
}
