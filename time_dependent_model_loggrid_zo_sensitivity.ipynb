{
 "cells": [
  {
   "cell_type": "code",
   "execution_count": 1,
   "metadata": {},
   "outputs": [],
   "source": [
    "%matplotlib widget\n",
    "import numpy as np\n",
    "import matplotlib.pyplot as plt\n",
    "import xarray as xr\n",
    "\n",
    "import gsw\n",
    "\n",
    "from scipy.integrate import solve_ivp\n",
    "\n",
    "from scipy.interpolate import interp1d"
   ]
  },
  {
   "cell_type": "code",
   "execution_count": 2,
   "metadata": {},
   "outputs": [],
   "source": [
    "ds = xr.open_dataset('data/MBARI_StationM_ADCP_201711_201811.nc')"
   ]
  },
  {
   "cell_type": "code",
   "execution_count": 3,
   "metadata": {},
   "outputs": [],
   "source": [
    "lat = 35+8.4585/60\n",
    "bini = 15"
   ]
  },
  {
   "cell_type": "markdown",
   "metadata": {},
   "source": [
    "Smooth ADCP time series\n",
    "* 30-min running median to remove spikes\n",
    "* 60-min running mean to smooth"
   ]
  },
  {
   "cell_type": "code",
   "execution_count": 6,
   "metadata": {},
   "outputs": [
    {
     "data": {
      "text/plain": [
       "<xarray.DataArray 'binheight' ()>\n",
       "array(17.14)"
      ]
     },
     "execution_count": 6,
     "metadata": {},
     "output_type": "execute_result"
    }
   ],
   "source": [
    "ds['binheight'][bini]"
   ]
  },
  {
   "cell_type": "code",
   "execution_count": 7,
   "metadata": {},
   "outputs": [],
   "source": [
    "ds['Eas_sm'] = ds['Eas'].rolling(time=6,center=True).median().rolling(time=12,center=True).mean()\n",
    "ds['Nor_sm'] = ds['Nor'].rolling(time=6,center=True).median().rolling(time=12,center=True).mean()"
   ]
  },
  {
   "cell_type": "code",
   "execution_count": 8,
   "metadata": {},
   "outputs": [
    {
     "data": {
      "application/vnd.jupyter.widget-view+json": {
       "model_id": "d1bd3e96ee654aa7827f96b4a76bda21",
       "version_major": 2,
       "version_minor": 0
      },
      "text/plain": [
       "FigureCanvasNbAgg()"
      ]
     },
     "metadata": {},
     "output_type": "display_data"
    },
    {
     "data": {
      "text/plain": [
       "Text(0.5, 1.0, 'eastward velocity')"
      ]
     },
     "execution_count": 8,
     "metadata": {},
     "output_type": "execute_result"
    }
   ],
   "source": [
    "plt.figure(figsize=(8,4))\n",
    "plt.plot(ds['time'],ds['Eas_sm'][:,bini]);\n",
    "plt.plot(ds['time'],ds['Eas'][:,bini],'--');\n",
    "plt.plot(ds['time'],ds['Eas_sm'][:,1],'-');\n",
    "#plt.plot(ds['time'],ds['Eas'][:,1]);\n",
    "plt.ylabel('m/s')\n",
    "plt.title('eastward velocity')"
   ]
  },
  {
   "cell_type": "code",
   "execution_count": 9,
   "metadata": {},
   "outputs": [
    {
     "data": {
      "application/vnd.jupyter.widget-view+json": {
       "model_id": "9415d70499ee453eb8ebe858cb3baeda",
       "version_major": 2,
       "version_minor": 0
      },
      "text/plain": [
       "FigureCanvasNbAgg()"
      ]
     },
     "metadata": {},
     "output_type": "display_data"
    },
    {
     "data": {
      "text/plain": [
       "Text(0.5, 1.0, 'northward velocity')"
      ]
     },
     "execution_count": 9,
     "metadata": {},
     "output_type": "execute_result"
    }
   ],
   "source": [
    "plt.figure(figsize=(8,4))\n",
    "plt.plot(ds['time'],ds['Nor_sm'][:,bini]);\n",
    "plt.legend(['Bin 15','Bin 1'])\n",
    "plt.ylabel('m/s')\n",
    "plt.title('northward velocity')"
   ]
  },
  {
   "cell_type": "markdown",
   "metadata": {},
   "source": [
    "### Test with limited obs\n"
   ]
  },
  {
   "cell_type": "code",
   "execution_count": 10,
   "metadata": {},
   "outputs": [],
   "source": [
    "zf = ds['binheight'][bini] # upper boundary height\n",
    "zobs = np.array(ds['binheight'][0:(bini+1)])"
   ]
  },
  {
   "cell_type": "code",
   "execution_count": 11,
   "metadata": {},
   "outputs": [],
   "source": [
    "i = 1j\n",
    "kappa = 0.41 # Von Karman constant\n",
    "f = gsw.f(lat)"
   ]
  },
  {
   "cell_type": "code",
   "execution_count": 12,
   "metadata": {},
   "outputs": [],
   "source": [
    "gi = np.isfinite(ds['Eas_sm'][:,0])\n",
    "tobs = np.array((ds['time'][gi] - ds['time'][gi][0])/np.timedelta64(1,'s')) # array of times in seconds\n",
    "deltat = tobs[1]-tobs[0]"
   ]
  },
  {
   "cell_type": "code",
   "execution_count": 13,
   "metadata": {},
   "outputs": [],
   "source": [
    "wobs = np.array(ds['Eas_sm'][gi,0:(bini+1)]+i*ds['Nor_sm'][gi,0:(bini+1)])\n",
    "dwobsdt = np.gradient(wobs,deltat,axis=0)"
   ]
  },
  {
   "cell_type": "code",
   "execution_count": 16,
   "metadata": {},
   "outputs": [
    {
     "data": {
      "text/plain": [
       "(array([    9,    10,    11, ..., 98198, 98199, 98200]),)"
      ]
     },
     "execution_count": 16,
     "metadata": {},
     "output_type": "execute_result"
    }
   ],
   "source": [
    "np.where(gi)"
   ]
  },
  {
   "cell_type": "code",
   "execution_count": 14,
   "metadata": {},
   "outputs": [
    {
     "data": {
      "text/plain": [
       "<xarray.DataArray 'time' (time: 98192)>\n",
       "array(['2017-11-10T10:48:13.760000000', '2017-11-10T10:53:13.760000000',\n",
       "       '2017-11-10T10:58:13.760000000', ..., '2018-10-17T09:13:13.720000000',\n",
       "       '2018-10-17T09:18:13.720000000', '2018-10-17T09:23:13.720000000'],\n",
       "      dtype='datetime64[ns]')\n",
       "Coordinates:\n",
       "  * time     (time) datetime64[ns] 2017-11-10T10:48:13.760000 ... 2018-10-17T09:23:13.720000"
      ]
     },
     "execution_count": 14,
     "metadata": {},
     "output_type": "execute_result"
    }
   ],
   "source": [
    "ds['time'][gi]"
   ]
  },
  {
   "cell_type": "code",
   "execution_count": 17,
   "metadata": {},
   "outputs": [
    {
     "data": {
      "text/plain": [
       "<xarray.DataArray 'time' ()>\n",
       "array('2017-11-10T10:48:13.760000000', dtype='datetime64[ns]')\n",
       "Coordinates:\n",
       "    time     datetime64[ns] 2017-11-10T10:48:13.760000"
      ]
     },
     "execution_count": 17,
     "metadata": {},
     "output_type": "execute_result"
    }
   ],
   "source": [
    "ds['time'][9]"
   ]
  },
  {
   "cell_type": "code",
   "execution_count": 11,
   "metadata": {},
   "outputs": [],
   "source": [
    "def dwdt_bbl(t, w_in):\n",
    "    # Note that w_in is real and complex parts concatenates\n",
    "    # need to combine into complex numbers\n",
    "    # Scipy docs say that ode solvers RK45 and BDF can be used in complex plane\n",
    "    # https://docs.scipy.org/doc/scipy/reference/generated/scipy.integrate.BDF.html#scipy.integrate.BDF\n",
    "    # but perhaps this does not work for *arrays* of complex numbers?\n",
    "    \n",
    "    global zo\n",
    "    \n",
    "    N = int(len(w_in)/2)\n",
    "    w = w_in[:N]+i*w_in[N:]\n",
    "    \n",
    "    winf = np.interp(t,tobs,wobs[:,bini])\n",
    "    dwinfdt = np.interp(t,tobs,dwobsdt[:,bini])\n",
    "\n",
    "    F = dwinfdt + i*f*winf\n",
    "    ustar = kappa*zo*np.abs(w[0])/dz[0]\n",
    "    coef1 = 2*kappa*ustar/(dz[:-1]+dz[1:])\n",
    "\n",
    "    wall = np.concatenate([np.atleast_1d(0+i*0),w,np.atleast_1d(winf)])\n",
    "    \n",
    "    dwalldt = np.nan*np.ones(np.shape(wall))+i*np.nan*np.ones(np.shape(wall))\n",
    "    dwalldt[1:-1] = (F +\n",
    "                     coef1*(z[1:-1]/dz[1:])*wall[2:] +\n",
    "                     (-i*f - coef1*(z[1:-1]/dz[1:]+z[:-2]/dz[:-1]))*wall[1:-1] +\n",
    "                     coef1*(z[:-2]/dz[:-1])*wall[:-2])\n",
    "    \n",
    "    dwdt = dwalldt[1:-1]\n",
    "    \n",
    "    dwdt_out = np.concatenate([np.real(dwdt),np.imag(dwdt)])\n",
    "    \n",
    "    return dwdt_out"
   ]
  },
  {
   "cell_type": "code",
   "execution_count": 18,
   "metadata": {},
   "outputs": [
    {
     "name": "stdout",
     "output_type": "stream",
     "text": [
      "zo: 0.0001 ( 1 / 25 )\n"
     ]
    },
    {
     "ename": "NameError",
     "evalue": "name 'dwdt_bbl' is not defined",
     "output_type": "error",
     "traceback": [
      "\u001b[0;31m---------------------------------------------------------------------------\u001b[0m",
      "\u001b[0;31mNameError\u001b[0m                                 Traceback (most recent call last)",
      "\u001b[0;32m<ipython-input-18-52c222803b6d>\u001b[0m in \u001b[0;36m<module>\u001b[0;34m\u001b[0m\n\u001b[1;32m     21\u001b[0m \u001b[0;34m\u001b[0m\u001b[0m\n\u001b[1;32m     22\u001b[0m     \u001b[0mtic\u001b[0m \u001b[0;34m=\u001b[0m \u001b[0mnp\u001b[0m\u001b[0;34m.\u001b[0m\u001b[0mdatetime64\u001b[0m\u001b[0;34m(\u001b[0m\u001b[0;34m'now'\u001b[0m\u001b[0;34m)\u001b[0m\u001b[0;34m\u001b[0m\u001b[0;34m\u001b[0m\u001b[0m\n\u001b[0;32m---> 23\u001b[0;31m     \u001b[0ma\u001b[0m \u001b[0;34m=\u001b[0m \u001b[0msolve_ivp\u001b[0m\u001b[0;34m(\u001b[0m\u001b[0mdwdt_bbl\u001b[0m\u001b[0;34m,\u001b[0m \u001b[0mt_span\u001b[0m\u001b[0;34m=\u001b[0m\u001b[0;34m[\u001b[0m\u001b[0mtobs\u001b[0m\u001b[0;34m[\u001b[0m\u001b[0;36m0\u001b[0m\u001b[0;34m]\u001b[0m\u001b[0;34m,\u001b[0m\u001b[0mtf\u001b[0m\u001b[0;34m]\u001b[0m\u001b[0;34m,\u001b[0m \u001b[0my0\u001b[0m \u001b[0;34m=\u001b[0m \u001b[0mw0\u001b[0m\u001b[0;34m,\u001b[0m \u001b[0mt_eval\u001b[0m \u001b[0;34m=\u001b[0m \u001b[0mtobs\u001b[0m\u001b[0;34m[\u001b[0m\u001b[0mtobs\u001b[0m\u001b[0;34m<=\u001b[0m\u001b[0mtf\u001b[0m\u001b[0;34m]\u001b[0m\u001b[0;34m,\u001b[0m \u001b[0mmethod\u001b[0m\u001b[0;34m=\u001b[0m\u001b[0;34m'BDF'\u001b[0m\u001b[0;34m)\u001b[0m\u001b[0;34m\u001b[0m\u001b[0;34m\u001b[0m\u001b[0m\n\u001b[0m\u001b[1;32m     24\u001b[0m     \u001b[0mtoc\u001b[0m \u001b[0;34m=\u001b[0m \u001b[0mnp\u001b[0m\u001b[0;34m.\u001b[0m\u001b[0mdatetime64\u001b[0m\u001b[0;34m(\u001b[0m\u001b[0;34m'now'\u001b[0m\u001b[0;34m)\u001b[0m\u001b[0;34m\u001b[0m\u001b[0;34m\u001b[0m\u001b[0m\n\u001b[1;32m     25\u001b[0m     \u001b[0mprint\u001b[0m\u001b[0;34m(\u001b[0m\u001b[0mtoc\u001b[0m\u001b[0;34m-\u001b[0m\u001b[0mtic\u001b[0m\u001b[0;34m)\u001b[0m\u001b[0;34m\u001b[0m\u001b[0;34m\u001b[0m\u001b[0m\n",
      "\u001b[0;31mNameError\u001b[0m: name 'dwdt_bbl' is not defined"
     ]
    }
   ],
   "source": [
    "nzo = 25\n",
    "zo_array = np.logspace(-4,np.log10(0.3),nzo) # roughness length array\n",
    "\n",
    "tf = 31*86400\n",
    "ntimes = len(tobs[tobs<=tf])\n",
    "\n",
    "nz = 201\n",
    "\n",
    "w_sol_all = np.nan*np.ones([ntimes,nz-2,nzo]) + i*np.nan*np.ones([ntimes,nz-2,nzo])\n",
    "w_sol_obs_all = np.nan*np.ones([ntimes,len(zobs),nzo]) + i*np.nan*np.ones([ntimes,len(zobs),nzo])\n",
    "\n",
    "for zi,zo in enumerate(zo_array):\n",
    "    print('zo:',zo,'(',zi+1,'/',nzo,')')\n",
    "\n",
    "    z = np.logspace(np.log10(zo),np.log10(zf),nz)\n",
    "    dz = np.diff(z)\n",
    "    \n",
    "    w0_obs = np.interp(z,zobs[1:bini],wobs[0,1:bini])[1:-1]\n",
    "    w0 = np.concatenate([np.real(w0_obs),\n",
    "                           np.imag(w0_obs)])\n",
    "\n",
    "    tic = np.datetime64('now')\n",
    "    a = solve_ivp(dwdt_bbl, t_span=[tobs[0],tf], y0 = w0, t_eval = tobs[tobs<=tf], method='BDF')\n",
    "    toc = np.datetime64('now')\n",
    "    print(toc-tic)\n",
    "    \n",
    "    N = int(np.shape(a.y)[0]/2)\n",
    "    t_sol = a.t\n",
    "    w_sol = a.y[:N,:]+i*a.y[N:,:]\n",
    "    \n",
    "    fint= interp1d(z[1:-1],w_sol,axis=0,\n",
    "                   bounds_error=False,fill_value = np.nan+i*np.nan)\n",
    "    w_sol_obs = fint(zobs)\n",
    "    \n",
    "    w_sol_all[:,:,zi] = w_sol.T\n",
    "    w_sol_obs_all[:,:,zi] = w_sol_obs.T"
   ]
  },
  {
   "cell_type": "code",
   "execution_count": 13,
   "metadata": {},
   "outputs": [],
   "source": [
    "bbl_sols = xr.Dataset(\n",
    "        data_vars={'uobs_subset':    (('tobs', 'zobs'), np.real(wobs[tobs<=tf,:])),\n",
    "                   'vobs_subset':    (('tobs', 'zobs'), np.imag(wobs[tobs<=tf,:])),\n",
    "                   'usol_all': (('tobs','zsol','zo'), np.real(w_sol_all)),\n",
    "                   'vsol_all': (('tobs','zsol','zo'), np.imag(w_sol_all)),\n",
    "                   'usol_obs_all': (('tobs','zobs','zo'), np.real(w_sol_obs_all)),\n",
    "                   'vsol_obs_all': (('tobs','zobs','zo'), np.imag(w_sol_obs_all)),                  },\n",
    "        coords={'zobs': zobs,\n",
    "                'tobs': tobs[tobs<=tf],\n",
    "                'zo':zo_array})\n",
    "bbl_sols.to_netcdf('bbl_sols_neww.nc',mode='w')\n",
    "bbl_sols.close()"
   ]
  },
  {
   "cell_type": "code",
   "execution_count": null,
   "metadata": {},
   "outputs": [],
   "source": [
    "w_sol = np.squeeze(w_sol_all[:,:,0])"
   ]
  },
  {
   "cell_type": "code",
   "execution_count": null,
   "metadata": {},
   "outputs": [],
   "source": [
    "plt.figure()\n",
    "plt.subplot(211)\n",
    "plt.plot(t_sol,np.real(w_sol),color='gray')\n",
    "plt.plot(tobs[0:12],np.real(wobs[0:12,bini]))\n",
    "\n",
    "plt.subplot(212)\n",
    "plt.plot(t_sol,np.imag(w_sol),color='gray')\n",
    "plt.plot(tobs[0:12],np.imag(wobs[0:12,bini]))"
   ]
  },
  {
   "cell_type": "code",
   "execution_count": null,
   "metadata": {},
   "outputs": [],
   "source": [
    "plt.figure()\n",
    "plt.plot(np.imag(np.squeeze(w_sol_obs_all[-1,:,:])),zobs)"
   ]
  },
  {
   "cell_type": "code",
   "execution_count": null,
   "metadata": {},
   "outputs": [],
   "source": [
    "np.diff(a.t[0:100])"
   ]
  },
  {
   "cell_type": "markdown",
   "metadata": {},
   "source": [
    "### Test with steady forcing"
   ]
  },
  {
   "cell_type": "code",
   "execution_count": null,
   "metadata": {},
   "outputs": [],
   "source": [
    "winf_steady = 0.04+i*0\n",
    "w0_steady = np.concatenate([np.real(winf_steady)*np.ones(N),\n",
    "                           np.imag(winf_steady)*np.ones(N)])\n",
    "zo = 0.01\n",
    "\n",
    "def dwdt_bbl_steady(t, w_in):\n",
    "    N = int(len(w_in)/2)\n",
    "    w = w_in[:N]+i*w_in[N:]\n",
    "    \n",
    "    winf = winf_steady\n",
    "    dwinfdt = 0+i*0\n",
    "\n",
    "    F = dwinfdt + i*f*winf\n",
    "    ustar = kappa*zo*np.abs(w[1])/dz[0]\n",
    "    coef1 = 2*kappa*ustar/(dz[:-1]+dz[1:])\n",
    "\n",
    "    wall = np.concatenate([np.atleast_1d(0+i*0),w,np.atleast_1d(winf)])\n",
    "    \n",
    "    dwalldt = np.nan*np.ones(np.shape(wall))+i*np.nan*np.ones(np.shape(wall))\n",
    "    dwalldt[1:-1] = (F +\n",
    "                     coef1*(z[1:-1]/dz[1:])*wall[2:] +\n",
    "                     (-i*f - coef1*(z[1:-1]/dz[1:]+z[:-2]/dz[:-1]))*wall[1:-1] +\n",
    "                     coef1*(z[:-2]/dz[:-1])*wall[:-2])\n",
    "    \n",
    "    dwdt = dwalldt[1:-1]\n",
    "    #print(dwdt)\n",
    "    \n",
    "    dwdt_out = np.concatenate([np.real(dwdt),np.imag(dwdt)])\n",
    "    \n",
    "    return dwdt_out"
   ]
  },
  {
   "cell_type": "code",
   "execution_count": null,
   "metadata": {},
   "outputs": [],
   "source": [
    "modsteady = solve_ivp(dwdt_bbl_steady, t_span=[0,2*86400], \n",
    "                      y0 = w0_steady, method='BDF')"
   ]
  },
  {
   "cell_type": "code",
   "execution_count": null,
   "metadata": {},
   "outputs": [],
   "source": [
    "t_sol_steady = modsteady.t\n",
    "w_sol_steady = modsteady.y[:N,:]+i*modsteady.y[N:,:]"
   ]
  },
  {
   "cell_type": "code",
   "execution_count": null,
   "metadata": {},
   "outputs": [],
   "source": [
    "plt.figure()\n",
    "plt.subplot(121)\n",
    "plt.plot(np.real(w_sol_steady[:,-1]),z[1:-1]);\n",
    "plt.plot(np.imag(w_sol_steady[:,-1]),z[1:-1]);\n",
    "#plt.plot(tobs[0:12*24],wobs[0:12*24,bini])"
   ]
  },
  {
   "cell_type": "code",
   "execution_count": null,
   "metadata": {},
   "outputs": [],
   "source": [
    "ustar_steady = kappa*zo*np.abs(w_sol_steady[1,-1])/dz[0]"
   ]
  },
  {
   "cell_type": "code",
   "execution_count": null,
   "metadata": {},
   "outputs": [],
   "source": [
    "ustar_steady"
   ]
  },
  {
   "cell_type": "code",
   "execution_count": null,
   "metadata": {},
   "outputs": [],
   "source": [
    "dz"
   ]
  },
  {
   "cell_type": "code",
   "execution_count": null,
   "metadata": {},
   "outputs": [],
   "source": []
  }
 ],
 "metadata": {
  "kernelspec": {
   "display_name": "Python [conda env:py37]",
   "language": "python",
   "name": "conda-env-py37-py"
  },
  "language_info": {
   "codemirror_mode": {
    "name": "ipython",
    "version": 3
   },
   "file_extension": ".py",
   "mimetype": "text/x-python",
   "name": "python",
   "nbconvert_exporter": "python",
   "pygments_lexer": "ipython3",
   "version": "3.7.2"
  }
 },
 "nbformat": 4,
 "nbformat_minor": 2
}
