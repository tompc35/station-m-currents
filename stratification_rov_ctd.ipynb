{
 "cells": [
  {
   "cell_type": "code",
   "execution_count": 1,
   "metadata": {},
   "outputs": [],
   "source": [
    "%matplotlib widget\n",
    "import pandas as pd\n",
    "import numpy as np\n",
    "import matplotlib.pyplot as plt\n",
    "from glob import glob\n",
    "import gsw"
   ]
  },
  {
   "cell_type": "code",
   "execution_count": 3,
   "metadata": {},
   "outputs": [],
   "source": [
    "ctd_dir = 'data/CTD_data_Station_M/'\n",
    "\n",
    "file_list = glob(ctd_dir+'*CtdDer.txt')\n",
    "\n",
    "#filename = '2006347tibrCtdDer.txt'"
   ]
  },
  {
   "cell_type": "code",
   "execution_count": 4,
   "metadata": {},
   "outputs": [],
   "source": [
    "mlat = 35+8.4585/60  \n",
    "mlon = -122-59.9036/60"
   ]
  },
  {
   "cell_type": "code",
   "execution_count": 5,
   "metadata": {},
   "outputs": [],
   "source": [
    "dz = 1\n",
    "salspike_thresh = 0.2"
   ]
  },
  {
   "cell_type": "code",
   "execution_count": 30,
   "metadata": {},
   "outputs": [
    {
     "data": {
      "application/vnd.jupyter.widget-view+json": {
       "model_id": "58e924cc632e461682c81fef619ba8df",
       "version_major": 2,
       "version_minor": 0
      },
      "text/plain": [
       "FigureCanvasNbAgg()"
      ]
     },
     "metadata": {},
     "output_type": "display_data"
    },
    {
     "name": "stderr",
     "output_type": "stream",
     "text": [
      "/Users/tomconnolly/programs/anaconda/envs/py37/lib/python3.7/site-packages/ipykernel/__main__.py:16: SettingWithCopyWarning: \n",
      "A value is trying to be set on a copy of a slice from a DataFrame\n",
      "\n",
      "See the caveats in the documentation: http://pandas.pydata.org/pandas-docs/stable/indexing.html#indexing-view-versus-copy\n",
      "/Users/tomconnolly/programs/anaconda/envs/py37/lib/python3.7/site-packages/ipykernel/__main__.py:17: SettingWithCopyWarning: \n",
      "A value is trying to be set on a copy of a slice from a DataFrame\n",
      "\n",
      "See the caveats in the documentation: http://pandas.pydata.org/pandas-docs/stable/indexing.html#indexing-view-versus-copy\n",
      "/Users/tomconnolly/programs/anaconda/envs/py37/lib/python3.7/site-packages/ipykernel/__main__.py:18: SettingWithCopyWarning: \n",
      "A value is trying to be set on a copy of a slice from a DataFrame\n",
      "\n",
      "See the caveats in the documentation: http://pandas.pydata.org/pandas-docs/stable/indexing.html#indexing-view-versus-copy\n",
      "/Users/tomconnolly/programs/anaconda/envs/py37/lib/python3.7/site-packages/ipykernel/__main__.py:33: RuntimeWarning: invalid value encountered in sqrt\n"
     ]
    }
   ],
   "source": [
    "plt.figure()\n",
    "plt.gca().invert_yaxis()\n",
    "\n",
    "dflist = []\n",
    "\n",
    "for i,filename in enumerate(file_list):\n",
    "    try:\n",
    "        df = pd.read_csv(filename)\n",
    "        \n",
    "        \n",
    "        #spi, = np.where((np.abs(np.diff(df['salin']))>0.2) | (np.abs(np.diff(df['pres']))>10))\n",
    "        spi, = np.where((np.abs(np.diff(df['salin'][:-1]))>salspike_thresh) & \n",
    "                        (np.abs(np.diff(df['salin'][1:]))>salspike_thresh))\n",
    "        spi = spi+1\n",
    "        \n",
    "        df['salin'][spi] = np.nan\n",
    "        df['sigmat'][spi] = np.nan\n",
    "        df['sigmatheta'][spi] = np.nan\n",
    "        \n",
    "        df['SA'] = gsw.SA_from_SP(df['salin'], df['pres'], mlon, mlat)\n",
    "        df['CT'] = gsw.CT_from_t(df['SA'],df['temp'],df['pres'])\n",
    "        df['sigma0'] = gsw.sigma0(df['SA'],df['CT'])\n",
    "        df['sigma4'] = gsw.sigma4(df['SA'],df['CT'])\n",
    "        \n",
    "        df['zp'] = np.floor(df['pres']/dz+0.5)*dz\n",
    "        dfm = df.groupby('zp').mean()\n",
    "        \n",
    "        dfm['SA'] = dfm['SA'].rolling(50,win_type='hanning').mean()\n",
    "        dfm['CT'] = dfm['CT'].rolling(50,win_type='hanning').mean()\n",
    "        #dfm['SA'] = dfm['sigmatheta'].rolling(25,win_type='hanning').mean()\n",
    "        \n",
    "        Nsq,pr_mid = gsw.Nsquared(dfm['SA'],dfm['CT'],dfm.index,lat=mlat)\n",
    "        N = np.sqrt(Nsq)\n",
    "        \n",
    "        if i==0:\n",
    "            dfall = dfm\n",
    "        else:\n",
    "            dfall = dfall.append(dfm)\n",
    "        \n",
    "        plt.semilogx(N,pr_mid)\n",
    "    except:\n",
    "        pass"
   ]
  },
  {
   "cell_type": "code",
   "execution_count": 14,
   "metadata": {},
   "outputs": [
    {
     "ename": "NameError",
     "evalue": "name 'dfm' is not defined",
     "output_type": "error",
     "traceback": [
      "\u001b[0;31m---------------------------------------------------------------------------\u001b[0m",
      "\u001b[0;31mNameError\u001b[0m                                 Traceback (most recent call last)",
      "\u001b[0;32m<ipython-input-14-ec1c875c04d9>\u001b[0m in \u001b[0;36m<module>\u001b[0;34m\u001b[0m\n\u001b[0;32m----> 1\u001b[0;31m \u001b[0mdfmean\u001b[0m \u001b[0;34m=\u001b[0m \u001b[0mdfm\u001b[0m\u001b[0;34m.\u001b[0m\u001b[0mgroupby\u001b[0m\u001b[0;34m(\u001b[0m\u001b[0;34m'zp'\u001b[0m\u001b[0;34m)\u001b[0m\u001b[0;34m.\u001b[0m\u001b[0mmean\u001b[0m\u001b[0;34m(\u001b[0m\u001b[0;34m)\u001b[0m\u001b[0;34m\u001b[0m\u001b[0;34m\u001b[0m\u001b[0m\n\u001b[0m\u001b[1;32m      2\u001b[0m \u001b[0;34m\u001b[0m\u001b[0m\n\u001b[1;32m      3\u001b[0m \u001b[0mplt\u001b[0m\u001b[0;34m.\u001b[0m\u001b[0mfigure\u001b[0m\u001b[0;34m(\u001b[0m\u001b[0;34m)\u001b[0m\u001b[0;34m\u001b[0m\u001b[0;34m\u001b[0m\u001b[0m\n\u001b[1;32m      4\u001b[0m \u001b[0mplt\u001b[0m\u001b[0;34m.\u001b[0m\u001b[0mplot\u001b[0m\u001b[0;34m(\u001b[0m\u001b[0mdfall\u001b[0m\u001b[0;34m[\u001b[0m\u001b[0;34m'sigmatheta'\u001b[0m\u001b[0;34m]\u001b[0m\u001b[0;34m,\u001b[0m\u001b[0mdfall\u001b[0m\u001b[0;34m.\u001b[0m\u001b[0mindex\u001b[0m\u001b[0;34m,\u001b[0m\u001b[0mlinewidth\u001b[0m\u001b[0;34m=\u001b[0m\u001b[0;36m1\u001b[0m\u001b[0;34m,\u001b[0m\u001b[0mcolor\u001b[0m\u001b[0;34m=\u001b[0m\u001b[0;34m'gray'\u001b[0m\u001b[0;34m)\u001b[0m\u001b[0;34m\u001b[0m\u001b[0;34m\u001b[0m\u001b[0m\n\u001b[1;32m      5\u001b[0m \u001b[0mplt\u001b[0m\u001b[0;34m.\u001b[0m\u001b[0mplot\u001b[0m\u001b[0;34m(\u001b[0m\u001b[0mdfmean\u001b[0m\u001b[0;34m[\u001b[0m\u001b[0;34m'sigmatheta'\u001b[0m\u001b[0;34m]\u001b[0m\u001b[0;34m,\u001b[0m\u001b[0mdfmean\u001b[0m\u001b[0;34m.\u001b[0m\u001b[0mindex\u001b[0m\u001b[0;34m,\u001b[0m\u001b[0mlinewidth\u001b[0m\u001b[0;34m=\u001b[0m\u001b[0;36m2\u001b[0m\u001b[0;34m,\u001b[0m\u001b[0mcolor\u001b[0m\u001b[0;34m=\u001b[0m\u001b[0;34m'k'\u001b[0m\u001b[0;34m)\u001b[0m\u001b[0;34m\u001b[0m\u001b[0;34m\u001b[0m\u001b[0m\n",
      "\u001b[0;31mNameError\u001b[0m: name 'dfm' is not defined"
     ]
    }
   ],
   "source": [
    "dfmean = dfm.groupby('zp').mean()\n",
    "\n",
    "plt.figure()\n",
    "plt.plot(dfall['sigmatheta'],dfall.index,linewidth=1,color='gray')\n",
    "plt.plot(dfmean['sigmatheta'],dfmean.index,linewidth=2,color='k')\n",
    "plt.gca().invert_yaxis()"
   ]
  },
  {
   "cell_type": "code",
   "execution_count": null,
   "metadata": {},
   "outputs": [],
   "source": [
    "f = gsw.f(35+8.4585/60)\n",
    "\n",
    "sigmatheta = np.array(dfmean['sigmatheta'])\n",
    "zp = np.array(dfmean.index)\n",
    "drhodz = -(sigmatheta[2:]-sigmatheta[:-2])/(zp[2:]-zp[:-2])\n",
    "z = 0.5*(zp[2:]+zp[:-2])\n",
    "\n",
    "N = np.sqrt(-9.8*drhodz/1025)"
   ]
  },
  {
   "cell_type": "code",
   "execution_count": null,
   "metadata": {},
   "outputs": [],
   "source": [
    "plt.figure()\n",
    "plt.semilogx(-drhodz[:-1],z[:-1])\n",
    "yl = plt.ylim()\n",
    "plt.semilogx([f,f],yl,'k--')\n",
    "plt.ylim(yl)\n",
    "plt.gca().invert_yaxis()"
   ]
  },
  {
   "cell_type": "code",
   "execution_count": null,
   "metadata": {},
   "outputs": [],
   "source": [
    "plt.figure()\n",
    "plt.plot(-drhodz[:-1],z[:-1])\n",
    "yl = plt.ylim()\n",
    "plt.plot([f,f],yl,'k--')\n",
    "plt.ylim(yl)\n",
    "plt.gca().invert_yaxis()"
   ]
  },
  {
   "cell_type": "code",
   "execution_count": null,
   "metadata": {},
   "outputs": [],
   "source": [
    "len(np.array(dfmean.index))"
   ]
  },
  {
   "cell_type": "code",
   "execution_count": null,
   "metadata": {},
   "outputs": [],
   "source": [
    "plt.figure()\n",
    "plt.hist(np.diff(df['salin']),100)"
   ]
  },
  {
   "cell_type": "code",
   "execution_count": null,
   "metadata": {},
   "outputs": [],
   "source": []
  },
  {
   "cell_type": "code",
   "execution_count": null,
   "metadata": {},
   "outputs": [],
   "source": [
    "dfm"
   ]
  },
  {
   "cell_type": "code",
   "execution_count": null,
   "metadata": {},
   "outputs": [],
   "source": []
  }
 ],
 "metadata": {
  "kernelspec": {
   "display_name": "Python [conda env:py37]",
   "language": "python",
   "name": "conda-env-py37-py"
  },
  "language_info": {
   "codemirror_mode": {
    "name": "ipython",
    "version": 3
   },
   "file_extension": ".py",
   "mimetype": "text/x-python",
   "name": "python",
   "nbconvert_exporter": "python",
   "pygments_lexer": "ipython3",
   "version": "3.7.2"
  }
 },
 "nbformat": 4,
 "nbformat_minor": 2
}
