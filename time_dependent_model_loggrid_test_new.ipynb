{
 "cells": [
  {
   "cell_type": "code",
   "execution_count": 1,
   "metadata": {},
   "outputs": [],
   "source": [
    "%matplotlib widget\n",
    "import numpy as np\n",
    "import matplotlib.pyplot as plt\n",
    "import xarray as xr\n",
    "\n",
    "import gsw\n",
    "\n",
    "from scipy.integrate import solve_ivp"
   ]
  },
  {
   "cell_type": "code",
   "execution_count": 2,
   "metadata": {},
   "outputs": [],
   "source": [
    "ds = xr.open_dataset('data/MBARI_StationM_ADCP_201711_201811.nc')"
   ]
  },
  {
   "cell_type": "code",
   "execution_count": 3,
   "metadata": {},
   "outputs": [],
   "source": [
    "lat = 35+8.4585/60\n",
    "bini = 15"
   ]
  },
  {
   "cell_type": "markdown",
   "metadata": {},
   "source": [
    "Smooth ADCP time series\n",
    "* 30-min running median to remove spikes\n",
    "* 60-min running mean to smooth"
   ]
  },
  {
   "cell_type": "code",
   "execution_count": 4,
   "metadata": {},
   "outputs": [],
   "source": [
    "ds['Eas_sm'] = ds['Eas'].rolling(time=6,center=True).median().rolling(time=12,center=True).mean()\n",
    "ds['Nor_sm'] = ds['Nor'].rolling(time=6,center=True).median().rolling(time=12,center=True).mean()"
   ]
  },
  {
   "cell_type": "code",
   "execution_count": 5,
   "metadata": {},
   "outputs": [
    {
     "data": {
      "application/vnd.jupyter.widget-view+json": {
       "model_id": "c06d877c61b8403c81d7d31ea70e734c",
       "version_major": 2,
       "version_minor": 0
      },
      "text/plain": [
       "FigureCanvasNbAgg()"
      ]
     },
     "metadata": {},
     "output_type": "display_data"
    },
    {
     "data": {
      "text/plain": [
       "Text(0.5, 1.0, 'eastward velocity')"
      ]
     },
     "execution_count": 5,
     "metadata": {},
     "output_type": "execute_result"
    }
   ],
   "source": [
    "plt.figure(figsize=(8,4))\n",
    "plt.plot(ds['time'],ds['Eas_sm'][:,bini]);\n",
    "plt.plot(ds['time'],ds['Eas'][:,bini],'--');\n",
    "plt.plot(ds['time'],ds['Eas_sm'][:,1],'-');\n",
    "#plt.plot(ds['time'],ds['Eas'][:,1]);\n",
    "plt.ylabel('m/s')\n",
    "plt.title('eastward velocity')"
   ]
  },
  {
   "cell_type": "code",
   "execution_count": 6,
   "metadata": {},
   "outputs": [
    {
     "data": {
      "application/vnd.jupyter.widget-view+json": {
       "model_id": "cfe4587ebada45788e588c1891946b8b",
       "version_major": 2,
       "version_minor": 0
      },
      "text/plain": [
       "FigureCanvasNbAgg()"
      ]
     },
     "metadata": {},
     "output_type": "display_data"
    },
    {
     "data": {
      "text/plain": [
       "Text(0.5, 1.0, 'northward velocity')"
      ]
     },
     "execution_count": 6,
     "metadata": {},
     "output_type": "execute_result"
    }
   ],
   "source": [
    "plt.figure(figsize=(8,4))\n",
    "plt.plot(ds['time'],ds['Nor_sm'][:,bini]);\n",
    "plt.legend(['Bin 15','Bin 1'])\n",
    "plt.ylabel('m/s')\n",
    "plt.title('northward velocity')"
   ]
  },
  {
   "cell_type": "markdown",
   "metadata": {},
   "source": [
    "### Test with limited obs\n"
   ]
  },
  {
   "cell_type": "code",
   "execution_count": 7,
   "metadata": {},
   "outputs": [],
   "source": [
    "zf = ds['binheight'][bini] # upper boundary height\n",
    "zobs = np.array(ds['binheight'][0:(bini+1)])"
   ]
  },
  {
   "cell_type": "code",
   "execution_count": 8,
   "metadata": {},
   "outputs": [],
   "source": [
    "zo = 0.03 # roughness length\n",
    "i = 1j\n",
    "kappa = 0.41 # Von Karman constant\n",
    "f = gsw.f(lat)\n",
    "\n",
    "z = np.logspace(np.log10(zo),np.log10(zf),201)\n",
    "dz = np.diff(z)"
   ]
  },
  {
   "cell_type": "code",
   "execution_count": 9,
   "metadata": {},
   "outputs": [],
   "source": [
    "gi = np.isfinite(ds['Eas_sm'][:,0])\n",
    "tobs = np.array((ds['time'][gi] - ds['time'][gi][0])/np.timedelta64(1,'s')) # array of times in seconds\n",
    "deltat = tobs[1]-tobs[0]"
   ]
  },
  {
   "cell_type": "code",
   "execution_count": 10,
   "metadata": {},
   "outputs": [],
   "source": [
    "wobs = np.array(ds['Eas_sm'][gi,0:(bini+1)]+i*ds['Nor_sm'][gi,0:(bini+1)])\n",
    "\n",
    "w0_obs = np.interp(z,zobs[1:bini],wobs[0,1:bini])[1:-1]\n",
    "w0 = np.concatenate([np.real(w0_obs),\n",
    "                           np.imag(w0_obs)])\n",
    "\n",
    "dwobsdt = np.gradient(wobs,deltat,axis=0)"
   ]
  },
  {
   "cell_type": "code",
   "execution_count": 11,
   "metadata": {},
   "outputs": [],
   "source": [
    "def dwdt_bbl(t, w_in):\n",
    "    # Note that w_in is real and complex parts concatenates\n",
    "    # need to combine into complex numbers\n",
    "    # Scipy docs say that ode solvers RK45 and BDF can be used in complex plane\n",
    "    # https://docs.scipy.org/doc/scipy/reference/generated/scipy.integrate.BDF.html#scipy.integrate.BDF\n",
    "    # but perhaps this does not work for *arrays* of complex numbers?\n",
    "    # Test this and check Numpy Github issues for similar problems\n",
    "    \n",
    "    \n",
    "    N = int(len(w_in)/2)\n",
    "    w = w_in[:N]+i*w_in[N:]\n",
    "    \n",
    "    winf = np.interp(t,tobs,wobs[:,bini])\n",
    "    dwinfdt = np.interp(t,tobs,dwobsdt[:,bini])\n",
    "\n",
    "    wall = np.concatenate([np.atleast_1d(0+i*0),w,np.atleast_1d(winf)])\n",
    "    \n",
    "    ustar = kappa*zo*np.abs(w[1])/dz[0]\n",
    "    coef1 = 2*kappa*ustar/(dz[:-1]+dz[1:])\n",
    "    \n",
    "    st =  (coef1*(z[1:-1]/dz[1:])*wall[2:]\n",
    "         - coef1*(z[1:-1]/dz[1:]+z[:-2]/dz[:-1])*wall[1:-1]\n",
    "         + coef1*(z[:-2]/dz[:-1])*wall[:-2])\n",
    "    \n",
    "    F = dwinfdt + i*f*winf + st[-1]\n",
    "\n",
    "    \n",
    "    dwalldt = np.nan*np.ones(np.shape(wall))+i*np.nan*np.ones(np.shape(wall))\n",
    "    dwalldt[1:-1] = (F +\n",
    "                     coef1*(z[1:-1]/dz[1:])*wall[2:] +\n",
    "                     (-i*f - coef1*(z[1:-1]/dz[1:]+z[:-2]/dz[:-1]))*wall[1:-1] +\n",
    "                     coef1*(z[:-2]/dz[:-1])*wall[:-2])\n",
    "    \n",
    "    dwdt = dwalldt[1:-1]\n",
    "    \n",
    "    dwdt_out = np.concatenate([np.real(dwdt),np.imag(dwdt)])\n",
    "    \n",
    "    return dwdt_out"
   ]
  },
  {
   "cell_type": "code",
   "execution_count": 12,
   "metadata": {},
   "outputs": [
    {
     "name": "stdout",
     "output_type": "stream",
     "text": [
      "2020-01-13T08:22:45\n",
      "2020-01-13T08:22:52\n",
      "7 seconds\n"
     ]
    }
   ],
   "source": [
    "#%%timeit\n",
    "\n",
    "#tf = tobs[-1]\n",
    "tf = 3600\n",
    "\n",
    "\n",
    "tic = np.datetime64('now')\n",
    "print(tic)\n",
    "a = solve_ivp(dwdt_bbl, t_span=[tobs[0],tf], y0 = w0, t_eval = tobs[tobs<=tf], method='BDF')\n",
    "toc = np.datetime64('now')\n",
    "print(toc)\n",
    "print(toc-tic)\n",
    "#a = solve_ivp(dwdt_bbl, t_span=[tobs[0],tf], y0 = w0, method='BDF')"
   ]
  },
  {
   "cell_type": "code",
   "execution_count": 13,
   "metadata": {},
   "outputs": [],
   "source": [
    "N = int(np.shape(a.y)[0]/2)\n",
    "\n",
    "t_sol = a.t\n",
    "w_sol = a.y[:N,:]+i*a.y[N:,:]"
   ]
  },
  {
   "cell_type": "code",
   "execution_count": 14,
   "metadata": {},
   "outputs": [
    {
     "data": {
      "application/vnd.jupyter.widget-view+json": {
       "model_id": "ae743ee6355747818a73300c74321769",
       "version_major": 2,
       "version_minor": 0
      },
      "text/plain": [
       "FigureCanvasNbAgg()"
      ]
     },
     "metadata": {},
     "output_type": "display_data"
    },
    {
     "data": {
      "text/plain": [
       "[<matplotlib.lines.Line2D at 0x1728af8c88>]"
      ]
     },
     "execution_count": 14,
     "metadata": {},
     "output_type": "execute_result"
    }
   ],
   "source": [
    "plt.figure()\n",
    "plt.subplot(211)\n",
    "plt.plot(t_sol,np.real(w_sol).T,color='gray')\n",
    "plt.plot(tobs[0:12],np.real(wobs[0:12,bini]))\n",
    "\n",
    "plt.subplot(212)\n",
    "plt.plot(t_sol,np.imag(w_sol).T,color='gray')\n",
    "plt.plot(tobs[0:12],np.imag(wobs[0:12,bini]))"
   ]
  },
  {
   "cell_type": "code",
   "execution_count": 15,
   "metadata": {},
   "outputs": [
    {
     "data": {
      "text/plain": [
       "array([300., 300., 300., 300., 300., 300., 300., 300., 300., 300., 300.,\n",
       "       300.])"
      ]
     },
     "execution_count": 15,
     "metadata": {},
     "output_type": "execute_result"
    }
   ],
   "source": [
    "np.diff(a.t[0:100])"
   ]
  },
  {
   "cell_type": "markdown",
   "metadata": {},
   "source": [
    "### Test with steady forcing"
   ]
  },
  {
   "cell_type": "code",
   "execution_count": 30,
   "metadata": {},
   "outputs": [],
   "source": [
    "winf_steady = 0.08+i*0\n",
    "w0_steady = np.concatenate([np.real(winf_steady)*np.ones(N),\n",
    "                           np.imag(winf_steady)*np.ones(N)])\n",
    "zo = 0.001\n",
    "\n",
    "def dwdt_bbl_steady(t, w_in):\n",
    "    N = int(len(w_in)/2)\n",
    "    w = w_in[:N]+i*w_in[N:]\n",
    "    \n",
    "    winf = winf_steady\n",
    "    dwinfdt = 0+i*0\n",
    "\n",
    "    \n",
    "    ustar = kappa*zo*np.abs(w[1])/dz[0]\n",
    "    coef1 = 2*kappa*ustar/(dz[:-1]+dz[1:])\n",
    "\n",
    "    wall = np.concatenate([np.atleast_1d(0+i*0),w,np.atleast_1d(winf)])\n",
    "    \n",
    "    st =  (coef1*(z[1:-1]/dz[1:])*wall[2:]\n",
    "     - coef1*(z[1:-1]/dz[1:]+z[:-2]/dz[:-1])*wall[1:-1]\n",
    "     + coef1*(z[:-2]/dz[:-1])*wall[:-2])\n",
    "    \n",
    "    F = dwinfdt + i*f*winf - st[-1]\n",
    "\n",
    "    dwalldt = np.nan*np.ones(np.shape(wall))+i*np.nan*np.ones(np.shape(wall))\n",
    "    dwalldt[1:-1] = (F +\n",
    "                     coef1*(z[1:-1]/dz[1:])*wall[2:] +\n",
    "                     (-i*f - coef1*(z[1:-1]/dz[1:]+z[:-2]/dz[:-1]))*wall[1:-1] +\n",
    "                     coef1*(z[:-2]/dz[:-1])*wall[:-2])\n",
    "    \n",
    "    dwdt = dwalldt[1:-1]\n",
    "    #print(dwdt)\n",
    "    \n",
    "    dwdt_out = np.concatenate([np.real(dwdt),np.imag(dwdt)])\n",
    "    \n",
    "    return dwdt_out"
   ]
  },
  {
   "cell_type": "code",
   "execution_count": 31,
   "metadata": {},
   "outputs": [],
   "source": [
    "modsteady = solve_ivp(dwdt_bbl_steady, t_span=[0,2*86400], \n",
    "                      y0 = w0_steady, method='BDF')"
   ]
  },
  {
   "cell_type": "code",
   "execution_count": 32,
   "metadata": {},
   "outputs": [],
   "source": [
    "t_sol_steady = modsteady.t\n",
    "w_sol_steady = modsteady.y[:N,:]+i*modsteady.y[N:,:]"
   ]
  },
  {
   "cell_type": "code",
   "execution_count": 33,
   "metadata": {},
   "outputs": [
    {
     "data": {
      "application/vnd.jupyter.widget-view+json": {
       "model_id": "2bb1092f3117499ebc7cb0263efa6004",
       "version_major": 2,
       "version_minor": 0
      },
      "text/plain": [
       "FigureCanvasNbAgg()"
      ]
     },
     "metadata": {},
     "output_type": "display_data"
    }
   ],
   "source": [
    "plt.figure()\n",
    "plt.subplot(121)\n",
    "plt.plot(np.real(w_sol_steady[:,-1]),z[1:-1]);\n",
    "plt.plot(np.imag(w_sol_steady[:,-1]),z[1:-1]);\n",
    "#plt.plot(tobs[0:12*24],wobs[0:12*24,bini])"
   ]
  },
  {
   "cell_type": "code",
   "execution_count": 34,
   "metadata": {},
   "outputs": [],
   "source": [
    "ustar_steady = kappa*zo*np.abs(w_sol_steady[1,-1])/dz[0]"
   ]
  },
  {
   "cell_type": "code",
   "execution_count": 35,
   "metadata": {},
   "outputs": [
    {
     "data": {
      "text/plain": [
       "0.0005632123088565189"
      ]
     },
     "execution_count": 35,
     "metadata": {},
     "output_type": "execute_result"
    }
   ],
   "source": [
    "ustar_steady"
   ]
  },
  {
   "cell_type": "code",
   "execution_count": 36,
   "metadata": {},
   "outputs": [
    {
     "data": {
      "text/plain": [
       "array([0.00096747, 0.00099867, 0.00103087, 0.00106412, 0.00109844,\n",
       "       0.00113386, 0.00117042, 0.00120817, 0.00124713, 0.00128735,\n",
       "       0.00132887, 0.00137172, 0.00141596, 0.00146162, 0.00150876,\n",
       "       0.00155741, 0.00160764, 0.00165948, 0.001713  , 0.00176824,\n",
       "       0.00182526, 0.00188413, 0.00194489, 0.00200761, 0.00207235,\n",
       "       0.00213918, 0.00220817, 0.00227938, 0.00235289, 0.00242877,\n",
       "       0.00250709, 0.00258794, 0.0026714 , 0.00275755, 0.00284648,\n",
       "       0.00293828, 0.00303303, 0.00313084, 0.00323181, 0.00333603,\n",
       "       0.00344362, 0.00355467, 0.0036693 , 0.00378763, 0.00390978,\n",
       "       0.00403587, 0.00416602, 0.00430037, 0.00443905, 0.00458221,\n",
       "       0.00472998, 0.00488252, 0.00503997, 0.0052025 , 0.00537028,\n",
       "       0.00554347, 0.00572224, 0.00590677, 0.00609726, 0.00629389,\n",
       "       0.00649686, 0.00670638, 0.00692265, 0.0071459 , 0.00737635,\n",
       "       0.00761423, 0.00785978, 0.00811325, 0.00837489, 0.00864497,\n",
       "       0.00892376, 0.00921155, 0.00950861, 0.00981525, 0.01013178,\n",
       "       0.01045852, 0.0107958 , 0.01114395, 0.01150333, 0.0118743 ,\n",
       "       0.01225724, 0.01265252, 0.01306055, 0.01348174, 0.01391651,\n",
       "       0.0143653 , 0.01482857, 0.01530678, 0.0158004 , 0.01630995,\n",
       "       0.01683593, 0.01737887, 0.01793932, 0.01851784, 0.01911502,\n",
       "       0.01973146, 0.02036778, 0.02102462, 0.02170264, 0.02240253,\n",
       "       0.02312499, 0.02387075, 0.02464055, 0.02543518, 0.02625544,\n",
       "       0.02710215, 0.02797617, 0.02887837, 0.02980967, 0.030771  ,\n",
       "       0.03176333, 0.03278766, 0.03384503, 0.0349365 , 0.03606316,\n",
       "       0.03722616, 0.03842667, 0.03966589, 0.04094507, 0.0422655 ,\n",
       "       0.04362852, 0.0450355 , 0.04648784, 0.04798703, 0.04953456,\n",
       "       0.051132  , 0.05278095, 0.05448308, 0.0562401 , 0.05805378,\n",
       "       0.05992596, 0.06185851, 0.06385338, 0.06591258, 0.06803819,\n",
       "       0.07023235, 0.07249727, 0.07483523, 0.07724859, 0.07973978,\n",
       "       0.0823113 , 0.08496575, 0.08770581, 0.09053423, 0.09345386,\n",
       "       0.09646765, 0.09957863, 0.10278994, 0.1061048 , 0.10952657,\n",
       "       0.11305869, 0.11670471, 0.12046832, 0.12435329, 0.12836355,\n",
       "       0.13250314, 0.13677623, 0.14118712, 0.14574026, 0.15044022,\n",
       "       0.15529176, 0.16029976, 0.16546926, 0.17080547, 0.17631376,\n",
       "       0.18199969, 0.18786899, 0.19392757, 0.20018153, 0.20663717,\n",
       "       0.213301  , 0.22017974, 0.2272803 , 0.23460985, 0.24217577,\n",
       "       0.24998568, 0.25804746, 0.26636922, 0.27495934, 0.28382649,\n",
       "       0.2929796 , 0.30242788, 0.31218086, 0.32224836, 0.33264053,\n",
       "       0.34336784, 0.35444109, 0.36587144, 0.37767041, 0.38984988,\n",
       "       0.40242213, 0.41539982, 0.42879603, 0.44262424, 0.45689841,\n",
       "       0.4716329 , 0.48684257, 0.50254272, 0.5187492 , 0.53547831])"
      ]
     },
     "execution_count": 36,
     "metadata": {},
     "output_type": "execute_result"
    }
   ],
   "source": [
    "dz"
   ]
  },
  {
   "cell_type": "code",
   "execution_count": null,
   "metadata": {},
   "outputs": [],
   "source": []
  },
  {
   "cell_type": "code",
   "execution_count": null,
   "metadata": {},
   "outputs": [],
   "source": []
  }
 ],
 "metadata": {
  "kernelspec": {
   "display_name": "Python [conda env:py37]",
   "language": "python",
   "name": "conda-env-py37-py"
  },
  "language_info": {
   "codemirror_mode": {
    "name": "ipython",
    "version": 3
   },
   "file_extension": ".py",
   "mimetype": "text/x-python",
   "name": "python",
   "nbconvert_exporter": "python",
   "pygments_lexer": "ipython3",
   "version": "3.7.2"
  }
 },
 "nbformat": 4,
 "nbformat_minor": 2
}
