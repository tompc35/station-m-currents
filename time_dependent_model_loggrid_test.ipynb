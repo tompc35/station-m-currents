{
 "cells": [
  {
   "cell_type": "code",
   "execution_count": 1,
   "metadata": {},
   "outputs": [],
   "source": [
    "%matplotlib widget\n",
    "import numpy as np\n",
    "import matplotlib.pyplot as plt\n",
    "import xarray as xr\n",
    "\n",
    "import gsw\n",
    "\n",
    "from scipy.integrate import solve_ivp"
   ]
  },
  {
   "cell_type": "code",
   "execution_count": 2,
   "metadata": {},
   "outputs": [],
   "source": [
    "ds = xr.open_dataset('data/MBARI_StationM_ADCP_201711_201811.nc')"
   ]
  },
  {
   "cell_type": "code",
   "execution_count": 3,
   "metadata": {},
   "outputs": [],
   "source": [
    "lat = 35+8.4585/60\n",
    "bini = 15"
   ]
  },
  {
   "cell_type": "markdown",
   "metadata": {},
   "source": [
    "Smooth ADCP time series\n",
    "* 30-min running median to remove spikes\n",
    "* 60-min running mean to smooth"
   ]
  },
  {
   "cell_type": "code",
   "execution_count": 4,
   "metadata": {},
   "outputs": [],
   "source": [
    "ds['Eas_sm'] = ds['Eas'].rolling(time=6,center=True).median().rolling(time=12,center=True).mean()\n",
    "ds['Nor_sm'] = ds['Nor'].rolling(time=6,center=True).median().rolling(time=12,center=True).mean()"
   ]
  },
  {
   "cell_type": "code",
   "execution_count": 5,
   "metadata": {},
   "outputs": [
    {
     "data": {
      "application/vnd.jupyter.widget-view+json": {
       "model_id": "6e512c931cf34c42ad6659273476353e",
       "version_major": 2,
       "version_minor": 0
      },
      "text/plain": [
       "FigureCanvasNbAgg()"
      ]
     },
     "metadata": {},
     "output_type": "display_data"
    },
    {
     "data": {
      "text/plain": [
       "Text(0.5, 1.0, 'eastward velocity')"
      ]
     },
     "execution_count": 5,
     "metadata": {},
     "output_type": "execute_result"
    }
   ],
   "source": [
    "plt.figure(figsize=(8,4))\n",
    "plt.plot(ds['time'],ds['Eas_sm'][:,bini]);\n",
    "plt.plot(ds['time'],ds['Eas'][:,bini],'--');\n",
    "plt.plot(ds['time'],ds['Eas_sm'][:,1],'-');\n",
    "#plt.plot(ds['time'],ds['Eas'][:,1]);\n",
    "plt.ylabel('m/s')\n",
    "plt.title('eastward velocity')"
   ]
  },
  {
   "cell_type": "code",
   "execution_count": 6,
   "metadata": {},
   "outputs": [
    {
     "data": {
      "application/vnd.jupyter.widget-view+json": {
       "model_id": "f36691c6b3214f919df0e9959b1bc7b0",
       "version_major": 2,
       "version_minor": 0
      },
      "text/plain": [
       "FigureCanvasNbAgg()"
      ]
     },
     "metadata": {},
     "output_type": "display_data"
    },
    {
     "data": {
      "text/plain": [
       "Text(0.5, 1.0, 'northward velocity')"
      ]
     },
     "execution_count": 6,
     "metadata": {},
     "output_type": "execute_result"
    }
   ],
   "source": [
    "plt.figure(figsize=(8,4))\n",
    "plt.plot(ds['time'],ds['Nor_sm'][:,bini]);\n",
    "plt.legend(['Bin 15','Bin 1'])\n",
    "plt.ylabel('m/s')\n",
    "plt.title('northward velocity')"
   ]
  },
  {
   "cell_type": "markdown",
   "metadata": {},
   "source": [
    "### Test with limited obs\n",
    "\n",
    "#### Next steps:\n",
    "* Iterate to find forcing F (check for consistency in force balance at top bin, adjust F if necessary)\n",
    "* Logarithmic grid spacing"
   ]
  },
  {
   "cell_type": "code",
   "execution_count": 7,
   "metadata": {},
   "outputs": [],
   "source": [
    "zf = ds['binheight'][bini] # upper boundary height\n",
    "zobs = np.array(ds['binheight'][0:(bini+1)])"
   ]
  },
  {
   "cell_type": "code",
   "execution_count": 80,
   "metadata": {},
   "outputs": [],
   "source": [
    "zo = 0.03 # roughness length\n",
    "i = 1j\n",
    "kappa = 0.41 # Von Karman constant\n",
    "f = gsw.f(lat)\n",
    "\n",
    "z = np.logspace(np.log10(zo),np.log10(zf),201)\n",
    "dz = np.diff(z)"
   ]
  },
  {
   "cell_type": "code",
   "execution_count": 81,
   "metadata": {},
   "outputs": [],
   "source": [
    "gi = np.isfinite(ds['Eas_sm'][:,0])\n",
    "tobs = np.array((ds['time'][gi] - ds['time'][gi][0])/np.timedelta64(1,'s')) # array of times in seconds\n",
    "deltat = tobs[1]-tobs[0]"
   ]
  },
  {
   "cell_type": "code",
   "execution_count": 82,
   "metadata": {},
   "outputs": [],
   "source": [
    "wobs = np.array(ds['Eas_sm'][gi,0:(bini+1)]+i*ds['Nor_sm'][gi,0:(bini+1)])\n",
    "\n",
    "w0_obs = np.interp(z,zobs[1:bini],wobs[0,1:bini])[1:-1]\n",
    "w0 = np.concatenate([np.real(w0_obs),\n",
    "                           np.imag(w0_obs)])\n",
    "\n",
    "dwobsdt = np.gradient(wobs,deltat,axis=0)"
   ]
  },
  {
   "cell_type": "code",
   "execution_count": 83,
   "metadata": {},
   "outputs": [],
   "source": [
    "def dwdt_bbl(t, w_in):\n",
    "    # Note that w_in is real and complex parts concatenates\n",
    "    # need to combine into complex numbers\n",
    "    # Scipy docs say that ode solvers RK45 and BDF can be used in complex plane\n",
    "    # https://docs.scipy.org/doc/scipy/reference/generated/scipy.integrate.BDF.html#scipy.integrate.BDF\n",
    "    # but perhaps this does not work for *arrays* of complex numbers?\n",
    "    # Test this and check Numpy Github issues for similar problems\n",
    "    \n",
    "    N = int(len(w_in)/2)\n",
    "    w = w_in[:N]+i*w_in[N:]\n",
    "    \n",
    "    winf = np.interp(t,tobs,wobs[:,bini])\n",
    "    dwinfdt = np.interp(t,tobs,dwobsdt[:,bini])\n",
    "\n",
    "    F = dwinfdt + i*f*winf\n",
    "    ustar = kappa*zo*np.abs(w[1])/dz[0]\n",
    "    coef1 = 2*kappa*ustar/(dz[:-1]+dz[1:])\n",
    "\n",
    "    wall = np.concatenate([np.atleast_1d(0+i*0),w,np.atleast_1d(winf)])\n",
    "    \n",
    "    dwalldt = np.nan*np.ones(np.shape(wall))+i*np.nan*np.ones(np.shape(wall))\n",
    "    dwalldt[1:-1] = (F +\n",
    "                     coef1*(z[1:-1]/dz[1:])*wall[2:] +\n",
    "                     (-i*f - coef1*(z[1:-1]/dz[1:]+z[:-2]/dz[:-1]))*wall[1:-1] +\n",
    "                     coef1*(z[:-2]/dz[:-1])*wall[:-2])\n",
    "    \n",
    "    dwdt = dwalldt[1:-1]\n",
    "    \n",
    "    dwdt_out = np.concatenate([np.real(dwdt),np.imag(dwdt)])\n",
    "    \n",
    "    return dwdt_out"
   ]
  },
  {
   "cell_type": "code",
   "execution_count": 95,
   "metadata": {},
   "outputs": [
    {
     "name": "stdout",
     "output_type": "stream",
     "text": [
      "2020-01-07T00:36:26\n",
      "2020-01-07T00:48:40\n",
      "-734 seconds\n"
     ]
    }
   ],
   "source": [
    "#%%timeit\n",
    "\n",
    "#tf = tobs[-1]\n",
    "tf = 86400*30\n",
    "\n",
    "ntimes = len()\n",
    "\n",
    "tic = np.datetime64('now')\n",
    "print(tic)\n",
    "a = solve_ivp(dwdt_bbl, t_span=[tobs[0],tf], y0 = w0, t_eval = tobs[tobs<=tf], method='BDF')\n",
    "toc = np.datetime64('now')\n",
    "print(toc)\n",
    "print(toc-tic)\n",
    "#a = solve_ivp(dwdt_bbl, t_span=[tobs[0],tf], y0 = w0, method='BDF')"
   ]
  },
  {
   "cell_type": "code",
   "execution_count": 85,
   "metadata": {},
   "outputs": [],
   "source": [
    "N = int(np.shape(a.y)[0]/2)\n",
    "\n",
    "t_sol = a.t\n",
    "w_sol = a.y[:N,:]+i*a.y[N:,:]"
   ]
  },
  {
   "cell_type": "code",
   "execution_count": 86,
   "metadata": {},
   "outputs": [
    {
     "data": {
      "application/vnd.jupyter.widget-view+json": {
       "model_id": "17a9477137c442148213826b62298280",
       "version_major": 2,
       "version_minor": 0
      },
      "text/plain": [
       "FigureCanvasNbAgg()"
      ]
     },
     "metadata": {},
     "output_type": "display_data"
    },
    {
     "data": {
      "text/plain": [
       "[<matplotlib.lines.Line2D at 0x17281b24a8>]"
      ]
     },
     "execution_count": 86,
     "metadata": {},
     "output_type": "execute_result"
    }
   ],
   "source": [
    "plt.figure()\n",
    "plt.subplot(211)\n",
    "plt.plot(t_sol,np.real(w_sol).T,color='gray')\n",
    "plt.plot(tobs[0:12],np.real(wobs[0:12,bini]))\n",
    "\n",
    "plt.subplot(212)\n",
    "plt.plot(t_sol,np.imag(w_sol).T,color='gray')\n",
    "plt.plot(tobs[0:12],np.imag(wobs[0:12,bini]))"
   ]
  },
  {
   "cell_type": "code",
   "execution_count": 87,
   "metadata": {},
   "outputs": [
    {
     "data": {
      "text/plain": [
       "array([300., 300., 300., 300., 300., 300., 300., 300., 300., 300., 300.,\n",
       "       300.])"
      ]
     },
     "execution_count": 87,
     "metadata": {},
     "output_type": "execute_result"
    }
   ],
   "source": [
    "np.diff(a.t[0:100])"
   ]
  },
  {
   "cell_type": "markdown",
   "metadata": {},
   "source": [
    "### Test with steady forcing"
   ]
  },
  {
   "cell_type": "code",
   "execution_count": 88,
   "metadata": {},
   "outputs": [],
   "source": [
    "winf_steady = 0.04+i*0\n",
    "w0_steady = np.concatenate([np.real(winf_steady)*np.ones(N),\n",
    "                           np.imag(winf_steady)*np.ones(N)])\n",
    "zo = 0.01\n",
    "\n",
    "def dwdt_bbl_steady(t, w_in):\n",
    "    N = int(len(w_in)/2)\n",
    "    w = w_in[:N]+i*w_in[N:]\n",
    "    \n",
    "    winf = winf_steady\n",
    "    dwinfdt = 0+i*0\n",
    "\n",
    "    F = dwinfdt + i*f*winf\n",
    "    ustar = kappa*zo*np.abs(w[1])/dz[0]\n",
    "    coef1 = 2*kappa*ustar/(dz[:-1]+dz[1:])\n",
    "\n",
    "    wall = np.concatenate([np.atleast_1d(0+i*0),w,np.atleast_1d(winf)])\n",
    "    \n",
    "    dwalldt = np.nan*np.ones(np.shape(wall))+i*np.nan*np.ones(np.shape(wall))\n",
    "    dwalldt[1:-1] = (F +\n",
    "                     coef1*(z[1:-1]/dz[1:])*wall[2:] +\n",
    "                     (-i*f - coef1*(z[1:-1]/dz[1:]+z[:-2]/dz[:-1]))*wall[1:-1] +\n",
    "                     coef1*(z[:-2]/dz[:-1])*wall[:-2])\n",
    "    \n",
    "    dwdt = dwalldt[1:-1]\n",
    "    #print(dwdt)\n",
    "    \n",
    "    dwdt_out = np.concatenate([np.real(dwdt),np.imag(dwdt)])\n",
    "    \n",
    "    return dwdt_out"
   ]
  },
  {
   "cell_type": "code",
   "execution_count": 89,
   "metadata": {},
   "outputs": [],
   "source": [
    "modsteady = solve_ivp(dwdt_bbl_steady, t_span=[0,2*86400], \n",
    "                      y0 = w0_steady, method='BDF')"
   ]
  },
  {
   "cell_type": "code",
   "execution_count": 90,
   "metadata": {},
   "outputs": [],
   "source": [
    "t_sol_steady = modsteady.t\n",
    "w_sol_steady = modsteady.y[:N,:]+i*modsteady.y[N:,:]"
   ]
  },
  {
   "cell_type": "code",
   "execution_count": 91,
   "metadata": {},
   "outputs": [
    {
     "data": {
      "application/vnd.jupyter.widget-view+json": {
       "model_id": "ee6cd504699042d4a42945a2dfa205d6",
       "version_major": 2,
       "version_minor": 0
      },
      "text/plain": [
       "FigureCanvasNbAgg()"
      ]
     },
     "metadata": {},
     "output_type": "display_data"
    }
   ],
   "source": [
    "plt.figure()\n",
    "plt.subplot(121)\n",
    "plt.plot(np.real(w_sol_steady[:,-1]),z[1:-1]);\n",
    "plt.plot(np.imag(w_sol_steady[:,-1]),z[1:-1]);\n",
    "#plt.plot(tobs[0:12*24],wobs[0:12*24,bini])"
   ]
  },
  {
   "cell_type": "code",
   "execution_count": 92,
   "metadata": {},
   "outputs": [],
   "source": [
    "ustar_steady = kappa*zo*np.abs(w_sol_steady[1,-1])/dz[0]"
   ]
  },
  {
   "cell_type": "code",
   "execution_count": 93,
   "metadata": {},
   "outputs": [
    {
     "data": {
      "text/plain": [
       "0.0021174047257213075"
      ]
     },
     "execution_count": 93,
     "metadata": {},
     "output_type": "execute_result"
    }
   ],
   "source": [
    "ustar_steady"
   ]
  },
  {
   "cell_type": "code",
   "execution_count": 94,
   "metadata": {},
   "outputs": [
    {
     "data": {
      "text/plain": [
       "array([0.00064156, 0.00065528, 0.00066929, 0.00068361, 0.00069823,\n",
       "       0.00071316, 0.00072841, 0.00074399, 0.0007599 , 0.00077615,\n",
       "       0.00079275, 0.0008097 , 0.00082702, 0.0008447 , 0.00086277,\n",
       "       0.00088122, 0.00090006, 0.00091931, 0.00093897, 0.00095905,\n",
       "       0.00097956, 0.00100051, 0.0010219 , 0.00104376, 0.00106608,\n",
       "       0.00108888, 0.00111216, 0.00113595, 0.00116024, 0.00118505,\n",
       "       0.00121039, 0.00123628, 0.00126272, 0.00128972, 0.0013173 ,\n",
       "       0.00134547, 0.00137425, 0.00140364, 0.00143365, 0.00146431,\n",
       "       0.00149563, 0.00152761, 0.00156028, 0.00159365, 0.00162773,\n",
       "       0.00166254, 0.00169809, 0.00173441, 0.0017715 , 0.00180938,\n",
       "       0.00184807, 0.0018876 , 0.00192796, 0.00196919, 0.00201131,\n",
       "       0.00205432, 0.00209825, 0.00214312, 0.00218895, 0.00223577,\n",
       "       0.00228358, 0.00233241, 0.00238229, 0.00243324, 0.00248527,\n",
       "       0.00253842, 0.00259271, 0.00264815, 0.00270479, 0.00276263,\n",
       "       0.00282171, 0.00288205, 0.00294369, 0.00300664, 0.00307094,\n",
       "       0.00313661, 0.00320369, 0.0032722 , 0.00334218, 0.00341365,\n",
       "       0.00348665, 0.00356121, 0.00363737, 0.00371516, 0.00379461,\n",
       "       0.00387576, 0.00395864, 0.0040433 , 0.00412977, 0.00421808,\n",
       "       0.00430829, 0.00440042, 0.00449453, 0.00459065, 0.00468882,\n",
       "       0.00478909, 0.00489151, 0.00499611, 0.00510296, 0.00521209,\n",
       "       0.00532355, 0.00543739, 0.00555367, 0.00567244, 0.00579375,\n",
       "       0.00591765, 0.0060442 , 0.00617346, 0.00630548, 0.00644033,\n",
       "       0.00657805, 0.00671873, 0.00686241, 0.00700917, 0.00715906,\n",
       "       0.00731216, 0.00746853, 0.00762825, 0.00779138, 0.007958  ,\n",
       "       0.00812819, 0.00830201, 0.00847956, 0.00866089, 0.00884611,\n",
       "       0.00903529, 0.00922851, 0.00942587, 0.00962744, 0.00983333,\n",
       "       0.01004362, 0.0102584 , 0.01047778, 0.01070185, 0.01093072,\n",
       "       0.01116447, 0.01140323, 0.01164709, 0.01189617, 0.01215057,\n",
       "       0.01241042, 0.01267582, 0.0129469 , 0.01322377, 0.01350657,\n",
       "       0.01379541, 0.01409043, 0.01439176, 0.01469953, 0.01501389,\n",
       "       0.01533496, 0.01566291, 0.01599786, 0.01633998, 0.01668942,\n",
       "       0.01704633, 0.01741087, 0.01778321, 0.01816351, 0.01855194,\n",
       "       0.01894868, 0.01935391, 0.0197678 , 0.02019054, 0.02062232,\n",
       "       0.02106334, 0.02151379, 0.02197387, 0.02244379, 0.02292376,\n",
       "       0.02341399, 0.0239147 , 0.02442613, 0.02494849, 0.02548202,\n",
       "       0.02602697, 0.02658356, 0.02715206, 0.02773272, 0.02832579,\n",
       "       0.02893155, 0.02955026, 0.03018221, 0.03082766, 0.03148692,\n",
       "       0.03216028, 0.03284804, 0.03355051, 0.034268  , 0.03500083,\n",
       "       0.03574934, 0.03651385, 0.03729472, 0.03809228, 0.03890689,\n",
       "       0.03973893, 0.04058876, 0.04145677, 0.04234334, 0.04324887,\n",
       "       0.04417376, 0.04511843, 0.0460833 , 0.04706881, 0.0480754 ,\n",
       "       0.04910351, 0.0501536 , 0.05122616, 0.05232165, 0.05344056,\n",
       "       0.05458341, 0.0557507 , 0.05694295, 0.05816069, 0.05940448,\n",
       "       0.06067487, 0.06197242, 0.06329772, 0.06465137, 0.06603396,\n",
       "       0.06744612, 0.06888848, 0.07036169, 0.0718664 , 0.07340329,\n",
       "       0.07497304, 0.07657637, 0.07821398, 0.07988662, 0.08159502,\n",
       "       0.08333996, 0.08512222, 0.08694259, 0.08880189, 0.09070095,\n",
       "       0.09264062, 0.09462178, 0.0966453 , 0.09871209, 0.10082309,\n",
       "       0.10297923, 0.10518148, 0.10743082, 0.10972827, 0.11207485,\n",
       "       0.11447161, 0.11691963, 0.11942   , 0.12197384, 0.12458229,\n",
       "       0.12724653, 0.12996774, 0.13274715, 0.135586  , 0.13848555,\n",
       "       0.14144712, 0.14447202, 0.1475616 , 0.15071726, 0.15394041,\n",
       "       0.15723248, 0.16059495, 0.16402934, 0.16753716, 0.17112001,\n",
       "       0.17477947, 0.1785172 , 0.18233485, 0.18623415, 0.19021683,\n",
       "       0.19428469, 0.19843954, 0.20268324, 0.2070177 , 0.21144485,\n",
       "       0.21596667, 0.2205852 , 0.2253025 , 0.23012067, 0.23504189,\n",
       "       0.24006835, 0.2452023 , 0.25044604, 0.25580192, 0.26127234,\n",
       "       0.26685974, 0.27256664, 0.27839557, 0.28434916, 0.29043008,\n",
       "       0.29664103, 0.30298481, 0.30946425, 0.31608226, 0.32284179,\n",
       "       0.32974588, 0.33679762, 0.34400016, 0.35135673, 0.35887062])"
      ]
     },
     "execution_count": 94,
     "metadata": {},
     "output_type": "execute_result"
    }
   ],
   "source": [
    "dz"
   ]
  },
  {
   "cell_type": "code",
   "execution_count": null,
   "metadata": {},
   "outputs": [],
   "source": []
  }
 ],
 "metadata": {
  "kernelspec": {
   "display_name": "Python [conda env:py37]",
   "language": "python",
   "name": "conda-env-py37-py"
  },
  "language_info": {
   "codemirror_mode": {
    "name": "ipython",
    "version": 3
   },
   "file_extension": ".py",
   "mimetype": "text/x-python",
   "name": "python",
   "nbconvert_exporter": "python",
   "pygments_lexer": "ipython3",
   "version": "3.7.2"
  }
 },
 "nbformat": 4,
 "nbformat_minor": 2
}
