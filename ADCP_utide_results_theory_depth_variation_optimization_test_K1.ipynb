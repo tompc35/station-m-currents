{
 "cells": [
  {
   "cell_type": "code",
   "execution_count": 1,
   "metadata": {},
   "outputs": [],
   "source": [
    "%matplotlib ipympl\n",
    "\n",
    "import numpy as np\n",
    "import xarray as xr\n",
    "import matplotlib.pyplot as plt\n",
    "import gsw\n",
    "from scipy.special import ker,kei"
   ]
  },
  {
   "cell_type": "code",
   "execution_count": 2,
   "metadata": {},
   "outputs": [],
   "source": [
    "dstide = xr.open_dataset('utide_results.nc')"
   ]
  },
  {
   "cell_type": "code",
   "execution_count": 3,
   "metadata": {},
   "outputs": [],
   "source": [
    "i = 1j\n",
    "ap = 0.5*(dstide['Lsmaj']+dstide['Lsmin'])*np.exp(i*(dstide['theta']-dstide['g'])*np.pi/180)\n",
    "am = 0.5*(dstide['Lsmaj']-dstide['Lsmin'])*np.exp(i*(dstide['theta']+dstide['g'])*np.pi/180)\n",
    "Ap = np.abs(ap)\n",
    "Am = np.abs(am)\n",
    "epsilonp = np.angle(ap)*180/np.pi\n",
    "epsilonm = np.angle(am)*180/np.pi"
   ]
  },
  {
   "cell_type": "code",
   "execution_count": 4,
   "metadata": {},
   "outputs": [],
   "source": [
    "dims = ('height', 'constituent')\n",
    "dstide['ap'] = (dims, ap)\n",
    "dstide['am'] = (dims, am)\n",
    "dstide['Ap'] = (dims, Ap)\n",
    "dstide['Am'] = (dims, Am)\n",
    "dstide['epsilonp'] = (dims, epsilonp)\n",
    "dstide['epsilonm'] = (dims, epsilonm)"
   ]
  },
  {
   "cell_type": "markdown",
   "metadata": {},
   "source": [
    "| Parameter                    | Soulsby (theory) | Codiga (UTide)           |\n",
    "|------------------------------|------------------|--------------------------|\n",
    "| major axis                   | $U_a$            | $L^{smaj}_q$             |\n",
    "| minor axis                   | $U_b$            | $L^{smin}_q$             |\n",
    "| complex anticlockwise vector | $R_+$            | $a^+_q$                  |\n",
    "| complex clockwise vector     | $R_-$            | $a^-_q$                  |\n",
    "| anticlockwise amplitude      | $|R_+|$          | $A^+_q$                  |\n",
    "| clockwise amplitude          | $|R_-|$          | $A^-_q$                  |\n",
    "| orientation angle            | $\\Phi$           | $\\theta_q$               |\n",
    "| phase lag                    | $\\phi$           | $g_q$                    |\n",
    "| anticlockwise phase          | $\\phi_+$         | $\\epsilon^+_q$, -$g^+_q$ |\n",
    "| clockwise phase              | $\\phi_-$         | $\\epsilon^-_q$, $g^-_q$  |"
   ]
  },
  {
   "cell_type": "markdown",
   "metadata": {},
   "source": [
    "### Plot M2 parameters"
   ]
  },
  {
   "cell_type": "code",
   "execution_count": 5,
   "metadata": {},
   "outputs": [],
   "source": [
    "zi = np.arange(0,len(dstide['height'])-7)\n",
    "m2i, = np.where(dstide['constituent'] == 'M2')"
   ]
  },
  {
   "cell_type": "code",
   "execution_count": 6,
   "metadata": {},
   "outputs": [
    {
     "data": {
      "application/vnd.jupyter.widget-view+json": {
       "model_id": "00991991b17d41b4b6fa669f7ed874d8",
       "version_major": 2,
       "version_minor": 0
      },
      "text/plain": [
       "FigureCanvasNbAgg()"
      ]
     },
     "metadata": {},
     "output_type": "display_data"
    },
    {
     "data": {
      "text/plain": [
       "(0, <xarray.DataArray 'height' ()>\n",
       " array(18.0972))"
      ]
     },
     "execution_count": 6,
     "metadata": {},
     "output_type": "execute_result"
    }
   ],
   "source": [
    "plt.figure()\n",
    "plt.plot(dstide['Lsmaj'][zi,m2i],dstide['height'][zi],'b')\n",
    "plt.plot(dstide['Lsmaj'][zi,m2i]\n",
    "         +dstide['Lsmaj_ci'][zi,m2i],dstide['height'][zi],'c')\n",
    "plt.plot(dstide['Lsmaj'][zi,m2i]\n",
    "         -dstide['Lsmaj_ci'][zi,m2i],dstide['height'][zi],'c')\n",
    "plt.plot(dstide['Lsmin'][zi,m2i],dstide['height'][zi],'r')\n",
    "plt.plot(dstide['Lsmin'][zi,m2i]\n",
    "         +dstide['Lsmin_ci'][zi,m2i],dstide['height'][zi],'m')\n",
    "plt.plot(dstide['Lsmin'][zi,m2i]\n",
    "         -dstide['Lsmin_ci'][zi,m2i],dstide['height'][zi],'m')\n",
    "plt.ylim([0,np.max(dstide['height'][zi])+0.5])"
   ]
  },
  {
   "cell_type": "code",
   "execution_count": 7,
   "metadata": {},
   "outputs": [
    {
     "data": {
      "application/vnd.jupyter.widget-view+json": {
       "model_id": "5399bb6877764064ab337661448ab9d2",
       "version_major": 2,
       "version_minor": 0
      },
      "text/plain": [
       "FigureCanvasNbAgg()"
      ]
     },
     "metadata": {},
     "output_type": "display_data"
    },
    {
     "data": {
      "text/plain": [
       "Text(0.5, 1.0, 'minor/major axis ratio')"
      ]
     },
     "execution_count": 7,
     "metadata": {},
     "output_type": "execute_result"
    }
   ],
   "source": [
    "plt.figure()\n",
    "plt.plot(dstide['Lsmin'][zi,m2i]/dstide['Lsmaj'][zi,m2i],dstide['height'][zi])\n",
    "plt.title('minor/major axis ratio')"
   ]
  },
  {
   "cell_type": "code",
   "execution_count": 8,
   "metadata": {},
   "outputs": [
    {
     "data": {
      "application/vnd.jupyter.widget-view+json": {
       "model_id": "c0dd53d4ea414f49bbba3722d00c8605",
       "version_major": 2,
       "version_minor": 0
      },
      "text/plain": [
       "FigureCanvasNbAgg()"
      ]
     },
     "metadata": {},
     "output_type": "display_data"
    },
    {
     "data": {
      "text/plain": [
       "Text(0.5, 1.0, 'orientation, $\\\\theta_q$ (deg)')"
      ]
     },
     "execution_count": 8,
     "metadata": {},
     "output_type": "execute_result"
    }
   ],
   "source": [
    "plt.figure()\n",
    "plt.plot(dstide['theta'][zi,m2i],dstide['height'][zi],'b')\n",
    "plt.plot(dstide['theta'][zi,m2i]+dstide['theta_ci'][zi,m2i],\n",
    "         dstide['height'][zi],'c')\n",
    "plt.plot(dstide['theta'][zi,m2i]-dstide['theta_ci'][zi,m2i],\n",
    "         dstide['height'][zi],'c')\n",
    "plt.title('orientation, $\\\\theta_q$ (deg)')"
   ]
  },
  {
   "cell_type": "code",
   "execution_count": 9,
   "metadata": {},
   "outputs": [
    {
     "data": {
      "application/vnd.jupyter.widget-view+json": {
       "model_id": "162c736ce7f04430b83c28be28052dba",
       "version_major": 2,
       "version_minor": 0
      },
      "text/plain": [
       "FigureCanvasNbAgg()"
      ]
     },
     "metadata": {},
     "output_type": "display_data"
    },
    {
     "data": {
      "text/plain": [
       "Text(0.5, 1.0, 'phase lag, $g_q$ (deg)')"
      ]
     },
     "execution_count": 9,
     "metadata": {},
     "output_type": "execute_result"
    }
   ],
   "source": [
    "plt.figure()\n",
    "plt.plot(dstide['g'][zi,m2i],dstide['height'][zi],'b')\n",
    "plt.plot(dstide['g'][zi,m2i]+dstide['g_ci'][zi,m2i],\n",
    "         dstide['height'][zi],'c')\n",
    "plt.plot(dstide['g'][zi,m2i]-dstide['g_ci'][zi,m2i],\n",
    "         dstide['height'][zi],'c')\n",
    "plt.title('phase lag, $g_q$ (deg)')"
   ]
  },
  {
   "cell_type": "markdown",
   "metadata": {},
   "source": [
    "### Define model equations"
   ]
  },
  {
   "cell_type": "code",
   "execution_count": 10,
   "metadata": {},
   "outputs": [],
   "source": [
    "def planetary_bbl_structure(ustar,zo,z,f):\n",
    "    '''\n",
    "    Calculate vertical structure of a planetary boundary layer (a.k.a.\n",
    "    bottom Ekman layer) following Soulsby (1983). The calculation assumes\n",
    "    that the eddy viscosity increases linearly with height.\n",
    "    '''\n",
    "\n",
    "    i = 1j \n",
    "    kappa = 0.41 # Von Karman's constant\n",
    "    \n",
    "    # non-dimensional height and roughness length\n",
    "    xi = 2*np.sqrt(f*z/(kappa*ustar))\n",
    "    xio = 2*np.sqrt(f*zo/(kappa*ustar))\n",
    "    \n",
    "    # Q/Qinf in Equation 31 of Soulsby (1983)\n",
    "    fac = (1-(ker(xi)*ker(xio) + kei(xi)*kei(xio))/\n",
    "             (ker(xio)**2 + kei(xio)**2) + \n",
    "           i*(ker(xi)*kei(xio) - kei(xi)*ker(xio))/\n",
    "             (ker(xio)**2 + kei(xio)**2))\n",
    "\n",
    "    return fac\n",
    "\n",
    "def rotating_planetary_bbl_coeffs(ustar,zo,Rpinf,Rminf,z,sigma,f,zoffset=0):\n",
    "    if sigma+f < 0:\n",
    "        Rpinf = np.abs(Rpinf)*np.exp(-i*np.angle(Rpinf))\n",
    "    if sigma-f > 0:\n",
    "        Rminf = np.abs(Rminf)*np.exp(-i*np.angle(Rminf))\n",
    "\n",
    "    Rp = Rpinf*planetary_bbl_structure(ustar,zo,z,sigma+f)\n",
    "    Rm = Rminf*planetary_bbl_structure(ustar,zo,z,sigma-f)\n",
    "\n",
    "    if sigma+f < 0:\n",
    "        Rp = Rpinf*planetary_bbl_structure(ustar,zo,z,-(sigma+f))\n",
    "    if sigma-f < 0:\n",
    "        Rm = Rminf*planetary_bbl_structure(ustar,zo,z,-(sigma-f))\n",
    "    \n",
    "    phip = np.angle(Rp)\n",
    "    phim = np.angle(Rm)\n",
    "\n",
    "    if sigma+f < 0:\n",
    "        # southern hemisphere (needs testing) \n",
    "        # tidal oscillation lower frequency than f\n",
    "        Rp = Rpinf*planetary_bbl_structure(ustar,zo,z,sigma+f)\n",
    "        phip = -np.angle(Rp)\n",
    "        Rp = np.abs(Rp)*np.exp(1j*phip)\n",
    "\n",
    "    if sigma-f > 0:\n",
    "        # northern hemisphere \n",
    "        # tidal oscillation higher frequency than f\n",
    "        phim = -np.angle(Rm)\n",
    "        Rm = np.abs(Rm)*np.exp(1j*phim)\n",
    "        \n",
    "    return Rp,Rm"
   ]
  },
  {
   "cell_type": "code",
   "execution_count": 11,
   "metadata": {},
   "outputs": [
    {
     "name": "stdout",
     "output_type": "stream",
     "text": [
      "Rpinf: [-0.01272317-0.01061772j]\n",
      "Rminf: [0.0168391+0.00356705j]\n"
     ]
    }
   ],
   "source": [
    "print('Rpinf:',np.array(ap[zi[-1],m2i]))\n",
    "print('Rminf:',np.array(am[zi[-1],m2i]))"
   ]
  },
  {
   "cell_type": "code",
   "execution_count": 12,
   "metadata": {},
   "outputs": [],
   "source": [
    "Rpinf = np.array(ap[zi[-1],m2i])\n",
    "Rminf = np.array(am[zi[-1],m2i])\n",
    "ustar = 0.001\n",
    "zo = 0.01\n",
    "\n",
    "z = np.arange(0.05,25,0.05)\n",
    "sigma = float(2*np.pi*dstide['freq'][m2i]/3600)\n",
    "f = gsw.f(35+8.4585/60)"
   ]
  },
  {
   "cell_type": "code",
   "execution_count": 13,
   "metadata": {},
   "outputs": [],
   "source": [
    "Rp,Rm = rotating_planetary_bbl_coeffs(ustar,zo,Rpinf,Rminf,z,sigma,f)"
   ]
  },
  {
   "cell_type": "code",
   "execution_count": 14,
   "metadata": {},
   "outputs": [],
   "source": [
    "import lmfit\n",
    "\n",
    "def fit_function(params, z=None, dat_ccw=None, dat_cw=None):\n",
    "    \n",
    "    Rp,Rm = rotating_planetary_bbl_coeffs(params['ustar'],\n",
    "                                          params['zo'],\n",
    "                                          params['Rpinf_real']+1j*params['Rpinf_imag'],\n",
    "                                          params['Rminf_real']+1j*params['Rminf_imag'],\n",
    "                                          z+params['z_offset'],\n",
    "                                          params['sigma'],\n",
    "                                          params['f'])\n",
    "\n",
    "    resid1 = np.abs(np.real(dat_ccw) - np.real(Rp))\n",
    "    resid2 = np.abs(np.imag(dat_ccw) - np.imag(Rp))\n",
    "    resid3 = np.abs(np.real(dat_cw) - np.real(Rm))\n",
    "    resid4 = np.abs(np.imag(dat_cw) - np.imag(Rm))    \n",
    "    \n",
    "    return np.concatenate((resid1, resid2, resid3, resid4))\n",
    "\n",
    "params = lmfit.Parameters()\n",
    "params.add('f', value=f, vary=False)\n",
    "params.add('sigma', value=sigma, vary=False)\n",
    "params.add('zo', value=0.001)\n",
    "params.add('ustar', value=ustar)\n",
    "params.add('Rpinf_real', value=np.real(Rpinf),vary=True)\n",
    "params.add('Rpinf_imag', value=np.imag(Rpinf),vary=True)\n",
    "params.add('Rminf_real', value=np.real(Rminf),vary=True)\n",
    "params.add('Rminf_imag', value=np.imag(Rminf),vary=True)\n",
    "params.add('z_offset', value=0,vary=False)  # acccount for unknowns in measurement levels\n",
    "\n",
    "dat_z = np.array(dstide['height'][zi])\n",
    "dat_ccw = np.array(ap[zi,m2i]).flatten()\n",
    "dat_cw = np.array(am[zi,m2i]).flatten()\n",
    "\n",
    "out_m2 = lmfit.minimize(fit_function, params, args=(dat_z, dat_ccw, dat_cw))"
   ]
  },
  {
   "cell_type": "code",
   "execution_count": 15,
   "metadata": {},
   "outputs": [
    {
     "name": "stdout",
     "output_type": "stream",
     "text": [
      "zo 0.09811707541560105\n",
      "ustar 0.0012839276815593739\n"
     ]
    }
   ],
   "source": [
    "z = np.arange(0.1,20,0.01)\n",
    "\n",
    "zo_fit = float(out_m2.params['zo'])\n",
    "ustar_fit = float(out_m2.params['ustar'])\n",
    "Rpinf_fit = float(out_m2.params['Rpinf_real'])+1j*float(out_m2.params['Rpinf_imag'])\n",
    "Rminf_fit = float(out_m2.params['Rminf_real'])+1j*float(out_m2.params['Rminf_imag'])\n",
    "\n",
    "Rp,Rm = rotating_planetary_bbl_coeffs(ustar_fit,zo_fit,Rpinf_fit,Rminf_fit,z,sigma,f)\n",
    "\n",
    "print('zo',zo_fit)\n",
    "print('ustar',ustar_fit)"
   ]
  },
  {
   "cell_type": "markdown",
   "metadata": {},
   "source": [
    "### Station M "
   ]
  },
  {
   "cell_type": "markdown",
   "metadata": {},
   "source": [
    "The model will be fit to the complex rotary coefficients calculated from the UTide results. The free parameters should include:\n",
    "\n",
    "* Anticlockwise coefficients above BBL: $\\text{Re}(R_+^{\\infty})$, $\\text{Im}(R_+^{\\infty})$\n",
    "* Clockwise coefficients above BBL: $\\text{Re}(R_-^{\\infty})$, $\\text{Im}(R_-^{\\infty})$\n",
    "* Maximum shear velocity ($u_{*m}$)\n",
    "* Roughness length ($z_o$)\n",
    "\n",
    "This is a total of six parameters. The coefficients above the BBL could also potentially be treated as known paramaters, using the top bin from the data.\n",
    "\n",
    "The M2 constituent is the strongest signal. Can other constituents be used? Will the value of $z_o$ change?"
   ]
  },
  {
   "cell_type": "code",
   "execution_count": 16,
   "metadata": {},
   "outputs": [
    {
     "data": {
      "application/vnd.jupyter.widget-view+json": {
       "model_id": "f71eea42a7ae4729986d0e06f9bce9d2",
       "version_major": 2,
       "version_minor": 0
      },
      "text/plain": [
       "FigureCanvasNbAgg()"
      ]
     },
     "metadata": {},
     "output_type": "display_data"
    },
    {
     "data": {
      "text/plain": [
       "Text(0.5, 1.0, 'magnitude of rotary coefficients')"
      ]
     },
     "execution_count": 16,
     "metadata": {},
     "output_type": "execute_result"
    }
   ],
   "source": [
    "phip = np.angle(Rp)\n",
    "phim = np.angle(Rm)\n",
    "\n",
    "phi = (phim-phip)/2\n",
    "PHI = (phim+phip)/2\n",
    "\n",
    "Ua = np.abs(Rp) + np.abs(Rm)\n",
    "Ub = np.abs(Rp) - np.abs(Rm)\n",
    "\n",
    "plt.figure()\n",
    "plt.plot(Ap[:,m2i][zi],dstide['height'][zi],'rs')\n",
    "plt.plot(Am[:,m2i][zi],dstide['height'][zi],'bs')\n",
    "plt.plot(np.abs(Rp),z,'r')\n",
    "plt.plot(np.abs(Rm),z,'b')\n",
    "plt.legend(['anticlockwise (+)','clockwise (-)'])\n",
    "plt.title('magnitude of rotary coefficients')"
   ]
  },
  {
   "cell_type": "code",
   "execution_count": 17,
   "metadata": {},
   "outputs": [
    {
     "data": {
      "application/vnd.jupyter.widget-view+json": {
       "model_id": "3c5d01194acf42dba948ccfe96579013",
       "version_major": 2,
       "version_minor": 0
      },
      "text/plain": [
       "FigureCanvasNbAgg()"
      ]
     },
     "metadata": {},
     "output_type": "display_data"
    },
    {
     "data": {
      "text/plain": [
       "Text(0.5, 1.0, 'magnitude of rotary coefficients')"
      ]
     },
     "execution_count": 17,
     "metadata": {},
     "output_type": "execute_result"
    }
   ],
   "source": [
    "plt.figure()\n",
    "plt.semilogy(Ap[:,m2i][zi],dstide['height'][zi],'rs')\n",
    "plt.plot(Am[:,m2i][zi],dstide['height'][zi],'bs')\n",
    "plt.plot(np.abs(Rp),z,'r')\n",
    "plt.plot(np.abs(Rm),z,'b')\n",
    "plt.legend(['anticlockwise (+)','clockwise (-)'])\n",
    "plt.title('magnitude of rotary coefficients')"
   ]
  },
  {
   "cell_type": "code",
   "execution_count": 18,
   "metadata": {},
   "outputs": [
    {
     "data": {
      "application/vnd.jupyter.widget-view+json": {
       "model_id": "fca12573f9a24cbc90daae06f92a366b",
       "version_major": 2,
       "version_minor": 0
      },
      "text/plain": [
       "FigureCanvasNbAgg()"
      ]
     },
     "metadata": {},
     "output_type": "display_data"
    },
    {
     "data": {
      "text/plain": [
       "Text(0.5, 1.0, 'major/minor axes')"
      ]
     },
     "execution_count": 18,
     "metadata": {},
     "output_type": "execute_result"
    }
   ],
   "source": [
    "plt.figure()\n",
    "plt.plot(dstide['Lsmaj'][zi,m2i],dstide['height'][zi],'rs')\n",
    "plt.plot(dstide['Lsmin'][zi,m2i],dstide['height'][zi],'bs')\n",
    "plt.plot(Ua,z,'r')\n",
    "plt.plot(Ub,z,'b')\n",
    "plt.legend(['major','minor'])\n",
    "plt.title('major/minor axes')"
   ]
  },
  {
   "cell_type": "code",
   "execution_count": 19,
   "metadata": {},
   "outputs": [
    {
     "data": {
      "application/vnd.jupyter.widget-view+json": {
       "model_id": "4c35623c10ac494ea0a46ec64f4159c6",
       "version_major": 2,
       "version_minor": 0
      },
      "text/plain": [
       "FigureCanvasNbAgg()"
      ]
     },
     "metadata": {},
     "output_type": "display_data"
    },
    {
     "data": {
      "text/plain": [
       "Text(0.5, 1.0, 'major/minor axes')"
      ]
     },
     "execution_count": 19,
     "metadata": {},
     "output_type": "execute_result"
    }
   ],
   "source": [
    "plt.figure()\n",
    "plt.semilogy(dstide['Lsmaj'][zi,m2i],dstide['height'][zi],'rs')\n",
    "plt.semilogy(dstide['Lsmin'][zi,m2i],dstide['height'][zi],'bs')\n",
    "plt.semilogy(Ua,z,'r')\n",
    "plt.semilogy(Ub,z,'b')\n",
    "plt.legend(['major','minor'])\n",
    "plt.title('major/minor axes')"
   ]
  },
  {
   "cell_type": "code",
   "execution_count": 20,
   "metadata": {},
   "outputs": [
    {
     "data": {
      "application/vnd.jupyter.widget-view+json": {
       "model_id": "b3e338129e5f493d863db29dcb51a4d8",
       "version_major": 2,
       "version_minor": 0
      },
      "text/plain": [
       "FigureCanvasNbAgg()"
      ]
     },
     "metadata": {},
     "output_type": "display_data"
    },
    {
     "data": {
      "text/plain": [
       "Text(0.5, 1.0, 'phase of rotary coefficients')"
      ]
     },
     "execution_count": 20,
     "metadata": {},
     "output_type": "execute_result"
    }
   ],
   "source": [
    "plt.figure()\n",
    "plt.plot(dstide['g'][:,m2i][zi],dstide['height'][zi],'rs')\n",
    "plt.plot(dstide['theta'][:,m2i][zi],dstide['height'][zi],'bs')\n",
    "# add 180 degrees?\n",
    "plt.plot(phi*180/np.pi+180,z,'r')\n",
    "plt.plot(PHI*180/np.pi+180,z,'b')\n",
    "plt.legend(['$g$, $\\phi$','$\\\\theta$, $\\Phi$'])\n",
    "plt.title('phase of rotary coefficients')"
   ]
  },
  {
   "cell_type": "code",
   "execution_count": 21,
   "metadata": {},
   "outputs": [
    {
     "data": {
      "application/vnd.jupyter.widget-view+json": {
       "model_id": "a3a8332456f34805ba20de029cd12ec5",
       "version_major": 2,
       "version_minor": 0
      },
      "text/plain": [
       "FigureCanvasNbAgg()"
      ]
     },
     "metadata": {},
     "output_type": "display_data"
    },
    {
     "data": {
      "text/plain": [
       "Text(0.5, 1.0, 'complex rotary coefficients')"
      ]
     },
     "execution_count": 21,
     "metadata": {},
     "output_type": "execute_result"
    }
   ],
   "source": [
    "plt.figure()\n",
    "plt.plot(np.real(ap[:,m2i][zi]),dstide['height'][zi],'rs')\n",
    "plt.plot(np.imag(ap[:,m2i][zi]),dstide['height'][zi],'ro')\n",
    "plt.plot(np.real(am[:,m2i][zi]),dstide['height'][zi],'bs')\n",
    "plt.plot(np.imag(am[:,m2i][zi]),dstide['height'][zi],'bo')\n",
    "plt.plot(np.real(Rp),z,'r-')\n",
    "plt.plot(np.imag(Rp),z,'r--')\n",
    "plt.plot(np.real(Rm),z,'b-')\n",
    "plt.plot(np.imag(Rm),z,'b--')\n",
    "plt.title('complex rotary coefficients')"
   ]
  },
  {
   "cell_type": "code",
   "execution_count": null,
   "metadata": {},
   "outputs": [],
   "source": []
  },
  {
   "cell_type": "code",
   "execution_count": null,
   "metadata": {},
   "outputs": [],
   "source": []
  },
  {
   "cell_type": "code",
   "execution_count": null,
   "metadata": {},
   "outputs": [],
   "source": []
  }
 ],
 "metadata": {
  "kernelspec": {
   "display_name": "Python [conda env:py37]",
   "language": "python",
   "name": "conda-env-py37-py"
  },
  "language_info": {
   "codemirror_mode": {
    "name": "ipython",
    "version": 3
   },
   "file_extension": ".py",
   "mimetype": "text/x-python",
   "name": "python",
   "nbconvert_exporter": "python",
   "pygments_lexer": "ipython3",
   "version": "3.7.2"
  }
 },
 "nbformat": 4,
 "nbformat_minor": 2
}
