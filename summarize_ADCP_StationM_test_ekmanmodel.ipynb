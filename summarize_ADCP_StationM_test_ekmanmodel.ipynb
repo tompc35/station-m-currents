{
 "cells": [
  {
   "cell_type": "code",
   "execution_count": 1,
   "metadata": {
    "collapsed": true
   },
   "outputs": [],
   "source": [
    "%matplotlib ipympl\n",
    "\n",
    "import os\n",
    "import numpy as np\n",
    "import xarray as xr\n",
    "import matplotlib.pyplot as plt\n",
    "from scipy.integrate import cumtrapz\n",
    "from scipy.signal import welch, periodogram\n",
    "from scipy.linalg import eig\n",
    "import physoce.tseries as ts\n",
    "import gsw\n",
    "import lmfit\n",
    "from scipy.special import ker,kei"
   ]
  },
  {
   "cell_type": "code",
   "execution_count": 2,
   "metadata": {
    "collapsed": true
   },
   "outputs": [],
   "source": [
    "ds = xr.open_dataset('data/MBARI_StationM_ADCP_201711_201811.nc')"
   ]
  },
  {
   "cell_type": "code",
   "execution_count": 3,
   "metadata": {},
   "outputs": [
    {
     "data": {
      "text/plain": [
       "<xarray.Dataset>\n",
       "Dimensions:    (beam: 4, bin: 23, time: 98208)\n",
       "Coordinates:\n",
       "  * time       (time) datetime64[ns] 2017-11-10T10:03:13.760000 ... 2018-10-17T09:58:13.720000\n",
       "Dimensions without coordinates: beam, bin\n",
       "Data variables:\n",
       "    Pit        (time) float64 ...\n",
       "    Rol        (time) float64 ...\n",
       "    Hea        (time) float64 ...\n",
       "    Tem        (time) float64 ...\n",
       "    Dep        (time) float64 ...\n",
       "    Ori        (time) int64 ...\n",
       "    BIT        (time) int64 ...\n",
       "    Bat        (time) int64 ...\n",
       "    Eas        (time, bin) float64 ...\n",
       "    Nor        (time, bin) float64 ...\n",
       "    Ver        (time, bin) float64 ...\n",
       "    Err        (time, bin) float64 ...\n",
       "    EA         (time, bin, beam) float64 ...\n",
       "    PG         (time, bin, beam) float64 ...\n",
       "    C          (time, bin, beam) float64 ...\n",
       "    binheight  (bin) float64 ...\n",
       "    Eas_tide   (time, bin) float64 ...\n",
       "    Nor_tide   (time, bin) float64 ...\n",
       "    Eas_filt   (time, bin) float64 ...\n",
       "    Nor_filt   (time, bin) float64 ...\n",
       "Attributes:\n",
       "    PingsPerEns:          50\n",
       "    TimePerPing:          00:00.20\n",
       "    First Ensemble Date:  17/11/10\n",
       "    First Ensemble Time:  06:43:13.76\n",
       "    Ensemble Interval:    87.19\n",
       "    1st Bin Range:        2.14\n",
       "    Bin Size:             1.0\n",
       "    RDI binary file:      C:\\Users\\PHYSOCE\\Documents\\data\\MBARI_StationM_ADCP...\n",
       "    Instrument:           Broadband 614.4 kHz"
      ]
     },
     "execution_count": 3,
     "metadata": {},
     "output_type": "execute_result"
    }
   ],
   "source": [
    "ds"
   ]
  },
  {
   "cell_type": "code",
   "execution_count": 4,
   "metadata": {},
   "outputs": [
    {
     "data": {
      "text/plain": [
       "<xarray.DataArray 'time' (time: 98208)>\n",
       "array(['2017-11-10T10:03:13.760000000', '2017-11-10T10:08:13.760000000',\n",
       "       '2017-11-10T10:13:13.760000000', ..., '2018-10-17T09:48:13.720000000',\n",
       "       '2018-10-17T09:53:13.720000000', '2018-10-17T09:58:13.720000000'],\n",
       "      dtype='datetime64[ns]')\n",
       "Coordinates:\n",
       "  * time     (time) datetime64[ns] 2017-11-10T10:03:13.760000 ... 2018-10-17T09:58:13.720000"
      ]
     },
     "execution_count": 4,
     "metadata": {},
     "output_type": "execute_result"
    }
   ],
   "source": [
    "ds['time']"
   ]
  },
  {
   "cell_type": "code",
   "execution_count": 5,
   "metadata": {},
   "outputs": [
    {
     "data": {
      "application/vnd.jupyter.widget-view+json": {
       "model_id": "aba193abe9fd4f739e0ad30958f0d2eb",
       "version_major": 2,
       "version_minor": 0
      },
      "text/plain": [
       "FigureCanvasNbAgg()"
      ]
     },
     "metadata": {},
     "output_type": "display_data"
    },
    {
     "data": {
      "application/vnd.jupyter.widget-view+json": {
       "model_id": "f08101007b6f4ecd8476018645785b68",
       "version_major": 2,
       "version_minor": 0
      },
      "text/plain": [
       "FigureCanvasNbAgg()"
      ]
     },
     "metadata": {},
     "output_type": "display_data"
    },
    {
     "data": {
      "application/vnd.jupyter.widget-view+json": {
       "model_id": "61f46dc37e044a91b30374f8a019e23f",
       "version_major": 2,
       "version_minor": 0
      },
      "text/plain": [
       "FigureCanvasNbAgg()"
      ]
     },
     "metadata": {},
     "output_type": "display_data"
    },
    {
     "data": {
      "application/vnd.jupyter.widget-view+json": {
       "model_id": "64fba53274e54f149cdaaa3301fd22a1",
       "version_major": 2,
       "version_minor": 0
      },
      "text/plain": [
       "FigureCanvasNbAgg()"
      ]
     },
     "metadata": {},
     "output_type": "display_data"
    },
    {
     "data": {
      "text/plain": [
       "Text(0, 0.5, 'height above instrument [m]')"
      ]
     },
     "execution_count": 5,
     "metadata": {},
     "output_type": "execute_result"
    }
   ],
   "source": [
    "plt.figure()\n",
    "plt.plot(np.mean(ds['C'],axis=0),ds['binheight'],'-o')\n",
    "plt.title('correlation [128 = high signal/noise]')\n",
    "plt.ylabel('height above instrument [m]')\n",
    "plt.xlim([0,128])\n",
    "\n",
    "plt.figure()\n",
    "plt.plot(np.std(ds['Eas'],axis=0),ds['binheight'],'-o')\n",
    "plt.plot(np.std(ds['Nor'],axis=0),ds['binheight'],'-o')\n",
    "plt.title('std(u,v)')\n",
    "plt.ylabel('height above instrument [m]')\n",
    "\n",
    "plt.figure()\n",
    "plt.plot(np.mean(ds['EA'],axis=0),ds['binheight'],'-o')\n",
    "plt.title('echo amplitude [dB]')\n",
    "plt.ylabel('height above instrument [m]')\n",
    "\n",
    "plt.figure()\n",
    "plt.plot(np.corrcoef(ds['Eas'],rowvar=False)[:,0],ds['binheight'],'-o')\n",
    "plt.plot(np.corrcoef(ds['Nor'],rowvar=False)[:,0],ds['binheight'],'-o')\n",
    "plt.title('correlation with bottom bin')\n",
    "plt.ylabel('height above instrument [m]')"
   ]
  },
  {
   "cell_type": "code",
   "execution_count": 6,
   "metadata": {},
   "outputs": [
    {
     "data": {
      "application/vnd.jupyter.widget-view+json": {
       "model_id": "ecebacdb3a344cce9b83c47b2d51c3d1",
       "version_major": 2,
       "version_minor": 0
      },
      "text/plain": [
       "FigureCanvasNbAgg()"
      ]
     },
     "metadata": {},
     "output_type": "display_data"
    },
    {
     "data": {
      "text/plain": [
       "Text(0.5, 0, '[m/s]')"
      ]
     },
     "execution_count": 6,
     "metadata": {},
     "output_type": "execute_result"
    }
   ],
   "source": [
    "bini = np.arange(1,17)\n",
    "\n",
    "plt.figure()\n",
    "plt.plot(np.mean(ds['Eas'][:,bini],axis=0),ds['binheight'][bini],'-o')\n",
    "plt.plot(np.mean(ds['Nor'][:,bini],axis=0),ds['binheight'][bini],'-o')\n",
    "plt.title('mean velocity - entire deployment')\n",
    "plt.legend(['East','North'])\n",
    "plt.ylabel('height above instrument')\n",
    "plt.xlabel('[m/s]')"
   ]
  },
  {
   "cell_type": "code",
   "execution_count": 7,
   "metadata": {
    "collapsed": true
   },
   "outputs": [],
   "source": [
    "dt = 5*60 # 5 min sample interval (in seconds)\n",
    "\n",
    "x = cumtrapz(ds['Eas']*dt,axis=0)\n",
    "y = cumtrapz(ds['Nor']*dt,axis=0)"
   ]
  },
  {
   "cell_type": "code",
   "execution_count": 8,
   "metadata": {},
   "outputs": [
    {
     "data": {
      "application/vnd.jupyter.widget-view+json": {
       "model_id": "2a4aa8b34ae34de2b3175a5b578e3a8d",
       "version_major": 2,
       "version_minor": 0
      },
      "text/plain": [
       "FigureCanvasNbAgg()"
      ]
     },
     "metadata": {},
     "output_type": "display_data"
    },
    {
     "data": {
      "text/plain": [
       "<matplotlib.legend.Legend at 0x1c2dc432e8>"
      ]
     },
     "execution_count": 8,
     "metadata": {},
     "output_type": "execute_result"
    }
   ],
   "source": [
    "plt.figure()\n",
    "plt.plot(x[:,15]/1000,y[:,15]/1000)\n",
    "plt.plot(x[:,7]/1000,y[:,8]/1000)\n",
    "plt.plot(x[:,1]/1000,y[:,1]/1000)\n",
    "plt.plot(0,0,'ko')\n",
    "plt.axis('equal')\n",
    "plt.xlabel('distance east [km]')\n",
    "plt.ylabel('distance north [km]')\n",
    "plt.legend(['Bin 15','Bin 8','Bin 1'])"
   ]
  },
  {
   "cell_type": "code",
   "execution_count": 9,
   "metadata": {},
   "outputs": [
    {
     "data": {
      "application/vnd.jupyter.widget-view+json": {
       "model_id": "5a78190994414187bb987f38e7ce71d2",
       "version_major": 2,
       "version_minor": 0
      },
      "text/plain": [
       "FigureCanvasNbAgg()"
      ]
     },
     "metadata": {},
     "output_type": "display_data"
    },
    {
     "data": {
      "application/vnd.jupyter.widget-view+json": {
       "model_id": "c317ff9963034a2ea99bb8b0dfc6ad74",
       "version_major": 2,
       "version_minor": 0
      },
      "text/plain": [
       "FigureCanvasNbAgg()"
      ]
     },
     "metadata": {},
     "output_type": "display_data"
    },
    {
     "data": {
      "text/plain": [
       "Text(0.5, 1.0, 'northward velocity')"
      ]
     },
     "execution_count": 9,
     "metadata": {},
     "output_type": "execute_result"
    }
   ],
   "source": [
    "plt.figure(figsize=(8,4))\n",
    "plt.plot(ds['time'],ds['Eas'][:,15]);\n",
    "plt.plot(ds['time'],ds['Eas'][:,1]);\n",
    "plt.legend(['Bin 15','Bin 1'])\n",
    "plt.ylabel('m/s')\n",
    "plt.title('eastward velocity')\n",
    "\n",
    "plt.figure(figsize=(8,4))\n",
    "plt.plot(ds['time'],ds['Nor'][:,15]);\n",
    "plt.plot(ds['time'],ds['Nor'][:,1]);\n",
    "plt.legend(['Bin 15','Bin 1'])\n",
    "plt.ylabel('m/s')\n",
    "plt.title('northward velocity')"
   ]
  },
  {
   "cell_type": "code",
   "execution_count": 10,
   "metadata": {},
   "outputs": [
    {
     "data": {
      "application/vnd.jupyter.widget-view+json": {
       "model_id": "4390f2890a1848aaa8864fcd9455e412",
       "version_major": 2,
       "version_minor": 0
      },
      "text/plain": [
       "FigureCanvasNbAgg()"
      ]
     },
     "metadata": {},
     "output_type": "display_data"
    },
    {
     "data": {
      "application/vnd.jupyter.widget-view+json": {
       "model_id": "9f593893318245c0adab3250ae472bb7",
       "version_major": 2,
       "version_minor": 0
      },
      "text/plain": [
       "FigureCanvasNbAgg()"
      ]
     },
     "metadata": {},
     "output_type": "display_data"
    },
    {
     "data": {
      "text/plain": [
       "Text(0.5, 1.0, 'northward velocity')"
      ]
     },
     "execution_count": 10,
     "metadata": {},
     "output_type": "execute_result"
    }
   ],
   "source": [
    "plt.figure(figsize=(8,4))\n",
    "plt.plot(ds['time'],ds['Eas_filt'][:,15]);\n",
    "plt.plot(ds['time'],ds['Eas_filt'][:,1]);\n",
    "plt.legend(['Bin 15','Bin 1'])\n",
    "plt.ylabel('m/s')\n",
    "plt.title('eastward velocity')\n",
    "\n",
    "plt.figure(figsize=(8,4))\n",
    "plt.plot(ds['time'],ds['Nor_filt'][:,15]);\n",
    "plt.plot(ds['time'],ds['Nor_filt'][:,1]);\n",
    "plt.legend(['Bin 15','Bin 1'])\n",
    "plt.ylabel('m/s')\n",
    "plt.title('northward velocity')"
   ]
  },
  {
   "cell_type": "code",
   "execution_count": 11,
   "metadata": {},
   "outputs": [
    {
     "data": {
      "application/vnd.jupyter.widget-view+json": {
       "model_id": "abe3cd3798b446409681e07041b5fdc4",
       "version_major": 2,
       "version_minor": 0
      },
      "text/plain": [
       "FigureCanvasNbAgg()"
      ]
     },
     "metadata": {},
     "output_type": "display_data"
    },
    {
     "data": {
      "text/plain": [
       "Text(0.5, 1.0, 'Station M - low pass filtered velocity - bin 15')"
      ]
     },
     "execution_count": 11,
     "metadata": {},
     "output_type": "execute_result"
    }
   ],
   "source": [
    "from graph import stick_plot\n",
    "\n",
    "\n",
    "\n",
    "fig, ax = plt.subplots(figsize=(8, 2.25))\n",
    "\n",
    "q = stick_plot(np.array(ds['time'])[::288],\n",
    "               np.array(ds['Eas_filt'])[::288,15],\n",
    "               np.array(ds['Nor_filt'])[::288,15],\n",
    "               ax=ax,width=0.0015)\n",
    "\n",
    "ref = 0.01\n",
    "qk = plt.quiverkey(q, 0.1, 0.85, ref,\n",
    "                  \"%s m s$^{-1}$\" % ref,\n",
    "                  labelpos='N', coordinates='axes')\n",
    "_ = plt.xticks(rotation=0)\n",
    "\n",
    "plt.title('Station M - low pass filtered velocity - bin 15')"
   ]
  },
  {
   "cell_type": "code",
   "execution_count": 12,
   "metadata": {},
   "outputs": [
    {
     "data": {
      "application/vnd.jupyter.widget-view+json": {
       "model_id": "f53031542b594880a2361aa0bfd374bc",
       "version_major": 2,
       "version_minor": 0
      },
      "text/plain": [
       "FigureCanvasNbAgg()"
      ]
     },
     "metadata": {},
     "output_type": "display_data"
    },
    {
     "data": {
      "text/plain": [
       "Text(0.5, 1.0, 'full velocity, 2018-02-01-2018-02-15, bin 15')"
      ]
     },
     "execution_count": 12,
     "metadata": {},
     "output_type": "execute_result"
    }
   ],
   "source": [
    "t1=np.datetime64('2018-02-01')\n",
    "t2=np.datetime64('2018-02-15')\n",
    "\n",
    "plt.figure(figsize=(8,4))\n",
    "plt.plot(ds['time'],ds['Eas'][:,15]);\n",
    "plt.plot(ds['time'],ds['Nor'][:,15]);\n",
    "plt.ylabel('m/s')\n",
    "plt.xlim([t1,t2])\n",
    "plt.ylim([-0.15,0.15])\n",
    "plt.legend(['East','North'])\n",
    "plt.title('full velocity, '+str(t1)+'-'+str(t2)+', bin 15')"
   ]
  },
  {
   "cell_type": "code",
   "execution_count": 13,
   "metadata": {},
   "outputs": [
    {
     "data": {
      "application/vnd.jupyter.widget-view+json": {
       "model_id": "2a78c2b61abd4530aa7213aa06118313",
       "version_major": 2,
       "version_minor": 0
      },
      "text/plain": [
       "FigureCanvasNbAgg()"
      ]
     },
     "metadata": {},
     "output_type": "display_data"
    },
    {
     "data": {
      "text/plain": [
       "Text(0.5, 1.0, 'detided velocity, 2018-02-01-2018-02-15, bin 15')"
      ]
     },
     "execution_count": 13,
     "metadata": {},
     "output_type": "execute_result"
    }
   ],
   "source": [
    "t1=np.datetime64('2018-02-01')\n",
    "t2=np.datetime64('2018-02-15')\n",
    "\n",
    "plt.figure(figsize=(8,4))\n",
    "plt.plot(ds['time'],ds['Eas'][:,15]-ds['Eas_tide'][:,15]);\n",
    "plt.plot(ds['time'],ds['Nor'][:,15]-ds['Nor_tide'][:,15]);\n",
    "plt.legend(['Bin 15','Bin 1'])\n",
    "plt.ylabel('m/s')\n",
    "plt.ylim([-0.15,0.15])\n",
    "plt.xlim([t1,t2])\n",
    "plt.legend(['East','North'])\n",
    "plt.title('detided velocity, '+str(t1)+'-'+str(t2)+', bin 15')"
   ]
  },
  {
   "cell_type": "code",
   "execution_count": 14,
   "metadata": {
    "collapsed": true
   },
   "outputs": [],
   "source": [
    "Eas = np.array(ds['Eas'])\n",
    "Nor = np.array(ds['Nor'])\n",
    "Eas_tide = np.array(ds['Eas_tide'])\n",
    "Nor_tide = np.array(ds['Nor_tide'])\n",
    "\n",
    "N = len(Eas)\n",
    "fE,SE = welch(Eas[:,5],fs=288.,nperseg=N/6,window='hanning')\n",
    "fN,SN = welch(Nor[:,5],fs=288.,nperseg=N/6,window='hanning')\n",
    "\n",
    "#rotary spectrum\n",
    "fr,Sr = welch(Eas[:,0]+1j*Nor[:,0],\n",
    "              fs=288.,nperseg=N/6,\n",
    "              window='hann',return_onesided=False)\n",
    "icw, = np.where(fr<0)\n",
    "iccw, = np.where(fr>0)\n",
    "fcw = -fr[icw]\n",
    "Scw = Sr[icw]\n",
    "fccw = fr[iccw]\n",
    "Sccw = Sr[iccw]"
   ]
  },
  {
   "cell_type": "code",
   "execution_count": 15,
   "metadata": {},
   "outputs": [
    {
     "data": {
      "text/plain": [
       "array([1.43982405e+02, 1.43964809e+02, 1.43947214e+02, ...,\n",
       "       5.27859238e-02, 3.51906158e-02, 1.75953079e-02])"
      ]
     },
     "execution_count": 15,
     "metadata": {},
     "output_type": "execute_result"
    }
   ],
   "source": [
    "fcw[1:]"
   ]
  },
  {
   "cell_type": "code",
   "execution_count": 16,
   "metadata": {},
   "outputs": [
    {
     "data": {
      "text/plain": [
       "array([1.43982405e+02, 1.43964809e+02, 1.43947214e+02, ...,\n",
       "       5.27859238e-02, 3.51906158e-02, 1.75953079e-02])"
      ]
     },
     "execution_count": 16,
     "metadata": {},
     "output_type": "execute_result"
    }
   ],
   "source": [
    "fccw[::-1]"
   ]
  },
  {
   "cell_type": "code",
   "execution_count": 17,
   "metadata": {},
   "outputs": [],
   "source": [
    "# rotary coefficient\n",
    "Cr = np.abs(Scw[1:]-Sccw[::-1])/(Scw[1:]+Sccw[::-1])\n",
    "fr = fcw[1:]"
   ]
  },
  {
   "cell_type": "code",
   "execution_count": 18,
   "metadata": {},
   "outputs": [],
   "source": [
    "f_cpd = gsw.f(35+8.4585/60)*86400/(2*np.pi)\n",
    "\n",
    "# theoretical prediction (Van Haren and Millot (2004), eq. 11)\n",
    "sigmar = 2*np.pi*fr\n",
    "Cr_pred = 2*sigmar*(2*np.pi*f_cpd)/(sigmar**2 + (2*np.pi*f_cpd)**2)"
   ]
  },
  {
   "cell_type": "code",
   "execution_count": 19,
   "metadata": {},
   "outputs": [
    {
     "data": {
      "application/vnd.jupyter.widget-view+json": {
       "model_id": "d71b261c89cf4738a46acf31f425b1d8",
       "version_major": 2,
       "version_minor": 0
      },
      "text/plain": [
       "FigureCanvasNbAgg()"
      ]
     },
     "metadata": {},
     "output_type": "display_data"
    },
    {
     "data": {
      "text/plain": [
       "Text(0.5, 1.0, 'rotary spectra')"
      ]
     },
     "execution_count": 19,
     "metadata": {},
     "output_type": "execute_result"
    }
   ],
   "source": [
    "plt.figure()\n",
    "plt.loglog(fcw,Scw)\n",
    "plt.loglog(fccw,Sccw,'--')\n",
    "plt.legend(['clockwise','counter-clockwise'])\n",
    "plt.xlabel('frequency [cpd]')\n",
    "plt.ylabel('[m$^2$ s$^{-2}$ cpd$^{-1}$]')\n",
    "plt.title('rotary spectra')"
   ]
  },
  {
   "cell_type": "code",
   "execution_count": 20,
   "metadata": {},
   "outputs": [
    {
     "data": {
      "application/vnd.jupyter.widget-view+json": {
       "model_id": "161dd54774144c458dbac25da4857523",
       "version_major": 2,
       "version_minor": 0
      },
      "text/plain": [
       "FigureCanvasNbAgg()"
      ]
     },
     "metadata": {},
     "output_type": "display_data"
    },
    {
     "data": {
      "text/plain": [
       "Text(0.9295120061967467, 0.01597311802948467, '$O_1$')"
      ]
     },
     "execution_count": 20,
     "metadata": {},
     "output_type": "execute_result"
    }
   ],
   "source": [
    "plt.figure()\n",
    "plt.loglog(fcw,Scw)\n",
    "plt.loglog(fccw,Sccw,'--')\n",
    "plt.legend(['clockwise','counter-clockwise'])\n",
    "plt.xlabel('frequency [cpd]')\n",
    "plt.ylabel('[m$^2$ s$^{-2}$ cpd$^{-1}$]')\n",
    "\n",
    "yl = plt.ylim()\n",
    "plt.plot([f_cpd,f_cpd],yl,'-',color='gray')\n",
    "plt.plot([24/25.82,24/25.82],yl,'-',color='gray')\n",
    "plt.plot([24/23.93,24/23.93],yl,'-',color='gray')\n",
    "plt.plot([2,2],yl,'-',color='gray')\n",
    "plt.plot([24/12.42,24/12.42],yl,'-',color='gray')\n",
    "plt.plot([24/12.42*2,24/12.42*2],yl,'-',color='gray')\n",
    "plt.ylim(yl)\n",
    "plt.xlim([0.6,10])\n",
    "\n",
    "plt.text(f_cpd,yl[1],'$f$',fontsize=12,\n",
    "         horizontalalignment='center',\n",
    "         verticalalignment='bottom')\n",
    "plt.text(24/12.42,yl[1],'$M_2$',fontsize=12,\n",
    "         horizontalalignment='right',\n",
    "         verticalalignment='bottom')\n",
    "plt.text(24/12.42*2,yl[1],'$2M_2$',fontsize=12,\n",
    "         horizontalalignment='center',\n",
    "         verticalalignment='bottom')\n",
    "plt.text(2,yl[1],'$S_2$',fontsize=12,\n",
    "         horizontalalignment='left',\n",
    "         verticalalignment='bottom')\n",
    "plt.text(24/23.93,yl[1],'$K_1$',fontsize=12,\n",
    "         horizontalalignment='center',\n",
    "         verticalalignment='bottom')\n",
    "plt.text(24/25.82,yl[1],'$O_1$',fontsize=12,\n",
    "         horizontalalignment='right',\n",
    "         verticalalignment='bottom')"
   ]
  },
  {
   "cell_type": "code",
   "execution_count": 21,
   "metadata": {
    "collapsed": true
   },
   "outputs": [
    {
     "data": {
      "application/vnd.jupyter.widget-view+json": {
       "model_id": "c4f15a14753d404d8d0413fc6ef39f11",
       "version_major": 2,
       "version_minor": 0
      },
      "text/plain": [
       "FigureCanvasNbAgg()"
      ]
     },
     "metadata": {},
     "output_type": "display_data"
    },
    {
     "data": {
      "text/plain": [
       "(0, 1)"
      ]
     },
     "execution_count": 21,
     "metadata": {},
     "output_type": "execute_result"
    }
   ],
   "source": [
    "iwi, = np.where(fr >= f_cpd)\n",
    "\n",
    "plt.figure()\n",
    "plt.semilogx(fr,Cr)\n",
    "plt.semilogx(fr[iwi],Cr_pred[iwi],'k-',lw=2)\n",
    "yl = plt.ylim()\n",
    "plt.semilogx([f_cpd,f_cpd],yl,'k--')\n",
    "plt.xlabel('f [cpd]')\n",
    "plt.ylabel('$C_R$')\n",
    "plt.title('rotary coefficients')\n",
    "plt.ylim(yl)\n",
    "plt.xlim([0.6,10])\n",
    "plt.ylim([0,1])"
   ]
  },
  {
   "cell_type": "code",
   "execution_count": 22,
   "metadata": {},
   "outputs": [],
   "source": [
    "ds['height'] = ds['binheight'] + 0.4572 # add instrument height (18 inches)\n",
    "zi = np.arange(0,len(ds['height'])-7)\n",
    "\n",
    "w = np.array(ds['Eas_filt'][:,zi])+1j*np.array(ds['Nor_filt'][:,zi])\n",
    "fi, = np.where(np.isfinite(np.real(w[:,0])))"
   ]
  },
  {
   "cell_type": "code",
   "execution_count": 23,
   "metadata": {},
   "outputs": [],
   "source": [
    "C = np.cov(w[fi,:],rowvar=False)"
   ]
  },
  {
   "cell_type": "code",
   "execution_count": 24,
   "metadata": {},
   "outputs": [],
   "source": [
    "val,vec = eig(C)"
   ]
  },
  {
   "cell_type": "code",
   "execution_count": 25,
   "metadata": {},
   "outputs": [
    {
     "data": {
      "text/plain": [
       "array([5.15417556e-03+9.53580040e-21j, 8.51256795e-06-2.48490750e-21j,\n",
       "       2.58853835e-06-1.19654865e-20j, 2.14451665e-06+1.27244115e-20j,\n",
       "       1.88947730e-06-1.03794784e-20j, 8.32212347e-07+8.54784780e-21j,\n",
       "       9.16121288e-07-4.54628061e-20j, 1.72671258e-06-2.74881425e-20j,\n",
       "       1.68640090e-06-1.43491813e-20j, 1.60193301e-06-1.65211813e-20j,\n",
       "       1.48900075e-06+1.11970405e-20j, 1.40776195e-06+1.09346977e-20j,\n",
       "       1.09773746e-06+4.17976705e-20j, 1.04493510e-06+2.92807105e-20j,\n",
       "       1.24375257e-06-1.83672643e-20j, 1.21532991e-06+1.79974807e-20j])"
      ]
     },
     "execution_count": 25,
     "metadata": {},
     "output_type": "execute_result"
    }
   ],
   "source": [
    "val"
   ]
  },
  {
   "cell_type": "code",
   "execution_count": 26,
   "metadata": {},
   "outputs": [
    {
     "data": {
      "text/plain": [
       "array([9.94328815e-01, 1.64222028e-03, 4.99373419e-04, 4.13714022e-04,\n",
       "       3.64512559e-04, 1.60548027e-04, 1.76735500e-04, 3.33112456e-04,\n",
       "       3.25335640e-04, 3.09040336e-04, 2.87253768e-04, 2.71581412e-04,\n",
       "       2.11772372e-04, 2.01585892e-04, 2.39941191e-04, 2.34457973e-04])"
      ]
     },
     "execution_count": 26,
     "metadata": {},
     "output_type": "execute_result"
    }
   ],
   "source": [
    "np.abs(val)/np.sum(np.abs(val))"
   ]
  },
  {
   "cell_type": "code",
   "execution_count": 27,
   "metadata": {},
   "outputs": [
    {
     "data": {
      "text/plain": [
       "array([0.21547246+0.03027987j, 0.22815629+0.02756145j,\n",
       "       0.23612105+0.02342527j, 0.24346814+0.01992399j,\n",
       "       0.24656102+0.01728033j, 0.25059411+0.01420538j,\n",
       "       0.25377798+0.01151062j, 0.25539795+0.00832762j,\n",
       "       0.25594702+0.00787283j, 0.25669189+0.0048134j ,\n",
       "       0.25778151+0.00377672j, 0.25660757+0.00286417j,\n",
       "       0.25764929+0.00023888j, 0.2588712 +0.j        ,\n",
       "       0.2568699 -0.00116901j, 0.25835882-0.00214193j])"
      ]
     },
     "execution_count": 27,
     "metadata": {},
     "output_type": "execute_result"
    }
   ],
   "source": [
    "vec[:,0]"
   ]
  },
  {
   "cell_type": "code",
   "execution_count": 28,
   "metadata": {},
   "outputs": [
    {
     "data": {
      "application/vnd.jupyter.widget-view+json": {
       "model_id": "e455f5518c1b44c5a1065e89e0c19b13",
       "version_major": 2,
       "version_minor": 0
      },
      "text/plain": [
       "FigureCanvasNbAgg()"
      ]
     },
     "metadata": {},
     "output_type": "display_data"
    },
    {
     "data": {
      "text/plain": [
       "<matplotlib.legend.Legend at 0x1c38415198>"
      ]
     },
     "execution_count": 28,
     "metadata": {},
     "output_type": "execute_result"
    }
   ],
   "source": [
    "plt.figure()\n",
    "plt.plot(np.real(vec[:,0]),ds['height'][zi])\n",
    "plt.plot(np.imag(vec[:,0]),ds['height'][zi])\n",
    "plt.title('low-pass filtered velocity\\ncomplex EOF mode 1')\n",
    "plt.ylabel('height [m]')\n",
    "plt.legend(['Re','Im'])"
   ]
  },
  {
   "cell_type": "code",
   "execution_count": 29,
   "metadata": {},
   "outputs": [
    {
     "data": {
      "application/vnd.jupyter.widget-view+json": {
       "model_id": "2accfa44903044eb9e6e806b725279bb",
       "version_major": 2,
       "version_minor": 0
      },
      "text/plain": [
       "FigureCanvasNbAgg()"
      ]
     },
     "metadata": {},
     "output_type": "display_data"
    },
    {
     "data": {
      "text/plain": [
       "[<matplotlib.lines.Line2D at 0x1c3fb569b0>]"
      ]
     },
     "execution_count": 29,
     "metadata": {},
     "output_type": "execute_result"
    }
   ],
   "source": [
    "plt.figure()\n",
    "plt.plot(np.real(vec[:,0]),np.imag(vec[:,0]))"
   ]
  },
  {
   "cell_type": "markdown",
   "metadata": {},
   "source": [
    "### To Do:\n",
    "\n",
    "Fit steady Ekman model to low-pass filtered currents at each time step, estimate ustar and zo, treat upper layer currents as free parameters\n",
    "\n",
    "Treat zo as constant, determine what value of zo gives best fit to data\n",
    "\n",
    "Smith and McLean (1977) - Sediment stratification, effect of large scale dunes at upper levels - possible explanations for large zo\n",
    "\n",
    "Note large zo in Edwards CEOF paper"
   ]
  },
  {
   "cell_type": "code",
   "execution_count": 30,
   "metadata": {},
   "outputs": [],
   "source": [
    "def planetary_bbl_structure(ustar,zo,z,f):\n",
    "    '''\n",
    "    Calculate vertical structure of a planetary boundary layer (a.k.a.\n",
    "    bottom Ekman layer) following Soulsby (1983). The calculation assumes\n",
    "    that the eddy viscosity increases linearly with height.\n",
    "    '''\n",
    "\n",
    "    i = 1j \n",
    "    kappa = 0.41 # Von Karman's constant\n",
    "    \n",
    "    # non-dimensional height and roughness length\n",
    "    xi = 2*np.sqrt(f*z/(kappa*ustar))\n",
    "    xio = 2*np.sqrt(f*zo/(kappa*ustar))\n",
    "    \n",
    "    # Q/Qinf in Equation 31 of Soulsby (1983)\n",
    "    fac = (1-(ker(xi)*ker(xio) + kei(xi)*kei(xio))/\n",
    "             (ker(xio)**2 + kei(xio)**2) + \n",
    "           i*(ker(xi)*kei(xio) - kei(xi)*ker(xio))/\n",
    "             (ker(xio)**2 + kei(xio)**2))\n",
    "\n",
    "    return fac\n",
    "\n",
    "def rotating_planetary_bbl(ustar,zo,Qinf,z,f,zoffset=0):\n",
    "    Q = Qinf*planetary_bbl_structure(ustar,zo,z,f)\n",
    "\n",
    "    return Q"
   ]
  },
  {
   "cell_type": "code",
   "execution_count": 31,
   "metadata": {},
   "outputs": [],
   "source": [
    "def fit_function(params, z=None, dat=None):\n",
    "    \n",
    "    Q = rotating_planetary_bbl(params['ustar'],\n",
    "                                      params['zo'],\n",
    "                                      params['Qinf_real']+1j*params['Qinf_imag'],\n",
    "                                      z+params['z_offset'],\n",
    "                                      params['f'])\n",
    "\n",
    "    resid1 = np.abs(np.real(dat) - np.real(Q))\n",
    "    resid2 = np.abs(np.imag(dat) - np.imag(Q))    \n",
    "    \n",
    "    return np.concatenate((resid1, resid2))"
   ]
  },
  {
   "cell_type": "code",
   "execution_count": 32,
   "metadata": {},
   "outputs": [],
   "source": [
    "# select good data and decimate to every six hours (6*12 = 72 data points)\n",
    "gi, = np.where(np.isfinite(ds['Eas_filt'][:,0]))\n",
    "u = np.array(ds['Eas_filt'][gi,zi][::72,:])\n",
    "v = np.array(ds['Nor_filt'][gi,zi][::72,:])\n",
    "t = np.array(ds['time'][gi][::72])\n",
    "w = u+1j*v"
   ]
  },
  {
   "cell_type": "code",
   "execution_count": 33,
   "metadata": {},
   "outputs": [],
   "source": [
    "f = gsw.f(35+8.4585/60)\n",
    "\n",
    "params = lmfit.Parameters()\n",
    "params.add('f', value=f, vary=False)\n",
    "params.add('zo', value=0.01,vary=True)\n",
    "params.add('ustar', value=0.001,vary=True)\n",
    "params.add('z_offset', value=1e-16,vary=False)  # acccount for unknowns in measurement levels\n",
    "params.add('Qinf_real', value=1e-16,vary=False)\n",
    "params.add('Qinf_imag', value=1e-16,vary=False)"
   ]
  },
  {
   "cell_type": "code",
   "execution_count": 34,
   "metadata": {},
   "outputs": [],
   "source": [
    "dat_z = np.array(ds['height'][zi])\n",
    "\n",
    "zo_fit = np.nan*np.zeros(len(w))\n",
    "ustar_fit = np.nan*np.zeros(len(w))\n",
    "zo_stderr = np.nan*np.zeros(len(w))\n",
    "ustar_stderr = np.nan*np.zeros(len(w))\n",
    "Qinf_fit = np.nan*np.zeros(len(w))+1j*np.nan*np.zeros(len(w))\n",
    "\n",
    "for ti in np.arange(len(w)):\n",
    "    dat = w[ti,:]\n",
    "\n",
    "    try:\n",
    "        params.add('Qinf_real', value=np.real(dat[zi[-1]]),vary=True)\n",
    "        params.add('Qinf_imag', value=np.imag(dat[zi[-1]]),vary=True)\n",
    "    \n",
    "        out = lmfit.minimize(fit_function, params, args=(dat_z, dat),nan_policy='omit')\n",
    "    except:\n",
    "        pass\n",
    "    \n",
    "    zo_fit[ti] = out.params['zo'].value\n",
    "    zo_stderr[ti] = out.params['zo'].stderr\n",
    "    ustar_fit[ti] = out.params['ustar'].value\n",
    "    ustar_stderr[ti] = out.params['ustar'].stderr\n",
    "    Qinf_fit[ti] = out.params['Qinf_real'].value + 1j*out.params['Qinf_imag'].value   "
   ]
  },
  {
   "cell_type": "code",
   "execution_count": 35,
   "metadata": {},
   "outputs": [
    {
     "data": {
      "application/vnd.jupyter.widget-view+json": {
       "model_id": "1919641031be4b5a8c7ecd42680d8b2f",
       "version_major": 2,
       "version_minor": 0
      },
      "text/plain": [
       "FigureCanvasNbAgg()"
      ]
     },
     "metadata": {},
     "output_type": "display_data"
    },
    {
     "data": {
      "text/plain": [
       "[<matplotlib.lines.Line2D at 0x1c3fb71320>]"
      ]
     },
     "execution_count": 35,
     "metadata": {},
     "output_type": "execute_result"
    }
   ],
   "source": [
    "plt.figure()\n",
    "plt.plot(t,np.abs(Qinf_fit),'.')"
   ]
  },
  {
   "cell_type": "code",
   "execution_count": 36,
   "metadata": {},
   "outputs": [
    {
     "data": {
      "application/vnd.jupyter.widget-view+json": {
       "model_id": "d5e91126e20c4a75ad70bfebcd6a128d",
       "version_major": 2,
       "version_minor": 0
      },
      "text/plain": [
       "FigureCanvasNbAgg()"
      ]
     },
     "metadata": {},
     "output_type": "display_data"
    },
    {
     "data": {
      "text/plain": [
       "[<matplotlib.lines.Line2D at 0x1c2085ada0>]"
      ]
     },
     "execution_count": 36,
     "metadata": {},
     "output_type": "execute_result"
    }
   ],
   "source": [
    "plt.figure()\n",
    "plt.plot(t,zo_fit,'.')"
   ]
  },
  {
   "cell_type": "code",
   "execution_count": 37,
   "metadata": {},
   "outputs": [
    {
     "name": "stderr",
     "output_type": "stream",
     "text": [
      "/Users/tomconnolly/programs/anaconda/envs/py37/lib/python3.7/site-packages/matplotlib/pyplot.py:514: RuntimeWarning: More than 20 figures have been opened. Figures created through the pyplot interface (`matplotlib.pyplot.figure`) are retained until explicitly closed and may consume too much memory. (To control this warning, see the rcParam `figure.max_open_warning`).\n",
      "  max_open_warning, RuntimeWarning)\n"
     ]
    },
    {
     "data": {
      "application/vnd.jupyter.widget-view+json": {
       "model_id": "2e7e7d32016b49deac3cc8b9215e7d46",
       "version_major": 2,
       "version_minor": 0
      },
      "text/plain": [
       "FigureCanvasNbAgg()"
      ]
     },
     "metadata": {},
     "output_type": "display_data"
    },
    {
     "data": {
      "text/plain": [
       "[<matplotlib.lines.Line2D at 0x1c208e3160>]"
      ]
     },
     "execution_count": 37,
     "metadata": {},
     "output_type": "execute_result"
    }
   ],
   "source": [
    "plt.figure()\n",
    "plt.plot(np.abs(w[:,zi[-1]]),zo_fit,'.')"
   ]
  },
  {
   "cell_type": "code",
   "execution_count": 38,
   "metadata": {},
   "outputs": [
    {
     "name": "stderr",
     "output_type": "stream",
     "text": [
      "/Users/tomconnolly/programs/anaconda/envs/py37/lib/python3.7/site-packages/matplotlib/pyplot.py:514: RuntimeWarning: More than 20 figures have been opened. Figures created through the pyplot interface (`matplotlib.pyplot.figure`) are retained until explicitly closed and may consume too much memory. (To control this warning, see the rcParam `figure.max_open_warning`).\n",
      "  max_open_warning, RuntimeWarning)\n"
     ]
    },
    {
     "data": {
      "application/vnd.jupyter.widget-view+json": {
       "model_id": "46608a8782d443b0adbab133792b5b02",
       "version_major": 2,
       "version_minor": 0
      },
      "text/plain": [
       "FigureCanvasNbAgg()"
      ]
     },
     "metadata": {},
     "output_type": "display_data"
    },
    {
     "data": {
      "text/plain": [
       "[<matplotlib.lines.Line2D at 0x1c17432438>]"
      ]
     },
     "execution_count": 38,
     "metadata": {},
     "output_type": "execute_result"
    }
   ],
   "source": [
    "plt.figure()\n",
    "plt.plot(np.abs(w[:,zi[-1]]),zo_stderr/zo_fit,'.')"
   ]
  },
  {
   "cell_type": "code",
   "execution_count": 39,
   "metadata": {},
   "outputs": [
    {
     "name": "stdout",
     "output_type": "stream",
     "text": [
      "0.08431034869405069\n"
     ]
    },
    {
     "name": "stderr",
     "output_type": "stream",
     "text": [
      "/Users/tomconnolly/programs/anaconda/envs/py37/lib/python3.7/site-packages/matplotlib/pyplot.py:514: RuntimeWarning: More than 20 figures have been opened. Figures created through the pyplot interface (`matplotlib.pyplot.figure`) are retained until explicitly closed and may consume too much memory. (To control this warning, see the rcParam `figure.max_open_warning`).\n",
      "  max_open_warning, RuntimeWarning)\n"
     ]
    },
    {
     "data": {
      "application/vnd.jupyter.widget-view+json": {
       "model_id": "c698e858f05649c88bbee5f8b6d93f13",
       "version_major": 2,
       "version_minor": 0
      },
      "text/plain": [
       "FigureCanvasNbAgg()"
      ]
     },
     "metadata": {},
     "output_type": "display_data"
    }
   ],
   "source": [
    "print(np.median(zo_fit))\n",
    "\n",
    "plt.figure()\n",
    "plt.hist(zo_fit,100);"
   ]
  },
  {
   "cell_type": "code",
   "execution_count": 40,
   "metadata": {},
   "outputs": [],
   "source": [
    "paramsb = lmfit.Parameters()\n",
    "paramsb.add('f', value=f, vary=False)\n",
    "paramsb.add('zo',vary=False)\n",
    "paramsb.add('ustar', value=0.001,vary=True)\n",
    "paramsb.add('z_offset', value=1e-16,vary=False)  # acccount for unknowns in measurement levels\n",
    "paramsb.add('Qinf_real', value=1e-16,vary=True)\n",
    "paramsb.add('Qinf_imag', value=1e-16,vary=True)"
   ]
  },
  {
   "cell_type": "code",
   "execution_count": 41,
   "metadata": {},
   "outputs": [
    {
     "name": "stdout",
     "output_type": "stream",
     "text": [
      "loop through zo values...\n",
      "zo= 0.0001\n",
      "zo= 0.0005124088035134938\n",
      "zo= 0.0026256278191813037\n",
      "zo= 0.013453948092984372\n",
      "zo= 0.06893921444858775\n"
     ]
    }
   ],
   "source": [
    "zo_array = np.logspace(-4,np.log10(0.3))\n",
    "\n",
    "ustar_fit_b = np.nan*np.zeros([len(w),len(zo_array)])\n",
    "ustar_stderr_b = np.nan*np.zeros([len(w),len(zo_array)])\n",
    "Qinf_fit_b = np.nan*np.zeros([len(w),len(zo_array)]) + 1j*np.nan*np.zeros([len(w),len(zo_array)])\n",
    "resid_b = np.nan*np.zeros([len(w),len(zo_array)])\n",
    "\n",
    "print('loop through zo values...')\n",
    "for zfi,zo_val in enumerate(zo_array):\n",
    "    if zfi % 10 == 0:\n",
    "        print('zo=',zo_val)\n",
    "    paramsb.add('zo',zo_val,vary=False)\n",
    "    for ti in np.arange(len(w)):\n",
    "        dat = w[ti,:]\n",
    "\n",
    "        try:\n",
    "            paramsb.add('Qinf_real', value=np.real(dat[zi[-1]]),vary=True)\n",
    "            paramsb.add('Qinf_imag', value=np.imag(dat[zi[-1]]),vary=True)\n",
    "\n",
    "            out = lmfit.minimize(fit_function, paramsb, args=(dat_z, dat),nan_policy='omit')\n",
    "        except:\n",
    "            pass\n",
    "\n",
    "        ustar_fit_b[ti,zfi] = out.params['ustar'].value\n",
    "        ustar_stderr_b[ti,zfi] = out.params['ustar'].stderr\n",
    "        resid_b[ti,zfi] = np.sum(out.residual)\n",
    "        Qinf_fit_b[ti,zfi] = out.params['Qinf_real'].value + 1j*out.params['Qinf_imag'].value   "
   ]
  },
  {
   "cell_type": "code",
   "execution_count": 42,
   "metadata": {},
   "outputs": [
    {
     "data": {
      "text/html": [
       "<table><tr><th> name </th><th> value </th><th> standard error </th><th> relative error </th><th> initial value </th><th> min </th><th> max </th><th> vary </th></tr><tr><td> f </td><td>  8.3945e-05 </td><td>  0.00000000 </td><td> 0.00% </td><td> 8.394539915467414e-05 </td><td>        -inf </td><td>         inf </td><td> False </td></tr><tr><td> zo </td><td>  0.30000000 </td><td>  0.00000000 </td><td> 0.00% </td><td> 0.29999999999999993 </td><td>        -inf </td><td>         inf </td><td> False </td></tr><tr><td> ustar </td><td>  6.2842e-04 </td><td>  8.5599e-05 </td><td> 13.62% </td><td> 0.001 </td><td>        -inf </td><td>         inf </td><td> True </td></tr><tr><td> z_offset </td><td>  1.0000e-16 </td><td>  0.00000000 </td><td> 0.00% </td><td> 1e-16 </td><td>        -inf </td><td>         inf </td><td> False </td></tr><tr><td> Qinf_real </td><td>  0.02220780 </td><td>  2.0573e-04 </td><td> 0.93% </td><td> 0.022228553945635984 </td><td>        -inf </td><td>         inf </td><td> True </td></tr><tr><td> Qinf_imag </td><td>  5.0617e-04 </td><td>  2.8219e-04 </td><td> 55.75% </td><td> -0.0004050845562498968 </td><td>        -inf </td><td>         inf </td><td> True </td></tr></table>"
      ],
      "text/plain": [
       "Parameters([('f',\n",
       "             <Parameter 'f', value=8.394539915467414e-05 (fixed), bounds=[-inf:inf]>),\n",
       "            ('zo',\n",
       "             <Parameter 'zo', value=0.29999999999999993 (fixed), bounds=[-inf:inf]>),\n",
       "            ('ustar',\n",
       "             <Parameter 'ustar', value=0.0006284232575691193 +/- 8.56e-05, bounds=[-inf:inf]>),\n",
       "            ('z_offset',\n",
       "             <Parameter 'z_offset', value=1e-16 (fixed), bounds=[-inf:inf]>),\n",
       "            ('Qinf_real',\n",
       "             <Parameter 'Qinf_real', value=0.022207802307418097 +/- 0.000206, bounds=[-inf:inf]>),\n",
       "            ('Qinf_imag',\n",
       "             <Parameter 'Qinf_imag', value=0.0005061688493041337 +/- 0.000282, bounds=[-inf:inf]>)])"
      ]
     },
     "execution_count": 42,
     "metadata": {},
     "output_type": "execute_result"
    }
   ],
   "source": [
    "out.params"
   ]
  },
  {
   "cell_type": "code",
   "execution_count": 43,
   "metadata": {},
   "outputs": [],
   "source": [
    "bigi, = np.where(np.abs(w[:,0]) > 0.03)"
   ]
  },
  {
   "cell_type": "code",
   "execution_count": 44,
   "metadata": {},
   "outputs": [],
   "source": [
    "bi = np.argmin(np.mean(resid_b[bigi,:],axis=0))"
   ]
  },
  {
   "cell_type": "code",
   "execution_count": 45,
   "metadata": {},
   "outputs": [],
   "source": [
    "gi, = np.where(ustar_stderr_b[:,bi]/ustar_fit_b[:,bi] < 1)"
   ]
  },
  {
   "cell_type": "code",
   "execution_count": 46,
   "metadata": {},
   "outputs": [
    {
     "name": "stderr",
     "output_type": "stream",
     "text": [
      "/Users/tomconnolly/programs/anaconda/envs/py37/lib/python3.7/site-packages/matplotlib/pyplot.py:514: RuntimeWarning: More than 20 figures have been opened. Figures created through the pyplot interface (`matplotlib.pyplot.figure`) are retained until explicitly closed and may consume too much memory. (To control this warning, see the rcParam `figure.max_open_warning`).\n",
      "  max_open_warning, RuntimeWarning)\n"
     ]
    },
    {
     "data": {
      "application/vnd.jupyter.widget-view+json": {
       "model_id": "ef3cf6fc8a6f40af9ffb32d442657380",
       "version_major": 2,
       "version_minor": 0
      },
      "text/plain": [
       "FigureCanvasNbAgg()"
      ]
     },
     "metadata": {},
     "output_type": "display_data"
    }
   ],
   "source": [
    "plt.figure()\n",
    "plt.plot(np.abs(w[gi,0]),ustar_fit_b[gi,bi],'.');"
   ]
  },
  {
   "cell_type": "code",
   "execution_count": 47,
   "metadata": {},
   "outputs": [
    {
     "name": "stderr",
     "output_type": "stream",
     "text": [
      "/Users/tomconnolly/programs/anaconda/envs/py37/lib/python3.7/site-packages/matplotlib/pyplot.py:514: RuntimeWarning: More than 20 figures have been opened. Figures created through the pyplot interface (`matplotlib.pyplot.figure`) are retained until explicitly closed and may consume too much memory. (To control this warning, see the rcParam `figure.max_open_warning`).\n",
      "  max_open_warning, RuntimeWarning)\n"
     ]
    },
    {
     "data": {
      "application/vnd.jupyter.widget-view+json": {
       "model_id": "198eb2aa299e48cd80a9f9ff29173e52",
       "version_major": 2,
       "version_minor": 0
      },
      "text/plain": [
       "FigureCanvasNbAgg()"
      ]
     },
     "metadata": {},
     "output_type": "display_data"
    },
    {
     "name": "stderr",
     "output_type": "stream",
     "text": [
      "/Users/tomconnolly/programs/anaconda/envs/py37/lib/python3.7/site-packages/matplotlib/pyplot.py:1479: UserWarning: Attempted to set non-positive bottom ylim on a log-scaled axis.\n",
      "Invalid limit will be ignored.\n",
      "  ret = ax.set_ylim(*args, **kwargs)\n"
     ]
    }
   ],
   "source": [
    "plt.figure(figsize=(9,4))\n",
    "\n",
    "plt.subplot(121)\n",
    "h1 = plt.semilogy(np.abs(w[:,0]),ustar_stderr_b/ustar_fit_b,'.',color='gray');\n",
    "h2 = plt.semilogy(np.abs(w[:,0]),ustar_stderr_b[:,bi]/ustar_fit_b[:,bi],'k.');\n",
    "plt.xlabel('current speed [m/s]')\n",
    "plt.ylabel('relative error SE$_{u_*}$/$u_*$')\n",
    "plt.title('friction velocity - relative error in fit')\n",
    "plt.ylim([0,1e6])\n",
    "plt.legend([h2[0],h1[0]],['$z_o$ = 0.03 m','all $z_o$'])\n",
    "\n",
    "plt.subplot(122)\n",
    "plt.plot(zo_array,np.mean(resid_b[bigi,:],axis=0)/len(zi),'k-o')\n",
    "plt.xlabel('$z_o$ [m]')\n",
    "plt.ylabel('mean residual [m/s]')\n",
    "plt.title('residual of fit (speed > 0.03 m/s)')\n",
    "\n",
    "plt.tight_layout()\n",
    "plt.savefig('figures_paper/nonlinear_fit_stats.png',dpi=600)\n",
    "plt.savefig('figures_paper/nonlinear_fit_stats.pdf')"
   ]
  },
  {
   "cell_type": "code",
   "execution_count": 48,
   "metadata": {},
   "outputs": [
    {
     "name": "stderr",
     "output_type": "stream",
     "text": [
      "/Users/tomconnolly/programs/anaconda/envs/py37/lib/python3.7/site-packages/matplotlib/pyplot.py:514: RuntimeWarning: More than 20 figures have been opened. Figures created through the pyplot interface (`matplotlib.pyplot.figure`) are retained until explicitly closed and may consume too much memory. (To control this warning, see the rcParam `figure.max_open_warning`).\n",
      "  max_open_warning, RuntimeWarning)\n"
     ]
    },
    {
     "data": {
      "application/vnd.jupyter.widget-view+json": {
       "model_id": "aac20b227d8b4189b006c1f4c02cbd9b",
       "version_major": 2,
       "version_minor": 0
      },
      "text/plain": [
       "FigureCanvasNbAgg()"
      ]
     },
     "metadata": {},
     "output_type": "display_data"
    },
    {
     "data": {
      "text/plain": [
       "[<matplotlib.lines.Line2D at 0x1c1b02c8d0>]"
      ]
     },
     "execution_count": 48,
     "metadata": {},
     "output_type": "execute_result"
    }
   ],
   "source": [
    "plt.figure(figsize=(4.5,4.5))\n",
    "\n",
    "plt.subplot(211)\n",
    "plt.plot(np.abs(w[:,0]),ustar_stderr_b[:,bi]/ustar_fit_b[:,bi],'k.');\n",
    "plt.ylim([0,10])\n",
    "plt.xlabel('current speed [m/s]')\n",
    "plt.ylabel('relative error SE$_{u_*}$/$u_*$')\n",
    "plt.title('friction velocity - relative error in fit')\n",
    "\n",
    "plt.subplot(212)\n",
    "plt.plot(zo_array,np.mean(resid_b[bigi,:],axis=0),'-o')"
   ]
  },
  {
   "cell_type": "code",
   "execution_count": 49,
   "metadata": {},
   "outputs": [
    {
     "name": "stderr",
     "output_type": "stream",
     "text": [
      "/Users/tomconnolly/programs/anaconda/envs/py37/lib/python3.7/site-packages/matplotlib/pyplot.py:514: RuntimeWarning: More than 20 figures have been opened. Figures created through the pyplot interface (`matplotlib.pyplot.figure`) are retained until explicitly closed and may consume too much memory. (To control this warning, see the rcParam `figure.max_open_warning`).\n",
      "  max_open_warning, RuntimeWarning)\n"
     ]
    },
    {
     "data": {
      "application/vnd.jupyter.widget-view+json": {
       "model_id": "48e8427f308b4cec9c91349a873b5039",
       "version_major": 2,
       "version_minor": 0
      },
      "text/plain": [
       "FigureCanvasNbAgg()"
      ]
     },
     "metadata": {},
     "output_type": "display_data"
    },
    {
     "data": {
      "text/plain": [
       "[<matplotlib.lines.Line2D at 0x1c1b1b9da0>]"
      ]
     },
     "execution_count": 49,
     "metadata": {},
     "output_type": "execute_result"
    }
   ],
   "source": [
    "plt.figure()\n",
    "plt.plot(t[bigi],ustar_fit_b[bigi,bi],'.')"
   ]
  },
  {
   "cell_type": "code",
   "execution_count": 50,
   "metadata": {},
   "outputs": [
    {
     "name": "stderr",
     "output_type": "stream",
     "text": [
      "/Users/tomconnolly/programs/anaconda/envs/py37/lib/python3.7/site-packages/matplotlib/pyplot.py:514: RuntimeWarning: More than 20 figures have been opened. Figures created through the pyplot interface (`matplotlib.pyplot.figure`) are retained until explicitly closed and may consume too much memory. (To control this warning, see the rcParam `figure.max_open_warning`).\n",
      "  max_open_warning, RuntimeWarning)\n"
     ]
    },
    {
     "data": {
      "application/vnd.jupyter.widget-view+json": {
       "model_id": "8dff4946a4fb43659ee4c97f5228bcc7",
       "version_major": 2,
       "version_minor": 0
      },
      "text/plain": [
       "FigureCanvasNbAgg()"
      ]
     },
     "metadata": {},
     "output_type": "display_data"
    },
    {
     "data": {
      "text/plain": [
       "[<matplotlib.lines.Line2D at 0x1c1b244518>]"
      ]
     },
     "execution_count": 50,
     "metadata": {},
     "output_type": "execute_result"
    }
   ],
   "source": [
    "plt.figure()\n",
    "plt.plot(zo_array,np.mean(resid_b[bigi,:],axis=0),'-o')"
   ]
  },
  {
   "cell_type": "code",
   "execution_count": 51,
   "metadata": {},
   "outputs": [
    {
     "name": "stderr",
     "output_type": "stream",
     "text": [
      "/Users/tomconnolly/programs/anaconda/envs/py37/lib/python3.7/site-packages/matplotlib/pyplot.py:514: RuntimeWarning: More than 20 figures have been opened. Figures created through the pyplot interface (`matplotlib.pyplot.figure`) are retained until explicitly closed and may consume too much memory. (To control this warning, see the rcParam `figure.max_open_warning`).\n",
      "  max_open_warning, RuntimeWarning)\n"
     ]
    },
    {
     "data": {
      "application/vnd.jupyter.widget-view+json": {
       "model_id": "21470c2c9c6c4284bdf9e593dbc054e8",
       "version_major": 2,
       "version_minor": 0
      },
      "text/plain": [
       "FigureCanvasNbAgg()"
      ]
     },
     "metadata": {},
     "output_type": "display_data"
    },
    {
     "data": {
      "text/plain": [
       "<matplotlib.legend.Legend at 0x1c1b269080>"
      ]
     },
     "execution_count": 51,
     "metadata": {},
     "output_type": "execute_result"
    }
   ],
   "source": [
    "fac = 0.23\n",
    "\n",
    "plt.figure()\n",
    "plt.plot(np.real(vec[:,0])*fac,ds['height'][zi],'s')\n",
    "plt.plot(np.imag(vec[:,0])*fac,ds['height'][zi],'s')\n",
    "plt.title('low-pass filtered velocity\\ncomplex EOF mode 1')\n",
    "plt.ylabel('height [m]')\n",
    "plt.legend(['Re','Im'])"
   ]
  },
  {
   "cell_type": "code",
   "execution_count": 58,
   "metadata": {},
   "outputs": [],
   "source": [
    "zplt = np.arange(out.params['zo'],20,0.05)\n",
    "\n",
    "fac1 = 0.23\n",
    "dat = vec[:,0]*fac\n",
    "paramsb.add('zo', value=0.03,vary=False)\n",
    "paramsb.add('ustar', value=0.001,vary=True)\n",
    "paramsb.add('Qinf_real', value=0.05,vary=True)\n",
    "paramsb.add('Qinf_imag', value=0.0,vary=True)\n",
    "out = lmfit.minimize(fit_function, paramsb, args=(dat_z, dat),nan_policy='omit')\n",
    "paramsb.add('zo', value=0.002,vary=False)\n",
    "paramsb.add('ustar', value=0.001,vary=True)\n",
    "paramsb.add('Qinf_real', value=0.05,vary=True)\n",
    "paramsb.add('Qinf_imag', value=0.0,vary=True)\n",
    "out2 = lmfit.minimize(fit_function, paramsb, args=(dat_z, dat),nan_policy='omit')\n",
    "\n",
    "fac3 = 0.23/3\n",
    "dat = vec[:,0]*fac3\n",
    "paramsb.add('zo', value=0.03,vary=False)\n",
    "paramsb.add('ustar', value=0.001,vary=True)\n",
    "paramsb.add('Qinf_real', value=0.05,vary=True)\n",
    "paramsb.add('Qinf_imag', value=0.0,vary=True)\n",
    "out3 = lmfit.minimize(fit_function, paramsb, args=(dat_z, dat),nan_policy='omit')\n",
    "Q1 = rotating_planetary_bbl(out.params['ustar'],out.params['zo'],\n",
    "                           out.params['Qinf_real'] + 1j*out.params['Qinf_imag'],\n",
    "                           zplt,out.params['f'])\n",
    "Q2 = rotating_planetary_bbl(out2.params['ustar'],out2.params['zo'],\n",
    "                           out2.params['Qinf_real'] + 1j*out2.params['Qinf_imag'],\n",
    "                           zplt,out2.params['f'])\n",
    "Q3 = rotating_planetary_bbl(out3.params['ustar'],out3.params['zo'],\n",
    "                           out3.params['Qinf_real'] + 1j*out3.params['Qinf_imag'],\n",
    "                           zplt,out3.params['f'])"
   ]
  },
  {
   "cell_type": "code",
   "execution_count": 59,
   "metadata": {},
   "outputs": [
    {
     "name": "stderr",
     "output_type": "stream",
     "text": [
      "/Users/tomconnolly/programs/anaconda/envs/py37/lib/python3.7/site-packages/matplotlib/pyplot.py:514: RuntimeWarning: More than 20 figures have been opened. Figures created through the pyplot interface (`matplotlib.pyplot.figure`) are retained until explicitly closed and may consume too much memory. (To control this warning, see the rcParam `figure.max_open_warning`).\n",
      "  max_open_warning, RuntimeWarning)\n"
     ]
    },
    {
     "data": {
      "application/vnd.jupyter.widget-view+json": {
       "model_id": "f7383a62fecd41e4926c583ff1f34279",
       "version_major": 2,
       "version_minor": 0
      },
      "text/plain": [
       "FigureCanvasNbAgg()"
      ]
     },
     "metadata": {},
     "output_type": "display_data"
    }
   ],
   "source": [
    "plt.figure(figsize=(4.5,6))\n",
    "\n",
    "plt.plot(np.real(vec[:,0])*fac1,ds['height'][zi],'ks')\n",
    "plt.plot(np.imag(vec[:,0])*fac1,ds['height'][zi],'s',color='gray')\n",
    "plt.plot(np.real(Q1),zplt,'k-')\n",
    "plt.plot(np.imag(Q1),zplt,'-',color='gray')\n",
    "plt.plot(np.real(vec[:,0])*fac3,ds['height'][zi],'ko')\n",
    "plt.plot(np.imag(vec[:,0])*fac3,ds['height'][zi],'o',color='gray')\n",
    "plt.plot(np.real(Q3),zplt,'k--')\n",
    "plt.plot(np.imag(Q3),zplt,'--',color='gray')\n",
    "plt.title('complex EOF mode 1\\n& planetary boundary layer model')\n",
    "plt.ylabel('height [m]')\n",
    "plt.legend(['CEOF - Real','CEOF - Imag','PBL model - Real','PBL model - Imag'],loc=(0.4,0.8))\n",
    "plt.ylim([0,20])\n",
    "#plt.xlim([-0.005,0.07])\n",
    "plt.xlabel('[m/s]')\n",
    "\n",
    "plt.tight_layout()\n",
    "plt.savefig('figures_paper/pbl_ceof_profiles.png',dpi=600)\n",
    "plt.savefig('figures_paper/pbl_ceof_profiles.pdf')"
   ]
  },
  {
   "cell_type": "code",
   "execution_count": 60,
   "metadata": {},
   "outputs": [
    {
     "data": {
      "text/html": [
       "<h2>Fit Statistics</h2><table><tr><td>fitting method</td><td>leastsq</td><td></td></tr><tr><td># function evals</td><td>25</td><td></td></tr><tr><td># data points</td><td>32</td><td></td></tr><tr><td># variables</td><td>3</td><td></td></tr><tr><td>chi-square</td><td> 1.5863e-07</td><td></td></tr><tr><td>reduced chi-square</td><td> 5.4699e-09</td><td></td></tr><tr><td>Akaike info crit.</td><td>-605.918269</td><td></td></tr><tr><td>Bayesian info crit.</td><td>-601.521062</td><td></td></tr></table><h2>Variables</h2><table><tr><th> name </th><th> value </th><th> standard error </th><th> relative error </th><th> initial value </th><th> min </th><th> max </th><th> vary </th></tr><tr><td> f </td><td>  8.3945e-05 </td><td>  0.00000000 </td><td> 0.00% </td><td> 8.394539915467414e-05 </td><td>        -inf </td><td>         inf </td><td> False </td></tr><tr><td> zo </td><td>  0.03000000 </td><td>  0.00000000 </td><td> 0.00% </td><td> 0.03 </td><td>        -inf </td><td>         inf </td><td> False </td></tr><tr><td> ustar </td><td>  0.00174057 </td><td>  4.8977e-05 </td><td> 2.81% </td><td> 0.001 </td><td>        -inf </td><td>         inf </td><td> True </td></tr><tr><td> z_offset </td><td>  1.0000e-16 </td><td>  0.00000000 </td><td> 0.00% </td><td> 1e-16 </td><td>        -inf </td><td>         inf </td><td> False </td></tr><tr><td> Qinf_real </td><td>  0.01945663 </td><td>  3.3485e-05 </td><td> 0.17% </td><td> 0.05 </td><td>        -inf </td><td>         inf </td><td> True </td></tr><tr><td> Qinf_imag </td><td> -7.8868e-04 </td><td>  3.7535e-05 </td><td> -4.76% </td><td> 0.0 </td><td>        -inf </td><td>         inf </td><td> True </td></tr></table><h2>Correlations (unreported correlations are < 0.100)</h2><table><tr><td>ustar</td><td>Qinf_imag</td><td>-0.8658</td></tr><tr><td>ustar</td><td>Qinf_real</td><td>0.8278</td></tr><tr><td>Qinf_real</td><td>Qinf_imag</td><td>-0.7167</td></tr></table>"
      ],
      "text/plain": [
       "<lmfit.minimizer.MinimizerResult at 0x1c17465860>"
      ]
     },
     "execution_count": 60,
     "metadata": {},
     "output_type": "execute_result"
    }
   ],
   "source": [
    "out3"
   ]
  },
  {
   "cell_type": "code",
   "execution_count": 61,
   "metadata": {},
   "outputs": [
    {
     "data": {
      "text/html": [
       "<h2>Fit Statistics</h2><table><tr><td>fitting method</td><td>leastsq</td><td></td></tr><tr><td># function evals</td><td>17</td><td></td></tr><tr><td># data points</td><td>32</td><td></td></tr><tr><td># variables</td><td>3</td><td></td></tr><tr><td>chi-square</td><td> 1.4276e-06</td><td></td></tr><tr><td>reduced chi-square</td><td> 4.9229e-08</td><td></td></tr><tr><td>Akaike info crit.</td><td>-535.607083</td><td></td></tr><tr><td>Bayesian info crit.</td><td>-531.209875</td><td></td></tr></table><h2>Variables</h2><table><tr><th> name </th><th> value </th><th> standard error </th><th> relative error </th><th> initial value </th><th> min </th><th> max </th><th> vary </th></tr><tr><td> f </td><td>  8.3945e-05 </td><td>  0.00000000 </td><td> 0.00% </td><td> 8.394539915467414e-05 </td><td>        -inf </td><td>         inf </td><td> False </td></tr><tr><td> zo </td><td>  0.03000000 </td><td>  0.00000000 </td><td> 0.00% </td><td> 0.03 </td><td>        -inf </td><td>         inf </td><td> False </td></tr><tr><td> ustar </td><td>  0.00174057 </td><td>  4.8975e-05 </td><td> 2.81% </td><td> 0.001 </td><td>        -inf </td><td>         inf </td><td> True </td></tr><tr><td> z_offset </td><td>  1.0000e-16 </td><td>  0.00000000 </td><td> 0.00% </td><td> 1e-16 </td><td>        -inf </td><td>         inf </td><td> False </td></tr><tr><td> Qinf_real </td><td>  0.05836989 </td><td>  1.0045e-04 </td><td> 0.17% </td><td> 0.05 </td><td>        -inf </td><td>         inf </td><td> True </td></tr><tr><td> Qinf_imag </td><td> -0.00236605 </td><td>  1.1260e-04 </td><td> -4.76% </td><td> 0.0 </td><td>        -inf </td><td>         inf </td><td> True </td></tr></table><h2>Correlations (unreported correlations are < 0.100)</h2><table><tr><td>ustar</td><td>Qinf_imag</td><td>-0.8657</td></tr><tr><td>ustar</td><td>Qinf_real</td><td>0.8278</td></tr><tr><td>Qinf_real</td><td>Qinf_imag</td><td>-0.7167</td></tr></table>"
      ],
      "text/plain": [
       "<lmfit.minimizer.MinimizerResult at 0x1c38d38080>"
      ]
     },
     "execution_count": 61,
     "metadata": {},
     "output_type": "execute_result"
    }
   ],
   "source": [
    "out"
   ]
  },
  {
   "cell_type": "code",
   "execution_count": null,
   "metadata": {},
   "outputs": [],
   "source": []
  }
 ],
 "metadata": {
  "anaconda-cloud": {},
  "kernelspec": {
   "display_name": "Python [conda env:py37]",
   "language": "python",
   "name": "conda-env-py37-py"
  },
  "language_info": {
   "codemirror_mode": {
    "name": "ipython",
    "version": 3
   },
   "file_extension": ".py",
   "mimetype": "text/x-python",
   "name": "python",
   "nbconvert_exporter": "python",
   "pygments_lexer": "ipython3",
   "version": "3.7.2"
  }
 },
 "nbformat": 4,
 "nbformat_minor": 2
}
