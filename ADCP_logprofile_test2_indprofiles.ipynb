{
 "cells": [
  {
   "cell_type": "code",
   "execution_count": 15,
   "metadata": {
    "collapsed": true
   },
   "outputs": [],
   "source": [
    "%matplotlib ipympl\n",
    "\n",
    "import os\n",
    "import numpy as np\n",
    "import xarray as xr\n",
    "import matplotlib.pyplot as plt\n",
    "from scipy import stats\n",
    "import gsw"
   ]
  },
  {
   "cell_type": "code",
   "execution_count": 2,
   "metadata": {
    "collapsed": true
   },
   "outputs": [],
   "source": [
    "ds = xr.open_dataset('data/MBARI_StationM_ADCP_201711_201811.nc')"
   ]
  },
  {
   "cell_type": "code",
   "execution_count": 3,
   "metadata": {},
   "outputs": [
    {
     "data": {
      "text/plain": [
       "<xarray.Dataset>\n",
       "Dimensions:    (beam: 4, bin: 23, time: 98208)\n",
       "Coordinates:\n",
       "  * time       (time) datetime64[ns] 2017-11-10T10:03:13.760000 ... 2018-10-17T09:58:13.720000\n",
       "Dimensions without coordinates: beam, bin\n",
       "Data variables:\n",
       "    Pit        (time) float64 ...\n",
       "    Rol        (time) float64 ...\n",
       "    Hea        (time) float64 ...\n",
       "    Tem        (time) float64 ...\n",
       "    Dep        (time) float64 ...\n",
       "    Ori        (time) int64 ...\n",
       "    BIT        (time) int64 ...\n",
       "    Bat        (time) int64 ...\n",
       "    Eas        (time, bin) float64 ...\n",
       "    Nor        (time, bin) float64 ...\n",
       "    Ver        (time, bin) float64 ...\n",
       "    Err        (time, bin) float64 ...\n",
       "    EA         (time, bin, beam) float64 ...\n",
       "    PG         (time, bin, beam) float64 ...\n",
       "    C          (time, bin, beam) float64 ...\n",
       "    binheight  (bin) float64 ...\n",
       "    Eas_tide   (time, bin) float64 ...\n",
       "    Nor_tide   (time, bin) float64 ...\n",
       "    Eas_filt   (time, bin) float64 ...\n",
       "    Nor_filt   (time, bin) float64 ...\n",
       "Attributes:\n",
       "    PingsPerEns:          50\n",
       "    TimePerPing:          00:00.20\n",
       "    First Ensemble Date:  17/11/10\n",
       "    First Ensemble Time:  06:43:13.76\n",
       "    Ensemble Interval:    87.19\n",
       "    1st Bin Range:        2.14\n",
       "    Bin Size:             1.0\n",
       "    RDI binary file:      C:\\Users\\PHYSOCE\\Documents\\data\\MBARI_StationM_ADCP...\n",
       "    Instrument:           Broadband 614.4 kHz"
      ]
     },
     "execution_count": 3,
     "metadata": {},
     "output_type": "execute_result"
    }
   ],
   "source": [
    "ds"
   ]
  },
  {
   "cell_type": "code",
   "execution_count": 4,
   "metadata": {},
   "outputs": [
    {
     "data": {
      "application/vnd.jupyter.widget-view+json": {
       "model_id": "",
       "version_major": 2,
       "version_minor": 0
      },
      "text/plain": [
       "FigureCanvasNbAgg()"
      ]
     },
     "metadata": {},
     "output_type": "display_data"
    },
    {
     "data": {
      "text/plain": [
       "Text(0.5, 0, '[m/s]')"
      ]
     },
     "execution_count": 4,
     "metadata": {},
     "output_type": "execute_result"
    }
   ],
   "source": [
    "bini = np.arange(1,17)\n",
    "\n",
    "plt.figure()\n",
    "plt.plot(np.mean(ds['Eas'][:,bini],axis=0),ds['binheight'][bini],'-o')\n",
    "plt.plot(np.mean(ds['Nor'][:,bini],axis=0),ds['binheight'][bini],'-o')\n",
    "plt.title('mean velocity - entire deployment')\n",
    "plt.legend(['East','North'])\n",
    "plt.ylabel('height above instrument')\n",
    "plt.xlabel('[m/s]')"
   ]
  },
  {
   "cell_type": "code",
   "execution_count": 5,
   "metadata": {},
   "outputs": [
    {
     "name": "stderr",
     "output_type": "stream",
     "text": [
      "/Users/tomconnolly/programs/anaconda/envs/py37/lib/python3.7/site-packages/xarray/core/nanops.py:161: RuntimeWarning: Mean of empty slice\n",
      "  return np.nanmean(a, axis=axis, dtype=dtype)\n"
     ]
    }
   ],
   "source": [
    "dshr = ds.resample(time='1H').mean()"
   ]
  },
  {
   "cell_type": "code",
   "execution_count": 6,
   "metadata": {},
   "outputs": [
    {
     "data": {
      "text/plain": [
       "<xarray.Dataset>\n",
       "Dimensions:    (beam: 4, bin: 23, time: 8184)\n",
       "Coordinates:\n",
       "  * time       (time) datetime64[ns] 2017-11-10T10:00:00 ... 2018-10-17T09:00:00\n",
       "Dimensions without coordinates: beam, bin\n",
       "Data variables:\n",
       "    Pit        (time) float64 6.938 6.96 6.971 6.981 ... 7.184 7.184 7.184 7.183\n",
       "    Rol        (time) float64 -0.1008 -0.1167 -0.1217 ... -0.2292 -0.23 -0.2283\n",
       "    Hea        (time) float64 277.3 277.3 277.3 277.3 ... 277.9 277.9 277.9\n",
       "    Tem        (time) float64 1.421 1.415 1.41 1.41 ... 1.412 1.413 1.413 1.414\n",
       "    Dep        (time) float64 4e+03 4e+03 4e+03 4e+03 ... 4e+03 4e+03 4e+03\n",
       "    Ori        (time) float64 1.0 1.0 1.0 1.0 1.0 1.0 ... 1.0 1.0 1.0 1.0 1.0\n",
       "    BIT        (time) float64 0.0 0.0 0.0 0.0 0.0 0.0 ... 0.0 0.0 0.0 0.0 0.0\n",
       "    Bat        (time) float64 116.8 116.1 116.0 116.0 ... 114.0 114.0 114.0\n",
       "    Eas        (time, bin) float64 0.01917 0.02317 0.02483 ... -0.038 nan\n",
       "    Nor        (time, bin) float64 0.0009167 0.00575 0.005 ... 0.01221 nan\n",
       "    Ver        (time, bin) float64 -0.5 0.0 0.1667 0.3333 ... 4.75 -5.9 13.0 nan\n",
       "    Err        (time, bin) float64 0.75 -2.917 -2.75 0.5 ... 25.89 16.75 nan nan\n",
       "    EA         (time, bin, beam) float64 95.42 94.67 96.42 ... 46.42 50.08 55.17\n",
       "    PG         (time, bin, beam) float64 0.0 0.0 0.0 100.0 ... 0.0 0.0 100.0 0.0\n",
       "    C          (time, bin, beam) float64 127.8 126.8 125.2 ... 47.92 55.0 0.0\n",
       "    binheight  (time, bin) float64 2.14 3.14 4.14 5.14 ... 22.14 23.14 24.14\n",
       "    Eas_tide   (time, bin) float64 -0.01972 -0.02075 ... -0.01573 -0.01812\n",
       "    Nor_tide   (time, bin) float64 -0.002651 -0.002151 ... -0.007792 -0.006307\n",
       "    Eas_filt   (time, bin) float64 nan nan nan nan nan ... nan nan nan nan nan\n",
       "    Nor_filt   (time, bin) float64 nan nan nan nan nan ... nan nan nan nan nan"
      ]
     },
     "execution_count": 6,
     "metadata": {},
     "output_type": "execute_result"
    }
   ],
   "source": [
    "dshr"
   ]
  },
  {
   "cell_type": "code",
   "execution_count": 385,
   "metadata": {},
   "outputs": [],
   "source": [
    "nbins = 8\n",
    "zi = np.arange(0,nbins)"
   ]
  },
  {
   "cell_type": "code",
   "execution_count": 386,
   "metadata": {},
   "outputs": [
    {
     "name": "stderr",
     "output_type": "stream",
     "text": [
      "/Users/tomconnolly/programs/anaconda/envs/py37/lib/python3.7/site-packages/matplotlib/pyplot.py:514: RuntimeWarning: More than 20 figures have been opened. Figures created through the pyplot interface (`matplotlib.pyplot.figure`) are retained until explicitly closed and may consume too much memory. (To control this warning, see the rcParam `figure.max_open_warning`).\n",
      "  max_open_warning, RuntimeWarning)\n"
     ]
    },
    {
     "data": {
      "application/vnd.jupyter.widget-view+json": {
       "model_id": "3841ed50edc442a7b2462e5cfa50df1d",
       "version_major": 2,
       "version_minor": 0
      },
      "text/plain": [
       "FigureCanvasNbAgg()"
      ]
     },
     "metadata": {},
     "output_type": "display_data"
    }
   ],
   "source": [
    "plt.figure()\n",
    "plt.subplot(211)\n",
    "plt.plot(dshr.time,dshr.Eas[:,zi]);\n",
    "\n",
    "plt.subplot(212)\n",
    "plt.plot(dshr.time,dshr.Nor[:,zi]);"
   ]
  },
  {
   "cell_type": "code",
   "execution_count": 387,
   "metadata": {},
   "outputs": [],
   "source": [
    "N = len(dshr.time)\n",
    "slopeu = np.nan*np.ones(N)\n",
    "interceptu = np.nan*np.ones(N)\n",
    "ru = np.nan*np.ones(N)\n",
    "pu = np.nan*np.ones(N)\n",
    "slopev = np.nan*np.ones(N)\n",
    "interceptv = np.nan*np.ones(N)\n",
    "rv = np.nan*np.ones(N)\n",
    "pv = np.nan*np.ones(N)\n",
    "\n",
    "for ti in np.arange(N):\n",
    "    resultu = stats.linregress(dshr.Eas[ti,zi],np.log(dshr.binheight[ti,zi]+0.4572))\n",
    "    resultv = stats.linregress(dshr.Nor[ti,zi],np.log(dshr.binheight[ti,zi]+0.4572))\n",
    "    slopeu[ti] = resultu[0]\n",
    "    interceptu[ti] = resultu[1]\n",
    "    ru[ti] = resultu[2]\n",
    "    pu[ti] = resultu[3]\n",
    "    slopev[ti] = resultv[0]\n",
    "    interceptv[ti] = resultv[1]\n",
    "    rv[ti] = resultv[2]\n",
    "    pv[ti] = resultv[3]"
   ]
  },
  {
   "cell_type": "code",
   "execution_count": 388,
   "metadata": {},
   "outputs": [
    {
     "name": "stderr",
     "output_type": "stream",
     "text": [
      "/Users/tomconnolly/programs/anaconda/envs/py37/lib/python3.7/site-packages/matplotlib/pyplot.py:514: RuntimeWarning: More than 20 figures have been opened. Figures created through the pyplot interface (`matplotlib.pyplot.figure`) are retained until explicitly closed and may consume too much memory. (To control this warning, see the rcParam `figure.max_open_warning`).\n",
      "  max_open_warning, RuntimeWarning)\n"
     ]
    },
    {
     "data": {
      "application/vnd.jupyter.widget-view+json": {
       "model_id": "a3dd790ff8f0426abd104f01f61baf0f",
       "version_major": 2,
       "version_minor": 0
      },
      "text/plain": [
       "FigureCanvasNbAgg()"
      ]
     },
     "metadata": {},
     "output_type": "display_data"
    },
    {
     "data": {
      "text/plain": [
       "[<matplotlib.lines.Line2D at 0x1c6e134ac8>]"
      ]
     },
     "execution_count": 388,
     "metadata": {},
     "output_type": "execute_result"
    }
   ],
   "source": [
    "plt.figure()\n",
    "plt.plot(dshr.Eas[:,15],ru,'.')"
   ]
  },
  {
   "cell_type": "code",
   "execution_count": 389,
   "metadata": {},
   "outputs": [],
   "source": [
    "pthresh = 0.05"
   ]
  },
  {
   "cell_type": "code",
   "execution_count": 390,
   "metadata": {},
   "outputs": [],
   "source": [
    "kappa = 0.41\n",
    "ustaru = kappa/slopeu\n",
    "zou = np.exp(interceptu)\n",
    "\n",
    "ustarv = kappa/slopev\n",
    "zov = np.exp(interceptv)\n",
    "\n",
    "piu, = np.where((pu < pthresh) & (zou < 100))\n",
    "piv, = np.where((pv < pthresh) & (zov < 100))"
   ]
  },
  {
   "cell_type": "code",
   "execution_count": 391,
   "metadata": {},
   "outputs": [
    {
     "name": "stderr",
     "output_type": "stream",
     "text": [
      "/Users/tomconnolly/programs/anaconda/envs/py37/lib/python3.7/site-packages/matplotlib/pyplot.py:514: RuntimeWarning: More than 20 figures have been opened. Figures created through the pyplot interface (`matplotlib.pyplot.figure`) are retained until explicitly closed and may consume too much memory. (To control this warning, see the rcParam `figure.max_open_warning`).\n",
      "  max_open_warning, RuntimeWarning)\n"
     ]
    },
    {
     "data": {
      "application/vnd.jupyter.widget-view+json": {
       "model_id": "e5d8390a472946a68d2ce90441eb489f",
       "version_major": 2,
       "version_minor": 0
      },
      "text/plain": [
       "FigureCanvasNbAgg()"
      ]
     },
     "metadata": {},
     "output_type": "display_data"
    },
    {
     "data": {
      "text/plain": [
       "[<matplotlib.lines.Line2D at 0x1c6d584cc0>]"
      ]
     },
     "execution_count": 391,
     "metadata": {},
     "output_type": "execute_result"
    }
   ],
   "source": [
    "plt.figure()\n",
    "plt.plot(dshr.time[piu],np.log10(zou[piu]),'.')"
   ]
  },
  {
   "cell_type": "code",
   "execution_count": 392,
   "metadata": {},
   "outputs": [
    {
     "name": "stderr",
     "output_type": "stream",
     "text": [
      "/Users/tomconnolly/programs/anaconda/envs/py37/lib/python3.7/site-packages/matplotlib/pyplot.py:514: RuntimeWarning: More than 20 figures have been opened. Figures created through the pyplot interface (`matplotlib.pyplot.figure`) are retained until explicitly closed and may consume too much memory. (To control this warning, see the rcParam `figure.max_open_warning`).\n",
      "  max_open_warning, RuntimeWarning)\n"
     ]
    },
    {
     "data": {
      "application/vnd.jupyter.widget-view+json": {
       "model_id": "7dc94fdefddb48b582fe2ae17944b354",
       "version_major": 2,
       "version_minor": 0
      },
      "text/plain": [
       "FigureCanvasNbAgg()"
      ]
     },
     "metadata": {},
     "output_type": "display_data"
    }
   ],
   "source": [
    "plt.figure()\n",
    "plt.hist(np.log(zou[piu]),20);"
   ]
  },
  {
   "cell_type": "code",
   "execution_count": 393,
   "metadata": {},
   "outputs": [
    {
     "data": {
      "text/plain": [
       "0.45013263241884455"
      ]
     },
     "execution_count": 393,
     "metadata": {},
     "output_type": "execute_result"
    }
   ],
   "source": [
    "np.exp(np.mean(np.log(zou[piu])))"
   ]
  },
  {
   "cell_type": "code",
   "execution_count": 394,
   "metadata": {},
   "outputs": [
    {
     "data": {
      "text/plain": [
       "0.6247606963569835"
      ]
     },
     "execution_count": 394,
     "metadata": {},
     "output_type": "execute_result"
    }
   ],
   "source": [
    "np.exp(np.mean(np.log(zov[piv])))"
   ]
  },
  {
   "cell_type": "code",
   "execution_count": 395,
   "metadata": {},
   "outputs": [
    {
     "name": "stderr",
     "output_type": "stream",
     "text": [
      "/Users/tomconnolly/programs/anaconda/envs/py37/lib/python3.7/site-packages/matplotlib/pyplot.py:514: RuntimeWarning: More than 20 figures have been opened. Figures created through the pyplot interface (`matplotlib.pyplot.figure`) are retained until explicitly closed and may consume too much memory. (To control this warning, see the rcParam `figure.max_open_warning`).\n",
      "  max_open_warning, RuntimeWarning)\n"
     ]
    },
    {
     "data": {
      "application/vnd.jupyter.widget-view+json": {
       "model_id": "e018736552b24f6e9212b8e204978476",
       "version_major": 2,
       "version_minor": 0
      },
      "text/plain": [
       "FigureCanvasNbAgg()"
      ]
     },
     "metadata": {},
     "output_type": "display_data"
    },
    {
     "data": {
      "text/plain": [
       "<matplotlib.legend.Legend at 0x1c6e3d6940>"
      ]
     },
     "execution_count": 395,
     "metadata": {},
     "output_type": "execute_result"
    }
   ],
   "source": [
    "plt.figure()\n",
    "plt.plot(dshr.Eas[piu,12],np.log(zou[piu]),'.')\n",
    "plt.plot(dshr.Nor[piv,12],np.log(zov[piv]),'.')\n",
    "plt.xlabel('u or v [m/s]')\n",
    "plt.ylabel('ln($z_o$)')\n",
    "plt.legend(['u','v'])"
   ]
  },
  {
   "cell_type": "code",
   "execution_count": 396,
   "metadata": {},
   "outputs": [
    {
     "name": "stderr",
     "output_type": "stream",
     "text": [
      "/Users/tomconnolly/programs/anaconda/envs/py37/lib/python3.7/site-packages/matplotlib/pyplot.py:514: RuntimeWarning: More than 20 figures have been opened. Figures created through the pyplot interface (`matplotlib.pyplot.figure`) are retained until explicitly closed and may consume too much memory. (To control this warning, see the rcParam `figure.max_open_warning`).\n",
      "  max_open_warning, RuntimeWarning)\n"
     ]
    },
    {
     "data": {
      "application/vnd.jupyter.widget-view+json": {
       "model_id": "e96ff6e2fd7a4c6b95ceda0e9440d1ee",
       "version_major": 2,
       "version_minor": 0
      },
      "text/plain": [
       "FigureCanvasNbAgg()"
      ]
     },
     "metadata": {},
     "output_type": "display_data"
    },
    {
     "data": {
      "text/plain": [
       "Text(0, 0.5, 'ln($z_o$)')"
      ]
     },
     "execution_count": 396,
     "metadata": {},
     "output_type": "execute_result"
    }
   ],
   "source": [
    "plt.figure()\n",
    "plt.scatter(dshr.Eas[piu,0],np.log(zou[piu]),8,ru[piu])\n",
    "plt.xlabel('u [m/s]')\n",
    "plt.ylabel('ln($z_o$)')"
   ]
  },
  {
   "cell_type": "code",
   "execution_count": 397,
   "metadata": {},
   "outputs": [
    {
     "name": "stderr",
     "output_type": "stream",
     "text": [
      "/Users/tomconnolly/programs/anaconda/envs/py37/lib/python3.7/site-packages/matplotlib/pyplot.py:514: RuntimeWarning: More than 20 figures have been opened. Figures created through the pyplot interface (`matplotlib.pyplot.figure`) are retained until explicitly closed and may consume too much memory. (To control this warning, see the rcParam `figure.max_open_warning`).\n",
      "  max_open_warning, RuntimeWarning)\n"
     ]
    },
    {
     "data": {
      "application/vnd.jupyter.widget-view+json": {
       "model_id": "2c15ec2e79234137afaef4644a47d5f5",
       "version_major": 2,
       "version_minor": 0
      },
      "text/plain": [
       "FigureCanvasNbAgg()"
      ]
     },
     "metadata": {},
     "output_type": "display_data"
    },
    {
     "data": {
      "text/plain": [
       "Text(0, 0.5, 'ln($z_o$)')"
      ]
     },
     "execution_count": 397,
     "metadata": {},
     "output_type": "execute_result"
    }
   ],
   "source": [
    "plt.figure()\n",
    "plt.scatter(dshr.Eas[piu,0],ustaru[piu],8,np.log(zou[piu]))\n",
    "plt.xlabel('u [m/s]')\n",
    "plt.ylabel('ln($z_o$)')"
   ]
  },
  {
   "cell_type": "code",
   "execution_count": 398,
   "metadata": {},
   "outputs": [
    {
     "name": "stderr",
     "output_type": "stream",
     "text": [
      "/Users/tomconnolly/programs/anaconda/envs/py37/lib/python3.7/site-packages/matplotlib/pyplot.py:514: RuntimeWarning: More than 20 figures have been opened. Figures created through the pyplot interface (`matplotlib.pyplot.figure`) are retained until explicitly closed and may consume too much memory. (To control this warning, see the rcParam `figure.max_open_warning`).\n",
      "  max_open_warning, RuntimeWarning)\n"
     ]
    },
    {
     "data": {
      "application/vnd.jupyter.widget-view+json": {
       "model_id": "a5adbf5bacda4cfd99b341aa00d2ef8b",
       "version_major": 2,
       "version_minor": 0
      },
      "text/plain": [
       "FigureCanvasNbAgg()"
      ]
     },
     "metadata": {},
     "output_type": "display_data"
    },
    {
     "data": {
      "text/plain": [
       "Text(0, 0.5, 'ln($z_o$)')"
      ]
     },
     "execution_count": 398,
     "metadata": {},
     "output_type": "execute_result"
    }
   ],
   "source": [
    "nu = 8.9e-4\n",
    "usbins = np.arange(0.001,0.012,0.01)\n",
    "\n",
    "plt.figure()\n",
    "plt.scatter(ustaru[piu],np.log(zou[piu]),8,ru[piu])\n",
    "plt.plot(usbins,np.log(0.11*nu/usbins),'k--')\n",
    "plt.xlabel('u [m/s]')\n",
    "plt.ylabel('ln($z_o$)')"
   ]
  },
  {
   "cell_type": "code",
   "execution_count": 399,
   "metadata": {},
   "outputs": [
    {
     "name": "stderr",
     "output_type": "stream",
     "text": [
      "/Users/tomconnolly/programs/anaconda/envs/py37/lib/python3.7/site-packages/matplotlib/pyplot.py:514: RuntimeWarning: More than 20 figures have been opened. Figures created through the pyplot interface (`matplotlib.pyplot.figure`) are retained until explicitly closed and may consume too much memory. (To control this warning, see the rcParam `figure.max_open_warning`).\n",
      "  max_open_warning, RuntimeWarning)\n"
     ]
    },
    {
     "data": {
      "application/vnd.jupyter.widget-view+json": {
       "model_id": "fb76e4a16b804908a5a7b1925096e040",
       "version_major": 2,
       "version_minor": 0
      },
      "text/plain": [
       "FigureCanvasNbAgg()"
      ]
     },
     "metadata": {},
     "output_type": "display_data"
    },
    {
     "data": {
      "text/plain": [
       "Text(0, 0.5, 'ustar')"
      ]
     },
     "execution_count": 399,
     "metadata": {},
     "output_type": "execute_result"
    }
   ],
   "source": [
    "plt.figure()\n",
    "plt.plot(dshr.Eas[piu,15],ustaru[piu],'.')\n",
    "plt.xlabel('u [m/s]')\n",
    "plt.ylabel('ustar')"
   ]
  },
  {
   "cell_type": "code",
   "execution_count": 400,
   "metadata": {},
   "outputs": [],
   "source": [
    "dudt = np.nan*np.ones(N)\n",
    "dudt[1:-1] = np.array(dshr.Eas)[2:,0]-np.array(dshr.Eas)[:-2,0]\n",
    "\n",
    "dvdt = np.nan*np.ones(N)\n",
    "dvdt[1:-1] = np.array(dshr.Nor)[2:,0]-np.array(dshr.Nor)[:-2,0]"
   ]
  },
  {
   "cell_type": "code",
   "execution_count": 401,
   "metadata": {},
   "outputs": [
    {
     "name": "stderr",
     "output_type": "stream",
     "text": [
      "/Users/tomconnolly/programs/anaconda/envs/py37/lib/python3.7/site-packages/matplotlib/pyplot.py:514: RuntimeWarning: More than 20 figures have been opened. Figures created through the pyplot interface (`matplotlib.pyplot.figure`) are retained until explicitly closed and may consume too much memory. (To control this warning, see the rcParam `figure.max_open_warning`).\n",
      "  max_open_warning, RuntimeWarning)\n"
     ]
    },
    {
     "data": {
      "application/vnd.jupyter.widget-view+json": {
       "model_id": "90055e07de2b4231808e24c569df5739",
       "version_major": 2,
       "version_minor": 0
      },
      "text/plain": [
       "FigureCanvasNbAgg()"
      ]
     },
     "metadata": {},
     "output_type": "display_data"
    },
    {
     "data": {
      "text/plain": [
       "Text(0, 0.5, 'ustar')"
      ]
     },
     "execution_count": 401,
     "metadata": {},
     "output_type": "execute_result"
    }
   ],
   "source": [
    "plt.figure()\n",
    "plt.scatter(dshr.Eas[piu,15],ustaru[piu],4,dvdt[piu])\n",
    "plt.xlabel('u [m/s]')\n",
    "plt.ylabel('ustar')"
   ]
  },
  {
   "cell_type": "code",
   "execution_count": 405,
   "metadata": {},
   "outputs": [],
   "source": [
    "bi, = np.where((dshr.Eas[:,8] > 0.005) & (dshr.Eas[:,8] <=0.01) & (pu < pthresh) & (ru > 0))"
   ]
  },
  {
   "cell_type": "code",
   "execution_count": 406,
   "metadata": {},
   "outputs": [
    {
     "name": "stderr",
     "output_type": "stream",
     "text": [
      "/Users/tomconnolly/programs/anaconda/envs/py37/lib/python3.7/site-packages/matplotlib/pyplot.py:514: RuntimeWarning: More than 20 figures have been opened. Figures created through the pyplot interface (`matplotlib.pyplot.figure`) are retained until explicitly closed and may consume too much memory. (To control this warning, see the rcParam `figure.max_open_warning`).\n",
      "  max_open_warning, RuntimeWarning)\n"
     ]
    },
    {
     "data": {
      "application/vnd.jupyter.widget-view+json": {
       "model_id": "85fdaa0e0f044ad9811732cce0e6673b",
       "version_major": 2,
       "version_minor": 0
      },
      "text/plain": [
       "FigureCanvasNbAgg()"
      ]
     },
     "metadata": {},
     "output_type": "display_data"
    },
    {
     "data": {
      "text/plain": [
       "(0, <xarray.DataArray 'binheight' ()>\n",
       " array(9.64)\n",
       " Coordinates:\n",
       "     time     datetime64[ns] 2017-11-10T10:00:00)"
      ]
     },
     "execution_count": 406,
     "metadata": {},
     "output_type": "execute_result"
    }
   ],
   "source": [
    "plt.figure()\n",
    "plt.plot(dshr.Eas[bi,zi].T,dshr.binheight[bi,zi].T);\n",
    "plt.plot(np.mean(dshr.Eas[bi,zi].T,axis=1),dshr.binheight[0,zi].T,'k-',lw=4);\n",
    "plt.ylim([0,dshr.binheight[0,zi[-1]]+0.5])"
   ]
  },
  {
   "cell_type": "code",
   "execution_count": 407,
   "metadata": {},
   "outputs": [
    {
     "name": "stderr",
     "output_type": "stream",
     "text": [
      "/Users/tomconnolly/programs/anaconda/envs/py37/lib/python3.7/site-packages/matplotlib/pyplot.py:514: RuntimeWarning: More than 20 figures have been opened. Figures created through the pyplot interface (`matplotlib.pyplot.figure`) are retained until explicitly closed and may consume too much memory. (To control this warning, see the rcParam `figure.max_open_warning`).\n",
      "  max_open_warning, RuntimeWarning)\n"
     ]
    },
    {
     "data": {
      "application/vnd.jupyter.widget-view+json": {
       "model_id": "cf3899d4f8524370a32683608fa1fe03",
       "version_major": 2,
       "version_minor": 0
      },
      "text/plain": [
       "FigureCanvasNbAgg()"
      ]
     },
     "metadata": {},
     "output_type": "display_data"
    },
    {
     "data": {
      "text/plain": [
       "(0, <xarray.DataArray 'binheight' ()>\n",
       " array(2.265921)\n",
       " Coordinates:\n",
       "     time     datetime64[ns] 2017-11-10T10:00:00)"
      ]
     },
     "execution_count": 407,
     "metadata": {},
     "output_type": "execute_result"
    }
   ],
   "source": [
    "plt.figure()\n",
    "plt.plot(dshr.Eas[bi,zi].T,np.log(dshr.binheight[bi,zi].T));\n",
    "plt.plot(np.mean(dshr.Eas[bi,zi].T,axis=1),np.log(dshr.binheight[0,zi].T),'k-',lw=4);\n",
    "plt.ylim([0,np.log(dshr.binheight[0,zi[-1]]+0.5)])"
   ]
  },
  {
   "cell_type": "code",
   "execution_count": null,
   "metadata": {},
   "outputs": [],
   "source": []
  },
  {
   "cell_type": "code",
   "execution_count": null,
   "metadata": {},
   "outputs": [],
   "source": []
  }
 ],
 "metadata": {
  "kernelspec": {
   "display_name": "Python [conda env:py37]",
   "language": "python",
   "name": "conda-env-py37-py"
  },
  "language_info": {
   "codemirror_mode": {
    "name": "ipython",
    "version": 3
   },
   "file_extension": ".py",
   "mimetype": "text/x-python",
   "name": "python",
   "nbconvert_exporter": "python",
   "pygments_lexer": "ipython3",
   "version": "3.7.2"
  }
 },
 "nbformat": 4,
 "nbformat_minor": 2
}
