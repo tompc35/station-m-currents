{
 "cells": [
  {
   "cell_type": "code",
   "execution_count": 1,
   "metadata": {},
   "outputs": [],
   "source": [
    "%matplotlib ipympl\n",
    "\n",
    "import os\n",
    "import numpy as np\n",
    "import matplotlib.pyplot as plt\n",
    "import utide\n",
    "import matplotlib.dates as mdates\n",
    "import gsw\n",
    "from physoce import tseries as ts\n",
    "import otis_tide_pred as otp\n",
    "from ADCP import rditext_to_dataset"
   ]
  },
  {
   "cell_type": "code",
   "execution_count": 2,
   "metadata": {},
   "outputs": [],
   "source": [
    "data_dir = '/Users/tomconnolly/work/Data/MBARI_Station_M/ADCP'\n",
    "data_filename = 'MBARI_StationM_ADCP_201711_201811.txt'\n",
    "data_path = os.path.join(data_dir,data_filename)"
   ]
  },
  {
   "cell_type": "code",
   "execution_count": 3,
   "metadata": {},
   "outputs": [],
   "source": [
    "ds = rditext_to_dataset(data_path)\n",
    "\n",
    "t1 = np.datetime64('2017-11-10 02:00')\n",
    "t2 = np.datetime64('2018-10-17 02:00')\n",
    "\n",
    "ii, = np.where((ds['time'] >= t1) & (ds['time'] <= t2))\n",
    "ds = ds.isel(time=ii)\n",
    "\n",
    "ds['Eas'] = ds['Eas']/1000\n",
    "ds['Nor'] = ds['Nor']/1000"
   ]
  },
  {
   "cell_type": "code",
   "execution_count": 4,
   "metadata": {},
   "outputs": [
    {
     "data": {
      "text/plain": [
       "<xarray.Dataset>\n",
       "Dimensions:    (beam: 4, bin: 23, time: 98152)\n",
       "Coordinates:\n",
       "  * time       (time) datetime64[ns] 2017-11-10T06:43:13.760000 ...\n",
       "Dimensions without coordinates: beam, bin\n",
       "Data variables:\n",
       "    Pit        (time) float64 0.07 -25.98 -25.98 -25.98 -25.98 -25.98 -25.98 ...\n",
       "    Rol        (time) float64 0.58 24.25 24.25 24.25 24.25 24.25 24.25 24.25 ...\n",
       "    Hea        (time) float64 30.85 346.9 350.9 348.3 347.2 329.2 317.6 ...\n",
       "    Tem        (time) float64 19.46 19.48 19.42 16.59 15.35 11.79 9.43 7.47 ...\n",
       "    Dep        (time) float64 4e+03 4e+03 4e+03 4e+03 4e+03 4e+03 4e+03 ...\n",
       "    Ori        (time) int64 1 1 1 1 1 1 1 1 1 1 1 1 1 1 1 1 1 1 1 1 1 1 1 1 ...\n",
       "    BIT        (time) int64 0 0 0 0 0 0 0 0 0 0 0 0 0 0 0 0 0 0 0 0 0 0 0 0 ...\n",
       "    Bat        (time) int64 178 126 126 119 119 119 120 119 119 119 119 119 ...\n",
       "    Eas        (time, bin) float64 nan nan nan nan nan nan nan nan nan nan ...\n",
       "    Nor        (time, bin) float64 nan nan nan nan nan nan nan nan nan nan ...\n",
       "    Ver        (time, bin) float64 nan nan nan nan nan nan nan nan nan nan ...\n",
       "    Err        (time, bin) float64 nan nan nan nan nan nan nan nan nan nan ...\n",
       "    EA         (time, bin, beam) float64 40.0 40.0 43.0 47.0 41.0 41.0 45.0 ...\n",
       "    PG         (time, bin, beam) float64 0.0 0.0 100.0 0.0 0.0 0.0 100.0 0.0 ...\n",
       "    C          (time, bin, beam) float64 11.0 11.0 13.0 11.0 12.0 11.0 12.0 ...\n",
       "    binheight  (bin) float64 2.14 3.14 4.14 5.14 6.14 7.14 8.14 9.14 10.14 ...\n",
       "Attributes:\n",
       "    PingsPerEns:          50\n",
       "    TimePerPing:          00:00.20\n",
       "    First Ensemble Date:  17/11/10\n",
       "    First Ensemble Time:  06:43:13.76\n",
       "    Ensemble Interval:    87.19\n",
       "    1st Bin Range:        2.14\n",
       "    Bin Size:             1.0\n",
       "    RDI binary file:      C:\\Users\\PHYSOCE\\Documents\\data\\MBARI_StationM_ADCP...\n",
       "    Instrument:           Broadband 614.4 kHz"
      ]
     },
     "execution_count": 4,
     "metadata": {},
     "output_type": "execute_result"
    }
   ],
   "source": [
    "ds"
   ]
  },
  {
   "cell_type": "code",
   "execution_count": 5,
   "metadata": {},
   "outputs": [
    {
     "data": {
      "application/vnd.jupyter.widget-view+json": {
       "model_id": "38803424688f47e6b3e392523c4d3d50",
       "version_major": 2,
       "version_minor": 0
      },
      "text/plain": [
       "FigureCanvasNbAgg()"
      ]
     },
     "metadata": {},
     "output_type": "display_data"
    }
   ],
   "source": [
    "plt.figure()\n",
    "plt.plot(ds['time'],ds['Eas'][:,:15]);"
   ]
  },
  {
   "cell_type": "code",
   "execution_count": 6,
   "metadata": {},
   "outputs": [
    {
     "data": {
      "application/vnd.jupyter.widget-view+json": {
       "model_id": "0689b8570d1b4921a0320b34ea4279db",
       "version_major": 2,
       "version_minor": 0
      },
      "text/plain": [
       "FigureCanvasNbAgg()"
      ]
     },
     "metadata": {},
     "output_type": "display_data"
    },
    {
     "data": {
      "text/plain": [
       "<matplotlib.legend.Legend at 0x116f6d550>"
      ]
     },
     "execution_count": 6,
     "metadata": {},
     "output_type": "execute_result"
    }
   ],
   "source": [
    "bini = np.arange(1,17)\n",
    "\n",
    "plt.figure()\n",
    "plt.plot(np.mean(ds['Eas'][:,bini],axis=0),ds['binheight'][bini],'-o')\n",
    "plt.plot(np.mean(ds['Nor'][:,bini],axis=0),ds['binheight'][bini],'-o')\n",
    "plt.title('mean velocity')\n",
    "plt.legend(['East','North'])"
   ]
  },
  {
   "cell_type": "code",
   "execution_count": 7,
   "metadata": {},
   "outputs": [
    {
     "data": {
      "application/vnd.jupyter.widget-view+json": {
       "model_id": "89546d7bc20647dd87c785b435327a29",
       "version_major": 2,
       "version_minor": 0
      },
      "text/plain": [
       "FigureCanvasNbAgg()"
      ]
     },
     "metadata": {},
     "output_type": "display_data"
    },
    {
     "data": {
      "text/plain": [
       "(-0.000243, 0.000175, -0.00024565, 0.00023065)"
      ]
     },
     "execution_count": 7,
     "metadata": {},
     "output_type": "execute_result"
    }
   ],
   "source": [
    "plt.figure()\n",
    "plt.plot(ds['Eas'][:,1],ds['Nor'][:,1],'.')\n",
    "plt.gca().axis('equal')"
   ]
  },
  {
   "cell_type": "code",
   "execution_count": 8,
   "metadata": {},
   "outputs": [
    {
     "data": {
      "application/vnd.jupyter.widget-view+json": {
       "model_id": "4d10607b82a24cf4ba7188c15fb47956",
       "version_major": 2,
       "version_minor": 0
      },
      "text/plain": [
       "FigureCanvasNbAgg()"
      ]
     },
     "metadata": {},
     "output_type": "display_data"
    }
   ],
   "source": [
    "plt.figure()\n",
    "plt.plot(ds['time'],ds['C'][:,:,3]);"
   ]
  },
  {
   "cell_type": "code",
   "execution_count": 9,
   "metadata": {},
   "outputs": [
    {
     "name": "stdout",
     "output_type": "stream",
     "text": [
      "solve: matrix prep ... solution ... "
     ]
    },
    {
     "name": "stderr",
     "output_type": "stream",
     "text": [
      "/Users/tomconnolly/programs/anaconda/lib/python3.5/site-packages/UTide-0.1.0-py3.5.egg/utide/_solve.py:289: FutureWarning: `rcond` parameter will change to the default of machine precision times ``max(M, N)`` where M and N are the input matrix dimensions.\n",
      "To use the future default and silence this warning we advise to pass `rcond=None`, to keep using the old, explicitly pass `rcond=-1`.\n",
      "  m = np.linalg.lstsq(B, xraw)[0]  # Model coefficients.\n"
     ]
    },
    {
     "name": "stdout",
     "output_type": "stream",
     "text": [
      "diagnostics ... done.\n"
     ]
    }
   ],
   "source": [
    "time = mdates.date2num(ds['time'])\n",
    "\n",
    "coef = utide.solve(time, ds['Eas'][:,1], ds['Nor'][:,1],\n",
    "             lat=34+50/60)"
   ]
  },
  {
   "cell_type": "code",
   "execution_count": 10,
   "metadata": {},
   "outputs": [
    {
     "name": "stdout",
     "output_type": "stream",
     "text": [
      "prep/calcs ... done.\n"
     ]
    }
   ],
   "source": [
    "tide = utide.reconstruct(time, coef)"
   ]
  },
  {
   "cell_type": "code",
   "execution_count": 11,
   "metadata": {},
   "outputs": [
    {
     "data": {
      "text/plain": [
       "{'u': array([-5.33742025e-06, -5.82796280e-06, -6.32495646e-06, ...,\n",
       "         1.65722950e-05,  1.65912091e-05,  1.66122442e-05]),\n",
       " 'v': array([-3.41322213e-05, -3.45735466e-05, -3.49427867e-05, ...,\n",
       "         2.21178267e-05,  2.21119111e-05,  2.20745249e-05])}"
      ]
     },
     "execution_count": 11,
     "metadata": {},
     "output_type": "execute_result"
    }
   ],
   "source": [
    "tide"
   ]
  },
  {
   "cell_type": "code",
   "execution_count": 12,
   "metadata": {},
   "outputs": [
    {
     "data": {
      "application/vnd.jupyter.widget-view+json": {
       "model_id": "ea03d45eb3ee4d469514c8d23a27edd8",
       "version_major": 2,
       "version_minor": 0
      },
      "text/plain": [
       "FigureCanvasNbAgg()"
      ]
     },
     "metadata": {},
     "output_type": "display_data"
    },
    {
     "data": {
      "text/plain": [
       "[<matplotlib.lines.Line2D at 0x116d8f048>]"
      ]
     },
     "execution_count": 12,
     "metadata": {},
     "output_type": "execute_result"
    }
   ],
   "source": [
    "plt.figure()\n",
    "plt.plot(ds['time'],tide['u'])\n",
    "plt.plot(ds['time'],tide['v'])"
   ]
  },
  {
   "cell_type": "code",
   "execution_count": 13,
   "metadata": {},
   "outputs": [
    {
     "data": {
      "application/vnd.jupyter.widget-view+json": {
       "model_id": "6b7d1e63a66c4966ba2a04427f8ffc31",
       "version_major": 2,
       "version_minor": 0
      },
      "text/plain": [
       "FigureCanvasNbAgg()"
      ]
     },
     "metadata": {},
     "output_type": "display_data"
    },
    {
     "data": {
      "text/plain": [
       "(-5.949796821791919e-05,\n",
       " 4.371085844772233e-05,\n",
       " -6.210519676163516e-05,\n",
       " 5.559194512507214e-05)"
      ]
     },
     "execution_count": 13,
     "metadata": {},
     "output_type": "execute_result"
    }
   ],
   "source": [
    "plt.figure()\n",
    "plt.plot(tide['u'],tide['v'],'.')\n",
    "plt.gca().axis('equal')"
   ]
  },
  {
   "cell_type": "code",
   "execution_count": 14,
   "metadata": {},
   "outputs": [
    {
     "data": {
      "application/vnd.jupyter.widget-view+json": {
       "model_id": "87c598182a6a4ab2ac9160195a988c0b",
       "version_major": 2,
       "version_minor": 0
      },
      "text/plain": [
       "FigureCanvasNbAgg()"
      ]
     },
     "metadata": {},
     "output_type": "display_data"
    },
    {
     "data": {
      "text/plain": [
       "[<matplotlib.lines.Line2D at 0x125d8d2b0>]"
      ]
     },
     "execution_count": 14,
     "metadata": {},
     "output_type": "execute_result"
    }
   ],
   "source": [
    "plt.figure()\n",
    "plt.plot(ds['time'],ds['Eas'][:,1]-tide['u'])\n",
    "plt.plot(ds['time'],ds['Nor'][:,1]-tide['v'])"
   ]
  },
  {
   "cell_type": "code",
   "execution_count": 15,
   "metadata": {},
   "outputs": [
    {
     "name": "stderr",
     "output_type": "stream",
     "text": [
      "/Users/tomconnolly/programs/anaconda/lib/python3.5/site-packages/scipy/signal/signaltools.py:459: FutureWarning: Using a non-tuple sequence for multidimensional indexing is deprecated; use `arr[tuple(seq)]` instead of `arr[seq]`. In the future this will be interpreted as an array index, `arr[np.array(seq)]`, which will result either in an error or a different result.\n",
      "  return correlate(volume, kernel[slice_obj], mode)\n",
      "/Users/tomconnolly/programs/anaconda/lib/python3.5/site-packages/scipy/signal/signaltools.py:179: FutureWarning: Using a non-tuple sequence for multidimensional indexing is deprecated; use `arr[tuple(seq)]` instead of `arr[seq]`. In the future this will be interpreted as an array index, `arr[np.array(seq)]`, which will result either in an error or a different result.\n",
      "  in1zpadded[sc] = in1.copy()\n"
     ]
    }
   ],
   "source": [
    "ds['Eas_filt'] = (['time','bin'],ts.pl66(ds['Eas'],T=33*12))\n",
    "ds['Nor_filt'] = (['time','bin'],ts.pl66(ds['Nor'],T=33*12))"
   ]
  },
  {
   "cell_type": "code",
   "execution_count": 16,
   "metadata": {},
   "outputs": [
    {
     "data": {
      "application/vnd.jupyter.widget-view+json": {
       "model_id": "d4d894c8498346509de1d411ec0cee99",
       "version_major": 2,
       "version_minor": 0
      },
      "text/plain": [
       "FigureCanvasNbAgg()"
      ]
     },
     "metadata": {},
     "output_type": "display_data"
    },
    {
     "data": {
      "text/plain": [
       "[<matplotlib.lines.Line2D at 0x125ee60f0>]"
      ]
     },
     "execution_count": 16,
     "metadata": {},
     "output_type": "execute_result"
    }
   ],
   "source": [
    "plt.figure()\n",
    "plt.plot(ds['time'],ds['Eas_filt'][:,bini],'r-')\n",
    "plt.plot(ds['time'],ds['Nor_filt'][:,bini],'b-')\n",
    "plt.plot(ds['time'],np.zeros(len(ds['time'])),'k--')"
   ]
  },
  {
   "cell_type": "code",
   "execution_count": 17,
   "metadata": {},
   "outputs": [
    {
     "data": {
      "text/plain": [
       "0.8729736117491941"
      ]
     },
     "execution_count": 17,
     "metadata": {},
     "output_type": "execute_result"
    }
   ],
   "source": [
    "# intertial period (days)\n",
    "T = 2*np.pi/gsw.f(34+50/60)/86400\n",
    "T"
   ]
  },
  {
   "cell_type": "markdown",
   "metadata": {},
   "source": [
    "### Future processing steps\n",
    "* Fill small gaps\n",
    "* QC based on correlation, percent good, etc.\n",
    "\n",
    "### Ideas for future analysis\n",
    "\n",
    "* Wavelet analysis: isolate time variability of inertial band\n",
    "* Relate inertial currents to local wind\n",
    "* Complex correlation of low-pass filtered currents\n",
    "* Is low frequency variability due to eddies? Relate to satellite altimeter data\n",
    "* Explore relationship to local and remote wind stress curl\n",
    "* Read Clarke paper on (\"too fast\") Rossby wave propagation in CalCOFI region\n",
    "* Compare tidal currents to OSU model\n",
    "* Progressive vector diagram"
   ]
  },
  {
   "cell_type": "code",
   "execution_count": null,
   "metadata": {},
   "outputs": [],
   "source": []
  }
 ],
 "metadata": {
  "kernelspec": {
   "display_name": "Python [default]",
   "language": "python",
   "name": "python3"
  },
  "language_info": {
   "codemirror_mode": {
    "name": "ipython",
    "version": 3
   },
   "file_extension": ".py",
   "mimetype": "text/x-python",
   "name": "python",
   "nbconvert_exporter": "python",
   "pygments_lexer": "ipython3",
   "version": "3.5.5"
  }
 },
 "nbformat": 4,
 "nbformat_minor": 2
}
