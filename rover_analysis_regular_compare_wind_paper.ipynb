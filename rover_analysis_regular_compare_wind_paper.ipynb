{
 "cells": [
  {
   "cell_type": "code",
   "execution_count": 2,
   "metadata": {},
   "outputs": [],
   "source": [
    "%matplotlib ipympl\n",
    "import pandas as pd\n",
    "import xarray as xr\n",
    "import numpy as np\n",
    "import matplotlib.pyplot as plt\n",
    "from scipy import stats\n",
    "from scipy.signal import welch, periodogram\n",
    "import os\n",
    "import matplotlib.dates as mdates\n",
    "import utide\n",
    "\n",
    "from physoce import tseries as ts\n",
    "from tseries import lombscargle\n",
    "from scipy.stats import chi2\n",
    "\n",
    "from airsea.windstress import stress\n",
    "from oceans import cor_beta\n",
    "from glob import glob\n",
    "import gsw\n",
    "import os.path"
   ]
  },
  {
   "cell_type": "markdown",
   "metadata": {},
   "source": [
    "### Station M location"
   ]
  },
  {
   "cell_type": "code",
   "execution_count": 3,
   "metadata": {},
   "outputs": [],
   "source": [
    "mlat = 35+8.4585/60  \n",
    "mlon = -122-59.9036/60"
   ]
  },
  {
   "cell_type": "markdown",
   "metadata": {},
   "source": [
    "### Load data"
   ]
  },
  {
   "cell_type": "markdown",
   "metadata": {},
   "source": [
    "#### NCEP-NARR"
   ]
  },
  {
   "cell_type": "code",
   "execution_count": 4,
   "metadata": {},
   "outputs": [
    {
     "name": "stderr",
     "output_type": "stream",
     "text": [
      "/Users/tomconnolly/programs/anaconda/envs/py37/lib/python3.7/site-packages/xarray/conventions.py:362: SerializationWarning: variable 'uwnd' has multiple fill values {9.96921e+36, -9.96921e+36}, decoding all values to NaN.\n",
      "  stack_char_dim=stack_char_dim)\n",
      "/Users/tomconnolly/programs/anaconda/envs/py37/lib/python3.7/site-packages/xarray/conventions.py:362: SerializationWarning: variable 'uwnd' has multiple fill values {9.96921e+36, -9.96921e+36}, decoding all values to NaN.\n",
      "  stack_char_dim=stack_char_dim)\n",
      "/Users/tomconnolly/programs/anaconda/envs/py37/lib/python3.7/site-packages/xarray/conventions.py:362: SerializationWarning: variable 'uwnd' has multiple fill values {9.96921e+36, -9.96921e+36}, decoding all values to NaN.\n",
      "  stack_char_dim=stack_char_dim)\n",
      "/Users/tomconnolly/programs/anaconda/envs/py37/lib/python3.7/site-packages/xarray/conventions.py:362: SerializationWarning: variable 'uwnd' has multiple fill values {9.96921e+36, -9.96921e+36}, decoding all values to NaN.\n",
      "  stack_char_dim=stack_char_dim)\n",
      "/Users/tomconnolly/programs/anaconda/envs/py37/lib/python3.7/site-packages/xarray/conventions.py:362: SerializationWarning: variable 'uwnd' has multiple fill values {9.96921e+36, -9.96921e+36}, decoding all values to NaN.\n",
      "  stack_char_dim=stack_char_dim)\n",
      "/Users/tomconnolly/programs/anaconda/envs/py37/lib/python3.7/site-packages/xarray/conventions.py:362: SerializationWarning: variable 'vwnd' has multiple fill values {9.96921e+36, -9.96921e+36}, decoding all values to NaN.\n",
      "  stack_char_dim=stack_char_dim)\n",
      "/Users/tomconnolly/programs/anaconda/envs/py37/lib/python3.7/site-packages/xarray/conventions.py:362: SerializationWarning: variable 'vwnd' has multiple fill values {9.96921e+36, -9.96921e+36}, decoding all values to NaN.\n",
      "  stack_char_dim=stack_char_dim)\n",
      "/Users/tomconnolly/programs/anaconda/envs/py37/lib/python3.7/site-packages/xarray/conventions.py:362: SerializationWarning: variable 'vwnd' has multiple fill values {9.96921e+36, -9.96921e+36}, decoding all values to NaN.\n",
      "  stack_char_dim=stack_char_dim)\n",
      "/Users/tomconnolly/programs/anaconda/envs/py37/lib/python3.7/site-packages/xarray/conventions.py:362: SerializationWarning: variable 'vwnd' has multiple fill values {9.96921e+36, -9.96921e+36}, decoding all values to NaN.\n",
      "  stack_char_dim=stack_char_dim)\n",
      "/Users/tomconnolly/programs/anaconda/envs/py37/lib/python3.7/site-packages/xarray/conventions.py:362: SerializationWarning: variable 'vwnd' has multiple fill values {9.96921e+36, -9.96921e+36}, decoding all values to NaN.\n",
      "  stack_char_dim=stack_char_dim)\n"
     ]
    }
   ],
   "source": [
    "narr_dir = '/Users/tomconnolly/work/Data/NCEP-NARR/'\n",
    "\n",
    "u_file_list = sorted(glob(os.path.join(narr_dir,'uwnd.10m.*.nc')))\n",
    "v_file_list = sorted(glob(os.path.join(narr_dir,'vwnd.10m.*.nc')))\n",
    "\n",
    "uds = xr.open_mfdataset(u_file_list)\n",
    "vds = xr.open_mfdataset(v_file_list)"
   ]
  },
  {
   "cell_type": "markdown",
   "metadata": {},
   "source": [
    "#### Find NCEP-NARR indices of nearest point to Station M"
   ]
  },
  {
   "cell_type": "code",
   "execution_count": 5,
   "metadata": {},
   "outputs": [],
   "source": [
    "dist = np.array(np.sqrt(((mlat-uds['lat'])*111)**2 + \n",
    "                        ((mlon-uds['lon'])*np.cos(mlat*np.pi/180)*111)**2))"
   ]
  },
  {
   "cell_type": "code",
   "execution_count": 6,
   "metadata": {},
   "outputs": [],
   "source": [
    "idx = np.argmin(dist,axis=None)\n",
    "ii,jj = np.unravel_index(idx,np.shape(dist))"
   ]
  },
  {
   "cell_type": "markdown",
   "metadata": {},
   "source": [
    "#### Compute wind stress curl"
   ]
  },
  {
   "cell_type": "code",
   "execution_count": 65,
   "metadata": {},
   "outputs": [],
   "source": [
    "dx = 0.5*np.array(vds['x'][jj+1] - vds['x'][jj-1])\n",
    "dy = 0.5*np.array(uds['y'][ii+1] - uds['y'][ii-1])\n",
    "\n",
    "f = np.array(gsw.f(uds['lat']))\n",
    "rho = 1045\n",
    "\n",
    "beta = np.array(cor_beta(uds['lat'][ii,jj]))\n",
    "beta_eff = 3.66369e-11\n",
    "H = 4000"
   ]
  },
  {
   "cell_type": "code",
   "execution_count": 8,
   "metadata": {},
   "outputs": [
    {
     "data": {
      "text/plain": [
       "array(1.86870805e-11)"
      ]
     },
     "execution_count": 8,
     "metadata": {},
     "output_type": "execute_result"
    }
   ],
   "source": [
    "beta"
   ]
  },
  {
   "cell_type": "markdown",
   "metadata": {},
   "source": [
    "Forcing term in Koblinsky et al."
   ]
  },
  {
   "cell_type": "code",
   "execution_count": 9,
   "metadata": {},
   "outputs": [],
   "source": [
    "ext = 2 # length of subset on either side of center\n",
    "ci = ext  # center index"
   ]
  },
  {
   "cell_type": "code",
   "execution_count": 10,
   "metadata": {},
   "outputs": [],
   "source": [
    "uwndsub = np.array(uds['uwnd'][:,np.arange(ii-ext,ii+ext+1),np.arange(jj-ext,jj+ext+1)])\n",
    "vwndsub = np.array(vds['vwnd'][:,np.arange(ii-ext,ii+ext+1),np.arange(jj-ext,jj+ext+1)])"
   ]
  },
  {
   "cell_type": "code",
   "execution_count": 11,
   "metadata": {},
   "outputs": [],
   "source": [
    "fsub = f[slice(ii-ext,ii+ext+1),slice(jj-ext,jj+ext+1)]"
   ]
  },
  {
   "cell_type": "code",
   "execution_count": 12,
   "metadata": {},
   "outputs": [],
   "source": [
    "taux = stress(uwndsub)\n",
    "tauy = stress(vwndsub)"
   ]
  },
  {
   "cell_type": "code",
   "execution_count": 13,
   "metadata": {},
   "outputs": [],
   "source": [
    "curl_tau_F_2 = fsub[ci,ci]*((1/(2*dx))*(tauy[:,ci,ci+1]/(rho*fsub[ci,ci+1]) - \n",
    "                           tauy[:,ci,ci-1]/(rho*fsub[ci,ci-1])) - \n",
    "           (1/(2*dy))*(taux[:,ci+1,ci]/(rho*fsub[ci+1,ci]) - \n",
    "                   taux[:,ci-1,ci]/(rho*fsub[ci-1,ci])))"
   ]
  },
  {
   "cell_type": "code",
   "execution_count": 14,
   "metadata": {},
   "outputs": [],
   "source": [
    "curl_tau_F = fsub[ci,ci]*((1/(12*dx))*(-tauy[:,ci,ci+2]/(rho*fsub[ci,ci+2]) + \n",
    "                                         8*tauy[:,ci,ci+1]/(rho*fsub[ci,ci+1]) - \n",
    "                                         8*tauy[:,ci,ci-1]/(rho*fsub[ci,ci-1]) +\n",
    "                                         tauy[:,ci,ci-2]/(rho*fsub[ci,ci-2])) -\n",
    "           (1/(12*dy))*(-taux[:,ci+2,ci]/(rho*fsub[ci+2,ci]) +\n",
    "                        8*taux[:,ci+1,ci]/(rho*fsub[ci+1,ci]) -\n",
    "                        8*taux[:,ci-1,ci]/(rho*fsub[ci-1,ci]) +\n",
    "                        taux[:,ci-2,ci]/(rho*fsub[ci-2,ci])))"
   ]
  },
  {
   "cell_type": "code",
   "execution_count": 52,
   "metadata": {},
   "outputs": [
    {
     "data": {
      "application/vnd.jupyter.widget-view+json": {
       "model_id": "9720762a53f54151b4ef24b1a325abbb",
       "version_major": 2,
       "version_minor": 0
      },
      "text/plain": [
       "FigureCanvasNbAgg()"
      ]
     },
     "metadata": {},
     "output_type": "display_data"
    },
    {
     "data": {
      "text/plain": [
       "[<matplotlib.lines.Line2D at 0x1c2e2247f0>]"
      ]
     },
     "execution_count": 52,
     "metadata": {},
     "output_type": "execute_result"
    }
   ],
   "source": [
    "plt.figure()\n",
    "plt.plot(curl_tau_F_2,curl_tau_F)"
   ]
  },
  {
   "cell_type": "code",
   "execution_count": 16,
   "metadata": {},
   "outputs": [],
   "source": [
    "curl_time = uds['time']"
   ]
  },
  {
   "cell_type": "code",
   "execution_count": 17,
   "metadata": {},
   "outputs": [],
   "source": [
    "t1 = np.datetime64('2015-11-11T12:00')\n",
    "t2 = np.datetime64('2018-10-14T06:00')\n",
    "\n",
    "fi, = np.where((curl_time >= t1) & (curl_time <= t2))"
   ]
  },
  {
   "cell_type": "markdown",
   "metadata": {},
   "source": [
    "#### Rover"
   ]
  },
  {
   "cell_type": "code",
   "execution_count": 18,
   "metadata": {},
   "outputs": [
    {
     "name": "stderr",
     "output_type": "stream",
     "text": [
      "/Users/tomconnolly/programs/anaconda/envs/py37/lib/python3.7/site-packages/ipykernel/__main__.py:17: SettingWithCopyWarning: \n",
      "A value is trying to be set on a copy of a slice from a DataFrame\n",
      "\n",
      "See the caveats in the documentation: http://pandas.pydata.org/pandas-docs/stable/indexing.html#indexing-view-versus-copy\n",
      "/Users/tomconnolly/programs/anaconda/envs/py37/lib/python3.7/site-packages/ipykernel/__main__.py:18: SettingWithCopyWarning: \n",
      "A value is trying to be set on a copy of a slice from a DataFrame\n",
      "\n",
      "See the caveats in the documentation: http://pandas.pydata.org/pandas-docs/stable/indexing.html#indexing-view-versus-copy\n"
     ]
    }
   ],
   "source": [
    "# Load data\n",
    "rover_csv_file = 'data/Rover_II_Current_Mag_Hourly_Avg_pad_2018.csv'\n",
    "df_all = pd.read_csv(rover_csv_file,parse_dates=[7])\n",
    "\n",
    "# Datetime index\n",
    "df_all = df_all.set_index('Date_time_R')\n",
    "\n",
    "# Create u and v components with units m/s\n",
    "df_all['u'] = df_all['Easting (cm/sec)']/100\n",
    "df_all['v'] = df_all['Northing (cm/sec)']/100\n",
    "\n",
    "# mask erroneous points \n",
    "# abrupt shift near end of deployment \n",
    "bi = ((df_all.index > np.datetime64('2015-06-18T12:00')) &\n",
    "    (df_all.index < np.datetime64('2015-06-20T00:00')))\n",
    "\n",
    "df_all['u'][bi] = np.nan\n",
    "df_all['v'][bi] = np.nan\n",
    "\n",
    "# select time range\n",
    "t1 = np.datetime64('2014-10-11T00:00:00')\n",
    "t2 = np.datetime64('2018-10-17T00:00:00')\n",
    "df_all = df_all.loc[(df_all.index >= t1) & (df_all.index <= t2)]"
   ]
  },
  {
   "cell_type": "code",
   "execution_count": 19,
   "metadata": {},
   "outputs": [
    {
     "name": "stdout",
     "output_type": "stream",
     "text": [
      "solve: matrix prep ... solution ... diagnostics ... done.\n"
     ]
    }
   ],
   "source": [
    "# tidal analysis\n",
    "time = mdates.date2num(df_all.index)\n",
    "\n",
    "coef = utide.solve(time, np.array(df_all['u']), \n",
    "         np.array(df_all['v']),\n",
    "         lat=35+8.4585/60,\n",
    "         method='robust')"
   ]
  },
  {
   "cell_type": "code",
   "execution_count": 20,
   "metadata": {},
   "outputs": [
    {
     "data": {
      "text/plain": [
       "array([1.52126335e-02, 7.38915034e-03, 6.37867242e-03, 4.25065062e-03,\n",
       "       3.15285447e-03, 2.38711227e-03, 2.56493098e-03, 2.18870836e-03,\n",
       "       1.92256463e-03, 1.82389675e-03, 1.54061676e-03, 1.37808041e-03,\n",
       "       1.40387408e-03, 1.22335493e-03, 1.20595984e-03, 1.09005564e-03,\n",
       "       1.00768308e-03, 9.62198299e-04, 1.02924842e-03, 9.97422426e-04,\n",
       "       8.20702770e-04, 9.19411626e-04, 6.20959786e-04, 5.98445676e-04,\n",
       "       5.92804465e-04, 5.51305268e-04, 5.83076070e-04, 5.37545214e-04,\n",
       "       4.06191051e-04, 4.83782596e-04, 4.72480718e-04, 4.17662370e-04,\n",
       "       3.99610259e-04, 3.67336647e-04, 3.39307871e-04, 3.28216388e-04,\n",
       "       2.45039242e-04, 2.85375415e-04, 3.00606706e-04, 2.94227168e-04,\n",
       "       2.75119709e-04, 2.67235487e-04, 2.44491938e-04, 2.48390566e-04,\n",
       "       2.27418351e-04, 2.20125031e-04, 2.28326545e-04, 2.06393421e-04,\n",
       "       1.77220261e-04, 1.99187635e-04, 1.88695494e-04, 1.85022738e-04,\n",
       "       1.63006993e-04, 1.80109501e-04, 1.74440689e-04, 1.70939587e-04,\n",
       "       1.70039834e-04, 1.68305348e-04, 1.57265393e-04, 1.48382282e-04,\n",
       "       1.24034263e-04, 1.03966171e-04, 1.01764640e-04, 7.44779678e-05,\n",
       "       7.69193853e-05, 6.18795532e-05, 5.01259337e-05, 6.05947501e-05])"
      ]
     },
     "execution_count": 20,
     "metadata": {},
     "output_type": "execute_result"
    }
   ],
   "source": [
    "coef['Lsmaj']"
   ]
  },
  {
   "cell_type": "code",
   "execution_count": 21,
   "metadata": {},
   "outputs": [],
   "source": [
    "# tide = utide.reconstruct(time,coef)"
   ]
  },
  {
   "cell_type": "code",
   "execution_count": 22,
   "metadata": {},
   "outputs": [],
   "source": [
    "# df_all['u_tide'] = tide.u\n",
    "# df_all['v_tide'] = tide.v\n",
    "# df_all['u_detide'] = df_all['u'] - df_all['u_tide']\n",
    "# df_all['v_detide'] = df_all['v'] - df_all['v_tide']"
   ]
  },
  {
   "cell_type": "markdown",
   "metadata": {},
   "source": [
    "### Resample to hourly values"
   ]
  },
  {
   "cell_type": "markdown",
   "metadata": {},
   "source": [
    "#### Define date range"
   ]
  },
  {
   "cell_type": "code",
   "execution_count": 23,
   "metadata": {},
   "outputs": [],
   "source": [
    "# t1 = np.datetime64('2017-11-12T00:00:00')\n",
    "# t2 = np.datetime64('2018-10-17T00:00:00')\n",
    "# dff = dfr.loc[(dfr.index >= t1) & (dfr.index <= t2)].interpolate(limit=2)"
   ]
  },
  {
   "cell_type": "code",
   "execution_count": 24,
   "metadata": {},
   "outputs": [
    {
     "name": "stdout",
     "output_type": "stream",
     "text": [
      "prep/calcs ... done.\n"
     ]
    },
    {
     "name": "stderr",
     "output_type": "stream",
     "text": [
      "/Users/tomconnolly/programs/anaconda/envs/py37/lib/python3.7/site-packages/scipy/signal/signaltools.py:491: FutureWarning: Using a non-tuple sequence for multidimensional indexing is deprecated; use `arr[tuple(seq)]` instead of `arr[seq]`. In the future this will be interpreted as an array index, `arr[np.array(seq)]`, which will result either in an error or a different result.\n",
      "  return x[reverse].conj()\n",
      "/Users/tomconnolly/programs/anaconda/envs/py37/lib/python3.7/site-packages/scipy/signal/signaltools.py:251: FutureWarning: Using a non-tuple sequence for multidimensional indexing is deprecated; use `arr[tuple(seq)]` instead of `arr[seq]`. In the future this will be interpreted as an array index, `arr[np.array(seq)]`, which will result either in an error or a different result.\n",
      "  in1zpadded[sc] = in1.copy()\n"
     ]
    }
   ],
   "source": [
    "# resample and interpolate\n",
    "df_all_r = df_all.resample('1H').mean()\n",
    "\n",
    "# Calculate tidal currents at hourly points\n",
    "time_r = mdates.date2num(df_all_r.index)\n",
    "crit = (coef['diagn']['SNR'] > 2) & (1/coef['aux']['frq'] < 48)\n",
    "tide_r = utide.reconstruct(time_r,coef,constit=coef['name'][crit])\n",
    "df_all_r['u_tide'] = tide_r.u\n",
    "df_all_r['v_tide'] = tide_r.v\n",
    "df_all_r['u_detide'] = df_all_r['u'] - df_all_r['u_tide']\n",
    "df_all_r['v_detide'] = df_all_r['v'] - df_all_r['v_tide']\n",
    "\n",
    "df_all_int = df_all_r.interpolate(limit=int(24*3.5))\n",
    "\n",
    "df_all_int['u'] = df_all_int['u_detide'] + df_all_int['u_tide']\n",
    "df_all_int['v'] = df_all_int['v_detide'] + df_all_int['v_tide']\n",
    "\n",
    "df_all_int['u_f'] = ts.pl64(df_all_int['u_detide'])\n",
    "df_all_int['v_f'] = ts.pl64(df_all_int['v_detide'])\n",
    "\n",
    "df_all_int['u_super'] = df_all_int['u'] - df_all_int['u_f'] - df_all_int['u_tide']\n",
    "df_all_int['v_super'] = df_all_int['v'] - df_all_int['v_f'] - df_all_int['v_tide']"
   ]
  },
  {
   "cell_type": "markdown",
   "metadata": {},
   "source": [
    "### Subset with no gaps\n",
    "November 2015-October 2018"
   ]
  },
  {
   "cell_type": "code",
   "execution_count": 25,
   "metadata": {},
   "outputs": [],
   "source": [
    "# select time range\n",
    "t1s = np.datetime64('2015-11-11T13:00:00')\n",
    "t2s = np.datetime64('2018-10-14T07:00:00')\n",
    "df_sub = df_all_int.loc[(df_all_int.index >= t1s) & (df_all_int.index <= t2s)]"
   ]
  },
  {
   "cell_type": "code",
   "execution_count": 26,
   "metadata": {},
   "outputs": [],
   "source": [
    "# resample and interpolate\n",
    "df = df_sub.resample('3H').mean()"
   ]
  },
  {
   "cell_type": "markdown",
   "metadata": {},
   "source": [
    "### Initial plots"
   ]
  },
  {
   "cell_type": "code",
   "execution_count": 66,
   "metadata": {},
   "outputs": [
    {
     "name": "stderr",
     "output_type": "stream",
     "text": [
      "/Users/tomconnolly/programs/anaconda/envs/py37/lib/python3.7/site-packages/matplotlib/pyplot.py:514: RuntimeWarning: More than 20 figures have been opened. Figures created through the pyplot interface (`matplotlib.pyplot.figure`) are retained until explicitly closed and may consume too much memory. (To control this warning, see the rcParam `figure.max_open_warning`).\n",
      "  max_open_warning, RuntimeWarning)\n"
     ]
    },
    {
     "data": {
      "application/vnd.jupyter.widget-view+json": {
       "model_id": "260b9f9d0c2640d09168455f12a8bcf1",
       "version_major": 2,
       "version_minor": 0
      },
      "text/plain": [
       "FigureCanvasNbAgg()"
      ]
     },
     "metadata": {},
     "output_type": "display_data"
    },
    {
     "data": {
      "text/plain": [
       "[<matplotlib.lines.Line2D at 0x1c5568da20>]"
      ]
     },
     "execution_count": 66,
     "metadata": {},
     "output_type": "execute_result"
    }
   ],
   "source": [
    "plt.figure(figsize=(7.5,4))\n",
    "plt.plot(curl_time[fi],curl_tau_F_2[fi]/(beta_eff*H))\n",
    "plt.plot(df.index,df['u_f'])"
   ]
  },
  {
   "cell_type": "code",
   "execution_count": 67,
   "metadata": {},
   "outputs": [
    {
     "data": {
      "text/plain": [
       "0.0008818578713544829"
      ]
     },
     "execution_count": 67,
     "metadata": {},
     "output_type": "execute_result"
    }
   ],
   "source": [
    "np.std(curl_tau_F_2[fi]/(beta_eff*H))"
   ]
  },
  {
   "cell_type": "markdown",
   "metadata": {},
   "source": [
    "### Spectral analysis"
   ]
  },
  {
   "cell_type": "code",
   "execution_count": 28,
   "metadata": {},
   "outputs": [],
   "source": [
    "u = np.array(df['u'])\n",
    "v = np.array(df['v'])\n",
    "\n",
    "N = len(u)\n",
    "fu,Su = welch(u,fs=8.,nperseg=N/3,window='hanning')\n",
    "fv,Sv = welch(v,fs=8.,nperseg=N/3,window='hanning')"
   ]
  },
  {
   "cell_type": "code",
   "execution_count": 29,
   "metadata": {},
   "outputs": [],
   "source": [
    "fc,Sc = welch(curl_tau_F[fi]/(beta*H),fs=8.,nperseg=N/3,window='hanning')"
   ]
  },
  {
   "cell_type": "code",
   "execution_count": 30,
   "metadata": {},
   "outputs": [],
   "source": [
    "from scipy.signal import coherence\n",
    "\n",
    "fcu,Scu = coherence(u,curl_tau_F[fi]/(beta*H),\n",
    "                    fs=8.,nperseg=N/3,window='hanning')\n",
    "fcv,Scv = coherence(v,curl_tau_F[fi]/(beta*H),\n",
    "                    fs=8.,nperseg=N/3,window='hanning')"
   ]
  },
  {
   "cell_type": "code",
   "execution_count": 31,
   "metadata": {},
   "outputs": [],
   "source": [
    "fc,Sc = welch(curl_tau_F[fi]/(beta*H),fs=8.,nperseg=N/3,window='hanning')"
   ]
  },
  {
   "cell_type": "code",
   "execution_count": 53,
   "metadata": {},
   "outputs": [
    {
     "data": {
      "application/vnd.jupyter.widget-view+json": {
       "model_id": "22962e8f515342559808b56c59caa6c9",
       "version_major": 2,
       "version_minor": 0
      },
      "text/plain": [
       "FigureCanvasNbAgg()"
      ]
     },
     "metadata": {},
     "output_type": "display_data"
    },
    {
     "data": {
      "text/plain": [
       "[<matplotlib.lines.Line2D at 0x1c386e3160>]"
      ]
     },
     "execution_count": 53,
     "metadata": {},
     "output_type": "execute_result"
    }
   ],
   "source": [
    "plt.figure()\n",
    "plt.semilogx(fcu,Scv,'k-')"
   ]
  },
  {
   "cell_type": "code",
   "execution_count": 54,
   "metadata": {},
   "outputs": [
    {
     "data": {
      "application/vnd.jupyter.widget-view+json": {
       "model_id": "cab02097b006464da1e815de737b02f9",
       "version_major": 2,
       "version_minor": 0
      },
      "text/plain": [
       "FigureCanvasNbAgg()"
      ]
     },
     "metadata": {},
     "output_type": "display_data"
    },
    {
     "data": {
      "text/plain": [
       "[<matplotlib.lines.Line2D at 0x1c44baf630>]"
      ]
     },
     "execution_count": 54,
     "metadata": {},
     "output_type": "execute_result"
    }
   ],
   "source": [
    "plt.figure()\n",
    "plt.loglog(fc,Sc,'k-')"
   ]
  },
  {
   "cell_type": "code",
   "execution_count": 55,
   "metadata": {},
   "outputs": [
    {
     "data": {
      "application/vnd.jupyter.widget-view+json": {
       "model_id": "bb92d9453f744c0d90aa2a78eb352117",
       "version_major": 2,
       "version_minor": 0
      },
      "text/plain": [
       "FigureCanvasNbAgg()"
      ]
     },
     "metadata": {},
     "output_type": "display_data"
    },
    {
     "data": {
      "text/plain": [
       "Text(0.5, 1.0, 'Benthic Rover\\nNov 2015-Oct 2018')"
      ]
     },
     "execution_count": 55,
     "metadata": {},
     "output_type": "execute_result"
    }
   ],
   "source": [
    "plt.figure()\n",
    "plt.loglog(fu,Su,'k-')\n",
    "plt.loglog(fv,Sv,'-',color='gray')\n",
    "xl = plt.xlim()\n",
    "plt.xlim(xl[0],np.max(fu))\n",
    "\n",
    "# confidence intervals\n",
    "dof = 6\n",
    "edof = (8/3)*dof\n",
    "lower = edof/chi2.ppf(0.975,edof)\n",
    "upper = edof/chi2.ppf(0.025,edof)\n",
    "fplot = 5\n",
    "fac = 0.0008\n",
    "plt.plot(np.array([fplot,fplot]),fac*np.array([lower,upper]),'k-')\n",
    "plt.text(fplot+0.5,fac*np.mean([lower,upper]),'95%',verticalalignment='center')\n",
    "\n",
    "plt.legend(['u','v'])\n",
    "plt.xlabel('frequency [cpd]')\n",
    "plt.ylabel('[m$^2$ s$^{-2}$ cpd$^{-1}$]')\n",
    "plt.title('Benthic Rover\\nNov 2015-Oct 2018')"
   ]
  },
  {
   "cell_type": "code",
   "execution_count": 56,
   "metadata": {},
   "outputs": [],
   "source": [
    "N = len(u)\n",
    "speed = np.sqrt(u**2 + v**2)\n",
    "fsp,Ssp = welch(speed,fs=8.,nperseg=N/3,window='hanning')"
   ]
  },
  {
   "cell_type": "code",
   "execution_count": 57,
   "metadata": {},
   "outputs": [
    {
     "data": {
      "application/vnd.jupyter.widget-view+json": {
       "model_id": "90ea848c16a24207802f44ac3c3e4d55",
       "version_major": 2,
       "version_minor": 0
      },
      "text/plain": [
       "FigureCanvasNbAgg()"
      ]
     },
     "metadata": {},
     "output_type": "display_data"
    },
    {
     "data": {
      "text/plain": [
       "(0.001954529703208945, 3.9985950122936424)"
      ]
     },
     "execution_count": 57,
     "metadata": {},
     "output_type": "execute_result"
    }
   ],
   "source": [
    "plt.figure()\n",
    "plt.loglog(fsp,Ssp,'k-')\n",
    "xl = plt.xlim()\n",
    "plt.xlim(xl[0],np.max(fsp))"
   ]
  },
  {
   "cell_type": "code",
   "execution_count": 58,
   "metadata": {},
   "outputs": [],
   "source": [
    "import pycwt as wavelet"
   ]
  },
  {
   "cell_type": "code",
   "execution_count": 85,
   "metadata": {},
   "outputs": [],
   "source": [
    "fstd = np.std(curl_tau_F_2[fi]/(beta_eff*H))  # Standard deviation\n",
    "fvar = fstd ** 2  # Variance\n",
    "f_norm = curl_tau_F_2[fi]/(beta_eff*H) / fstd  # Normalized dataset\n",
    "\n",
    "wstd = np.std(np.squeeze(tauy[fi,ci,ci]))  # Standard deviation\n",
    "wvar = wstd ** 2  # Variance\n",
    "w_norm = np.squeeze(tauy[fi,ci,ci]) / wstd  # Normalized dataset\n",
    "\n",
    "ustd = np.std(u)  # Standard deviation\n",
    "uvar = ustd ** 2  # Variance\n",
    "u_norm = u / ustd  # Normalized dataset\n",
    "\n",
    "vstd = np.std(v)  # Standard deviation\n",
    "vvar = vstd ** 2  # Variance\n",
    "v_norm = v / vstd  # Normalized dataset\n",
    "\n",
    "dt = 1/8 # days\n",
    "\n",
    "mother = wavelet.Morlet(6)\n",
    "s0 = 2 * dt  # Starting scale, in this case 2 * 0.25 years = 6 months\n",
    "dj = 1 / 12  # Twelve sub-octaves per octaves\n",
    "J = 11 / dj  # Seven powers of two with dj sub-octaves\n",
    "alphau, _, _ = wavelet.ar1(u_norm)  # Lag-1 autocorrelation for red noise\n",
    "alphav, _, _ = wavelet.ar1(v_norm)  # Lag-1 autocorrelation for red noise\n",
    "alphaf, _, _ = wavelet.ar1(f_norm)  # Lag-1 autocorrelation for red noise\n",
    "alphaw, _, _ = wavelet.ar1(w_norm)  # Lag-1 autocorrelation for red noise"
   ]
  },
  {
   "cell_type": "code",
   "execution_count": 86,
   "metadata": {},
   "outputs": [
    {
     "name": "stderr",
     "output_type": "stream",
     "text": [
      "/Users/tomconnolly/programs/anaconda/envs/py37/lib/python3.7/site-packages/scipy/fftpack/basic.py:160: FutureWarning: Using a non-tuple sequence for multidimensional indexing is deprecated; use `arr[tuple(seq)]` instead of `arr[seq]`. In the future this will be interpreted as an array index, `arr[np.array(seq)]`, which will result either in an error or a different result.\n",
      "  z[index] = x\n"
     ]
    }
   ],
   "source": [
    "uwave, uscales, ufreqs, ucoi, ufft, ufftfreqs = wavelet.cwt(u_norm, dt, dj, s0, J,\n",
    "                                                      mother)\n",
    "\n",
    "vwave, vscales, vfreqs, vcoi, vfft, vfftfreqs = wavelet.cwt(v_norm, dt, dj, s0, J,\n",
    "                                                      mother)\n",
    "\n",
    "fwave, fscales, ffreqs, fcoi, ffft, ffftfreqs = wavelet.cwt(f_norm, dt, dj, s0, J,\n",
    "                                                      mother)\n",
    "\n",
    "wwave, wscales, wfreqs, wcoi, wfft, wfftfreqs = wavelet.cwt(w_norm, dt, dj, s0, J,\n",
    "                                                      mother)"
   ]
  },
  {
   "cell_type": "code",
   "execution_count": 87,
   "metadata": {},
   "outputs": [],
   "source": [
    "uiwave = wavelet.icwt(uwave, uscales, dt, dj, mother) * ustd\n",
    "viwave = wavelet.icwt(vwave, vscales, dt, dj, mother) * vstd\n",
    "fiwave = wavelet.icwt(fwave, fscales, dt, dj, mother) * fstd\n",
    "wiwave = wavelet.icwt(wwave, fscales, dt, dj, mother) * wstd"
   ]
  },
  {
   "cell_type": "code",
   "execution_count": 88,
   "metadata": {},
   "outputs": [],
   "source": [
    "upower = (np.abs(uwave)) ** 2\n",
    "ufft_power = np.abs(ufft) ** 2\n",
    "uperiod = 1 / ufreqs\n",
    "\n",
    "usignif, ufft_theor = wavelet.significance(1.0, dt, uscales, 0, alphau,\n",
    "                                         significance_level=0.99,\n",
    "                                         wavelet=mother)\n",
    "usig99 = np.ones([1, N]) * usignif[:, None]\n",
    "usig99 = upower / usig99\n",
    "\n",
    "vpower = (np.abs(vwave)) ** 2\n",
    "vfft_power = np.abs(vfft) ** 2\n",
    "vperiod = 1 / vfreqs\n",
    "\n",
    "vsignif, vfft_theor = wavelet.significance(1.0, dt, vscales, 0, alphav,\n",
    "                                         significance_level=0.99,\n",
    "                                         wavelet=mother)\n",
    "vsig99 = np.ones([1, N]) * vsignif[:, None]\n",
    "vsig99 = vpower / vsig99\n",
    "\n",
    "fpower = (np.abs(fwave)) ** 2\n",
    "ffft_power = np.abs(ffft) ** 2\n",
    "fperiod = 1 / ffreqs\n",
    "\n",
    "fsignif, ffft_theor = wavelet.significance(1.0, dt, fscales, 0, alphaf,\n",
    "                                         significance_level=0.99,\n",
    "                                         wavelet=mother)\n",
    "fsig99 = np.ones([1, N]) * fsignif[:, None]\n",
    "fsig99 = fpower / fsig99\n",
    "\n",
    "wpower = (np.abs(wwave)) ** 2\n",
    "wfft_power = np.abs(wfft) ** 2\n",
    "wperiod = 1 / wfreqs\n",
    "\n",
    "wsignif, wfft_theor = wavelet.significance(1.0, dt, wscales, 0, alphaw,\n",
    "                                         significance_level=0.99,\n",
    "                                         wavelet=mother)\n",
    "wsig99 = np.ones([1, N]) * wsignif[:, None]\n",
    "wsig99 = wpower / wsig99"
   ]
  },
  {
   "cell_type": "code",
   "execution_count": 89,
   "metadata": {},
   "outputs": [
    {
     "name": "stderr",
     "output_type": "stream",
     "text": [
      "/Users/tomconnolly/programs/anaconda/envs/py37/lib/python3.7/site-packages/matplotlib/pyplot.py:514: RuntimeWarning: More than 20 figures have been opened. Figures created through the pyplot interface (`matplotlib.pyplot.figure`) are retained until explicitly closed and may consume too much memory. (To control this warning, see the rcParam `figure.max_open_warning`).\n",
      "  max_open_warning, RuntimeWarning)\n"
     ]
    },
    {
     "data": {
      "application/vnd.jupyter.widget-view+json": {
       "model_id": "869e96251bdd43cfbe3fb938ba9ee4b4",
       "version_major": 2,
       "version_minor": 0
      },
      "text/plain": [
       "FigureCanvasNbAgg()"
      ]
     },
     "metadata": {},
     "output_type": "display_data"
    },
    {
     "data": {
      "text/plain": [
       "Text(0.5, 1.0, 'NCEP-NARR wind forcing - $F$')"
      ]
     },
     "execution_count": 89,
     "metadata": {},
     "output_type": "execute_result"
    }
   ],
   "source": [
    "# time = curl_time[fi]\n",
    "# t = np.array(curl_time[fi])\n",
    "time = mdates.date2num(curl_time[fi])\n",
    "t = time\n",
    "\n",
    "plt.figure(figsize=(6,8))\n",
    "\n",
    "ax1 = plt.subplot(311)\n",
    "plt.contourf(time, np.log2(uperiod), upower,\n",
    "            extend='both',cmap='RdPu')\n",
    "plt.colorbar()\n",
    "plt.contour(time, np.log2(uperiod), usig99, [-99, 1], colors='k', linewidths=1)\n",
    "yticks = 2 ** np.arange(np.ceil(np.log2(uperiod.min())),\n",
    "                           np.ceil(np.log2(uperiod.max())))\n",
    "ax1.set_yticks(np.log2(yticks))\n",
    "ax1.set_yticklabels(yticks)\n",
    "ax1.set_xticklabels([])\n",
    "plt.ylim([np.log2(2),np.log2(uperiod.max())])\n",
    "plt.fill(np.concatenate([t, t[-1:] + dt, t[-1:] + dt,\n",
    "                           t[:1] - dt, t[:1] - dt]),\n",
    "        np.concatenate([np.log2(ucoi), [1e-9], np.log2(uperiod[-1:]),\n",
    "                           np.log2(uperiod[-1:]), [1e-9]]),\n",
    "        'k', alpha=0.5, hatch='x')\n",
    "plt.xticks(rotation=30)\n",
    "plt.ylabel('period [d]')\n",
    "plt.title('wavelet power\\nRover eastward velocity - $u$')\n",
    "\n",
    "ax2 = plt.subplot(312)\n",
    "plt.contourf(time, np.log2(vperiod), vpower,\n",
    "            extend='both',cmap='RdPu')\n",
    "plt.colorbar()\n",
    "plt.contour(time, np.log2(vperiod), vsig99, [-99, 1], colors='k', linewidths=1)\n",
    "yticks = 2 ** np.arange(np.ceil(np.log2(vperiod.min())),\n",
    "                           np.ceil(np.log2(vperiod.max())))\n",
    "ax2.set_yticks(np.log2(yticks))\n",
    "ax2.set_yticklabels(yticks)\n",
    "ax2.set_xticklabels([])\n",
    "plt.ylim([np.log2(2),np.log2(vperiod.max())])\n",
    "plt.fill(np.concatenate([t, t[-1:] + dt, t[-1:] + dt,\n",
    "                           t[:1] - dt, t[:1] - dt]),\n",
    "        np.concatenate([np.log2(vcoi), [1e-9], np.log2(vperiod[-1:]),\n",
    "                           np.log2(vperiod[-1:]), [1e-9]]),\n",
    "        'k', alpha=0.5, hatch='x')\n",
    "plt.xticks(rotation=30)\n",
    "plt.ylabel('period [d]')\n",
    "plt.title('Rover northward velocity - $v$')\n",
    "\n",
    "ax3 = plt.subplot(313)\n",
    "plt.contourf(time, np.log2(fperiod), fpower,\n",
    "            extend='both',cmap='RdPu')\n",
    "#plt.clim([0,100])\n",
    "plt.colorbar()\n",
    "plt.contour(time, np.log2(fperiod), fsig99, [-99, 1], colors='k', linewidths=1)\n",
    "yticks = 2 ** np.arange(np.ceil(np.log2(fperiod.min())),\n",
    "                           np.ceil(np.log2(fperiod.max())))\n",
    "ax3.set_yticks(np.log2(yticks))\n",
    "ax3.set_yticklabels(yticks)\n",
    "plt.ylim([np.log2(2),np.log2(fperiod.max())])\n",
    "plt.fill(np.concatenate([t, t[-1:] + dt, t[-1:] + dt,\n",
    "                           t[:1] - dt, t[:1] - dt]),\n",
    "        np.concatenate([np.log2(fcoi), [1e-9], np.log2(fperiod[-1:]),\n",
    "                           np.log2(fperiod[-1:]), [1e-9]]),\n",
    "        'k', alpha=0.5, hatch='x')\n",
    "plt.xticks(rotation=30)\n",
    "plt.ylabel('period [d]')\n",
    "plt.title('NCEP-NARR wind forcing - $F$')\n",
    "#plt.tight_layout()\n",
    "\n",
    "# plt.savefig('figures_paper/wavelet_power.png',dpi=1000)\n",
    "# plt.savefig('figures_paper/wavelet_power.pdf')"
   ]
  },
  {
   "cell_type": "code",
   "execution_count": 64,
   "metadata": {},
   "outputs": [
    {
     "data": {
      "application/vnd.jupyter.widget-view+json": {
       "model_id": "8c036e0240a94472b174aebbd38540fc",
       "version_major": 2,
       "version_minor": 0
      },
      "text/plain": [
       "FigureCanvasNbAgg()"
      ]
     },
     "metadata": {},
     "output_type": "display_data"
    }
   ],
   "source": [
    "plt.figure()\n",
    "plt.contourf(time, np.log2(wperiod), wpower,\n",
    "            extend='both',cmap='RdPu')\n",
    "plt.colorbar()\n",
    "plt.contour(time, np.log2(wperiod), wsig99, [-99, 1], colors='k', linewidths=1)\n",
    "yticks = 2 ** np.arange(np.ceil(np.log2(wperiod.min())),\n",
    "                           np.ceil(np.log2(wperiod.max())))\n",
    "plt.gca().set_yticks(np.log2(yticks))\n",
    "plt.gca().set_yticklabels(yticks)\n",
    "plt.ylim([np.log2(2),np.log2(wperiod.max())])\n",
    "plt.fill(np.concatenate([t, t[-1:] + dt, t[-1:] + dt,\n",
    "                           t[:1] - dt, t[:1] - dt]),\n",
    "        np.concatenate([np.log2(wcoi), [1e-9], np.log2(wperiod[-1:]),\n",
    "                           np.log2(wperiod[-1:]), [1e-9]]),\n",
    "        'k', alpha=0.5, hatch='x')\n",
    "plt.xticks(rotation=30)\n",
    "plt.tight_layout()"
   ]
  },
  {
   "cell_type": "code",
   "execution_count": 75,
   "metadata": {},
   "outputs": [],
   "source": [
    "W12, coi, freq, signif = wavelet.xwt(u_norm, f_norm, dt, dj, s0, J,wavelet=mother,significance_level=0.99)"
   ]
  },
  {
   "cell_type": "code",
   "execution_count": 45,
   "metadata": {},
   "outputs": [
    {
     "name": "stdout",
     "output_type": "stream",
     "text": [
      "NOTE: WCT significance loaded from cache.\n",
      "\n"
     ]
    },
    {
     "name": "stderr",
     "output_type": "stream",
     "text": [
      "/Users/tomconnolly/programs/anaconda/envs/py37/lib/python3.7/site-packages/pycwt/wavelet.py:562: RuntimeWarning: invalid value encountered in arctanh\n",
      "  aa = np.round(np.arctanh(np.array([al1, al2]) * 4))\n",
      "/Users/tomconnolly/programs/anaconda/envs/py37/lib/python3.7/site-packages/pycwt/wavelet.py:563: RuntimeWarning: invalid value encountered in less\n",
      "  aa = np.abs(aa) + 0.5 * (aa < 0)\n"
     ]
    }
   ],
   "source": [
    "#xwct, xwcoi, xwfft, xwfreqs = wavelet.wct(u_norm, f_norm, dt, dj, s0, int(J),cache=True)\n",
    "xwct, xawact, xwcoi, xwfreqs, xwsig = wavelet.wct(u_norm, f_norm, dt, dj, s0, int(J),cache=True)"
   ]
  },
  {
   "cell_type": "code",
   "execution_count": 83,
   "metadata": {},
   "outputs": [],
   "source": [
    "xwpower = np.abs(W12)\n",
    "\n",
    "xsig95 = np.ones([1, N]) * signif[:, None]\n",
    "xsig95 = xwpower / xsig95"
   ]
  },
  {
   "cell_type": "code",
   "execution_count": 84,
   "metadata": {},
   "outputs": [
    {
     "name": "stderr",
     "output_type": "stream",
     "text": [
      "/Users/tomconnolly/programs/anaconda/envs/py37/lib/python3.7/site-packages/matplotlib/pyplot.py:514: RuntimeWarning: More than 20 figures have been opened. Figures created through the pyplot interface (`matplotlib.pyplot.figure`) are retained until explicitly closed and may consume too much memory. (To control this warning, see the rcParam `figure.max_open_warning`).\n",
      "  max_open_warning, RuntimeWarning)\n"
     ]
    },
    {
     "data": {
      "application/vnd.jupyter.widget-view+json": {
       "model_id": "6a59ac443cea4ce69d2df6b37cc348b6",
       "version_major": 2,
       "version_minor": 0
      },
      "text/plain": [
       "FigureCanvasNbAgg()"
      ]
     },
     "metadata": {},
     "output_type": "display_data"
    },
    {
     "data": {
      "text/plain": [
       "[<matplotlib.patches.Polygon at 0x1c6bb59828>]"
      ]
     },
     "execution_count": 84,
     "metadata": {},
     "output_type": "execute_result"
    }
   ],
   "source": [
    "plt.figure()\n",
    "plt.contourf(t, np.log2(uperiod), np.abs(W12),\n",
    "            extend='both',cmap='RdPu')\n",
    "plt.colorbar()\n",
    "plt.contour(t, np.log2(uperiod), xsig95, [-99, 1], colors='k', linewidths=1)\n",
    "yticks = 2 ** np.arange(np.ceil(np.log2(uperiod.min())),\n",
    "                           np.ceil(np.log2(uperiod.max())))\n",
    "plt.gca().set_yticks(np.log2(yticks))\n",
    "plt.gca().set_yticklabels(yticks)\n",
    "plt.gca().set_xticklabels([])\n",
    "\n",
    "plt.fill(np.concatenate([t, t[-1:] + dt, t[-1:] + dt,\n",
    "                           t[:1] - dt, t[:1] - dt]),\n",
    "        np.concatenate([np.log2(coi), [1e-9], np.log2(uperiod[-1:]),\n",
    "                           np.log2(uperiod[-1:]), [1e-9]]),\n",
    "        'k', alpha=0.5, hatch='x')"
   ]
  },
  {
   "cell_type": "code",
   "execution_count": 80,
   "metadata": {},
   "outputs": [
    {
     "name": "stdout",
     "output_type": "stream",
     "text": [
      "Help on function wct in module pycwt.wavelet:\n",
      "\n",
      "wct(y1, y2, dt, dj=0.08333333333333333, s0=-1, J=-1, sig=True, significance_level=0.95, wavelet='morlet', normalize=True, **kwargs)\n",
      "    Wavelet coherence transform (WCT).\n",
      "    \n",
      "    The WCT finds regions in time frequency space where the two time\n",
      "    series co-vary, but do not necessarily have high power.\n",
      "    \n",
      "    Parameters\n",
      "    ----------\n",
      "    y1, y2 : numpy.ndarray, list\n",
      "        Input signals.\n",
      "    dt : float\n",
      "        Sample spacing.\n",
      "    dj : float, optional\n",
      "        Spacing between discrete scales. Default value is 1/12.\n",
      "        Smaller values will result in better scale resolution, but\n",
      "        slower calculation and plot.\n",
      "    s0 : float, optional\n",
      "        Smallest scale of the wavelet. Default value is 2*dt.\n",
      "    J : float, optional\n",
      "        Number of scales less one. Scales range from s0 up to\n",
      "        s0 * 2**(J * dj), which gives a total of (J + 1) scales.\n",
      "        Default is J = (log2(N*dt/so))/dj.\n",
      "    significance_level (float, optional) :\n",
      "        Significance level to use. Default is 0.95.\n",
      "    normalize (boolean, optional) :\n",
      "        If set to true, normalizes CWT by the standard deviation of\n",
      "        the signals.\n",
      "    \n",
      "    Returns\n",
      "    -------\n",
      "    TODO: Something TBA and TBC\n",
      "    \n",
      "    See also\n",
      "    --------\n",
      "    cwt, xwt\n",
      "\n"
     ]
    }
   ],
   "source": [
    "help(wavelet.wct)"
   ]
  },
  {
   "cell_type": "code",
   "execution_count": null,
   "metadata": {},
   "outputs": [],
   "source": [
    "J"
   ]
  },
  {
   "cell_type": "code",
   "execution_count": null,
   "metadata": {},
   "outputs": [],
   "source": [
    "dir(wavelet)"
   ]
  },
  {
   "cell_type": "code",
   "execution_count": null,
   "metadata": {},
   "outputs": [],
   "source": []
  },
  {
   "cell_type": "code",
   "execution_count": null,
   "metadata": {},
   "outputs": [],
   "source": []
  }
 ],
 "metadata": {
  "kernelspec": {
   "display_name": "Python [conda env:py37]",
   "language": "python",
   "name": "conda-env-py37-py"
  },
  "language_info": {
   "codemirror_mode": {
    "name": "ipython",
    "version": 3
   },
   "file_extension": ".py",
   "mimetype": "text/x-python",
   "name": "python",
   "nbconvert_exporter": "python",
   "pygments_lexer": "ipython3",
   "version": "3.7.2"
  }
 },
 "nbformat": 4,
 "nbformat_minor": 2
}
