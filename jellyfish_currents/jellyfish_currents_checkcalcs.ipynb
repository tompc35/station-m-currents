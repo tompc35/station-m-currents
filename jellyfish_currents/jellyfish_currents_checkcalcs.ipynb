{
 "cells": [
  {
   "cell_type": "code",
   "execution_count": 1,
   "metadata": {},
   "outputs": [],
   "source": [
    "%matplotlib ipympl\n",
    "import pandas as pd\n",
    "import numpy as np\n",
    "import matplotlib.pyplot as plt\n",
    "\n",
    "from windrose import WindroseAxes\n",
    "import windrose\n",
    "from physoce.util import compasstransform"
   ]
  },
  {
   "cell_type": "markdown",
   "metadata": {},
   "source": [
    "### Load data"
   ]
  },
  {
   "cell_type": "code",
   "execution_count": 2,
   "metadata": {},
   "outputs": [],
   "source": [
    "# Load data\n",
    "xls_file = '../data/Rover_II_Current_Mag_Hourly_Avg_pad.xlsx'\n",
    "df = pd.read_excel(xls_file,parse_dates=[6])\n",
    "\n",
    "# Datetime index\n",
    "df = df.set_index('Date_time_R')\n",
    "\n",
    "# Create u and v components with units m/s\n",
    "df['u'] = df['Easting (cm/sec)']/100\n",
    "df['v'] = df['Northing (cm/sec)']/100"
   ]
  },
  {
   "cell_type": "code",
   "execution_count": 14,
   "metadata": {},
   "outputs": [
    {
     "name": "stderr",
     "output_type": "stream",
     "text": [
      "/Users/tomconnolly/programs/anaconda/lib/python3.5/site-packages/ipykernel/__main__.py:6: SettingWithCopyWarning: \n",
      "A value is trying to be set on a copy of a slice from a DataFrame\n",
      "\n",
      "See the caveats in the documentation: http://pandas.pydata.org/pandas-docs/stable/indexing.html#indexing-view-versus-copy\n",
      "/Users/tomconnolly/programs/anaconda/lib/python3.5/site-packages/physoce/util.py:87: RuntimeWarning: invalid value encountered in less\n",
      "  neg = theta_out < 0\n"
     ]
    }
   ],
   "source": [
    "df['current_mag'] = np.sqrt(df['u']**2 + df['v']**2)\n",
    "df['current_dir'] = np.arctan2(-df['v'],-df['u']) # negative for direction FROM\n",
    "\n",
    "# Make degrees positive \n",
    "ni, = np.where(df['current_dir']<0)\n",
    "df['current_dir'][ni] = df['current_dir'][ni]+2*np.pi\n",
    "\n",
    "# convert from polar coordinates (counter-clockwise from positive x) to compass directions (clockwise from true north)\n",
    "df['current_dir_compass'] = compasstransform(df['current_dir']*180/np.pi)"
   ]
  },
  {
   "cell_type": "markdown",
   "metadata": {},
   "source": [
    "### Start and end times for calculations\n",
    "\n",
    "Show start and end times for each deployment\n",
    "\n",
    "Time period of interest (jellyfish): 14 October 2014 to 13 Nov 2017"
   ]
  },
  {
   "cell_type": "markdown",
   "metadata": {},
   "source": [
    "Full time period: 11/20/2011 to 11/9/2017"
   ]
  },
  {
   "cell_type": "code",
   "execution_count": 16,
   "metadata": {},
   "outputs": [
    {
     "data": {
      "application/vnd.jupyter.widget-view+json": {
       "model_id": "01d8c19486774b1ca14f95a6edffb162",
       "version_major": 2,
       "version_minor": 0
      },
      "text/plain": [
       "FigureCanvasNbAgg()"
      ]
     },
     "metadata": {},
     "output_type": "display_data"
    },
    {
     "data": {
      "text/plain": [
       "<matplotlib.lines.Line2D at 0x12949e208>"
      ]
     },
     "execution_count": 16,
     "metadata": {},
     "output_type": "execute_result"
    }
   ],
   "source": [
    "t1 = np.datetime64('2014-10-16')\n",
    "t2 = np.datetime64('2017-11-09')\n",
    "\n",
    "# find data in time period\n",
    "ii, = np.where((df.index >= t1) & (df.index <= t2))\n",
    "\n",
    "plt.figure(figsize=(7.5,8))\n",
    "plt.subplot(211)\n",
    "plt.plot(df.index,df['u'])\n",
    "# plt.xlim([t1_list[0]-np.timedelta64(3,'D'),\n",
    "#           t2_list[-1]+np.timedelta64(3,'D')])\n",
    "yl = plt.ylim()\n",
    "\n",
    "plt.plot([t1,t1],yl,'g')\n",
    "plt.plot([t2,t2],yl,'r')\n",
    "    \n",
    "plt.ylim(yl)\n",
    "plt.title('eastward velocity')\n",
    "plt.ylabel('[m/s]')\n",
    "plt.axhline(0,linestyle='--',color='k')\n",
    "\n",
    "plt.subplot(212)\n",
    "plt.plot(df.index,df['v'])\n",
    "# plt.xlim([t1_list[0]-np.timedelta64(3,'D'),\n",
    "#           t2_list[-1]+np.timedelta64(3,'D')])\n",
    "yl = plt.ylim()\n",
    "\n",
    "plt.plot([t1,t1],yl,'g')\n",
    "plt.plot([t2,t2],yl,'r')\n",
    "    \n",
    "plt.ylim(yl)\n",
    "plt.title('northward velocity')\n",
    "plt.ylabel('[m/s]')\n",
    "plt.axhline(0,linestyle='--',color='k')"
   ]
  },
  {
   "cell_type": "code",
   "execution_count": 21,
   "metadata": {},
   "outputs": [
    {
     "data": {
      "application/vnd.jupyter.widget-view+json": {
       "model_id": "d031fc1a36754ed1a3484b36b486a9b3",
       "version_major": 2,
       "version_minor": 0
      },
      "text/plain": [
       "FigureCanvasNbAgg()"
      ]
     },
     "metadata": {},
     "output_type": "display_data"
    },
    {
     "data": {
      "text/plain": [
       "<matplotlib.legend.Legend at 0x1363cda20>"
      ]
     },
     "execution_count": 21,
     "metadata": {},
     "output_type": "execute_result"
    }
   ],
   "source": [
    "ax = WindroseAxes.from_ax()\n",
    "ax.bar(df['current_dir_compass'][ii],df['current_mag'][ii], nsector=12, normed=True)\n",
    "ax.legend(decimal_places=2,fontsize=8,loc='lower left')\n",
    "#ax.set_legend()"
   ]
  },
  {
   "cell_type": "markdown",
   "metadata": {},
   "source": [
    "### Progressive vector diagrams\n",
    "\n",
    "For each deployment, two plots are shown:\n",
    "* A simple trajectory plot, with the starting point\n",
    "* A trajectory plot colored by time"
   ]
  },
  {
   "cell_type": "code",
   "execution_count": 6,
   "metadata": {},
   "outputs": [
    {
     "data": {
      "application/vnd.jupyter.widget-view+json": {
       "model_id": "a21af75a28164ae38598294080e1a767",
       "version_major": 2,
       "version_minor": 0
      },
      "text/plain": [
       "FigureCanvasNbAgg()"
      ]
     },
     "metadata": {},
     "output_type": "display_data"
    },
    {
     "data": {
      "application/vnd.jupyter.widget-view+json": {
       "model_id": "3f5ddca34fa043d2a8dec6801bf32463",
       "version_major": 2,
       "version_minor": 0
      },
      "text/plain": [
       "FigureCanvasNbAgg()"
      ]
     },
     "metadata": {},
     "output_type": "display_data"
    },
    {
     "data": {
      "text/plain": [
       "Text(0.5,1,'2014-10-16 - 2017-11-09')"
      ]
     },
     "execution_count": 6,
     "metadata": {},
     "output_type": "execute_result"
    }
   ],
   "source": [
    "# time between each sample (in seconds)\n",
    "dt = np.diff(df.index)/np.timedelta64(1,'s')\n",
    "\n",
    "# unix time\n",
    "df['unix_time'] =  (df.index - pd.Timestamp('1970-01-01 00:00:00'))/np.timedelta64(1,'s')\n",
    "\n",
    "\n",
    "# find data in time period\n",
    "ii, = np.where((df.index >= t1) & (df.index <= t2))\n",
    "\n",
    "# cumulative integral using trapezoidal rule\n",
    "x = np.cumsum(0.5*(df['u'][ii][:-1]+df['u'][ii][1:])\n",
    "              *dt[ii],axis=0)\n",
    "y = np.cumsum(0.5*(df['v'][ii][:-1]+df['v'][ii][1:])\n",
    "              *dt[ii],axis=0)\n",
    "t = np.cumsum(0.5*(df['unix_time'][ii][:-1]+df['unix_time'][ii][1:])\n",
    "              *dt[ii],axis=0)\n",
    "\n",
    "# plot progressive vector diagram\n",
    "plt.figure()\n",
    "plt.plot(x/1000,y/1000)\n",
    "plt.plot(0,0,'go')\n",
    "plt.gca().axis('equal')\n",
    "plt.xlabel('distance east [km]')\n",
    "plt.ylabel('distance north [km]')\n",
    "plt.title(str(t1)+' - '+str(t2))\n",
    "plt.savefig('figures/progressive_vector_original_'+\n",
    "        str(t1.astype(object).year)+'-'+\n",
    "        str(t2.astype(object).year)+\n",
    "        '.pdf')\n",
    "\n",
    "plt.figure()\n",
    "plt.scatter(x/1000,y/1000,6,t,cmap='plasma')\n",
    "plt.gca().axis('equal')\n",
    "plt.xlabel('distance east [km]')\n",
    "plt.ylabel('distance north [km]')\n",
    "plt.title(str(t1)+' - '+str(t2))"
   ]
  },
  {
   "cell_type": "code",
   "execution_count": 26,
   "metadata": {},
   "outputs": [
    {
     "name": "stderr",
     "output_type": "stream",
     "text": [
      "/Users/tomconnolly/programs/anaconda/lib/python3.5/site-packages/matplotlib/pyplot.py:537: RuntimeWarning: More than 20 figures have been opened. Figures created through the pyplot interface (`matplotlib.pyplot.figure`) are retained until explicitly closed and may consume too much memory. (To control this warning, see the rcParam `figure.max_open_warning`).\n",
      "  max_open_warning, RuntimeWarning)\n"
     ]
    },
    {
     "data": {
      "application/vnd.jupyter.widget-view+json": {
       "model_id": "e21e26104c804680875cf69062fc6c9c",
       "version_major": 2,
       "version_minor": 0
      },
      "text/plain": [
       "FigureCanvasNbAgg()"
      ]
     },
     "metadata": {},
     "output_type": "display_data"
    }
   ],
   "source": [
    "plt.figure()\n",
    "plt.hist2d(df['u'][ii],df['v'][ii],bins=50,cmap='gist_heat_r');\n",
    "plt.xlabel('eastward velocity [m/s]')\n",
    "plt.ylabel('northward velocity [m/s]')    \n",
    "plt.title(str(t1)+' - '+str(t2))\n",
    "plt.colorbar();\n",
    "plt.axis('equal');"
   ]
  },
  {
   "cell_type": "code",
   "execution_count": null,
   "metadata": {},
   "outputs": [],
   "source": []
  },
  {
   "cell_type": "code",
   "execution_count": null,
   "metadata": {},
   "outputs": [],
   "source": []
  }
 ],
 "metadata": {
  "kernelspec": {
   "display_name": "Python [default]",
   "language": "python",
   "name": "python3"
  },
  "language_info": {
   "codemirror_mode": {
    "name": "ipython",
    "version": 3
   },
   "file_extension": ".py",
   "mimetype": "text/x-python",
   "name": "python",
   "nbconvert_exporter": "python",
   "pygments_lexer": "ipython3",
   "version": "3.5.5"
  }
 },
 "nbformat": 4,
 "nbformat_minor": 2
}
