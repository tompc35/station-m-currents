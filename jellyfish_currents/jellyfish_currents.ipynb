{
 "cells": [
  {
   "cell_type": "code",
   "execution_count": 2,
   "metadata": {},
   "outputs": [],
   "source": [
    "%matplotlib ipympl\n",
    "import pandas as pd\n",
    "import numpy as np\n",
    "import matplotlib.pyplot as plt"
   ]
  },
  {
   "cell_type": "markdown",
   "metadata": {},
   "source": [
    "### Load data"
   ]
  },
  {
   "cell_type": "code",
   "execution_count": 3,
   "metadata": {},
   "outputs": [],
   "source": [
    "# Load data\n",
    "xls_file = '../data/Rover_II_Current_Mag_Hourly_Avg_pad.xlsx'\n",
    "df = pd.read_excel(xls_file,parse_dates=[6])\n",
    "\n",
    "# Datetime index\n",
    "df = df.set_index('Date_time_R')\n",
    "\n",
    "# Create u and v components with units m/s\n",
    "df['u'] = df['Easting (cm/sec)']/100\n",
    "df['v'] = df['Northing (cm/sec)']/100"
   ]
  },
  {
   "cell_type": "markdown",
   "metadata": {},
   "source": [
    "### Start and end times for calculations\n",
    "\n",
    "Show start and end times for each deployment\n",
    "\n",
    "Time period of interest: 14 October 2014 to 13 Nov 2017"
   ]
  },
  {
   "cell_type": "code",
   "execution_count": 4,
   "metadata": {},
   "outputs": [
    {
     "data": {
      "application/vnd.jupyter.widget-view+json": {
       "model_id": "501df07c784e424586063dc8e0c797d1",
       "version_major": 2,
       "version_minor": 0
      },
      "text/plain": [
       "FigureCanvasNbAgg()"
      ]
     },
     "metadata": {},
     "output_type": "display_data"
    },
    {
     "data": {
      "text/plain": [
       "<matplotlib.lines.Line2D at 0x11ff13438>"
      ]
     },
     "execution_count": 4,
     "metadata": {},
     "output_type": "execute_result"
    }
   ],
   "source": [
    "t1_list = [np.datetime64('2014-10-16'),\n",
    "           np.datetime64('2015-11-10'),\n",
    "           np.datetime64('2016-11-14')]\n",
    "\n",
    "t2_list = [np.datetime64('2015-06-17'),\n",
    "           np.datetime64('2016-11-08'),\n",
    "           np.datetime64('2017-11-09')]\n",
    "\n",
    "plt.figure(figsize=(7.5,8))\n",
    "plt.subplot(211)\n",
    "plt.plot(df.index,df['u'])\n",
    "# plt.xlim([t1_list[0]-np.timedelta64(3,'D'),\n",
    "#           t2_list[-1]+np.timedelta64(3,'D')])\n",
    "yl = plt.ylim()\n",
    "\n",
    "for t1,t2 in zip(t1_list,t2_list):\n",
    "    plt.plot([t1,t1],yl,'g')\n",
    "    plt.plot([t2,t2],yl,'r')\n",
    "    \n",
    "plt.ylim(yl)\n",
    "plt.title('eastward velocity')\n",
    "plt.ylabel('[m/s]')\n",
    "plt.axhline(0,linestyle='--',color='k')\n",
    "\n",
    "plt.subplot(212)\n",
    "plt.plot(df.index,df['v'])\n",
    "# plt.xlim([t1_list[0]-np.timedelta64(3,'D'),\n",
    "#           t2_list[-1]+np.timedelta64(3,'D')])\n",
    "yl = plt.ylim()\n",
    "\n",
    "for t1,t2 in zip(t1_list,t2_list):\n",
    "    plt.plot([t1,t1],yl,'g')\n",
    "    plt.plot([t2,t2],yl,'r')\n",
    "    \n",
    "plt.ylim(yl)\n",
    "plt.title('northward velocity')\n",
    "plt.ylabel('[m/s]')\n",
    "plt.axhline(0,linestyle='--',color='k')"
   ]
  },
  {
   "cell_type": "markdown",
   "metadata": {},
   "source": [
    "### Progressive vector diagrams\n",
    "\n",
    "For each deployment, two plots are shown:\n",
    "* A simple trajectory plot, with the starting point\n",
    "* A trajectory plot colored by time"
   ]
  },
  {
   "cell_type": "code",
   "execution_count": 9,
   "metadata": {},
   "outputs": [
    {
     "name": "stderr",
     "output_type": "stream",
     "text": [
      "/Users/tomconnolly/programs/anaconda/lib/python3.5/site-packages/matplotlib/pyplot.py:537: RuntimeWarning: More than 20 figures have been opened. Figures created through the pyplot interface (`matplotlib.pyplot.figure`) are retained until explicitly closed and may consume too much memory. (To control this warning, see the rcParam `figure.max_open_warning`).\n",
      "  max_open_warning, RuntimeWarning)\n"
     ]
    },
    {
     "data": {
      "application/vnd.jupyter.widget-view+json": {
       "model_id": "72bafcf71a8b416eaa345a9ba689f43c",
       "version_major": 2,
       "version_minor": 0
      },
      "text/plain": [
       "FigureCanvasNbAgg()"
      ]
     },
     "metadata": {},
     "output_type": "display_data"
    },
    {
     "data": {
      "application/vnd.jupyter.widget-view+json": {
       "model_id": "f46c5bf993354643baf78d14d8dca24e",
       "version_major": 2,
       "version_minor": 0
      },
      "text/plain": [
       "FigureCanvasNbAgg()"
      ]
     },
     "metadata": {},
     "output_type": "display_data"
    },
    {
     "data": {
      "application/vnd.jupyter.widget-view+json": {
       "model_id": "ac554fb68e344e859b8328b60ca0247c",
       "version_major": 2,
       "version_minor": 0
      },
      "text/plain": [
       "FigureCanvasNbAgg()"
      ]
     },
     "metadata": {},
     "output_type": "display_data"
    },
    {
     "data": {
      "application/vnd.jupyter.widget-view+json": {
       "model_id": "8da2bb2491a64fdea9df0ce8d69e26ce",
       "version_major": 2,
       "version_minor": 0
      },
      "text/plain": [
       "FigureCanvasNbAgg()"
      ]
     },
     "metadata": {},
     "output_type": "display_data"
    },
    {
     "data": {
      "application/vnd.jupyter.widget-view+json": {
       "model_id": "6d2e742b3a8043f99bf138e44f4577dd",
       "version_major": 2,
       "version_minor": 0
      },
      "text/plain": [
       "FigureCanvasNbAgg()"
      ]
     },
     "metadata": {},
     "output_type": "display_data"
    },
    {
     "data": {
      "application/vnd.jupyter.widget-view+json": {
       "model_id": "05af19ce5e29442591feea171d81b17b",
       "version_major": 2,
       "version_minor": 0
      },
      "text/plain": [
       "FigureCanvasNbAgg()"
      ]
     },
     "metadata": {},
     "output_type": "display_data"
    },
    {
     "data": {
      "application/vnd.jupyter.widget-view+json": {
       "model_id": "64028ed79b9d44b996d59c738eef3c20",
       "version_major": 2,
       "version_minor": 0
      },
      "text/plain": [
       "FigureCanvasNbAgg()"
      ]
     },
     "metadata": {},
     "output_type": "display_data"
    },
    {
     "data": {
      "application/vnd.jupyter.widget-view+json": {
       "model_id": "08d893c7d2c64fd1ba5827be085a08c0",
       "version_major": 2,
       "version_minor": 0
      },
      "text/plain": [
       "FigureCanvasNbAgg()"
      ]
     },
     "metadata": {},
     "output_type": "display_data"
    },
    {
     "data": {
      "application/vnd.jupyter.widget-view+json": {
       "model_id": "c47ef89c88c34615a6d8b5664d8ec855",
       "version_major": 2,
       "version_minor": 0
      },
      "text/plain": [
       "FigureCanvasNbAgg()"
      ]
     },
     "metadata": {},
     "output_type": "display_data"
    }
   ],
   "source": [
    "# time between each sample (in seconds)\n",
    "dt = np.diff(df.index)/np.timedelta64(1,'s')\n",
    "\n",
    "# unix time\n",
    "df['unix_time'] =  (df.index - pd.Timestamp('1970-01-01 00:00:00'))/np.timedelta64(1,'s')\n",
    "\n",
    "# loop through each time period\n",
    "for t1,t2 in zip(t1_list,t2_list):\n",
    "    \n",
    "    # find data in time period\n",
    "    ii, = np.where((df.index >= t1) & (df.index <= t2))\n",
    "    \n",
    "    # cumulative integral using trapezoidal rule\n",
    "    x = np.cumsum(0.5*(df['u'][ii][:-1]+df['u'][ii][1:])\n",
    "                  *dt[ii],axis=0)\n",
    "    y = np.cumsum(0.5*(df['v'][ii][:-1]+df['v'][ii][1:])\n",
    "                  *dt[ii],axis=0)\n",
    "    t = np.cumsum(0.5*(df['unix_time'][ii][:-1]+df['unix_time'][ii][1:])\n",
    "                  *dt[ii],axis=0)\n",
    "           \n",
    "    # plot progressive vector diagram\n",
    "    plt.figure()\n",
    "    plt.plot(x/1000,y/1000)\n",
    "    plt.plot(0,0,'go')\n",
    "    plt.gca().axis('equal')\n",
    "    plt.xlabel('distance east [km]')\n",
    "    plt.ylabel('distance north [km]')\n",
    "    plt.title(str(t1)+' - '+str(t2))\n",
    "    plt.savefig('figures/progressive_vector_original_'+\n",
    "            str(t1.astype(object).year)+'-'+\n",
    "            str(t2.astype(object).year)+\n",
    "            '.pdf')\n",
    "    \n",
    "    plt.figure()\n",
    "    plt.scatter(x/1000,y/1000,6,t,cmap='plasma')\n",
    "    plt.gca().axis('equal')\n",
    "    plt.xlabel('distance east [km]')\n",
    "    plt.ylabel('distance north [km]')\n",
    "    plt.title(str(t1)+' - '+str(t2))\n",
    "    \n",
    "    plt.figure()\n",
    "    plt.hist2d(df['u'][ii],df['v'][ii],bins=50,cmap='gist_heat_r');\n",
    "    plt.colorbar();\n",
    "    plt.xlabel('eastward velocity [m/s]')\n",
    "    plt.xlabel('northward velocity [m/s]')    \n",
    "    plt.title(str(t1)+' - '+str(t2))\n",
    "    xl = plt.xlim()\n",
    "    yl = plt.ylim()\n",
    "    plt.hlines(0,2*xl[0],2*xl[1])\n",
    "    plt.vlines(0,2*yl[0],2*yl[1])\n",
    "    plt.xlim(xl)\n",
    "    plt.ylim(yl)\n"
   ]
  },
  {
   "cell_type": "code",
   "execution_count": 10,
   "metadata": {},
   "outputs": [
    {
     "name": "stderr",
     "output_type": "stream",
     "text": [
      "/Users/tomconnolly/programs/anaconda/lib/python3.5/site-packages/matplotlib/pyplot.py:537: RuntimeWarning: More than 20 figures have been opened. Figures created through the pyplot interface (`matplotlib.pyplot.figure`) are retained until explicitly closed and may consume too much memory. (To control this warning, see the rcParam `figure.max_open_warning`).\n",
      "  max_open_warning, RuntimeWarning)\n"
     ]
    },
    {
     "data": {
      "application/vnd.jupyter.widget-view+json": {
       "model_id": "e2ac8cd0623943a094a0427cb0e93999",
       "version_major": 2,
       "version_minor": 0
      },
      "text/plain": [
       "FigureCanvasNbAgg()"
      ]
     },
     "metadata": {},
     "output_type": "display_data"
    },
    {
     "data": {
      "application/vnd.jupyter.widget-view+json": {
       "model_id": "84c702ee3a16486a960a6ee4145ed70e",
       "version_major": 2,
       "version_minor": 0
      },
      "text/plain": [
       "FigureCanvasNbAgg()"
      ]
     },
     "metadata": {},
     "output_type": "display_data"
    },
    {
     "data": {
      "application/vnd.jupyter.widget-view+json": {
       "model_id": "2f671cd879a442709859580c51126f54",
       "version_major": 2,
       "version_minor": 0
      },
      "text/plain": [
       "FigureCanvasNbAgg()"
      ]
     },
     "metadata": {},
     "output_type": "display_data"
    }
   ],
   "source": [
    "for t1,t2 in zip(t1_list,t2_list):\n",
    "    \n",
    "    # find data in time period\n",
    "    ii, = np.where((df.index >= t1) & (df.index <= t2))\n",
    "    \n",
    "    # cumulative integral using trapezoidal rule\n",
    "    x = np.cumsum(0.5*(df['u'][ii][:-1]+df['u'][ii][1:])\n",
    "                  *dt[ii],axis=0)\n",
    "    y = np.cumsum(0.5*(df['v'][ii][:-1]+df['v'][ii][1:])\n",
    "                  *dt[ii],axis=0)\n",
    "    t = np.cumsum(0.5*(df['unix_time'][ii][:-1]+df['unix_time'][ii][1:])\n",
    "                  *dt[ii],axis=0)\n",
    "           \n",
    "    # plot progressive vector diagram\n",
    "    plt.figure(figsize=(5,5))\n",
    "    plt.plot(x/1000,y/1000,'k-')\n",
    "    plt.plot(0,0,'o',color='gray')\n",
    "    plt.gca().axis('equal')    \n",
    "    plt.xlim([-140,50])\n",
    "    plt.xticks(np.arange(-150,75,50))\n",
    "    plt.ylim([-140,80])\n",
    "    plt.yticks(np.arange(-150,75,50))\n",
    "    plt.xlabel('distance east [km]')\n",
    "    plt.ylabel('distance north [km]')\n",
    "    plt.title(str(t1)+' - '+str(t2))\n",
    "    plt.tight_layout()\n",
    "    plt.savefig('figures/progressive_vector_'+\n",
    "                str(t1.astype(object).year)+'-'+\n",
    "                str(t2.astype(object).year)+\n",
    "                '.pdf')"
   ]
  },
  {
   "cell_type": "code",
   "execution_count": 13,
   "metadata": {},
   "outputs": [
    {
     "name": "stderr",
     "output_type": "stream",
     "text": [
      "/Users/tomconnolly/programs/anaconda/lib/python3.5/site-packages/matplotlib/pyplot.py:537: RuntimeWarning: More than 20 figures have been opened. Figures created through the pyplot interface (`matplotlib.pyplot.figure`) are retained until explicitly closed and may consume too much memory. (To control this warning, see the rcParam `figure.max_open_warning`).\n",
      "  max_open_warning, RuntimeWarning)\n"
     ]
    },
    {
     "data": {
      "application/vnd.jupyter.widget-view+json": {
       "model_id": "21f51992a7244b49ae674f77a3554aa2",
       "version_major": 2,
       "version_minor": 0
      },
      "text/plain": [
       "FigureCanvasNbAgg()"
      ]
     },
     "metadata": {},
     "output_type": "display_data"
    },
    {
     "name": "stdout",
     "output_type": "stream",
     "text": [
      "2014-10-16 - 2015-06-17\n",
      "as-the-crow-flies 162.8  km\n",
      "total 374.6  km\n",
      "2015-11-10 - 2016-11-08\n",
      "as-the-crow-flies 14.81  km\n",
      "total 633.5  km\n",
      "2016-11-14 - 2017-11-09\n",
      "as-the-crow-flies 56.74  km\n",
      "total 677.3  km\n"
     ]
    }
   ],
   "source": [
    "plt.figure(figsize=(5.5,5))\n",
    "\n",
    "color_list = ['k','dimgray','lightgray']\n",
    "leg_list = []\n",
    "i = 0\n",
    "for t1,t2 in zip(t1_list,t2_list):\n",
    "    \n",
    "    # find data in time period\n",
    "    ii, = np.where((df.index >= t1) & (df.index <= t2))\n",
    "    \n",
    "    speed = np.sqrt(df['u']**2 + df['v']**2)\n",
    "    \n",
    "    # cumulative integral using trapezoidal rule\n",
    "    x = np.cumsum(0.5*(df['u'][ii][:-1]+df['u'][ii][1:])\n",
    "                  *dt[ii],axis=0)\n",
    "    y = np.cumsum(0.5*(df['v'][ii][:-1]+df['v'][ii][1:])\n",
    "                  *dt[ii],axis=0)\n",
    "    t = np.cumsum(0.5*(df['unix_time'][ii][:-1]+df['unix_time'][ii][1:])\n",
    "                  *dt[ii],axis=0)\n",
    "    \n",
    "    d = np.cumsum(0.5*(speed[ii][:-1]+speed[ii][1:])\n",
    "                  *dt[ii],axis=0)    \n",
    "    \n",
    "    leg_list.append(pd.to_datetime(t1).strftime('%Y %b %d')\n",
    "                    + ' - '\n",
    "                    + pd.to_datetime(t2).strftime('%Y %b %d'))\n",
    "    \n",
    "    # plot progressive vector diagram\n",
    "    plt.plot(x/1000,y/1000,'-',color=color_list[i])\n",
    "    plt.gca().axis('equal')    \n",
    "    plt.xlim([-140,50])\n",
    "    plt.xticks(np.arange(-150,75,50))\n",
    "    plt.ylim([-140,80])\n",
    "    plt.yticks(np.arange(-150,75,50))\n",
    "    plt.xlabel('distance east [km]')\n",
    "    plt.ylabel('distance north [km]')\n",
    "    \n",
    "    fi, = np.where(np.isfinite(x))\n",
    "    \n",
    "    dist_net = np.sqrt(x[fi[-1]]**2 + y[fi[-1]]**2)\n",
    "    dist_total = d[fi[-1]]\n",
    "    print(str(t1)+' - '+str(t2))\n",
    "    print('as-the-crow-flies',str(dist_net/1000)[:5],' km')\n",
    "    print('total',str(dist_total/1000)[:5],' km')\n",
    "    \n",
    "    i = i + 1\n",
    "  \n",
    "plt.plot(0,0,'o',color='dimgray')\n",
    "plt.legend(leg_list,loc='lower right')\n",
    "plt.tight_layout()\n",
    "plt.savefig('figures/progressive_vector_all.pdf')"
   ]
  },
  {
   "cell_type": "code",
   "execution_count": 12,
   "metadata": {},
   "outputs": [
    {
     "data": {
      "text/plain": [
       "Date_time_R\n",
       "2016-11-14 01:02:52             NaN\n",
       "2016-11-14 02:05:56    4.685754e+12\n",
       "2016-11-14 02:58:44    1.048971e+13\n",
       "2016-11-14 04:04:08    1.608661e+13\n",
       "2016-11-14 05:07:12    2.077240e+13\n",
       "2016-11-14 06:00:00    2.483106e+13\n",
       "2016-11-14 06:45:44    3.105366e+13\n",
       "2016-11-14 07:55:51    3.685917e+13\n",
       "2016-11-14 09:01:16    4.091786e+13\n",
       "2016-11-14 09:47:00    4.672339e+13\n",
       "2016-11-14 10:52:25    5.296824e+13\n",
       "2016-11-14 12:02:47    5.765411e+13\n",
       "2016-11-14 12:55:35    6.345820e+13\n",
       "2016-11-14 14:00:59    6.905524e+13\n",
       "2016-11-14 15:04:03    7.401774e+13\n",
       "2016-11-14 15:59:58    7.835162e+13\n",
       "2016-11-14 16:48:48    8.415725e+13\n",
       "2016-11-14 17:54:13    9.038150e+13\n",
       "2016-11-14 19:04:21    9.444029e+13\n",
       "2016-11-14 19:50:05    1.002445e+14\n",
       "2016-11-14 20:55:29    1.058416e+14\n",
       "2016-11-14 21:58:33    1.105291e+14\n",
       "2016-11-14 22:51:22    1.163333e+14\n",
       "2016-11-14 23:56:46    1.219305e+14\n",
       "2016-11-15 00:59:50    1.274478e+14\n",
       "2016-11-15 02:02:00    1.325051e+14\n",
       "2016-11-15 02:58:59    1.376778e+14\n",
       "2016-11-15 03:57:16    1.432661e+14\n",
       "2016-11-15 05:00:14    1.484374e+14\n",
       "2016-11-15 05:58:30    1.543083e+14\n",
       "                           ...     \n",
       "2017-11-07 17:51:28    4.523524e+16\n",
       "2017-11-07 18:54:31    4.524002e+16\n",
       "2017-11-07 19:47:17    4.524594e+16\n",
       "2017-11-07 20:52:40    4.525166e+16\n",
       "2017-11-07 21:55:44    4.525737e+16\n",
       "2017-11-07 22:58:47    4.526329e+16\n",
       "2017-11-08 00:04:11    4.526744e+16\n",
       "2017-11-08 00:49:55    4.527379e+16\n",
       "2017-11-08 02:00:02    4.527972e+16\n",
       "2017-11-08 03:05:27    4.528386e+16\n",
       "2017-11-08 03:51:11    4.528979e+16\n",
       "2017-11-08 04:56:35    4.529614e+16\n",
       "2017-11-08 06:06:42    4.530028e+16\n",
       "2017-11-08 06:52:26    4.530621e+16\n",
       "2017-11-08 07:57:50    4.531192e+16\n",
       "2017-11-08 09:00:54    4.531764e+16\n",
       "2017-11-08 10:03:57    4.532356e+16\n",
       "2017-11-08 11:09:21    4.532835e+16\n",
       "2017-11-08 12:02:09    4.533406e+16\n",
       "2017-11-08 13:05:12    4.533999e+16\n",
       "2017-11-08 14:10:36    4.534413e+16\n",
       "2017-11-08 14:56:20    4.535006e+16\n",
       "2017-11-08 16:01:44    4.535479e+16\n",
       "2017-11-08 16:54:01             NaN\n",
       "2017-11-08 19:07:32    4.536072e+16\n",
       "2017-11-08 20:12:57    4.536486e+16\n",
       "2017-11-08 20:58:41    4.537122e+16\n",
       "2017-11-08 22:08:48    4.537715e+16\n",
       "2017-11-08 23:14:13    4.538129e+16\n",
       "2017-11-08 23:59:57             NaN\n",
       "Name: unix_time, Length: 8543, dtype: float64"
      ]
     },
     "execution_count": 12,
     "metadata": {},
     "output_type": "execute_result"
    }
   ],
   "source": [
    "t"
   ]
  },
  {
   "cell_type": "code",
   "execution_count": null,
   "metadata": {},
   "outputs": [],
   "source": []
  },
  {
   "cell_type": "code",
   "execution_count": null,
   "metadata": {},
   "outputs": [],
   "source": []
  },
  {
   "cell_type": "code",
   "execution_count": null,
   "metadata": {},
   "outputs": [],
   "source": []
  }
 ],
 "metadata": {
  "kernelspec": {
   "display_name": "Python [default]",
   "language": "python",
   "name": "python3"
  },
  "language_info": {
   "codemirror_mode": {
    "name": "ipython",
    "version": 3
   },
   "file_extension": ".py",
   "mimetype": "text/x-python",
   "name": "python",
   "nbconvert_exporter": "python",
   "pygments_lexer": "ipython3",
   "version": "3.5.5"
  }
 },
 "nbformat": 4,
 "nbformat_minor": 2
}
