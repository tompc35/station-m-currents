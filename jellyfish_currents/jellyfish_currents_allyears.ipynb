{
 "cells": [
  {
   "cell_type": "code",
   "execution_count": 1,
   "metadata": {},
   "outputs": [],
   "source": [
    "%matplotlib ipympl\n",
    "import pandas as pd\n",
    "import numpy as np\n",
    "import matplotlib.pyplot as plt"
   ]
  },
  {
   "cell_type": "markdown",
   "metadata": {},
   "source": [
    "### Load data"
   ]
  },
  {
   "cell_type": "code",
   "execution_count": 2,
   "metadata": {},
   "outputs": [],
   "source": [
    "# Load data\n",
    "csv_file = '../data/Rover_II_Current_Mag_Hourly_Avg_pad_2018.csv'\n",
    "df = pd.read_csv(csv_file,parse_dates=[7])\n",
    "\n",
    "# Datetime index\n",
    "df = df.set_index('Date_time_R')\n",
    "\n",
    "# Create u and v components with units m/s\n",
    "df['u'] = df['Easting (cm/sec)']/100\n",
    "df['v'] = df['Northing (cm/sec)']/100"
   ]
  },
  {
   "cell_type": "markdown",
   "metadata": {},
   "source": [
    "### Start and end times for calculations\n",
    "\n",
    "Show start and end times for each deployment\n",
    "\n",
    "Time period of interest: 14 October 2014 to 13 Nov 2017"
   ]
  },
  {
   "cell_type": "code",
   "execution_count": 3,
   "metadata": {},
   "outputs": [
    {
     "data": {
      "application/vnd.jupyter.widget-view+json": {
       "model_id": "65ea303e34db46fe9953e0d4a94cdada",
       "version_major": 2,
       "version_minor": 0
      },
      "text/plain": [
       "FigureCanvasNbAgg()"
      ]
     },
     "metadata": {},
     "output_type": "display_data"
    },
    {
     "data": {
      "text/plain": [
       "<matplotlib.lines.Line2D at 0x106007d30>"
      ]
     },
     "execution_count": 3,
     "metadata": {},
     "output_type": "execute_result"
    }
   ],
   "source": [
    "t1_list = [np.datetime64('2014-10-16'),\n",
    "           np.datetime64('2015-11-10'),\n",
    "           np.datetime64('2016-11-14'),\n",
    "           np.datetime64('2017-11-13')]\n",
    "\n",
    "t2_list = [np.datetime64('2015-06-17'),\n",
    "           np.datetime64('2016-11-08'),\n",
    "           np.datetime64('2017-11-09'),\n",
    "           np.datetime64('2018-10-17')]\n",
    "\n",
    "plt.figure(figsize=(7.5,8))\n",
    "plt.subplot(211)\n",
    "plt.plot(df.index,df['u'])\n",
    "# plt.xlim([t1_list[0]-np.timedelta64(3,'D'),\n",
    "#           t2_list[-1]+np.timedelta64(3,'D')])\n",
    "yl = plt.ylim()\n",
    "\n",
    "for t1,t2 in zip(t1_list,t2_list):\n",
    "    plt.plot([t1,t1],yl,'g')\n",
    "    plt.plot([t2,t2],yl,'r')\n",
    "    \n",
    "plt.ylim(yl)\n",
    "plt.title('eastward velocity')\n",
    "plt.ylabel('[m/s]')\n",
    "plt.axhline(0,linestyle='--',color='k')\n",
    "\n",
    "plt.subplot(212)\n",
    "plt.plot(df.index,df['v'])\n",
    "# plt.xlim([t1_list[0]-np.timedelta64(3,'D'),\n",
    "#           t2_list[-1]+np.timedelta64(3,'D')])\n",
    "yl = plt.ylim()\n",
    "\n",
    "for t1,t2 in zip(t1_list,t2_list):\n",
    "    plt.plot([t1,t1],yl,'g')\n",
    "    plt.plot([t2,t2],yl,'r')\n",
    "    \n",
    "plt.ylim(yl)\n",
    "plt.title('northward velocity')\n",
    "plt.ylabel('[m/s]')\n",
    "plt.axhline(0,linestyle='--',color='k')"
   ]
  },
  {
   "cell_type": "markdown",
   "metadata": {},
   "source": [
    "### Progressive vector diagrams\n",
    "\n",
    "For each deployment, two plots are shown:\n",
    "* A simple trajectory plot, with the starting point\n",
    "* A trajectory plot colored by time"
   ]
  },
  {
   "cell_type": "code",
   "execution_count": 4,
   "metadata": {},
   "outputs": [
    {
     "data": {
      "application/vnd.jupyter.widget-view+json": {
       "model_id": "ec98963f6c9b4de2af24893a29e5fe87",
       "version_major": 2,
       "version_minor": 0
      },
      "text/plain": [
       "FigureCanvasNbAgg()"
      ]
     },
     "metadata": {},
     "output_type": "display_data"
    },
    {
     "data": {
      "application/vnd.jupyter.widget-view+json": {
       "model_id": "fb131f610f4e42b8aee2b2cfd069757f",
       "version_major": 2,
       "version_minor": 0
      },
      "text/plain": [
       "FigureCanvasNbAgg()"
      ]
     },
     "metadata": {},
     "output_type": "display_data"
    },
    {
     "data": {
      "application/vnd.jupyter.widget-view+json": {
       "model_id": "aac06cf3033041e9ba1222270000666c",
       "version_major": 2,
       "version_minor": 0
      },
      "text/plain": [
       "FigureCanvasNbAgg()"
      ]
     },
     "metadata": {},
     "output_type": "display_data"
    },
    {
     "data": {
      "application/vnd.jupyter.widget-view+json": {
       "model_id": "e53bdb0827c345aca8ac5e090182d135",
       "version_major": 2,
       "version_minor": 0
      },
      "text/plain": [
       "FigureCanvasNbAgg()"
      ]
     },
     "metadata": {},
     "output_type": "display_data"
    },
    {
     "data": {
      "application/vnd.jupyter.widget-view+json": {
       "model_id": "2ccefc94019247b0ac636bb3b2d62d9f",
       "version_major": 2,
       "version_minor": 0
      },
      "text/plain": [
       "FigureCanvasNbAgg()"
      ]
     },
     "metadata": {},
     "output_type": "display_data"
    },
    {
     "data": {
      "application/vnd.jupyter.widget-view+json": {
       "model_id": "d97e0bf8fad0407cbb3faf75ba7bda0a",
       "version_major": 2,
       "version_minor": 0
      },
      "text/plain": [
       "FigureCanvasNbAgg()"
      ]
     },
     "metadata": {},
     "output_type": "display_data"
    },
    {
     "data": {
      "application/vnd.jupyter.widget-view+json": {
       "model_id": "151f38016f234912a3d1e936ab714d8f",
       "version_major": 2,
       "version_minor": 0
      },
      "text/plain": [
       "FigureCanvasNbAgg()"
      ]
     },
     "metadata": {},
     "output_type": "display_data"
    },
    {
     "data": {
      "application/vnd.jupyter.widget-view+json": {
       "model_id": "cefbe5d4787745c79e2fad95fcdcec3e",
       "version_major": 2,
       "version_minor": 0
      },
      "text/plain": [
       "FigureCanvasNbAgg()"
      ]
     },
     "metadata": {},
     "output_type": "display_data"
    },
    {
     "data": {
      "application/vnd.jupyter.widget-view+json": {
       "model_id": "01c7f8cab70f45278181ab4f10d0e7ad",
       "version_major": 2,
       "version_minor": 0
      },
      "text/plain": [
       "FigureCanvasNbAgg()"
      ]
     },
     "metadata": {},
     "output_type": "display_data"
    },
    {
     "data": {
      "application/vnd.jupyter.widget-view+json": {
       "model_id": "5f6eadd054854ba4816322e38868cbb7",
       "version_major": 2,
       "version_minor": 0
      },
      "text/plain": [
       "FigureCanvasNbAgg()"
      ]
     },
     "metadata": {},
     "output_type": "display_data"
    },
    {
     "data": {
      "application/vnd.jupyter.widget-view+json": {
       "model_id": "00d83f054adc428d8f221b876c3e040f",
       "version_major": 2,
       "version_minor": 0
      },
      "text/plain": [
       "FigureCanvasNbAgg()"
      ]
     },
     "metadata": {},
     "output_type": "display_data"
    },
    {
     "data": {
      "application/vnd.jupyter.widget-view+json": {
       "model_id": "55b0365d720e483fa9806d05ff37f19a",
       "version_major": 2,
       "version_minor": 0
      },
      "text/plain": [
       "FigureCanvasNbAgg()"
      ]
     },
     "metadata": {},
     "output_type": "display_data"
    }
   ],
   "source": [
    "# time between each sample (in seconds)\n",
    "dt = np.diff(df.index)/np.timedelta64(1,'s')\n",
    "\n",
    "# unix time\n",
    "df['unix_time'] =  (df.index - pd.Timestamp('1970-01-01 00:00:00'))/np.timedelta64(1,'s')\n",
    "\n",
    "# loop through each time period\n",
    "for t1,t2 in zip(t1_list,t2_list):\n",
    "    \n",
    "    # find data in time period\n",
    "    ii, = np.where((df.index >= t1) & (df.index <= t2))\n",
    "    \n",
    "    u = np.array(df['u'])\n",
    "    v = np.array(df['v'])\n",
    "    \n",
    "    fi, = np.where((np.isfinite(u[ii][:-1]+u[ii][1:])) & \n",
    "                   (np.isfinite(v[ii][:-1]+v[ii][1:])) &\n",
    "                   (np.isfinite(dt[ii][:-1])))\n",
    "    \n",
    "    # cumulative integral using trapezoidal rule\n",
    "    x = np.cumsum((0.5*(u[ii][:-1]+u[ii][1:])\n",
    "                  *dt[ii][:-1])[fi],axis=0)\n",
    "    y = np.cumsum((0.5*(v[ii][:-1]+v[ii][1:])\n",
    "                  *dt[ii][:-1])[fi],axis=0)\n",
    "    t = np.cumsum((dt[ii][:-1])[fi],axis=0)\n",
    "           \n",
    "    # plot progressive vector diagram\n",
    "    plt.figure()\n",
    "    plt.plot(x/1000,y/1000)\n",
    "    plt.plot(0,0,'go')\n",
    "    plt.gca().axis('equal')\n",
    "    plt.xlabel('distance east [km]')\n",
    "    plt.ylabel('distance north [km]')\n",
    "    plt.title(str(t1)+' - '+str(t2))\n",
    "    plt.savefig('figures/progressive_vector_original_'+\n",
    "            str(t1.astype(object).year)+'-'+\n",
    "            str(t2.astype(object).year)+\n",
    "            '.pdf')\n",
    "    \n",
    "    plt.figure()\n",
    "    plt.scatter(x/1000,y/1000,6,t,cmap='plasma')\n",
    "    plt.gca().axis('equal')\n",
    "    plt.xlabel('distance east [km]')\n",
    "    plt.ylabel('distance north [km]')\n",
    "    plt.title(str(t1)+' - '+str(t2))\n",
    "    \n",
    "    plt.figure()\n",
    "    plt.hist2d(df['u'][ii],df['v'][ii],bins=50,cmap='gist_heat_r');\n",
    "    plt.colorbar();\n",
    "    plt.xlabel('eastward velocity [m/s]')\n",
    "    plt.xlabel('northward velocity [m/s]')    \n",
    "    plt.title(str(t1)+' - '+str(t2))\n",
    "    xl = plt.xlim()\n",
    "    yl = plt.ylim()\n",
    "    plt.hlines(0,2*xl[0],2*xl[1])\n",
    "    plt.vlines(0,2*yl[0],2*yl[1])\n",
    "    plt.xlim(xl)\n",
    "    plt.ylim(yl)\n"
   ]
  },
  {
   "cell_type": "code",
   "execution_count": 5,
   "metadata": {},
   "outputs": [
    {
     "data": {
      "application/vnd.jupyter.widget-view+json": {
       "model_id": "ef2638859b82430a8007d81586500ede",
       "version_major": 2,
       "version_minor": 0
      },
      "text/plain": [
       "FigureCanvasNbAgg()"
      ]
     },
     "metadata": {},
     "output_type": "display_data"
    },
    {
     "data": {
      "application/vnd.jupyter.widget-view+json": {
       "model_id": "d679e335293045df8ccb0ed592068223",
       "version_major": 2,
       "version_minor": 0
      },
      "text/plain": [
       "FigureCanvasNbAgg()"
      ]
     },
     "metadata": {},
     "output_type": "display_data"
    },
    {
     "data": {
      "application/vnd.jupyter.widget-view+json": {
       "model_id": "c693f07ac2aa4934a9d29381deb8301c",
       "version_major": 2,
       "version_minor": 0
      },
      "text/plain": [
       "FigureCanvasNbAgg()"
      ]
     },
     "metadata": {},
     "output_type": "display_data"
    },
    {
     "data": {
      "application/vnd.jupyter.widget-view+json": {
       "model_id": "098cf496354a4bbeba1f813c10fa6cce",
       "version_major": 2,
       "version_minor": 0
      },
      "text/plain": [
       "FigureCanvasNbAgg()"
      ]
     },
     "metadata": {},
     "output_type": "display_data"
    }
   ],
   "source": [
    "for t1,t2 in zip(t1_list,t2_list):\n",
    "    \n",
    "    # find data in time period\n",
    "    ii, = np.where((df.index >= t1) & (df.index <= t2))\n",
    "    \n",
    "    # cumulative integral using trapezoidal rule\n",
    "    x = np.cumsum(0.5*(df['u'][ii][:-1]+df['u'][ii][1:])\n",
    "                  *dt[ii],axis=0)\n",
    "    y = np.cumsum(0.5*(df['v'][ii][:-1]+df['v'][ii][1:])\n",
    "                  *dt[ii],axis=0)\n",
    "    t = np.cumsum(dt[ii],axis=0)\n",
    "           \n",
    "    # plot progressive vector diagram\n",
    "    plt.figure(figsize=(5,5))\n",
    "    plt.plot(x/1000,y/1000,'k-')\n",
    "    plt.plot(0,0,'o',color='gray')\n",
    "    plt.gca().axis('equal')    \n",
    "    plt.xlim([-140,50])\n",
    "    plt.xticks(np.arange(-150,75,50))\n",
    "    plt.ylim([-140,80])\n",
    "    plt.yticks(np.arange(-150,75,50))\n",
    "    plt.xlabel('distance east [km]')\n",
    "    plt.ylabel('distance north [km]')\n",
    "    plt.title(str(t1)+' - '+str(t2))\n",
    "    plt.tight_layout()\n",
    "    plt.savefig('figures/progressive_vector_'+\n",
    "                str(t1.astype(object).year)+'-'+\n",
    "                str(t2.astype(object).year)+\n",
    "                '.pdf')"
   ]
  },
  {
   "cell_type": "code",
   "execution_count": null,
   "metadata": {},
   "outputs": [],
   "source": []
  }
 ],
 "metadata": {
  "kernelspec": {
   "display_name": "Python [default]",
   "language": "python",
   "name": "python3"
  },
  "language_info": {
   "codemirror_mode": {
    "name": "ipython",
    "version": 3
   },
   "file_extension": ".py",
   "mimetype": "text/x-python",
   "name": "python",
   "nbconvert_exporter": "python",
   "pygments_lexer": "ipython3",
   "version": "3.5.5"
  }
 },
 "nbformat": 4,
 "nbformat_minor": 2
}
