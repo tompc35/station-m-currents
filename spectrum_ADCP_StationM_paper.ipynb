{
 "cells": [
  {
   "cell_type": "code",
   "execution_count": 1,
   "metadata": {
    "collapsed": true
   },
   "outputs": [],
   "source": [
    "%matplotlib ipympl\n",
    "\n",
    "import os\n",
    "import numpy as np\n",
    "import xarray as xr\n",
    "import matplotlib.pyplot as plt\n",
    "from scipy.stats import chi2\n",
    "from scipy.integrate import cumtrapz\n",
    "from scipy.signal import welch, periodogram\n",
    "import physoce.tseries as ts\n",
    "import gsw\n",
    "import gm"
   ]
  },
  {
   "cell_type": "code",
   "execution_count": 2,
   "metadata": {
    "collapsed": true
   },
   "outputs": [],
   "source": [
    "ds = xr.open_dataset('data/MBARI_StationM_ADCP_201711_201811.nc')"
   ]
  },
  {
   "cell_type": "code",
   "execution_count": 3,
   "metadata": {},
   "outputs": [
    {
     "data": {
      "text/plain": [
       "<xarray.Dataset>\n",
       "Dimensions:    (beam: 4, bin: 23, time: 98208)\n",
       "Coordinates:\n",
       "  * time       (time) datetime64[ns] 2017-11-10T10:03:13.760000 ... 2018-10-17T09:58:13.720000\n",
       "Dimensions without coordinates: beam, bin\n",
       "Data variables:\n",
       "    Pit        (time) float64 ...\n",
       "    Rol        (time) float64 ...\n",
       "    Hea        (time) float64 ...\n",
       "    Tem        (time) float64 ...\n",
       "    Dep        (time) float64 ...\n",
       "    Ori        (time) int64 ...\n",
       "    BIT        (time) int64 ...\n",
       "    Bat        (time) int64 ...\n",
       "    Eas        (time, bin) float64 ...\n",
       "    Nor        (time, bin) float64 ...\n",
       "    Ver        (time, bin) float64 ...\n",
       "    Err        (time, bin) float64 ...\n",
       "    EA         (time, bin, beam) float64 ...\n",
       "    PG         (time, bin, beam) float64 ...\n",
       "    C          (time, bin, beam) float64 ...\n",
       "    binheight  (bin) float64 ...\n",
       "    Eas_tide   (time, bin) float64 ...\n",
       "    Nor_tide   (time, bin) float64 ...\n",
       "    Eas_filt   (time, bin) float64 ...\n",
       "    Nor_filt   (time, bin) float64 ...\n",
       "Attributes:\n",
       "    PingsPerEns:          50\n",
       "    TimePerPing:          00:00.20\n",
       "    First Ensemble Date:  17/11/10\n",
       "    First Ensemble Time:  06:43:13.76\n",
       "    Ensemble Interval:    87.19\n",
       "    1st Bin Range:        2.14\n",
       "    Bin Size:             1.0\n",
       "    RDI binary file:      C:\\Users\\PHYSOCE\\Documents\\data\\MBARI_StationM_ADCP...\n",
       "    Instrument:           Broadband 614.4 kHz"
      ]
     },
     "execution_count": 3,
     "metadata": {},
     "output_type": "execute_result"
    }
   ],
   "source": [
    "ds"
   ]
  },
  {
   "cell_type": "code",
   "execution_count": 4,
   "metadata": {},
   "outputs": [
    {
     "data": {
      "text/plain": [
       "<xarray.DataArray 'time' (time: 98208)>\n",
       "array(['2017-11-10T10:03:13.760000000', '2017-11-10T10:08:13.760000000',\n",
       "       '2017-11-10T10:13:13.760000000', ..., '2018-10-17T09:48:13.720000000',\n",
       "       '2018-10-17T09:53:13.720000000', '2018-10-17T09:58:13.720000000'],\n",
       "      dtype='datetime64[ns]')\n",
       "Coordinates:\n",
       "  * time     (time) datetime64[ns] 2017-11-10T10:03:13.760000 ... 2018-10-17T09:58:13.720000"
      ]
     },
     "execution_count": 4,
     "metadata": {},
     "output_type": "execute_result"
    }
   ],
   "source": [
    "ds['time']"
   ]
  },
  {
   "cell_type": "code",
   "execution_count": 5,
   "metadata": {},
   "outputs": [
    {
     "name": "stderr",
     "output_type": "stream",
     "text": [
      "/Users/tomconnolly/programs/anaconda/envs/py37/lib/python3.7/site-packages/scipy/signal/signaltools.py:491: FutureWarning: Using a non-tuple sequence for multidimensional indexing is deprecated; use `arr[tuple(seq)]` instead of `arr[seq]`. In the future this will be interpreted as an array index, `arr[np.array(seq)]`, which will result either in an error or a different result.\n",
      "  return x[reverse].conj()\n",
      "/Users/tomconnolly/programs/anaconda/envs/py37/lib/python3.7/site-packages/scipy/signal/signaltools.py:251: FutureWarning: Using a non-tuple sequence for multidimensional indexing is deprecated; use `arr[tuple(seq)]` instead of `arr[seq]`. In the future this will be interpreted as an array index, `arr[np.array(seq)]`, which will result either in an error or a different result.\n",
      "  in1zpadded[sc] = in1.copy()\n"
     ]
    }
   ],
   "source": [
    "T_f_hrs = 1/(gsw.f(35+8.4585/60)/(2*np.pi))/3600\n",
    "\n",
    "Nor_bpf = ts.pl64(np.array(ds['Nor']),dt=1/12,T=T_f_hrs/0.95) - ts.pl64(np.array(ds['Nor']),dt=1/12,T=T_f_hrs/1.15)\n",
    "ds['Nor_bpf'] = (('time','bin'),Nor_bpf)\n",
    "Eas_bpf = ts.pl64(np.array(ds['Eas']),dt=1/12,T=T_f_hrs/0.95) - ts.pl64(np.array(ds['Eas']),dt=1/12,T=T_f_hrs/1.15) \n",
    "ds['Eas_bpf'] = (('time','bin'),Eas_bpf)"
   ]
  },
  {
   "cell_type": "code",
   "execution_count": 6,
   "metadata": {},
   "outputs": [
    {
     "data": {
      "application/vnd.jupyter.widget-view+json": {
       "model_id": "497f1575a7304b618c9f9bd22039dba3",
       "version_major": 2,
       "version_minor": 0
      },
      "text/plain": [
       "FigureCanvasNbAgg()"
      ]
     },
     "metadata": {},
     "output_type": "display_data"
    },
    {
     "data": {
      "application/vnd.jupyter.widget-view+json": {
       "model_id": "8463b1951cc543c6893e9c6424c99748",
       "version_major": 2,
       "version_minor": 0
      },
      "text/plain": [
       "FigureCanvasNbAgg()"
      ]
     },
     "metadata": {},
     "output_type": "display_data"
    },
    {
     "data": {
      "application/vnd.jupyter.widget-view+json": {
       "model_id": "dbbf17d84ca44beaaea2621dd97895c9",
       "version_major": 2,
       "version_minor": 0
      },
      "text/plain": [
       "FigureCanvasNbAgg()"
      ]
     },
     "metadata": {},
     "output_type": "display_data"
    },
    {
     "data": {
      "application/vnd.jupyter.widget-view+json": {
       "model_id": "e37942e002c84f91885f9bd51d749249",
       "version_major": 2,
       "version_minor": 0
      },
      "text/plain": [
       "FigureCanvasNbAgg()"
      ]
     },
     "metadata": {},
     "output_type": "display_data"
    },
    {
     "data": {
      "text/plain": [
       "Text(0, 0.5, 'height above instrument [m]')"
      ]
     },
     "execution_count": 6,
     "metadata": {},
     "output_type": "execute_result"
    }
   ],
   "source": [
    "plt.figure()\n",
    "plt.plot(np.mean(ds['C'],axis=0),ds['binheight'],'-o')\n",
    "plt.title('correlation [128 = high signal/noise]')\n",
    "plt.ylabel('height above instrument [m]')\n",
    "plt.xlim([0,128])\n",
    "\n",
    "plt.figure()\n",
    "plt.plot(np.std(ds['Eas'],axis=0),ds['binheight'],'-o')\n",
    "plt.plot(np.std(ds['Nor'],axis=0),ds['binheight'],'-o')\n",
    "plt.title('std(u,v)')\n",
    "plt.ylabel('height above instrument [m]')\n",
    "\n",
    "plt.figure()\n",
    "plt.plot(np.mean(ds['EA'],axis=0),ds['binheight'],'-o')\n",
    "plt.title('echo amplitude [dB]')\n",
    "plt.ylabel('height above instrument [m]')\n",
    "\n",
    "plt.figure()\n",
    "plt.plot(np.corrcoef(ds['Eas'],rowvar=False)[:,0],ds['binheight'],'-o')\n",
    "plt.plot(np.corrcoef(ds['Nor'],rowvar=False)[:,0],ds['binheight'],'-o')\n",
    "plt.title('correlation with bottom bin')\n",
    "plt.ylabel('height above instrument [m]')"
   ]
  },
  {
   "cell_type": "code",
   "execution_count": 7,
   "metadata": {},
   "outputs": [
    {
     "data": {
      "application/vnd.jupyter.widget-view+json": {
       "model_id": "5f629672805b44c0a47a3c805cc8a364",
       "version_major": 2,
       "version_minor": 0
      },
      "text/plain": [
       "FigureCanvasNbAgg()"
      ]
     },
     "metadata": {},
     "output_type": "display_data"
    },
    {
     "data": {
      "text/plain": [
       "Text(0.5, 0, '[m/s]')"
      ]
     },
     "execution_count": 7,
     "metadata": {},
     "output_type": "execute_result"
    }
   ],
   "source": [
    "bini = np.arange(1,17)\n",
    "\n",
    "plt.figure()\n",
    "plt.plot(np.mean(ds['Eas'][:,bini],axis=0),ds['binheight'][bini],'-o')\n",
    "plt.plot(np.mean(ds['Nor'][:,bini],axis=0),ds['binheight'][bini],'-o')\n",
    "plt.title('mean velocity - entire deployment')\n",
    "plt.legend(['East','North'])\n",
    "plt.ylabel('height above instrument')\n",
    "plt.xlabel('[m/s]')"
   ]
  },
  {
   "cell_type": "code",
   "execution_count": 8,
   "metadata": {
    "collapsed": true
   },
   "outputs": [],
   "source": [
    "dt = 5*60 # 5 min sample interval (in seconds)\n",
    "\n",
    "x = cumtrapz(ds['Eas']*dt,axis=0)\n",
    "y = cumtrapz(ds['Nor']*dt,axis=0)"
   ]
  },
  {
   "cell_type": "code",
   "execution_count": 9,
   "metadata": {},
   "outputs": [
    {
     "data": {
      "application/vnd.jupyter.widget-view+json": {
       "model_id": "3f417f6ad7134d78baf2e119813f206e",
       "version_major": 2,
       "version_minor": 0
      },
      "text/plain": [
       "FigureCanvasNbAgg()"
      ]
     },
     "metadata": {},
     "output_type": "display_data"
    },
    {
     "data": {
      "text/plain": [
       "<matplotlib.legend.Legend at 0x1c34d44e80>"
      ]
     },
     "execution_count": 9,
     "metadata": {},
     "output_type": "execute_result"
    }
   ],
   "source": [
    "plt.figure()\n",
    "plt.plot(x[:,15]/1000,y[:,15]/1000)\n",
    "plt.plot(x[:,7]/1000,y[:,8]/1000)\n",
    "plt.plot(x[:,1]/1000,y[:,1]/1000)\n",
    "plt.plot(0,0,'ko')\n",
    "plt.axis('equal')\n",
    "plt.xlabel('distance east [km]')\n",
    "plt.ylabel('distance north [km]')\n",
    "plt.legend(['Bin 15','Bin 8','Bin 1'])"
   ]
  },
  {
   "cell_type": "code",
   "execution_count": 10,
   "metadata": {},
   "outputs": [
    {
     "data": {
      "application/vnd.jupyter.widget-view+json": {
       "model_id": "f78e8d4da17540ae8dc43ffa0c7400f4",
       "version_major": 2,
       "version_minor": 0
      },
      "text/plain": [
       "FigureCanvasNbAgg()"
      ]
     },
     "metadata": {},
     "output_type": "display_data"
    },
    {
     "data": {
      "application/vnd.jupyter.widget-view+json": {
       "model_id": "c2c678ce3cfb43b3b946781e8746519b",
       "version_major": 2,
       "version_minor": 0
      },
      "text/plain": [
       "FigureCanvasNbAgg()"
      ]
     },
     "metadata": {},
     "output_type": "display_data"
    },
    {
     "data": {
      "text/plain": [
       "Text(0.5, 1.0, 'northward velocity')"
      ]
     },
     "execution_count": 10,
     "metadata": {},
     "output_type": "execute_result"
    }
   ],
   "source": [
    "plt.figure(figsize=(8,4))\n",
    "plt.plot(ds['time'],ds['Eas'][:,15]);\n",
    "plt.plot(ds['time'],ds['Eas'][:,1]);\n",
    "plt.legend(['Bin 15','Bin 1'])\n",
    "plt.ylabel('m/s')\n",
    "plt.title('eastward velocity')\n",
    "\n",
    "plt.figure(figsize=(8,4))\n",
    "plt.plot(ds['time'],ds['Nor'][:,15]);\n",
    "plt.plot(ds['time'],ds['Nor'][:,1]);\n",
    "plt.legend(['Bin 15','Bin 1'])\n",
    "plt.ylabel('m/s')\n",
    "plt.title('northward velocity')"
   ]
  },
  {
   "cell_type": "code",
   "execution_count": 11,
   "metadata": {},
   "outputs": [
    {
     "data": {
      "application/vnd.jupyter.widget-view+json": {
       "model_id": "86226d67e8924ef19a47e7ff3910acdc",
       "version_major": 2,
       "version_minor": 0
      },
      "text/plain": [
       "FigureCanvasNbAgg()"
      ]
     },
     "metadata": {},
     "output_type": "display_data"
    },
    {
     "data": {
      "application/vnd.jupyter.widget-view+json": {
       "model_id": "783511d57d954765908a6ed7a6b5b2dc",
       "version_major": 2,
       "version_minor": 0
      },
      "text/plain": [
       "FigureCanvasNbAgg()"
      ]
     },
     "metadata": {},
     "output_type": "display_data"
    },
    {
     "data": {
      "text/plain": [
       "Text(0.5, 1.0, 'northward velocity')"
      ]
     },
     "execution_count": 11,
     "metadata": {},
     "output_type": "execute_result"
    }
   ],
   "source": [
    "plt.figure(figsize=(8,4))\n",
    "plt.plot(ds['time'],ds['Eas_filt'][:,15]);\n",
    "plt.plot(ds['time'],ds['Eas_filt'][:,1]);\n",
    "plt.legend(['Bin 15','Bin 1'])\n",
    "plt.ylabel('m/s')\n",
    "plt.title('eastward velocity')\n",
    "\n",
    "plt.figure(figsize=(8,4))\n",
    "plt.plot(ds['time'],ds['Nor_filt'][:,15]);\n",
    "plt.plot(ds['time'],ds['Nor_filt'][:,1]);\n",
    "plt.legend(['Bin 15','Bin 1'])\n",
    "plt.ylabel('m/s')\n",
    "plt.title('northward velocity')"
   ]
  },
  {
   "cell_type": "code",
   "execution_count": 12,
   "metadata": {},
   "outputs": [
    {
     "data": {
      "application/vnd.jupyter.widget-view+json": {
       "model_id": "d4120887ef0c4ba090c1ff772194f1a1",
       "version_major": 2,
       "version_minor": 0
      },
      "text/plain": [
       "FigureCanvasNbAgg()"
      ]
     },
     "metadata": {},
     "output_type": "display_data"
    },
    {
     "data": {
      "text/plain": [
       "Text(0.5, 1.0, 'Station M - low pass filtered velocity - bin 15')"
      ]
     },
     "execution_count": 12,
     "metadata": {},
     "output_type": "execute_result"
    }
   ],
   "source": [
    "from graph import stick_plot\n",
    "\n",
    "\n",
    "\n",
    "fig, ax = plt.subplots(figsize=(8, 2.25))\n",
    "\n",
    "q = stick_plot(np.array(ds['time'])[::288],\n",
    "               np.array(ds['Eas_filt'])[::288,15],\n",
    "               np.array(ds['Nor_filt'])[::288,15],\n",
    "               ax=ax,width=0.0015)\n",
    "\n",
    "ref = 0.01\n",
    "qk = plt.quiverkey(q, 0.1, 0.85, ref,\n",
    "                  \"%s m s$^{-1}$\" % ref,\n",
    "                  labelpos='N', coordinates='axes')\n",
    "_ = plt.xticks(rotation=0)\n",
    "\n",
    "plt.title('Station M - low pass filtered velocity - bin 15')"
   ]
  },
  {
   "cell_type": "code",
   "execution_count": 13,
   "metadata": {},
   "outputs": [
    {
     "data": {
      "application/vnd.jupyter.widget-view+json": {
       "model_id": "f454107621324dbb9cfba04558eb91c0",
       "version_major": 2,
       "version_minor": 0
      },
      "text/plain": [
       "FigureCanvasNbAgg()"
      ]
     },
     "metadata": {},
     "output_type": "display_data"
    },
    {
     "data": {
      "text/plain": [
       "Text(0.5, 1.0, 'full velocity, 2018-02-01-2018-02-15, bin 15')"
      ]
     },
     "execution_count": 13,
     "metadata": {},
     "output_type": "execute_result"
    }
   ],
   "source": [
    "t1=np.datetime64('2018-02-01')\n",
    "t2=np.datetime64('2018-02-15')\n",
    "\n",
    "plt.figure(figsize=(8,4))\n",
    "plt.plot(ds['time'],ds['Eas'][:,15]);\n",
    "plt.plot(ds['time'],ds['Nor'][:,15]);\n",
    "plt.ylabel('m/s')\n",
    "plt.xlim([t1,t2])\n",
    "plt.ylim([-0.15,0.15])\n",
    "plt.legend(['East','North'])\n",
    "plt.title('full velocity, '+str(t1)+'-'+str(t2)+', bin 15')"
   ]
  },
  {
   "cell_type": "code",
   "execution_count": 14,
   "metadata": {},
   "outputs": [
    {
     "data": {
      "application/vnd.jupyter.widget-view+json": {
       "model_id": "0fc16625154e4171ae8595e8e79b5b60",
       "version_major": 2,
       "version_minor": 0
      },
      "text/plain": [
       "FigureCanvasNbAgg()"
      ]
     },
     "metadata": {},
     "output_type": "display_data"
    },
    {
     "data": {
      "text/plain": [
       "Text(0.5, 1.0, 'detided velocity, 2018-02-01-2018-02-15, bin 15')"
      ]
     },
     "execution_count": 14,
     "metadata": {},
     "output_type": "execute_result"
    }
   ],
   "source": [
    "t1=np.datetime64('2018-02-01')\n",
    "t2=np.datetime64('2018-02-15')\n",
    "\n",
    "plt.figure(figsize=(8,4))\n",
    "plt.plot(ds['time'],ds['Eas'][:,15]-ds['Eas_tide'][:,15]);\n",
    "plt.plot(ds['time'],ds['Nor'][:,15]-ds['Nor_tide'][:,15]);\n",
    "plt.legend(['Bin 15','Bin 1'])\n",
    "plt.ylabel('m/s')\n",
    "plt.ylim([-0.15,0.15])\n",
    "plt.xlim([t1,t2])\n",
    "plt.legend(['East','North'])\n",
    "plt.title('detided velocity, '+str(t1)+'-'+str(t2)+', bin 15')"
   ]
  },
  {
   "cell_type": "code",
   "execution_count": 15,
   "metadata": {
    "collapsed": true
   },
   "outputs": [],
   "source": [
    "Eas = np.array(ds['Eas'])\n",
    "Nor = np.array(ds['Nor'])\n",
    "Eas_tide = np.array(ds['Eas_tide'])\n",
    "Nor_tide = np.array(ds['Nor_tide'])\n",
    "\n",
    "N = len(Eas)\n",
    "fE,SE = welch(Eas[:,5],fs=288.,nperseg=N/6,window='hanning')\n",
    "fN,SN = welch(Nor[:,5],fs=288.,nperseg=N/6,window='hanning')\n",
    "\n",
    "#rotary spectrum\n",
    "fr,Sr = welch(Eas[:,0]+1j*Nor[:,0],\n",
    "              fs=288.,nperseg=N/6,\n",
    "              window='hann',return_onesided=False)\n",
    "icw, = np.where(fr<0)\n",
    "iccw, = np.where(fr>0)\n",
    "fcw = -fr[icw]\n",
    "Scw = Sr[icw]\n",
    "fccw = fr[iccw]\n",
    "Sccw = Sr[iccw]"
   ]
  },
  {
   "cell_type": "code",
   "execution_count": 16,
   "metadata": {},
   "outputs": [
    {
     "data": {
      "text/plain": [
       "array([1.43982405e+02, 1.43964809e+02, 1.43947214e+02, ...,\n",
       "       5.27859238e-02, 3.51906158e-02, 1.75953079e-02])"
      ]
     },
     "execution_count": 16,
     "metadata": {},
     "output_type": "execute_result"
    }
   ],
   "source": [
    "fcw[1:]"
   ]
  },
  {
   "cell_type": "code",
   "execution_count": 17,
   "metadata": {},
   "outputs": [
    {
     "data": {
      "text/plain": [
       "array([1.43982405e+02, 1.43964809e+02, 1.43947214e+02, ...,\n",
       "       5.27859238e-02, 3.51906158e-02, 1.75953079e-02])"
      ]
     },
     "execution_count": 17,
     "metadata": {},
     "output_type": "execute_result"
    }
   ],
   "source": [
    "fccw[::-1]"
   ]
  },
  {
   "cell_type": "code",
   "execution_count": 18,
   "metadata": {},
   "outputs": [],
   "source": [
    "# rotary coefficient\n",
    "Cr = np.abs(Scw[1:]-Sccw[::-1])/(Scw[1:]+Sccw[::-1])\n",
    "fr = fcw[1:]"
   ]
  },
  {
   "cell_type": "code",
   "execution_count": 19,
   "metadata": {},
   "outputs": [],
   "source": [
    "f_cpd = gsw.f(35+8.4585/60)*86400/(2*np.pi)\n",
    "\n",
    "# theoretical prediction (Van Haren and Millot (2004), eq. 11)\n",
    "sigmar = 2*np.pi*fr\n",
    "Cr_pred = 2*sigmar*(2*np.pi*f_cpd)/(sigmar**2 + (2*np.pi*f_cpd)**2)"
   ]
  },
  {
   "cell_type": "code",
   "execution_count": 20,
   "metadata": {},
   "outputs": [
    {
     "data": {
      "application/vnd.jupyter.widget-view+json": {
       "model_id": "2d640b62878446cb8f63e4d002a0dfe7",
       "version_major": 2,
       "version_minor": 0
      },
      "text/plain": [
       "FigureCanvasNbAgg()"
      ]
     },
     "metadata": {},
     "output_type": "display_data"
    },
    {
     "data": {
      "text/plain": [
       "Text(0.5, 1.0, 'rotary spectra')"
      ]
     },
     "execution_count": 20,
     "metadata": {},
     "output_type": "execute_result"
    }
   ],
   "source": [
    "plt.figure()\n",
    "plt.loglog(fcw,Scw,'k-')\n",
    "plt.loglog(fccw,Sccw,'--',color='gray')\n",
    "plt.legend(['clockwise','counter-clockwise'])\n",
    "plt.xlabel('frequency [cpd]')\n",
    "plt.ylabel('[m$^2$ s$^{-2}$ cpd$^{-1}$]')\n",
    "plt.title('rotary spectra')"
   ]
  },
  {
   "cell_type": "code",
   "execution_count": 57,
   "metadata": {},
   "outputs": [
    {
     "name": "stderr",
     "output_type": "stream",
     "text": [
      "/Users/tomconnolly/programs/anaconda/envs/py37/lib/python3.7/site-packages/matplotlib/pyplot.py:514: RuntimeWarning: More than 20 figures have been opened. Figures created through the pyplot interface (`matplotlib.pyplot.figure`) are retained until explicitly closed and may consume too much memory. (To control this warning, see the rcParam `figure.max_open_warning`).\n",
      "  max_open_warning, RuntimeWarning)\n"
     ]
    },
    {
     "data": {
      "application/vnd.jupyter.widget-view+json": {
       "model_id": "a098813f6fec41c0be7654ad22283a9f",
       "version_major": 2,
       "version_minor": 0
      },
      "text/plain": [
       "FigureCanvasNbAgg()"
      ]
     },
     "metadata": {},
     "output_type": "display_data"
    }
   ],
   "source": [
    "Snoise = 1/(N*(288)/2/6)\n",
    "\n",
    "plt.figure(figsize=(7.1,6))\n",
    "plt.subplot(211)\n",
    "plt.loglog(fcw,Scw,'k-')\n",
    "plt.loglog(fccw,Sccw,'--',color='gray')\n",
    "plt.legend(['CW','CCW'])\n",
    "#plt.xlabel('frequency [cpd]')\n",
    "plt.ylabel('[m$^2$ s$^{-2}$ cpd$^{-1}$]')\n",
    "\n",
    "\n",
    "# confidence intervals\n",
    "dof = 12\n",
    "edof = (8/3)*dof\n",
    "lower = edof/chi2.ppf(0.975,edof)\n",
    "upper = edof/chi2.ppf(0.025,edof)\n",
    "fplot = 15\n",
    "fac = 0.0001\n",
    "plt.plot(np.array([fplot,fplot]),fac*np.array([lower,upper]),'k-')\n",
    "plt.text(fplot+0.5,fac*np.mean([lower,upper]),'95%',verticalalignment='center')\n",
    "\n",
    "# GM79 spectrum\n",
    "f = gsw.f(35+8.4585/60)\n",
    "Nobs = 7.5e-4\n",
    "bfrq_cpd = Nobs * 86400 / (2*np.pi) # observed N (cpd)\n",
    "iwi1, = np.where((fcw > f_cpd) & (fcw < bfrq_cpd))\n",
    "omg = 2*np.pi*fcw[iwi1]/86400\n",
    "N0 = 5.2e-3 \n",
    "b = 1300\n",
    "j = 1\n",
    "                \n",
    "Kgm = gm.K_omg_j(omg, j, f, Nobs, N0, b)\n",
    "#plt.loglog(fcw[iwi1],Kgm,'r')\n",
    "\n",
    "# plot frequencies\n",
    "xl = [0.6,25]\n",
    "yl = plt.ylim()\n",
    "plt.plot([f_cpd,f_cpd],yl,':',color='k')\n",
    "plt.plot([24/25.82,24/25.82],yl,':',color='k')\n",
    "plt.plot([24/23.93,24/23.93],yl,':',color='k')\n",
    "plt.plot([2,2],yl,':',color='k')\n",
    "plt.plot([24/12.42,24/12.42],yl,':',color='k')\n",
    "plt.plot([24/12.42*2,24/12.42*2],yl,':',color='k')\n",
    "plt.plot([bfrq_cpd,bfrq_cpd],yl,':',color='k')\n",
    "plt.ylim(yl)\n",
    "plt.xlim(xl)\n",
    "\n",
    "plt.text(f_cpd,yl[1],'$f$',fontsize=12,\n",
    "         horizontalalignment='center',\n",
    "         verticalalignment='bottom')\n",
    "plt.text(24/12.42,yl[1],'$M_2$',fontsize=12,\n",
    "         horizontalalignment='right',\n",
    "         verticalalignment='bottom')\n",
    "plt.text(24/12.42*2,yl[1],'$2M_2$',fontsize=12,\n",
    "         horizontalalignment='center',\n",
    "         verticalalignment='bottom')\n",
    "plt.text(2,yl[1],'$S_2$',fontsize=12,\n",
    "         horizontalalignment='left',\n",
    "         verticalalignment='bottom')\n",
    "plt.text(24/23.93,yl[1],'$K_1$',fontsize=12,\n",
    "         horizontalalignment='center',\n",
    "         verticalalignment='bottom')\n",
    "plt.text(24/25.82,yl[1],'$O_1$',fontsize=12,\n",
    "         horizontalalignment='right',\n",
    "         verticalalignment='bottom')\n",
    "plt.text(bfrq_cpd,yl[1],'$N$',fontsize=12,\n",
    "         horizontalalignment='center',\n",
    "         verticalalignment='bottom')\n",
    "\n",
    "plt.plot([15,xl[1]],[Snoise,Snoise],'k--')\n",
    "plt.text(xl[1],Snoise-1e-7,'noise ',horizontalalignment='right',verticalalignment='top')\n",
    "\n",
    "iwi, = np.where((fr >= f_cpd) & (fr <= bfrq_cpd))\n",
    "\n",
    "xl = plt.xlim()\n",
    "yl = plt.ylim()\n",
    "plt.text(xl[0]+0.001*np.diff(xl),yl[1]-0.5*np.diff(yl),'a)')\n",
    "\n",
    "plt.subplot(212)\n",
    "plt.semilogx(fr,Cr,'gray')\n",
    "plt.semilogx(fr[iwi],Cr_pred[iwi],'k-',lw=2)\n",
    "yl = plt.ylim()\n",
    "plt.semilogx([f_cpd,f_cpd],yl,'k:')\n",
    "plt.xlabel('frequency [cpd]')\n",
    "plt.ylabel('$C_R$')\n",
    "#plt.title('rotary coefficients')\n",
    "plt.ylim(yl)\n",
    "plt.xlim(xl)\n",
    "plt.ylim([0,1])\n",
    "\n",
    "xl = plt.xlim()\n",
    "yl = plt.ylim()\n",
    "plt.text(xl[0]+0.001*np.diff(xl),yl[1]-0.07*np.diff(yl),'b)')\n",
    "plt.plot([bfrq_cpd,bfrq_cpd],yl,':',color='k')\n",
    "\n",
    "plt.tight_layout()\n",
    "\n",
    "plt.savefig('figures_paper/rotary_spectrum_highfreq.pdf')\n",
    "plt.savefig('figures_paper/rotary_spectrum_highfreq.png')"
   ]
  },
  {
   "cell_type": "code",
   "execution_count": null,
   "metadata": {
    "collapsed": true
   },
   "outputs": [],
   "source": []
  },
  {
   "cell_type": "code",
   "execution_count": 22,
   "metadata": {},
   "outputs": [
    {
     "data": {
      "application/vnd.jupyter.widget-view+json": {
       "model_id": "19e421e2190645cb8f5c0c50ae7e08dd",
       "version_major": 2,
       "version_minor": 0
      },
      "text/plain": [
       "FigureCanvasNbAgg()"
      ]
     },
     "metadata": {},
     "output_type": "display_data"
    },
    {
     "data": {
      "text/plain": [
       "(-0.01632384540970697,\n",
       " 0.016935338900897837,\n",
       " -0.015948528018772588,\n",
       " 0.015739624961456644)"
      ]
     },
     "execution_count": 22,
     "metadata": {},
     "output_type": "execute_result"
    }
   ],
   "source": [
    "plt.figure()\n",
    "plt.plot(ds['Eas_bpf'][:,10],ds['Nor_bpf'][:,10])\n",
    "plt.gca().axis('equal')"
   ]
  },
  {
   "cell_type": "code",
   "execution_count": 23,
   "metadata": {},
   "outputs": [
    {
     "data": {
      "application/vnd.jupyter.widget-view+json": {
       "model_id": "27c1c04e1aaf45f08b108f8cdf9bf6e3",
       "version_major": 2,
       "version_minor": 0
      },
      "text/plain": [
       "FigureCanvasNbAgg()"
      ]
     },
     "metadata": {},
     "output_type": "display_data"
    },
    {
     "data": {
      "text/plain": [
       "[<matplotlib.lines.Line2D at 0x1c3f923358>]"
      ]
     },
     "execution_count": 23,
     "metadata": {},
     "output_type": "execute_result"
    }
   ],
   "source": [
    "plt.figure()\n",
    "plt.plot(ds['time'],ds['Eas_bpf'][:,15])\n",
    "plt.plot(ds['time'],ds['Nor_bpf'][:,15])"
   ]
  },
  {
   "cell_type": "code",
   "execution_count": 24,
   "metadata": {},
   "outputs": [
    {
     "data": {
      "application/vnd.jupyter.widget-view+json": {
       "model_id": "47f2c341b06949279ed53adf48018e9e",
       "version_major": 2,
       "version_minor": 0
      },
      "text/plain": [
       "FigureCanvasNbAgg()"
      ]
     },
     "metadata": {},
     "output_type": "display_data"
    },
    {
     "data": {
      "text/plain": [
       "[<matplotlib.lines.Line2D at 0x1c3f9e58d0>]"
      ]
     },
     "execution_count": 24,
     "metadata": {},
     "output_type": "execute_result"
    }
   ],
   "source": [
    "plt.figure()\n",
    "plt.plot(ds['time'],ds['Eas_bpf'][:,15])\n",
    "plt.plot(ds['time'],ds['Eas_bpf'][:,0])"
   ]
  },
  {
   "cell_type": "code",
   "execution_count": 25,
   "metadata": {},
   "outputs": [],
   "source": [
    "# theoretical prediction (Polzin)\n",
    "ccw_cw_ratio_pred = (sigmar**2 + (2*np.pi*f_cpd)**2)/(sigmar**2 - (2*np.pi*f_cpd)**2)"
   ]
  },
  {
   "cell_type": "code",
   "execution_count": 26,
   "metadata": {},
   "outputs": [],
   "source": [
    "# rotary coefficient\n",
    "ccw_cw_ratio = np.sqrt(Scw[1:]/Sccw[::-1])"
   ]
  },
  {
   "cell_type": "code",
   "execution_count": 27,
   "metadata": {},
   "outputs": [
    {
     "data": {
      "application/vnd.jupyter.widget-view+json": {
       "model_id": "4186ec6d911e436998660d88130c06a5",
       "version_major": 2,
       "version_minor": 0
      },
      "text/plain": [
       "FigureCanvasNbAgg()"
      ]
     },
     "metadata": {},
     "output_type": "display_data"
    },
    {
     "data": {
      "text/plain": [
       "(0, 18.782425509716692)"
      ]
     },
     "execution_count": 27,
     "metadata": {},
     "output_type": "execute_result"
    }
   ],
   "source": [
    "plt.figure()\n",
    "plt.semilogx(fr,ccw_cw_ratio,'gray')\n",
    "plt.semilogx(fr[iwi],ccw_cw_ratio_pred[iwi],'k-',lw=2)\n",
    "yl = plt.ylim()\n",
    "plt.semilogx([f_cpd,f_cpd],yl,'k:')\n",
    "plt.xlabel('frequency [cpd]')\n",
    "plt.ylabel('$C_R$')\n",
    "#plt.title('rotary coefficients')\n",
    "plt.ylim(yl)\n",
    "plt.xlim(xl)\n",
    "plt.ylim([0,np.max(ccw_cw_ratio)])"
   ]
  },
  {
   "cell_type": "code",
   "execution_count": null,
   "metadata": {},
   "outputs": [],
   "source": []
  }
 ],
 "metadata": {
  "anaconda-cloud": {},
  "kernelspec": {
   "display_name": "Python [conda env:py37]",
   "language": "python",
   "name": "conda-env-py37-py"
  },
  "language_info": {
   "codemirror_mode": {
    "name": "ipython",
    "version": 3
   },
   "file_extension": ".py",
   "mimetype": "text/x-python",
   "name": "python",
   "nbconvert_exporter": "python",
   "pygments_lexer": "ipython3",
   "version": "3.7.2"
  }
 },
 "nbformat": 4,
 "nbformat_minor": 2
}
