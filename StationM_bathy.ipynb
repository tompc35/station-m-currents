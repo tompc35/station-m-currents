{
 "cells": [
  {
   "cell_type": "code",
   "execution_count": 1,
   "metadata": {},
   "outputs": [],
   "source": [
    "%matplotlib widget\n",
    "import numpy as np\n",
    "import matplotlib.pyplot as plt\n",
    "import xarray as xr\n",
    "import gsw\n",
    "from oceans import cor_beta"
   ]
  },
  {
   "cell_type": "code",
   "execution_count": 2,
   "metadata": {},
   "outputs": [],
   "source": [
    "bathy_nc = '/Users/tomconnolly/work/Data/bathy/CRM/etopo1_bedrock_westcoast.nc'"
   ]
  },
  {
   "cell_type": "code",
   "execution_count": 3,
   "metadata": {},
   "outputs": [],
   "source": [
    "b = xr.open_dataset(bathy_nc)"
   ]
  },
  {
   "cell_type": "code",
   "execution_count": 4,
   "metadata": {},
   "outputs": [
    {
     "data": {
      "text/plain": [
       "<xarray.Dataset>\n",
       "Dimensions:  (lat: 1261, lon: 1201)\n",
       "Coordinates:\n",
       "  * lat      (lat) float64 30.0 30.02 30.03 30.05 ... 50.95 50.97 50.98 51.0\n",
       "  * lon      (lon) float64 -135.0 -135.0 -135.0 -134.9 ... -115.0 -115.0 -115.0\n",
       "Data variables:\n",
       "    crs      |S1 ...\n",
       "    Band1    (lat, lon) float32 ...\n",
       "Attributes:\n",
       "    GDAL_TIFFTAG_RESOLUTIONUNIT:  2\n",
       "    GDAL_TIFFTAG_XRESOLUTION:     72.0\n",
       "    GDAL_TIFFTAG_YRESOLUTION:     72.0\n",
       "    Conventions:                  CF-1.5\n",
       "    GDAL:                         GDAL 2.1.2, released 2016/10/24\n",
       "    history:                      Tue Aug 08 14:46:53 2017: GDAL CreateCopy( ..."
      ]
     },
     "execution_count": 4,
     "metadata": {},
     "output_type": "execute_result"
    }
   ],
   "source": [
    "b"
   ]
  },
  {
   "cell_type": "code",
   "execution_count": 5,
   "metadata": {},
   "outputs": [],
   "source": [
    "mlon = -123\n",
    "#mlat = 34+50/60\n",
    "mlat = 35+8.5/60"
   ]
  },
  {
   "cell_type": "code",
   "execution_count": 6,
   "metadata": {},
   "outputs": [],
   "source": [
    "b['h'] = b.Band1"
   ]
  },
  {
   "cell_type": "code",
   "execution_count": 8,
   "metadata": {},
   "outputs": [],
   "source": [
    "ii = int(np.argmin(np.abs(b.lat-mlat)))\n",
    "jj = int(np.argmin(np.abs(b.lon-mlon)))"
   ]
  },
  {
   "cell_type": "code",
   "execution_count": 9,
   "metadata": {},
   "outputs": [
    {
     "data": {
      "application/vnd.jupyter.widget-view+json": {
       "model_id": "d725808fbd004055920f3870c6d9714d",
       "version_major": 2,
       "version_minor": 0
      },
      "text/plain": [
       "FigureCanvasNbAgg()"
      ]
     },
     "metadata": {},
     "output_type": "display_data"
    },
    {
     "data": {
      "text/plain": [
       "(33, 36)"
      ]
     },
     "execution_count": 9,
     "metadata": {},
     "output_type": "execute_result"
    }
   ],
   "source": [
    "plt.figure()\n",
    "plt.contour(b.lon,b.lat,b.h,np.arange(-4500,-3000,50))\n",
    "plt.plot(mlon,mlat,'ro')\n",
    "si = 8\n",
    "plt.plot(b.lon[jj-si],b.lat[ii+si],'rx')\n",
    "plt.plot(b.lon[jj+si],b.lat[ii-si],'rx')\n",
    "plt.xlim([-124,-122])\n",
    "plt.ylim([33,36])"
   ]
  },
  {
   "cell_type": "code",
   "execution_count": 10,
   "metadata": {},
   "outputs": [
    {
     "data": {
      "text/plain": [
       "<xarray.DataArray 'h' ()>\n",
       "array(-3962., dtype=float32)\n",
       "Coordinates:\n",
       "    lat      float64 35.13\n",
       "    lon      float64 -123.0\n",
       "Attributes:\n",
       "    long_name:     GDAL Band Number 1\n",
       "    grid_mapping:  crs"
      ]
     },
     "execution_count": 10,
     "metadata": {},
     "output_type": "execute_result"
    }
   ],
   "source": [
    "b.h[ii,jj]"
   ]
  },
  {
   "cell_type": "code",
   "execution_count": 28,
   "metadata": {},
   "outputs": [],
   "source": [
    "sepi = 3\n",
    "dhdx = -(b.h[ii,jj+sepi]-b.h[ii,jj-sepi])/(111000*(b.lon[jj+sepi]-b.lon[jj-sepi])*np.cos(mlat*np.pi/180))\n",
    "dhdy = -(b.h[ii+sepi,jj]-b.h[ii-sepi,jj])/(111000*(b.lat[ii+sepi]-b.lat[ii-sepi]))"
   ]
  },
  {
   "cell_type": "code",
   "execution_count": 29,
   "metadata": {},
   "outputs": [
    {
     "data": {
      "text/plain": [
       "<xarray.DataArray 'h' ()>\n",
       "array(-3960., dtype=float32)\n",
       "Coordinates:\n",
       "    lat      float64 35.18\n",
       "    lon      float64 -123.0\n",
       "Attributes:\n",
       "    long_name:     GDAL Band Number 1\n",
       "    grid_mapping:  crs"
      ]
     },
     "execution_count": 29,
     "metadata": {},
     "output_type": "execute_result"
    }
   ],
   "source": [
    "b.h[ii+sepi,jj]"
   ]
  },
  {
   "cell_type": "code",
   "execution_count": 30,
   "metadata": {},
   "outputs": [
    {
     "name": "stdout",
     "output_type": "stream",
     "text": [
      "-0.0005508538383998974\n",
      "-0.0025225225225224863\n",
      "0.002581968208153057\n"
     ]
    },
    {
     "data": {
      "text/plain": [
       "array(0.1)"
      ]
     },
     "execution_count": 30,
     "metadata": {},
     "output_type": "execute_result"
    }
   ],
   "source": [
    "print(np.array(dhdx))\n",
    "print(np.array(dhdy))\n",
    "print(np.array(np.sqrt(dhdx**2+dhdy**2)))\n",
    "np.array(b.lat[ii+sepi]-b.lat[ii-sepi])"
   ]
  },
  {
   "cell_type": "code",
   "execution_count": 31,
   "metadata": {},
   "outputs": [
    {
     "data": {
      "text/plain": [
       "<xarray.DataArray 'lat' (lat: 1261)>\n",
       "array([30.      , 30.016667, 30.033333, ..., 50.966667, 50.983333, 51.      ])\n",
       "Coordinates:\n",
       "  * lat      (lat) float64 30.0 30.02 30.03 30.05 ... 50.95 50.97 50.98 51.0\n",
       "Attributes:\n",
       "    standard_name:  latitude\n",
       "    long_name:      latitude\n",
       "    units:          degrees_north"
      ]
     },
     "execution_count": 31,
     "metadata": {},
     "output_type": "execute_result"
    }
   ],
   "source": [
    "b.lat"
   ]
  },
  {
   "cell_type": "code",
   "execution_count": 32,
   "metadata": {},
   "outputs": [],
   "source": [
    "f = gsw.f(mlat)\n",
    "beta = np.array(cor_beta(mlat))\n",
    "H = np.abs(b.h[ii,jj])"
   ]
  },
  {
   "cell_type": "code",
   "execution_count": 33,
   "metadata": {},
   "outputs": [
    {
     "data": {
      "text/plain": [
       "array(1.87191296e-11)"
      ]
     },
     "execution_count": 33,
     "metadata": {},
     "output_type": "execute_result"
    }
   ],
   "source": [
    "np.array(beta)"
   ]
  },
  {
   "cell_type": "code",
   "execution_count": 34,
   "metadata": {},
   "outputs": [
    {
     "data": {
      "text/plain": [
       "array(5.34471963e-11)"
      ]
     },
     "execution_count": 34,
     "metadata": {},
     "output_type": "execute_result"
    }
   ],
   "source": [
    "np.array(-dhdy*f/H)"
   ]
  },
  {
   "cell_type": "code",
   "execution_count": 35,
   "metadata": {},
   "outputs": [],
   "source": [
    "beta_eff = H*np.array(np.sqrt(((beta/H-dhdy*f/H**2)**2 + (-dhdx*f/H**2)**2)))"
   ]
  },
  {
   "cell_type": "code",
   "execution_count": 36,
   "metadata": {},
   "outputs": [
    {
     "data": {
      "text/plain": [
       "<xarray.DataArray 'h' ()>\n",
       "array(7.310405e-11)\n",
       "Coordinates:\n",
       "    lat      float64 35.13\n",
       "    lon      float64 -123.0"
      ]
     },
     "execution_count": 36,
     "metadata": {},
     "output_type": "execute_result"
    }
   ],
   "source": [
    "beta_eff"
   ]
  },
  {
   "cell_type": "code",
   "execution_count": 37,
   "metadata": {},
   "outputs": [
    {
     "data": {
      "text/plain": [
       "<xarray.DataArray 'lat' ()>\n",
       "array(22200.)"
      ]
     },
     "execution_count": 37,
     "metadata": {},
     "output_type": "execute_result"
    }
   ],
   "source": [
    "(111000*(b.lat[ii+6]-b.lat[ii-6]))"
   ]
  },
  {
   "cell_type": "code",
   "execution_count": 38,
   "metadata": {},
   "outputs": [
    {
     "data": {
      "text/plain": [
       "<xarray.DataArray 'lat' ()>\n",
       "array(0.266667)"
      ]
     },
     "execution_count": 38,
     "metadata": {},
     "output_type": "execute_result"
    }
   ],
   "source": [
    "(b.lat[ii+8]-b.lat[ii-8])"
   ]
  },
  {
   "cell_type": "code",
   "execution_count": 40,
   "metadata": {},
   "outputs": [
    {
     "name": "stdout",
     "output_type": "stream",
     "text": [
      "0.03333333333333144\n",
      "1.5756166753289318e-10\n",
      "0.06666666666666288\n",
      "1.0799174393642469e-10\n",
      "0.10000000000000142\n",
      "7.310405082010148e-11\n",
      "0.13333333333333286\n",
      "1.0231739493795169e-10\n",
      "0.1666666666666714\n",
      "1.3173297040643642e-10\n",
      "0.20000000000000284\n",
      "1.6769635105403355e-10\n",
      "0.23333333333333428\n",
      "1.720503871106645e-10\n",
      "0.2666666666666657\n",
      "1.6442296141047042e-10\n",
      "0.29999999999999716\n",
      "1.1677048488685257e-10\n",
      "0.3333333333333286\n",
      "9.144817451993366e-11\n",
      "0.36666666666666714\n",
      "8.743927103295816e-11\n",
      "0.3999999999999986\n",
      "1.1750245050897986e-10\n",
      "0.4333333333333371\n",
      "1.4074659482271918e-10\n",
      "0.46666666666666856\n",
      "1.659723629618875e-10\n",
      "0.5\n",
      "1.9439918965591515e-10\n",
      "0.5333333333333314\n",
      "2.0017761158641312e-10\n",
      "0.5666666666666629\n",
      "1.9928717048995526e-10\n",
      "0.6000000000000014\n",
      "1.9179255499615705e-10\n",
      "0.6333333333333329\n",
      "1.7695710228742745e-10\n",
      "0.6666666666666714\n",
      "1.5959681408759083e-10\n",
      "0.7000000000000028\n",
      "1.4830077255512042e-10\n",
      "0.7333333333333343\n",
      "1.4323061553491103e-10\n",
      "0.7666666666666657\n",
      "1.197259225306942e-10\n",
      "0.7999999999999972\n",
      "8.79784954169961e-11\n",
      "0.8333333333333286\n",
      "7.308699917366763e-11\n",
      "0.8666666666666671\n",
      "7.634166984908471e-11\n",
      "0.8999999999999986\n",
      "8.526188557019664e-11\n",
      "0.9333333333333371\n",
      "8.71926658554287e-11\n",
      "0.9666666666666686\n",
      "1.138368986268271e-10\n",
      "1.0\n",
      "1.354436107840955e-10\n",
      "1.0333333333333314\n",
      "1.5332156569270714e-10\n",
      "1.0666666666666629\n",
      "1.632371933881175e-10\n"
     ]
    }
   ],
   "source": [
    "for sepi in range(1,33):\n",
    "    dhdx = -(b.h[ii,jj+sepi]-b.h[ii,jj-sepi])/(111000*(b.lon[jj+sepi]-b.lon[jj-sepi])*np.cos(mlat*np.pi/180))\n",
    "    dhdy = -(b.h[ii+sepi,jj]-b.h[ii-sepi,jj])/(111000*(b.lat[ii+sepi]-b.lat[ii-sepi]))\n",
    "    #print('dhdx',np.array(dhdx))\n",
    "    #print('dhdy',np.array(dhdy))\n",
    "    #print(np.array(np.sqrt(dhdx**2+dhdy**2)))\n",
    "    print(np.array(b.lat[ii+sepi]-b.lat[ii-sepi]))\n",
    "    print(np.array(H*np.array(np.sqrt(((beta/H-dhdy*f/H**2)**2 + (-dhdx*f/H**2)**2)))))"
   ]
  },
  {
   "cell_type": "code",
   "execution_count": null,
   "metadata": {},
   "outputs": [],
   "source": []
  },
  {
   "cell_type": "code",
   "execution_count": null,
   "metadata": {},
   "outputs": [],
   "source": []
  }
 ],
 "metadata": {
  "kernelspec": {
   "display_name": "Python [conda env:py37]",
   "language": "python",
   "name": "conda-env-py37-py"
  },
  "language_info": {
   "codemirror_mode": {
    "name": "ipython",
    "version": 3
   },
   "file_extension": ".py",
   "mimetype": "text/x-python",
   "name": "python",
   "nbconvert_exporter": "python",
   "pygments_lexer": "ipython3",
   "version": "3.7.2"
  }
 },
 "nbformat": 4,
 "nbformat_minor": 2
}
