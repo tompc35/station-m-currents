{
 "cells": [
  {
   "cell_type": "code",
   "execution_count": 32,
   "metadata": {},
   "outputs": [],
   "source": [
    "%matplotlib widget\n",
    "import numpy as np\n",
    "import pandas as pd\n",
    "import matplotlib.pyplot as plt\n",
    "import xarray as xr\n",
    "from physoce.util import haversine\n",
    "from airsea.windstress import stress\n",
    "from glob import glob\n",
    "import gsw\n",
    "import os.path"
   ]
  },
  {
   "cell_type": "markdown",
   "metadata": {},
   "source": [
    "Adapted from https://github.com/pyoceans/python-oceans/blob/master/oceans/sw_extras/sw_extras.py\n",
    "\n",
    "Check sw_extras since latitude should be multiplied by a factor of pi/180"
   ]
  },
  {
   "cell_type": "code",
   "execution_count": 22,
   "metadata": {},
   "outputs": [],
   "source": [
    "def cor_beta(lat):\n",
    "    omega = 7.2921e-5\n",
    "    earth_radius = 6.371e6\n",
    "    return 2 * omega * np.cos(lat*np.pi/180) / earth_radius"
   ]
  },
  {
   "cell_type": "markdown",
   "metadata": {},
   "source": [
    "### Load data\n",
    "\n",
    "#### Rover"
   ]
  },
  {
   "cell_type": "code",
   "execution_count": 2,
   "metadata": {},
   "outputs": [],
   "source": [
    "# Load data\n",
    "rover_csv_file = 'data/Rover_II_Current_Mag_Hourly_Avg_pad_2018.csv'\n",
    "df = pd.read_csv(rover_csv_file,parse_dates=[7])\n",
    "\n",
    "# Datetime index\n",
    "df = df.set_index('Date_time_R')\n",
    "\n",
    "# Create u and v components with units m/s\n",
    "df['u'] = df['Easting (cm/sec)']/100\n",
    "df['v'] = df['Northing (cm/sec)']/100"
   ]
  },
  {
   "cell_type": "markdown",
   "metadata": {},
   "source": [
    "#### NCEP-NARR"
   ]
  },
  {
   "cell_type": "code",
   "execution_count": 43,
   "metadata": {},
   "outputs": [
    {
     "name": "stderr",
     "output_type": "stream",
     "text": [
      "/Users/tomconnolly/programs/anaconda/envs/py37/lib/python3.7/site-packages/xarray/conventions.py:362: SerializationWarning: variable 'uwnd' has multiple fill values {9.96921e+36, -9.96921e+36}, decoding all values to NaN.\n",
      "  stack_char_dim=stack_char_dim)\n",
      "/Users/tomconnolly/programs/anaconda/envs/py37/lib/python3.7/site-packages/xarray/conventions.py:362: SerializationWarning: variable 'uwnd' has multiple fill values {9.96921e+36, -9.96921e+36}, decoding all values to NaN.\n",
      "  stack_char_dim=stack_char_dim)\n",
      "/Users/tomconnolly/programs/anaconda/envs/py37/lib/python3.7/site-packages/xarray/conventions.py:362: SerializationWarning: variable 'uwnd' has multiple fill values {9.96921e+36, -9.96921e+36}, decoding all values to NaN.\n",
      "  stack_char_dim=stack_char_dim)\n",
      "/Users/tomconnolly/programs/anaconda/envs/py37/lib/python3.7/site-packages/xarray/conventions.py:362: SerializationWarning: variable 'uwnd' has multiple fill values {9.96921e+36, -9.96921e+36}, decoding all values to NaN.\n",
      "  stack_char_dim=stack_char_dim)\n",
      "/Users/tomconnolly/programs/anaconda/envs/py37/lib/python3.7/site-packages/xarray/conventions.py:362: SerializationWarning: variable 'vwnd' has multiple fill values {9.96921e+36, -9.96921e+36}, decoding all values to NaN.\n",
      "  stack_char_dim=stack_char_dim)\n",
      "/Users/tomconnolly/programs/anaconda/envs/py37/lib/python3.7/site-packages/xarray/conventions.py:362: SerializationWarning: variable 'vwnd' has multiple fill values {9.96921e+36, -9.96921e+36}, decoding all values to NaN.\n",
      "  stack_char_dim=stack_char_dim)\n",
      "/Users/tomconnolly/programs/anaconda/envs/py37/lib/python3.7/site-packages/xarray/conventions.py:362: SerializationWarning: variable 'vwnd' has multiple fill values {9.96921e+36, -9.96921e+36}, decoding all values to NaN.\n",
      "  stack_char_dim=stack_char_dim)\n",
      "/Users/tomconnolly/programs/anaconda/envs/py37/lib/python3.7/site-packages/xarray/conventions.py:362: SerializationWarning: variable 'vwnd' has multiple fill values {9.96921e+36, -9.96921e+36}, decoding all values to NaN.\n",
      "  stack_char_dim=stack_char_dim)\n"
     ]
    }
   ],
   "source": [
    "narr_dir = '/Users/tomconnolly/work/Data/NCEP-NARR/'\n",
    "\n",
    "u_file_list = sorted(glob(os.path.join(narr_dir,'uwnd.10m.*.nc')))\n",
    "v_file_list = sorted(glob(os.path.join(narr_dir,'vwnd.10m.*.nc')))\n",
    "\n",
    "u = xr.open_mfdataset(u_file_list)\n",
    "v = xr.open_mfdataset(v_file_list)"
   ]
  },
  {
   "cell_type": "markdown",
   "metadata": {},
   "source": [
    "### Station M location"
   ]
  },
  {
   "cell_type": "code",
   "execution_count": 44,
   "metadata": {},
   "outputs": [],
   "source": [
    "mlat = 35+8.4585/60  \n",
    "mlon = -122-59.9036/60"
   ]
  },
  {
   "cell_type": "markdown",
   "metadata": {},
   "source": [
    "#### Find NCEP-NARR indices of nearest point to Station M"
   ]
  },
  {
   "cell_type": "code",
   "execution_count": 45,
   "metadata": {},
   "outputs": [],
   "source": [
    "dist = np.array(np.sqrt(((mlat-u['lat'])*111)**2 + ((mlon-u['lon'])*np.cos(mlat*np.pi/180)*111)**2))"
   ]
  },
  {
   "cell_type": "code",
   "execution_count": 46,
   "metadata": {},
   "outputs": [],
   "source": [
    "idx = np.argmin(dist,axis=None)\n",
    "ii,jj = np.unravel_index(idx,np.shape(dist))"
   ]
  },
  {
   "cell_type": "markdown",
   "metadata": {},
   "source": [
    "#### Compute wind stress curl"
   ]
  },
  {
   "cell_type": "code",
   "execution_count": 47,
   "metadata": {},
   "outputs": [],
   "source": [
    "dx = np.array(v['x'][jj+1] - v['x'][jj-1])\n",
    "dy = np.array(u['y'][ii+1] - u['y'][ii-1])\n",
    "\n",
    "f = np.array(gsw.f(u['lat']))\n",
    "rho = 1045\n",
    "\n",
    "beta = np.array(cor_beta(u['lat'][ii,jj]))\n",
    "H = 4000"
   ]
  },
  {
   "cell_type": "markdown",
   "metadata": {},
   "source": [
    "Forcing term in Koblinsky et al."
   ]
  },
  {
   "cell_type": "code",
   "execution_count": 48,
   "metadata": {},
   "outputs": [],
   "source": [
    "curl_tau_F = f[ii,jj]*((1/dx)*(stress(np.squeeze(v['vwnd'][:,ii,jj+1]))/(rho*f[ii,jj+1]) - \n",
    "                           stress(np.squeeze(v['vwnd'][:,ii,jj-1]))/(rho*f[ii,jj-1])) - \n",
    "           (1/dy)*(stress(np.squeeze(u['uwnd'][:,ii+1,jj]))/(rho*f[ii+1,jj]) - \n",
    "                   stress(np.squeeze(u['uwnd'][:,ii-1,jj]))/(rho*f[ii-1,jj])))"
   ]
  },
  {
   "cell_type": "code",
   "execution_count": 49,
   "metadata": {},
   "outputs": [
    {
     "data": {
      "text/plain": [
       "<xarray.DataArray 'lat' ()>\n",
       "array(35.28079, dtype=float32)\n",
       "Coordinates:\n",
       "    lat      float32 35.28079\n",
       "    lon      float32 -122.9061\n",
       "    y        float32 3116448.0\n",
       "    x        float32 4155264.0\n",
       "Attributes:\n",
       "    axis:                Y\n",
       "    coordinate_defines:  point\n",
       "    long_name:           Latitude\n",
       "    standard_name:       latitude\n",
       "    units:               degrees_north"
      ]
     },
     "execution_count": 49,
     "metadata": {},
     "output_type": "execute_result"
    }
   ],
   "source": [
    "u['lat'][ii,jj]"
   ]
  },
  {
   "cell_type": "code",
   "execution_count": 50,
   "metadata": {},
   "outputs": [
    {
     "data": {
      "application/vnd.jupyter.widget-view+json": {
       "model_id": "44189c02869349089a4e0b53777e46a6",
       "version_major": 2,
       "version_minor": 0
      },
      "text/plain": [
       "FigureCanvasNbAgg()"
      ]
     },
     "metadata": {},
     "output_type": "display_data"
    },
    {
     "data": {
      "text/plain": [
       "[<matplotlib.lines.Line2D at 0x3240f9198>]"
      ]
     },
     "execution_count": 50,
     "metadata": {},
     "output_type": "execute_result"
    }
   ],
   "source": [
    "plt.figure()\n",
    "plt.plot(u['time'],np.squeeze(u['uwnd'][:,ii,jj]))\n",
    "plt.plot(v['time'],np.squeeze(v['vwnd'][:,ii,jj]))"
   ]
  },
  {
   "cell_type": "markdown",
   "metadata": {},
   "source": [
    "Wind stress curl"
   ]
  },
  {
   "cell_type": "code",
   "execution_count": 51,
   "metadata": {},
   "outputs": [
    {
     "data": {
      "application/vnd.jupyter.widget-view+json": {
       "model_id": "5081ffb1ffa84e5298cc4dc091381ab5",
       "version_major": 2,
       "version_minor": 0
      },
      "text/plain": [
       "FigureCanvasNbAgg()"
      ]
     },
     "metadata": {},
     "output_type": "display_data"
    },
    {
     "data": {
      "text/plain": [
       "[<matplotlib.lines.Line2D at 0x3240378d0>]"
      ]
     },
     "execution_count": 51,
     "metadata": {},
     "output_type": "execute_result"
    }
   ],
   "source": [
    "plt.figure()\n",
    "plt.plot(u['time'],curl_tau_F/(beta*H))"
   ]
  },
  {
   "cell_type": "code",
   "execution_count": 58,
   "metadata": {},
   "outputs": [
    {
     "data": {
      "application/vnd.jupyter.widget-view+json": {
       "model_id": "c157df1ed1584527b3890ae355a9261e",
       "version_major": 2,
       "version_minor": 0
      },
      "text/plain": [
       "FigureCanvasNbAgg()"
      ]
     },
     "metadata": {},
     "output_type": "display_data"
    },
    {
     "data": {
      "text/plain": [
       "[<matplotlib.lines.Line2D at 0x3240ed2b0>]"
      ]
     },
     "execution_count": 58,
     "metadata": {},
     "output_type": "execute_result"
    }
   ],
   "source": [
    "plt.figure()\n",
    "plt.plot(u['time'],curl_tau_F/(beta*H)*10)\n",
    "plt.plot(df.index,df['u'])"
   ]
  },
  {
   "cell_type": "code",
   "execution_count": null,
   "metadata": {},
   "outputs": [],
   "source": []
  }
 ],
 "metadata": {
  "kernelspec": {
   "display_name": "Python [conda env:py37]",
   "language": "python",
   "name": "conda-env-py37-py"
  },
  "language_info": {
   "codemirror_mode": {
    "name": "ipython",
    "version": 3
   },
   "file_extension": ".py",
   "mimetype": "text/x-python",
   "name": "python",
   "nbconvert_exporter": "python",
   "pygments_lexer": "ipython3",
   "version": "3.7.2"
  }
 },
 "nbformat": 4,
 "nbformat_minor": 2
}
